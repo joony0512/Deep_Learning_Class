{
  "nbformat": 4,
  "nbformat_minor": 0,
  "metadata": {
    "colab": {
      "provenance": [],
      "authorship_tag": "ABX9TyNxaRI1+kP8JWbQTFrg4KY0",
      "include_colab_link": true
    },
    "kernelspec": {
      "name": "python3",
      "display_name": "Python 3"
    },
    "language_info": {
      "name": "python"
    }
  },
  "cells": [
    {
      "cell_type": "markdown",
      "metadata": {
        "id": "view-in-github",
        "colab_type": "text"
      },
      "source": [
        "<a href=\"https://colab.research.google.com/github/joony0512/Deep_Learning_Class/blob/main/Part10/P10_Ch02_CH01.ipynb\" target=\"_parent\"><img src=\"https://colab.research.google.com/assets/colab-badge.svg\" alt=\"Open In Colab\"/></a>"
      ]
    },
    {
      "cell_type": "markdown",
      "source": [
        "# Image Localization & 성능개선\n",
        "- Oxford-IIIT Pet dataset은 37종의 개, 고양이로 구성된 dataset입니다.\n",
        "- 파일은 하나의 압축파일로 구성되며 압축파일은 다음과 같이 구성되어 있습니다.\n",
        "- 모든 데이터의 이름은 class_name.(확장자)로 구성되어 있으며 class_name의 첫 알파벳이 대문자이면 '고양이', 소문자이면 '개'입니다.\n",
        "\n",
        "1. images\n",
        "  - image 데이터들이 포함되어 있음\n",
        "  - 확장자는 모두 jpg임\n",
        "  - RGB이미지 외에도 Gray scale이나 RGBA 이미지도 함께 포함되어 있음\n",
        "2. annotations/xmls\n",
        "  - localization을 위한 bounding-box 위치 정보가 포함되어 있음\n",
        "  - image의 width, height 등 기타 다른 정보도 함께 저장되어 있음\n",
        "  - 확장자는 모두 xml임\n",
        "3. annotations/trimaps\n",
        "  - segmentation을 위한 segmentation map이 포함되어 있음\n",
        "  - 확장자는 모두 png임\n",
        "  "
      ],
      "metadata": {
        "id": "epono2Duk2lj"
      }
    },
    {
      "cell_type": "markdown",
      "source": [
        "- localization / multitask learning 성능향상 방법"
      ],
      "metadata": {
        "id": "ICe7b3fDlFg-"
      }
    },
    {
      "cell_type": "markdown",
      "source": [
        "# 1. 데이터 다운로드 / 전처리"
      ],
      "metadata": {
        "id": "W5QmHKqGlPbS"
      }
    },
    {
      "cell_type": "code",
      "execution_count": 1,
      "metadata": {
        "id": "h-oEHFY2kkvg"
      },
      "outputs": [],
      "source": [
        "import tensorflow as tf\n",
        "from tensorflow import keras\n",
        "import numpy as np\n",
        "import os\n",
        "import re\n",
        "from PIL import Image\n",
        "import shutil\n",
        "import xml.etree.ElementTree as et\n",
        "from sklearn.model_selection import train_test_split\n",
        "import random\n",
        "import matplotlib.pyplot as plt\n",
        "from matplotlib.patches import Rectangle\n",
        "import gdown"
      ]
    },
    {
      "cell_type": "code",
      "source": [
        "data_url = \"https://drive.google.com/uc?id=1dIR9ANjUsV9dWa0pS9J0c2KUGMfpIRG0\""
      ],
      "metadata": {
        "id": "dgL-0560l5Zj"
      },
      "execution_count": 2,
      "outputs": []
    },
    {
      "cell_type": "code",
      "source": [
        "gdown.download(data_url, 'oxford_pet.zip', quiet=False)\n",
        "!unzip -q oxford_pet.zip -d oxford_pet"
      ],
      "metadata": {
        "colab": {
          "base_uri": "https://localhost:8080/"
        },
        "id": "AMeISQNJmD-q",
        "outputId": "5629b04d-dfe6-490e-a198-c467f291c92b"
      },
      "execution_count": 3,
      "outputs": [
        {
          "output_type": "stream",
          "name": "stderr",
          "text": [
            "Downloading...\n",
            "From: https://drive.google.com/uc?id=1dIR9ANjUsV9dWa0pS9J0c2KUGMfpIRG0\n",
            "To: /content/oxford_pet.zip\n",
            "100%|██████████| 811M/811M [00:09<00:00, 84.6MB/s]\n"
          ]
        }
      ]
    },
    {
      "cell_type": "code",
      "source": [
        "# directory 정보\n",
        "## image data : images -> jpg -> n_images\n",
        "## bounding box : annotations/xmls -> xml -> n_bboxes\n",
        "\n",
        "cur_dir = os.getcwd()\n",
        "data_dir = os.path.join(cur_dir, 'oxford_pet')\n",
        "image_dir = os.path.join(data_dir, 'images')\n",
        "bbox_dir = os.path.join(data_dir, 'annotations','xmls')"
      ],
      "metadata": {
        "id": "3D9nmrL7mPF8"
      },
      "execution_count": 4,
      "outputs": []
    },
    {
      "cell_type": "code",
      "source": [
        "# image file 개수\n",
        "image_files =[fname for fname in os.listdir(image_dir) if os.path.splitext(fname)[-1] =='.jpg']\n",
        "n_images = len(image_files)\n",
        "print(n_images)"
      ],
      "metadata": {
        "colab": {
          "base_uri": "https://localhost:8080/"
        },
        "id": "0wy_xthcoDV6",
        "outputId": "e0184e45-2527-4842-8d0f-037057263817"
      },
      "execution_count": 5,
      "outputs": [
        {
          "output_type": "stream",
          "name": "stdout",
          "text": [
            "7390\n"
          ]
        }
      ]
    },
    {
      "cell_type": "code",
      "source": [
        "# localization을 위한 bounding box 정보가 있는 xml file의 수 확인\n",
        "bbox_files = [fname for fname in os.listdir(bbox_dir) if os.path.splitext(fname)[-1] =='.xml']\n",
        "n_bboxes = len(bbox_files)\n",
        "print(n_bboxes)"
      ],
      "metadata": {
        "colab": {
          "base_uri": "https://localhost:8080/"
        },
        "id": "pB6yc-_9o0rg",
        "outputId": "29c3def7-2a4f-405a-f854-4fdce3787822"
      },
      "execution_count": 6,
      "outputs": [
        {
          "output_type": "stream",
          "name": "stdout",
          "text": [
            "3686\n"
          ]
        }
      ]
    },
    {
      "cell_type": "markdown",
      "source": [
        "- head ROI가 있는 이미지가 3686개밖에 없으므로 이미지도 3686개만 사용"
      ],
      "metadata": {
        "id": "a37OivBQqcOW"
      }
    },
    {
      "cell_type": "code",
      "source": [],
      "metadata": {
        "id": "HGPdwhSFqYNH"
      },
      "execution_count": null,
      "outputs": []
    }
  ]
}