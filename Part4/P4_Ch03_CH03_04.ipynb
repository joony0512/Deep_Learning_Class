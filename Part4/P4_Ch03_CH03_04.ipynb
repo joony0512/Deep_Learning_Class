{
  "nbformat": 4,
  "nbformat_minor": 0,
  "metadata": {
    "colab": {
      "provenance": [],
      "authorship_tag": "ABX9TyPhQYwvTwVv/26cYQj1/j2x",
      "include_colab_link": true
    },
    "kernelspec": {
      "name": "python3",
      "display_name": "Python 3"
    },
    "language_info": {
      "name": "python"
    }
  },
  "cells": [
    {
      "cell_type": "markdown",
      "metadata": {
        "id": "view-in-github",
        "colab_type": "text"
      },
      "source": [
        "<a href=\"https://colab.research.google.com/github/joony0512/Deep_Learning_Class/blob/main/Part4/P4_Ch03_CH03_04.ipynb\" target=\"_parent\"><img src=\"https://colab.research.google.com/assets/colab-badge.svg\" alt=\"Open In Colab\"/></a>"
      ]
    },
    {
      "cell_type": "code",
      "execution_count": 14,
      "metadata": {
        "id": "c0lRIVSQqzIl"
      },
      "outputs": [],
      "source": [
        "import tensorflow as tf\n",
        "import numpy as np\n",
        "from tensorflow import keras\n",
        "import matplotlib.pyplot as plt"
      ]
    },
    {
      "cell_type": "code",
      "source": [
        "def create_seq_model():\n",
        "  model = keras.Sequential()\n",
        "  model.add(keras.layers.Flatten(input_shape = (28,28))) # mlp에 들어오려면 일자로 쭉 펴져야함 -> flatten으로 벡터화\n",
        "  model.add(keras.layers.Dense(128, activation = 'relu')) #layer 1\n",
        "  model.add(keras.layers.Dropout(0.2))  #overfitting방지\n",
        "  model.add(keras.layers.Dense(10, activation = 'softmax')) #layer 2면서 output layer\n",
        "  return model"
      ],
      "metadata": {
        "id": "jXF3Ok4Bs7WI"
      },
      "execution_count": 15,
      "outputs": []
    },
    {
      "cell_type": "code",
      "source": [
        "seq_model = create_seq_model()"
      ],
      "metadata": {
        "id": "v_13NFbfs9pa"
      },
      "execution_count": 16,
      "outputs": []
    },
    {
      "cell_type": "code",
      "source": [
        "mnist = keras.datasets.fashion_mnist\n",
        "class_names = ['T-shirt/top', 'Trouser', 'Pullover', 'Dress', 'Coat', 'Sandal','Sneaker', 'Shirt', 'Bag', 'Ankle boot']\n",
        "\n",
        "(train_images, train_labels), (test_images, test_labels) = mnist.load_data()"
      ],
      "metadata": {
        "id": "PGdLn-OjuELF"
      },
      "execution_count": 17,
      "outputs": []
    },
    {
      "cell_type": "code",
      "source": [
        "#image를 0-1사이 값으로 만들기 위하여 255로 나누어줌\n",
        "train_images = train_images.astype(np.float32)/ 255.\n",
        "test_images = test_images.astype(np.float32)/255.\n",
        "\n",
        "#one-hot encoding\n",
        "train_labels = keras.utils.to_categorical(train_labels, 10)\n",
        "test_labels = keras.utils.to_categorical(test_labels, 10)"
      ],
      "metadata": {
        "id": "iFBS57U-uFiO"
      },
      "execution_count": 18,
      "outputs": []
    },
    {
      "cell_type": "code",
      "source": [
        "train_dataset = tf.data.Dataset.from_tensor_slices((train_images, train_labels)).shuffle(\n",
        "    buffer_size = 100000).batch(64)\n",
        "    # train을 shuffle하지 않으면 학습이 끝날때마다 같은 순서의 데이터들이 들어감\n",
        "    # from_tensor_slices : 하나씩 가져오는거\n",
        "test_dataset = tf.data.Dataset.from_tensor_slices((test_images, test_labels)).batch(64)"
      ],
      "metadata": {
        "id": "XG4YR8CduFu6"
      },
      "execution_count": 19,
      "outputs": []
    },
    {
      "cell_type": "markdown",
      "source": [
        "# Training /Validation"
      ],
      "metadata": {
        "id": "1XflRlkQrVB5"
      }
    },
    {
      "cell_type": "markdown",
      "source": [
        "## Keras API사용"
      ],
      "metadata": {
        "id": "7cCUtoUdrmVt"
      }
    },
    {
      "cell_type": "code",
      "source": [
        "learning_rate = 0.001\n",
        "seq_model.compile(optimizer = tf.keras.optimizers.Adam(learning_rate),\n",
        "                  loss = 'categorical_crossentropy',\n",
        "                  metrics = ['accuracy'])"
      ],
      "metadata": {
        "id": "pU1iDf_8rlaw"
      },
      "execution_count": 20,
      "outputs": []
    },
    {
      "cell_type": "code",
      "source": [
        "history = seq_model.fit(train_dataset, epochs= 10, validation_data = test_dataset)"
      ],
      "metadata": {
        "colab": {
          "base_uri": "https://localhost:8080/"
        },
        "id": "Yer7kE7Hslzx",
        "outputId": "0ebc168e-fb34-4c12-c433-b1e5061ae073"
      },
      "execution_count": 22,
      "outputs": [
        {
          "output_type": "stream",
          "name": "stdout",
          "text": [
            "Epoch 1/10\n",
            "938/938 [==============================] - 6s 6ms/step - loss: 0.2806 - accuracy: 0.8965 - val_loss: 0.3366 - val_accuracy: 0.8776\n",
            "Epoch 2/10\n",
            "938/938 [==============================] - 6s 6ms/step - loss: 0.2725 - accuracy: 0.8984 - val_loss: 0.3292 - val_accuracy: 0.8830\n",
            "Epoch 3/10\n",
            "938/938 [==============================] - 5s 5ms/step - loss: 0.2667 - accuracy: 0.9004 - val_loss: 0.3221 - val_accuracy: 0.8877\n",
            "Epoch 4/10\n",
            "938/938 [==============================] - 6s 6ms/step - loss: 0.2650 - accuracy: 0.9013 - val_loss: 0.3278 - val_accuracy: 0.8852\n",
            "Epoch 5/10\n",
            "938/938 [==============================] - 5s 5ms/step - loss: 0.2598 - accuracy: 0.9023 - val_loss: 0.3282 - val_accuracy: 0.8863\n",
            "Epoch 6/10\n",
            "938/938 [==============================] - 5s 5ms/step - loss: 0.2549 - accuracy: 0.9047 - val_loss: 0.3209 - val_accuracy: 0.8879\n",
            "Epoch 7/10\n",
            "938/938 [==============================] - 6s 6ms/step - loss: 0.2506 - accuracy: 0.9056 - val_loss: 0.3287 - val_accuracy: 0.8860\n",
            "Epoch 8/10\n",
            "938/938 [==============================] - 6s 7ms/step - loss: 0.2433 - accuracy: 0.9084 - val_loss: 0.3246 - val_accuracy: 0.8857\n",
            "Epoch 9/10\n",
            "938/938 [==============================] - 5s 6ms/step - loss: 0.2444 - accuracy: 0.9091 - val_loss: 0.3411 - val_accuracy: 0.8807\n",
            "Epoch 10/10\n",
            "938/938 [==============================] - 6s 6ms/step - loss: 0.2374 - accuracy: 0.9098 - val_loss: 0.3288 - val_accuracy: 0.8839\n"
          ]
        }
      ]
    },
    {
      "cell_type": "code",
      "source": [
        "# Plot losses\n",
        "plt.plot(history.history['loss'], 'b-', label ='loss')\n",
        "plt.plot(history.history['val_loss'], 'r--', label = 'val_loss')\n",
        "plt.xlabel('Epoch')\n",
        "plt.legend()\n",
        "plt.show()"
      ],
      "metadata": {
        "colab": {
          "base_uri": "https://localhost:8080/",
          "height": 279
        },
        "id": "PDZ-jJmDuWmg",
        "outputId": "64a86e27-c2c4-42f9-bcd8-0e994fce8916"
      },
      "execution_count": 23,
      "outputs": [
        {
          "output_type": "display_data",
          "data": {
            "text/plain": [
              "<Figure size 432x288 with 1 Axes>"
            ],
            "image/png": "[encoded data removed]"
          },
          "metadata": {
            "needs_background": "light"
          }
        }
      ]
    },
    {
      "cell_type": "code",
      "source": [
        "# Plot Accuracy\n",
        "plt.plot(history.history['accuracy'], 'b-', label = 'acc')\n",
        "plt.plot(history.history['val_accuracy'], 'r--', label = 'val_acc')\n",
        "plt.xlabel('Epoch')\n",
        "plt.legend()\n",
        "plt.show()"
      ],
      "metadata": {
        "colab": {
          "base_uri": "https://localhost:8080/",
          "height": 279
        },
        "id": "UFryBP-gvQF0",
        "outputId": "68ac89bf-02d8-43d7-e572-d5b5a86d02d9"
      },
      "execution_count": 24,
      "outputs": [
        {
          "output_type": "display_data",
          "data": {
            "text/plain": [
              "<Figure size 432x288 with 1 Axes>"
            ],
            "image/png": "[encoded data removed]"
          },
          "metadata": {
            "needs_background": "light"
          }
        }
      ]
    },
    {
      "cell_type": "markdown",
      "source": [
        "## GradientTape사용"
      ],
      "metadata": {
        "id": "-_bn5vcqwALo"
      }
    },
    {
      "cell_type": "code",
      "source": [
        "# loss function\n",
        "loss_object = keras.losses.CategoricalCrossentropy()\n",
        "\n"
      ],
      "metadata": {
        "id": "vD-pT7qtvy6J"
      },
      "execution_count": 25,
      "outputs": []
    },
    {
      "cell_type": "code",
      "source": [
        "#optimizer\n",
        "learning_rate =0.001\n",
        "optimizer = keras.optimizers.Adam(learning_rate =learning_rate)\n"
      ],
      "metadata": {
        "id": "P9EF2x3AwUhl"
      },
      "execution_count": 26,
      "outputs": []
    },
    {
      "cell_type": "code",
      "source": [
        "# loss, accuracy 계산\n",
        "train_loss = keras.metrics.Mean(name = 'train_loss') #64개 배치들이 한 epoch를 돌때마다 평균내는것.\n",
        "train_accuracy = keras.metrics.CategoricalAccuracy(name = 'train_accuracy')\n",
        "\n",
        "test_loss = keras.metrics.Mean(name = 'test_loss')\n",
        "test_accuracy = keras.metrics.CategoricalAccuracy(name = 'test_accuracy')"
      ],
      "metadata": {
        "id": "WQXyJqrDwkDR"
      },
      "execution_count": 27,
      "outputs": []
    },
    {
      "cell_type": "code",
      "source": [
        "@tf.function   #decorater -> graph모드 : 속도 빠르게 해줌\n",
        "def train_step(model, images, labels):\n",
        "  with tf.GradientTape() as tape:\n",
        "    # GradientTape :backpropagation 해줌\n",
        "    predictions = model(images, training = True)\n",
        "    loss = loss_object(labels, predictions)\n",
        "  gradients = tape.gradient(loss, model.trainable_variables) # 뭐를 뭐로 나눌지 지정해야함 : loss를 trainable variables로 미분 -> model.trainable_variables에 모든 weight, bias들어있음\n",
        "  optimizer.apply_gradients(zip(gradients, model.trainable_variables))  # update\n",
        "\n",
        "  train_loss(loss)\n",
        "  train_accuracy(labels, predictions)"
      ],
      "metadata": {
        "id": "Mi4N--jcx3Uv"
      },
      "execution_count": 36,
      "outputs": []
    },
    {
      "cell_type": "code",
      "source": [
        "@tf.function\n",
        "def test_step(model, images, labels):\n",
        "  predictions = model(images, training=False)\n",
        "  t_loss = loss_object(labels, predictions)\n",
        "\n",
        "  test_loss(t_loss)\n",
        "  test_accuracy(labels, predictions)"
      ],
      "metadata": {
        "id": "nGVhHpl74SVt"
      },
      "execution_count": 37,
      "outputs": []
    },
    {
      "cell_type": "code",
      "source": [
        " #functional API\n",
        "def create_func_model(): \n",
        "  inputs = keras.Input(shape=(28,28))\n",
        "  flatten = keras.layers.Flatten()(inputs)  # sequential과 다르게 input이 뭔지 계속 알려줘야한다\n",
        "  dense = keras.layers.Dense(128, activation = 'relu')(flatten)\n",
        "  drop = keras.layers.Dropout(0.2)(dense)\n",
        "  outputs = keras.layers.Dense(10, activation = 'softmax')(drop)\n",
        "  model = keras.Model(inputs = inputs, outputs = outputs)\n",
        "  return model"
      ],
      "metadata": {
        "id": "z3J8AzOD3YPv"
      },
      "execution_count": 39,
      "outputs": []
    },
    {
      "cell_type": "code",
      "source": [
        "func_model = create_func_model()"
      ],
      "metadata": {
        "id": "bmO8P7cc3ba5"
      },
      "execution_count": 40,
      "outputs": []
    },
    {
      "cell_type": "code",
      "source": [
        "func_model.summary()"
      ],
      "metadata": {
        "colab": {
          "base_uri": "https://localhost:8080/"
        },
        "id": "gywDoGel3jyM",
        "outputId": "facbf448-54c5-4f54-be6b-7c0700715e5d"
      },
      "execution_count": 41,
      "outputs": [
        {
          "output_type": "stream",
          "name": "stdout",
          "text": [
            "Model: \"model_2\"\n",
            "_________________________________________________________________\n",
            " Layer (type)                Output Shape              Param #   \n",
            "=================================================================\n",
            " input_3 (InputLayer)        [(None, 28, 28)]          0         \n",
            "                                                                 \n",
            " flatten_4 (Flatten)         (None, 784)               0         \n",
            "                                                                 \n",
            " dense_8 (Dense)             (None, 128)               100480    \n",
            "                                                                 \n",
            " dropout_4 (Dropout)         (None, 128)               0         \n",
            "                                                                 \n",
            " dense_9 (Dense)             (None, 10)                1290      \n",
            "                                                                 \n",
            "=================================================================\n",
            "Total params: 101,770\n",
            "Trainable params: 101,770\n",
            "Non-trainable params: 0\n",
            "_________________________________________________________________\n"
          ]
        }
      ]
    },
    {
      "cell_type": "code",
      "source": [
        "# 실제 훈련\n",
        "\n",
        "EPOCHS = 10\n",
        "for epoch in range(EPOCHS):\n",
        "  # reset the metrics at the start on the next epoch\n",
        "  train_loss.reset_states()\n",
        "  train_accuracy.reset_states()\n",
        "\n",
        "  for images, labels in train_dataset:\n",
        "    train_step(func_model, images, labels)\n",
        "  for test_images, test_labels in test_dataset:\n",
        "    test_step(func_model, test_images, test_labels)\n",
        "\n",
        "  print(\n",
        "      f'Epoch: {epoch +1},'\n",
        "      f'Loss: {train_loss.result()},'\n",
        "      f'Accuracy:{train_accuracy.result()*100},'\n",
        "      f'Test Loss: {test_loss.result()},'\n",
        "      f'Test Accuracy: {test_accuracy.result()*100}'\n",
        "  )"
      ],
      "metadata": {
        "id": "1nq8agsPyqu8",
        "colab": {
          "base_uri": "https://localhost:8080/"
        },
        "outputId": "a3c6ed8b-e8ea-4fd6-bc20-1b3c1c0f8343"
      },
      "execution_count": 43,
      "outputs": [
        {
          "output_type": "stream",
          "name": "stdout",
          "text": [
            "Epoch: 1,Loss: 0.31920379400253296,Accuracy:88.27333068847656,Test Loss: 0.3783666491508484,Test Accuracy: 86.34166717529297\n",
            "Epoch: 2,Loss: 0.30873656272888184,Accuracy:88.72833251953125,Test Loss: 0.3737354874610901,Test Accuracy: 86.54857635498047\n",
            "Epoch: 3,Loss: 0.2978671193122864,Accuracy:88.94332885742188,Test Loss: 0.36938539147377014,Test Accuracy: 86.70750427246094\n",
            "Epoch: 4,Loss: 0.2909674346446991,Accuracy:89.18333435058594,Test Loss: 0.36673468351364136,Test Accuracy: 86.82555389404297\n",
            "Epoch: 5,Loss: 0.2826237380504608,Accuracy:89.5683364868164,Test Loss: 0.3632776439189911,Test Accuracy: 86.92900085449219\n",
            "Epoch: 6,Loss: 0.2771906554698944,Accuracy:89.70999908447266,Test Loss: 0.36102160811424255,Test Accuracy: 87.05181884765625\n",
            "Epoch: 7,Loss: 0.2723610997200012,Accuracy:89.87332916259766,Test Loss: 0.35789015889167786,Test Accuracy: 87.15833282470703\n",
            "Epoch: 8,Loss: 0.2673262059688568,Accuracy:90.0633316040039,Test Loss: 0.35624998807907104,Test Accuracy: 87.22846221923828\n",
            "Epoch: 9,Loss: 0.2596363127231598,Accuracy:90.30166625976562,Test Loss: 0.3536284863948822,Test Accuracy: 87.33642578125\n",
            "Epoch: 10,Loss: 0.2560202479362488,Accuracy:90.47666931152344,Test Loss: 0.3517494201660156,Test Accuracy: 87.41400146484375\n"
          ]
        }
      ]
    },
    {
      "cell_type": "code",
      "source": [],
      "metadata": {
        "id": "HRyqvVfl3yRg"
      },
      "execution_count": null,
      "outputs": []
    }
  ]
}