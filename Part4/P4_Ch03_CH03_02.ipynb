{
  "nbformat": 4,
  "nbformat_minor": 0,
  "metadata": {
    "colab": {
      "provenance": [],
      "authorship_tag": "ABX9TyMbMYdmxkzDYe2OqGF+TvYU",
      "include_colab_link": true
    },
    "kernelspec": {
      "name": "python3",
      "display_name": "Python 3"
    },
    "language_info": {
      "name": "python"
    }
  },
  "cells": [
    {
      "cell_type": "markdown",
      "metadata": {
        "id": "view-in-github",
        "colab_type": "text"
      },
      "source": [
        "<a href=\"https://colab.research.google.com/github/joony0512/Deep_Learning_Class/blob/main/Part4/P4_Ch03_CH03_02.ipynb\" target=\"_parent\"><img src=\"https://colab.research.google.com/assets/colab-badge.svg\" alt=\"Open In Colab\"/></a>"
      ]
    },
    {
      "cell_type": "code",
      "source": [
        "import tensorflow as tf\n",
        "from tensorflow import keras\n",
        "\n",
        "import numpy as np\n",
        "import matplotlib.pyplot as plt"
      ],
      "metadata": {
        "id": "ofekaFIw7DT3"
      },
      "execution_count": 16,
      "outputs": []
    },
    {
      "cell_type": "markdown",
      "source": [
        "## Dataset\n"
      ],
      "metadata": {
        "id": "aDg4AtfP6poE"
      }
    },
    {
      "cell_type": "markdown",
      "source": [
        "tf.data.Dataset이용"
      ],
      "metadata": {
        "id": "7aynC0T_63kT"
      }
    },
    {
      "cell_type": "markdown",
      "source": [
        "## FashionMNIST data 불러오기"
      ],
      "metadata": {
        "id": "oR9cUzYb67k3"
      }
    },
    {
      "cell_type": "code",
      "execution_count": 30,
      "metadata": {
        "id": "uSwrCPdV6VI6"
      },
      "outputs": [],
      "source": [
        "mnist = keras.datasets.fashion_mnist\n",
        "class_names = ['T-shirt/top', 'Trouser', 'Pullover', 'Dress', 'Coat', 'Sandal','Sneaker', 'Shirt', 'Bag', 'Ankle boot']\n",
        "\n",
        "(train_images, train_labels), (test_images, test_labels) = mnist.load_data()"
      ]
    },
    {
      "cell_type": "code",
      "source": [
        "# train_images, train_labels shape확인\n",
        "\n",
        "print(train_images.shape, train_labels.shape)"
      ],
      "metadata": {
        "colab": {
          "base_uri": "https://localhost:8080/"
        },
        "id": "EOhvVK7_9MR2",
        "outputId": "6dad467c-64db-41fa-bf23-4c5451b57cab"
      },
      "execution_count": 31,
      "outputs": [
        {
          "output_type": "stream",
          "name": "stdout",
          "text": [
            "(60000, 28, 28) (60000,)\n"
          ]
        }
      ]
    },
    {
      "cell_type": "code",
      "source": [
        "# test_images, test_labels shape 확인\n",
        "\n",
        "print(test_images.shape, test_labels.shape)"
      ],
      "metadata": {
        "colab": {
          "base_uri": "https://localhost:8080/"
        },
        "id": "Mnko2VN29i8N",
        "outputId": "7d04f60d-958c-46b3-acd5-b5cd524f93e2"
      },
      "execution_count": 32,
      "outputs": [
        {
          "output_type": "stream",
          "name": "stdout",
          "text": [
            "(10000, 28, 28) (10000,)\n"
          ]
        }
      ]
    },
    {
      "cell_type": "code",
      "source": [
        "type(train_images)"
      ],
      "metadata": {
        "colab": {
          "base_uri": "https://localhost:8080/"
        },
        "id": "V50IFvIP_dnq",
        "outputId": "b0b9f048-9fa1-4e64-d31b-7bc13e168b7c"
      },
      "execution_count": 33,
      "outputs": [
        {
          "output_type": "execute_result",
          "data": {
            "text/plain": [
              "numpy.ndarray"
            ]
          },
          "metadata": {},
          "execution_count": 33
        }
      ]
    },
    {
      "cell_type": "code",
      "source": [
        "# training set의 각 class별 image 수 확인\n",
        "unique, counts = np.unique(train_labels, axis = -1, return_counts = True)\n",
        "dict(zip(unique, counts))"
      ],
      "metadata": {
        "colab": {
          "base_uri": "https://localhost:8080/"
        },
        "id": "LOppxU3m_lG5",
        "outputId": "72c99033-dc7b-4c13-bd15-9e9fb83dc38d"
      },
      "execution_count": 34,
      "outputs": [
        {
          "output_type": "execute_result",
          "data": {
            "text/plain": [
              "{0: 6000,\n",
              " 1: 6000,\n",
              " 2: 6000,\n",
              " 3: 6000,\n",
              " 4: 6000,\n",
              " 5: 6000,\n",
              " 6: 6000,\n",
              " 7: 6000,\n",
              " 8: 6000,\n",
              " 9: 6000}"
            ]
          },
          "metadata": {},
          "execution_count": 34
        }
      ]
    },
    {
      "cell_type": "code",
      "source": [
        "# test set의 각 class별 image 수 확인\n",
        "unique, counts = np.unique(test_labels, axis = -1, return_counts = True)\n",
        "dict(zip(unique, counts))"
      ],
      "metadata": {
        "colab": {
          "base_uri": "https://localhost:8080/"
        },
        "id": "dal9vgOzABjE",
        "outputId": "54d5fb0c-9db6-4b19-e960-c364ccf1228d"
      },
      "execution_count": 35,
      "outputs": [
        {
          "output_type": "execute_result",
          "data": {
            "text/plain": [
              "{0: 1000,\n",
              " 1: 1000,\n",
              " 2: 1000,\n",
              " 3: 1000,\n",
              " 4: 1000,\n",
              " 5: 1000,\n",
              " 6: 1000,\n",
              " 7: 1000,\n",
              " 8: 1000,\n",
              " 9: 1000}"
            ]
          },
          "metadata": {},
          "execution_count": 35
        }
      ]
    },
    {
      "cell_type": "markdown",
      "source": [
        "## Data 시각화 하기\n"
      ],
      "metadata": {
        "id": "q-tXeeTLBKlX"
      }
    },
    {
      "cell_type": "code",
      "source": [
        "plt.figure(figsize = (8,8))\n",
        "for i in range(9):\n",
        "  plt.subplot(3,3,i+1)\n",
        "  plt.xticks([])\n",
        "  plt.yticks([])\n",
        "  plt.grid(False)\n",
        "  plt.imshow(train_images[i], cmap='gray')\n",
        "  plt.title(class_names[train_labels[i]])\n",
        "plt.show()"
      ],
      "metadata": {
        "colab": {
          "base_uri": "https://localhost:8080/",
          "height": 482
        },
        "id": "6LewiWoTAIfM",
        "outputId": "7826d71b-cc7d-4055-ca90-c06f2a75e07a"
      },
      "execution_count": 36,
      "outputs": [
        {
          "output_type": "display_data",
          "data": {
            "text/plain": [
              "<Figure size 576x576 with 9 Axes>"
            ],
            "image/png": "[encoded data removed]"
          },
          "metadata": {}
        }
      ]
    },
    {
      "cell_type": "markdown",
      "source": [
        "## Data 전처리"
      ],
      "metadata": {
        "id": "HveY04s0EACt"
      }
    },
    {
      "cell_type": "code",
      "source": [
        "#image를 0-1사이 값으로 만들기 위하여 255로 나누어줌\n",
        "train_images = train_images.astype(np.float32)/ 255.\n",
        "test_images = test_images.astype(np.float32)/255.\n",
        "\n",
        "#one-hot encoding\n",
        "train_labels = keras.utils.to_categorical(train_labels, 10)\n",
        "test_labels = keras.utils.to_categorical(test_labels, 10)"
      ],
      "metadata": {
        "id": "K0h14KQrC52w"
      },
      "execution_count": 37,
      "outputs": []
    },
    {
      "cell_type": "code",
      "source": [
        "train_labels[0]"
      ],
      "metadata": {
        "colab": {
          "base_uri": "https://localhost:8080/"
        },
        "id": "lx8U47B0GSDi",
        "outputId": "93c3654c-9f32-4607-aa84-d479b3cdece6"
      },
      "execution_count": 38,
      "outputs": [
        {
          "output_type": "execute_result",
          "data": {
            "text/plain": [
              "array([0., 0., 0., 0., 0., 0., 0., 0., 0., 1.], dtype=float32)"
            ]
          },
          "metadata": {},
          "execution_count": 38
        }
      ]
    },
    {
      "cell_type": "markdown",
      "source": [
        "## Dataset 만들기\n"
      ],
      "metadata": {
        "id": "olbpy41cFT1x"
      }
    },
    {
      "cell_type": "code",
      "source": [
        "train_dataset = tf.data.Dataset.from_tensor_slices((train_images, train_labels)).shuffle(\n",
        "    buffer_size = 100000).batch(64)\n",
        "    # train을 shuffle하지 않으면 학습이 끝날때마다 같은 순서의 데이터들이 들어감\n",
        "    # from_tensor_slices : 하나씩 가져오는거\n",
        "test_dataset = tf.data.Dataset.from_tensor_slices((test_images, test_labels)).batch(64)"
      ],
      "metadata": {
        "id": "e14-rxOJElEU"
      },
      "execution_count": 40,
      "outputs": []
    },
    {
      "cell_type": "code",
      "source": [
        "for images, labels in train_dataset:\n",
        "  print(labels)\n",
        "  break\n",
        "  "
      ],
      "metadata": {
        "colab": {
          "base_uri": "https://localhost:8080/"
        },
        "id": "jE9-iCEiHluM",
        "outputId": "1844b052-8710-4823-c113-5d25e206120e"
      },
      "execution_count": 42,
      "outputs": [
        {
          "output_type": "stream",
          "name": "stdout",
          "text": [
            "tf.Tensor(\n",
            "[[0. 0. 0. 0. 1. 0. 0. 0. 0. 0.]\n",
            " [0. 0. 1. 0. 0. 0. 0. 0. 0. 0.]\n",
            " [0. 0. 0. 1. 0. 0. 0. 0. 0. 0.]\n",
            " [0. 1. 0. 0. 0. 0. 0. 0. 0. 0.]\n",
            " [0. 0. 1. 0. 0. 0. 0. 0. 0. 0.]\n",
            " [0. 0. 0. 0. 0. 0. 0. 0. 1. 0.]\n",
            " [0. 0. 0. 0. 1. 0. 0. 0. 0. 0.]\n",
            " [0. 0. 0. 0. 0. 1. 0. 0. 0. 0.]\n",
            " [1. 0. 0. 0. 0. 0. 0. 0. 0. 0.]\n",
            " [1. 0. 0. 0. 0. 0. 0. 0. 0. 0.]\n",
            " [1. 0. 0. 0. 0. 0. 0. 0. 0. 0.]\n",
            " [0. 0. 0. 0. 0. 0. 0. 0. 0. 1.]\n",
            " [0. 0. 0. 0. 0. 0. 0. 1. 0. 0.]\n",
            " [0. 0. 1. 0. 0. 0. 0. 0. 0. 0.]\n",
            " [1. 0. 0. 0. 0. 0. 0. 0. 0. 0.]\n",
            " [0. 1. 0. 0. 0. 0. 0. 0. 0. 0.]\n",
            " [0. 0. 0. 0. 0. 0. 0. 0. 1. 0.]\n",
            " [0. 0. 1. 0. 0. 0. 0. 0. 0. 0.]\n",
            " [0. 0. 1. 0. 0. 0. 0. 0. 0. 0.]\n",
            " [0. 1. 0. 0. 0. 0. 0. 0. 0. 0.]\n",
            " [1. 0. 0. 0. 0. 0. 0. 0. 0. 0.]\n",
            " [0. 1. 0. 0. 0. 0. 0. 0. 0. 0.]\n",
            " [0. 0. 0. 0. 0. 0. 0. 0. 0. 1.]\n",
            " [1. 0. 0. 0. 0. 0. 0. 0. 0. 0.]\n",
            " [0. 0. 0. 0. 0. 0. 0. 0. 1. 0.]\n",
            " [0. 0. 0. 1. 0. 0. 0. 0. 0. 0.]\n",
            " [0. 0. 0. 1. 0. 0. 0. 0. 0. 0.]\n",
            " [0. 0. 0. 0. 0. 1. 0. 0. 0. 0.]\n",
            " [0. 0. 0. 0. 0. 0. 1. 0. 0. 0.]\n",
            " [0. 0. 0. 0. 1. 0. 0. 0. 0. 0.]\n",
            " [0. 0. 0. 0. 0. 0. 0. 1. 0. 0.]\n",
            " [0. 0. 0. 1. 0. 0. 0. 0. 0. 0.]\n",
            " [0. 0. 1. 0. 0. 0. 0. 0. 0. 0.]\n",
            " [0. 0. 0. 0. 0. 0. 0. 0. 0. 1.]\n",
            " [0. 0. 0. 0. 1. 0. 0. 0. 0. 0.]\n",
            " [0. 1. 0. 0. 0. 0. 0. 0. 0. 0.]\n",
            " [0. 0. 1. 0. 0. 0. 0. 0. 0. 0.]\n",
            " [0. 0. 0. 1. 0. 0. 0. 0. 0. 0.]\n",
            " [0. 0. 1. 0. 0. 0. 0. 0. 0. 0.]\n",
            " [0. 1. 0. 0. 0. 0. 0. 0. 0. 0.]\n",
            " [0. 0. 0. 0. 0. 0. 1. 0. 0. 0.]\n",
            " [0. 0. 0. 0. 0. 0. 0. 0. 1. 0.]\n",
            " [0. 0. 1. 0. 0. 0. 0. 0. 0. 0.]\n",
            " [0. 0. 0. 0. 1. 0. 0. 0. 0. 0.]\n",
            " [1. 0. 0. 0. 0. 0. 0. 0. 0. 0.]\n",
            " [0. 0. 0. 0. 0. 0. 0. 1. 0. 0.]\n",
            " [0. 0. 0. 0. 0. 0. 0. 0. 0. 1.]\n",
            " [0. 0. 0. 0. 0. 0. 0. 0. 1. 0.]\n",
            " [0. 0. 0. 0. 0. 0. 1. 0. 0. 0.]\n",
            " [0. 0. 0. 0. 0. 1. 0. 0. 0. 0.]\n",
            " [0. 0. 0. 0. 0. 0. 0. 1. 0. 0.]\n",
            " [0. 0. 1. 0. 0. 0. 0. 0. 0. 0.]\n",
            " [0. 0. 0. 0. 0. 0. 0. 0. 1. 0.]\n",
            " [0. 0. 0. 0. 0. 0. 0. 0. 0. 1.]\n",
            " [0. 0. 0. 0. 0. 0. 0. 1. 0. 0.]\n",
            " [0. 0. 0. 0. 0. 0. 1. 0. 0. 0.]\n",
            " [0. 0. 0. 1. 0. 0. 0. 0. 0. 0.]\n",
            " [0. 0. 0. 0. 0. 0. 0. 1. 0. 0.]\n",
            " [0. 0. 0. 0. 0. 0. 0. 0. 1. 0.]\n",
            " [0. 0. 1. 0. 0. 0. 0. 0. 0. 0.]\n",
            " [0. 1. 0. 0. 0. 0. 0. 0. 0. 0.]\n",
            " [0. 0. 0. 0. 0. 0. 0. 0. 1. 0.]\n",
            " [0. 0. 0. 0. 0. 0. 0. 0. 1. 0.]\n",
            " [1. 0. 0. 0. 0. 0. 0. 0. 0. 0.]], shape=(64, 10), dtype=float32)\n"
          ]
        }
      ]
    },
    {
      "cell_type": "code",
      "source": [
        "# Dataset을 통해 반복하기(iterate)\n",
        "# 이미지와 정답(label)을 표시합니다.\n",
        "\n",
        "imgs, lbs = next(iter(train_dataset)) # 한개 빼내기\n",
        "print(f'Feature batch shape:{imgs.shape}')\n",
        "print(f'Labels batch shape: {lbs.shape}')\n",
        "\n",
        "img = imgs[0]\n",
        "lb = lbs[0]\n",
        "plt.imshow(img, cmap = 'gray')\n",
        "plt.show()\n",
        "print(f'Label: {lb}')"
      ],
      "metadata": {
        "colab": {
          "base_uri": "https://localhost:8080/",
          "height": 321
        },
        "id": "7x4QJmdVG1iV",
        "outputId": "f3f32f4d-6201-4e07-9722-fae478f650c2"
      },
      "execution_count": 43,
      "outputs": [
        {
          "output_type": "stream",
          "name": "stdout",
          "text": [
            "Feature batch shape:(64, 28, 28)\n",
            "Labels batch shape: (64, 10)\n"
          ]
        },
        {
          "output_type": "display_data",
          "data": {
            "text/plain": [
              "<Figure size 432x288 with 1 Axes>"
            ],
            "image/png": "[encoded data removed]"
          },
          "metadata": {
            "needs_background": "light"
          }
        },
        {
          "output_type": "stream",
          "name": "stdout",
          "text": [
            "Label: [1. 0. 0. 0. 0. 0. 0. 0. 0. 0.]\n"
          ]
        }
      ]
    },
    {
      "cell_type": "markdown",
      "source": [
        "### Custom Dataset 만들기\n"
      ],
      "metadata": {
        "id": "f8FpgjrTJpii"
      }
    },
    {
      "cell_type": "code",
      "source": [
        "a = np.arange(10)\n",
        "print(a)\n",
        "\n",
        "ds_tensors = tf.data.Dataset.from_tensor_slices(a)\n",
        "print(ds_tensors)\n",
        "\n",
        "for x in ds_tensors:\n",
        "  print(x)\n"
      ],
      "metadata": {
        "colab": {
          "base_uri": "https://localhost:8080/"
        },
        "id": "EwzYkSUQJWz6",
        "outputId": "e4f35d2c-f50f-457c-d18f-bebdb74cf954"
      },
      "execution_count": 53,
      "outputs": [
        {
          "output_type": "stream",
          "name": "stdout",
          "text": [
            "[0 1 2 3 4 5 6 7 8 9]\n",
            "<TensorSliceDataset element_spec=TensorSpec(shape=(), dtype=tf.int64, name=None)>\n",
            "tf.Tensor(0, shape=(), dtype=int64)\n",
            "tf.Tensor(1, shape=(), dtype=int64)\n",
            "tf.Tensor(2, shape=(), dtype=int64)\n",
            "tf.Tensor(3, shape=(), dtype=int64)\n",
            "tf.Tensor(4, shape=(), dtype=int64)\n",
            "tf.Tensor(5, shape=(), dtype=int64)\n",
            "tf.Tensor(6, shape=(), dtype=int64)\n",
            "tf.Tensor(7, shape=(), dtype=int64)\n",
            "tf.Tensor(8, shape=(), dtype=int64)\n",
            "tf.Tensor(9, shape=(), dtype=int64)\n"
          ]
        }
      ]
    },
    {
      "cell_type": "code",
      "source": [
        "# data전처리(변환), shuffle, batch 추가\n",
        "ds_tensors = ds_tensors.map(tf.square).shuffle(10).batch(2) # map : 모든데이터에 적용 , shuffle: 숫자가 데이터수 이상이면 완전셔플, 작으면 일부셔플, batch : 한번에 내보낼 데이터의 수\n",
        "print(ds_tensors)"
      ],
      "metadata": {
        "colab": {
          "base_uri": "https://localhost:8080/"
        },
        "id": "-qvwlPZCJ94u",
        "outputId": "279cabf8-ce28-4fce-9424-9e67287e5a8f"
      },
      "execution_count": 54,
      "outputs": [
        {
          "output_type": "stream",
          "name": "stdout",
          "text": [
            "<BatchDataset element_spec=TensorSpec(shape=(None,), dtype=tf.int64, name=None)>\n"
          ]
        }
      ]
    },
    {
      "cell_type": "code",
      "source": [
        "for _ in range(3): #Epoch\n",
        "  for x in ds_tensors:\n",
        "    print(x)\n",
        "  print('='*50)"
      ],
      "metadata": {
        "colab": {
          "base_uri": "https://localhost:8080/"
        },
        "id": "Ir3cIDTHQ6EB",
        "outputId": "987b8ca8-ecc8-4460-9ddb-0589dff11893"
      },
      "execution_count": 55,
      "outputs": [
        {
          "output_type": "stream",
          "name": "stdout",
          "text": [
            "tf.Tensor([36 49], shape=(2,), dtype=int64)\n",
            "tf.Tensor([9 1], shape=(2,), dtype=int64)\n",
            "tf.Tensor([25 81], shape=(2,), dtype=int64)\n",
            "tf.Tensor([16 64], shape=(2,), dtype=int64)\n",
            "tf.Tensor([4 0], shape=(2,), dtype=int64)\n",
            "==================================================\n",
            "tf.Tensor([64 25], shape=(2,), dtype=int64)\n",
            "tf.Tensor([16  4], shape=(2,), dtype=int64)\n",
            "tf.Tensor([81  9], shape=(2,), dtype=int64)\n",
            "tf.Tensor([ 1 36], shape=(2,), dtype=int64)\n",
            "tf.Tensor([ 0 49], shape=(2,), dtype=int64)\n",
            "==================================================\n",
            "tf.Tensor([ 9 81], shape=(2,), dtype=int64)\n",
            "tf.Tensor([16 64], shape=(2,), dtype=int64)\n",
            "tf.Tensor([49 25], shape=(2,), dtype=int64)\n",
            "tf.Tensor([ 1 36], shape=(2,), dtype=int64)\n",
            "tf.Tensor([4 0], shape=(2,), dtype=int64)\n",
            "==================================================\n"
          ]
        }
      ]
    },
    {
      "cell_type": "code",
      "source": [],
      "metadata": {
        "id": "aDBxsKWNRZbW"
      },
      "execution_count": null,
      "outputs": []
    }
  ]
}