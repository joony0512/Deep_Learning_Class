{
  "nbformat": 4,
  "nbformat_minor": 0,
  "metadata": {
    "colab": {
      "provenance": [],
      "authorship_tag": "ABX9TyOW1Yce6B8y7b/YwIFLSkST",
      "include_colab_link": true
    },
    "kernelspec": {
      "name": "python3",
      "display_name": "Python 3"
    },
    "language_info": {
      "name": "python"
    }
  },
  "cells": [
    {
      "cell_type": "markdown",
      "metadata": {
        "id": "view-in-github",
        "colab_type": "text"
      },
      "source": [
        "<a href=\"https://colab.research.google.com/github/joony0512/Deep_Learning_Class/blob/main/Part4/P4_Ch03_CH03_03.ipynb\" target=\"_parent\"><img src=\"https://colab.research.google.com/assets/colab-badge.svg\" alt=\"Open In Colab\"/></a>"
      ]
    },
    {
      "cell_type": "code",
      "source": [
        "import tensorflow as tf\n",
        "import numpy as np\n",
        "from tensorflow import keras\n"
      ],
      "metadata": {
        "id": "gJmA3mg0S8vQ"
      },
      "execution_count": null,
      "outputs": []
    },
    {
      "cell_type": "markdown",
      "source": [
        "# Model \n",
        "##모델을 만드는 세가지 방법들\n",
        "- Sequential API\n",
        "- Functional API\n",
        "- Model Subclassing"
      ],
      "metadata": {
        "id": "mzq8mjZWSxmp"
      }
    },
    {
      "cell_type": "markdown",
      "source": [
        "## Keras Sequential API사용"
      ],
      "metadata": {
        "id": "RDdJeZDVSs6V"
      }
    },
    {
      "cell_type": "code",
      "source": [
        "def create_seq_model():\n",
        "  model = keras.Sequential()\n",
        "  model.add(keras.layers.Flatten(input_shape = (28,28))) # mlp에 들어오려면 일자로 쭉 펴져야함 -> flatten으로 벡터화\n",
        "  model.add(keras.layers.Dense(128, activation = 'relu')) #layer 1\n",
        "  model.add(keras.layers.Dropout(0.2))  #overfitting방지\n",
        "  model.add(keras.layers.Dense(10, activation = 'softmax')) #layer 2면서 output layer\n",
        "  return model"
      ],
      "metadata": {
        "id": "KrsgVxD4TFNL"
      },
      "execution_count": null,
      "outputs": []
    },
    {
      "cell_type": "code",
      "source": [
        "seq_model = create_seq_model()\n"
      ],
      "metadata": {
        "id": "_YVy6AMiUDPS"
      },
      "execution_count": null,
      "outputs": []
    },
    {
      "cell_type": "code",
      "source": [
        "seq_model.summary()"
      ],
      "metadata": {
        "id": "6QPn3ZubUtLv",
        "colab": {
          "base_uri": "https://localhost:8080/"
        },
        "outputId": "6d0c71d3-0584-44fc-890b-87135ccad7ac"
      },
      "execution_count": 4,
      "outputs": [
        {
          "output_type": "stream",
          "name": "stdout",
          "text": [
            "Model: \"sequential\"\n",
            "_________________________________________________________________\n",
            " Layer (type)                Output Shape              Param #   \n",
            "=================================================================\n",
            " flatten (Flatten)           (None, 784)               0         \n",
            "                                                                 \n",
            " dense (Dense)               (None, 128)               100480    \n",
            "                                                                 \n",
            " dropout (Dropout)           (None, 128)               0         \n",
            "                                                                 \n",
            " dense_1 (Dense)             (None, 10)                1290      \n",
            "                                                                 \n",
            "=================================================================\n",
            "Total params: 101,770\n",
            "Trainable params: 101,770\n",
            "Non-trainable params: 0\n",
            "_________________________________________________________________\n"
          ]
        }
      ]
    },
    {
      "cell_type": "markdown",
      "source": [
        "## Keras Functional API 사용"
      ],
      "metadata": {
        "id": "Kx_wRyCYfEqz"
      }
    },
    {
      "cell_type": "code",
      "source": [
        "def create_func_model():\n",
        "  inputs = keras.Input(shape=(28,28))\n",
        "  flatten = keras.layers.Flatten()(inputs)  # sequential과 다르게 input이 뭔지 계속 알려줘야한다\n",
        "  dense = keras.layers.Dense(128, activation = 'relu')(flatten)\n",
        "  drop = keras.layers.Dropout(0.2)(dense)\n",
        "  outputs = keras.layers.Dense(10, activation = 'softmax')(drop)\n",
        "  model = keras.Model(inputs = inputs, outputs = outputs)\n",
        "  return model"
      ],
      "metadata": {
        "id": "6paZHKNLeOdO"
      },
      "execution_count": 7,
      "outputs": []
    },
    {
      "cell_type": "code",
      "source": [
        "func_model = create_func_model()"
      ],
      "metadata": {
        "id": "gNYTL6p1golb"
      },
      "execution_count": 8,
      "outputs": []
    },
    {
      "cell_type": "code",
      "source": [
        "func_model.summary()"
      ],
      "metadata": {
        "colab": {
          "base_uri": "https://localhost:8080/"
        },
        "id": "i_ByTnuogsup",
        "outputId": "fe99476d-1cb8-4250-e4a2-4d2f5028a256"
      },
      "execution_count": 9,
      "outputs": [
        {
          "output_type": "stream",
          "name": "stdout",
          "text": [
            "Model: \"model\"\n",
            "_________________________________________________________________\n",
            " Layer (type)                Output Shape              Param #   \n",
            "=================================================================\n",
            " input_2 (InputLayer)        [(None, 28, 28)]          0         \n",
            "                                                                 \n",
            " flatten_2 (Flatten)         (None, 784)               0         \n",
            "                                                                 \n",
            " dense_2 (Dense)             (None, 128)               100480    \n",
            "                                                                 \n",
            " dropout_1 (Dropout)         (None, 128)               0         \n",
            "                                                                 \n",
            " dense_3 (Dense)             (None, 10)                1290      \n",
            "                                                                 \n",
            "=================================================================\n",
            "Total params: 101,770\n",
            "Trainable params: 101,770\n",
            "Non-trainable params: 0\n",
            "_________________________________________________________________\n"
          ]
        }
      ]
    },
    {
      "cell_type": "markdown",
      "source": [
        "## Model Class Subclassing사용\n",
        "- 파이토치 사용할거면 잘 알아두기"
      ],
      "metadata": {
        "id": "MAn6poZDg7rC"
      }
    },
    {
      "cell_type": "code",
      "source": [
        "class SubClassModel(keras.Model):\n",
        "  def __init__(self):\n",
        "    super(SubClassModel, self).__init__()\n",
        "    self.flatten = keras.layers.Flatten(input_shape = (28, 28))\n",
        "    self.dense1 = keras.layers.Dense(128, activation = 'relu')\n",
        "    self.drop = keras.layers.Dropout(0.2)\n",
        "    self.dense2 = keras.layers.Dense(10, activation = 'softmax')\n",
        "  def call(self, x, training = False):\n",
        "    x = self.flatten(x)\n",
        "    x = self.dense1(x)\n",
        "    x = self.drop(x)\n",
        "    return self.dense2(x)\n"
      ],
      "metadata": {
        "id": "WZQMJ21Ug0nv"
      },
      "execution_count": 10,
      "outputs": []
    },
    {
      "cell_type": "code",
      "source": [
        "subclass_model = SubClassModel()"
      ],
      "metadata": {
        "id": "6AqA4IiFiWIU"
      },
      "execution_count": 12,
      "outputs": []
    },
    {
      "cell_type": "code",
      "source": [
        "inputs = tf.zeros((1,28,28))\n",
        "subclass_model(inputs)\n",
        "subclass_model.summary()"
      ],
      "metadata": {
        "colab": {
          "base_uri": "https://localhost:8080/"
        },
        "id": "qNYr0_SEib7r",
        "outputId": "36d49dba-5741-4b86-ef92-96c3466ab6f8"
      },
      "execution_count": 13,
      "outputs": [
        {
          "output_type": "stream",
          "name": "stdout",
          "text": [
            "Model: \"sub_class_model_1\"\n",
            "_________________________________________________________________\n",
            " Layer (type)                Output Shape              Param #   \n",
            "=================================================================\n",
            " flatten_4 (Flatten)         multiple                  0         \n",
            "                                                                 \n",
            " dense_6 (Dense)             multiple                  100480    \n",
            "                                                                 \n",
            " dropout_3 (Dropout)         multiple                  0         \n",
            "                                                                 \n",
            " dense_7 (Dense)             multiple                  1290      \n",
            "                                                                 \n",
            "=================================================================\n",
            "Total params: 101,770\n",
            "Trainable params: 101,770\n",
            "Non-trainable params: 0\n",
            "_________________________________________________________________\n"
          ]
        }
      ]
    },
    {
      "cell_type": "code",
      "source": [
        "# 가상의 데이터 만들어서 예측해보기\n",
        "inputs = tf.random.normal((1,28,28))\n",
        "outputs = subclass_model(inputs)\n",
        "print(outputs)\n",
        "pred = tf.argmax(outputs, -1) # 몇번째 자리 값이 가장 큰가? , -1인이유 : output이 2차원이기 때문에 -1이면 열방향으로 찾으라는것. 0이면 행방향\n",
        "print(f'Predicted class:{pred}')\n"
      ],
      "metadata": {
        "colab": {
          "base_uri": "https://localhost:8080/"
        },
        "id": "F905RGjBipWp",
        "outputId": "87d4e39b-1162-4121-c6c5-4f0c68672271"
      },
      "execution_count": 23,
      "outputs": [
        {
          "output_type": "stream",
          "name": "stdout",
          "text": [
            "tf.Tensor(\n",
            "[[0.10594987 0.01874559 0.00506618 0.08392893 0.0652494  0.03664326\n",
            "  0.07495943 0.0355754  0.28284788 0.29103407]], shape=(1, 10), dtype=float32)\n",
            "Predicted class:[9]\n"
          ]
        }
      ]
    },
    {
      "cell_type": "code",
      "source": [],
      "metadata": {
        "id": "U1-O7absjPzc"
      },
      "execution_count": 22,
      "outputs": []
    }
  ]
}