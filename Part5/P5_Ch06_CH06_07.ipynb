{
  "nbformat": 4,
  "nbformat_minor": 0,
  "metadata": {
    "colab": {
      "provenance": [],
      "gpuType": "T4",
      "toc_visible": true,
      "include_colab_link": true
    },
    "kernelspec": {
      "name": "python3",
      "display_name": "Python 3"
    },
    "language_info": {
      "name": "python"
    },
    "accelerator": "GPU"
  },
  "cells": [
    {
      "cell_type": "markdown",
      "metadata": {
        "id": "view-in-github",
        "colab_type": "text"
      },
      "source": [
        "<a href=\"https://colab.research.google.com/github/joony0512/Deep_Learning_Class/blob/main/Part5/P5_Ch06_CH06_07.ipynb\" target=\"_parent\"><img src=\"https://colab.research.google.com/assets/colab-badge.svg\" alt=\"Open In Colab\"/></a>"
      ]
    },
    {
      "cell_type": "markdown",
      "source": [
        "# LSTM seq2seq"
      ],
      "metadata": {
        "id": "X2iBIbXI6LAQ"
      }
    },
    {
      "cell_type": "markdown",
      "source": [
        "## DataLoader 만들기"
      ],
      "metadata": {
        "id": "uD9ZXyOXH28O"
      }
    },
    {
      "cell_type": "code",
      "source": [
        "!pip install portalocker"
      ],
      "metadata": {
        "colab": {
          "base_uri": "https://localhost:8080/"
        },
        "id": "dmyaBzFdlM-U",
        "outputId": "a4585957-1b7d-4e09-eb56-61f3c03b292f"
      },
      "execution_count": 1,
      "outputs": [
        {
          "output_type": "stream",
          "name": "stdout",
          "text": [
            "Collecting portalocker\n",
            "  Downloading portalocker-2.7.0-py2.py3-none-any.whl (15 kB)\n",
            "Installing collected packages: portalocker\n",
            "Successfully installed portalocker-2.7.0\n"
          ]
        }
      ]
    },
    {
      "cell_type": "code",
      "execution_count": 2,
      "metadata": {
        "colab": {
          "base_uri": "https://localhost:8080/"
        },
        "id": "30WhlfLNblZu",
        "outputId": "332a228d-178f-4ab1-8a62-4db8f2349a0f"
      },
      "outputs": [
        {
          "output_type": "stream",
          "name": "stdout",
          "text": [
            "Mounted at /content/drive\n",
            "Collecting pytorch-lightning (from -r /content/drive/MyDrive/#fastcampus/requirements.txt (line 1))\n",
            "  Downloading pytorch_lightning-2.0.5-py3-none-any.whl (722 kB)\n",
            "\u001b[2K     \u001b[90m━━━━━━━━━━━━━━━━━━━━━━━━━━━━━━━━━━━━━━\u001b[0m \u001b[32m722.4/722.4 kB\u001b[0m \u001b[31m46.3 MB/s\u001b[0m eta \u001b[36m0:00:00\u001b[0m\n",
            "\u001b[?25hCollecting torch-optimizer (from -r /content/drive/MyDrive/#fastcampus/requirements.txt (line 2))\n",
            "  Downloading torch_optimizer-0.3.0-py3-none-any.whl (61 kB)\n",
            "\u001b[2K     \u001b[90m━━━━━━━━━━━━━━━━━━━━━━━━━━━━━━━━━━━━━━━━\u001b[0m \u001b[32m61.9/61.9 kB\u001b[0m \u001b[31m8.3 MB/s\u001b[0m eta \u001b[36m0:00:00\u001b[0m\n",
            "\u001b[?25hCollecting hydra-core==1.1 (from -r /content/drive/MyDrive/#fastcampus/requirements.txt (line 3))\n",
            "  Downloading hydra_core-1.1.0-py3-none-any.whl (144 kB)\n",
            "\u001b[2K     \u001b[90m━━━━━━━━━━━━━━━━━━━━━━━━━━━━━━━━━━━━━━\u001b[0m \u001b[32m144.6/144.6 kB\u001b[0m \u001b[31m19.5 MB/s\u001b[0m eta \u001b[36m0:00:00\u001b[0m\n",
            "\u001b[?25hCollecting wandb (from -r /content/drive/MyDrive/#fastcampus/requirements.txt (line 4))\n",
            "  Downloading wandb-0.15.5-py3-none-any.whl (2.1 MB)\n",
            "\u001b[2K     \u001b[90m━━━━━━━━━━━━━━━━━━━━━━━━━━━━━━━━━━━━━━━━\u001b[0m \u001b[32m2.1/2.1 MB\u001b[0m \u001b[31m71.9 MB/s\u001b[0m eta \u001b[36m0:00:00\u001b[0m\n",
            "\u001b[?25hRequirement already satisfied: torchtext in /usr/local/lib/python3.10/dist-packages (from -r /content/drive/MyDrive/#fastcampus/requirements.txt (line 5)) (0.15.2)\n",
            "Requirement already satisfied: spacy in /usr/local/lib/python3.10/dist-packages (from -r /content/drive/MyDrive/#fastcampus/requirements.txt (line 6)) (3.5.4)\n",
            "Collecting efficientnet_pytorch==0.7.1 (from -r /content/drive/MyDrive/#fastcampus/requirements.txt (line 7))\n",
            "  Downloading efficientnet_pytorch-0.7.1.tar.gz (21 kB)\n",
            "  Preparing metadata (setup.py) ... \u001b[?25l\u001b[?25hdone\n",
            "Collecting tensorflow-addons (from -r /content/drive/MyDrive/#fastcampus/requirements.txt (line 8))\n",
            "  Downloading tensorflow_addons-0.21.0-cp310-cp310-manylinux_2_17_x86_64.manylinux2014_x86_64.whl (612 kB)\n",
            "\u001b[2K     \u001b[90m━━━━━━━━━━━━━━━━━━━━━━━━━━━━━━━━━━━━━━\u001b[0m \u001b[32m612.1/612.1 kB\u001b[0m \u001b[31m59.0 MB/s\u001b[0m eta \u001b[36m0:00:00\u001b[0m\n",
            "\u001b[?25hCollecting onnx==1.10.2 (from -r /content/drive/MyDrive/#fastcampus/requirements.txt (line 9))\n",
            "  Downloading onnx-1.10.2.tar.gz (9.9 MB)\n",
            "\u001b[2K     \u001b[90m━━━━━━━━━━━━━━━━━━━━━━━━━━━━━━━━━━━━━━━━\u001b[0m \u001b[32m9.9/9.9 MB\u001b[0m \u001b[31m86.9 MB/s\u001b[0m eta \u001b[36m0:00:00\u001b[0m\n",
            "\u001b[?25h  Installing build dependencies ... \u001b[?25l\u001b[?25hdone\n",
            "  Getting requirements to build wheel ... \u001b[?25l\u001b[?25hdone\n",
            "  Installing backend dependencies ... \u001b[?25l\u001b[?25hdone\n",
            "  Preparing metadata (pyproject.toml) ... \u001b[?25l\u001b[?25hdone\n",
            "Collecting onnx_tf==1.9.0 (from -r /content/drive/MyDrive/#fastcampus/requirements.txt (line 10))\n",
            "  Downloading onnx_tf-1.9.0-py3-none-any.whl (222 kB)\n",
            "\u001b[2K     \u001b[90m━━━━━━━━━━━━━━━━━━━━━━━━━━━━━━━━━━━━━━\u001b[0m \u001b[32m222.6/222.6 kB\u001b[0m \u001b[31m17.4 MB/s\u001b[0m eta \u001b[36m0:00:00\u001b[0m\n",
            "\u001b[?25hCollecting tf2onnx==1.9.3 (from -r /content/drive/MyDrive/#fastcampus/requirements.txt (line 11))\n",
            "  Downloading tf2onnx-1.9.3-py3-none-any.whl (435 kB)\n",
            "\u001b[2K     \u001b[90m━━━━━━━━━━━━━━━━━━━━━━━━━━━━━━━━━━━━━━\u001b[0m \u001b[32m435.4/435.4 kB\u001b[0m \u001b[31m45.9 MB/s\u001b[0m eta \u001b[36m0:00:00\u001b[0m\n",
            "\u001b[?25hCollecting omegaconf (from -r /content/drive/MyDrive/#fastcampus/requirements.txt (line 12))\n",
            "  Downloading omegaconf-2.3.0-py3-none-any.whl (79 kB)\n",
            "\u001b[2K     \u001b[90m━━━━━━━━━━━━━━━━━━━━━━━━━━━━━━━━━━━━━━━━\u001b[0m \u001b[32m79.5/79.5 kB\u001b[0m \u001b[31m10.8 MB/s\u001b[0m eta \u001b[36m0:00:00\u001b[0m\n",
            "\u001b[?25h  Downloading omegaconf-2.1.2-py3-none-any.whl (74 kB)\n",
            "\u001b[2K     \u001b[90m━━━━━━━━━━━━━━━━━━━━━━━━━━━━━━━━━━━━━━━━\u001b[0m \u001b[32m74.7/74.7 kB\u001b[0m \u001b[31m10.4 MB/s\u001b[0m eta \u001b[36m0:00:00\u001b[0m\n",
            "\u001b[?25hCollecting antlr4-python3-runtime==4.8 (from hydra-core==1.1->-r /content/drive/MyDrive/#fastcampus/requirements.txt (line 3))\n",
            "  Downloading antlr4-python3-runtime-4.8.tar.gz (112 kB)\n",
            "\u001b[2K     \u001b[90m━━━━━━━━━━━━━━━━━━━━━━━━━━━━━━━━━━━━━━\u001b[0m \u001b[32m112.4/112.4 kB\u001b[0m \u001b[31m14.9 MB/s\u001b[0m eta \u001b[36m0:00:00\u001b[0m\n",
            "\u001b[?25h  Preparing metadata (setup.py) ... \u001b[?25l\u001b[?25hdone\n",
            "Requirement already satisfied: torch in /usr/local/lib/python3.10/dist-packages (from efficientnet_pytorch==0.7.1->-r /content/drive/MyDrive/#fastcampus/requirements.txt (line 7)) (2.0.1+cu118)\n",
            "Requirement already satisfied: numpy>=1.16.6 in /usr/local/lib/python3.10/dist-packages (from onnx==1.10.2->-r /content/drive/MyDrive/#fastcampus/requirements.txt (line 9)) (1.22.4)\n",
            "Requirement already satisfied: protobuf in /usr/local/lib/python3.10/dist-packages (from onnx==1.10.2->-r /content/drive/MyDrive/#fastcampus/requirements.txt (line 9)) (3.20.3)\n",
            "Requirement already satisfied: six in /usr/local/lib/python3.10/dist-packages (from onnx==1.10.2->-r /content/drive/MyDrive/#fastcampus/requirements.txt (line 9)) (1.16.0)\n",
            "Requirement already satisfied: typing-extensions>=3.6.2.1 in /usr/local/lib/python3.10/dist-packages (from onnx==1.10.2->-r /content/drive/MyDrive/#fastcampus/requirements.txt (line 9)) (4.7.1)\n",
            "Requirement already satisfied: PyYAML in /usr/local/lib/python3.10/dist-packages (from onnx_tf==1.9.0->-r /content/drive/MyDrive/#fastcampus/requirements.txt (line 10)) (6.0)\n",
            "Requirement already satisfied: requests in /usr/local/lib/python3.10/dist-packages (from tf2onnx==1.9.3->-r /content/drive/MyDrive/#fastcampus/requirements.txt (line 11)) (2.27.1)\n",
            "Collecting flatbuffers~=1.12 (from tf2onnx==1.9.3->-r /content/drive/MyDrive/#fastcampus/requirements.txt (line 11))\n",
            "  Downloading flatbuffers-1.12-py2.py3-none-any.whl (15 kB)\n",
            "Requirement already satisfied: tqdm>=4.57.0 in /usr/local/lib/python3.10/dist-packages (from pytorch-lightning->-r /content/drive/MyDrive/#fastcampus/requirements.txt (line 1)) (4.65.0)\n",
            "Requirement already satisfied: fsspec[http]>2021.06.0 in /usr/local/lib/python3.10/dist-packages (from pytorch-lightning->-r /content/drive/MyDrive/#fastcampus/requirements.txt (line 1)) (2023.6.0)\n",
            "Collecting torchmetrics>=0.7.0 (from pytorch-lightning->-r /content/drive/MyDrive/#fastcampus/requirements.txt (line 1))\n",
            "  Downloading torchmetrics-1.0.0-py3-none-any.whl (728 kB)\n",
            "\u001b[2K     \u001b[90m━━━━━━━━━━━━━━━━━━━━━━━━━━━━━━━━━━━━━━\u001b[0m \u001b[32m728.8/728.8 kB\u001b[0m \u001b[31m56.8 MB/s\u001b[0m eta \u001b[36m0:00:00\u001b[0m\n",
            "\u001b[?25hRequirement already satisfied: packaging>=17.1 in /usr/local/lib/python3.10/dist-packages (from pytorch-lightning->-r /content/drive/MyDrive/#fastcampus/requirements.txt (line 1)) (23.1)\n",
            "Collecting lightning-utilities>=0.7.0 (from pytorch-lightning->-r /content/drive/MyDrive/#fastcampus/requirements.txt (line 1))\n",
            "  Downloading lightning_utilities-0.9.0-py3-none-any.whl (23 kB)\n",
            "Collecting pytorch-ranger>=0.1.1 (from torch-optimizer->-r /content/drive/MyDrive/#fastcampus/requirements.txt (line 2))\n",
            "  Downloading pytorch_ranger-0.1.1-py3-none-any.whl (14 kB)\n",
            "Requirement already satisfied: Click!=8.0.0,>=7.1 in /usr/local/lib/python3.10/dist-packages (from wandb->-r /content/drive/MyDrive/#fastcampus/requirements.txt (line 4)) (8.1.4)\n",
            "Collecting GitPython!=3.1.29,>=1.0.0 (from wandb->-r /content/drive/MyDrive/#fastcampus/requirements.txt (line 4))\n",
            "  Downloading GitPython-3.1.32-py3-none-any.whl (188 kB)\n",
            "\u001b[2K     \u001b[90m━━━━━━━━━━━━━━━━━━━━━━━━━━━━━━━━━━━━━━\u001b[0m \u001b[32m188.5/188.5 kB\u001b[0m \u001b[31m23.8 MB/s\u001b[0m eta \u001b[36m0:00:00\u001b[0m\n",
            "\u001b[?25hRequirement already satisfied: psutil>=5.0.0 in /usr/local/lib/python3.10/dist-packages (from wandb->-r /content/drive/MyDrive/#fastcampus/requirements.txt (line 4)) (5.9.5)\n",
            "Collecting sentry-sdk>=1.0.0 (from wandb->-r /content/drive/MyDrive/#fastcampus/requirements.txt (line 4))\n",
            "  Downloading sentry_sdk-1.28.0-py2.py3-none-any.whl (213 kB)\n",
            "\u001b[2K     \u001b[90m━━━━━━━━━━━━━━━━━━━━━━━━━━━━━━━━━━━━━━\u001b[0m \u001b[32m213.2/213.2 kB\u001b[0m \u001b[31m23.8 MB/s\u001b[0m eta \u001b[36m0:00:00\u001b[0m\n",
            "\u001b[?25hCollecting docker-pycreds>=0.4.0 (from wandb->-r /content/drive/MyDrive/#fastcampus/requirements.txt (line 4))\n",
            "  Downloading docker_pycreds-0.4.0-py2.py3-none-any.whl (9.0 kB)\n",
            "Collecting pathtools (from wandb->-r /content/drive/MyDrive/#fastcampus/requirements.txt (line 4))\n",
            "  Downloading pathtools-0.1.2.tar.gz (11 kB)\n",
            "  Preparing metadata (setup.py) ... \u001b[?25l\u001b[?25hdone\n",
            "Collecting setproctitle (from wandb->-r /content/drive/MyDrive/#fastcampus/requirements.txt (line 4))\n",
            "  Downloading setproctitle-1.3.2-cp310-cp310-manylinux_2_5_x86_64.manylinux1_x86_64.manylinux_2_17_x86_64.manylinux2014_x86_64.whl (30 kB)\n",
            "Requirement already satisfied: setuptools in /usr/local/lib/python3.10/dist-packages (from wandb->-r /content/drive/MyDrive/#fastcampus/requirements.txt (line 4)) (67.7.2)\n",
            "Requirement already satisfied: appdirs>=1.4.3 in /usr/local/lib/python3.10/dist-packages (from wandb->-r /content/drive/MyDrive/#fastcampus/requirements.txt (line 4)) (1.4.4)\n",
            "Requirement already satisfied: torchdata==0.6.1 in /usr/local/lib/python3.10/dist-packages (from torchtext->-r /content/drive/MyDrive/#fastcampus/requirements.txt (line 5)) (0.6.1)\n",
            "Requirement already satisfied: filelock in /usr/local/lib/python3.10/dist-packages (from torch->efficientnet_pytorch==0.7.1->-r /content/drive/MyDrive/#fastcampus/requirements.txt (line 7)) (3.12.2)\n",
            "Requirement already satisfied: sympy in /usr/local/lib/python3.10/dist-packages (from torch->efficientnet_pytorch==0.7.1->-r /content/drive/MyDrive/#fastcampus/requirements.txt (line 7)) (1.11.1)\n",
            "Requirement already satisfied: networkx in /usr/local/lib/python3.10/dist-packages (from torch->efficientnet_pytorch==0.7.1->-r /content/drive/MyDrive/#fastcampus/requirements.txt (line 7)) (3.1)\n",
            "Requirement already satisfied: jinja2 in /usr/local/lib/python3.10/dist-packages (from torch->efficientnet_pytorch==0.7.1->-r /content/drive/MyDrive/#fastcampus/requirements.txt (line 7)) (3.1.2)\n",
            "Requirement already satisfied: triton==2.0.0 in /usr/local/lib/python3.10/dist-packages (from torch->efficientnet_pytorch==0.7.1->-r /content/drive/MyDrive/#fastcampus/requirements.txt (line 7)) (2.0.0)\n",
            "Requirement already satisfied: urllib3>=1.25 in /usr/local/lib/python3.10/dist-packages (from torchdata==0.6.1->torchtext->-r /content/drive/MyDrive/#fastcampus/requirements.txt (line 5)) (1.26.16)\n",
            "Requirement already satisfied: cmake in /usr/local/lib/python3.10/dist-packages (from triton==2.0.0->torch->efficientnet_pytorch==0.7.1->-r /content/drive/MyDrive/#fastcampus/requirements.txt (line 7)) (3.25.2)\n",
            "Requirement already satisfied: lit in /usr/local/lib/python3.10/dist-packages (from triton==2.0.0->torch->efficientnet_pytorch==0.7.1->-r /content/drive/MyDrive/#fastcampus/requirements.txt (line 7)) (16.0.6)\n",
            "Requirement already satisfied: spacy-legacy<3.1.0,>=3.0.11 in /usr/local/lib/python3.10/dist-packages (from spacy->-r /content/drive/MyDrive/#fastcampus/requirements.txt (line 6)) (3.0.12)\n",
            "Requirement already satisfied: spacy-loggers<2.0.0,>=1.0.0 in /usr/local/lib/python3.10/dist-packages (from spacy->-r /content/drive/MyDrive/#fastcampus/requirements.txt (line 6)) (1.0.4)\n",
            "Requirement already satisfied: murmurhash<1.1.0,>=0.28.0 in /usr/local/lib/python3.10/dist-packages (from spacy->-r /content/drive/MyDrive/#fastcampus/requirements.txt (line 6)) (1.0.9)\n",
            "Requirement already satisfied: cymem<2.1.0,>=2.0.2 in /usr/local/lib/python3.10/dist-packages (from spacy->-r /content/drive/MyDrive/#fastcampus/requirements.txt (line 6)) (2.0.7)\n",
            "Requirement already satisfied: preshed<3.1.0,>=3.0.2 in /usr/local/lib/python3.10/dist-packages (from spacy->-r /content/drive/MyDrive/#fastcampus/requirements.txt (line 6)) (3.0.8)\n",
            "Requirement already satisfied: thinc<8.2.0,>=8.1.8 in /usr/local/lib/python3.10/dist-packages (from spacy->-r /content/drive/MyDrive/#fastcampus/requirements.txt (line 6)) (8.1.10)\n",
            "Requirement already satisfied: wasabi<1.2.0,>=0.9.1 in /usr/local/lib/python3.10/dist-packages (from spacy->-r /content/drive/MyDrive/#fastcampus/requirements.txt (line 6)) (1.1.2)\n",
            "Requirement already satisfied: srsly<3.0.0,>=2.4.3 in /usr/local/lib/python3.10/dist-packages (from spacy->-r /content/drive/MyDrive/#fastcampus/requirements.txt (line 6)) (2.4.6)\n",
            "Requirement already satisfied: catalogue<2.1.0,>=2.0.6 in /usr/local/lib/python3.10/dist-packages (from spacy->-r /content/drive/MyDrive/#fastcampus/requirements.txt (line 6)) (2.0.8)\n",
            "Requirement already satisfied: typer<0.10.0,>=0.3.0 in /usr/local/lib/python3.10/dist-packages (from spacy->-r /content/drive/MyDrive/#fastcampus/requirements.txt (line 6)) (0.9.0)\n",
            "Requirement already satisfied: pathy>=0.10.0 in /usr/local/lib/python3.10/dist-packages (from spacy->-r /content/drive/MyDrive/#fastcampus/requirements.txt (line 6)) (0.10.2)\n",
            "Requirement already satisfied: smart-open<7.0.0,>=5.2.1 in /usr/local/lib/python3.10/dist-packages (from spacy->-r /content/drive/MyDrive/#fastcampus/requirements.txt (line 6)) (6.3.0)\n",
            "Requirement already satisfied: pydantic!=1.8,!=1.8.1,<1.11.0,>=1.7.4 in /usr/local/lib/python3.10/dist-packages (from spacy->-r /content/drive/MyDrive/#fastcampus/requirements.txt (line 6)) (1.10.11)\n",
            "Requirement already satisfied: langcodes<4.0.0,>=3.2.0 in /usr/local/lib/python3.10/dist-packages (from spacy->-r /content/drive/MyDrive/#fastcampus/requirements.txt (line 6)) (3.3.0)\n",
            "Collecting typeguard<3.0.0,>=2.7 (from tensorflow-addons->-r /content/drive/MyDrive/#fastcampus/requirements.txt (line 8))\n",
            "  Downloading typeguard-2.13.3-py3-none-any.whl (17 kB)\n",
            "Requirement already satisfied: aiohttp!=4.0.0a0,!=4.0.0a1 in /usr/local/lib/python3.10/dist-packages (from fsspec[http]>2021.06.0->pytorch-lightning->-r /content/drive/MyDrive/#fastcampus/requirements.txt (line 1)) (3.8.4)\n",
            "Collecting gitdb<5,>=4.0.1 (from GitPython!=3.1.29,>=1.0.0->wandb->-r /content/drive/MyDrive/#fastcampus/requirements.txt (line 4))\n",
            "  Downloading gitdb-4.0.10-py3-none-any.whl (62 kB)\n",
            "\u001b[2K     \u001b[90m━━━━━━━━━━━━━━━━━━━━━━━━━━━━━━━━━━━━━━━━\u001b[0m \u001b[32m62.7/62.7 kB\u001b[0m \u001b[31m9.0 MB/s\u001b[0m eta \u001b[36m0:00:00\u001b[0m\n",
            "\u001b[?25hRequirement already satisfied: certifi>=2017.4.17 in /usr/local/lib/python3.10/dist-packages (from requests->tf2onnx==1.9.3->-r /content/drive/MyDrive/#fastcampus/requirements.txt (line 11)) (2023.5.7)\n",
            "Requirement already satisfied: charset-normalizer~=2.0.0 in /usr/local/lib/python3.10/dist-packages (from requests->tf2onnx==1.9.3->-r /content/drive/MyDrive/#fastcampus/requirements.txt (line 11)) (2.0.12)\n",
            "Requirement already satisfied: idna<4,>=2.5 in /usr/local/lib/python3.10/dist-packages (from requests->tf2onnx==1.9.3->-r /content/drive/MyDrive/#fastcampus/requirements.txt (line 11)) (3.4)\n",
            "Requirement already satisfied: blis<0.8.0,>=0.7.8 in /usr/local/lib/python3.10/dist-packages (from thinc<8.2.0,>=8.1.8->spacy->-r /content/drive/MyDrive/#fastcampus/requirements.txt (line 6)) (0.7.9)\n",
            "Requirement already satisfied: confection<1.0.0,>=0.0.1 in /usr/local/lib/python3.10/dist-packages (from thinc<8.2.0,>=8.1.8->spacy->-r /content/drive/MyDrive/#fastcampus/requirements.txt (line 6)) (0.1.0)\n",
            "Requirement already satisfied: MarkupSafe>=2.0 in /usr/local/lib/python3.10/dist-packages (from jinja2->torch->efficientnet_pytorch==0.7.1->-r /content/drive/MyDrive/#fastcampus/requirements.txt (line 7)) (2.1.3)\n",
            "Requirement already satisfied: attrs>=17.3.0 in /usr/local/lib/python3.10/dist-packages (from aiohttp!=4.0.0a0,!=4.0.0a1->fsspec[http]>2021.06.0->pytorch-lightning->-r /content/drive/MyDrive/#fastcampus/requirements.txt (line 1)) (23.1.0)\n",
            "Requirement already satisfied: multidict<7.0,>=4.5 in /usr/local/lib/python3.10/dist-packages (from aiohttp!=4.0.0a0,!=4.0.0a1->fsspec[http]>2021.06.0->pytorch-lightning->-r /content/drive/MyDrive/#fastcampus/requirements.txt (line 1)) (6.0.4)\n",
            "Requirement already satisfied: async-timeout<5.0,>=4.0.0a3 in /usr/local/lib/python3.10/dist-packages (from aiohttp!=4.0.0a0,!=4.0.0a1->fsspec[http]>2021.06.0->pytorch-lightning->-r /content/drive/MyDrive/#fastcampus/requirements.txt (line 1)) (4.0.2)\n",
            "Requirement already satisfied: yarl<2.0,>=1.0 in /usr/local/lib/python3.10/dist-packages (from aiohttp!=4.0.0a0,!=4.0.0a1->fsspec[http]>2021.06.0->pytorch-lightning->-r /content/drive/MyDrive/#fastcampus/requirements.txt (line 1)) (1.9.2)\n",
            "Requirement already satisfied: frozenlist>=1.1.1 in /usr/local/lib/python3.10/dist-packages (from aiohttp!=4.0.0a0,!=4.0.0a1->fsspec[http]>2021.06.0->pytorch-lightning->-r /content/drive/MyDrive/#fastcampus/requirements.txt (line 1)) (1.3.3)\n",
            "Requirement already satisfied: aiosignal>=1.1.2 in /usr/local/lib/python3.10/dist-packages (from aiohttp!=4.0.0a0,!=4.0.0a1->fsspec[http]>2021.06.0->pytorch-lightning->-r /content/drive/MyDrive/#fastcampus/requirements.txt (line 1)) (1.3.1)\n",
            "Collecting smmap<6,>=3.0.1 (from gitdb<5,>=4.0.1->GitPython!=3.1.29,>=1.0.0->wandb->-r /content/drive/MyDrive/#fastcampus/requirements.txt (line 4))\n",
            "  Downloading smmap-5.0.0-py3-none-any.whl (24 kB)\n",
            "Requirement already satisfied: mpmath>=0.19 in /usr/local/lib/python3.10/dist-packages (from sympy->torch->efficientnet_pytorch==0.7.1->-r /content/drive/MyDrive/#fastcampus/requirements.txt (line 7)) (1.3.0)\n",
            "Building wheels for collected packages: efficientnet_pytorch, onnx, antlr4-python3-runtime, pathtools\n",
            "  Building wheel for efficientnet_pytorch (setup.py) ... \u001b[?25l\u001b[?25hdone\n",
            "  Created wheel for efficientnet_pytorch: filename=efficientnet_pytorch-0.7.1-py3-none-any.whl size=16427 sha256=9dced66c38f49654cfc624e44e4017cd2b0ffd543a11b00a46bcf4fe81de48c2\n",
            "  Stored in directory: /root/.cache/pip/wheels/03/3f/e9/911b1bc46869644912bda90a56bcf7b960f20b5187feea3baf\n",
            "  \u001b[1;31merror\u001b[0m: \u001b[1msubprocess-exited-with-error\u001b[0m\n",
            "  \n",
            "  \u001b[31m×\u001b[0m \u001b[32mBuilding wheel for onnx \u001b[0m\u001b[1;32m(\u001b[0m\u001b[32mpyproject.toml\u001b[0m\u001b[1;32m)\u001b[0m did not run successfully.\n",
            "  \u001b[31m│\u001b[0m exit code: \u001b[1;36m1\u001b[0m\n",
            "  \u001b[31m╰─>\u001b[0m See above for output.\n",
            "  \n",
            "  \u001b[1;35mnote\u001b[0m: This error originates from a subprocess, and is likely not a problem with pip.\n",
            "  Building wheel for onnx (pyproject.toml) ... \u001b[?25l\u001b[?25herror\n",
            "\u001b[31m  ERROR: Failed building wheel for onnx\u001b[0m\u001b[31m\n",
            "\u001b[0m  Building wheel for antlr4-python3-runtime (setup.py) ... \u001b[?25l\u001b[?25hdone\n",
            "  Created wheel for antlr4-python3-runtime: filename=antlr4_python3_runtime-4.8-py3-none-any.whl size=141210 sha256=4330161ec98df2a71877d925aa7cb807fd0ae17e20f40757e33d14fcb8aa2808\n",
            "  Stored in directory: /root/.cache/pip/wheels/a7/20/bd/e1477d664f22d99989fd28ee1a43d6633dddb5cb9e801350d5\n",
            "  Building wheel for pathtools (setup.py) ... \u001b[?25l\u001b[?25hdone\n",
            "  Created wheel for pathtools: filename=pathtools-0.1.2-py3-none-any.whl size=8791 sha256=bb264b9a01b0304509a7a740986dc9219318c212ac41231100eb265a3ce8fe19\n",
            "  Stored in directory: /root/.cache/pip/wheels/e7/f3/22/152153d6eb222ee7a56ff8617d80ee5207207a8c00a7aab794\n",
            "Successfully built efficientnet_pytorch antlr4-python3-runtime pathtools\n",
            "Failed to build onnx\n",
            "\u001b[31mERROR: Could not build wheels for onnx, which is required to install pyproject.toml-based projects\u001b[0m\u001b[31m\n",
            "\u001b[0m"
          ]
        }
      ],
      "source": [
        "from google.colab import drive\n",
        "drive.mount('/content/drive')\n",
        "import os\n",
        "import sys\n",
        "from datetime import datetime\n",
        "\n",
        "drive_project_root = '/content/drive/MyDrive/#fastcampus'\n",
        "sys.path.append(drive_project_root)\n",
        "!pip install -r '/content/drive/MyDrive/#fastcampus/requirements.txt'"
      ]
    },
    {
      "cell_type": "code",
      "source": [
        "gpu_info = !nvidia-smi\n",
        "gpu_info = '\\n'.join(gpu_info)\n",
        "if gpu_info.find('failed') >=0 :\n",
        "    print('Select the Runtime > \"Change runtime type\" menu to enable a GPU accelerator, ')\n",
        "    print('and then re-execute this cell')\n",
        "else :\n",
        "    print(gpu_info)"
      ],
      "metadata": {
        "colab": {
          "base_uri": "https://localhost:8080/"
        },
        "id": "7QJZ5qJyb_DS",
        "outputId": "587f793a-609f-4893-934d-d6571b9ea6df"
      },
      "execution_count": 3,
      "outputs": [
        {
          "output_type": "stream",
          "name": "stdout",
          "text": [
            "Thu Jul 13 08:56:25 2023       \n",
            "+-----------------------------------------------------------------------------+\n",
            "| NVIDIA-SMI 525.105.17   Driver Version: 525.105.17   CUDA Version: 12.0     |\n",
            "|-------------------------------+----------------------+----------------------+\n",
            "| GPU  Name        Persistence-M| Bus-Id        Disp.A | Volatile Uncorr. ECC |\n",
            "| Fan  Temp  Perf  Pwr:Usage/Cap|         Memory-Usage | GPU-Util  Compute M. |\n",
            "|                               |                      |               MIG M. |\n",
            "|===============================+======================+======================|\n",
            "|   0  Tesla T4            Off  | 00000000:00:04.0 Off |                    0 |\n",
            "| N/A   50C    P8     9W /  70W |      0MiB / 15360MiB |      0%      Default |\n",
            "|                               |                      |                  N/A |\n",
            "+-------------------------------+----------------------+----------------------+\n",
            "                                                                               \n",
            "+-----------------------------------------------------------------------------+\n",
            "| Processes:                                                                  |\n",
            "|  GPU   GI   CI        PID   Type   Process name                  GPU Memory |\n",
            "|        ID   ID                                                   Usage      |\n",
            "|=============================================================================|\n",
            "|  No running processes found                                                 |\n",
            "+-----------------------------------------------------------------------------+\n"
          ]
        }
      ]
    },
    {
      "cell_type": "code",
      "source": [
        "!pip install omegaconf\n",
        "!pip install torch_optimizer\n",
        "!pip install wandb\n",
        "!pip install efficientnet_pytorch==0.7.1\n",
        "!pip install hydra-core==1.1\n",
        "!pip install pytorch-lightning\n",
        "!pip install --upgrade torchmetrics\n",
        "!pip install --upgrade pytorch-lightning"
      ],
      "metadata": {
        "colab": {
          "base_uri": "https://localhost:8080/",
          "height": 1000
        },
        "id": "-hxbJwYrd3IC",
        "outputId": "7802b429-ec86-407a-9592-6580cf4947ae"
      },
      "execution_count": 4,
      "outputs": [
        {
          "output_type": "stream",
          "name": "stdout",
          "text": [
            "Collecting omegaconf\n",
            "  Using cached omegaconf-2.3.0-py3-none-any.whl (79 kB)\n",
            "Collecting antlr4-python3-runtime==4.9.* (from omegaconf)\n",
            "  Downloading antlr4-python3-runtime-4.9.3.tar.gz (117 kB)\n",
            "\u001b[?25l     \u001b[90m━━━━━━━━━━━━━━━━━━━━━━━━━━━━━━━━━━━━━━━━\u001b[0m \u001b[32m0.0/117.0 kB\u001b[0m \u001b[31m?\u001b[0m eta \u001b[36m-:--:--\u001b[0m\r\u001b[2K     \u001b[90m━━━━━━━━━━━━━━━━━━━━━━━━━━━━━━━━━━━━━━\u001b[0m \u001b[32m117.0/117.0 kB\u001b[0m \u001b[31m12.8 MB/s\u001b[0m eta \u001b[36m0:00:00\u001b[0m\n",
            "\u001b[?25h  Preparing metadata (setup.py) ... \u001b[?25l\u001b[?25hdone\n",
            "Requirement already satisfied: PyYAML>=5.1.0 in /usr/local/lib/python3.10/dist-packages (from omegaconf) (6.0)\n",
            "Building wheels for collected packages: antlr4-python3-runtime\n",
            "  Building wheel for antlr4-python3-runtime (setup.py) ... \u001b[?25l\u001b[?25hdone\n",
            "  Created wheel for antlr4-python3-runtime: filename=antlr4_python3_runtime-4.9.3-py3-none-any.whl size=144554 sha256=54c5d199bc78d0e92cd496f22399047b21f4366173cfaf1c59f07589a0111eab\n",
            "  Stored in directory: /root/.cache/pip/wheels/12/93/dd/1f6a127edc45659556564c5730f6d4e300888f4bca2d4c5a88\n",
            "Successfully built antlr4-python3-runtime\n",
            "Installing collected packages: antlr4-python3-runtime, omegaconf\n",
            "Successfully installed antlr4-python3-runtime-4.9.3 omegaconf-2.3.0\n"
          ]
        },
        {
          "output_type": "display_data",
          "data": {
            "application/vnd.colab-display-data+json": {
              "pip_warning": {
                "packages": [
                  "pydevd_plugins"
                ]
              }
            }
          },
          "metadata": {}
        },
        {
          "output_type": "stream",
          "name": "stdout",
          "text": [
            "Collecting torch_optimizer\n",
            "  Using cached torch_optimizer-0.3.0-py3-none-any.whl (61 kB)\n",
            "Requirement already satisfied: torch>=1.5.0 in /usr/local/lib/python3.10/dist-packages (from torch_optimizer) (2.0.1+cu118)\n",
            "Collecting pytorch-ranger>=0.1.1 (from torch_optimizer)\n",
            "  Using cached pytorch_ranger-0.1.1-py3-none-any.whl (14 kB)\n",
            "Requirement already satisfied: filelock in /usr/local/lib/python3.10/dist-packages (from torch>=1.5.0->torch_optimizer) (3.12.2)\n",
            "Requirement already satisfied: typing-extensions in /usr/local/lib/python3.10/dist-packages (from torch>=1.5.0->torch_optimizer) (4.7.1)\n",
            "Requirement already satisfied: sympy in /usr/local/lib/python3.10/dist-packages (from torch>=1.5.0->torch_optimizer) (1.11.1)\n",
            "Requirement already satisfied: networkx in /usr/local/lib/python3.10/dist-packages (from torch>=1.5.0->torch_optimizer) (3.1)\n",
            "Requirement already satisfied: jinja2 in /usr/local/lib/python3.10/dist-packages (from torch>=1.5.0->torch_optimizer) (3.1.2)\n",
            "Requirement already satisfied: triton==2.0.0 in /usr/local/lib/python3.10/dist-packages (from torch>=1.5.0->torch_optimizer) (2.0.0)\n",
            "Requirement already satisfied: cmake in /usr/local/lib/python3.10/dist-packages (from triton==2.0.0->torch>=1.5.0->torch_optimizer) (3.25.2)\n",
            "Requirement already satisfied: lit in /usr/local/lib/python3.10/dist-packages (from triton==2.0.0->torch>=1.5.0->torch_optimizer) (16.0.6)\n",
            "Requirement already satisfied: MarkupSafe>=2.0 in /usr/local/lib/python3.10/dist-packages (from jinja2->torch>=1.5.0->torch_optimizer) (2.1.3)\n",
            "Requirement already satisfied: mpmath>=0.19 in /usr/local/lib/python3.10/dist-packages (from sympy->torch>=1.5.0->torch_optimizer) (1.3.0)\n",
            "Installing collected packages: pytorch-ranger, torch_optimizer\n",
            "Successfully installed pytorch-ranger-0.1.1 torch_optimizer-0.3.0\n",
            "Collecting wandb\n",
            "  Using cached wandb-0.15.5-py3-none-any.whl (2.1 MB)\n",
            "Requirement already satisfied: Click!=8.0.0,>=7.1 in /usr/local/lib/python3.10/dist-packages (from wandb) (8.1.4)\n",
            "Collecting GitPython!=3.1.29,>=1.0.0 (from wandb)\n",
            "  Using cached GitPython-3.1.32-py3-none-any.whl (188 kB)\n",
            "Requirement already satisfied: requests<3,>=2.0.0 in /usr/local/lib/python3.10/dist-packages (from wandb) (2.27.1)\n",
            "Requirement already satisfied: psutil>=5.0.0 in /usr/local/lib/python3.10/dist-packages (from wandb) (5.9.5)\n",
            "Collecting sentry-sdk>=1.0.0 (from wandb)\n",
            "  Using cached sentry_sdk-1.28.0-py2.py3-none-any.whl (213 kB)\n",
            "Collecting docker-pycreds>=0.4.0 (from wandb)\n",
            "  Using cached docker_pycreds-0.4.0-py2.py3-none-any.whl (9.0 kB)\n",
            "Requirement already satisfied: PyYAML in /usr/local/lib/python3.10/dist-packages (from wandb) (6.0)\n",
            "Collecting pathtools (from wandb)\n",
            "  Using cached pathtools-0.1.2-py3-none-any.whl\n",
            "Collecting setproctitle (from wandb)\n",
            "  Using cached setproctitle-1.3.2-cp310-cp310-manylinux_2_5_x86_64.manylinux1_x86_64.manylinux_2_17_x86_64.manylinux2014_x86_64.whl (30 kB)\n",
            "Requirement already satisfied: setuptools in /usr/local/lib/python3.10/dist-packages (from wandb) (67.7.2)\n",
            "Requirement already satisfied: appdirs>=1.4.3 in /usr/local/lib/python3.10/dist-packages (from wandb) (1.4.4)\n",
            "Requirement already satisfied: protobuf!=4.21.0,<5,>=3.19.0 in /usr/local/lib/python3.10/dist-packages (from wandb) (3.20.3)\n",
            "Requirement already satisfied: six>=1.4.0 in /usr/local/lib/python3.10/dist-packages (from docker-pycreds>=0.4.0->wandb) (1.16.0)\n",
            "Collecting gitdb<5,>=4.0.1 (from GitPython!=3.1.29,>=1.0.0->wandb)\n",
            "  Using cached gitdb-4.0.10-py3-none-any.whl (62 kB)\n",
            "Requirement already satisfied: urllib3<1.27,>=1.21.1 in /usr/local/lib/python3.10/dist-packages (from requests<3,>=2.0.0->wandb) (1.26.16)\n",
            "Requirement already satisfied: certifi>=2017.4.17 in /usr/local/lib/python3.10/dist-packages (from requests<3,>=2.0.0->wandb) (2023.5.7)\n",
            "Requirement already satisfied: charset-normalizer~=2.0.0 in /usr/local/lib/python3.10/dist-packages (from requests<3,>=2.0.0->wandb) (2.0.12)\n",
            "Requirement already satisfied: idna<4,>=2.5 in /usr/local/lib/python3.10/dist-packages (from requests<3,>=2.0.0->wandb) (3.4)\n",
            "Collecting smmap<6,>=3.0.1 (from gitdb<5,>=4.0.1->GitPython!=3.1.29,>=1.0.0->wandb)\n",
            "  Using cached smmap-5.0.0-py3-none-any.whl (24 kB)\n",
            "Installing collected packages: pathtools, smmap, setproctitle, sentry-sdk, docker-pycreds, gitdb, GitPython, wandb\n",
            "Successfully installed GitPython-3.1.32 docker-pycreds-0.4.0 gitdb-4.0.10 pathtools-0.1.2 sentry-sdk-1.28.0 setproctitle-1.3.2 smmap-5.0.0 wandb-0.15.5\n",
            "Collecting efficientnet_pytorch==0.7.1\n",
            "  Using cached efficientnet_pytorch-0.7.1-py3-none-any.whl\n",
            "Requirement already satisfied: torch in /usr/local/lib/python3.10/dist-packages (from efficientnet_pytorch==0.7.1) (2.0.1+cu118)\n",
            "Requirement already satisfied: filelock in /usr/local/lib/python3.10/dist-packages (from torch->efficientnet_pytorch==0.7.1) (3.12.2)\n",
            "Requirement already satisfied: typing-extensions in /usr/local/lib/python3.10/dist-packages (from torch->efficientnet_pytorch==0.7.1) (4.7.1)\n",
            "Requirement already satisfied: sympy in /usr/local/lib/python3.10/dist-packages (from torch->efficientnet_pytorch==0.7.1) (1.11.1)\n",
            "Requirement already satisfied: networkx in /usr/local/lib/python3.10/dist-packages (from torch->efficientnet_pytorch==0.7.1) (3.1)\n",
            "Requirement already satisfied: jinja2 in /usr/local/lib/python3.10/dist-packages (from torch->efficientnet_pytorch==0.7.1) (3.1.2)\n",
            "Requirement already satisfied: triton==2.0.0 in /usr/local/lib/python3.10/dist-packages (from torch->efficientnet_pytorch==0.7.1) (2.0.0)\n",
            "Requirement already satisfied: cmake in /usr/local/lib/python3.10/dist-packages (from triton==2.0.0->torch->efficientnet_pytorch==0.7.1) (3.25.2)\n",
            "Requirement already satisfied: lit in /usr/local/lib/python3.10/dist-packages (from triton==2.0.0->torch->efficientnet_pytorch==0.7.1) (16.0.6)\n",
            "Requirement already satisfied: MarkupSafe>=2.0 in /usr/local/lib/python3.10/dist-packages (from jinja2->torch->efficientnet_pytorch==0.7.1) (2.1.3)\n",
            "Requirement already satisfied: mpmath>=0.19 in /usr/local/lib/python3.10/dist-packages (from sympy->torch->efficientnet_pytorch==0.7.1) (1.3.0)\n",
            "Installing collected packages: efficientnet_pytorch\n",
            "Successfully installed efficientnet_pytorch-0.7.1\n",
            "Collecting hydra-core==1.1\n",
            "  Using cached hydra_core-1.1.0-py3-none-any.whl (144 kB)\n",
            "Collecting omegaconf==2.1.* (from hydra-core==1.1)\n",
            "  Using cached omegaconf-2.1.2-py3-none-any.whl (74 kB)\n",
            "Collecting antlr4-python3-runtime==4.8 (from hydra-core==1.1)\n",
            "  Using cached antlr4_python3_runtime-4.8-py3-none-any.whl\n",
            "Requirement already satisfied: PyYAML>=5.1.0 in /usr/local/lib/python3.10/dist-packages (from omegaconf==2.1.*->hydra-core==1.1) (6.0)\n",
            "Installing collected packages: antlr4-python3-runtime, omegaconf, hydra-core\n",
            "  Attempting uninstall: antlr4-python3-runtime\n",
            "    Found existing installation: antlr4-python3-runtime 4.9.3\n",
            "    Uninstalling antlr4-python3-runtime-4.9.3:\n",
            "      Successfully uninstalled antlr4-python3-runtime-4.9.3\n",
            "  Attempting uninstall: omegaconf\n",
            "    Found existing installation: omegaconf 2.3.0\n",
            "    Uninstalling omegaconf-2.3.0:\n",
            "      Successfully uninstalled omegaconf-2.3.0\n",
            "Successfully installed antlr4-python3-runtime-4.8 hydra-core-1.1.0 omegaconf-2.1.2\n"
          ]
        },
        {
          "output_type": "display_data",
          "data": {
            "application/vnd.colab-display-data+json": {
              "pip_warning": {
                "packages": [
                  "pydevd_plugins"
                ]
              }
            }
          },
          "metadata": {}
        },
        {
          "output_type": "stream",
          "name": "stdout",
          "text": [
            "Collecting pytorch-lightning\n",
            "  Using cached pytorch_lightning-2.0.5-py3-none-any.whl (722 kB)\n",
            "Requirement already satisfied: numpy>=1.17.2 in /usr/local/lib/python3.10/dist-packages (from pytorch-lightning) (1.22.4)\n",
            "Requirement already satisfied: torch>=1.11.0 in /usr/local/lib/python3.10/dist-packages (from pytorch-lightning) (2.0.1+cu118)\n",
            "Requirement already satisfied: tqdm>=4.57.0 in /usr/local/lib/python3.10/dist-packages (from pytorch-lightning) (4.65.0)\n",
            "Requirement already satisfied: PyYAML>=5.4 in /usr/local/lib/python3.10/dist-packages (from pytorch-lightning) (6.0)\n",
            "Requirement already satisfied: fsspec[http]>2021.06.0 in /usr/local/lib/python3.10/dist-packages (from pytorch-lightning) (2023.6.0)\n",
            "Collecting torchmetrics>=0.7.0 (from pytorch-lightning)\n",
            "  Using cached torchmetrics-1.0.0-py3-none-any.whl (728 kB)\n",
            "Requirement already satisfied: packaging>=17.1 in /usr/local/lib/python3.10/dist-packages (from pytorch-lightning) (23.1)\n",
            "Requirement already satisfied: typing-extensions>=4.0.0 in /usr/local/lib/python3.10/dist-packages (from pytorch-lightning) (4.7.1)\n",
            "Collecting lightning-utilities>=0.7.0 (from pytorch-lightning)\n",
            "  Using cached lightning_utilities-0.9.0-py3-none-any.whl (23 kB)\n",
            "Requirement already satisfied: requests in /usr/local/lib/python3.10/dist-packages (from fsspec[http]>2021.06.0->pytorch-lightning) (2.27.1)\n",
            "Requirement already satisfied: aiohttp!=4.0.0a0,!=4.0.0a1 in /usr/local/lib/python3.10/dist-packages (from fsspec[http]>2021.06.0->pytorch-lightning) (3.8.4)\n",
            "Requirement already satisfied: filelock in /usr/local/lib/python3.10/dist-packages (from torch>=1.11.0->pytorch-lightning) (3.12.2)\n",
            "Requirement already satisfied: sympy in /usr/local/lib/python3.10/dist-packages (from torch>=1.11.0->pytorch-lightning) (1.11.1)\n",
            "Requirement already satisfied: networkx in /usr/local/lib/python3.10/dist-packages (from torch>=1.11.0->pytorch-lightning) (3.1)\n",
            "Requirement already satisfied: jinja2 in /usr/local/lib/python3.10/dist-packages (from torch>=1.11.0->pytorch-lightning) (3.1.2)\n",
            "Requirement already satisfied: triton==2.0.0 in /usr/local/lib/python3.10/dist-packages (from torch>=1.11.0->pytorch-lightning) (2.0.0)\n",
            "Requirement already satisfied: cmake in /usr/local/lib/python3.10/dist-packages (from triton==2.0.0->torch>=1.11.0->pytorch-lightning) (3.25.2)\n",
            "Requirement already satisfied: lit in /usr/local/lib/python3.10/dist-packages (from triton==2.0.0->torch>=1.11.0->pytorch-lightning) (16.0.6)\n",
            "Requirement already satisfied: attrs>=17.3.0 in /usr/local/lib/python3.10/dist-packages (from aiohttp!=4.0.0a0,!=4.0.0a1->fsspec[http]>2021.06.0->pytorch-lightning) (23.1.0)\n",
            "Requirement already satisfied: charset-normalizer<4.0,>=2.0 in /usr/local/lib/python3.10/dist-packages (from aiohttp!=4.0.0a0,!=4.0.0a1->fsspec[http]>2021.06.0->pytorch-lightning) (2.0.12)\n",
            "Requirement already satisfied: multidict<7.0,>=4.5 in /usr/local/lib/python3.10/dist-packages (from aiohttp!=4.0.0a0,!=4.0.0a1->fsspec[http]>2021.06.0->pytorch-lightning) (6.0.4)\n",
            "Requirement already satisfied: async-timeout<5.0,>=4.0.0a3 in /usr/local/lib/python3.10/dist-packages (from aiohttp!=4.0.0a0,!=4.0.0a1->fsspec[http]>2021.06.0->pytorch-lightning) (4.0.2)\n",
            "Requirement already satisfied: yarl<2.0,>=1.0 in /usr/local/lib/python3.10/dist-packages (from aiohttp!=4.0.0a0,!=4.0.0a1->fsspec[http]>2021.06.0->pytorch-lightning) (1.9.2)\n",
            "Requirement already satisfied: frozenlist>=1.1.1 in /usr/local/lib/python3.10/dist-packages (from aiohttp!=4.0.0a0,!=4.0.0a1->fsspec[http]>2021.06.0->pytorch-lightning) (1.3.3)\n",
            "Requirement already satisfied: aiosignal>=1.1.2 in /usr/local/lib/python3.10/dist-packages (from aiohttp!=4.0.0a0,!=4.0.0a1->fsspec[http]>2021.06.0->pytorch-lightning) (1.3.1)\n",
            "Requirement already satisfied: MarkupSafe>=2.0 in /usr/local/lib/python3.10/dist-packages (from jinja2->torch>=1.11.0->pytorch-lightning) (2.1.3)\n",
            "Requirement already satisfied: urllib3<1.27,>=1.21.1 in /usr/local/lib/python3.10/dist-packages (from requests->fsspec[http]>2021.06.0->pytorch-lightning) (1.26.16)\n",
            "Requirement already satisfied: certifi>=2017.4.17 in /usr/local/lib/python3.10/dist-packages (from requests->fsspec[http]>2021.06.0->pytorch-lightning) (2023.5.7)\n",
            "Requirement already satisfied: idna<4,>=2.5 in /usr/local/lib/python3.10/dist-packages (from requests->fsspec[http]>2021.06.0->pytorch-lightning) (3.4)\n",
            "Requirement already satisfied: mpmath>=0.19 in /usr/local/lib/python3.10/dist-packages (from sympy->torch>=1.11.0->pytorch-lightning) (1.3.0)\n",
            "Installing collected packages: lightning-utilities, torchmetrics, pytorch-lightning\n",
            "Successfully installed lightning-utilities-0.9.0 pytorch-lightning-2.0.5 torchmetrics-1.0.0\n",
            "Requirement already satisfied: torchmetrics in /usr/local/lib/python3.10/dist-packages (1.0.0)\n",
            "Requirement already satisfied: numpy>1.20.0 in /usr/local/lib/python3.10/dist-packages (from torchmetrics) (1.22.4)\n",
            "Requirement already satisfied: torch>=1.8.1 in /usr/local/lib/python3.10/dist-packages (from torchmetrics) (2.0.1+cu118)\n",
            "Requirement already satisfied: packaging in /usr/local/lib/python3.10/dist-packages (from torchmetrics) (23.1)\n",
            "Requirement already satisfied: lightning-utilities>=0.7.0 in /usr/local/lib/python3.10/dist-packages (from torchmetrics) (0.9.0)\n",
            "Requirement already satisfied: typing-extensions in /usr/local/lib/python3.10/dist-packages (from lightning-utilities>=0.7.0->torchmetrics) (4.7.1)\n",
            "Requirement already satisfied: filelock in /usr/local/lib/python3.10/dist-packages (from torch>=1.8.1->torchmetrics) (3.12.2)\n",
            "Requirement already satisfied: sympy in /usr/local/lib/python3.10/dist-packages (from torch>=1.8.1->torchmetrics) (1.11.1)\n",
            "Requirement already satisfied: networkx in /usr/local/lib/python3.10/dist-packages (from torch>=1.8.1->torchmetrics) (3.1)\n",
            "Requirement already satisfied: jinja2 in /usr/local/lib/python3.10/dist-packages (from torch>=1.8.1->torchmetrics) (3.1.2)\n",
            "Requirement already satisfied: triton==2.0.0 in /usr/local/lib/python3.10/dist-packages (from torch>=1.8.1->torchmetrics) (2.0.0)\n",
            "Requirement already satisfied: cmake in /usr/local/lib/python3.10/dist-packages (from triton==2.0.0->torch>=1.8.1->torchmetrics) (3.25.2)\n",
            "Requirement already satisfied: lit in /usr/local/lib/python3.10/dist-packages (from triton==2.0.0->torch>=1.8.1->torchmetrics) (16.0.6)\n",
            "Requirement already satisfied: MarkupSafe>=2.0 in /usr/local/lib/python3.10/dist-packages (from jinja2->torch>=1.8.1->torchmetrics) (2.1.3)\n",
            "Requirement already satisfied: mpmath>=0.19 in /usr/local/lib/python3.10/dist-packages (from sympy->torch>=1.8.1->torchmetrics) (1.3.0)\n",
            "Requirement already satisfied: pytorch-lightning in /usr/local/lib/python3.10/dist-packages (2.0.5)\n",
            "Requirement already satisfied: numpy>=1.17.2 in /usr/local/lib/python3.10/dist-packages (from pytorch-lightning) (1.22.4)\n",
            "Requirement already satisfied: torch>=1.11.0 in /usr/local/lib/python3.10/dist-packages (from pytorch-lightning) (2.0.1+cu118)\n",
            "Requirement already satisfied: tqdm>=4.57.0 in /usr/local/lib/python3.10/dist-packages (from pytorch-lightning) (4.65.0)\n",
            "Requirement already satisfied: PyYAML>=5.4 in /usr/local/lib/python3.10/dist-packages (from pytorch-lightning) (6.0)\n",
            "Requirement already satisfied: fsspec[http]>2021.06.0 in /usr/local/lib/python3.10/dist-packages (from pytorch-lightning) (2023.6.0)\n",
            "Requirement already satisfied: torchmetrics>=0.7.0 in /usr/local/lib/python3.10/dist-packages (from pytorch-lightning) (1.0.0)\n",
            "Requirement already satisfied: packaging>=17.1 in /usr/local/lib/python3.10/dist-packages (from pytorch-lightning) (23.1)\n",
            "Requirement already satisfied: typing-extensions>=4.0.0 in /usr/local/lib/python3.10/dist-packages (from pytorch-lightning) (4.7.1)\n",
            "Requirement already satisfied: lightning-utilities>=0.7.0 in /usr/local/lib/python3.10/dist-packages (from pytorch-lightning) (0.9.0)\n",
            "Requirement already satisfied: requests in /usr/local/lib/python3.10/dist-packages (from fsspec[http]>2021.06.0->pytorch-lightning) (2.27.1)\n",
            "Requirement already satisfied: aiohttp!=4.0.0a0,!=4.0.0a1 in /usr/local/lib/python3.10/dist-packages (from fsspec[http]>2021.06.0->pytorch-lightning) (3.8.4)\n",
            "Requirement already satisfied: filelock in /usr/local/lib/python3.10/dist-packages (from torch>=1.11.0->pytorch-lightning) (3.12.2)\n",
            "Requirement already satisfied: sympy in /usr/local/lib/python3.10/dist-packages (from torch>=1.11.0->pytorch-lightning) (1.11.1)\n",
            "Requirement already satisfied: networkx in /usr/local/lib/python3.10/dist-packages (from torch>=1.11.0->pytorch-lightning) (3.1)\n",
            "Requirement already satisfied: jinja2 in /usr/local/lib/python3.10/dist-packages (from torch>=1.11.0->pytorch-lightning) (3.1.2)\n",
            "Requirement already satisfied: triton==2.0.0 in /usr/local/lib/python3.10/dist-packages (from torch>=1.11.0->pytorch-lightning) (2.0.0)\n",
            "Requirement already satisfied: cmake in /usr/local/lib/python3.10/dist-packages (from triton==2.0.0->torch>=1.11.0->pytorch-lightning) (3.25.2)\n",
            "Requirement already satisfied: lit in /usr/local/lib/python3.10/dist-packages (from triton==2.0.0->torch>=1.11.0->pytorch-lightning) (16.0.6)\n",
            "Requirement already satisfied: attrs>=17.3.0 in /usr/local/lib/python3.10/dist-packages (from aiohttp!=4.0.0a0,!=4.0.0a1->fsspec[http]>2021.06.0->pytorch-lightning) (23.1.0)\n",
            "Requirement already satisfied: charset-normalizer<4.0,>=2.0 in /usr/local/lib/python3.10/dist-packages (from aiohttp!=4.0.0a0,!=4.0.0a1->fsspec[http]>2021.06.0->pytorch-lightning) (2.0.12)\n",
            "Requirement already satisfied: multidict<7.0,>=4.5 in /usr/local/lib/python3.10/dist-packages (from aiohttp!=4.0.0a0,!=4.0.0a1->fsspec[http]>2021.06.0->pytorch-lightning) (6.0.4)\n",
            "Requirement already satisfied: async-timeout<5.0,>=4.0.0a3 in /usr/local/lib/python3.10/dist-packages (from aiohttp!=4.0.0a0,!=4.0.0a1->fsspec[http]>2021.06.0->pytorch-lightning) (4.0.2)\n",
            "Requirement already satisfied: yarl<2.0,>=1.0 in /usr/local/lib/python3.10/dist-packages (from aiohttp!=4.0.0a0,!=4.0.0a1->fsspec[http]>2021.06.0->pytorch-lightning) (1.9.2)\n",
            "Requirement already satisfied: frozenlist>=1.1.1 in /usr/local/lib/python3.10/dist-packages (from aiohttp!=4.0.0a0,!=4.0.0a1->fsspec[http]>2021.06.0->pytorch-lightning) (1.3.3)\n",
            "Requirement already satisfied: aiosignal>=1.1.2 in /usr/local/lib/python3.10/dist-packages (from aiohttp!=4.0.0a0,!=4.0.0a1->fsspec[http]>2021.06.0->pytorch-lightning) (1.3.1)\n",
            "Requirement already satisfied: MarkupSafe>=2.0 in /usr/local/lib/python3.10/dist-packages (from jinja2->torch>=1.11.0->pytorch-lightning) (2.1.3)\n",
            "Requirement already satisfied: urllib3<1.27,>=1.21.1 in /usr/local/lib/python3.10/dist-packages (from requests->fsspec[http]>2021.06.0->pytorch-lightning) (1.26.16)\n",
            "Requirement already satisfied: certifi>=2017.4.17 in /usr/local/lib/python3.10/dist-packages (from requests->fsspec[http]>2021.06.0->pytorch-lightning) (2023.5.7)\n",
            "Requirement already satisfied: idna<4,>=2.5 in /usr/local/lib/python3.10/dist-packages (from requests->fsspec[http]>2021.06.0->pytorch-lightning) (3.4)\n",
            "Requirement already satisfied: mpmath>=0.19 in /usr/local/lib/python3.10/dist-packages (from sympy->torch>=1.11.0->pytorch-lightning) (1.3.0)\n"
          ]
        }
      ]
    },
    {
      "cell_type": "code",
      "source": [
        "# for data loading\n",
        "from typing import List\n",
        "from typing import Dict\n",
        "from typing import Union\n",
        "from typing import Any\n",
        "from typing import Optional\n",
        "from typing import Iterable\n",
        "from typing import Callable\n",
        "from abc import abstractmethod\n",
        "from abc import ABC\n",
        "from datetime import datetime\n",
        "from functools import partial\n",
        "from collections import Counter\n",
        "from collections import OrderedDict\n",
        "import random\n",
        "import numpy as np\n",
        "from tqdm import tqdm\n",
        "import matplotlib.pyplot as plt\n",
        "import torch\n",
        "from torch import optim\n",
        "import torch.nn.functional as F\n",
        "from torch.nn.utils.rnn import pad_sequence\n",
        "from torch.utils.data import DataLoader\n",
        "import torch.nn as nn\n",
        "import pytorch_lightning as pl\n",
        "from pprint import pprint\n",
        "\n",
        "from torchtext import data\n",
        "from torchtext import datasets\n",
        "from torchtext.datasets import Multi30k\n",
        "from torchtext.data.utils import get_tokenizer\n",
        "from torchtext.data.functional import to_map_style_dataset\n",
        "from torchtext.vocab import Vocab, build_vocab_from_iterator, vocab\n",
        "import spacy\n",
        "\n",
        "# for contiguration\n",
        "from omegaconf import DictConfig\n",
        "from omegaconf import OmegaConf\n",
        "import hydra\n",
        "from hydra.core.config_store import ConfigStore\n",
        "\n",
        "# for logger\n",
        "from torch.utils.tensorboard import SummaryWriter\n",
        "import wandb\n",
        "os.environ[\"WANDB_START_METHOD\"] =\"thread\""
      ],
      "metadata": {
        "id": "EIXJpE8pdBFj"
      },
      "execution_count": 5,
      "outputs": []
    },
    {
      "cell_type": "code",
      "source": [
        "\n",
        "%cd /content/drive/MyDrive/#fastcampus\n",
        "from data_utils import dataset_split\n",
        "from config_utils import flatten_dict\n",
        "from config_utils import register_config\n",
        "from config_utils import configure_optimizers_from_cfg\n",
        "from config_utils import get_loggers\n",
        "from config_utils import get_callbacks\n",
        "%cd /content\n"
      ],
      "metadata": {
        "colab": {
          "base_uri": "https://localhost:8080/"
        },
        "id": "appgBNlkgVE2",
        "outputId": "54895ee6-25cd-4416-aa2d-14e4223e55fe"
      },
      "execution_count": 6,
      "outputs": [
        {
          "output_type": "stream",
          "name": "stdout",
          "text": [
            "/content/drive/MyDrive/#fastcampus\n",
            "/content\n"
          ]
        }
      ]
    },
    {
      "cell_type": "code",
      "source": [
        "# download spacy data\n",
        "!python -m spacy download en\n",
        "!python -m spacy download en_core_web_sm\n",
        "!python -m spacy download de\n",
        "!python -m spacy download de_core_news_sm\n"
      ],
      "metadata": {
        "id": "k1JmQr4QhYBC",
        "colab": {
          "base_uri": "https://localhost:8080/"
        },
        "outputId": "cea5c224-e6cd-4fa2-d19a-bcab6c28aa73"
      },
      "execution_count": 7,
      "outputs": [
        {
          "output_type": "stream",
          "name": "stdout",
          "text": [
            "2023-07-13 08:57:43.744067: W tensorflow/compiler/tf2tensorrt/utils/py_utils.cc:38] TF-TRT Warning: Could not find TensorRT\n",
            "\u001b[38;5;3m⚠ As of spaCy v3.0, shortcuts like 'en' are deprecated. Please use the\n",
            "full pipeline package name 'en_core_web_sm' instead.\u001b[0m\n",
            "Collecting en-core-web-sm==3.5.0\n",
            "  Downloading https://github.com/explosion/spacy-models/releases/download/en_core_web_sm-3.5.0/en_core_web_sm-3.5.0-py3-none-any.whl (12.8 MB)\n",
            "\u001b[2K     \u001b[90m━━━━━━━━━━━━━━━━━━━━━━━━━━━━━━━━━━━━━━━━\u001b[0m \u001b[32m12.8/12.8 MB\u001b[0m \u001b[31m89.7 MB/s\u001b[0m eta \u001b[36m0:00:00\u001b[0m\n",
            "\u001b[?25hRequirement already satisfied: spacy<3.6.0,>=3.5.0 in /usr/local/lib/python3.10/dist-packages (from en-core-web-sm==3.5.0) (3.5.4)\n",
            "Requirement already satisfied: spacy-legacy<3.1.0,>=3.0.11 in /usr/local/lib/python3.10/dist-packages (from spacy<3.6.0,>=3.5.0->en-core-web-sm==3.5.0) (3.0.12)\n",
            "Requirement already satisfied: spacy-loggers<2.0.0,>=1.0.0 in /usr/local/lib/python3.10/dist-packages (from spacy<3.6.0,>=3.5.0->en-core-web-sm==3.5.0) (1.0.4)\n",
            "Requirement already satisfied: murmurhash<1.1.0,>=0.28.0 in /usr/local/lib/python3.10/dist-packages (from spacy<3.6.0,>=3.5.0->en-core-web-sm==3.5.0) (1.0.9)\n",
            "Requirement already satisfied: cymem<2.1.0,>=2.0.2 in /usr/local/lib/python3.10/dist-packages (from spacy<3.6.0,>=3.5.0->en-core-web-sm==3.5.0) (2.0.7)\n",
            "Requirement already satisfied: preshed<3.1.0,>=3.0.2 in /usr/local/lib/python3.10/dist-packages (from spacy<3.6.0,>=3.5.0->en-core-web-sm==3.5.0) (3.0.8)\n",
            "Requirement already satisfied: thinc<8.2.0,>=8.1.8 in /usr/local/lib/python3.10/dist-packages (from spacy<3.6.0,>=3.5.0->en-core-web-sm==3.5.0) (8.1.10)\n",
            "Requirement already satisfied: wasabi<1.2.0,>=0.9.1 in /usr/local/lib/python3.10/dist-packages (from spacy<3.6.0,>=3.5.0->en-core-web-sm==3.5.0) (1.1.2)\n",
            "Requirement already satisfied: srsly<3.0.0,>=2.4.3 in /usr/local/lib/python3.10/dist-packages (from spacy<3.6.0,>=3.5.0->en-core-web-sm==3.5.0) (2.4.6)\n",
            "Requirement already satisfied: catalogue<2.1.0,>=2.0.6 in /usr/local/lib/python3.10/dist-packages (from spacy<3.6.0,>=3.5.0->en-core-web-sm==3.5.0) (2.0.8)\n",
            "Requirement already satisfied: typer<0.10.0,>=0.3.0 in /usr/local/lib/python3.10/dist-packages (from spacy<3.6.0,>=3.5.0->en-core-web-sm==3.5.0) (0.9.0)\n",
            "Requirement already satisfied: pathy>=0.10.0 in /usr/local/lib/python3.10/dist-packages (from spacy<3.6.0,>=3.5.0->en-core-web-sm==3.5.0) (0.10.2)\n",
            "Requirement already satisfied: smart-open<7.0.0,>=5.2.1 in /usr/local/lib/python3.10/dist-packages (from spacy<3.6.0,>=3.5.0->en-core-web-sm==3.5.0) (6.3.0)\n",
            "Requirement already satisfied: tqdm<5.0.0,>=4.38.0 in /usr/local/lib/python3.10/dist-packages (from spacy<3.6.0,>=3.5.0->en-core-web-sm==3.5.0) (4.65.0)\n",
            "Requirement already satisfied: numpy>=1.15.0 in /usr/local/lib/python3.10/dist-packages (from spacy<3.6.0,>=3.5.0->en-core-web-sm==3.5.0) (1.22.4)\n",
            "Requirement already satisfied: requests<3.0.0,>=2.13.0 in /usr/local/lib/python3.10/dist-packages (from spacy<3.6.0,>=3.5.0->en-core-web-sm==3.5.0) (2.27.1)\n",
            "Requirement already satisfied: pydantic!=1.8,!=1.8.1,<1.11.0,>=1.7.4 in /usr/local/lib/python3.10/dist-packages (from spacy<3.6.0,>=3.5.0->en-core-web-sm==3.5.0) (1.10.11)\n",
            "Requirement already satisfied: jinja2 in /usr/local/lib/python3.10/dist-packages (from spacy<3.6.0,>=3.5.0->en-core-web-sm==3.5.0) (3.1.2)\n",
            "Requirement already satisfied: setuptools in /usr/local/lib/python3.10/dist-packages (from spacy<3.6.0,>=3.5.0->en-core-web-sm==3.5.0) (67.7.2)\n",
            "Requirement already satisfied: packaging>=20.0 in /usr/local/lib/python3.10/dist-packages (from spacy<3.6.0,>=3.5.0->en-core-web-sm==3.5.0) (23.1)\n",
            "Requirement already satisfied: langcodes<4.0.0,>=3.2.0 in /usr/local/lib/python3.10/dist-packages (from spacy<3.6.0,>=3.5.0->en-core-web-sm==3.5.0) (3.3.0)\n",
            "Requirement already satisfied: typing-extensions>=4.2.0 in /usr/local/lib/python3.10/dist-packages (from pydantic!=1.8,!=1.8.1,<1.11.0,>=1.7.4->spacy<3.6.0,>=3.5.0->en-core-web-sm==3.5.0) (4.7.1)\n",
            "Requirement already satisfied: urllib3<1.27,>=1.21.1 in /usr/local/lib/python3.10/dist-packages (from requests<3.0.0,>=2.13.0->spacy<3.6.0,>=3.5.0->en-core-web-sm==3.5.0) (1.26.16)\n",
            "Requirement already satisfied: certifi>=2017.4.17 in /usr/local/lib/python3.10/dist-packages (from requests<3.0.0,>=2.13.0->spacy<3.6.0,>=3.5.0->en-core-web-sm==3.5.0) (2023.5.7)\n",
            "Requirement already satisfied: charset-normalizer~=2.0.0 in /usr/local/lib/python3.10/dist-packages (from requests<3.0.0,>=2.13.0->spacy<3.6.0,>=3.5.0->en-core-web-sm==3.5.0) (2.0.12)\n",
            "Requirement already satisfied: idna<4,>=2.5 in /usr/local/lib/python3.10/dist-packages (from requests<3.0.0,>=2.13.0->spacy<3.6.0,>=3.5.0->en-core-web-sm==3.5.0) (3.4)\n",
            "Requirement already satisfied: blis<0.8.0,>=0.7.8 in /usr/local/lib/python3.10/dist-packages (from thinc<8.2.0,>=8.1.8->spacy<3.6.0,>=3.5.0->en-core-web-sm==3.5.0) (0.7.9)\n",
            "Requirement already satisfied: confection<1.0.0,>=0.0.1 in /usr/local/lib/python3.10/dist-packages (from thinc<8.2.0,>=8.1.8->spacy<3.6.0,>=3.5.0->en-core-web-sm==3.5.0) (0.1.0)\n",
            "Requirement already satisfied: click<9.0.0,>=7.1.1 in /usr/local/lib/python3.10/dist-packages (from typer<0.10.0,>=0.3.0->spacy<3.6.0,>=3.5.0->en-core-web-sm==3.5.0) (8.1.4)\n",
            "Requirement already satisfied: MarkupSafe>=2.0 in /usr/local/lib/python3.10/dist-packages (from jinja2->spacy<3.6.0,>=3.5.0->en-core-web-sm==3.5.0) (2.1.3)\n",
            "\u001b[38;5;2m✔ Download and installation successful\u001b[0m\n",
            "You can now load the package via spacy.load('en_core_web_sm')\n",
            "2023-07-13 08:58:09.106266: W tensorflow/compiler/tf2tensorrt/utils/py_utils.cc:38] TF-TRT Warning: Could not find TensorRT\n",
            "Collecting en-core-web-sm==3.5.0\n",
            "  Downloading https://github.com/explosion/spacy-models/releases/download/en_core_web_sm-3.5.0/en_core_web_sm-3.5.0-py3-none-any.whl (12.8 MB)\n",
            "\u001b[2K     \u001b[90m━━━━━━━━━━━━━━━━━━━━━━━━━━━━━━━━━━━━━━━━\u001b[0m \u001b[32m12.8/12.8 MB\u001b[0m \u001b[31m95.7 MB/s\u001b[0m eta \u001b[36m0:00:00\u001b[0m\n",
            "\u001b[?25hRequirement already satisfied: spacy<3.6.0,>=3.5.0 in /usr/local/lib/python3.10/dist-packages (from en-core-web-sm==3.5.0) (3.5.4)\n",
            "Requirement already satisfied: spacy-legacy<3.1.0,>=3.0.11 in /usr/local/lib/python3.10/dist-packages (from spacy<3.6.0,>=3.5.0->en-core-web-sm==3.5.0) (3.0.12)\n",
            "Requirement already satisfied: spacy-loggers<2.0.0,>=1.0.0 in /usr/local/lib/python3.10/dist-packages (from spacy<3.6.0,>=3.5.0->en-core-web-sm==3.5.0) (1.0.4)\n",
            "Requirement already satisfied: murmurhash<1.1.0,>=0.28.0 in /usr/local/lib/python3.10/dist-packages (from spacy<3.6.0,>=3.5.0->en-core-web-sm==3.5.0) (1.0.9)\n",
            "Requirement already satisfied: cymem<2.1.0,>=2.0.2 in /usr/local/lib/python3.10/dist-packages (from spacy<3.6.0,>=3.5.0->en-core-web-sm==3.5.0) (2.0.7)\n",
            "Requirement already satisfied: preshed<3.1.0,>=3.0.2 in /usr/local/lib/python3.10/dist-packages (from spacy<3.6.0,>=3.5.0->en-core-web-sm==3.5.0) (3.0.8)\n",
            "Requirement already satisfied: thinc<8.2.0,>=8.1.8 in /usr/local/lib/python3.10/dist-packages (from spacy<3.6.0,>=3.5.0->en-core-web-sm==3.5.0) (8.1.10)\n",
            "Requirement already satisfied: wasabi<1.2.0,>=0.9.1 in /usr/local/lib/python3.10/dist-packages (from spacy<3.6.0,>=3.5.0->en-core-web-sm==3.5.0) (1.1.2)\n",
            "Requirement already satisfied: srsly<3.0.0,>=2.4.3 in /usr/local/lib/python3.10/dist-packages (from spacy<3.6.0,>=3.5.0->en-core-web-sm==3.5.0) (2.4.6)\n",
            "Requirement already satisfied: catalogue<2.1.0,>=2.0.6 in /usr/local/lib/python3.10/dist-packages (from spacy<3.6.0,>=3.5.0->en-core-web-sm==3.5.0) (2.0.8)\n",
            "Requirement already satisfied: typer<0.10.0,>=0.3.0 in /usr/local/lib/python3.10/dist-packages (from spacy<3.6.0,>=3.5.0->en-core-web-sm==3.5.0) (0.9.0)\n",
            "Requirement already satisfied: pathy>=0.10.0 in /usr/local/lib/python3.10/dist-packages (from spacy<3.6.0,>=3.5.0->en-core-web-sm==3.5.0) (0.10.2)\n",
            "Requirement already satisfied: smart-open<7.0.0,>=5.2.1 in /usr/local/lib/python3.10/dist-packages (from spacy<3.6.0,>=3.5.0->en-core-web-sm==3.5.0) (6.3.0)\n",
            "Requirement already satisfied: tqdm<5.0.0,>=4.38.0 in /usr/local/lib/python3.10/dist-packages (from spacy<3.6.0,>=3.5.0->en-core-web-sm==3.5.0) (4.65.0)\n",
            "Requirement already satisfied: numpy>=1.15.0 in /usr/local/lib/python3.10/dist-packages (from spacy<3.6.0,>=3.5.0->en-core-web-sm==3.5.0) (1.22.4)\n",
            "Requirement already satisfied: requests<3.0.0,>=2.13.0 in /usr/local/lib/python3.10/dist-packages (from spacy<3.6.0,>=3.5.0->en-core-web-sm==3.5.0) (2.27.1)\n",
            "Requirement already satisfied: pydantic!=1.8,!=1.8.1,<1.11.0,>=1.7.4 in /usr/local/lib/python3.10/dist-packages (from spacy<3.6.0,>=3.5.0->en-core-web-sm==3.5.0) (1.10.11)\n",
            "Requirement already satisfied: jinja2 in /usr/local/lib/python3.10/dist-packages (from spacy<3.6.0,>=3.5.0->en-core-web-sm==3.5.0) (3.1.2)\n",
            "Requirement already satisfied: setuptools in /usr/local/lib/python3.10/dist-packages (from spacy<3.6.0,>=3.5.0->en-core-web-sm==3.5.0) (67.7.2)\n",
            "Requirement already satisfied: packaging>=20.0 in /usr/local/lib/python3.10/dist-packages (from spacy<3.6.0,>=3.5.0->en-core-web-sm==3.5.0) (23.1)\n",
            "Requirement already satisfied: langcodes<4.0.0,>=3.2.0 in /usr/local/lib/python3.10/dist-packages (from spacy<3.6.0,>=3.5.0->en-core-web-sm==3.5.0) (3.3.0)\n",
            "Requirement already satisfied: typing-extensions>=4.2.0 in /usr/local/lib/python3.10/dist-packages (from pydantic!=1.8,!=1.8.1,<1.11.0,>=1.7.4->spacy<3.6.0,>=3.5.0->en-core-web-sm==3.5.0) (4.7.1)\n",
            "Requirement already satisfied: urllib3<1.27,>=1.21.1 in /usr/local/lib/python3.10/dist-packages (from requests<3.0.0,>=2.13.0->spacy<3.6.0,>=3.5.0->en-core-web-sm==3.5.0) (1.26.16)\n",
            "Requirement already satisfied: certifi>=2017.4.17 in /usr/local/lib/python3.10/dist-packages (from requests<3.0.0,>=2.13.0->spacy<3.6.0,>=3.5.0->en-core-web-sm==3.5.0) (2023.5.7)\n",
            "Requirement already satisfied: charset-normalizer~=2.0.0 in /usr/local/lib/python3.10/dist-packages (from requests<3.0.0,>=2.13.0->spacy<3.6.0,>=3.5.0->en-core-web-sm==3.5.0) (2.0.12)\n",
            "Requirement already satisfied: idna<4,>=2.5 in /usr/local/lib/python3.10/dist-packages (from requests<3.0.0,>=2.13.0->spacy<3.6.0,>=3.5.0->en-core-web-sm==3.5.0) (3.4)\n",
            "Requirement already satisfied: blis<0.8.0,>=0.7.8 in /usr/local/lib/python3.10/dist-packages (from thinc<8.2.0,>=8.1.8->spacy<3.6.0,>=3.5.0->en-core-web-sm==3.5.0) (0.7.9)\n",
            "Requirement already satisfied: confection<1.0.0,>=0.0.1 in /usr/local/lib/python3.10/dist-packages (from thinc<8.2.0,>=8.1.8->spacy<3.6.0,>=3.5.0->en-core-web-sm==3.5.0) (0.1.0)\n",
            "Requirement already satisfied: click<9.0.0,>=7.1.1 in /usr/local/lib/python3.10/dist-packages (from typer<0.10.0,>=0.3.0->spacy<3.6.0,>=3.5.0->en-core-web-sm==3.5.0) (8.1.4)\n",
            "Requirement already satisfied: MarkupSafe>=2.0 in /usr/local/lib/python3.10/dist-packages (from jinja2->spacy<3.6.0,>=3.5.0->en-core-web-sm==3.5.0) (2.1.3)\n",
            "\u001b[38;5;2m✔ Download and installation successful\u001b[0m\n",
            "You can now load the package via spacy.load('en_core_web_sm')\n",
            "2023-07-13 08:58:25.961304: W tensorflow/compiler/tf2tensorrt/utils/py_utils.cc:38] TF-TRT Warning: Could not find TensorRT\n",
            "\u001b[38;5;3m⚠ As of spaCy v3.0, shortcuts like 'de' are deprecated. Please use the\n",
            "full pipeline package name 'de_core_news_sm' instead.\u001b[0m\n",
            "Collecting de-core-news-sm==3.5.0\n",
            "  Downloading https://github.com/explosion/spacy-models/releases/download/de_core_news_sm-3.5.0/de_core_news_sm-3.5.0-py3-none-any.whl (14.6 MB)\n",
            "\u001b[2K     \u001b[90m━━━━━━━━━━━━━━━━━━━━━━━━━━━━━━━━━━━━━━━━\u001b[0m \u001b[32m14.6/14.6 MB\u001b[0m \u001b[31m17.7 MB/s\u001b[0m eta \u001b[36m0:00:00\u001b[0m\n",
            "\u001b[?25hRequirement already satisfied: spacy<3.6.0,>=3.5.0 in /usr/local/lib/python3.10/dist-packages (from de-core-news-sm==3.5.0) (3.5.4)\n",
            "Requirement already satisfied: spacy-legacy<3.1.0,>=3.0.11 in /usr/local/lib/python3.10/dist-packages (from spacy<3.6.0,>=3.5.0->de-core-news-sm==3.5.0) (3.0.12)\n",
            "Requirement already satisfied: spacy-loggers<2.0.0,>=1.0.0 in /usr/local/lib/python3.10/dist-packages (from spacy<3.6.0,>=3.5.0->de-core-news-sm==3.5.0) (1.0.4)\n",
            "Requirement already satisfied: murmurhash<1.1.0,>=0.28.0 in /usr/local/lib/python3.10/dist-packages (from spacy<3.6.0,>=3.5.0->de-core-news-sm==3.5.0) (1.0.9)\n",
            "Requirement already satisfied: cymem<2.1.0,>=2.0.2 in /usr/local/lib/python3.10/dist-packages (from spacy<3.6.0,>=3.5.0->de-core-news-sm==3.5.0) (2.0.7)\n",
            "Requirement already satisfied: preshed<3.1.0,>=3.0.2 in /usr/local/lib/python3.10/dist-packages (from spacy<3.6.0,>=3.5.0->de-core-news-sm==3.5.0) (3.0.8)\n",
            "Requirement already satisfied: thinc<8.2.0,>=8.1.8 in /usr/local/lib/python3.10/dist-packages (from spacy<3.6.0,>=3.5.0->de-core-news-sm==3.5.0) (8.1.10)\n",
            "Requirement already satisfied: wasabi<1.2.0,>=0.9.1 in /usr/local/lib/python3.10/dist-packages (from spacy<3.6.0,>=3.5.0->de-core-news-sm==3.5.0) (1.1.2)\n",
            "Requirement already satisfied: srsly<3.0.0,>=2.4.3 in /usr/local/lib/python3.10/dist-packages (from spacy<3.6.0,>=3.5.0->de-core-news-sm==3.5.0) (2.4.6)\n",
            "Requirement already satisfied: catalogue<2.1.0,>=2.0.6 in /usr/local/lib/python3.10/dist-packages (from spacy<3.6.0,>=3.5.0->de-core-news-sm==3.5.0) (2.0.8)\n",
            "Requirement already satisfied: typer<0.10.0,>=0.3.0 in /usr/local/lib/python3.10/dist-packages (from spacy<3.6.0,>=3.5.0->de-core-news-sm==3.5.0) (0.9.0)\n",
            "Requirement already satisfied: pathy>=0.10.0 in /usr/local/lib/python3.10/dist-packages (from spacy<3.6.0,>=3.5.0->de-core-news-sm==3.5.0) (0.10.2)\n",
            "Requirement already satisfied: smart-open<7.0.0,>=5.2.1 in /usr/local/lib/python3.10/dist-packages (from spacy<3.6.0,>=3.5.0->de-core-news-sm==3.5.0) (6.3.0)\n",
            "Requirement already satisfied: tqdm<5.0.0,>=4.38.0 in /usr/local/lib/python3.10/dist-packages (from spacy<3.6.0,>=3.5.0->de-core-news-sm==3.5.0) (4.65.0)\n",
            "Requirement already satisfied: numpy>=1.15.0 in /usr/local/lib/python3.10/dist-packages (from spacy<3.6.0,>=3.5.0->de-core-news-sm==3.5.0) (1.22.4)\n",
            "Requirement already satisfied: requests<3.0.0,>=2.13.0 in /usr/local/lib/python3.10/dist-packages (from spacy<3.6.0,>=3.5.0->de-core-news-sm==3.5.0) (2.27.1)\n",
            "Requirement already satisfied: pydantic!=1.8,!=1.8.1,<1.11.0,>=1.7.4 in /usr/local/lib/python3.10/dist-packages (from spacy<3.6.0,>=3.5.0->de-core-news-sm==3.5.0) (1.10.11)\n",
            "Requirement already satisfied: jinja2 in /usr/local/lib/python3.10/dist-packages (from spacy<3.6.0,>=3.5.0->de-core-news-sm==3.5.0) (3.1.2)\n",
            "Requirement already satisfied: setuptools in /usr/local/lib/python3.10/dist-packages (from spacy<3.6.0,>=3.5.0->de-core-news-sm==3.5.0) (67.7.2)\n",
            "Requirement already satisfied: packaging>=20.0 in /usr/local/lib/python3.10/dist-packages (from spacy<3.6.0,>=3.5.0->de-core-news-sm==3.5.0) (23.1)\n",
            "Requirement already satisfied: langcodes<4.0.0,>=3.2.0 in /usr/local/lib/python3.10/dist-packages (from spacy<3.6.0,>=3.5.0->de-core-news-sm==3.5.0) (3.3.0)\n",
            "Requirement already satisfied: typing-extensions>=4.2.0 in /usr/local/lib/python3.10/dist-packages (from pydantic!=1.8,!=1.8.1,<1.11.0,>=1.7.4->spacy<3.6.0,>=3.5.0->de-core-news-sm==3.5.0) (4.7.1)\n",
            "Requirement already satisfied: urllib3<1.27,>=1.21.1 in /usr/local/lib/python3.10/dist-packages (from requests<3.0.0,>=2.13.0->spacy<3.6.0,>=3.5.0->de-core-news-sm==3.5.0) (1.26.16)\n",
            "Requirement already satisfied: certifi>=2017.4.17 in /usr/local/lib/python3.10/dist-packages (from requests<3.0.0,>=2.13.0->spacy<3.6.0,>=3.5.0->de-core-news-sm==3.5.0) (2023.5.7)\n",
            "Requirement already satisfied: charset-normalizer~=2.0.0 in /usr/local/lib/python3.10/dist-packages (from requests<3.0.0,>=2.13.0->spacy<3.6.0,>=3.5.0->de-core-news-sm==3.5.0) (2.0.12)\n",
            "Requirement already satisfied: idna<4,>=2.5 in /usr/local/lib/python3.10/dist-packages (from requests<3.0.0,>=2.13.0->spacy<3.6.0,>=3.5.0->de-core-news-sm==3.5.0) (3.4)\n",
            "Requirement already satisfied: blis<0.8.0,>=0.7.8 in /usr/local/lib/python3.10/dist-packages (from thinc<8.2.0,>=8.1.8->spacy<3.6.0,>=3.5.0->de-core-news-sm==3.5.0) (0.7.9)\n",
            "Requirement already satisfied: confection<1.0.0,>=0.0.1 in /usr/local/lib/python3.10/dist-packages (from thinc<8.2.0,>=8.1.8->spacy<3.6.0,>=3.5.0->de-core-news-sm==3.5.0) (0.1.0)\n",
            "Requirement already satisfied: click<9.0.0,>=7.1.1 in /usr/local/lib/python3.10/dist-packages (from typer<0.10.0,>=0.3.0->spacy<3.6.0,>=3.5.0->de-core-news-sm==3.5.0) (8.1.4)\n",
            "Requirement already satisfied: MarkupSafe>=2.0 in /usr/local/lib/python3.10/dist-packages (from jinja2->spacy<3.6.0,>=3.5.0->de-core-news-sm==3.5.0) (2.1.3)\n",
            "Installing collected packages: de-core-news-sm\n",
            "Successfully installed de-core-news-sm-3.5.0\n",
            "\u001b[38;5;2m✔ Download and installation successful\u001b[0m\n",
            "You can now load the package via spacy.load('de_core_news_sm')\n",
            "2023-07-13 08:58:41.613560: W tensorflow/compiler/tf2tensorrt/utils/py_utils.cc:38] TF-TRT Warning: Could not find TensorRT\n",
            "Collecting de-core-news-sm==3.5.0\n",
            "  Downloading https://github.com/explosion/spacy-models/releases/download/de_core_news_sm-3.5.0/de_core_news_sm-3.5.0-py3-none-any.whl (14.6 MB)\n",
            "\u001b[2K     \u001b[90m━━━━━━━━━━━━━━━━━━━━━━━━━━━━━━━━━━━━━━━━\u001b[0m \u001b[32m14.6/14.6 MB\u001b[0m \u001b[31m91.7 MB/s\u001b[0m eta \u001b[36m0:00:00\u001b[0m\n",
            "\u001b[?25hRequirement already satisfied: spacy<3.6.0,>=3.5.0 in /usr/local/lib/python3.10/dist-packages (from de-core-news-sm==3.5.0) (3.5.4)\n",
            "Requirement already satisfied: spacy-legacy<3.1.0,>=3.0.11 in /usr/local/lib/python3.10/dist-packages (from spacy<3.6.0,>=3.5.0->de-core-news-sm==3.5.0) (3.0.12)\n",
            "Requirement already satisfied: spacy-loggers<2.0.0,>=1.0.0 in /usr/local/lib/python3.10/dist-packages (from spacy<3.6.0,>=3.5.0->de-core-news-sm==3.5.0) (1.0.4)\n",
            "Requirement already satisfied: murmurhash<1.1.0,>=0.28.0 in /usr/local/lib/python3.10/dist-packages (from spacy<3.6.0,>=3.5.0->de-core-news-sm==3.5.0) (1.0.9)\n",
            "Requirement already satisfied: cymem<2.1.0,>=2.0.2 in /usr/local/lib/python3.10/dist-packages (from spacy<3.6.0,>=3.5.0->de-core-news-sm==3.5.0) (2.0.7)\n",
            "Requirement already satisfied: preshed<3.1.0,>=3.0.2 in /usr/local/lib/python3.10/dist-packages (from spacy<3.6.0,>=3.5.0->de-core-news-sm==3.5.0) (3.0.8)\n",
            "Requirement already satisfied: thinc<8.2.0,>=8.1.8 in /usr/local/lib/python3.10/dist-packages (from spacy<3.6.0,>=3.5.0->de-core-news-sm==3.5.0) (8.1.10)\n",
            "Requirement already satisfied: wasabi<1.2.0,>=0.9.1 in /usr/local/lib/python3.10/dist-packages (from spacy<3.6.0,>=3.5.0->de-core-news-sm==3.5.0) (1.1.2)\n",
            "Requirement already satisfied: srsly<3.0.0,>=2.4.3 in /usr/local/lib/python3.10/dist-packages (from spacy<3.6.0,>=3.5.0->de-core-news-sm==3.5.0) (2.4.6)\n",
            "Requirement already satisfied: catalogue<2.1.0,>=2.0.6 in /usr/local/lib/python3.10/dist-packages (from spacy<3.6.0,>=3.5.0->de-core-news-sm==3.5.0) (2.0.8)\n",
            "Requirement already satisfied: typer<0.10.0,>=0.3.0 in /usr/local/lib/python3.10/dist-packages (from spacy<3.6.0,>=3.5.0->de-core-news-sm==3.5.0) (0.9.0)\n",
            "Requirement already satisfied: pathy>=0.10.0 in /usr/local/lib/python3.10/dist-packages (from spacy<3.6.0,>=3.5.0->de-core-news-sm==3.5.0) (0.10.2)\n",
            "Requirement already satisfied: smart-open<7.0.0,>=5.2.1 in /usr/local/lib/python3.10/dist-packages (from spacy<3.6.0,>=3.5.0->de-core-news-sm==3.5.0) (6.3.0)\n",
            "Requirement already satisfied: tqdm<5.0.0,>=4.38.0 in /usr/local/lib/python3.10/dist-packages (from spacy<3.6.0,>=3.5.0->de-core-news-sm==3.5.0) (4.65.0)\n",
            "Requirement already satisfied: numpy>=1.15.0 in /usr/local/lib/python3.10/dist-packages (from spacy<3.6.0,>=3.5.0->de-core-news-sm==3.5.0) (1.22.4)\n",
            "Requirement already satisfied: requests<3.0.0,>=2.13.0 in /usr/local/lib/python3.10/dist-packages (from spacy<3.6.0,>=3.5.0->de-core-news-sm==3.5.0) (2.27.1)\n",
            "Requirement already satisfied: pydantic!=1.8,!=1.8.1,<1.11.0,>=1.7.4 in /usr/local/lib/python3.10/dist-packages (from spacy<3.6.0,>=3.5.0->de-core-news-sm==3.5.0) (1.10.11)\n",
            "Requirement already satisfied: jinja2 in /usr/local/lib/python3.10/dist-packages (from spacy<3.6.0,>=3.5.0->de-core-news-sm==3.5.0) (3.1.2)\n",
            "Requirement already satisfied: setuptools in /usr/local/lib/python3.10/dist-packages (from spacy<3.6.0,>=3.5.0->de-core-news-sm==3.5.0) (67.7.2)\n",
            "Requirement already satisfied: packaging>=20.0 in /usr/local/lib/python3.10/dist-packages (from spacy<3.6.0,>=3.5.0->de-core-news-sm==3.5.0) (23.1)\n",
            "Requirement already satisfied: langcodes<4.0.0,>=3.2.0 in /usr/local/lib/python3.10/dist-packages (from spacy<3.6.0,>=3.5.0->de-core-news-sm==3.5.0) (3.3.0)\n",
            "Requirement already satisfied: typing-extensions>=4.2.0 in /usr/local/lib/python3.10/dist-packages (from pydantic!=1.8,!=1.8.1,<1.11.0,>=1.7.4->spacy<3.6.0,>=3.5.0->de-core-news-sm==3.5.0) (4.7.1)\n",
            "Requirement already satisfied: urllib3<1.27,>=1.21.1 in /usr/local/lib/python3.10/dist-packages (from requests<3.0.0,>=2.13.0->spacy<3.6.0,>=3.5.0->de-core-news-sm==3.5.0) (1.26.16)\n",
            "Requirement already satisfied: certifi>=2017.4.17 in /usr/local/lib/python3.10/dist-packages (from requests<3.0.0,>=2.13.0->spacy<3.6.0,>=3.5.0->de-core-news-sm==3.5.0) (2023.5.7)\n",
            "Requirement already satisfied: charset-normalizer~=2.0.0 in /usr/local/lib/python3.10/dist-packages (from requests<3.0.0,>=2.13.0->spacy<3.6.0,>=3.5.0->de-core-news-sm==3.5.0) (2.0.12)\n",
            "Requirement already satisfied: idna<4,>=2.5 in /usr/local/lib/python3.10/dist-packages (from requests<3.0.0,>=2.13.0->spacy<3.6.0,>=3.5.0->de-core-news-sm==3.5.0) (3.4)\n",
            "Requirement already satisfied: blis<0.8.0,>=0.7.8 in /usr/local/lib/python3.10/dist-packages (from thinc<8.2.0,>=8.1.8->spacy<3.6.0,>=3.5.0->de-core-news-sm==3.5.0) (0.7.9)\n",
            "Requirement already satisfied: confection<1.0.0,>=0.0.1 in /usr/local/lib/python3.10/dist-packages (from thinc<8.2.0,>=8.1.8->spacy<3.6.0,>=3.5.0->de-core-news-sm==3.5.0) (0.1.0)\n",
            "Requirement already satisfied: click<9.0.0,>=7.1.1 in /usr/local/lib/python3.10/dist-packages (from typer<0.10.0,>=0.3.0->spacy<3.6.0,>=3.5.0->de-core-news-sm==3.5.0) (8.1.4)\n",
            "Requirement already satisfied: MarkupSafe>=2.0 in /usr/local/lib/python3.10/dist-packages (from jinja2->spacy<3.6.0,>=3.5.0->de-core-news-sm==3.5.0) (2.1.3)\n",
            "\u001b[38;5;2m✔ Download and installation successful\u001b[0m\n",
            "You can now load the package via spacy.load('de_core_news_sm')\n"
          ]
        }
      ]
    },
    {
      "cell_type": "code",
      "source": [
        "data_spacy_de_en_cfg = {\n",
        "    \"name\" : \"spacy_de_en\",\n",
        "    \"data_root\" : os.path.join(os.getcwd(), \"data\"),\n",
        "    \"tokenizer\" : \"spacy\",\n",
        "    \"src_lang\" : \"de\",\n",
        "    \"tgt_lang\" : \"en\",\n",
        "    \"src_index\" : 0,\n",
        "    \"tgt_index\" : 1,\n",
        "    \"vocab\" :{\n",
        "        \"special_symbol2index\" :{\n",
        "            \"<unk>\" : 0, # 모르는 단어 처리\n",
        "            \"<pad>\" : 1, # 길이 다른것 패딩으로 처리\n",
        "            \"<bos>\" : 2, # 끝부분 표시\n",
        "            \"<eos>\" : 3, # 첫부분 표시\n",
        "        } ,\n",
        "        \"special_first\" : True, # 위의 것들을 맨처음으로 배치\n",
        "        \"min_freq\" : 2,\n",
        "    }\n",
        "}\n",
        "\n",
        "data_cfg = OmegaConf.create(data_spacy_de_en_cfg)\n",
        "print(OmegaConf.to_yaml(data_cfg))"
      ],
      "metadata": {
        "colab": {
          "base_uri": "https://localhost:8080/"
        },
        "id": "l7WjWHKBiQPb",
        "outputId": "5c2b5163-5b88-47aa-a960-8c82070475fb"
      },
      "execution_count": 8,
      "outputs": [
        {
          "output_type": "stream",
          "name": "stdout",
          "text": [
            "name: spacy_de_en\n",
            "data_root: /content/data\n",
            "tokenizer: spacy\n",
            "src_lang: de\n",
            "tgt_lang: en\n",
            "src_index: 0\n",
            "tgt_index: 1\n",
            "vocab:\n",
            "  special_symbol2index:\n",
            "    <unk>: 0\n",
            "    <pad>: 1\n",
            "    <bos>: 2\n",
            "    <eos>: 3\n",
            "  special_first: true\n",
            "  min_freq: 2\n",
            "\n"
          ]
        }
      ]
    },
    {
      "cell_type": "code",
      "source": [
        "train_data, valid_data, test_data = Multi30k(data_cfg.data_root)\n",
        "test_data = to_map_style_dataset(test_data)"
      ],
      "metadata": {
        "id": "DyJKKYLGkWep"
      },
      "execution_count": 9,
      "outputs": []
    },
    {
      "cell_type": "code",
      "source": [
        "for i in test_data :\n",
        "    print(i)\n",
        "    break"
      ],
      "metadata": {
        "id": "hl909QrglSzu",
        "colab": {
          "base_uri": "https://localhost:8080/"
        },
        "outputId": "711b4444-e3b6-4ded-8b55-c57619df3957"
      },
      "execution_count": 10,
      "outputs": [
        {
          "output_type": "stream",
          "name": "stdout",
          "text": [
            "('Ein Mann mit einem orangefarbenen Hut, der etwas anstarrt.', 'A man in an orange hat starring at something.')\n"
          ]
        }
      ]
    },
    {
      "cell_type": "code",
      "source": [
        "# 1. token_transform ( token ... )\n",
        "def get_token_transform(data_cfg : DictConfig) -> dict :\n",
        "    token_transform : dict ={}\n",
        "    token_transform[data_cfg.src_lang] = get_tokenizer(\n",
        "        data_cfg.tokenizer, language = data_cfg.src_lang\n",
        "        )\n",
        "    token_transform[data_cfg.tgt_lang] = get_tokenizer(\n",
        "        data_cfg.tokenizer, language = data_cfg.tgt_lang\n",
        "        )\n",
        "    return token_transform\n",
        "\n",
        "token_transform = get_token_transform(data_cfg)"
      ],
      "metadata": {
        "colab": {
          "base_uri": "https://localhost:8080/"
        },
        "id": "UycHN7PKmBq9",
        "outputId": "c426273e-3a5f-453c-c66c-94c35023a4ff"
      },
      "execution_count": 11,
      "outputs": [
        {
          "output_type": "stream",
          "name": "stderr",
          "text": [
            "/usr/local/lib/python3.10/dist-packages/torchtext/data/utils.py:105: UserWarning: Spacy model \"de\" could not be loaded, trying \"de_core_news_sm\" instead\n",
            "  warnings.warn(\n",
            "/usr/local/lib/python3.10/dist-packages/torchtext/data/utils.py:105: UserWarning: Spacy model \"en\" could not be loaded, trying \"en_core_web_sm\" instead\n",
            "  warnings.warn(\n"
          ]
        }
      ]
    },
    {
      "cell_type": "code",
      "source": [
        "# 2. vocab_transform\n",
        "\n",
        "def yeild_tokens(\n",
        "    data_iter : Iterable, lang : str, lang2index : Dict[str, int],\n",
        ") -> List[str] :\n",
        "    \"\"\"help function to yeild list of tokens\"\"\"\n",
        "    for data_sample in data_iter:\n",
        "        yield token_transform[lang](data_sample[lang2index[lang]])\n",
        "\n",
        "def get_vocab_transform(data_cfg : DictConfig) -> dict :\n",
        "    vocab_transform : dict = {}\n",
        "    for ln in [data_cfg.src_lang, data_cfg.tgt_lang]:\n",
        "        # build from train_data\n",
        "        train_iter = Multi30k(\n",
        "            split = 'train', language_pair =(data_cfg.src_lang, data_cfg.tgt_lang)\n",
        "        )\n",
        "        # create torchtext's Vocab object\n",
        "        vocab_transform[ln] =build_vocab_from_iterator(\n",
        "            yeild_tokens(\n",
        "                train_iter,\n",
        "                ln,\n",
        "                {\n",
        "                    data_cfg.src_lang : data_cfg.src_index,\n",
        "                    data_cfg.tgt_lang : data_cfg.tgt_index,\n",
        "                }\n",
        "            ),\n",
        "            min_freq = data_cfg.vocab.min_freq,\n",
        "            specials = list(data_cfg.vocab.special_symbol2index.keys()),\n",
        "            special_first = True\n",
        "        )\n",
        "\n",
        "    # set UNKNOWM as the default index, --> index가 unknown으로 return : token이 찾아지지 않을 경우\n",
        "    # 만약 세팅되지 않으면 runtime error가 날 수 있다.\n",
        "    for ln in [data_cfg.src_lang, data_cfg.tgt_lang]:\n",
        "        vocab_transform[ln].set_default_index(data_cfg.vocab.special_symbol2index[\"<unk>\"])\n",
        "    return vocab_transform\n",
        "\n",
        "vocab_transform = get_vocab_transform(data_cfg)\n"
      ],
      "metadata": {
        "id": "d5XFxvNPqw4d"
      },
      "execution_count": 12,
      "outputs": []
    },
    {
      "cell_type": "code",
      "source": [
        "print(vocab_transform['de']['<bos>'])\n",
        "print(vocab_transform['en']['<bos>'])\n",
        "print(vocab_transform['en']['hello'],vocab_transform['en']['world'])"
      ],
      "metadata": {
        "colab": {
          "base_uri": "https://localhost:8080/"
        },
        "id": "eJZPnMqt5s7I",
        "outputId": "a7b0f3cf-95bb-4680-8f17-1c5aa002d608"
      },
      "execution_count": 13,
      "outputs": [
        {
          "output_type": "stream",
          "name": "stdout",
          "text": [
            "2\n",
            "2\n",
            "5465 1870\n"
          ]
        }
      ]
    },
    {
      "cell_type": "code",
      "source": [
        "# 3. integrated transforms\n",
        "# --> text_transform : [token_transform -> vocab_transform -> torch.tensor transform]\n",
        "\n",
        "# helper function for collate_fn\n",
        "\n",
        "def sequential_transforms(*transforms):\n",
        "    def func(txt_input):\n",
        "        for transform in transforms :\n",
        "            txt_input = transform(txt_input)\n",
        "        return txt_input\n",
        "    return func\n",
        "\n",
        "# convert to torch.tensor with bos & eos\n",
        "def tensor_transform(token_ids : List[int], bos_index : int, eos_index : int ):\n",
        "    return torch.cat(\n",
        "        (torch.tensor([bos_index]),torch.tensor(token_ids) ,torch.tensor([eos_index]))\n",
        "        )\n",
        "\n",
        "# src & tgt lang language text_transforms to convert raw strings --> tensor indices\n",
        "def get_text_transform(data_cfg: DictConfig):\n",
        "    text_transform = {}\n",
        "    for ln in [data_cfg.src_lang, data_cfg.tgt_lang]:\n",
        "        text_transform[ln] = sequential_transforms(\n",
        "            token_transform[ln],\n",
        "            vocab_transform[ln],\n",
        "            partial(\n",
        "                tensor_transform,\n",
        "                bos_index = data_cfg.vocab.special_symbol2index[\"<bos>\"],\n",
        "                eos_index = data_cfg.vocab.special_symbol2index[\"<eos>\"],\n",
        "            )\n",
        "        )\n",
        "    return text_transform\n",
        "\n",
        "text_transform = get_text_transform(data_cfg)"
      ],
      "metadata": {
        "id": "UCyObX_Gq1_3"
      },
      "execution_count": 14,
      "outputs": []
    },
    {
      "cell_type": "code",
      "source": [
        "print(text_transform[\"en\"]('hello'))\n",
        "print(text_transform[\"en\"]('hello,'))\n",
        "print(text_transform[\"en\"]('hello, how'))\n",
        "print(text_transform[\"en\"]('hello, how are you ?'))"
      ],
      "metadata": {
        "colab": {
          "base_uri": "https://localhost:8080/"
        },
        "id": "KXhz-W1z9LED",
        "outputId": "7704ba07-1dfc-46d2-fa18-36fd78c89c73"
      },
      "execution_count": 15,
      "outputs": [
        {
          "output_type": "stream",
          "name": "stdout",
          "text": [
            "tensor([   2, 5465,    3])\n",
            "tensor([   2, 5465,   15,    3])\n",
            "tensor([   2, 5465,   15,  889,    3])\n",
            "tensor([   2, 5465,   15,  889,   17, 1328, 2470,    3])\n"
          ]
        }
      ]
    },
    {
      "cell_type": "code",
      "source": [
        "# 4. collate_fn --> batch를 전처리 할까?\n",
        "\n",
        "def collate_fn(batch, data_cfg: DictConfig):\n",
        "    src_batch , tgt_batch =[], []\n",
        "\n",
        "    for src_sample, tgt_sample in batch :\n",
        "        src_batch.append(text_transform[data_cfg.src_lang](src_sample.rstrip('\\n')))\n",
        "        tgt_batch.append(text_transform[data_cfg.tgt_lang](tgt_sample.rstrip('\\n')))\n",
        "\n",
        "    src_batch = pad_sequence(src_batch, padding_value= data_cfg.vocab.special_symbol2index['<pad>'])\n",
        "    tgt_batch = pad_sequence(tgt_batch, padding_value= data_cfg.vocab.special_symbol2index['<pad>'])\n",
        "    return src_batch, tgt_batch\n",
        "\n",
        "def get_collate_fn(cfg : DictConfig):\n",
        "    return partial(collate_fn, data_cfg = cfg.data)\n",
        "\n",
        "# 5. DataLoader\n",
        "\n",
        "def get_multi30k_dataloader(split_mode : str , language_pair : tuple, batch_size : int, collate_fn: Callable):\n",
        "\n",
        "    iter = Multi30k(split=split_mode, language_pair =language_pair)\n",
        "    dataset = to_map_style_dataset(iter)\n",
        "    dataloader = torch.utils.data.DataLoader(dataset, batch_size =batch_size , collate_fn = collate_fn )\n",
        "    return dataloader\n",
        "\n",
        "\n",
        "test_dataloader =get_multi30k_dataloader('test', (data_cfg.src_lang, data_cfg.tgt_lang), 3, collate_fn = partial(collate_fn, data_cfg = data_cfg))"
      ],
      "metadata": {
        "id": "Jx6A8p8c9XNk"
      },
      "execution_count": 16,
      "outputs": []
    },
    {
      "cell_type": "code",
      "source": [
        "for i in test_dataloader :\n",
        "    print(i)\n",
        "    break"
      ],
      "metadata": {
        "colab": {
          "base_uri": "https://localhost:8080/"
        },
        "id": "Wppje7vnHFHm",
        "outputId": "57c35977-ad1c-4c07-d655-c9435c528e90"
      },
      "execution_count": 17,
      "outputs": [
        {
          "output_type": "stream",
          "name": "stdout",
          "text": [
            "(tensor([[   2,    2,    2],\n",
            "        [   5,    5,    5],\n",
            "        [  12, 3686,   27],\n",
            "        [  10, 4015,    7],\n",
            "        [   6,   86,    6],\n",
            "        [ 178,   43, 2872],\n",
            "        [ 108,    0, 3028],\n",
            "        [   8,  120,   20],\n",
            "        [  16,   28,  295],\n",
            "        [  78,    6,   10],\n",
            "        [   0,   52,    6],\n",
            "        [   4,  327, 4942],\n",
            "        [   3,    4,    4],\n",
            "        [   1,    3,    3]]), tensor([[   2,    2,    2],\n",
            "        [   6,    6,    6],\n",
            "        [  12, 3374,   33],\n",
            "        [   7, 4932,    7],\n",
            "        [  28,   10,  872],\n",
            "        [  91,   82,  234],\n",
            "        [  68,    9, 3453],\n",
            "        [2670, 2602,    4],\n",
            "        [  20,   51,  343],\n",
            "        [ 122,  101,   14],\n",
            "        [   5,    7,    4],\n",
            "        [   3,   44,   44],\n",
            "        [   1,   13,  840],\n",
            "        [   1,    4,    5],\n",
            "        [   1,   24,    3],\n",
            "        [   1,  274,    1],\n",
            "        [   1,    5,    1],\n",
            "        [   1,    3,    1]]))\n"
          ]
        }
      ]
    },
    {
      "cell_type": "code",
      "source": [
        "SEED = 1234\n",
        "\n",
        "random.seed(SEED)\n",
        "np.random.seed(SEED)\n",
        "torch.manual_seed(SEED)\n",
        "torch.cuda.manual_seed(SEED)\n",
        "torch.backends.cudnn.deterministic = True\n"
      ],
      "metadata": {
        "id": "HagQ7eP-HquF"
      },
      "execution_count": 18,
      "outputs": []
    },
    {
      "cell_type": "markdown",
      "source": [
        "## pytorch - lighting\n",
        "\n",
        "![image.png](data:image/png;base64,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)\n"
      ],
      "metadata": {
        "id": "S07moVSw35kh"
      }
    },
    {
      "cell_type": "code",
      "source": [
        "def _test_postprocessing(res : List[str]) -> str :\n",
        "  if '<eos>' in res :\n",
        "    res = res[:res.index('<eos>')]\n",
        "  if '<pad>' in res:\n",
        "    res = res[:res.index['<pad>']]\n",
        "  res = \" \".join(res).replace(\"<bos>\", \"\")\n",
        "  return res\n",
        "\n",
        "\n",
        "class BaseTranslateLightningModule(pl.LightningModule):\n",
        "  def __init__(self, cfg : DictConfig):\n",
        "    super().__init__()\n",
        "    self.cfg = cfg\n",
        "    self.loss_function = torch.nn.CrossEntropyLoss(\n",
        "        ignore_index = cfg.data.vocab.special_symbol2index['<pad>'] # 학습 안하기 위해 지정\n",
        "    )\n",
        "  def configure_optimizers(self):\n",
        "    self._optimizers, self._schedulers = configure_optimizers_from_cfg(\n",
        "        self.cfg, self\n",
        "    )\n",
        "  @abstractmethod # 모델마다 forward가 다르기 때문에 지정. 추상화 메소드\n",
        "  def forward(self, src, tgt, teacher_forcing_ratio = float):\n",
        "    raise NotImplementedError()\n",
        "\n",
        "  def _forward(self, src, tgt, mode : str, teacher_forcing_ratio: float = 0.5):\n",
        "    # teacher forcing :\n",
        "    # seq2seq 에서 많이 쓰인다.\n",
        "    # src -> tgt autoregressive 학습하면, 맨 최초는 학습을 빠르게 한다. 근데 미래부분학습은 ? -> 앞부분 될때까지 기다리기 너무 힘들다\n",
        "    # 랜덤으로 미래정보도 조금 둬서 뒤에 있는 정보도 학습이 가능하게 하자\n",
        "    # 0.5 ? --> 0.5확률로 teacher_forcing을 하겠다.\n",
        "\n",
        "    assert mode in ['train', 'valid', 'test']\n",
        "\n",
        "    # get predictions\n",
        "    # teacher forcing 용 input -->\n",
        "    tgt_inputs = tgt[:-1, :] # delete ends for teacher forcing inputs : 맨 뒷부분이 필요하지 않아서 제거한다\n",
        "    outputs = self(src, tgt_inputs, teacher_forcing_ratio = teacher_forcing_ratio)\n",
        "    tgt_outputs = tgt[1, :] # delete start token\n",
        "\n",
        "    loss = self.loss_function(\n",
        "        outputs.reshape(-1, outputs.shape[-1]), # [ batch x sequence, other_output_shape]\n",
        "        tgt_outputs.reshape(-1),\n",
        "        )\n",
        "    logs_detail ={\n",
        "        f\"{mode}_src\" : src ,\n",
        "        f\"{mode}_tgt\" : tgt ,\n",
        "        f\"{mode}_results\" : outputs ,\n",
        "\n",
        "    }\n",
        "\n",
        "    if mode in [\"val\", \"test\"]:\n",
        "      _, tgt_results = torch.max(outputs, dim = 2)\n",
        "\n",
        "      src_texts =[]\n",
        "      tgt_texts =[]\n",
        "      res_texts =[]\n",
        "\n",
        "      # convert [L X B X others] --> [B X L X others]\n",
        "      for src_i in torch.transpose(src, 0, 1).detach().cpu().numpy().tolist(): # no gradient, use cpu, numpy transform, list\n",
        "        res = vocab_transform[self.cfg.data.src_lang].lookup_tokens(src_i)\n",
        "        src_texts.append(_test_postprocessing(res))\n",
        "\n",
        "      for tgt_i in torch.transpose(tgt, 0, 1).detach().cpu().numpy().tolist(): # no gradient, use cpu, numpy transform, list\n",
        "        res = vocab_transform[self.cfg.data.tgt_lang].lookup_tokens(tgt_i)\n",
        "        tgt_texts.append(_test_postprocessing(res))\n",
        "\n",
        "      for tgt_res_i in torch.transpose(tgt_results, 0, 1).detach().cpu().numpy().tolist(): # no gradient, use cpu, numpy transform, list\n",
        "        res = vocab_transform[self.cfg.data.tgt_lang].lookup_tokens(tgt_res_i)\n",
        "        res_texts.append(_test_postprocessing(res))\n",
        "\n",
        "    text_result_summary ={\n",
        "        f\"{mode}_src_text\" : src_texts,\n",
        "        f\"{mode}_tgt_text\" : tgt_texts,\n",
        "        f\"{mode}_results_text\" : res_texts,\n",
        "    }\n",
        "    print(f\"{self.global_step} step: \\n src_text: {src_texts[0]}, \\n tgt texts : {tgt_texts[0]}, \\n result_text: {res_texts[0]}\")\n",
        "    logs_detail.update(text_result_summary)\n",
        "\n",
        "    return {f\"{mode}_loss\":loss}, logs_detail\n",
        "\n",
        "  def training_step(self, batch, batch_idx):\n",
        "    src, tgt = batch[0], batch[1]\n",
        "    logs, _ =  self._forward(src, tgt, \"train\", self.cfg.model.teacher_forcing_ratio)\n",
        "    self.logs_dicts(logs)\n",
        "    logs['loss'] = logs['train_loss']\n",
        "    return logs\n",
        "\n",
        "  def validation_step(self, batch, batch_idx):\n",
        "    src, tgt = batch[0], batch[1]\n",
        "    logs, logs_detail =  self._forward(src, tgt, \"val\", 0.0)\n",
        "    self.logs_dicts(logs)\n",
        "    logs['loss'] = logs['val_loss']\n",
        "    logs.update(logs_detail)\n",
        "    return logs\n",
        "\n",
        "  def test_step(self, batch, batch_idx):\n",
        "    src, tgt = batch[0], batch[1]\n",
        "    logs, logs_detail =  self._forward(src, tgt, \"test\", 0.0)\n",
        "    self.logs_dicts(logs)\n",
        "    logs['loss'] = logs['test_loss']\n",
        "    logs.update(logs_detail)\n",
        "    return logs"
      ],
      "metadata": {
        "id": "S5Y4q4EI3yzg"
      },
      "execution_count": 24,
      "outputs": []
    },
    {
      "cell_type": "markdown",
      "source": [
        "## model definition\n"
      ],
      "metadata": {
        "id": "OVoqRKtdTBps"
      }
    },
    {
      "cell_type": "code",
      "source": [
        "# utils for initialization\n",
        "def init_weights(model : Union[nn.Module, pl.LightningModule]):\n",
        "  for name, param in model.named_parameters():\n",
        "    nn.init.uniform_(param.data, -0.08, 0.08)\n"
      ],
      "metadata": {
        "id": "u5H4AfXoH9xz"
      },
      "execution_count": 21,
      "outputs": []
    },
    {
      "cell_type": "code",
      "source": [
        "# model definition\n",
        "\n",
        "# 1. encoder (??)\n",
        "class LSTMEncoder(nn.Module):\n",
        "  def __init__(\n",
        "      self,\n",
        "      input_dim : int,\n",
        "      embed_dim : int,\n",
        "      hidden_dim : int,\n",
        "      n_layers : int,\n",
        "      dropout : float,\n",
        "  ):\n",
        "    super().__init__()\n",
        "    self.hidden_dim = hidden_dim\n",
        "    self.n_layers = n_layers\n",
        "\n",
        "    self.embedding = nn.Embedding(input_dim, embed_dim)\n",
        "    self.rnn = nn.LSTM(embed_dim, hidden_dim, n_layers, dropout = dropout)\n",
        "    self.dropout = nn.Dropout(dropout)\n",
        "\n",
        "    #initialize weights\n",
        "    self.apply(init_weights)\n",
        "\n",
        "\n",
        "  def forward(self, src):\n",
        "    # src = [seq_len, batch_size]\n",
        "    embedded = self.dropout(self.embedding(src)) # [seq_len, batch_size, emb_dim]\n",
        "\n",
        "    outputs , (hidden, cell)=self.rnn(embedded)\n",
        "\n",
        "    # outputs = [seq_len, batch_size, hidden_dim * n directional]\n",
        "    # hidden , cell = [n_layers * n_directions , batch_size, hidden_dim ]\n",
        "\n",
        "    # outputs will be used from top hidden layers\n",
        "    return hidden, cell\n",
        "\n",
        "# 2. decoder (??)\n",
        "class LSTMDecoder(nn.Module):\n",
        "  def __init__(\n",
        "      self,\n",
        "      input_dim : int,\n",
        "      output_dim : int,\n",
        "      embed_dim : int,\n",
        "      hidden_dim : int,\n",
        "      n_layers : int,\n",
        "      dropout : float,\n",
        "  ):\n",
        "    super().__init__()\n",
        "    self.hidden_dim = hidden_dim\n",
        "    self.n_layers = n_layers\n",
        "\n",
        "    self.embedding = nn.Embedding(input_dim, embed_dim)\n",
        "    self.rnn = nn.LSTM(embed_dim, hidden_dim, n_layers, dropout = dropout)\n",
        "    self.fc_out = nn.Linear(hidden_dim, output_dim)\n",
        "\n",
        "    self.dropout = nn.Dropout(dropout)\n",
        "\n",
        "  def forward(self, input, hidden, cell):\n",
        "    # input : [batch size X ...] <- start_token\n",
        "    # outputs = [seq_len, batch_size, hidden_dim * n directional]\n",
        "    # hidden , cell = [n_layers * 1_directions , batch_size, hidden_dim ]\n",
        "\n",
        "    input = input.unsqueeze(0) # <- [1, batch_size]\n",
        "    embedded = self.dropout(self.embedding(input))\n",
        "\n",
        "    #embedding = [1, batch_size, embed_dim]\n",
        "    output , (hidden, cell) = self.rnn(embedded, (hidden, cell))\n",
        "\n",
        "    # output = [1, batch_size, hidden_dim]\n",
        "    # hidden , cell = [n_layers * 1_directions , batch_size, hidden_dim ]\n",
        "\n",
        "    prediction = self.fc_out(output.squeeze(0)) #[ batch_size, output_dim]\n",
        "\n",
        "    return prediction, hidden, cell\n",
        "\n",
        "# 3. Seq2Seq(cfg) <-- encoder + decoder\n",
        "class LSTMSeqSeq(BaseTranslateLightningModule):\n",
        "  def __init__(self, cfg: DictConfig):\n",
        "    super().__init__(cfg)\n",
        "\n",
        "    self.encoder = LSTMEncoder(**cfg.model.enc)\n",
        "    self.decoder = LSTMDecoder(**cfg.model.dec)\n",
        "\n",
        "    assert self.encoder.hidden_dim == self.decoder.hidden_dim\n",
        "    assert self.encoder.n_layers == self.decoder.n_layers\n",
        "\n",
        "    # parameter initializing\n",
        "    self.apply(init_weights)\n",
        "\n",
        "  def forward(self, src, tgt, teacher_forcing_ratio : float =0.5):\n",
        "\n",
        "    # src, tgt = [seq_len (can be diffrent), batch_size]\n",
        "    # for val, test teacher forcing should be 0.0\n",
        "\n",
        "    batch_size = tgt.shape[0]\n",
        "    tgt_len = tgt.shape[0]\n",
        "    tgt_vocab_size = self.decoder.output_dim\n",
        "\n",
        "    # tensor to store decoder outputs\n",
        "    outputs = torch.zeros(tgt_len, batch_size, tgt_vocab_size).to(self.device)\n",
        "\n",
        "    hidden, cell = self.encoder(src)\n",
        "\n",
        "    # start_token_input (<sos> tokens)\n",
        "    input = tgt[0, :]\n",
        "    for t in range(1, tgt_len):\n",
        "\n",
        "      # get one cell's output\n",
        "      output, hidden, cell = self.decoder(input, hidden, cell)\n",
        "\n",
        "      # set to all outputs results\n",
        "      outputs[t] = output\n",
        "\n",
        "      # decide whether going to use teacher forcing or not.\n",
        "      teacher_force = random.random() < teacher_forcing_ratio\n",
        "\n",
        "      top1 = output.argmax(1) #logits 에서 가장 확률높은 토큰 뽑기\n",
        "\n",
        "      input = tgt[t] if teacher_forcing else top1\n",
        "\n",
        "    return outputs\n",
        "\n",
        "\n"
      ],
      "metadata": {
        "id": "Vk-PevfBShs6"
      },
      "execution_count": 25,
      "outputs": []
    },
    {
      "cell_type": "code",
      "source": [],
      "metadata": {
        "id": "aQfb_ycwdDSE"
      },
      "execution_count": null,
      "outputs": []
    }
  ]
}