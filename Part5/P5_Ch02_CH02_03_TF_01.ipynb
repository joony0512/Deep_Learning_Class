{
  "nbformat": 4,
  "nbformat_minor": 0,
  "metadata": {
    "colab": {
      "provenance": [],
      "authorship_tag": "ABX9TyOXE5rojzke5tJnk9Jnq3Wh",
      "include_colab_link": true
    },
    "kernelspec": {
      "name": "python3",
      "display_name": "Python 3"
    },
    "language_info": {
      "name": "python"
    },
    "accelerator": "GPU",
    "gpuClass": "standard"
  },
  "cells": [
    {
      "cell_type": "markdown",
      "metadata": {
        "id": "view-in-github",
        "colab_type": "text"
      },
      "source": [
        "<a href=\"https://colab.research.google.com/github/joony0512/Deep_Learning_Class/blob/main/Part5/P5_Ch02_CH02_03_TF_01.ipynb\" target=\"_parent\"><img src=\"https://colab.research.google.com/assets/colab-badge.svg\" alt=\"Open In Colab\"/></a>"
      ]
    },
    {
      "cell_type": "markdown",
      "source": [
        "# MLP - Tensorflow"
      ],
      "metadata": {
        "id": "PFodRp3iJIYX"
      }
    },
    {
      "cell_type": "code",
      "execution_count": 1,
      "metadata": {
        "colab": {
          "base_uri": "https://localhost:8080/"
        },
        "id": "Ta0CZFf49B_g",
        "outputId": "636c61a0-392f-4c4e-b062-8c0dd7ab3cb9"
      },
      "outputs": [
        {
          "output_type": "stream",
          "name": "stdout",
          "text": [
            "Mounted at /content/drive\n"
          ]
        }
      ],
      "source": [
        "from google.colab import drive\n",
        "drive.mount('/content/drive')"
      ]
    },
    {
      "cell_type": "code",
      "source": [
        "import os\n",
        "import sys\n",
        "sys.path.append('/content/drive/MyDrive/#fastcampus')\n",
        "!pip install -r '/content/drive/MyDrive/#fastcampus/requirements.txt'"
      ],
      "metadata": {
        "colab": {
          "base_uri": "https://localhost:8080/"
        },
        "id": "XfB2PJAF9Vay",
        "outputId": "dabee9b8-3155-44b3-e0ab-ef6b8482b302"
      },
      "execution_count": 5,
      "outputs": [
        {
          "output_type": "stream",
          "name": "stdout",
          "text": [
            "Looking in indexes: https://pypi.org/simple, https://us-python.pkg.dev/colab-wheels/public/simple/\n",
            "Collecting pytorch-lightning==1.3.8\n",
            "  Using cached pytorch_lightning-1.3.8-py3-none-any.whl (813 kB)\n",
            "Collecting torch-optimizer==0.1.0\n",
            "  Using cached torch_optimizer-0.1.0-py3-none-any.whl (72 kB)\n",
            "Collecting hydra-core==1.1\n",
            "  Using cached hydra_core-1.1.0-py3-none-any.whl (144 kB)\n",
            "Collecting wandb==0.11.1\n",
            "  Using cached wandb-0.11.1-py2.py3-none-any.whl (1.7 MB)\n",
            "Collecting torchtext==0.10.0\n",
            "  Using cached torchtext-0.10.0-cp39-cp39-manylinux1_x86_64.whl (7.6 MB)\n",
            "Collecting spacy==2.2.4\n",
            "  Using cached spacy-2.2.4.tar.gz (6.1 MB)\n",
            "  Installing build dependencies ... \u001b[?25l\u001b[?25hcanceled\n",
            "Traceback (most recent call last):\n",
            "  File \"/usr/local/lib/python3.9/dist-packages/pip/_internal/cli/base_command.py\", line 160, in exc_logging_wrapper\n",
            "    status = run_func(*args)\n",
            "  File \"/usr/local/lib/python3.9/dist-packages/pip/_internal/cli/req_command.py\", line 241, in wrapper\n",
            "    return func(self, options, args)\n",
            "  File \"/usr/local/lib/python3.9/dist-packages/pip/_internal/commands/install.py\", line 419, in run\n",
            "    requirement_set = resolver.resolve(\n",
            "  File \"/usr/local/lib/python3.9/dist-packages/pip/_internal/resolution/resolvelib/resolver.py\", line 92, in resolve\n",
            "    result = self._result = resolver.resolve(\n",
            "  File \"/usr/local/lib/python3.9/dist-packages/pip/_vendor/resolvelib/resolvers.py\", line 481, in resolve\n",
            "    state = resolution.resolve(requirements, max_rounds=max_rounds)\n",
            "  File \"/usr/local/lib/python3.9/dist-packages/pip/_vendor/resolvelib/resolvers.py\", line 348, in resolve\n",
            "    self._add_to_criteria(self.state.criteria, r, parent=None)\n",
            "  File \"/usr/local/lib/python3.9/dist-packages/pip/_vendor/resolvelib/resolvers.py\", line 172, in _add_to_criteria\n",
            "    if not criterion.candidates:\n",
            "  File \"/usr/local/lib/python3.9/dist-packages/pip/_vendor/resolvelib/structs.py\", line 151, in __bool__\n",
            "    return bool(self._sequence)\n",
            "  File \"/usr/local/lib/python3.9/dist-packages/pip/_internal/resolution/resolvelib/found_candidates.py\", line 155, in __bool__\n",
            "    return any(self)\n",
            "  File \"/usr/local/lib/python3.9/dist-packages/pip/_internal/resolution/resolvelib/found_candidates.py\", line 143, in <genexpr>\n",
            "    return (c for c in iterator if id(c) not in self._incompatible_ids)\n",
            "  File \"/usr/local/lib/python3.9/dist-packages/pip/_internal/resolution/resolvelib/found_candidates.py\", line 47, in _iter_built\n",
            "    candidate = func()\n",
            "  File \"/usr/local/lib/python3.9/dist-packages/pip/_internal/resolution/resolvelib/factory.py\", line 206, in _make_candidate_from_link\n",
            "    self._link_candidate_cache[link] = LinkCandidate(\n",
            "  File \"/usr/local/lib/python3.9/dist-packages/pip/_internal/resolution/resolvelib/candidates.py\", line 297, in __init__\n",
            "    super().__init__(\n",
            "  File \"/usr/local/lib/python3.9/dist-packages/pip/_internal/resolution/resolvelib/candidates.py\", line 162, in __init__\n",
            "    self.dist = self._prepare()\n",
            "  File \"/usr/local/lib/python3.9/dist-packages/pip/_internal/resolution/resolvelib/candidates.py\", line 231, in _prepare\n",
            "    dist = self._prepare_distribution()\n",
            "  File \"/usr/local/lib/python3.9/dist-packages/pip/_internal/resolution/resolvelib/candidates.py\", line 308, in _prepare_distribution\n",
            "    return preparer.prepare_linked_requirement(self._ireq, parallel_builds=True)\n",
            "  File \"/usr/local/lib/python3.9/dist-packages/pip/_internal/operations/prepare.py\", line 491, in prepare_linked_requirement\n",
            "    return self._prepare_linked_requirement(req, parallel_builds)\n",
            "  File \"/usr/local/lib/python3.9/dist-packages/pip/_internal/operations/prepare.py\", line 577, in _prepare_linked_requirement\n",
            "    dist = _get_prepared_distribution(\n",
            "  File \"/usr/local/lib/python3.9/dist-packages/pip/_internal/operations/prepare.py\", line 69, in _get_prepared_distribution\n",
            "    abstract_dist.prepare_distribution_metadata(\n",
            "  File \"/usr/local/lib/python3.9/dist-packages/pip/_internal/distributions/sdist.py\", line 38, in prepare_distribution_metadata\n",
            "    self._prepare_build_backend(finder)\n",
            "  File \"/usr/local/lib/python3.9/dist-packages/pip/_internal/distributions/sdist.py\", line 70, in _prepare_build_backend\n",
            "    self.req.build_env.install_requirements(\n",
            "  File \"/usr/local/lib/python3.9/dist-packages/pip/_internal/build_env.py\", line 217, in install_requirements\n",
            "    self._install_requirements(\n",
            "  File \"/usr/local/lib/python3.9/dist-packages/pip/_internal/build_env.py\", line 275, in _install_requirements\n",
            "    call_subprocess(\n",
            "  File \"/usr/local/lib/python3.9/dist-packages/pip/_internal/utils/subprocess.py\", line 166, in call_subprocess\n",
            "    line: str = proc.stdout.readline()\n",
            "  File \"/usr/lib/python3.9/codecs.py\", line 319, in decode\n",
            "    def decode(self, input, final=False):\n",
            "KeyboardInterrupt\n",
            "\n",
            "During handling of the above exception, another exception occurred:\n",
            "\n",
            "Traceback (most recent call last):\n",
            "  File \"/usr/local/bin/pip3\", line 8, in <module>\n",
            "    sys.exit(main())\n",
            "  File \"/usr/local/lib/python3.9/dist-packages/pip/_internal/cli/main.py\", line 70, in main\n",
            "    return command.main(cmd_args)\n",
            "  File \"/usr/local/lib/python3.9/dist-packages/pip/_internal/cli/base_command.py\", line 101, in main\n",
            "    return self._main(args)\n",
            "  File \"/usr/local/lib/python3.9/dist-packages/pip/_internal/cli/base_command.py\", line 214, in _main\n",
            "    return run(options, args)\n",
            "  File \"/usr/local/lib/python3.9/dist-packages/pip/_internal/cli/base_command.py\", line 197, in exc_logging_wrapper\n",
            "    logger.critical(\"Operation cancelled by user\")\n",
            "  File \"/usr/lib/python3.9/logging/__init__.py\", line 1493, in critical\n",
            "    self._log(CRITICAL, msg, args, **kwargs)\n",
            "  File \"/usr/lib/python3.9/logging/__init__.py\", line 1589, in _log\n",
            "    self.handle(record)\n",
            "  File \"/usr/lib/python3.9/logging/__init__.py\", line 1599, in handle\n",
            "    self.callHandlers(record)\n",
            "  File \"/usr/lib/python3.9/logging/__init__.py\", line 1661, in callHandlers\n",
            "    hdlr.handle(record)\n",
            "  File \"/usr/lib/python3.9/logging/__init__.py\", line 952, in handle\n",
            "    self.emit(record)\n",
            "  File \"/usr/local/lib/python3.9/dist-packages/pip/_internal/utils/logging.py\", line 177, in emit\n",
            "    self.console.print(renderable, overflow=\"ignore\", crop=False, style=style)\n",
            "  File \"/usr/local/lib/python3.9/dist-packages/pip/_vendor/rich/console.py\", line 1679, in print\n",
            "    render_options = self.options.update(\n",
            "  File \"/usr/local/lib/python3.9/dist-packages/pip/_vendor/rich/console.py\", line 977, in options\n",
            "    max_height=self.size.height,\n",
            "  File \"/usr/local/lib/python3.9/dist-packages/pip/_vendor/rich/console.py\", line 997, in size\n",
            "    if self.is_dumb_terminal:\n",
            "  File \"/usr/local/lib/python3.9/dist-packages/pip/_vendor/rich/console.py\", line 971, in is_dumb_terminal\n",
            "    return self.is_terminal and is_dumb\n",
            "  File \"/usr/local/lib/python3.9/dist-packages/pip/_vendor/rich/console.py\", line 954, in is_terminal\n",
            "    return False if isatty is None else isatty()\n",
            "KeyboardInterrupt\n",
            "^C\n"
          ]
        }
      ]
    },
    {
      "cell_type": "code",
      "source": [
        "import numpy as np\n",
        "from tqdm import tqdm\n",
        "import matplotlib.pyplot as plt\n",
        "\n",
        "import tensorflow as tf\n"
      ],
      "metadata": {
        "id": "1aXyOYQ99hGj"
      },
      "execution_count": 7,
      "outputs": []
    },
    {
      "cell_type": "code",
      "source": [
        "tf.config.list_physical_devices()"
      ],
      "metadata": {
        "colab": {
          "base_uri": "https://localhost:8080/"
        },
        "id": "wINzoU44BXof",
        "outputId": "f2661fc8-1888-4aa1-c49f-16ecb6cacf68"
      },
      "execution_count": 9,
      "outputs": [
        {
          "output_type": "execute_result",
          "data": {
            "text/plain": [
              "[PhysicalDevice(name='/physical_device:CPU:0', device_type='CPU'),\n",
              " PhysicalDevice(name='/physical_device:GPU:0', device_type='GPU')]"
            ]
          },
          "metadata": {},
          "execution_count": 9
        }
      ]
    },
    {
      "cell_type": "code",
      "source": [
        "!nvidia-smi"
      ],
      "metadata": {
        "colab": {
          "base_uri": "https://localhost:8080/"
        },
        "id": "t4O2LmSKBgJR",
        "outputId": "c5bfc4c6-4326-4ab3-9df1-9cb64b697976"
      },
      "execution_count": 10,
      "outputs": [
        {
          "output_type": "stream",
          "name": "stdout",
          "text": [
            "Thu Apr 13 05:11:21 2023       \n",
            "+-----------------------------------------------------------------------------+\n",
            "| NVIDIA-SMI 525.85.12    Driver Version: 525.85.12    CUDA Version: 12.0     |\n",
            "|-------------------------------+----------------------+----------------------+\n",
            "| GPU  Name        Persistence-M| Bus-Id        Disp.A | Volatile Uncorr. ECC |\n",
            "| Fan  Temp  Perf  Pwr:Usage/Cap|         Memory-Usage | GPU-Util  Compute M. |\n",
            "|                               |                      |               MIG M. |\n",
            "|===============================+======================+======================|\n",
            "|   0  Tesla T4            Off  | 00000000:00:04.0 Off |                    0 |\n",
            "| N/A   34C    P8     9W /  70W |      3MiB / 15360MiB |      0%      Default |\n",
            "|                               |                      |                  N/A |\n",
            "+-------------------------------+----------------------+----------------------+\n",
            "                                                                               \n",
            "+-----------------------------------------------------------------------------+\n",
            "| Processes:                                                                  |\n",
            "|  GPU   GI   CI        PID   Type   Process name                  GPU Memory |\n",
            "|        ID   ID                                                   Usage      |\n",
            "|=============================================================================|\n",
            "|  No running processes found                                                 |\n",
            "+-----------------------------------------------------------------------------+\n"
          ]
        }
      ]
    },
    {
      "cell_type": "code",
      "source": [
        "#define gpus strategy\n",
        "mirrored_strategy = tf.distribute.MirroredStrategy()"
      ],
      "metadata": {
        "id": "URrebKKoBm0r"
      },
      "execution_count": 11,
      "outputs": []
    },
    {
      "cell_type": "markdown",
      "source": [
        "## 데이터 및 데이터로더 정의"
      ],
      "metadata": {
        "id": "VQIeiio4FCzF"
      }
    },
    {
      "cell_type": "code",
      "source": [
        "with mirrored_strategy.scope():\n",
        "  # 데이터셋 정의\n",
        "  fashion_mnist = tf.keras.datasets.fashion_mnist\n",
        "  (x_train, y_train), (x_test, y_test) = fashion_mnist.load_data()\n",
        "  # normalization\n",
        "  x_train =x_train/255.0\n",
        "  x_test = x_test/255.0\n",
        "\n",
        "  # train/val splits\n",
        "  train_size = int(len(x_train)*0.9)\n",
        "  val_size = len(x_train) -train_size\n",
        "\n",
        "  dataset = tf.data.Dataset.from_tensor_slices((x_train, y_train)).shuffle(buffer_size = 1024)\n",
        "  test_dataset = tf.data.Dataset.from_tensor_slices((x_test, y_test)).shuffle(buffer_size = 1024)\n",
        "\n",
        "  train_dataset = dataset.take(train_size)\n",
        "  val_dataset = dataset.skip(train_size)\n",
        "  print(len(train_dataset), len(val_dataset), len(dataset), len(test_dataset))\n",
        "\n",
        "  # dataloader 정의\n",
        "  train_batch_size =100\n",
        "  val_batch_size =10\n",
        "  test_batch_size =100\n",
        "\n",
        "  train_dataloader = train_dataset.batch(train_batch_size, drop_remainder=True)\n",
        "  val_dataloader = val_dataset.batch(val_batch_size, drop_remainder=True)\n",
        "  test_dataloader = test_dataset.batch(test_batch_size, drop_remainder=True)\n",
        "\n",
        "sample_example = next(iter(train_dataloader))\n",
        "print(sample_example)"
      ],
      "metadata": {
        "colab": {
          "base_uri": "https://localhost:8080/"
        },
        "id": "zEsQoSyaC_Th",
        "outputId": "bbf0714b-1312-42c4-b762-1edfe99a2ace"
      },
      "execution_count": 18,
      "outputs": [
        {
          "output_type": "stream",
          "name": "stdout",
          "text": [
            "54000 6000 60000 10000\n",
            "(<tf.Tensor: shape=(100, 28, 28), dtype=float64, numpy=\n",
            "array([[[0.        , 0.        , 0.        , ..., 0.        ,\n",
            "         0.        , 0.        ],\n",
            "        [0.        , 0.        , 0.        , ..., 0.        ,\n",
            "         0.        , 0.        ],\n",
            "        [0.        , 0.        , 0.        , ..., 0.        ,\n",
            "         0.        , 0.        ],\n",
            "        ...,\n",
            "        [0.        , 0.        , 0.        , ..., 0.        ,\n",
            "         0.        , 0.        ],\n",
            "        [0.        , 0.        , 0.        , ..., 0.        ,\n",
            "         0.        , 0.        ],\n",
            "        [0.        , 0.        , 0.        , ..., 0.        ,\n",
            "         0.        , 0.        ]],\n",
            "\n",
            "       [[0.        , 0.        , 0.        , ..., 0.        ,\n",
            "         0.        , 0.        ],\n",
            "        [0.        , 0.        , 0.        , ..., 0.        ,\n",
            "         0.        , 0.        ],\n",
            "        [0.        , 0.        , 0.        , ..., 0.        ,\n",
            "         0.        , 0.        ],\n",
            "        ...,\n",
            "        [0.        , 0.        , 0.        , ..., 0.        ,\n",
            "         0.        , 0.        ],\n",
            "        [0.        , 0.        , 0.        , ..., 0.        ,\n",
            "         0.        , 0.        ],\n",
            "        [0.        , 0.        , 0.        , ..., 0.        ,\n",
            "         0.        , 0.        ]],\n",
            "\n",
            "       [[0.        , 0.        , 0.        , ..., 0.00392157,\n",
            "         0.        , 0.        ],\n",
            "        [0.        , 0.        , 0.        , ..., 0.        ,\n",
            "         0.        , 0.        ],\n",
            "        [0.        , 0.        , 0.        , ..., 0.        ,\n",
            "         0.        , 0.        ],\n",
            "        ...,\n",
            "        [0.        , 0.        , 0.        , ..., 0.        ,\n",
            "         0.        , 0.        ],\n",
            "        [0.        , 0.        , 0.        , ..., 0.        ,\n",
            "         0.        , 0.        ],\n",
            "        [0.        , 0.        , 0.        , ..., 0.        ,\n",
            "         0.        , 0.        ]],\n",
            "\n",
            "       ...,\n",
            "\n",
            "       [[0.        , 0.        , 0.        , ..., 0.        ,\n",
            "         0.        , 0.        ],\n",
            "        [0.        , 0.        , 0.        , ..., 0.        ,\n",
            "         0.        , 0.        ],\n",
            "        [0.        , 0.        , 0.        , ..., 0.        ,\n",
            "         0.        , 0.        ],\n",
            "        ...,\n",
            "        [0.        , 0.        , 0.        , ..., 0.        ,\n",
            "         0.        , 0.        ],\n",
            "        [0.        , 0.        , 0.        , ..., 0.        ,\n",
            "         0.        , 0.        ],\n",
            "        [0.        , 0.        , 0.        , ..., 0.        ,\n",
            "         0.        , 0.        ]],\n",
            "\n",
            "       [[0.        , 0.        , 0.        , ..., 0.        ,\n",
            "         0.        , 0.        ],\n",
            "        [0.        , 0.        , 0.        , ..., 0.        ,\n",
            "         0.        , 0.        ],\n",
            "        [0.        , 0.        , 0.        , ..., 0.        ,\n",
            "         0.        , 0.        ],\n",
            "        ...,\n",
            "        [0.        , 0.        , 0.        , ..., 0.        ,\n",
            "         0.        , 0.        ],\n",
            "        [0.        , 0.        , 0.        , ..., 0.        ,\n",
            "         0.        , 0.        ],\n",
            "        [0.        , 0.        , 0.        , ..., 0.        ,\n",
            "         0.        , 0.        ]],\n",
            "\n",
            "       [[0.        , 0.        , 0.        , ..., 0.        ,\n",
            "         0.        , 0.        ],\n",
            "        [0.        , 0.        , 0.        , ..., 0.        ,\n",
            "         0.        , 0.        ],\n",
            "        [0.        , 0.        , 0.        , ..., 0.        ,\n",
            "         0.        , 0.        ],\n",
            "        ...,\n",
            "        [0.        , 0.        , 0.        , ..., 0.        ,\n",
            "         0.        , 0.        ],\n",
            "        [0.        , 0.        , 0.        , ..., 0.        ,\n",
            "         0.        , 0.        ],\n",
            "        [0.        , 0.        , 0.        , ..., 0.        ,\n",
            "         0.        , 0.        ]]])>, <tf.Tensor: shape=(100,), dtype=uint8, numpy=\n",
            "array([7, 3, 0, 3, 0, 0, 1, 1, 7, 2, 1, 3, 7, 2, 8, 8, 0, 5, 9, 7, 1, 4,\n",
            "       5, 5, 1, 0, 1, 6, 3, 2, 9, 7, 6, 7, 2, 3, 4, 8, 9, 8, 8, 9, 3, 2,\n",
            "       3, 0, 7, 7, 7, 9, 3, 7, 8, 5, 3, 9, 0, 2, 3, 4, 0, 1, 8, 7, 4, 4,\n",
            "       2, 1, 5, 2, 4, 4, 2, 3, 1, 1, 7, 9, 1, 0, 8, 1, 6, 6, 2, 0, 5, 6,\n",
            "       0, 5, 1, 2, 6, 0, 3, 7, 9, 3, 2, 0], dtype=uint8)>)\n"
          ]
        }
      ]
    },
    {
      "cell_type": "code",
      "source": [
        "# plot figure\n",
        "plt.figure(figsize = (8,8))\n",
        "for c in range(16):\n",
        "  plt.subplot(4,4,c+1)\n",
        "  plt.imshow(x_train[c].reshape(28,28), cmap ='gray')\n",
        "plt.show()"
      ],
      "metadata": {
        "colab": {
          "base_uri": "https://localhost:8080/",
          "height": 679
        },
        "id": "D1rfrEMSEA-K",
        "outputId": "a0d45eb4-2734-42e2-a9af-1f37820b1931"
      },
      "execution_count": 14,
      "outputs": [
        {
          "output_type": "display_data",
          "data": {
            "text/plain": [
              "<Figure size 800x800 with 16 Axes>"
            ],
            "image/png": "[encoded data removed]"
          },
          "metadata": {}
        }
      ]
    }
  ]
}