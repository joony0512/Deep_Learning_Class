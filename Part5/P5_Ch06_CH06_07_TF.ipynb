{
  "nbformat": 4,
  "nbformat_minor": 0,
  "metadata": {
    "colab": {
      "provenance": [],
      "gpuType": "T4",
      "collapsed_sections": [
        "Q5evIgyt0f2k"
      ],
      "toc_visible": true,
      "authorship_tag": "ABX9TyOZTqV+MJohx7EQzLuuqP0M",
      "include_colab_link": true
    },
    "kernelspec": {
      "name": "python3",
      "display_name": "Python 3"
    },
    "language_info": {
      "name": "python"
    },
    "accelerator": "GPU"
  },
  "cells": [
    {
      "cell_type": "markdown",
      "metadata": {
        "id": "view-in-github",
        "colab_type": "text"
      },
      "source": [
        "<a href=\"https://colab.research.google.com/github/joony0512/Deep_Learning_Class/blob/main/Part5/P5_Ch06_CH06_07_TF.ipynb\" target=\"_parent\"><img src=\"https://colab.research.google.com/assets/colab-badge.svg\" alt=\"Open In Colab\"/></a>"
      ]
    },
    {
      "cell_type": "markdown",
      "source": [
        "# RNN SeqSeq"
      ],
      "metadata": {
        "id": "PFodRp3iJIYX"
      }
    },
    {
      "cell_type": "code",
      "execution_count": 2,
      "metadata": {
        "colab": {
          "base_uri": "https://localhost:8080/"
        },
        "id": "Ta0CZFf49B_g",
        "outputId": "194a2164-8ad9-4268-a5cf-85d5ded66ac8"
      },
      "outputs": [
        {
          "output_type": "stream",
          "name": "stdout",
          "text": [
            "Mounted at /content/drive\n"
          ]
        }
      ],
      "source": [
        "from google.colab import drive\n",
        "drive.mount('/content/drive')"
      ]
    },
    {
      "cell_type": "code",
      "source": [
        "%cd /content/drive/MyDrive/#fastcampus\n",
        "!pwd\n",
        "\n",
        "!ls"
      ],
      "metadata": {
        "id": "9sMzDNNgwB5A",
        "colab": {
          "base_uri": "https://localhost:8080/"
        },
        "outputId": "454ebebe-5b31-4833-aede-ab8d47f7887a"
      },
      "execution_count": 3,
      "outputs": [
        {
          "output_type": "stream",
          "name": "stdout",
          "text": [
            "/content/drive/MyDrive/#fastcampus\n",
            "/content/drive/MyDrive/#fastcampus\n",
            " config_utils.py      data_utils.py   requirements.txt\n",
            " config_utils_tf.py   __init__.py     runs\n",
            " config.yaml\t      logs\t     'runs(torch)'\n",
            " custom_math.py       models\t      wandb\n",
            " data\t\t      __pycache__    '[강의자료]-노트북-ipynb-파일'\n"
          ]
        }
      ]
    },
    {
      "cell_type": "code",
      "source": [
        "import os\n",
        "import sys\n",
        "sys.path.append('/content/drive/MyDrive/#fastcampus')\n",
        "drive_project_root = '/content/drive/MyDrive/#fastcampus'\n",
        "!pip install -r '/content/drive/MyDrive/#fastcampus/requirements.txt'"
      ],
      "metadata": {
        "id": "XfB2PJAF9Vay"
      },
      "execution_count": null,
      "outputs": []
    },
    {
      "cell_type": "code",
      "source": [
        "!pip install tensorflow-addons\n",
        "!pip install wandb\n",
        "!pip install omegaconf\n",
        "!pip install hydra-core==1.1\n"
      ],
      "metadata": {
        "id": "q66nwbt-8TWL"
      },
      "execution_count": null,
      "outputs": []
    },
    {
      "cell_type": "code",
      "source": [
        "from typing import Optional\n",
        "from typing import List\n",
        "from typing import Dict\n",
        "from typing import Tuple\n",
        "\n",
        "import io\n",
        "import re\n",
        "import unicodedata\n",
        "import time\n",
        "from datetime import datetime\n",
        "\n",
        "import numpy as np\n",
        "from tqdm import tqdm\n",
        "import matplotlib.pyplot as plt\n",
        "import matplotlib.pyplot as ticker\n",
        "from omegaconf import OmegaConf\n",
        "from omegaconf import DictConfig\n",
        "import hydra\n",
        "from hydra.core.config_store import ConfigStore\n",
        "\n",
        "import tensorflow as tf\n",
        "import tensorflow_addons as tfa\n",
        "from tensorflow.keras.preprocessing.sequence import pad_sequences\n",
        "from tensorflow.keras.preprocessing.text import Tokenizer\n",
        "\n",
        "import wandb\n"
      ],
      "metadata": {
        "id": "1aXyOYQ99hGj",
        "colab": {
          "base_uri": "https://localhost:8080/"
        },
        "outputId": "2a86a7c8-cca8-460e-c15d-8b03c6508077"
      },
      "execution_count": 6,
      "outputs": [
        {
          "output_type": "stream",
          "name": "stderr",
          "text": [
            "/usr/local/lib/python3.10/dist-packages/tensorflow_addons/utils/tfa_eol_msg.py:23: UserWarning: \n",
            "\n",
            "TensorFlow Addons (TFA) has ended development and introduction of new features.\n",
            "TFA has entered a minimal maintenance and release mode until a planned end of life in May 2024.\n",
            "Please modify downstream libraries to take dependencies from other repositories in our TensorFlow community (e.g. Keras, Keras-CV, and Keras-NLP). \n",
            "\n",
            "For more information see: https://github.com/tensorflow/addons/issues/2807 \n",
            "\n",
            "  warnings.warn(\n"
          ]
        }
      ]
    },
    {
      "cell_type": "code",
      "source": [
        "from data_utils import dataset_split\n",
        "from config_utils_tf import flatten_dict\n",
        "from config_utils_tf import register_config\n",
        "from config_utils_tf import get_optimizer_element\n",
        "from config_utils_tf import get_callbacks\n"
      ],
      "metadata": {
        "id": "xD6siBMUV9pI"
      },
      "execution_count": 7,
      "outputs": []
    },
    {
      "cell_type": "code",
      "source": [
        "tf.config.list_physical_devices()"
      ],
      "metadata": {
        "colab": {
          "base_uri": "https://localhost:8080/"
        },
        "id": "wINzoU44BXof",
        "outputId": "18c12108-f094-45aa-999b-bac5af0592e0"
      },
      "execution_count": 8,
      "outputs": [
        {
          "output_type": "execute_result",
          "data": {
            "text/plain": [
              "[PhysicalDevice(name='/physical_device:CPU:0', device_type='CPU'),\n",
              " PhysicalDevice(name='/physical_device:GPU:0', device_type='GPU')]"
            ]
          },
          "metadata": {},
          "execution_count": 8
        }
      ]
    },
    {
      "cell_type": "code",
      "source": [
        "!nvidia-smi"
      ],
      "metadata": {
        "colab": {
          "base_uri": "https://localhost:8080/"
        },
        "id": "t4O2LmSKBgJR",
        "outputId": "22a75d5b-5b34-45b4-9267-b8bb75d35674"
      },
      "execution_count": 9,
      "outputs": [
        {
          "output_type": "stream",
          "name": "stdout",
          "text": [
            "Sun Jul 16 10:01:49 2023       \n",
            "+-----------------------------------------------------------------------------+\n",
            "| NVIDIA-SMI 525.105.17   Driver Version: 525.105.17   CUDA Version: 12.0     |\n",
            "|-------------------------------+----------------------+----------------------+\n",
            "| GPU  Name        Persistence-M| Bus-Id        Disp.A | Volatile Uncorr. ECC |\n",
            "| Fan  Temp  Perf  Pwr:Usage/Cap|         Memory-Usage | GPU-Util  Compute M. |\n",
            "|                               |                      |               MIG M. |\n",
            "|===============================+======================+======================|\n",
            "|   0  Tesla T4            Off  | 00000000:00:04.0 Off |                    0 |\n",
            "| N/A   48C    P8    12W /  70W |      3MiB / 15360MiB |      0%      Default |\n",
            "|                               |                      |                  N/A |\n",
            "+-------------------------------+----------------------+----------------------+\n",
            "                                                                               \n",
            "+-----------------------------------------------------------------------------+\n",
            "| Processes:                                                                  |\n",
            "|  GPU   GI   CI        PID   Type   Process name                  GPU Memory |\n",
            "|        ID   ID                                                   Usage      |\n",
            "|=============================================================================|\n",
            "|  No running processes found                                                 |\n",
            "+-----------------------------------------------------------------------------+\n"
          ]
        }
      ]
    },
    {
      "cell_type": "markdown",
      "source": [
        "## 데이터 및 데이터로더 정의 및 전처리"
      ],
      "metadata": {
        "id": "VQIeiio4FCzF"
      }
    },
    {
      "cell_type": "code",
      "source": [
        "# Download the file\n",
        "data_root = os.path.join(drive_project_root, \"data\", \"anki_spa_eng\")\n",
        "if not os.path.exists(data_root):\n",
        "    os.mkdir(data_root)\n",
        "\n",
        "data_path = os.path.join(data_root, \"spa-eng.zip\")\n",
        "\n",
        "path_to_zip = tf.keras.utils.get_file(\n",
        "    data_path,\n",
        "    origin='http://storage.googleapis.com/download.tensorflow.org/data/spa-eng.zip',\n",
        "    extract=True,\n",
        "    cache_dir = data_root)\n",
        "\n",
        "path_to_file = os.path.join(\n",
        "    os.path.dirname(path_to_zip),\n",
        "    \"datasets\",\n",
        "    \"spa-eng\",\n",
        "    \"spa.txt\",\n",
        ")\n",
        "\n",
        "print(path_to_file)"
      ],
      "metadata": {
        "colab": {
          "base_uri": "https://localhost:8080/"
        },
        "id": "UoH0ipZ1qDkz",
        "outputId": "83e3ef72-09e0-4bac-efae-c83c37b360ed"
      },
      "execution_count": 10,
      "outputs": [
        {
          "output_type": "stream",
          "name": "stdout",
          "text": [
            "/content/drive/MyDrive/#fastcampus/data/anki_spa_eng/datasets/spa-eng/spa.txt\n"
          ]
        }
      ]
    },
    {
      "cell_type": "code",
      "source": [
        "# 전처리\n",
        "\n",
        "def unicode_to_ascii(s):\n",
        "    return \"\".join(c for c in unicodedata.normalize(\"NFD\", s) if unicodedata.category(c) !=\"Mn\")\n",
        "\n",
        "def preprocessing_sentence(w):\n",
        "    # ascii 로 변환 및 소문자로 변환\n",
        "    w = unicode_to_ascii(w.lower().strip())\n",
        "    # 단어와 단어 뒤에 오는 구두점(.) 사이에 공백을 생성\n",
        "    w = re.sub(r\"([?.!,¿])\", r\" \\1 \", w)\n",
        "    w = re.sub(r'[\" \"]+', \" \", w)\n",
        "\n",
        "    # (a-z, A-Z, [?.!,¿] 을 제외한 모든 것을 공백으로 대체)\n",
        "    w = re.sub(r\"[^a-zA-Z?.!,¿]+\", \" \", w)\n",
        "    w = w.strip()\n",
        "\n",
        "    # 모델의 앞뒤에 start, end 토큰 추가\n",
        "    w = \"<start> \"+ w +\" <end>\"\n",
        "    return w\n",
        "\n",
        "def create_dataset(path : str, num_examples : Optional[int]=None):\n",
        "    lines = io.open(path, encoding = \"UTF-8\").read().strip().split(\"\\n\")\n",
        "\n",
        "    word_pairs =[[preprocessing_sentence(w) for w in l.split(\"\\t\")] for l in lines[:num_examples] ]\n",
        "    # None인경우 다가져오고 숫자가 있는경우 숫자만큼만 가져온다.\n",
        "    return zip(*word_pairs)\n",
        "\n",
        "\n",
        "en, sp = create_dataset(path_to_file)\n",
        "print(en[-1])\n",
        "print(sp[-1])"
      ],
      "metadata": {
        "colab": {
          "base_uri": "https://localhost:8080/"
        },
        "id": "61hiPvAHsL8l",
        "outputId": "2927efca-e235-46d2-cffe-e48c138477f0"
      },
      "execution_count": 11,
      "outputs": [
        {
          "output_type": "stream",
          "name": "stdout",
          "text": [
            "<start> if you want to sound like a native speaker , you must be willing to practice saying the same sentence over and over in the same way that banjo players practice the same phrase over and over until they can play it correctly and at the desired tempo . <end>\n",
            "<start> si quieres sonar como un hablante nativo , debes estar dispuesto a practicar diciendo la misma frase una y otra vez de la misma manera en que un musico de banjo practica el mismo fraseo una y otra vez hasta que lo puedan tocar correctamente y en el tiempo esperado . <end>\n"
          ]
        }
      ]
    },
    {
      "cell_type": "code",
      "source": [
        "# Tokenizer 정의, 최종적으로 쓸 데이터 정의.\n",
        "\n",
        "def tokenize(lang):\n",
        "    lang_tokenizer = tf.keras.preprocessing.text.Tokenizer(filters =\"\")\n",
        "    lang_tokenizer.fit_on_texts(lang)\n",
        "\n",
        "    tensor = lang_tokenizer.texts_to_sequences(lang)\n",
        "    tensor = pad_sequences(tensor, padding = 'post')\n",
        "\n",
        "    return tensor, lang_tokenizer\n",
        "\n",
        "def load_dataset(path, num_examples = None):\n",
        "\n",
        "    tar_lang, src_lang = create_dataset(path, num_examples) # en, sp\n",
        "\n",
        "    src_tensor, src_tokenizer = tokenize(src_lang)\n",
        "    tar_tensor, tar_tokenizer = tokenize(tar_lang)\n",
        "\n",
        "    return src_tensor, tar_tensor, src_tokenizer,tar_tokenizer\n",
        "\n",
        "# 언어 데이터셋을 불러오기\n",
        "num_examples = 30000\n",
        "src_tensor, tar_tensor, src_tokenizer,tar_tokenizer = load_dataset(\n",
        "    path_to_file, num_examples\n",
        ")\n",
        "\n",
        "max_tar_len, max_src_len = tar_tensor.shape[1], src_tensor.shape[1]\n",
        "\n",
        "src_vocab_size = len(src_tokenizer.word_index) +1\n",
        "tar_vocab_size = len(tar_tokenizer.word_index) +1\n",
        "\n",
        "print(src_vocab_size)\n",
        "print(tar_vocab_size)\n"
      ],
      "metadata": {
        "colab": {
          "base_uri": "https://localhost:8080/"
        },
        "id": "UXsBIapG0bcD",
        "outputId": "ec02e660-fae9-4fa5-bb00-fb8e3c4959b7"
      },
      "execution_count": 12,
      "outputs": [
        {
          "output_type": "stream",
          "name": "stdout",
          "text": [
            "9414\n",
            "4935\n"
          ]
        }
      ]
    },
    {
      "cell_type": "code",
      "source": [
        "print(tar_tensor[-2])\n",
        "print(tar_tokenizer.word_index)\n",
        "\n",
        "for i in tar_tensor[-2]:\n",
        "    if i ==0:\n",
        "        break\n",
        "    print(i, tar_tokenizer.index_word[i])"
      ],
      "metadata": {
        "colab": {
          "base_uri": "https://localhost:8080/"
        },
        "id": "bmYtoRy2g12W",
        "outputId": "2c0deeb7-8c22-4d33-9a7b-4747b8685e0c"
      },
      "execution_count": 13,
      "outputs": [
        {
          "output_type": "stream",
          "name": "stdout",
          "text": [
            "[  1  16  38 369 107  39   3   2   0   0   0]\n",
            "{'<start>': 1, '<end>': 2, '.': 3, 'i': 4, 'tom': 5, 'you': 6, '?': 7, 'is': 8, 'a': 9, 'it': 10, 's': 11, 't': 12, 'the': 13, 'he': 14, 'to': 15, 'we': 16, 'me': 17, 'm': 18, 'this': 19, 'that': 20, 'my': 21, 'do': 22, 're': 23, 'are': 24, 'can': 25, 'was': 26, 'she': 27, 'they': 28, 'have': 29, 'don': 30, 'your': 31, 'what': 32, 'in': 33, 'not': 34, 'like': 35, 'go': 36, '!': 37, 'll': 38, 'here': 39, 'be': 40, 'him': 41, 'did': 42, 'know': 43, 'on': 44, 'mary': 45, 'let': 46, 'want': 47, 'very': 48, ',': 49, 'up': 50, 'has': 51, 'how': 52, 'come': 53, 'for': 54, 'at': 55, 'please': 56, 'there': 57, 'now': 58, 'of': 59, 'who': 60, 'his': 61, 'am': 62, 'need': 63, 'get': 64, 've': 65, 'no': 66, 'all': 67, 'her': 68, 'good': 69, 'just': 70, 'where': 71, 'see': 72, 'help': 73, 'out': 74, 'will': 75, 'got': 76, 'love': 77, 'too': 78, 'an': 79, 'with': 80, 'us': 81, 'why': 82, 'car': 83, 'one': 84, 'so': 85, 'stop': 86, 'didn': 87, 'look': 88, 'home': 89, 'isn': 90, 'back': 91, 'were': 92, 'work': 93, 'take': 94, 'saw': 95, 'may': 96, 'time': 97, 'give': 98, 'had': 99, 'won': 100, 'happy': 101, 'leave': 102, 'still': 103, 'dog': 104, 'lost': 105, 'never': 106, 'right': 107, 'must': 108, 'well': 109, 'today': 110, 'keep': 111, 'eat': 112, 'book': 113, 'think': 114, 'money': 115, 'tell': 116, 'made': 117, 'went': 118, 'about': 119, 'stay': 120, 'likes': 121, 'call': 122, 'should': 123, 'does': 124, 'try': 125, 'them': 126, 'speak': 127, 'down': 128, 'going': 129, 'really': 130, 'again': 131, 'wait': 132, 'hate': 133, 'job': 134, 'feel': 135, 'say': 136, 'looks': 137, 'old': 138, 'french': 139, 'some': 140, 'bad': 141, 'off': 142, 'live': 143, 'from': 144, 'came': 145, 'new': 146, 'tired': 147, 'busy': 148, 'talk': 149, 'our': 150, 'left': 151, 'alone': 152, 'lot': 153, 'much': 154, 'big': 155, 'make': 156, 'nobody': 157, 'boston': 158, 'man': 159, 'been': 160, 'play': 161, 'more': 162, 'and': 163, 'wasn': 164, 'room': 165, 'pay': 166, 'late': 167, 'house': 168, 'could': 169, 'away': 170, 'ask': 171, 'true': 172, 'gave': 173, 'read': 174, 'said': 175, 'doesn': 176, 'watch': 177, 'nothing': 178, 'loves': 179, 'wants': 180, 'when': 181, 'ready': 182, 'cold': 183, 'wrong': 184, 'open': 185, 'nice': 186, 'something': 187, 'everyone': 188, 'life': 189, 'these': 190, 'day': 191, 'hurt': 192, 'angry': 193, 'd': 194, 'everything': 195, 'way': 196, 'over': 197, 'mine': 198, 'put': 199, 'knows': 200, 'door': 201, 'find': 202, 'by': 203, 'hard': 204, 'turn': 205, 'friend': 206, 'drink': 207, 'two': 208, 'only': 209, 'already': 210, 'boy': 211, 'always': 212, 'ate': 213, 'fun': 214, 'tv': 215, 'felt': 216, 'coming': 217, 'bed': 218, 'as': 219, 'hot': 220, 'remember': 221, 'bought': 222, 'pretty': 223, 'fast': 224, 'hungry': 225, 'father': 226, 'answer': 227, 'great': 228, 'cat': 229, 'understand': 230, 'long': 231, 'sick': 232, 'died': 233, 'knew': 234, 'school': 235, 'ran': 236, 'everybody': 237, 'done': 238, 'hope': 239, 'broke': 240, 'drunk': 241, 'anything': 242, 'name': 243, 'sit': 244, 'sleep': 245, 'swim': 246, 'friends': 247, 'easy': 248, 'better': 249, 'heard': 250, 'wanted': 251, 'ok': 252, 'married': 253, 'those': 254, 'show': 255, 'hear': 256, 'told': 257, 'water': 258, 'idea': 259, 'tomorrow': 260, 'doing': 261, 'miss': 262, 'yours': 263, 'start': 264, 'night': 265, 'both': 266, 'aren': 267, 'drive': 268, 'afraid': 269, 'needs': 270, 'would': 271, 'buy': 272, 'stupid': 273, 'seems': 274, 'crazy': 275, 'looked': 276, 'monday': 277, 'best': 278, 'listen': 279, 'hold': 280, 'hurry': 281, 'walk': 282, 'study': 283, 'soon': 284, 'first': 285, 'loved': 286, 'early': 287, 'close': 288, 'bit': 289, 'wish': 290, 'believe': 291, 'might': 292, 'free': 293, 'sad': 294, 'sing': 295, 'smart': 296, 'dead': 297, 'problem': 298, 'later': 299, 'books': 300, 'doctor': 301, 'kill': 302, 'little': 303, 'use': 304, 'works': 305, 'gone': 306, 'asked': 307, 'fine': 308, 'cry': 309, 'wife': 310, 'took': 311, 'mother': 312, 'run': 313, 'next': 314, 'red': 315, 'stand': 316, 'write': 317, 'lie': 318, 'mad': 319, 'food': 320, 'sat': 321, 'bus': 322, 'yourself': 323, 'eyes': 324, 'hair': 325, 'rich': 326, 'dogs': 327, 'met': 328, 'people': 329, 'lying': 330, 'found': 331, 'eating': 332, 'called': 333, 'talking': 334, 'lunch': 335, 'almost': 336, 'kind': 337, 'hit': 338, 'mean': 339, 'tall': 340, 'reading': 341, 'sure': 342, 'beautiful': 343, 'hands': 344, 'trust': 345, 'forget': 346, 'beer': 347, 'singing': 348, 'cake': 349, 'girl': 350, 'thanks': 351, 'young': 352, 'rain': 353, 'hand': 354, 'last': 355, 'bag': 356, 'used': 357, 'yet': 358, 'three': 359, 'crying': 360, 'changed': 361, 'seen': 362, 'coffee': 363, 'teacher': 364, 'any': 365, 'tried': 366, 'move': 367, 'die': 368, 'meet': 369, 'fish': 370, 'another': 371, 'shoes': 372, 'getting': 373, 'fat': 374, 'safe': 375, 'milk': 376, 'lucky': 377, 'running': 378, 'someone': 379, 'english': 380, 'story': 381, 'bring': 382, 'tea': 383, 'arrived': 384, 'key': 385, 'helped': 386, 'seat': 387, 'whose': 388, 'once': 389, 'myself': 390, 'drank': 391, 'enough': 392, 'small': 393, 'dream': 394, 'son': 395, 'dinner': 396, 'which': 397, 'seem': 398, 'lives': 399, 'shut': 400, 'liked': 401, 'win': 402, 'cats': 403, 'working': 404, 'japanese': 405, 'happen': 406, 'word': 407, 'watching': 408, 'person': 409, 'than': 410, 'started': 411, 'broken': 412, 'pen': 413, 'tennis': 414, 'turned': 415, 'family': 416, 'into': 417, 'sister': 418, 'yesterday': 419, 'quit': 420, 'real': 421, 'cook': 422, 'sorry': 423, 'wine': 424, 'yes': 425, 'joke': 426, 'hat': 427, 'rules': 428, 'short': 429, 'plan': 430, 'week': 431, 'own': 432, 'fault': 433, 'minute': 434, 'fire': 435, 'care': 436, 'around': 437, 'clean': 438, 'became': 439, 'owe': 440, 'maybe': 441, 'anyone': 442, 'patient': 443, 'hide': 444, 'woman': 445, 'secret': 446, 'many': 447, 'outside': 448, 'face': 449, 'touch': 450, 'together': 451, 'kept': 452, 'quiet': 453, 'guys': 454, 'thank': 455, 'cut': 456, 'kids': 457, 'often': 458, 'send': 459, 'box': 460, 'stopped': 461, 'things': 462, 'lawyer': 463, 'enjoy': 464, 'truth': 465, 'child': 466, 'game': 467, 'being': 468, 'enemy': 469, 'bicycle': 470, 'shirt': 471, 'fell': 472, 'full': 473, 'kiss': 474, 'awake': 475, 'shot': 476, 'blame': 477, 'happened': 478, 'dance': 479, 'hates': 480, 'phone': 481, 'apple': 482, 'born': 483, 'boring': 484, 'hiding': 485, 'anybody': 486, 'smoke': 487, 'waiting': 488, 'rest': 489, 'funny': 490, 'studying': 491, 'asleep': 492, 'choice': 493, 'war': 494, 'save': 495, 'fly': 496, 'follow': 497, 'far': 498, 'men': 499, 'empty': 500, 'news': 501, 'fired': 502, 'caught': 503, 'somebody': 504, 'glasses': 505, 'mistake': 506, 'brother': 507, 'began': 508, 'letter': 509, 'quite': 510, 'cannot': 511, 'forgot': 512, 'laughed': 513, 'wrote': 514, 'party': 515, 'break': 516, 'important': 517, 'sounds': 518, 'place': 519, 'children': 520, 'deep': 521, 'failed': 522, 'dark': 523, 'check': 524, 'slowly': 525, 'god': 526, 'even': 527, 'snow': 528, 'song': 529, 'keys': 530, 'canadian': 531, 'mouth': 532, 'table': 533, 'cool': 534, 'along': 535, 'ice': 536, 'glad': 537, 'missed': 538, 'fight': 539, 'needed': 540, 'change': 541, 'age': 542, 'or': 543, 'music': 544, 'black': 545, 'train': 546, 'playing': 547, 'lied': 548, 'brave': 549, 'warm': 550, 'hurts': 551, 'worked': 552, 'meat': 553, 'liar': 554, 'alive': 555, 'smell': 556, 'begin': 557, 'strong': 558, 'naive': 559, 'team': 560, 'confused': 561, 'light': 562, 'student': 563, 'raining': 564, 'head': 565, 'six': 566, 'parents': 567, 'perfect': 568, 'wake': 569, 'smiled': 570, 'dying': 571, 'joking': 572, 'quickly': 573, 'mind': 574, 'writing': 575, 'gets': 576, 'also': 577, 'bank': 578, 'noise': 579, 'before': 580, 'agree': 581, 'shy': 582, 'fix': 583, 'hey': 584, 'white': 585, 'count': 586, 'apples': 587, 'women': 588, 'closed': 589, 'comes': 590, 'advice': 591, 'danger': 592, 'breath': 593, 'tokyo': 594, 'camera': 595, 'every': 596, 'tonight': 597, 'himself': 598, 'weight': 599, 'calm': 600, 'fair': 601, 'moved': 602, 'talked': 603, 'waited': 604, 'paid': 605, 'serious': 606, 'ill': 607, 'blue': 608, 'shall': 609, 'pain': 610, 'sleeping': 611, 'looking': 612, 'arm': 613, 'sweet': 614, 'sang': 615, 'horse': 616, 'clever': 617, 'fishing': 618, 'guy': 619, 'baby': 620, 'killed': 621, 'speaks': 622, 'under': 623, 'beat': 624, 'cute': 625, 'poor': 626, 'blind': 627, 'sign': 628, 'cried': 629, 'careful': 630, 'forgive': 631, 'single': 632, 'sleepy': 633, 'kidding': 634, 'strange': 635, 'share': 636, 'dumb': 637, 'cooking': 638, 'trapped': 639, 'jealous': 640, 'useless': 641, 'bird': 642, 'gun': 643, 'mom': 644, 'listening': 645, 'business': 646, 'second': 647, 'idiot': 648, 'insane': 649, 'rather': 650, 'if': 651, 'tie': 652, 'paris': 653, 'clock': 654, 'paper': 655, 'haven': 656, 'clothes': 657, 'other': 658, 'welcome': 659, 'warn': 660, 'after': 661, 'doubt': 662, 'promised': 663, 'normal': 664, 'green': 665, 'finish': 666, 'lonely': 667, 'smoking': 668, 'dad': 669, 'behind': 670, 'learn': 671, 'truck': 672, 'their': 673, 'brothers': 674, 'couldn': 675, 'death': 676, 'proud': 677, 'makes': 678, 'hi': 679, 'hang': 680, 'slept': 681, 'helps': 682, 'ours': 683, 'survived': 684, 'town': 685, 'worry': 686, 'bread': 687, 'naked': 688, 'dancing': 689, 'leaving': 690, 'nervous': 691, 'cheated': 692, 'guess': 693, 'finished': 694, 'pale': 695, 'sent': 696, 'explain': 697, 'bath': 698, 'respect': 699, 'watched': 700, 'dry': 701, 'moment': 702, 'luck': 703, 'heart': 704, 'summer': 705, 'says': 706, 'thought': 707, 'betrayed': 708, 'surprised': 709, 'voice': 710, 'easily': 711, 'park': 712, 'picture': 713, 'agreed': 714, 'bald': 715, 'inside': 716, 'then': 717, 'trying': 718, 'walked': 719, 'laugh': 720, 'excited': 721, 'worried': 722, 'saved': 723, 'lose': 724, 'boss': 725, 'nose': 726, 'soccer': 727, 'deal': 728, 'duty': 729, 'cup': 730, 'japan': 731, 'ball': 732, 'favor': 733, 'laughing': 734, 'ticket': 735, 'swimming': 736, 'trouble': 737, 'police': 738, 'end': 739, 'wouldn': 740, 'dangerous': 741, 'cards': 742, 'held': 743, 'teeth': 744, 'window': 745, 'legs': 746, 'showed': 747, 'thing': 748, 'expensive': 749, 'weren': 750, 'remain': 751, 'tap': 752, 'smile': 753, 'stayed': 754, 'birds': 755, 'catch': 756, 'weird': 757, 'bored': 758, 'scared': 759, 'grew': 760, 'soup': 761, 'losing': 762, 'smells': 763, 'finally': 764, 'horses': 765, 'simple': 766, 'dirty': 767, 'uncle': 768, 'deserve': 769, 'glass': 770, 'thirty': 771, 'pencil': 772, 'taxi': 773, 'goal': 774, 'relax': 775, 'hug': 776, 'spoke': 777, 'okay': 778, 'weak': 779, 'hers': 780, 'tight': 781, 'hero': 782, 'moving': 783, 'cheese': 784, 'hated': 785, 'curious': 786, 'cars': 787, 'doll': 788, 'kissed': 789, 'bear': 790, 'tough': 791, 'fill': 792, 'thirsty': 793, 'ride': 794, 'satisfied': 795, 'raise': 796, 'feeling': 797, 'having': 798, 'embarrassed': 799, 'same': 800, 'matter': 801, 'ever': 802, 'chance': 803, 'attention': 804, 'join': 805, 'wash': 806, 'ahead': 807, 'ignore': 808, 'golf': 809, 'baffled': 810, 'mess': 811, 'list': 812, 'teaches': 813, 'half': 814, 'goes': 815, 'leg': 816, 'few': 817, 'rope': 818, 'american': 819, 'fear': 820, 'spring': 821, 'budge': 822, 'forgetful': 823, 'worse': 824, 'robbed': 825, 'knife': 826, 'sun': 827, 'excuse': 828, 'delicious': 829, 'wonderful': 830, 'desk': 831, 'correct': 832, 'else': 833, 'husband': 834, 'bother': 835, 'ten': 836, 'finger': 837, 'lake': 838, 'piano': 839, 'stole': 840, 'clear': 841, 'question': 842, 'continued': 843, 'jump': 844, 'awful': 845, 'choose': 846, 'cruel': 847, 'eaten': 848, 'vote': 849, 'drinks': 850, 'apologize': 851, 'gas': 852, 'woke': 853, 'invited': 854, 'thrilled': 855, 'trap': 856, 'smiling': 857, 'feet': 858, 'years': 859, 'guilty': 860, 'trusted': 861, 'line': 862, 'fighting': 863, 'law': 864, 'helping': 865, 'special': 866, 'sound': 867, 'possible': 868, 'cheap': 869, 'blew': 870, 'throw': 871, 'seemed': 872, 'set': 873, 'lit': 874, 'terrible': 875, 'able': 876, 'radio': 877, 'city': 878, 'message': 879, 'office': 880, 'high': 881, 'air': 882, 'each': 883, 'drinking': 884, 'taught': 885, 'brown': 886, 'movie': 887, 'driver': 888, 'toilet': 889, 'coat': 890, 'figure': 891, 'lazy': 892, 'runs': 893, 'walks': 894, 'drove': 895, 'stood': 896, 'carry': 897, 'faster': 898, 'ugly': 899, 'shoot': 900, 'sell': 901, 'talks': 902, 'huge': 903, 'refused': 904, 'shouted': 905, 'upset': 906, 'nuts': 907, 'pizza': 908, 'ears': 909, 'shopping': 910, 'ended': 911, 'control': 912, 'boys': 913, 'accept': 914, 'famous': 915, 'saturday': 916, 'worth': 917, 'offer': 918, 'number': 919, 'copy': 920, 'map': 921, 'chicken': 922, 'five': 923, 'making': 924, 'hour': 925, 'bill': 926, 'side': 927, 'silent': 928, 'carefully': 929, 'honest': 930, 'fever': 931, 'sour': 932, 'seeing': 933, 'opened': 934, 'hotel': 935, 'cousin': 936, 'past': 937, 'students': 938, 'brush': 939, 'umbrella': 940, 'oranges': 941, 'computer': 942, 'pick': 943, 'happening': 944, 'but': 945, 'taking': 946, 'seven': 947, 'stuck': 948, 'forever': 949, 'drop': 950, 'slow': 951, 'bowed': 952, 'wet': 953, 'step': 954, 'sharp': 955, 'drives': 956, 'jumped': 957, 'prepared': 958, 'closer': 959, 'healthy': 960, 'thief': 961, 'cheered': 962, 'evil': 963, 'ship': 964, 'annoying': 965, 'chinese': 966, 'twice': 967, 'divorced': 968, 'amazing': 969, 'snowing': 970, 'command': 971, 'dreaming': 972, 'cancer': 973, 'kid': 974, 'skiing': 975, 'takes': 976, 'hoax': 977, 'lock': 978, 'theirs': 979, 'floor': 980, 'winning': 981, 'thinks': 982, 'form': 983, 'genius': 984, 'cookies': 985, 'flowers': 986, 'travel': 987, 'wear': 988, 'undressing': 989, 'sugar': 990, 'missing': 991, 'italy': 992, 'present': 993, 'fool': 994, 'trip': 995, 'writes': 996, 'learning': 997, 'shower': 998, 'aware': 999, 'calling': 1000, 'understands': 1001, 'fixed': 1002, 'keeps': 1003, 'hardly': 1004, 'escape': 1005, 'arrest': 1006, 'hospital': 1007, 'rent': 1008, 'locked': 1009, 'tree': 1010, 'difficult': 1011, 'living': 1012, 'daughter': 1013, 'anymore': 1014, 'goodbye': 1015, 'brief': 1016, 'fantastic': 1017, 'rained': 1018, 'burns': 1019, 'screamed': 1020, 'skinny': 1021, 'cheat': 1022, 'return': 1023, 'admire': 1024, 'sue': 1025, 'adult': 1026, 'innocent': 1027, 'angel': 1028, 'pregnant': 1029, 'worn': 1030, 'begun': 1031, 'point': 1032, 'louder': 1033, 'dreams': 1034, 'waste': 1035, 'built': 1036, 'eats': 1037, 'type': 1038, 'sells': 1039, 'movies': 1040, 'sports': 1041, 'plane': 1042, 'allow': 1043, 'exhausted': 1044, 'expecting': 1045, 'unfair': 1046, 'babbling': 1047, 'stuff': 1048, 'girls': 1049, 'borrow': 1050, 'sisters': 1051, 'teach': 1052, 'likely': 1053, 'continue': 1054, 'prices': 1055, 'cooks': 1056, 'wore': 1057, 'wind': 1058, 'bite': 1059, 'breathe': 1060, 'lived': 1061, 'totally': 1062, 'defenseless': 1063, 'handed': 1064, 'singer': 1065, 'russian': 1066, 'bleeding': 1067, 'ideas': 1068, 'remained': 1069, 'wears': 1070, 'intelligent': 1071, 'australia': 1072, 'breakfast': 1073, 'regret': 1074, 'probably': 1075, 'interfering': 1076, 'race': 1077, 'younger': 1078, 'days': 1079, 'headache': 1080, 'guitar': 1081, 'german': 1082, 'ridiculous': 1083, 'raised': 1084, 'wallet': 1085, 'expect': 1086, 'eye': 1087, 'decision': 1088, 'fond': 1089, 'wearing': 1090, 'accepted': 1091, 'eyesight': 1092, 'none': 1093, 'longer': 1094, 'oh': 1095, 'grab': 1096, 'refuse': 1097, 'lies': 1098, 'burned': 1099, 'happens': 1100, 'decide': 1101, 'coin': 1102, 'straight': 1103, 'taller': 1104, 'rice': 1105, 'unlucky': 1106, 'cost': 1107, 'rule': 1108, 'hugged': 1109, 'decided': 1110, 'eggs': 1111, 'pity': 1112, 'egg': 1113, 'upstairs': 1114, 'exist': 1115, 'kicked': 1116, 'doubts': 1117, 'china': 1118, 'cab': 1119, 'warned': 1120, 'wonder': 1121, 'restless': 1122, 'thinking': 1123, 'walking': 1124, 'closely': 1125, 'listened': 1126, 'rude': 1127, 'body': 1128, 'deny': 1129, 'kyoto': 1130, 'ignored': 1131, 'prefer': 1132, 'diet': 1133, 'returned': 1134, 'anyway': 1135, 'rose': 1136, 'meant': 1137, 'cousins': 1138, 'complain': 1139, 'towel': 1140, 'year': 1141, 'brought': 1142, 'holiday': 1143, 'heavy': 1144, 'large': 1145, 'bike': 1146, 'sings': 1147, 'beauty': 1148, 'suicide': 1149, 'ruined': 1150, 'speaking': 1151, 'afford': 1152, 'rome': 1153, 'played': 1154, 'policeman': 1155, 'river': 1156, 'ago': 1157, 'impossible': 1158, 'visit': 1159, 'sky': 1160, 'served': 1161, 'dress': 1162, 'immediately': 1163, 'without': 1164, 'feels': 1165, 'cream': 1166, 'near': 1167, 'disappointed': 1168, 'class': 1169, 'revenge': 1170, 'saying': 1171, 'tastes': 1172, 'unreliable': 1173, 'whatever': 1174, 'pleased': 1175, 'hobby': 1176, 'crime': 1177, 'juice': 1178, 'pants': 1179, 'barely': 1180, 'chair': 1181, 'sunday': 1182, 'arrive': 1183, 'tells': 1184, 'world': 1185, 'frightened': 1186, 'opinion': 1187, 'player': 1188, 'until': 1189, 'seated': 1190, 'adopt': 1191, 'phoned': 1192, 'marry': 1193, 'terrific': 1194, 'fainted': 1195, 'above': 1196, 'admit': 1197, 'human': 1198, 'envy': 1199, 'magic': 1200, 'deaf': 1201, 'shout': 1202, 'dressed': 1203, 'eight': 1204, 'fruit': 1205, 'hired': 1206, 'math': 1207, 'lips': 1208, 'engaged': 1209, 'crashed': 1210, 'escaped': 1211, 'listens': 1212, 'act': 1213, 'scream': 1214, 'sushi': 1215, 'games': 1216, 'bet': 1217, 'misled': 1218, 'freezing': 1219, 'deer': 1220, 'driving': 1221, 'shame': 1222, 'yelling': 1223, 'answered': 1224, 'canceled': 1225, 'dishes': 1226, 'hole': 1227, 'part': 1228, 'fed': 1229, 'date': 1230, 'supper': 1231, 'nearly': 1232, 'rescued': 1233, 'slapped': 1234, 'sold': 1235, 'tourist': 1236, 'artist': 1237, 'charge': 1238, 'exciting': 1239, 'loud': 1240, 'boat': 1241, 'stingy': 1242, 'grass': 1243, 'kite': 1244, 'sons': 1245, 'plays': 1246, 'scolded': 1247, 'animal': 1248, 'foot': 1249, 'dislike': 1250, 'arrested': 1251, 'punished': 1252, 'interested': 1253, 'amusing': 1254, 'sore': 1255, 'blood': 1256, 'creep': 1257, 'store': 1258, 'homework': 1259, 'mayor': 1260, 'four': 1261, 'breathing': 1262, 'smaller': 1263, 'cap': 1264, 'times': 1265, 'followed': 1266, 'handsome': 1267, 'cash': 1268, 'order': 1269, 'diary': 1270, 'terrified': 1271, 'health': 1272, 'video': 1273, 'beach': 1274, 'housesitting': 1275, 'suspect': 1276, 'noon': 1277, 'studies': 1278, 'size': 1279, 'burst': 1280, 'convinced': 1281, 'address': 1282, 'photo': 1283, 'hasn': 1284, 'blaming': 1285, 'invite': 1286, 'king': 1287, 'acted': 1288, 'taken': 1289, 'perhaps': 1290, 'seats': 1291, 'weekend': 1292, 'while': 1293, 'anywhere': 1294, 'fence': 1295, 'girlfriend': 1296, 'solution': 1297, 'medal': 1298, 'removed': 1299, 'attack': 1300, 'awesome': 1301, 'fit': 1302, 'resign': 1303, 'wise': 1304, 'ski': 1305, 'snowed': 1306, 'course': 1307, 'seize': 1308, 'cares': 1309, 'voted': 1310, 'quick': 1311, 'yell': 1312, 'hung': 1313, 'lovely': 1314, 'threw': 1315, 'clumsy': 1316, 'windy': 1317, 'notes': 1318, 'chat': 1319, 'aside': 1320, 'taste': 1321, 'danced': 1322, 'obeyed': 1323, 'wood': 1324, 'thorough': 1325, 'contact': 1326, 'jerk': 1327, 'rats': 1328, 'loser': 1329, 'jail': 1330, 'through': 1331, 'fox': 1332, 'drowned': 1333, 'relaxed': 1334, 'twins': 1335, 'confident': 1336, 'morning': 1337, 'romantic': 1338, 'injured': 1339, 'apologized': 1340, 'framed': 1341, 'chess': 1342, 'paint': 1343, 'space': 1344, 'risk': 1345, 'iron': 1346, 'gross': 1347, 'burn': 1348, 'pull': 1349, 'focused': 1350, 'gold': 1351, 'panicked': 1352, 'ink': 1353, 'passed': 1354, 'cops': 1355, 'beware': 1356, 'rush': 1357, 'wins': 1358, 'adorable': 1359, 'calls': 1360, 'borrowed': 1361, 'winter': 1362, 'ring': 1363, 'visa': 1364, 'baking': 1365, 'nature': 1366, 'poems': 1367, 'prove': 1368, 'desperate': 1369, 'easygoing': 1370, 'impatient': 1371, 'painful': 1372, 'popular': 1373, 'test': 1374, 'peace': 1375, 'shake': 1376, 'suit': 1377, 'creepy': 1378, 'adores': 1379, 'remembers': 1380, 'harsh': 1381, 'survive': 1382, 'staying': 1383, 'racist': 1384, 'cows': 1385, 'depressed': 1386, 'prison': 1387, 'disgusting': 1388, 'believed': 1389, 'spiders': 1390, 'hunch': 1391, 'history': 1392, 'harm': 1393, 'korean': 1394, 'sweating': 1395, 'handle': 1396, 'optimistic': 1397, 'unemployed': 1398, 'wide': 1399, 'christmas': 1400, 'fooled': 1401, 'roses': 1402, 'awkward': 1403, 'misses': 1404, 'understood': 1405, 'meal': 1406, 'interesting': 1407, 'learned': 1408, 'rang': 1409, 'bell': 1410, 'friday': 1411, 'shortcut': 1412, 'practicing': 1413, 'mail': 1414, 'church': 1415, 'salt': 1416, 'believes': 1417, 'stolen': 1418, 'prize': 1419, 'zoo': 1420, 'costs': 1421, 'purpose': 1422, 'reason': 1423, 'college': 1424, 'pajamas': 1425, 'france': 1426, 'unconscious': 1427, 'violence': 1428, 'fresh': 1429, 'band': 1430, 'stifled': 1431, 'america': 1432, 'coma': 1433, 'scary': 1434, 'hours': 1435, 'sunny': 1436, 'o': 1437, 'stomach': 1438, 'complaining': 1439, 'socks': 1440, 'rejected': 1441, 'abandoned': 1442, 'traitor': 1443, 'tortured': 1444, 'evidence': 1445, 'weapons': 1446, 'owns': 1447, 'pray': 1448, 'accident': 1449, 'signed': 1450, 'emergency': 1451, 'knock': 1452, 'arms': 1453, 'silence': 1454, 'messed': 1455, 'lacks': 1456, 'flight': 1457, 'pockets': 1458, 'banged': 1459, 'pulled': 1460, 'position': 1461, 'completely': 1462, 'boiling': 1463, 'garden': 1464, 'patience': 1465, 'boyfriend': 1466, 'library': 1467, 'older': 1468, 'system': 1469, 'washed': 1470, 'favorite': 1471, 'disturbing': 1472, 'facebook': 1473, 'overconfident': 1474, 'appetizing': 1475, 'sandwich': 1476, 'text': 1477, 'stomachache': 1478, 'problems': 1479, 'cuts': 1480, 'silk': 1481, 'bathroom': 1482, 'filipino': 1483, 'mountain': 1484, 'hello': 1485, 'odd': 1486, 'shaved': 1487, 'beg': 1488, 'stinks': 1489, 'loosen': 1490, 'faith': 1491, 'art': 1492, 'resigned': 1493, 'twin': 1494, 'cd': 1495, 'alert': 1496, 'fail': 1497, 'punctual': 1498, 'jazz': 1499, 'rock': 1500, 'overslept': 1501, 'taxes': 1502, 'selfish': 1503, 'means': 1504, 'card': 1505, 'describe': 1506, 'examine': 1507, 'ghosts': 1508, 'courage': 1509, 'denied': 1510, 'lip': 1511, 'trips': 1512, 'lion': 1513, 'writer': 1514, 'gullible': 1515, 'painting': 1516, 'relieved': 1517, 'starving': 1518, 'stubborn': 1519, 'digging': 1520, 'quietly': 1521, 'whining': 1522, 'approve': 1523, 'pays': 1524, 'scare': 1525, 'reasonable': 1526, 'draw': 1527, 'circle': 1528, 'feed': 1529, 'coughing': 1530, 'contributed': 1531, 'deserved': 1532, 'despise': 1533, 'steal': 1534, 'trains': 1535, 'mouse': 1536, 'crown': 1537, 'gift': 1538, 'owls': 1539, 'gambling': 1540, 'gentle': 1541, 'model': 1542, 'beside': 1543, 'absurd': 1544, 'applauded': 1545, 'graduated': 1546, 'adopted': 1547, 'till': 1548, 'nonsense': 1549, 'lay': 1550, 'file': 1551, 'flew': 1552, 'abroad': 1553, 'cough': 1554, 'risky': 1555, 'lend': 1556, 'power': 1557, 'nurse': 1558, 'appeared': 1559, 'helpful': 1560, 'roof': 1561, 'leaks': 1562, 'intervened': 1563, 'tears': 1564, 'hopeless': 1565, 'whistle': 1566, 'dawn': 1567, 'tigers': 1568, 'id': 1569, 'goats': 1570, 'guessed': 1571, 'pens': 1572, 'jobs': 1573, 'heat': 1574, 'ordered': 1575, 'baseball': 1576, 'shook': 1577, 'spanish': 1578, 'canada': 1579, 'vacation': 1580, 'incredible': 1581, 'pass': 1582, 'repeat': 1583, 'drugs': 1584, 'pathetic': 1585, 'soldier': 1586, 'yellow': 1587, 'fate': 1588, 'spot': 1589, 'shocked': 1590, 'teachers': 1591, 'ought': 1592, 'rabbits': 1593, 'faces': 1594, 'tank': 1595, 'stairs': 1596, 'joy': 1597, 'animals': 1598, 'debt': 1599, 'grown': 1600, 'against': 1601, 'appreciate': 1602, 'traveling': 1603, 'pointed': 1604, 'complicated': 1605, 'destiny': 1606, 'lower': 1607, 'scarf': 1608, 'throat': 1609, 'polite': 1610, 'reply': 1611, 'pool': 1612, 'entered': 1613, 'fingers': 1614, 'theory': 1615, 'leader': 1616, 'shouldn': 1617, 'add': 1618, 'others': 1619, 'ambulance': 1620, 'skirt': 1621, 'weather': 1622, 'nightmare': 1623, 'usually': 1624, 'area': 1625, 'mood': 1626, 'neighbor': 1627, 'pure': 1628, 'rising': 1629, 'menu': 1630, 'price': 1631, 'bothering': 1632, 'advance': 1633, 'attacked': 1634, 'amateur': 1635, 'neighbors': 1636, 'wow': 1637, 'disappoint': 1638, 'knee': 1639, 'exam': 1640, 'memory': 1641, 'rarely': 1642, 'talented': 1643, 'goat': 1644, 'hire': 1645, 'betray': 1646, 'such': 1647, 'gained': 1648, 'misjudged': 1649, 'outstanding': 1650, 'orange': 1651, 'begins': 1652, 'kissing': 1653, 'bright': 1654, 'picked': 1655, 'christians': 1656, 'pork': 1657, 'enemies': 1658, 'potato': 1659, 'wedding': 1660, 'astute': 1661, 'zipper': 1662, 'salad': 1663, 'regards': 1664, 'papers': 1665, 'climbed': 1666, 'shop': 1667, 'kisser': 1668, 'novel': 1669, 'dreamed': 1670, 'sweater': 1671, 'eleven': 1672, 'trees': 1673, 'traveled': 1674, 'rough': 1675, 'translate': 1676, 'sir': 1677, 'begged': 1678, 'seldom': 1679, 'unattractive': 1680, 'chef': 1681, 'salary': 1682, 'tumor': 1683, 'swam': 1684, 'cared': 1685, 'waved': 1686, 'greedy': 1687, 'winked': 1688, 'yelled': 1689, 'cds': 1690, 'gives': 1691, 'sensible': 1692, 'argue': 1693, 'nasty': 1694, 'dizzy': 1695, 'jittery': 1696, 'psyched': 1697, 'sloshed': 1698, 'yen': 1699, 'harp': 1700, 'cloudy': 1701, 'memorize': 1702, 'clapped': 1703, 'objective': 1704, 'beef': 1705, 'anytime': 1706, 'snore': 1707, 'faint': 1708, 'beans': 1709, 'candy': 1710, 'star': 1711, 'ex': 1712, 'drowning': 1713, 'curse': 1714, 'switch': 1715, 'bores': 1716, 'cop': 1717, 'surrender': 1718, 'shock': 1719, 'pig': 1720, 'mistaken': 1721, 'push': 1722, 'sec': 1723, 'pinched': 1724, 'admired': 1725, 'caused': 1726, 'freaked': 1727, 'orders': 1728, 'hiking': 1729, 'resist': 1730, 'furious': 1731, 'addict': 1732, 'orphan': 1733, 'impressed': 1734, 'sensitive': 1735, 'weapon': 1736, 'deserted': 1737, 'fake': 1738, 'paddling': 1739, 'gate': 1740, 'skate': 1741, 'rested': 1742, 'plans': 1743, 'sinking': 1744, 'silly': 1745, 'duck': 1746, 'stroke': 1747, 'ironing': 1748, 'parties': 1749, 'insulted': 1750, 'beginner': 1751, 'devastated': 1752, 'fascinated': 1753, 'sale': 1754, 'different': 1755, 'clearly': 1756, 'dumped': 1757, 'illegal': 1758, 'obvious': 1759, 'flag': 1760, 'idiots': 1761, 'bites': 1762, 'fact': 1763, 'dice': 1764, 'ashamed': 1765, 'naughty': 1766, 'ghost': 1767, 'pills': 1768, 'whirl': 1769, 'painter': 1770, 'gloomy': 1771, 'cooked': 1772, 'helpless': 1773, 'ladder': 1774, 'osaka': 1775, 'mommy': 1776, 'reward': 1777, 'christian': 1778, 'color': 1779, 'asking': 1780, 'minded': 1781, 'truly': 1782, 'tasted': 1783, 'surprise': 1784, 'kites': 1785, 'changes': 1786, 'bottle': 1787, 'disappeared': 1788, 'tied': 1789, 'alarm': 1790, 'moon': 1791, 'baked': 1792, 'involved': 1793, 'available': 1794, 'disaster': 1795, 'comb': 1796, 'tallest': 1797, 'accidents': 1798, 'apply': 1799, 'normally': 1800, 'mirror': 1801, 'cookie': 1802, 'bridge': 1803, 'bugs': 1804, 'deceive': 1805, 'yourselves': 1806, 'croissant': 1807, 'badly': 1808, 'deserves': 1809, 'gentleman': 1810, 'politely': 1811, 'chocolate': 1812, 'protect': 1813, 'support': 1814, 'puzzle': 1815, 'gotten': 1816, 'nine': 1817, 'sofa': 1818, 'kick': 1819, 'candle': 1820, 'windows': 1821, 'stared': 1822, 'avoiding': 1823, 'road': 1824, 'relaxing': 1825, 'succeed': 1826, 'gunfire': 1827, 'gorgeous': 1828, 'knees': 1829, 'spoon': 1830, 'forty': 1831, 'land': 1832, 'twisted': 1833, 'style': 1834, 'earring': 1835, 'lottery': 1836, 'london': 1837, 'using': 1838, 'forgiven': 1839, 'identify': 1840, 'grow': 1841, 'manners': 1842, 'loudly': 1843, 'golden': 1844, 'loose': 1845, 'low': 1846, 'tasty': 1847, 'market': 1848, 'worst': 1849, 'hitch': 1850, 'downstairs': 1851, 'stove': 1852, 'battle': 1853, 'bananas': 1854, 'changing': 1855, 'robots': 1856, 'example': 1857, 'forced': 1858, 'fifty': 1859, 'self': 1860, 'antiques': 1861, 'packed': 1862, 'ends': 1863, 'outfit': 1864, 'swimmer': 1865, 'kitchen': 1866, 'loaded': 1867, 'sense': 1868, 'midnight': 1869, 'lesson': 1870, 'grapes': 1871, 'suitcase': 1872, 'fascinating': 1873, 'case': 1874, 'lights': 1875, 'soldiers': 1876, 'words': 1877, 'bedroom': 1878, 'dried': 1879, 'onto': 1880, 'incompetent': 1881, 'risks': 1882, 'trunk': 1883, 'reasons': 1884, 'contest': 1885, 'ignoring': 1886, 'agreement': 1887, 'experience': 1888, 'cowards': 1889, 'comfortable': 1890, 'climb': 1891, 'oysters': 1892, 'sight': 1893, 'cigarette': 1894, 'washing': 1895, 'suspicious': 1896, 'known': 1897, 'exactly': 1898, 'cleared': 1899, 'attitude': 1900, 'managed': 1901, 'assistant': 1902, 'become': 1903, 'evening': 1904, 'accompany': 1905, 'trousers': 1906, 'reserved': 1907, 'burning': 1908, 'coal': 1909, 'fridge': 1910, 'pond': 1911, 'handbag': 1912, 'stamps': 1913, 'owes': 1914, 'language': 1915, 'alcohol': 1916, 'options': 1917, 'suddenly': 1918, 'either': 1919, 'dollars': 1920, 'lent': 1921, 'talent': 1922, 'tuckered': 1923, 'allergic': 1924, 'archaeologist': 1925, 'shorter': 1926, 'false': 1927, 'piece': 1928, 'leap': 1929, 'telephone': 1930, 'exchanged': 1931, 'hid': 1932, 'pastry': 1933, 'tries': 1934, 'humor': 1935, 'thin': 1936, 'wept': 1937, 'aim': 1938, 'bless': 1939, 'seriously': 1940, 'dozed': 1941, 'swims': 1942, 'aboard': 1943, 'coughed': 1944, 'disagree': 1945, 'buying': 1946, 'twelve': 1947, 'jesus': 1948, 'lift': 1949, 'lasts': 1950, 'comment': 1951, 'agrees': 1952, 'fought': 1953, 'gasped': 1954, 'prayed': 1955, 'creative': 1956, 'discreet': 1957, 'specific': 1958, 'sand': 1959, 'chilly': 1960, 'timing': 1961, 'blushed': 1962, 'attentive': 1963, 'realistic': 1964, 'boil': 1965, 'fbi': 1966, 'snack': 1967, 'dieting': 1968, 'carded': 1969, 'liars': 1970, 'honey': 1971, 'nap': 1972, 'actor': 1973, 'doubtful': 1974, 'famished': 1975, 'grateful': 1976, 'rebel': 1977, 'trick': 1978, 'jaw': 1979, 'softly': 1980, 'arguing': 1981, 'vet': 1982, 'picky': 1983, 'witty': 1984, 'relented': 1985, 'shrugged': 1986, 'vanished': 1987, 'unbelievable': 1988, 'paying': 1989, 'approved': 1990, 'included': 1991, 'expert': 1992, 'security': 1993, 'drain': 1994, 'ham': 1995, 'skating': 1996, 'horn': 1997, 'runner': 1998, 'sneezing': 1999, 'poker': 2000, 'fall': 2001, 'sweets': 2002, 'arabic': 2003, 'loan': 2004, 'violin': 2005, 'queen': 2006, 'volunteered': 2007, 'horrified': 2008, 'motivated': 2009, 'uninsured': 2010, 'private': 2011, 'wig': 2012, 'latin': 2013, 'gag': 2014, 'ironic': 2015, 'treat': 2016, 'italian': 2017, 'enter': 2018, 'aches': 2019, 'neck': 2020, 'robe': 2021, 'russia': 2022, 'positive': 2023, 'shouting': 2024, 'sweep': 2025, 'armed': 2026, 'cow': 2027, 'hesitated': 2028, 'strict': 2029, 'winded': 2030, 'joined': 2031, 'trusts': 2032, 'obey': 2033, 'lawyers': 2034, 'hypocrite': 2035, 'ain': 2036, 'shovel': 2037, 'tempt': 2038, 'mug': 2039, 'deceived': 2040, 'beard': 2041, 'golfer': 2042, 'notice': 2043, 'homesick': 2044, 'ranch': 2045, 'mahjong': 2046, 'noodles': 2047, 'picnics': 2048, 'stories': 2049, 'turtles': 2050, 'stamp': 2051, 'fan': 2052, 'direct': 2053, 'musician': 2054, 'salesman': 2055, 'astonished': 2056, 'meditating': 2057, 'speechless': 2058, 'oldest': 2059, 'blunt': 2060, 'earned': 2061, 'stew': 2062, 'planned': 2063, 'wednesday': 2064, 'gimmick': 2065, 'beyond': 2066, 'itches': 2067, 'pack': 2068, 'bags': 2069, 'meter': 2070, 'choked': 2071, 'evident': 2072, 'shallow': 2073, 'stranded': 2074, 'doctors': 2075, 'country': 2076, 'causes': 2077, 'painted': 2078, 'wounded': 2079, 'bees': 2080, 'defend': 2081, 'interfere': 2082, 'lawn': 2083, 'bottom': 2084, 'unmarried': 2085, 'laughs': 2086, 'cheating': 2087, 'standing': 2088, 'humiliating': 2089, 'tongue': 2090, 'sunburned': 2091, 'rains': 2092, 'ankle': 2093, 'elbow': 2094, 'teaching': 2095, 'relied': 2096, 'dollar': 2097, 'dismissed': 2098, 'fork': 2099, 'detective': 2100, 'owl': 2101, 'extroverted': 2102, 'brazil': 2103, 'wealthy': 2104, 'payday': 2105, 'honor': 2106, 'fabulous': 2107, 'lead': 2108, 'forgave': 2109, 'panting': 2110, 'nosy': 2111, 'personal': 2112, 'damp': 2113, 'leaves': 2114, 'sea': 2115, 'gifts': 2116, 'chased': 2117, 'deranged': 2118, 'guest': 2119, 'jokes': 2120, 'conscious': 2121, 'raw': 2122, 'lack': 2123, 'shared': 2124, 'canadians': 2125, 'newlyweds': 2126, 'separated': 2127, 'stake': 2128, 'reliable': 2129, 'less': 2130, 'wings': 2131, 'barking': 2132, 'bears': 2133, 'consult': 2134, 'cross': 2135, 'potatoes': 2136, 'foolish': 2137, 'disturb': 2138, 'lecture': 2139, 'mention': 2140, 'meals': 2141, 'hammer': 2142, 'recently': 2143, 'carrots': 2144, 'hunting': 2145, 'hunt': 2146, 'professor': 2147, 'sweat': 2148, 'reach': 2149, 'flu': 2150, 'surprises': 2151, 'pop': 2152, 'turkey': 2153, 'fortune': 2154, 'soap': 2155, 'mile': 2156, 'require': 2157, 'visited': 2158, 'divorce': 2159, 'unhappy': 2160, 'citizen': 2161, 'translator': 2162, 'homeschooled': 2163, 'wasting': 2164, 'contagious': 2165, 'excessive': 2166, 'greek': 2167, 'group': 2168, 'unlikely': 2169, 'asia': 2170, 'informed': 2171, 'repair': 2172, 'smokes': 2173, 'itchy': 2174, 'pulse': 2175, 'despises': 2176, 'touching': 2177, 'ticked': 2178, 'storm': 2179, 'luxury': 2180, 'coach': 2181, 'belongs': 2182, 'alibi': 2183, 'deceitful': 2184, 'nephew': 2185, 'smiles': 2186, 'calmly': 2187, 'watches': 2188, 'checks': 2189, 'visitors': 2190, 'match': 2191, 'surrounded': 2192, 'rotten': 2193, 'conceited': 2194, 'brakes': 2195, 'admission': 2196, 'equal': 2197, 'religious': 2198, 'behave': 2199, 'build': 2200, 'deeply': 2201, 'rely': 2202, 'click': 2203, 'wanna': 2204, 'coward': 2205, 'exercise': 2206, 'scientist': 2207, 'pushed': 2208, 'studied': 2209, 'elevator': 2210, 'cakes': 2211, 'chopin': 2212, 'bee': 2213, 'otherwise': 2214, 'songs': 2215, 'film': 2216, 'minutes': 2217, 'curb': 2218, 'apology': 2219, 'freedom': 2220, 'jacket': 2221, 'giving': 2222, 'persuaded': 2223, 'double': 2224, 'stunning': 2225, 'familiar': 2226, 'heavily': 2227, 'greasy': 2228, 'exhilarating': 2229, 'chin': 2230, 'downtown': 2231, 'toss': 2232, 'screw': 2233, 'turning': 2234, 'essential': 2235, 'bar': 2236, 'doorbell': 2237, 'dull': 2238, 'genuine': 2239, 'kidnapped': 2240, 'bucket': 2241, 'hilarious': 2242, 'speech': 2243, 'income': 2244, 'believer': 2245, 'magician': 2246, 'murderer': 2247, 'hysterical': 2248, 'vulnerable': 2249, 'fare': 2250, 'poisoned': 2251, 'recognized': 2252, 'threatened': 2253, 'weeks': 2254, 'happiness': 2255, 'adventurous': 2256, 'invented': 2257, 'scratched': 2258, 'consider': 2259, 'facts': 2260, 'rid': 2261, 'enjoyed': 2262, 'adventure': 2263, 'gossip': 2264, 'touched': 2265, 'employed': 2266, 'dreamt': 2267, 'dropped': 2268, 'tests': 2269, 'information': 2270, 'appetite': 2271, 'races': 2272, 'custom': 2273, 'yokohama': 2274, 'month': 2275, 'spilled': 2276, 'suggest': 2277, 'tiger': 2278, 'beginning': 2279, 'neat': 2280, 'common': 2281, 'proven': 2282, 'europe': 2283, 'luckily': 2284, 'aunt': 2285, 'project': 2286, 'strength': 2287, 'slip': 2288, 'names': 2289, 'unimportant': 2290, 'purring': 2291, 'frozen': 2292, 'brightened': 2293, 'shining': 2294, 'families': 2295, 'remarkable': 2296, 'top': 2297, 'employee': 2298, 'intoxicated': 2299, 'patronizing': 2300, 'stranger': 2301, 'frustrated': 2302, 'ambidextrous': 2303, 'couple': 2304, 'spill': 2305, 'overworked': 2306, 'mammal': 2307, 'depressing': 2308, 'bunnies': 2309, 'chivalry': 2310, 'delete': 2311, 'slam': 2312, 'property': 2313, 'mt': 2314, 'fuji': 2315, 'lady': 2316, 'wisely': 2317, 'tightly': 2318, 'captain': 2319, 'honesty': 2320, 'virtue': 2321, 'concert': 2322, 'terms': 2323, 'india': 2324, 'pencils': 2325, 'permit': 2326, 'hectic': 2327, 'hunger': 2328, 'lots': 2329, 'forgotten': 2330, 'plugged': 2331, 'report': 2332, 'solved': 2333, 'untied': 2334, 'steak': 2335, 'flabbergasted': 2336, 'following': 2337, 'subway': 2338, 'absolutely': 2339, 'customer': 2340, 'vacant': 2341, 'serves': 2342, 'birthday': 2343, 'appointment': 2344, 'rubbed': 2345, 'squeeze': 2346, 'unexpected': 2347, 'lemon': 2348, 'blouse': 2349, 'button': 2350, 'closing': 2351, 'forest': 2352, 'healing': 2353, 'encouraged': 2354, 'choices': 2355, 'irresistible': 2356, 'harder': 2357, 'shortly': 2358, 'among': 2359, 'starting': 2360, 'airport': 2361, 'elected': 2362, 'disorganized': 2363, 'manage': 2364, 'brake': 2365, 'fears': 2366, 'achieved': 2367, 'attempted': 2368, 'committed': 2369, 'success': 2370, 'building': 2371, 'colors': 2372, 'concern': 2373, 'hill': 2374, 'theater': 2375, 'smarter': 2376, 'ringing': 2377, 'issue': 2378, 'starts': 2379, 'herself': 2380, 'licked': 2381, 'passion': 2382, 'ticking': 2383, 'mall': 2384, 'overflowed': 2385, 'difference': 2386, 'boarded': 2387, 'sloppy': 2388, 'pictures': 2389, 'imagination': 2390, 'factory': 2391, 'bullets': 2392, 'bullfighting': 2393, 'tuna': 2394, 'slight': 2395, 'grandfather': 2396, 'killing': 2397, 'data': 2398, 'confirmed': 2399, 'plague': 2400, 'marshmallows': 2401, 'hellos': 2402, 'cheer': 2403, 'tidy': 2404, 'dj': 2405, 'cringed': 2406, 'tripped': 2407, 'pardon': 2408, 'higher': 2409, 'exists': 2410, 'chuckled': 2411, 'cheats': 2412, 'dances': 2413, 'tolerant': 2414, 'comfort': 2415, 'flip': 2416, 'guts': 2417, 'dozing': 2418, 'confessed': 2419, 'ufo': 2420, 'finicky': 2421, 'resting': 2422, 'starved': 2423, 'futile': 2424, 'action': 2425, 'giggled': 2426, 'grinned': 2427, 'prepaid': 2428, 'slipped': 2429, 'dope': 2430, 'loss': 2431, 'abandon': 2432, 'forward': 2433, 'safely': 2434, 'easter': 2435, 'donut': 2436, 'avoids': 2437, 'cranky': 2438, 'arrogant': 2439, 'horrible': 2440, 'praying': 2441, 'detest': 2442, 'woozy': 2443, 'opera': 2444, 'waiter': 2445, 'agent': 2446, 'anorexic': 2447, 'autistic': 2448, 'barefoot': 2449, 'hesitant': 2450, 'thirteen': 2451, 'solid': 2452, 'wolf': 2453, 'bedtime': 2454, 'pigs': 2455, 'recess': 2456, 'sued': 2457, 'pushing': 2458, 'staring': 2459, 'loyal': 2460, 'stutters': 2461, 'stoned': 2462, 'succeeded': 2463, 'adults': 2464, 'pooped': 2465, 'respectful': 2466, 'supportive': 2467, 'oil': 2468, 'fry': 2469, 'dug': 2470, 'grows': 2471, 'sexist': 2472, 'demented': 2473, 'honk': 2474, 'outraged': 2475, 'belong': 2476, 'blacked': 2477, 'designed': 2478, 'bmw': 2479, 'exaggerated': 2480, 'flying': 2481, 'bomb': 2482, 'braces': 2483, 'camels': 2484, 'clocks': 2485, 'sewing': 2486, 'tulips': 2487, 'crew': 2488, 'lamp': 2489, 'outrank': 2490, 'motel': 2491, 'unarmed': 2492, 'witness': 2493, 'impartial': 2494, 'gang': 2495, 'intrigued': 2496, 'bossy': 2497, 'strike': 2498, 'legal': 2499, 'apart': 2500, 'improved': 2501, 'official': 2502, 'outdated': 2503, 'rat': 2504, 'stir': 2505, 'myth': 2506, 'freaky': 2507, 'embraced': 2508, 'spies': 2509, 'hoot': 2510, 'wimp': 2511, 'absent': 2512, 'fierce': 2513, 'wicked': 2514, 'recovered': 2515, 'scares': 2516, 'staggered': 2517, 'snoring': 2518, 'wax': 2519, 'doomed': 2520, 'relief': 2521, 'coke': 2522, 'promise': 2523, 'struggle': 2524, 'cries': 2525, 'van': 2526, 'hint': 2527, 'holidays': 2528, 'accelerated': 2529, 'learns': 2530, 'respects': 2531, 'slacker': 2532, 'honored': 2533, 'insects': 2534, 'karaoke': 2535, 'spinach': 2536, 'seafood': 2537, 'upstate': 2538, 'harvard': 2539, 'sunsets': 2540, 'answers': 2541, 'surgery': 2542, 'plead': 2543, 'sneeze': 2544, 'puppy': 2545, 'captured': 2546, 'extra': 2547, 'scold': 2548, 'diabetic': 2549, 'prisoner': 2550, 'diplomatic': 2551, 'remodeling': 2552, 'classic': 2553, 'identical': 2554, 'vibrating': 2555, 'lean': 2556, 'tag': 2557, 'practice': 2558, 'larger': 2559, 'ache': 2560, 'hatch': 2561, 'prepare': 2562, 'teased': 2563, 'counting': 2564, 'gossiping': 2565, 'grumbling': 2566, 'screaming': 2567, 'farce': 2568, 'hogwash': 2569, 'immoral': 2570, 'obscene': 2571, 'lame': 2572, 'melted': 2573, 'struggled': 2574, 'approached': 2575, 'improvised': 2576, 'pilot': 2577, 'devious': 2578, 'shaking': 2579, 'spoiled': 2580, 'remembered': 2581, 'shed': 2582, 'humble': 2583, 'charming': 2584, 'letdown': 2585, 'tragedy': 2586, 'fraud': 2587, 'capsized': 2588, 'round': 2589, 'interrupt': 2590, 'remind': 2591, 'cane': 2592, 'popcorn': 2593, 'suits': 2594, 'jeans': 2595, 'toyota': 2596, 'racket': 2597, 'ethiopian': 2598, 'dreamer': 2599, 'nara': 2600, 'comedian': 2601, 'gardener': 2602, 'unfortunate': 2603, 'football': 2604, 'reptiles': 2605, 'goatee': 2606, 'drum': 2607, 'cartoons': 2608, 'eggplant': 2609, 'weddings': 2610, 'shave': 2611, 'outwitted': 2612, 'bass': 2613, 'recognize': 2614, 'refund': 2615, 'concerned': 2616, 'disgusted': 2617, 'petrified': 2618, 'skeptical': 2619, 'arrange': 2620, 'assist': 2621, 'ford': 2622, 'notify': 2623, 'carpenter': 2624, 'lifeguard': 2625, 'engineer': 2626, 'begging': 2627, 'cracking': 2628, 'pickle': 2629, 'responsible': 2630, 'modest': 2631, 'option': 2632, 'inevitable': 2633, 'irrelevant': 2634, 'sweltering': 2635, 'wrap': 2636, 'lemons': 2637, 'glowing': 2638, 'niece': 2639, 'squeak': 2640, 'remove': 2641, 'airmail': 2642, 'stabbed': 2643, 'squabbling': 2644, 'aspirin': 2645, 'childish': 2646, 'cast': 2647, 'engine': 2648, 'net': 2649, 'feared': 2650, 'greeted': 2651, 'interns': 2652, 'garbage': 2653, 'limited': 2654, 'disgusts': 2655, 'banker': 2656, 'legend': 2657, 'court': 2658, 'inspired': 2659, 'likeable': 2660, 'training': 2661, 'texted': 2662, 'toes': 2663, 'waffles': 2664, 'justice': 2665, 'received': 2666, 'unsure': 2667, 'mustn': 2668, 'decisive': 2669, 'stalling': 2670, 'hurting': 2671, 'flexible': 2672, 'inbox': 2673, 'street': 2674, 'glum': 2675, 'exaggerate': 2676, 'rip': 2677, 'sword': 2678, 'garage': 2679, 'eggnog': 2680, 'gray': 2681, 'picasso': 2682, 'distracted': 2683, 'stepdad': 2684, 'overweight': 2685, 'ipad': 2686, 'stark': 2687, 'melodramatic': 2688, 'abhor': 2689, 'foreigner': 2690, 'dumbfounded': 2691, 'frying': 2692, 'minds': 2693, 'powerless': 2694, 'hypocrisy': 2695, 'future': 2696, 'moscow': 2697, 'miracle': 2698, 'aid': 2699, 'outsmarted': 2700, 'flute': 2701, 'label': 2702, 'umbrellas': 2703, 'grin': 2704, 'dumbstruck': 2705, 'checking': 2706, 'middle': 2707, 'catholic': 2708, 'suicidal': 2709, 'reachable': 2710, 'suitable': 2711, 'flower': 2712, 'season': 2713, 'drug': 2714, 'monkey': 2715, 'natural': 2716, 'bitter': 2717, 'tiny': 2718, 'toy': 2719, 'beats': 2720, 'gain': 2721, 'ketchup': 2722, 'pets': 2723, 'allowed': 2724, 'trigger': 2725, 'weep': 2726, 'article': 2727, 'defeated': 2728, 'despised': 2729, 'camel': 2730, 'promoted': 2731, 'worships': 2732, 'apologizing': 2733, 'precautions': 2734, 'concerns': 2735, 'confusing': 2736, 'dishonest': 2737, 'affair': 2738, 'offensive': 2739, 'ballon': 2740, 'cage': 2741, 'curtain': 2742, 'milkman': 2743, 'wound': 2744, 'daises': 2745, 'demoted': 2746, 'thanked': 2747, 'immature': 2748, 'loses': 2749, 'fighter': 2750, 'schemer': 2751, 'improving': 2752, 'weakening': 2753, 'oven': 2754, 'punched': 2755, 'wandered': 2756, 'executed': 2757, 'slower': 2758, 'plants': 2759, 'depend': 2760, 'evacuate': 2761, 'withdraw': 2762, 'professors': 2763, 'sophomores': 2764, 'view': 2765, 'exit': 2766, 'wherever': 2767, 'murdered': 2768, 'necessary': 2769, 'adjust': 2770, 'error': 2771, 'link': 2772, 'pet': 2773, 'proof': 2774, 'goodnight': 2775, 'blackmailed': 2776, 'remorse': 2777, 'houses': 2778, 'biologist': 2779, 'influential': 2780, 'sailor': 2781, 'scripts': 2782, 'overreacting': 2783, 'receipt': 2784, 'complex': 2785, 'vegetarian': 2786, 'cactus': 2787, 'backache': 2788, 'hangover': 2789, 'nieces': 2790, 'california': 2791, 'sunrise': 2792, 'corrected': 2793, 'judge': 2794, 'diarrhea': 2795, 'rumors': 2796, 'curfew': 2797, 'egyptian': 2798, 'nonstop': 2799, 'dictionary': 2800, 'confidential': 2801, 'nicely': 2802, 'hustle': 2803, 'numb': 2804, 'aching': 2805, 'plug': 2806, 'aggressive': 2807, 'secrets': 2808, 'bitterly': 2809, 'hyperactive': 2810, 'solve': 2811, 'handy': 2812, 'earth': 2813, 'lid': 2814, 'thick': 2815, 'gods': 2816, 'gibberish': 2817, 'spaghetti': 2818, 'appear': 2819, 'skin': 2820, 'growing': 2821, 'indiscreet': 2822, 'mesmerized': 2823, 'packing': 2824, 'unfaithful': 2825, 'cigar': 2826, 'misunderstood': 2827, 'patiently': 2828, 'nda': 2829, 'results': 2830, 'unstoppable': 2831, 'visitor': 2832, 'rented': 2833, 'actresses': 2834, 'faced': 2835, 'european': 2836, 'buddhist': 2837, 'chen': 2838, 'divide': 2839, 'gums': 2840, 'bleed': 2841, 'hog': 2842, 'matters': 2843, 'broom': 2844, 'remote': 2845, 'foolishly': 2846, 'cycling': 2847, 'mere': 2848, 'colleague': 2849, 'rolled': 2850, 'fluently': 2851, 'englishman': 2852, 'aristocrat': 2853, 'collect': 2854, 'vodka': 2855, 'flipped': 2856, 'roommate': 2857, 'flat': 2858, 'tire': 2859, 'blonde': 2860, 'cabin': 2861, 'passport': 2862, 'cameras': 2863, 'jog': 2864, 'unlocked': 2865, 'candlelight': 2866, 'helsinki': 2867, 'graduate': 2868, 'destroy': 2869, 'doubted': 2870, 'repeated': 2871, 'cigarettes': 2872, 'challenge': 2873, 'attorney': 2874, 'television': 2875, 'photographer': 2876, 'extremely': 2877, 'gaining': 2878, 'clients': 2879, 'terribly': 2880, 'chained': 2881, 'catchy': 2882, 'design': 2883, 'flaw': 2884, 'typo': 2885, 'corner': 2886, 'crowded': 2887, 'greece': 2888, 'jam': 2889, 'promises': 2890, 'laws': 2891, 'falling': 2892, 'rephrase': 2893, 'east': 2894, 'schools': 2895, 'leaped': 2896, 'note': 2897, 'countdown': 2898, 'tickles': 2899, 'unnecessary': 2900, 'doors': 2901, 'rigged': 2902, 'ocean': 2903, 'parrot': 2904, 'foreigners': 2905, 'mission': 2906, 'bizarre': 2907, 'surprising': 2908, 'bigger': 2909, 'shoelaces': 2910, 'th': 2911, 'injury': 2912, 'freed': 2913, 'regrets': 2914, 'communist': 2915, 'dating': 2916, 'pessimistic': 2917, 'appalled': 2918, 'proposed': 2919, 'respected': 2920, 'humiliated': 2921, 'indecisive': 2922, 'wheat': 2923, 'permission': 2924, 'mud': 2925, 'fixing': 2926, 'spotted': 2927, 'amused': 2928, 'fellow': 2929, 'motivates': 2930, 'narrow': 2931, 'vase': 2932, 'visiting': 2933, 'scar': 2934, 'oath': 2935, 'haircut': 2936, 'princess': 2937, 'negative': 2938, 'soaking': 2939, 'purse': 2940, 'whale': 2941, 'firm': 2942, 'credit': 2943, 'verify': 2944, 'everywhere': 2945, 'tip': 2946, 'gum': 2947, 'bowling': 2948, 'vegetables': 2949, 'sometimes': 2950, 'breaks': 2951, 'grabbed': 2952, 'led': 2953, 'reached': 2954, 'shoe': 2955, 'ohio': 2956, 'buried': 2957, 'defeat': 2958, 'hunter': 2959, 'tipsy': 2960, 'tetris': 2961, 'cheeks': 2962, 'whole': 2963, 'peel': 2964, 'cleaned': 2965, 'england': 2966, 'c': 2967, 'appendicitis': 2968, 'chapped': 2969, 'vision': 2970, 'foods': 2971, 'website': 2972, 'club': 2973, 'assistance': 2974, 'colds': 2975, 'motion': 2976, 'ribbon': 2977, 'negotiate': 2978, 'disillusioned': 2979, 'third': 2980, 'sheets': 2981, 'details': 2982, 'gladly': 2983, 'thirst': 2984, 'apartment': 2985, 'incredibly': 2986, 'stunned': 2987, 'telling': 2988, 'slightly': 2989, 'worries': 2990, 'hotter': 2991, 'plain': 2992, 'blank': 2993, 'ruin': 2994, 'split': 2995, 'indian': 2996, 'complete': 2997, 'luggage': 2998, 'aloud': 2999, 'elders': 3000, 'science': 3001, 'believing': 3002, 'boiled': 3003, 'row': 3004, 'ibaraki': 3005, 'depends': 3006, 'explains': 3007, 'imitation': 3008, 'museum': 3009, 'intense': 3010, 'economy': 3011, 'pie': 3012, 'victory': 3013, 'guests': 3014, 'target': 3015, 'notebook': 3016, 'dilemma': 3017, 'tooth': 3018, 'collects': 3019, 'eventually': 3020, 'promotion': 3021, 'siblings': 3022, 'cleft': 3023, 'sympathy': 3024, 'decent': 3025, 'eater': 3026, 'journalist': 3027, 'workaholic': 3028, 'conservative': 3029, 'incorrigible': 3030, 'curry': 3031, 'temper': 3032, 'input': 3033, 'refuses': 3034, 'resumed': 3035, 'upside': 3036, 'similar': 3037, 'front': 3038, 'halfway': 3039, 'page': 3040, 'occur': 3041, 'gloves': 3042, 'quality': 3043, 'greatest': 3044, 'imitating': 3045, 'imitations': 3046, 'version': 3047, 'clarify': 3048, 'deliver': 3049, 'program': 3050, 'theft': 3051, 'cotton': 3052, 'worker': 3053, 'snakes': 3054, 'broccoli': 3055, 'exert': 3056, 'tricks': 3057, 'attained': 3058, 'sheep': 3059, 'shots': 3060, 'foreign': 3061, 'hairy': 3062, 'chest': 3063, 'powerful': 3064, 'daughters': 3065, 'critic': 3066, 'master': 3067, 'portuguese': 3068, 'offered': 3069, 'earn': 3070, 'burnt': 3071, 'pipe': 3072, 'rare': 3073, 'crossed': 3074, 'blanket': 3075, 'stung': 3076, 'alternative': 3077, 'wooden': 3078, 'nowhere': 3079, 'blankets': 3080, 'lightning': 3081, 'sort': 3082, 'weigh': 3083, 'kilograms': 3084, 'corn': 3085, 'turkish': 3086, 'goose': 3087, 'bumps': 3088, 'dignity': 3089, 'baggage': 3090, 'nerves': 3091, 'value': 3092, 'rug': 3093, 'giveaway': 3094, 'obviously': 3095, 'castle': 3096, 'accurate': 3097, 'guide': 3098, 'ironed': 3099, 'knelt': 3100, 'miniskirts': 3101, 'opens': 3102, 'company': 3103, 'slammed': 3104, 'tights': 3105, 'stick': 3106, 'subject': 3107, 'main': 3108, 'crawling': 3109, 'collapsed': 3110, 'haunted': 3111, 'plates': 3112, 'rumor': 3113, 'script': 3114, 'shotgun': 3115, 'calmed': 3116, 'photos': 3117, 'ripe': 3118, 'inseparable': 3119, 'smoothies': 3120, 'intently': 3121, 'cover': 3122, 'hearing': 3123, 'online': 3124, 'accountant': 3125, 'evangelist': 3126, 'overemotional': 3127, 'seeking': 3128, 'defendant': 3129, 'knocked': 3130, 'stakes': 3131, 'discipline': 3132, 'basketball': 3133, 'mopped': 3134, 'cashier': 3135, 'bookkeeper': 3136, 'unsuccessful': 3137, 'argument': 3138, 'autopsy': 3139, 'mistakes': 3140, 'americans': 3141, 'discuss': 3142, 'tips': 3143, 'advantage': 3144, 'altered': 3145, 'station': 3146, 'entrance': 3147, 'pies': 3148, 'deleted': 3149, 'snooze': 3150, 'filthy': 3151, 'scapegoat': 3152, 'pickpockets': 3153, 'frequently': 3154, 'earphones': 3155, 'nails': 3156, 'public': 3157, 'faucet': 3158, 'quieted': 3159, 'explained': 3160, 'heroin': 3161, 'unable': 3162, 'tidied': 3163, 'africa': 3164, 'biwa': 3165, 'germany': 3166, 'pressed': 3167, 'anticipated': 3168, 'assumed': 3169, 'definitely': 3170, 'dare': 3171, 'forbid': 3172, 'inspiration': 3173, 'korea': 3174, 'stone': 3175, 'plum': 3176, 'tango': 3177, 'effort': 3178, 'settle': 3179, 'accounts': 3180, 'sew': 3181, 'related': 3182, 'lowered': 3183, 'clogged': 3184, 'kettle': 3185, 'force': 3186, 'shorthanded': 3187, 'sample': 3188, 'heals': 3189, 'wounds': 3190, 'shirts': 3191, 'players': 3192, 'chatting': 3193, 'hop': 3194, 'skip': 3195, 'cuff': 3196, 'bark': 3197, 'pro': 3198, 'obese': 3199, 'search': 3200, 'knits': 3201, 'rocks': 3202, 'swore': 3203, 'content': 3204, 'tragic': 3205, 'bushed': 3206, 'immune': 3207, 'mama': 3208, 'replace': 3209, 'flies': 3210, 'burped': 3211, 'goofed': 3212, 'moaned': 3213, 'nodded': 3214, 'paused': 3215, 'sighed': 3216, 'snores': 3217, 'yawned': 3218, 'merciful': 3219, 'vigilant': 3220, 'watchful': 3221, 'bowl': 3222, 'faking': 3223, 'monk': 3224, 'baker': 3225, 'fasting': 3226, 'neutral': 3227, 'vice': 3228, 'release': 3229, 'exhaled': 3230, 'gloated': 3231, 'groaned': 3232, 'grunted': 3233, 'ocd': 3234, 'inhaled': 3235, 'kneeled': 3236, 'sneezed': 3237, 'flaky': 3238, 'heel': 3239, 'ego': 3240, 'drew': 3241, 'merciless': 3242, 'backup': 3243, 'ramble': 3244, 'driven': 3245, 'bigot': 3246, 'ninja': 3247, 'caviar': 3248, 'mugged': 3249, 'sympathize': 3250, 'farmer': 3251, 'surfer': 3252, 'educated': 3253, 'grieving': 3254, 'perth': 3255, 'literate': 3256, 'rational': 3257, 'cured': 3258, 'lucid': 3259, 'elk': 3260, 'hip': 3261, 'gawking': 3262, 'sweated': 3263, 'approves': 3264, 'enlisted': 3265, 'flinched': 3266, 'insisted': 3267, 'timid': 3268, 'groggy': 3269, 'focus': 3270, 'goners': 3271, 'feast': 3272, 'phony': 3273, 'amuse': 3274, 'cain': 3275, 'despair': 3276, 'mock': 3277, 'sass': 3278, 'blog': 3279, 'maid': 3280, 'tycoon': 3281, 'saint': 3282, 'bled': 3283, 'thrilling': 3284, 'acquired': 3285, 'bribed': 3286, 'queasy': 3287, 'reborn': 3288, 'bonus': 3289, 'rights': 3290, 'sinned': 3291, 'tenure': 3292, 'sirens': 3293, 'voices': 3294, 'spoons': 3295, 'garlic': 3296, 'object': 3297, 'yacht': 3298, 'squash': 3299, 'rescheduled': 3300, 'resent': 3301, 'bacon': 3302, 'smelled': 3303, 'firefox': 3304, 'icelandic': 3305, 'spy': 3306, 'wasted': 3307, 'bat': 3308, 'sickens': 3309, 'p': 3310, 'sequel': 3311, 'obsolete': 3312, 'occupied': 3313, 'proceed': 3314, 'mortal': 3315, 'scarce': 3316, 'lungs': 3317, 'hood': 3318, 'bent': 3319, 'obeys': 3320, 'meddling': 3321, 'shooting': 3322, 'worrying': 3323, 'saturn': 3324, 'unreal': 3325, 'vulgar': 3326, 'asian': 3327, 'pun': 3328, 'exercised': 3329, 'exercises': 3330, 'aloof': 3331, 'klutz': 3332, 'fiasco': 3333, 'ails': 3334, 'disagreed': 3335, 'biased': 3336, 'qualified': 3337, 'autumn': 3338, 'brace': 3339, 'recycle': 3340, 'annoy': 3341, 'lines': 3342, 'afternoon': 3343, 'dislikes': 3344, 'tan': 3345, 'bankrupt': 3346, 'homeless': 3347, 'outgoing': 3348, 'jelly': 3349, 'florist': 3350, 'author': 3351, 'ached': 3352, 'czech': 3353, 'nail': 3354, 'ease': 3355, 'guarantee': 3356, 'mondays': 3357, 'sundays': 3358, 'riddles': 3359, 'hiccup': 3360, 'hurried': 3361, 'castles': 3362, 'jogging': 3363, 'puzzles': 3364, 'sashimi': 3365, 'lasagna': 3366, 'medic': 3367, 'ruler': 3368, 'asap': 3369, 'cattle': 3370, 'welcomed': 3371, 'prosper': 3372, 'atheist': 3373, 'dependable': 3374, 'quitter': 3375, 'insult': 3376, 'redundant': 3377, 'searching': 3378, 'dutch': 3379, 'lynn': 3380, 'joints': 3381, 'tummy': 3382, 'types': 3383, 'resisting': 3384, 'cyanide': 3385, 'plastic': 3386, 'barked': 3387, 'siren': 3388, 'quarreled': 3389, 'starve': 3390, 'hollow': 3391, 'scam': 3392, 'asthma': 3393, 'dwarf': 3394, 'miserly': 3395, 'idol': 3396, 'paged': 3397, 'sauce': 3398, 'surrendered': 3399, 'credible': 3400, 'concept': 3401, 'wipe': 3402, 'morons': 3403, 'disgust': 3404, 'freak': 3405, 'prude': 3406, 'instead': 3407, 'balls': 3408, 'precise': 3409, 'bullet': 3410, 'mice': 3411, 'boxes': 3412, 'congratulations': 3413, 'dig': 3414, 'rap': 3415, 'overdo': 3416, 'mark': 3417, 'disney': 3418, 'robot': 3419, 'mentioned': 3420, 'pressured': 3421, 'whisky': 3422, 'tends': 3423, 'freshman': 3424, 'spain': 3425, 'booked': 3426, 'undo': 3427, 'chickened': 3428, 'feverish': 3429, 'politics': 3430, 'raccoons': 3431, 'tomatoes': 3432, 'dandruff': 3433, 'imagined': 3434, 'climbing': 3435, 'hyogo': 3436, 'milan': 3437, 'interest': 3438, 'comedies': 3439, 'internet': 3440, 'tissue': 3441, 'scissors': 3442, 'bills': 3443, 'biking': 3444, 'bbc': 3445, 'optimist': 3446, 'catching': 3447, 'zambia': 3448, 'portugal': 3449, 'nearsighted': 3450, 'alarmed': 3451, 'certain': 3452, 'malaysian': 3453, 'poisonous': 3454, 'llama': 3455, 'thrill': 3456, 'ages': 3457, 'soft': 3458, 'eyesore': 3459, 'artificial': 3460, 'dinnertime': 3461, 'dirt': 3462, 'misleading': 3463, 'refreshing': 3464, 'koalas': 3465, 'kumi': 3466, 'metal': 3467, 'celebrate': 3468, 'widow': 3469, 'merry': 3470, 'shift': 3471, 'bore': 3472, 'saddle': 3473, 'carefree': 3474, 'graceful': 3475, 'brazilian': 3476, 'assertive': 3477, 'whimpering': 3478, 'pagoda': 3479, 'snag': 3480, 'growled': 3481, 'radar': 3482, 'cure': 3483, 'actors': 3484, 'melons': 3485, 'pilots': 3486, 'respond': 3487, 'pleases': 3488, 'err': 3489, 'blamed': 3490, 'exaggerates': 3491, 'hiccups': 3492, 'muslim': 3493, 'cyborg': 3494, 'maniac': 3495, 'priest': 3496, 'friendly': 3497, 'insecure': 3498, 'insolent': 3499, 'buddy': 3500, 'perverse': 3501, 'perky': 3502, 'tense': 3503, 'weary': 3504, 'nudged': 3505, 'pitied': 3506, 'sees': 3507, 'yawn': 3508, 'unlock': 3509, 'gifu': 3510, 'organized': 3511, 'prisoners': 3512, 'its': 3513, 'dude': 3514, 'devil': 3515, 'invisible': 3516, 'wizard': 3517, 'blushing': 3518, 'atlantis': 3519, 'frank': 3520, 'sometime': 3521, 'excused': 3522, 'cherries': 3523, 'blinds': 3524, 'drawer': 3525, 'concentrate': 3526, 'supply': 3527, 'brute': 3528, 'mislead': 3529, 'oppose': 3530, 'fetch': 3531, 'behaved': 3532, 'backward': 3533, 'moves': 3534, 'screams': 3535, 'shares': 3536, 'tenacious': 3537, 'crude': 3538, 'historian': 3539, 'lisbon': 3540, 'senile': 3541, 'wealth': 3542, 'album': 3543, 'embarrassing': 3544, 'masochist': 3545, 'norway': 3546, 'witch': 3547, 'bake': 3548, 'flattered': 3549, 'refreshed': 3550, 'chemistry': 3551, 'grenade': 3552, 'scooter': 3553, 'heartburn': 3554, 'languages': 3555, 'tahiti': 3556, 'astronomy': 3557, 'massage': 3558, 'cello': 3559, 'recommend': 3560, 'maui': 3561, 'martini': 3562, 'moody': 3563, 'freaking': 3564, 'romania': 3565, 'inviting': 3566, 'beggar': 3567, 'snitch': 3568, 'bluffing': 3569, 'saving': 3570, 'drawn': 3571, 'dvd': 3572, 'euros': 3573, 'creeps': 3574, 'freaks': 3575, 'ambush': 3576, 'drizzling': 3577, 'rainy': 3578, 'logical': 3579, 'sunburn': 3580, 'responded': 3581, 'prayers': 3582, 'idolized': 3583, 'pianist': 3584, 'shameless': 3585, 'repulses': 3586, 'rode': 3587, 'happily': 3588, 'sadly': 3589, 'startled': 3590, 'nosey': 3591, 'pinching': 3592, 'scaring': 3593, 'showing': 3594, 'kindly': 3595, 'enormous': 3596, 'debatable': 3597, 'idle': 3598, 'troubling': 3599, 'creaked': 3600, 'jury': 3601, 'mic': 3602, 'icy': 3603, 'abated': 3604, 'healed': 3605, 'limit': 3606, 'singers': 3607, 'grave': 3608, 'nearby': 3609, 'traitors': 3610, 'sabotage': 3611, 'norm': 3612, 'admires': 3613, 'avoided': 3614, 'babysat': 3615, 'detests': 3616, 'drown': 3617, 'tb': 3618, 'frightens': 3619, 'freckles': 3620, 'insomnia': 3621, 'olives': 3622, 'fascist': 3623, 'patriot': 3624, 'plumber': 3625, 'recluse': 3626, 'redneck': 3627, 'refugee': 3628, 'surgeon': 3629, 'trucker': 3630, 'veteran': 3631, 'widower': 3632, 'ambitious': 3633, 'brilliant': 3634, 'eccentric': 3635, 'emotional': 3636, 'energetic': 3637, 'insincere': 3638, 'muttering': 3639, 'obsessive': 3640, 'perplexed': 3641, 'undecided': 3642, 'whistling': 3643, 'hockey': 3644, 'ponies': 3645, 'reggae': 3646, 'shouts': 3647, 'reads': 3648, 'log': 3649, 'slugged': 3650, 'pony': 3651, 'perk': 3652, 'award': 3653, 'unfasten': 3654, 'pin': 3655, 'adore': 3656, 'swordfish': 3657, 'competed': 3658, 'disturbed': 3659, 'crisis': 3660, 'classmates': 3661, 'historians': 3662, 'lifeguards': 3663, 'plenty': 3664, 'cause': 3665, 'customs': 3666, 'razor': 3667, 'hamlet': 3668, 'conform': 3669, 'practical': 3670, 'owner': 3671, 'mauled': 3672, 'candles': 3673, 'nests': 3674, 'bow': 3675, 'champagne': 3676, 'insist': 3677, 'imminent': 3678, 'dial': 3679, 'ants': 3680, 'threaten': 3681, 'outdoors': 3682, 'ladies': 3683, 'haste': 3684, 'hay': 3685, 'blocked': 3686, 'hanged': 3687, 'poet': 3688, 'daredevil': 3689, 'introverted': 3690, 'smoker': 3691, 'struck': 3692, 'vitamins': 3693, 'violated': 3694, 'wakes': 3695, 'imprisoned': 3696, 'raging': 3697, 'timer': 3698, 'handrail': 3699, 'ecuador': 3700, 'shikoku': 3701, 'baited': 3702, 'hook': 3703, 'hybrid': 3704, 'upfront': 3705, 'consented': 3706, 'demand': 3707, 'slap': 3708, 'sting': 3709, 'lightly': 3710, 'hypocrites': 3711, 'mosquitoes': 3712, 'desert': 3713, 'migraine': 3714, 'earache': 3715, 'discs': 3716, 'folk': 3717, 'sandwiches': 3718, 'sauerkraut': 3719, 'watermelon': 3720, 'fuel': 3721, 'airplane': 3722, 'discount': 3723, 'compete': 3724, 'confess': 3725, 'discouraged': 3726, 'salesperson': 3727, 'astronomer': 3728, 'bringing': 3729, 'concentrating': 3730, 'pear': 3731, 'fairly': 3732, 'keeping': 3733, 'eighteen': 3734, 'twitter': 3735, 'client': 3736, 'fatal': 3737, 'pieces': 3738, 'ways': 3739, 'flimsy': 3740, 'cargo': 3741, 'compliment': 3742, 'conspiracy': 3743, 'pocket': 3744, 'questionable': 3745, 'investigate': 3746, 'enjoyable': 3747, 'conquers': 3748, 'prediction': 3749, 'shoulder': 3750, 'volunteers': 3751, 'reconsider': 3752, 'leak': 3753, 'poets': 3754, 'pretend': 3755, 'rugs': 3756, 'absorb': 3757, 'polish': 3758, 'rapidly': 3759, 'fashionable': 3760, 'spin': 3761, 'webs': 3762, 'stealing': 3763, 'medicine': 3764, 'termites': 3765, 'knot': 3766, 'fir': 3767, 'blow': 3768, 'pheasant': 3769, 'terrifying': 3770, 'spirit': 3771, 'squeaked': 3772, 'rotates': 3773, 'lovers': 3774, 'sail': 3775, 'tactic': 3776, 'trial': 3777, 'carnage': 3778, 'hunted': 3779, 'foxes': 3780, 'extortion': 3781, 'fishy': 3782, 'thursday': 3783, 'arrives': 3784, 'disliked': 3785, 'dyed': 3786, 'gazed': 3787, 'allergies': 3788, 'iphone': 3789, 'arthritis': 3790, 'wavy': 3791, 'imitated': 3792, 'civilian': 3793, 'democrat': 3794, 'designer': 3795, 'lobbyist': 3796, 'mechanic': 3797, 'pacifist': 3798, 'reporter': 3799, 'sorcerer': 3800, 'teenager': 3801, 'weakling': 3802, 'intolerant': 3803, 'fiance': 3804, 'passionate': 3805, 'stuttering': 3806, 'winner': 3807, 'crook': 3808, 'budging': 3809, 'violent': 3810, 'empathy': 3811, 'blondes': 3812, 'lobster': 3813, 'knit': 3814, 'offended': 3815, 'outlived': 3816, 'owned': 3817, 'released': 3818, 'retired': 3819, 'skipped': 3820, 'swindled': 3821, 'vomited': 3822, 'acquitted': 3823, 'strangled': 3824, 'poetry': 3825, 'beers': 3826, 'liquid': 3827, 'flaws': 3828, 'australian': 3829, 'cultivate': 3830, 'mysteries': 3831, 'canoe': 3832, 'seek': 3833, 'guinea': 3834, 'journalists': 3835, 'workaholics': 3836, 'collection': 3837, 'suffer': 3838, 'flammable': 3839, 'stressed': 3840, 'blowing': 3841, 'guard': 3842, 'productive': 3843, 'anxious': 3844, 'bookmark': 3845, 'site': 3846, 'bribe': 3847, 'conquer': 3848, 'octopus': 3849, 'kabuki': 3850, 'trim': 3851, 'offend': 3852, 'paranoid': 3853, 'overthink': 3854, 'patronize': 3855, 'chances': 3856, 'stones': 3857, 'relaxes': 3858, 'blanks': 3859, 'wrench': 3860, 'thanksgiving': 3861, 'abused': 3862, 'gripped': 3863, 'footsteps': 3864, 'classmate': 3865, 'precedent': 3866, 'appeal': 3867, 'heartbroken': 3868, 'bodybuilder': 3869, 'creationist': 3870, 'keeper': 3871, 'stepfather': 3872, 'studious': 3873, 'hedgehogs': 3874, 'print': 3875, 'torn': 3876, 'grammar': 3877, 'smooth': 3878, 'closet': 3879, 'folks': 3880, 'hail': 3881, 'bathe': 3882, 'confirm': 3883, 'exclude': 3884, 'fractured': 3885, 'nosebleed': 3886, 'toothache': 3887, 'nephews': 3888, 'l': 3889, 'kakogawa': 3890, 'identity': 3891, 'butterflies': 3892, 'lentil': 3893, 'pot': 3894, 'roast': 3895, 'envelope': 3896, 'plowed': 3897, 'field': 3898, 'psychology': 3899, 'coerced': 3900, 'farm': 3901, 'july': 3902, 'singapore': 3903, 'sock': 3904, 'photogenic': 3905, 'rut': 3906, 'crybaby': 3907, 'summoned': 3908, 'woken': 3909, 'ignorance': 3910, 'bliss': 3911, 'snake': 3912, 'belonged': 3913, 'worthless': 3914, 'handcrafted': 3915, 'distraction': 3916, 'herring': 3917, 'booby': 3918, 'merely': 3919, 'stinky': 3920, 'jar': 3921, 'profile': 3922, 'delusion': 3923, 'lilies': 3924, 'mars': 3925, 'moons': 3926, 'excluded': 3927, 'bookworm': 3928, 'final': 3929, 'sealed': 3930, 'tax': 3931, 'guns': 3932, 'bandage': 3933, 'postcard': 3934, 'twenty': 3935, 'lonesome': 3936, 'frankly': 3937, 'alcoholic': 3938, 'meeting': 3939, 'somalia': 3940, 'godmother': 3941, 'slander': 3942, 'somehow': 3943, 'knocking': 3944, 'harassing': 3945, 'fuss': 3946, 'strive': 3947, 'dear': 3948, 'sharing': 3949, 'intriguing': 3950, 'total': 3951, 'attempt': 3952, 'axle': 3953, 'crow': 3954, 'damage': 3955, 'disco': 3956, 'flame': 3957, 'fog': 3958, 'lifted': 3959, 'caved': 3960, 'rallied': 3961, 'rocket': 3962, 'spider': 3963, 'stars': 3964, 'setting': 3965, 'tires': 3966, 'squealed': 3967, 'waves': 3968, 'smashing': 3969, 'peered': 3970, 'handcuffed': 3971, 'shaggy': 3972, 'triangle': 3973, 'plagiarism': 3974, 'typical': 3975, 'tighten': 3976, 'march': 3977, 'appears': 3978, 'unhurt': 3979, 'chewed': 3980, 'comforted': 3981, 'contacted': 3982, 'counts': 3983, 'described': 3984, 'combat': 3985, 'typhus': 3986, 'lemonade': 3987, 'fled': 3988, 'glared': 3989, 'curly': 3990, 'honked': 3991, 'cameraman': 3992, 'celebrity': 3993, 'chauffeur': 3994, 'nerd': 3995, 'socialist': 3996, 'terrorist': 3997, 'independent': 3998, 'insensitive': 3999, 'mischievous': 4000, 'obedient': 4001, 'lacrosse': 4002, 'redheads': 4003, 'dreadful': 4004, 'youthful': 4005, 'parked': 4006, 'reassured': 4007, 'relies': 4008, 'returns': 4009, 'ripped': 4010, 'sliced': 4011, 'disfigured': 4012, 'hypnotized': 4013, 'ostracized': 4014, 'ballistic': 4015, 'nasa': 4016, 'volume': 4017, 'australians': 4018, 'strategy': 4019, 'watchdog': 4020, 'tools': 4021, 'sacrifice': 4022, 'tent': 4023, 'shelter': 4024, 'bodybuilders': 4025, 'honeymooning': 4026, 'tricked': 4027, 'usa': 4028, 'pumpkin': 4029, 'coincidence': 4030, 'whales': 4031, 'hidden': 4032, 'prevent': 4033, 'float': 4034, 'evicted': 4035, 'elephants': 4036, 'contented': 4037, 'gal': 4038, 'racists': 4039, 'charismatic': 4040, 'cooperating': 4041, 'egotistical': 4042, 'gym': 4043, 'enjoying': 4044, 'prophet': 4045, 'least': 4046, 'athens': 4047, 'overrated': 4048, 'chew': 4049, 'virus': 4050, 'elaborate': 4051, 'increasing': 4052, 'disconnect': 4053, 'b': 4054, 'motto': 4055, 'surfing': 4056, 'questions': 4057, 'bait': 4058, 'embrace': 4059, 'faults': 4060, 'sorrows': 4061, 'toothpick': 4062, 'hatred': 4063, 'thimble': 4064, 'genoa': 4065, 'wales': 4066, 'commited': 4067, 'opposite': 4068, 'rage': 4069, 'sigh': 4070, 'picassos': 4071, 'dealer': 4072, 'indeed': 4073, 'penance': 4074, 'kilos': 4075, 'sober': 4076, 'adventures': 4077, 'cantaloupe': 4078, 'cardiff': 4079, 'morocco': 4080, 'bug': 4081, 'response': 4082, 'muttered': 4083, 'stays': 4084, 'cages': 4085, 'popped': 4086, 'shined': 4087, 'queue': 4088, 'lab': 4089, 'scriptwriter': 4090, 'fifties': 4091, 'sentry': 4092, 'escapes': 4093, 'nhk': 4094, 'magnets': 4095, 'pluck': 4096, 'peeling': 4097, 'kanji': 4098, 'sms': 4099, 'hasty': 4100, 'daydream': 4101, 'decorated': 4102, 'radios': 4103, 'employees': 4104, 'runny': 4105, 'suggestion': 4106, 'pangs': 4107, 'highly': 4108, 'exotic': 4109, 'perfume': 4110, 'films': 4111, 'medical': 4112, 'hangers': 4113, 'noticed': 4114, 'pretended': 4115, 'purchased': 4116, 'revised': 4117, 'rewrote': 4118, 'email': 4119, 'simply': 4120, 'stutter': 4121, 'sprang': 4122, 'mathematics': 4123, 'doable': 4124, 'blend': 4125, 'sack': 4126, 'forsake': 4127, 'daiquiri': 4128, 'skim': 4129, 'butt': 4130, 'update': 4131, 'perfectionist': 4132, 'service': 4133, 'fully': 4134, 'thinner': 4135, 'indebted': 4136, 'slave': 4137, 'backing': 4138, 'speculating': 4139, 'judo': 4140, 'basque': 4141, 'preparing': 4142, 'suspended': 4143, 'prophecy': 4144, 'uses': 4145, 'solar': 4146, 'oversight': 4147, 'unpardonable': 4148, 'request': 4149, 'comedy': 4150, 'amount': 4151, 'solvent': 4152, 'placebo': 4153, 'unheard': 4154, 'scratch': 4155, 'unbearably': 4156, 'asians': 4157, 'loop': 4158, 'fries': 4159, 'mop': 4160, 'overreact': 4161, 'oxygen': 4162, 'fiancee': 4163, 'waitress': 4164, 'trash': 4165, 'monkeys': 4166, 'spoils': 4167, 'spinning': 4168, 'smith': 4169, 'infallible': 4170, 'ostriches': 4171, 'mumble': 4172, 'poison': 4173, 'within': 4174, 'quote': 4175, 'rambo': 4176, 'breathed': 4177, 'convulsions': 4178, 'widely': 4179, 'sonata': 4180, 'shinjuku': 4181, 'modern': 4182, 'earlier': 4183, 'delay': 4184, 'criticizing': 4185, 'thailand': 4186, 'overcoat': 4187, 'proves': 4188, 'poem': 4189, 'organ': 4190, 'intention': 4191, 'relevant': 4192, 'unacceptable': 4193, 'funeral': 4194, 'bush': 4195, 'crops': 4196, 'drooling': 4197, 'corrupt': 4198, 'folder': 4199, 'roaring': 4200, 'pantry': 4201, 'froze': 4202, 'skies': 4203, 'desks': 4204, 'chorus': 4205, 'deserters': 4206, 'mocking': 4207, 'tender': 4208, 'newspaper': 4209, 'cube': 4210, 'formula': 4211, 'holy': 4212, 'ground': 4213, 'intolerable': 4214, 'drill': 4215, 'gentlemen': 4216, 'thou': 4217, 'shalt': 4218, 'passes': 4219, 'beeped': 4220, 'botched': 4221, 'webcam': 4222, 'challenged': 4223, 'combed': 4224, 'complimented': 4225, 'confronted': 4226, 'dealt': 4227, 'cartwheel': 4228, 'lousy': 4229, 'horribly': 4230, 'faked': 4231, 'persecuted': 4232, 'snapped': 4233, 'rifle': 4234, 'frowned': 4235, 'nod': 4236, 'glanced': 4237, 'tonsillitis': 4238, 'halloween': 4239, 'biochemist': 4240, 'sport': 4241, 'politician': 4242, 'psychopath': 4243, 'architect': 4244, 'broad': 4245, 'disagreeable': 4246, 'hitting': 4247, 'hypocritical': 4248, 'intellectual': 4249, 'texting': 4250, 'unscrupulous': 4251, 'capable': 4252, 'cunning': 4253, 'scribbling': 4254, 'belch': 4255, 'brunettes': 4256, 'complains': 4257, 'owed': 4258, 'muscle': 4259, 'questioned': 4260, 'facing': 4261, 'scowled': 4262, 'sided': 4263, 'pledge': 4264, 'groan': 4265, 'stubbed': 4266, 'toe': 4267, 'blindfolded': 4268, 'wiped': 4269, 'overtime': 4270, 'messy': 4271, 'coffees': 4272, 'overreacted': 4273, 'ourselves': 4274, 'anomaly': 4275, 'oral': 4276, 'outnumbered': 4277, 'cardiologists': 4278, 'ambushed': 4279, 'dessert': 4280, 'tick': 4281, 'result': 4282, 'due': 4283, 'forks': 4284, 'pan': 4285, 'inform': 4286, 'bible': 4287, 'yawning': 4288, 'essay': 4289, 'correctly': 4290, 'reek': 4291, 'tore': 4292, 'generous': 4293, 'stylish': 4294, 'squid': 4295, 'figures': 4296, 'ali': 4297, 'spying': 4298, 'subjective': 4299, 'bob': 4300, 'exterminator': 4301, 'imagine': 4302, 'loving': 4303, 'numbs': 4304, 'limbs': 4305, 'copying': 4306, 'absorbs': 4307, 'hundred': 4308, 'diamonds': 4309, 'excellent': 4310, 'budget': 4311, 'tattoo': 4312, 'meditate': 4313, 'catalan': 4314, 'swahili': 4315, 'dolphins': 4316, 'careless': 4317, 'extremes': 4318, 'clumsiness': 4319, 'smoked': 4320, 'measured': 4321, 'aimed': 4322, 'counted': 4323, 'chose': 4324, 'clipped': 4325, 'geneva': 4326, 'gracefully': 4327, 'emptied': 4328, 'envied': 4329, 'filed': 4330, 'complaint': 4331, 'doctorate': 4332, 'accent': 4333, 'mild': 4334, 'frame': 4335, 'unsung': 4336, 'sixty': 4337, 'energy': 4338, 'precious': 4339, 'nagasaki': 4340, 'speed': 4341, 'ridiculed': 4342, 'influence': 4343, 'lung': 4344, 'tickets': 4345, 'hopefully': 4346, 'wall': 4347, 'milking': 4348, 'mopping': 4349, 'stirring': 4350, 'awoke': 4351, 'malice': 4352, 'ashtray': 4353, 'fingertip': 4354, 'coins': 4355, 'daydreamed': 4356, 'willingly': 4357, 'cities': 4358, 'hebrew': 4359, 'charity': 4360, 'boots': 4361, 'twig': 4362, 'crack': 4363, 'intend': 4364, 'cracked': 4365, 'rib': 4366, 'panther': 4367, 'discussion': 4368, 'canned': 4369, 'fruits': 4370, 'clogs': 4371, 'prizes': 4372, 'kazakhstan': 4373, 'dike': 4374, 'consciousness': 4375, 'flashlight': 4376, 'sunglasses': 4377, 'track': 4378, 'peppers': 4379, 'majored': 4380, 'disrespect': 4381, 'resemble': 4382, 'e': 4383, 'couch': 4384, 'mystery': 4385, 'topic': 4386, 'mp': 4387, 'loner': 4388, 'army': 4389, 'navy': 4390, 'bakery': 4391, 'soul': 4392, 'pharmacy': 4393, 'depending': 4394, 'guacamole': 4395, 'solving': 4396, 'willing': 4397, 'toast': 4398, 'pacemaker': 4399, 'diamond': 4400, 'secure': 4401, 'marvelous': 4402, 'glows': 4403, 'brand': 4404, 'whammy': 4405, 'military': 4406, 'scalp': 4407, 'disease': 4408, 'thankless': 4409, 'extreme': 4410, 'pleasure': 4411, 'justify': 4412, 'square': 4413, 'nutritious': 4414, 'peninsula': 4415, 'prevail': 4416, 'lambs': 4417, 'gander': 4418, 'lightbulbs': 4419, 'emit': 4420, 'lincoln': 4421, 'lions': 4422, 'colorblind': 4423, 'clouds': 4424, 'limits': 4425, 'designs': 4426, 'dresses': 4427, 'nikon': 4428, 'motorcycle': 4429, 'palms': 4430, 'sweaty': 4431, 'moron': 4432, 'purple': 4433, 'nightmares': 4434, 'recognizes': 4435, 'supported': 4436, 'disturbs': 4437, 'marriage': 4438, 'delayed': 4439, 'spare': 4440, 'account': 4441, 'resistance': 4442, 'roll': 4443, 'sleeves': 4444, 'duplicate': 4445, 'picnic': 4446, 'beating': 4447, 'ooita': 4448, 'include': 4449, 'permitted': 4450, 'unhealthy': 4451, 'manager': 4452, 'stock': 4453, 'pulling': 4454, 'sumatra': 4455, 'island': 4456, 'baffles': 4457, 'disappointing': 4458, 'specialty': 4459, 'pseudoscience': 4460, 'bathtub': 4461, 'battery': 4462, 'border': 4463, 'cabinet': 4464, 'meowing': 4465, 'bin': 4466, 'breaking': 4467, 'hose': 4468, 'bulb': 4469, 'x': 4470, 'rated': 4471, 'bothers': 4472, 'nuns': 4473, 'sailors': 4474, 'becomes': 4475, 'fades': 4476, 'temperature': 4477, 'voting': 4478, 'swords': 4479, 'clashed': 4480, 'plums': 4481, 'clinked': 4482, 'daily': 4483, 'separately': 4484, 'tottori': 4485, 'victorious': 4486, 'threat': 4487, 'barks': 4488, 'approval': 4489, 'canary': 4490, 'carcinogenic': 4491, 'homemade': 4492, 'handout': 4493, 'handmade': 4494, 'branded': 4495, 'calf': 4496, 'bumped': 4497, 'collected': 4498, 'craves': 4499, 'ducked': 4500, 'fumbled': 4501, 'wink': 4502, 'male': 4503, 'heir': 4504, 'gramophone': 4505, 'authority': 4506, 'slanted': 4507, 'uncles': 4508, 'onions': 4509, 'attic': 4510, 'feelings': 4511, 'mentor': 4512, 'billionaire': 4513, 'firefighter': 4514, 'dancer': 4515, 'lovable': 4516, 'neurologist': 4517, 'walker': 4518, 'brain': 4519, 'damaged': 4520, 'grilling': 4521, 'fashioned': 4522, 'scolding': 4523, 'sending': 4524, 'fax': 4525, 'sitting': 4526, 'motivation': 4527, 'arithmetic': 4528, 'nonplussed': 4529, 'loosened': 4530, 'overpowered': 4531, 'peeled': 4532, 'recommended': 4533, 'reloaded': 4534, 'reluctantly': 4535, 'rewound': 4536, 'tape': 4537, 'rinsed': 4538, 'exhibits': 4539, 'fertilizer': 4540, 'jailed': 4541, 'mumbling': 4542, 'stirred': 4543, 'cleaning': 4544, 'ropes': 4545, 'anxiously': 4546, 'miner': 4547, 'lumberjack': 4548, 'electrocuted': 4549, 'hostage': 4550, 'hospitalized': 4551, 'silently': 4552, 'cellphone': 4553, 'intuition': 4554, 'ignition': 4555, 'unemployment': 4556, 'reflects': 4557, 'workers': 4558, 'partied': 4559, 'poisoning': 4560, 'ear': 4561, 'named': 4562, 'terrorists': 4563, 'planting': 4564, 'seeds': 4565, 'owners': 4566, 'chosen': 4567, 'sabotaged': 4568, 'discussed': 4569, 'figured': 4570, 'dignified': 4571, 'duties': 4572, 'brings': 4573, 'invent': 4574, 'galileo': 4575, 'involve': 4576, 'plus': 4577, 'outcome': 4578, 'nickname': 4579, 'guards': 4580, 'mailbox': 4581, 'director': 4582, 'restroom': 4583, 'uniform': 4584, 'ones': 4585, 'pizarro': 4586, 'planted': 4587, 'outwit': 4588, 'whom': 4589, 'diligent': 4590, 'elegant': 4591, 'cautious': 4592, 'overestimate': 4593, 'resourceful': 4594, 'unconcerned': 4595, 'unperturbed': 4596, 'embarrass': 4597, 'evasive': 4598, 'opportunistic': 4599, 'mysterious': 4600, 'tempting': 4601, 'helmet': 4602, 'tail': 4603, 'dolphin': 4604, 'afghanistan': 4605, 'slippers': 4606, 'nanny': 4607, 'uncomfortable': 4608, 'travels': 4609, 'berries': 4610, 'claims': 4611, 'buckle': 4612, 'seatbelts': 4613, 'spend': 4614, 'compasses': 4615, 'north': 4616, 'plate': 4617, 'prohibited': 4618, 'lighter': 4619, 'loin': 4620, 'batteries': 4621, 'sexy': 4622, 'bury': 4623, 'bones': 4624, 'unreasonable': 4625, 'floss': 4626, 'stare': 4627, 'swear': 4628, 'strangers': 4629, 'icon': 4630, 'estrogen': 4631, 'hormone': 4632, 'continent': 4633, 'attended': 4634, 'spoken': 4635, 'created': 4636, 'universe': 4637, 'admitted': 4638, 'guilt': 4639, 'several': 4640, 'nor': 4641, 'deals': 4642, 'furniture': 4643, 'tear': 4644, 'overwork': 4645, 'dislocated': 4646, 'tow': 4647, 'allergy': 4648, 'interpreted': 4649, 'wheel': 4650, 'birth': 4651, 'wisdom': 4652, 'shooter': 4653, 'suspicion': 4654, 'eager': 4655, 'beaver': 4656, 'blinded': 4657, 'ordinary': 4658, 'unzipped': 4659, 'awfully': 4660, 'bronze': 4661, 'silver': 4662, 'beautifully': 4663, 'hurriedly': 4664, 'absolute': 4665, 'stronger': 4666, 'anger': 4667, 'numbered': 4668, 'wheels': 4669, 'brushing': 4670, 'folding': 4671, 'harvesting': 4672, 'heating': 4673, 'selling': 4674, 'assume': 4675, 'nuggets': 4676, 'miracles': 4677, 'testify': 4678, 'farther': 4679, 'carried': 4680, 'donate': 4681, 'licorice': 4682, 'oboe': 4683, 'swedish': 4684, 'afterwards': 4685, 'puzzled': 4686, 'sedative': 4687, 'pierced': 4688, 'precooked': 4689, 'errands': 4690, 'insurance': 4691, 'cuisine': 4692, 'dye': 4693, 'frankness': 4694, 'musicians': 4695, 'roller': 4696, 'romance': 4697, 'novels': 4698, 'inquiries': 4699, 'repay': 4700, 'debts': 4701, 'wardrobe': 4702, 'interpreter': 4703, 'impress': 4704, 'biology': 4705, 'postponed': 4706, 'event': 4707, 'toward': 4708, 'realize': 4709, 'elderly': 4710, 'west': 4711, 'swiped': 4712, 'doorknob': 4713, 'explanation': 4714, 'mango': 4715, 'falsely': 4716, 'accused': 4717, 'spirits': 4718, 'lenses': 4719, 'reunion': 4720, 'embassy': 4721, 'mcdonald': 4722, 'advise': 4723, 'detroit': 4724, 'councillor': 4725, 'heights': 4726, 'restaurant': 4727, 'attracted': 4728, 'undressed': 4729, 'hokkaido': 4730, 'unofficially': 4731, 'seventh': 4732, 'heaven': 4733, 'materialistic': 4734, 'swamped': 4735, 'given': 4736, 'munchies': 4737, 'discovery': 4738, 'iceland': 4739, 'tuesday': 4740, 'install': 4741, 'facility': 4742, 'material': 4743, 'setup': 4744, 'frosted': 4745, 'goosebumps': 4746, 'naturally': 4747, 'cruise': 4748, 'tale': 4749, 'useful': 4750, 'pleasant': 4751, 'stiflingly': 4752, 'upsetting': 4753, 'intentional': 4754, 'investment': 4755, 'cultural': 4756, 'leather': 4757, 'valise': 4758, 'miles': 4759, 'explode': 4760, 'though': 4761, 'olympics': 4762, 'perfectly': 4763, 'stressful': 4764, 'explanatory': 4765, 'spicy': 4766, 'frustrating': 4767, 'expected': 4768, 'flush': 4769, 'entering': 4770, 'sentences': 4771, 'snoopy': 4772, 'dodge': 4773, 'volleyball': 4774, 'review': 4775, 'materialist': 4776, 'trophy': 4777, 'escort': 4778, 'mike': 4779, 'tyson': 4780, 'boxer': 4781, 'cell': 4782, 'junkie': 4783, 'instinct': 4784, 'schedule': 4785, 'appreciates': 4786, 'pipes': 4787, 'privacy': 4788, 'breed': 4789, 'safety': 4790, 'illusion': 4791, 'reaction': 4792, 'actress': 4793, 'giggle': 4794, 'lisp': 4795, 'waist': 4796, 'aged': 4797, 'seventeen': 4798, 'victim': 4799, 'agony': 4800, 'tune': 4801, 'childishly': 4802, 'painkiller': 4803, 'baptized': 4804, 'unkind': 4805, 'depression': 4806, 'clueless': 4807, 'bench': 4808, 'skincare': 4809, 'someday': 4810, 'tadpoles': 4811, 'frogs': 4812, 'joining': 4813, 'warning': 4814, 'bruised': 4815, 'wretch': 4816, 'discouraging': 4817, 'unforgivable': 4818, 'straw': 4819, 'understandable': 4820, 'utter': 4821, 'jacksons': 4822, 'milky': 4823, 'foiled': 4824, 'dixie': 4825, 'bride': 4826, 'radiant': 4827, 'cleanup': 4828, 'comparison': 4829, 'apt': 4830, 'crowd': 4831, 'promising': 4832, 'biting': 4833, 'fastest': 4834, 'leaking': 4835, 'mutual': 4836, 'files': 4837, 'flood': 4838, 'massive': 4839, 'goldfish': 4840, 'hawk': 4841, 'trashed': 4842, 'extensive': 4843, 'limitless': 4844, 'meetings': 4845, 'motive': 4846, 'unknown': 4847, 'process': 4848, 'regime': 4849, 'fallen': 4850, 'situation': 4851, 'salty': 4852, 'streets': 4853, 'tide': 4854, 'treaty': 4855, 'typhoon': 4856, 'unanimous': 4857, 'examples': 4858, 'grease': 4859, 'substitute': 4860, 'carpool': 4861, 'ganged': 4862, 'alike': 4863, 'scorned': 4864, 'criminals': 4865, 'heater': 4866, 'catastrophe': 4867, 'extraordinary': 4868, 'inappropriate': 4869, 'brainchild': 4870, 'pupil': 4871, 'sentence': 4872, 'string': 4873, 'textbook': 4874, 'october': 4875, 'appealed': 4876, 'leftovers': 4877, 'hotdogs': 4878, 'brushed': 4879, 'peanuts': 4880, 'casually': 4881, 'chatted': 4882, 'composed': 4883, 'sonnet': 4884, 'classes': 4885, 'ups': 4886, 'expects': 4887, 'conundrum': 4888, 'flirted': 4889, 'folded': 4890, 'stool': 4891, 'palm': 4892, 'jet': 4893, 'reservation': 4894, 'conscience': 4895, 'hurdled': 4896, 'stepson': 4897, 'snobbish': 4898, 'cardiologist': 4899, 'athlete': 4900, 'quadriplegic': 4901, 'troublemaker': 4902, 'veterinarian': 4903, 'claustrophobic': 4904, 'consoling': 4905, 'divorcing': 4906, 'donating': 4907, 'grading': 4908, 'most': 4909, 'competent': 4910, 'dexterous': 4911, 'ingenious': 4912, 'sarcastic': 4913, 'usual': 4914, 'quiche': 4915, 'yells': 4916, 'laptop': 4917, 'reeked': 4918, 'scrubbed': 4919, 'skinned': 4920, 'stroked': 4921, 'uncorked': 4922, 'underestimated': 4923, 'inconsiderate': 4924, 'frail': 4925, 'eyepatch': 4926, 'triathlon': 4927, 'drying': 4928, 'agonized': 4929, 'pochi': 4930, 'voyage': 4931, 'customers': 4932, 'rescue': 4933, 'kings': 4934}\n",
            "1 <start>\n",
            "16 we\n",
            "38 ll\n",
            "369 meet\n",
            "107 right\n",
            "39 here\n",
            "3 .\n",
            "2 <end>\n"
          ]
        }
      ]
    },
    {
      "cell_type": "markdown",
      "source": [
        "## 모델정의\n"
      ],
      "metadata": {
        "id": "bj3mzbUIfLv4"
      }
    },
    {
      "cell_type": "code",
      "source": [
        "class GRUEncoder(tf.keras.Model):\n",
        "    def __init__(self, cfg: DictConfig):\n",
        "        super().__init__()\n",
        "        self.cfg = cfg\n",
        "        self.enc_emb = tf.keras.layers.Embedding(\n",
        "            cfg.data.src.vocab_size,\n",
        "            cfg.model.enc.embed_size\n",
        "        )\n",
        "        self.enc_gru = tf.keras.layers.GRU(\n",
        "            cfg.model.enc.rnn.units,\n",
        "            return_state = True,\n",
        "            return_sequences= True,\n",
        "            recurrent_initializer= \"glorot_uniform\"\n",
        "        )\n",
        "\n",
        "    def call(self, src_tokens, state = None, training =False):\n",
        "        embed_enc = self.enc_emb(src_tokens)\n",
        "        enc_outputs, enc_states = self.gru(\n",
        "            embed_enc, initial_state = state\n",
        "        )\n",
        "        return enc_outputs, enc_states\n",
        "\n",
        "class GRUDecoder(tf.keras.Model):\n",
        "    def __init__(self, cfg : DictConfig):\n",
        "        super().__init__()\n",
        "        self.cfg = cfg\n",
        "        self.dec_emb = tf.keras.layers.Embedding(\n",
        "            cfg.data.tar.vocab_size,\n",
        "            cfg.model.dec.embed_size\n",
        "        )\n",
        "        self.dec_gru = tf.keras.layers.GRU(\n",
        "            cfg.model.dec.rnn.units,\n",
        "            return_state = True,\n",
        "            return_sequences= True,\n",
        "            recurrent_initializer= \"glorot_uniform\"\n",
        "        )\n",
        "        self.fc = tf.keras.layers.Dense(cfg.data.tar.vocab_size)\n",
        "\n",
        "\n",
        "    def call(self, tar_tokens, state = None, training =False):\n",
        "        embed_dec = self.dec_emb(tar_tokens)\n",
        "        dec_outputs, dec_states = self.gru(\n",
        "            embed_dec, initial_state = state\n",
        "        )\n",
        "        final_outputs = self.fc(dec_outputs)\n",
        "        return final_outputs, dec_states, None # None은 추후 attention등 추가시 인터페이스 통일"
      ],
      "metadata": {
        "id": "gIy5u9XRsyjq"
      },
      "execution_count": 31,
      "outputs": []
    },
    {
      "cell_type": "markdown",
      "source": [
        "## configuration 정의"
      ],
      "metadata": {
        "id": "s-g63l5GdYkk"
      }
    },
    {
      "cell_type": "code",
      "source": [
        "# data configuration\n",
        "data_anki_spa_eng_cfg ={\n",
        "    \"name\" : \"anki_spa_eng_cfg\",\n",
        "    \"src\" : {\n",
        "        \"vocab_size\" : src_vocab_size,\n",
        "        \"max_len\" : max_src_len,\n",
        "    },\n",
        "    \"tar\" : {\n",
        "        \"vocab_size\" : tar_vocab_size,\n",
        "        \"max_len\" : max_tar_len,\n",
        "    },\n",
        "    \"train_val_test_split_ratio\" : [0.8, 0.1, 0.1],\n",
        "    \"train_val_shuffle\" : True,\n",
        "}\n",
        "\n",
        "# model configuration\n",
        "model_translate_rnn_seq2seq_cfg ={\n",
        "    \"name\" : \"RNNSeq2Seq\",\n",
        "    \"enc\" : {\n",
        "        \"embed_size\" : 256,\n",
        "        \"rnn\" : {\n",
        "            \"units\" : 1024,\n",
        "        },\n",
        "    },\n",
        "    \"dec\" : {\n",
        "        \"embed_size\" : 256,\n",
        "        \"rnn\" : {\n",
        "            \"units\" : 1024,\n",
        "        },\n",
        "    },\n",
        "\n",
        " }\n",
        "\n",
        "# optimizer_configs\n",
        "\n",
        "adam_warmup_lr_sch_opt_cfg  ={\n",
        "    \"optimizer\" :{\n",
        "        \"name\" : \"Adam\",\n",
        "        \"other_kwargs\" :{}, # 빈값이면 기본이 들어감\n",
        "    },\n",
        "    \"lr_scheduler\":{\n",
        "        \"name\" : \"LinearWarmupLRSchedule\",\n",
        "        \"kwargs\" : {\n",
        "            \"lr_peak\" : 1e-3,\n",
        "            \"warmup_end_steps\" : 1500,\n",
        "        }\n",
        "    }\n",
        "}\n",
        "\n",
        "radam_no_lr_sch_opt_cfg  ={ # Radam은 굳이 스케줄러 필요 없음\n",
        "    \"optimizer\" :{\n",
        "        \"name\" : \"RectifiedAdam\",\n",
        "        \"learning_rate\" : 1e-3,\n",
        "        \"other_kwargs\" :{}, # 빈값이면 기본이 들어감\n",
        "    },\n",
        "    \"lr_scheduler\": None\n",
        "}\n",
        "\n",
        "# train configs\n",
        "\n",
        "train_cfg : dict ={\n",
        "    \"train_batch_size\" : 128,\n",
        "    \"val_batch_size\" : 32,\n",
        "    \"test_batch_size\" : 32,\n",
        "    \"max_epochs\" : 50,\n",
        "    \"distribute_strategy\" : \"MirroredStrategy\",\n",
        "    \"teacher_forcing_ratio\" : 0.5,\n",
        "}\n",
        "\n",
        "_merged_cfg_presets ={\n",
        "\n",
        "    \"rnn_translate_spa_eng_radam\" :{\n",
        "        \"data\" : data_anki_spa_eng_cfg,\n",
        "        \"model\" : model_translate_rnn_seq2seq_cfg,\n",
        "        \"opt\" : radam_no_lr_sch_opt_cfg,\n",
        "        \"train\" : train_cfg,\n",
        "\n",
        "    }\n",
        "}\n",
        "\n",
        "### hydra composition ###\n",
        "# clear hydra instance.\n",
        "hydra.core.global_hydra.GlobalHydra.instance().clear()\n",
        "\n",
        "# resister preset cfgs\n",
        "register_config(_merged_cfg_presets)\n",
        "\n",
        "# initializing\n",
        "hydra.initialize(config_path =None)\n",
        "\n",
        "using_config_key = \"rnn_translate_spa_eng_radam\"\n",
        "cfg = hydra.compose(using_config_key)\n",
        "\n",
        "# define & override log_cfg\n",
        "model_name = cfg.model.name\n",
        "run_dirname ='dnn-tutorial-spa-eng-translate-runs-tf'\n",
        "run_name = f'{datetime.now().isoformat(timespec=\"seconds\")} -{using_config_key}-{model_name}'\n",
        "log_dir = os.path.join(drive_project_root, 'runs', run_dirname, run_name)\n",
        "\n",
        "\n",
        "\n",
        "\n",
        "log_cfg ={\n",
        "    \"run_name\" : run_name,\n",
        "    \"checkpoint_filepath\" : os.path.join(log_dir , \"model\"),\n",
        "    \"tensorboard_log_dir\" : log_dir ,\n",
        "    \"callbacks\" : {\n",
        "        \"TensorBoard\" :{\n",
        "          \"log_dir\" :log_dir,\n",
        "          \"update_freq\" :50,\n",
        "        },\n",
        "        \"EarlyStopping\" : {\n",
        "          \"patience\" : 30,\n",
        "          \"verbose\" : True,\n",
        "        },\n",
        "    },\n",
        "    \"wandb\" : {\n",
        "        \"project\" : \"dnn-tutorial-spa-eng-translate-runs-tf\",\n",
        "        \"name\" : run_name,\n",
        "        \"tags\" : [\"dnn-tutorial-spa-eng-translate-runs-tf\"],\n",
        "        \"reinit\" : True,\n",
        "        \"sync_tensorboard\" : True\n",
        "    },\n",
        "\n",
        "}\n",
        "\n",
        "# unlock struct of config & set log config\n",
        "OmegaConf.set_struct(cfg, False)\n",
        "cfg.log =log_cfg\n",
        "\n",
        "# relock config\n",
        "OmegaConf.set_struct(cfg, True)\n",
        "print(OmegaConf.to_yaml(cfg))\n",
        "\n",
        "# save yaml\n",
        "# with open(os.path.join(log_dir, \"config.yaml\")) as f :\n",
        "with  open(\"config.yaml\", \"w\") as f :\n",
        "  OmegaConf.save(cfg, f)"
      ],
      "metadata": {
        "colab": {
          "base_uri": "https://localhost:8080/"
        },
        "id": "etsUYWWfdXUa",
        "outputId": "7a75386c-895d-42eb-9954-19fe6a5ee50b"
      },
      "execution_count": 32,
      "outputs": [
        {
          "output_type": "stream",
          "name": "stdout",
          "text": [
            "data:\n",
            "  name: anki_spa_eng_cfg\n",
            "  src:\n",
            "    vocab_size: 9414\n",
            "    max_len: 16\n",
            "  tar:\n",
            "    vocab_size: 4935\n",
            "    max_len: 11\n",
            "  train_val_test_split_ratio:\n",
            "  - 0.8\n",
            "  - 0.1\n",
            "  - 0.1\n",
            "  train_val_shuffle: true\n",
            "model:\n",
            "  name: RNNSeq2Seq\n",
            "  enc:\n",
            "    embed_size: 256\n",
            "    rnn:\n",
            "      units: 1024\n",
            "  dec:\n",
            "    embed_size: 256\n",
            "    rnn:\n",
            "      units: 1024\n",
            "opt:\n",
            "  optimizer:\n",
            "    name: RectifiedAdam\n",
            "    learning_rate: 0.001\n",
            "    other_kwargs: {}\n",
            "  lr_scheduler: null\n",
            "train:\n",
            "  train_batch_size: 128\n",
            "  val_batch_size: 32\n",
            "  test_batch_size: 32\n",
            "  max_epochs: 50\n",
            "  distribute_strategy: MirroredStrategy\n",
            "  teacher_forcing_ratio: 0.5\n",
            "log:\n",
            "  run_name: 2023-07-16T10:46:21 -rnn_translate_spa_eng_radam-RNNSeq2Seq\n",
            "  checkpoint_filepath: /content/drive/MyDrive/#fastcampus/runs/dnn-tutorial-spa-eng-translate-runs-tf/2023-07-16T10:46:21\n",
            "    -rnn_translate_spa_eng_radam-RNNSeq2Seq/model\n",
            "  tensorboard_log_dir: /content/drive/MyDrive/#fastcampus/runs/dnn-tutorial-spa-eng-translate-runs-tf/2023-07-16T10:46:21\n",
            "    -rnn_translate_spa_eng_radam-RNNSeq2Seq\n",
            "  callbacks:\n",
            "    TensorBoard:\n",
            "      log_dir: /content/drive/MyDrive/#fastcampus/runs/dnn-tutorial-spa-eng-translate-runs-tf/2023-07-16T10:46:21\n",
            "        -rnn_translate_spa_eng_radam-RNNSeq2Seq\n",
            "      update_freq: 50\n",
            "    EarlyStopping:\n",
            "      patience: 30\n",
            "      verbose: true\n",
            "  wandb:\n",
            "    project: dnn-tutorial-spa-eng-translate-runs-tf\n",
            "    name: 2023-07-16T10:46:21 -rnn_translate_spa_eng_radam-RNNSeq2Seq\n",
            "    tags:\n",
            "    - dnn-tutorial-spa-eng-translate-runs-tf\n",
            "    reinit: true\n",
            "    sync_tensorboard: true\n",
            "\n"
          ]
        }
      ]
    },
    {
      "cell_type": "code",
      "source": [
        "def get_distribute_strategy(strategy_name : str, **kwargs):\n",
        "  return getattr(tf.distribute, strategy_name)(**kwargs)\n",
        "\n",
        "distribute_strategy = get_distribute_strategy(cfg.train.distribute_strategy)"
      ],
      "metadata": {
        "id": "yXcInY6kxYL5"
      },
      "execution_count": 33,
      "outputs": []
    },
    {
      "cell_type": "markdown",
      "source": [
        "# dataloader"
      ],
      "metadata": {
        "id": "1K3IzvJ9Md_m"
      }
    },
    {
      "cell_type": "code",
      "source": [
        "# data batchify 및 train/val/test split\n",
        "dataset = tf.data.Dataset.from_tensor_slices((src_tensor, tar_tensor))\n",
        "total_n = len(src_tensor)\n",
        "\n",
        "print(cfg.data.train_val_test_split_ratio)\n",
        "train_size = int(total_n * cfg.data.train_val_test_split_ratio[0])\n",
        "val_size = int(total_n * cfg.data.train_val_test_split_ratio[1])\n",
        "test_size = total_n - (train_size + val_size)\n",
        "\n",
        "# split (train, val) (test) dataset\n",
        "test_dataset = dataset.skip(train_size + val_size)\n",
        "train_val_dataset = dataset.take(train_size + val_size)\n",
        "\n",
        "if cfg.data.train_val_shuffle:\n",
        "    train_val_dataset = train_val_dataset.shuffle(buffer_size = 1024)\n",
        "\n",
        "train_dataset= train_val_dataset.take(train_size)\n",
        "val_dataset = train_val_dataset.skip(train_size)\n",
        "\n",
        "train_n, val_n, test_n = len(train_dataset), len(val_dataset), len(test_dataset)\n",
        "print(train_n, val_n, test_n)\n",
        "assert train_n + val_n + test_n == total_n\n",
        "\n",
        "# batchfy (dataloader)\n",
        "train_batch_size = cfg.train.train_batch_size\n",
        "val_batch_size = cfg.train.val_batch_size\n",
        "test_batch_size = cfg.train.test_batch_size\n",
        "\n",
        "train_dataloader = train_dataset.batch(train_batch_size, drop_remainder=True)\n",
        "val_dataloader = val_dataset.batch(val_batch_size, drop_remainder=True)\n",
        "test_dataloader = test_dataset.batch(test_batch_size, drop_remainder=True)"
      ],
      "metadata": {
        "colab": {
          "base_uri": "https://localhost:8080/"
        },
        "id": "zEsQoSyaC_Th",
        "outputId": "2cfcf5ec-993f-429a-ed15-df05bb9d0623"
      },
      "execution_count": 34,
      "outputs": [
        {
          "output_type": "stream",
          "name": "stdout",
          "text": [
            "[0.8, 0.1, 0.1]\n",
            "24000 3000 3000\n"
          ]
        }
      ]
    },
    {
      "cell_type": "code",
      "source": [
        "# 모델정의\n",
        "def get_seq2seq_model(cfg : DictConfig):\n",
        "  if cfg.model.name == \"RNNSeq2Seq\" :\n",
        "    encoder = GRUEncoder(cfg)\n",
        "    decoder = GRUDecoder(cfg)\n",
        "    return encoder, decoder\n",
        "  else:\n",
        "    raise NotImplementedError()\n"
      ],
      "metadata": {
        "id": "x_fG-SbH48Fv"
      },
      "execution_count": 35,
      "outputs": []
    },
    {
      "cell_type": "code",
      "source": [
        "# loss 정의\n",
        "\n",
        "def loss_function(\n",
        "    real,\n",
        "    pred,\n",
        "    loss_object =tf.keras.losses.SparseCategoricalCrossentropy(\n",
        "    from_logits = True, reduction = 'none')\n",
        "    ) :\n",
        "    # delete [pad] loss part with masks\n",
        "    mask = tf.math.logical_not(\n",
        "        tf.math.equal(real, 0)\n",
        "    )\n",
        "    _loss = loss_object(real, pred)\n",
        "\n",
        "    mask = tf.cast(mask, dtype = _loss.dtype)\n",
        "    _loss *= mask\n",
        "\n",
        "    return tf.reduce_mean(_loss)"
      ],
      "metadata": {
        "id": "e5p586k_OrF1"
      },
      "execution_count": 36,
      "outputs": []
    },
    {
      "cell_type": "code",
      "source": [
        "# get model\n",
        "encoder, decoder = get_seq2seq_model(cfg)\n",
        "\n",
        "# get optimizer\n",
        "optimizer, scheduler = get_optimizer_element(\n",
        "    cfg.opt.optimizer, cfg.opt.lr_scheduler\n",
        ")\n",
        "\n",
        "# checkpoints\n",
        "checkpoint_prefix = cfg.log.checkpoint_filepath\n",
        "checkpoint = tf.train.Checkpoint(\n",
        "    optimizer = optimizer,\n",
        "    encoder = encoder,\n",
        "    decoder = decoder,\n",
        ")"
      ],
      "metadata": {
        "id": "Pmj0D5uBSlch"
      },
      "execution_count": 37,
      "outputs": []
    },
    {
      "cell_type": "code",
      "source": [
        "# get callbacks\n",
        "callbacks = get_callbacks(cfg.log)\n",
        "\n",
        "# wandb setup\n",
        "wandb.init(\n",
        "    config = flatten_dict(cfg),\n",
        "    **cfg.log.wandb\n",
        ")"
      ],
      "metadata": {
        "id": "vmswTHG1lIEJ",
        "colab": {
          "base_uri": "https://localhost:8080/",
          "height": 247
        },
        "outputId": "acaa1e9d-b807-41a5-b1e8-cd25f0231c28"
      },
      "execution_count": null,
      "outputs": [
        {
          "output_type": "display_data",
          "data": {
            "text/plain": [
              "<IPython.core.display.HTML object>"
            ],
            "text/html": [
              "Finishing last run (ID:kc82i17f) before initializing another..."
            ]
          },
          "metadata": {}
        },
        {
          "output_type": "display_data",
          "data": {
            "text/plain": [
              "<IPython.core.display.HTML object>"
            ],
            "text/html": [
              "Waiting for W&B process to finish... <strong style=\"color:green\">(success).</strong>"
            ]
          },
          "metadata": {}
        },
        {
          "output_type": "display_data",
          "data": {
            "text/plain": [
              "<IPython.core.display.HTML object>"
            ],
            "text/html": [
              " View run <strong style=\"color:#cdcd00\">2023-07-09T13:21:06 -cnn_fashion_mnist_radam-CNN</strong> at: <a href='https://wandb.ai/hyejun12123/fastcampus_fashion_mnist_tutorials_tf/runs/kc82i17f' target=\"_blank\">https://wandb.ai/hyejun12123/fastcampus_fashion_mnist_tutorials_tf/runs/kc82i17f</a><br/>Synced 4 W&B file(s), 0 media file(s), 0 artifact file(s) and 0 other file(s)"
            ]
          },
          "metadata": {}
        },
        {
          "output_type": "display_data",
          "data": {
            "text/plain": [
              "<IPython.core.display.HTML object>"
            ],
            "text/html": [
              "Find logs at: <code>./wandb/run-20230709_133610-kc82i17f/logs</code>"
            ]
          },
          "metadata": {}
        },
        {
          "output_type": "display_data",
          "data": {
            "text/plain": [
              "<IPython.core.display.HTML object>"
            ],
            "text/html": [
              "Successfully finished last run (ID:kc82i17f). Initializing new run:<br/>"
            ]
          },
          "metadata": {}
        },
        {
          "output_type": "display_data",
          "data": {
            "text/plain": [
              "<IPython.core.display.HTML object>"
            ],
            "text/html": [
              "Tracking run with wandb version 0.15.5"
            ]
          },
          "metadata": {}
        },
        {
          "output_type": "display_data",
          "data": {
            "text/plain": [
              "<IPython.core.display.HTML object>"
            ],
            "text/html": [
              "Run data is saved locally in <code>/content/drive/MyDrive/#fastcampus/wandb/run-20230709_133706-ekq7215f</code>"
            ]
          },
          "metadata": {}
        },
        {
          "output_type": "display_data",
          "data": {
            "text/plain": [
              "<IPython.core.display.HTML object>"
            ],
            "text/html": [
              "Syncing run <strong><a href='https://wandb.ai/hyejun12123/fastcampus_fashion_mnist_tutorials_tf/runs/ekq7215f' target=\"_blank\">2023-07-09T13:21:06 -cnn_fashion_mnist_radam-CNN</a></strong> to <a href='https://wandb.ai/hyejun12123/fastcampus_fashion_mnist_tutorials_tf' target=\"_blank\">Weights & Biases</a> (<a href='https://wandb.me/run' target=\"_blank\">docs</a>)<br/>"
            ]
          },
          "metadata": {}
        },
        {
          "output_type": "display_data",
          "data": {
            "text/plain": [
              "<IPython.core.display.HTML object>"
            ],
            "text/html": [
              " View project at <a href='https://wandb.ai/hyejun12123/fastcampus_fashion_mnist_tutorials_tf' target=\"_blank\">https://wandb.ai/hyejun12123/fastcampus_fashion_mnist_tutorials_tf</a>"
            ]
          },
          "metadata": {}
        },
        {
          "output_type": "display_data",
          "data": {
            "text/plain": [
              "<IPython.core.display.HTML object>"
            ],
            "text/html": [
              " View run at <a href='https://wandb.ai/hyejun12123/fastcampus_fashion_mnist_tutorials_tf/runs/ekq7215f' target=\"_blank\">https://wandb.ai/hyejun12123/fastcampus_fashion_mnist_tutorials_tf/runs/ekq7215f</a>"
            ]
          },
          "metadata": {}
        },
        {
          "output_type": "execute_result",
          "data": {
            "text/html": [
              "<button onClick=\"this.nextSibling.style.display='block';this.style.display='none';\">Display W&B run</button><iframe src='https://wandb.ai/hyejun12123/fastcampus_fashion_mnist_tutorials_tf/runs/ekq7215f?jupyter=true' style='border:none;width:100%;height:420px;display:none;'></iframe>"
            ],
            "text/plain": [
              "<wandb.sdk.wandb_run.Run at 0x7fe3b54dfaf0>"
            ]
          },
          "metadata": {},
          "execution_count": 35
        }
      ]
    },
    {
      "cell_type": "code",
      "source": [
        "%load_ext tensorboard\n",
        "%tensorboard --logdir /content/drive/MyDrive/\\#fastcampus/runs/\n",
        "model.fit(\n",
        "    train_dataloader,\n",
        "    validation_data = val_dataloader,\n",
        "    epochs = cfg.train.max_epochs,\n",
        "    callbacks =callbacks,\n",
        ")\n"
      ],
      "metadata": {
        "colab": {
          "base_uri": "https://localhost:8080/",
          "height": 35
        },
        "id": "GqtkrBBwrE_9",
        "outputId": "53dbe873-3ce2-4661-f600-39db55ed9391"
      },
      "execution_count": null,
      "outputs": [
        {
          "output_type": "display_data",
          "data": {
            "text/plain": [
              "Launching TensorBoard..."
            ]
          },
          "metadata": {}
        }
      ]
    },
    {
      "cell_type": "markdown",
      "source": [
        "## Model testing"
      ],
      "metadata": {
        "id": "Q5evIgyt0f2k"
      }
    },
    {
      "cell_type": "code",
      "source": [
        "model.evaluate(test_dataloader)"
      ],
      "metadata": {
        "colab": {
          "base_uri": "https://localhost:8080/"
        },
        "id": "rpZZgzrd0bqY",
        "outputId": "a512b564-6dfa-4fbf-fc62-b4d54314ef5f"
      },
      "execution_count": null,
      "outputs": [
        {
          "output_type": "stream",
          "name": "stdout",
          "text": [
            "100/100 [==============================] - 1s 5ms/step - loss: 0.3435 - accuracy: 0.8992\n"
          ]
        },
        {
          "output_type": "execute_result",
          "data": {
            "text/plain": [
              "[0.34348130226135254, 0.8992000222206116]"
            ]
          },
          "metadata": {},
          "execution_count": 34
        }
      ]
    },
    {
      "cell_type": "code",
      "source": [
        "test_labels_list =[]\n",
        "test_preds_list =[]\n",
        "test_outputs_list =[]\n",
        "\n",
        "for i, (test_images, test_labels) in enumerate(tqdm(test_dataloader, position =0, leave =True, desc='testing')):\n",
        "  with mirrored_strategy.scope():\n",
        "    test_outputs = model(test_images)\n",
        "  test_preds = tf.argmax(test_outputs, 1)\n",
        "\n",
        "  final_outs = test_outputs.numpy()\n",
        "  test_outputs_list.extend(final_outs)\n",
        "  test_preds_list.extend(test_preds.numpy())\n",
        "  test_labels_list.extend(test_labels.numpy())\n",
        "\n",
        "test_preds_list =np.array(test_preds_list)\n",
        "test_labels_list = np.array(test_labels_list)\n",
        "\n",
        "test_accuracy =np.mean(test_preds_list == test_labels_list)\n",
        "print(f'\\nacc: {test_accuracy*100}%')"
      ],
      "metadata": {
        "colab": {
          "base_uri": "https://localhost:8080/"
        },
        "id": "LCLRmpER02nL",
        "outputId": "c5871470-3a64-48a8-b3ad-0ea1ca1b1fe6"
      },
      "execution_count": null,
      "outputs": [
        {
          "output_type": "stream",
          "name": "stderr",
          "text": [
            "testing: 100%|██████████| 100/100 [00:01<00:00, 54.22it/s]"
          ]
        },
        {
          "output_type": "stream",
          "name": "stdout",
          "text": [
            "\n",
            "acc: 89.92%\n"
          ]
        },
        {
          "output_type": "stream",
          "name": "stderr",
          "text": [
            "\n"
          ]
        }
      ]
    },
    {
      "cell_type": "code",
      "source": [
        "# ROC Curve\n",
        "from sklearn.metrics import roc_curve\n",
        "from sklearn.metrics import roc_auc_score\n",
        "\n",
        "fpr ={}\n",
        "tpr ={}\n",
        "thresh = {}\n",
        "n_class =10\n",
        "\n",
        "for i in range(n_class):\n",
        "  fpr[i], tpr[i], thresh[i] =roc_curve(test_labels_list, np.array(test_outputs_list)[:,i], pos_label =i) #class별로 따로따로\n",
        "\n",
        "#plot\n",
        "for i in range(n_class):\n",
        "  plt.plot(fpr[i], tpr[i], linestyle ='--', label=f'Class {i} vs Rest')\n",
        "plt.title('Multi-class ROC Curve')\n",
        "plt.xlabel('False Positive Rate')\n",
        "plt.ylabel('True Positive Rare')\n",
        "plt.legend(loc ='best')\n",
        "plt.show()\n",
        "\n",
        "auc_score = roc_auc_score(test_labels_list, test_outputs_list, multi_class ='ovo', average ='macro')\n",
        "print(f'auc_score : {auc_score}')"
      ],
      "metadata": {
        "colab": {
          "base_uri": "https://localhost:8080/",
          "height": 490
        },
        "id": "6ctg92qx_ReR",
        "outputId": "163e57b0-1027-4313-8d2a-e902e9315460"
      },
      "execution_count": null,
      "outputs": [
        {
          "output_type": "display_data",
          "data": {
            "text/plain": [
              "<Figure size 640x480 with 1 Axes>"
            ],
            "image/png": "[encoded data removed]"
          },
          "metadata": {}
        },
        {
          "output_type": "stream",
          "name": "stdout",
          "text": [
            "auc_score : 0.9931041944444445\n"
          ]
        }
      ]
    },
    {
      "cell_type": "code",
      "source": [],
      "metadata": {
        "id": "vELvwLeaFyie"
      },
      "execution_count": null,
      "outputs": []
    }
  ]
}