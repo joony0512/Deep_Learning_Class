{
  "nbformat": 4,
  "nbformat_minor": 0,
  "metadata": {
    "colab": {
      "provenance": [],
      "gpuType": "T4",
      "authorship_tag": "ABX9TyODqix5gt8ui4rDvGdgn7V1",
      "include_colab_link": true
    },
    "kernelspec": {
      "name": "python3",
      "display_name": "Python 3"
    },
    "language_info": {
      "name": "python"
    },
    "accelerator": "GPU"
  },
  "cells": [
    {
      "cell_type": "markdown",
      "metadata": {
        "id": "view-in-github",
        "colab_type": "text"
      },
      "source": [
        "<a href=\"https://colab.research.google.com/github/joony0512/Deep_Learning_Class/blob/main/Part5/P5_Ch05_CH05_09_TF.ipynb\" target=\"_parent\"><img src=\"https://colab.research.google.com/assets/colab-badge.svg\" alt=\"Open In Colab\"/></a>"
      ]
    },
    {
      "cell_type": "markdown",
      "source": [
        "# Fashion_Mnist Configuration Management - Hydra - Tensorflow"
      ],
      "metadata": {
        "id": "PFodRp3iJIYX"
      }
    },
    {
      "cell_type": "code",
      "execution_count": 1,
      "metadata": {
        "colab": {
          "base_uri": "https://localhost:8080/"
        },
        "id": "Ta0CZFf49B_g",
        "outputId": "2be8699c-d13a-4135-ecc6-de87a1f9810d"
      },
      "outputs": [
        {
          "output_type": "stream",
          "name": "stdout",
          "text": [
            "Mounted at /content/drive\n"
          ]
        }
      ],
      "source": [
        "from google.colab import drive\n",
        "drive.mount('/content/drive')"
      ]
    },
    {
      "cell_type": "code",
      "source": [
        "%cd /content/drive/MyDrive/#fastcampus\n",
        "!pwd\n",
        "\n",
        "!ls"
      ],
      "metadata": {
        "id": "9sMzDNNgwB5A",
        "colab": {
          "base_uri": "https://localhost:8080/"
        },
        "outputId": "25280387-ef2a-4535-eeaf-662fc295b46a"
      },
      "execution_count": 2,
      "outputs": [
        {
          "output_type": "stream",
          "name": "stdout",
          "text": [
            "/content/drive/MyDrive/#fastcampus\n",
            "/content/drive/MyDrive/#fastcampus\n",
            " config_utils.py      __init__.py\t runs\n",
            " config_utils_tf.py   logs\t\t'runs(torch)'\n",
            " custom_math.py       models\t\t wandb\n",
            " data\t\t      __pycache__\t'[강의자료]-노트북-ipynb-파일'\n",
            " data_utils.py\t      requirements.txt\n"
          ]
        }
      ]
    },
    {
      "cell_type": "code",
      "source": [
        "import os\n",
        "import sys\n",
        "sys.path.append('/content/drive/MyDrive/#fastcampus')\n",
        "drive_project_root = '/content/drive/MyDrive/#fastcampus'\n",
        "!pip install -r '/content/drive/MyDrive/#fastcampus/requirements.txt'"
      ],
      "metadata": {
        "id": "XfB2PJAF9Vay"
      },
      "execution_count": null,
      "outputs": []
    },
    {
      "cell_type": "code",
      "source": [
        "!pip install tensorflow-addons\n",
        "!pip install wandb\n",
        "!pip install omegaconf\n",
        "!pip install hydra-core==1.1\n"
      ],
      "metadata": {
        "id": "q66nwbt-8TWL"
      },
      "execution_count": null,
      "outputs": []
    },
    {
      "cell_type": "code",
      "source": [
        "from datetime import datetime\n",
        "import numpy as np\n",
        "from tqdm import tqdm\n",
        "import matplotlib.pyplot as plt\n",
        "from omegaconf import OmegaConf\n",
        "from omegaconf import DictConfig\n",
        "import hydra\n",
        "from hydra.core.config_store import ConfigStore\n",
        "\n",
        "import tensorflow as tf\n",
        "import tensorflow_addons as tfa\n",
        "\n",
        "import wandb\n"
      ],
      "metadata": {
        "id": "1aXyOYQ99hGj"
      },
      "execution_count": 8,
      "outputs": []
    },
    {
      "cell_type": "code",
      "source": [
        "from data_utils import dataset_split\n",
        "from config_utils_tf import flatten_dict\n",
        "from config_utils_tf import register_config\n",
        "from config_utils_tf import get_optimizer_element\n",
        "from config_utils_tf import get_callbacks"
      ],
      "metadata": {
        "id": "xD6siBMUV9pI"
      },
      "execution_count": 9,
      "outputs": []
    },
    {
      "cell_type": "code",
      "source": [
        "tf.config.list_physical_devices()"
      ],
      "metadata": {
        "colab": {
          "base_uri": "https://localhost:8080/"
        },
        "id": "wINzoU44BXof",
        "outputId": "0432d53a-c428-4a3a-a21e-541bd7162d3a"
      },
      "execution_count": 10,
      "outputs": [
        {
          "output_type": "execute_result",
          "data": {
            "text/plain": [
              "[PhysicalDevice(name='/physical_device:CPU:0', device_type='CPU'),\n",
              " PhysicalDevice(name='/physical_device:GPU:0', device_type='GPU')]"
            ]
          },
          "metadata": {},
          "execution_count": 10
        }
      ]
    },
    {
      "cell_type": "code",
      "source": [
        "!nvidia-smi"
      ],
      "metadata": {
        "colab": {
          "base_uri": "https://localhost:8080/"
        },
        "id": "t4O2LmSKBgJR",
        "outputId": "b136b824-8e2f-4d6e-9ae7-aeebc202b5ca"
      },
      "execution_count": null,
      "outputs": [
        {
          "output_type": "stream",
          "name": "stdout",
          "text": [
            "Wed Jul  5 10:18:48 2023       \n",
            "+-----------------------------------------------------------------------------+\n",
            "| NVIDIA-SMI 525.85.12    Driver Version: 525.85.12    CUDA Version: 12.0     |\n",
            "|-------------------------------+----------------------+----------------------+\n",
            "| GPU  Name        Persistence-M| Bus-Id        Disp.A | Volatile Uncorr. ECC |\n",
            "| Fan  Temp  Perf  Pwr:Usage/Cap|         Memory-Usage | GPU-Util  Compute M. |\n",
            "|                               |                      |               MIG M. |\n",
            "|===============================+======================+======================|\n",
            "|   0  Tesla T4            Off  | 00000000:00:04.0 Off |                    0 |\n",
            "| N/A   41C    P8    12W /  70W |      3MiB / 15360MiB |      0%      Default |\n",
            "|                               |                      |                  N/A |\n",
            "+-------------------------------+----------------------+----------------------+\n",
            "                                                                               \n",
            "+-----------------------------------------------------------------------------+\n",
            "| Processes:                                                                  |\n",
            "|  GPU   GI   CI        PID   Type   Process name                  GPU Memory |\n",
            "|        ID   ID                                                   Usage      |\n",
            "|=============================================================================|\n",
            "|  No running processes found                                                 |\n",
            "+-----------------------------------------------------------------------------+\n"
          ]
        }
      ]
    },
    {
      "cell_type": "markdown",
      "source": [
        "## 데이터 및 데이터로더 정의"
      ],
      "metadata": {
        "id": "VQIeiio4FCzF"
      }
    },
    {
      "cell_type": "markdown",
      "source": [
        "## 모델정의\n"
      ],
      "metadata": {
        "id": "bj3mzbUIfLv4"
      }
    },
    {
      "cell_type": "code",
      "source": [
        "class MLP(tf.keras.Model):\n",
        "  def __init__(self, cfg : DictConfig):\n",
        "    super().__init__() # 클래스를 상속받았기 때문에 init해줘야한다\n",
        "    self.flatten = tf.keras.layers.Flatten()\n",
        "    self.linear1 = tf.keras.layers.Dense(input_dim = cfg.input_dim, units = cfg.h1_dim)\n",
        "    self.linear2 = tf.keras.layers.Dense(units = cfg.h2_dim)\n",
        "    self.linear3 = tf.keras.layers.Dense(units = cfg.output_dim)\n",
        "    self.relu = tf.nn.relu\n",
        "\n",
        "  def call(self, input, training = False):\n",
        "    x = self.flatten(input)\n",
        "    x = self.relu(self.linear1(x))\n",
        "    x = self.relu(self.linear2(x))\n",
        "    out = self.linear3(x)\n",
        "    out = tf.nn.softmax(out)\n",
        "    return out\n",
        "\n",
        "  def train_step(self, data):\n",
        "    images, labels = data\n",
        "\n",
        "    with tf.GradientTape() as tape:\n",
        "      outputs = self(images, training = True) #call method를 self로 불러서 사용할 수 있다\n",
        "      preds = tf.argmax(outputs, 1)\n",
        "\n",
        "      loss = self.compiled_loss(\n",
        "          labels, outputs\n",
        "      )\n",
        "    # compute gradients\n",
        "    trainable_vars = self.trainable_variables\n",
        "    gradients = tape.gradient(loss, trainable_vars)\n",
        "\n",
        "    # update weights\n",
        "    self.optimizer.apply_gradients(zip(gradients, trainable_vars))\n",
        "\n",
        "    # update the metrics\n",
        "    self.compiled_metrics.update_state(labels, preds)\n",
        "\n",
        "    # return a dict mapping metrics names to current values\n",
        "    logs = {m.name : m.result() for m in self.metrics}\n",
        "    return logs\n",
        "\n",
        "  def test_step(self, data):\n",
        "    images, labels = data\n",
        "    outputs = self(images, training = False)\n",
        "    preds = tf.argmax(outputs, 1)\n",
        "    loss = self.compiled_loss(\n",
        "        labels, outputs\n",
        "    )\n",
        "\n",
        "    # update the metrics\n",
        "    self.compiled_metrics.update_state(labels, preds)\n",
        "\n",
        "    # return a dict mapping metrics names to current values\n",
        "    logs = {m.name : m.result() for m in self.metrics}\n",
        "    return logs\n"
      ],
      "metadata": {
        "id": "v9rzC9GleyN_"
      },
      "execution_count": 14,
      "outputs": []
    },
    {
      "cell_type": "code",
      "source": [
        "class MLPWithDropout(tf.keras.Model): #drop out 은 layer에 관련되어있고 early stopping 은 train 에 관련되어있기때문에 early stopping은 callback에서 지정해준다.\n",
        "  def __init__(self, cfg : DictConfig):\n",
        "    super().__init__() # 클래스를 상속받았기 때문에 init해줘야한다\n",
        "    self.flatten = tf.keras.layers.Flatten()\n",
        "    self.linear1 = tf.keras.layers.Dense(input_dim = cfg.input_dim, units = cfg.h1_dim)\n",
        "    self.linear2 = tf.keras.layers.Dense(units = cfg.h2_dim)\n",
        "    self.linear3 = tf.keras.layers.Dense(units = cfg.output_dim)\n",
        "    self.dropout = tf.keras.layers.Dropout(cfg.dropout_prob)\n",
        "    self.relu = tf.nn.relu\n",
        "\n",
        "  def call(self, input, training = False):\n",
        "    x = self.flatten(input)\n",
        "    x = self.relu(self.linear1(x))\n",
        "    x = self.dropout(x, training=training)\n",
        "    x = self.relu(self.linear2(x))\n",
        "    x = self.dropout(x, training=training)\n",
        "    out = self.linear3(x)\n",
        "    out = tf.nn.softmax(out)\n",
        "    return out\n",
        "\n",
        "  def train_step(self, data):\n",
        "    images, labels = data\n",
        "\n",
        "    with tf.GradientTape() as tape:\n",
        "      outputs = self(images, training = True) #call method를 self로 불러서 사용할 수 있다\n",
        "      preds = tf.argmax(outputs, 1)\n",
        "\n",
        "      loss = self.compiled_loss(\n",
        "          labels, outputs\n",
        "      )\n",
        "    # compute gradients\n",
        "    trainable_vars = self.trainable_variables\n",
        "    gradients = tape.gradient(loss, trainable_vars)\n",
        "\n",
        "    # update weights\n",
        "    self.optimizer.apply_gradients(zip(gradients, trainable_vars))\n",
        "\n",
        "    # update the metrics\n",
        "    self.compiled_metrics.update_state(labels, preds)\n",
        "\n",
        "    # return a dict mapping metrics names to current values\n",
        "    logs = {m.name : m.result() for m in self.metrics}\n",
        "    return logs\n",
        "\n",
        "  def test_step(self, data):\n",
        "    images, labels = data\n",
        "    outputs = self(images, training = False)\n",
        "    preds = tf.argmax(outputs, 1)\n",
        "    loss = self.compiled_loss(\n",
        "        labels, outputs\n",
        "    )\n",
        "\n",
        "    # update the metrics\n",
        "    self.compiled_metrics.update_state(labels, preds)\n",
        "\n",
        "    # return a dict mapping metrics names to current values\n",
        "    logs = {m.name : m.result() for m in self.metrics}\n",
        "    return logs\n"
      ],
      "metadata": {
        "id": "JXYlVYKH5Fqd"
      },
      "execution_count": 13,
      "outputs": []
    },
    {
      "cell_type": "code",
      "source": [
        "class ConvBatchNormMaxPool(tf.keras.layers.Layer):\n",
        "\n",
        "  def __init__(\n",
        "      self,\n",
        "      conv2d_filters,\n",
        "      conv2d_kernel_size,\n",
        "      conv2d_strides,\n",
        "      conv2d_padding,\n",
        "      maxpool2d_pool_size,\n",
        "      maxpool2d_strids,\n",
        "      maxpool2d_padding,\n",
        "\n",
        "  ):\n",
        "    super().__init__()\n",
        "    self.conv2d = tf.keras.layers.Conv2D(\n",
        "        filters = conv2d_filters,\n",
        "        kernel_size = conv2d_kernel_size,\n",
        "        strides = conv2d_strides,\n",
        "        padding =conv2d_padding,\n",
        "\n",
        "    )\n",
        "    self.batchnorm = tf.keras.layers.BatchNormalization()\n",
        "    self.maxpool2d = tf.keras.layers.MaxPool2D(\n",
        "        pool_size = maxpool2d_pool_size,\n",
        "        strides = maxpool2d_strids,\n",
        "        padding = maxpool2d_padding,\n",
        "    )\n",
        "\n",
        "\n",
        "  def call(self, input):\n",
        "    '''Conv2d --> batchNormalization -->Activation --> Maxpooling --> Dropout'''\n",
        "    x = self.conv2d(input)\n",
        "    x = self.batchnorm(x)\n",
        "    x = tf.keras.activations.relu(x)\n",
        "    out = self.maxpool2d(x)\n",
        "    return out\n",
        "\n",
        "\n",
        "class CNN(tf.keras.Model):\n",
        "  def __init__(\n",
        "    self, cfg : DictConfig\n",
        "  ):\n",
        "    super().__init__()\n",
        "    self.layer1 = ConvBatchNormMaxPool(\n",
        "        cfg.layer_1.conv2d_filters,\n",
        "        cfg.layer_1.conv2d_kernel_size,\n",
        "        cfg.layer_1.conv2d_strides,\n",
        "        cfg.layer_1.conv2d_padding,\n",
        "        cfg.layer_1.maxpool2d_pool_size,\n",
        "        cfg.layer_1.maxpool2d_strids,\n",
        "        cfg.layer_1.maxpool2d_padding,\n",
        "    )\n",
        "    self.layer2 = ConvBatchNormMaxPool(\n",
        "        cfg.layer_2.conv2d_filters,\n",
        "        cfg.layer_2.conv2d_kernel_size,\n",
        "        cfg.layer_2.conv2d_strides,\n",
        "        cfg.layer_2.conv2d_padding,\n",
        "        cfg.layer_2.maxpool2d_pool_size,\n",
        "        cfg.layer_2.maxpool2d_strids,\n",
        "        cfg.layer_2.maxpool2d_padding,\n",
        "    )\n",
        "\n",
        "    # 1. Global Pooling -> dense + 바로 softmax 적용\n",
        "    # 2. Flatten 하는 방법 --> Dense. <--이방법으로 진행\n",
        "    self.flatten = tf.keras.layers.Flatten()\n",
        "    self.fc1 = tf.keras.layers.Dense(cfg.fc_1.units)\n",
        "    self.fc2 = tf.keras.layers.Dense(cfg.fc_2.units)\n",
        "    self.fc3 = tf.keras.layers.Dense(cfg.fc_3.units)\n",
        "\n",
        "    self.dropout = tf.keras.layers.Dropout(cfg.dropout_prob)\n",
        "    pass\n",
        "\n",
        "  def call ( self, input, training = False):\n",
        "    input = tf.expand_dims(input, -1) # [B x 28 x 28 x 1]\n",
        "    x = self.layer1(input)\n",
        "    x = self.layer2(x)\n",
        "    x = self.flatten(x)\n",
        "    x = self.fc1(x)\n",
        "    x = self.dropout(x, training = training) # evaluation에서 정상작동\n",
        "    x = self.fc2(x)\n",
        "    out = self.fc3(x)\n",
        "    out  = tf.nn.softmax(out)\n",
        "    return out\n",
        "\n",
        "\n",
        "  def train_step(self, data):\n",
        "    images, labels = data\n",
        "\n",
        "    with tf.GradientTape() as tape:\n",
        "      # images =[B x 28 x 28]\n",
        "      outputs = self(images, training = True) #call method를 self로 불러서 사용할 수 있다\n",
        "      preds = tf.argmax(outputs, 1)\n",
        "\n",
        "      loss = self.compiled_loss(\n",
        "          labels, outputs\n",
        "      )\n",
        "    # compute gradients\n",
        "    trainable_vars = self.trainable_variables\n",
        "    gradients = tape.gradient(loss, trainable_vars)\n",
        "\n",
        "    # update weights\n",
        "    self.optimizer.apply_gradients(zip(gradients, trainable_vars))\n",
        "\n",
        "    # update the metrics\n",
        "    self.compiled_metrics.update_state(labels, preds)\n",
        "\n",
        "    # return a dict mapping metrics names to current values\n",
        "    logs = {m.name : m.result() for m in self.metrics}\n",
        "    return logs\n",
        "\n",
        "  def test_step(self, data):\n",
        "    images, labels = data\n",
        "    outputs = self(images, training = False)\n",
        "    preds = tf.argmax(outputs, 1)\n",
        "    loss = self.compiled_loss(\n",
        "        labels, outputs\n",
        "    )\n",
        "\n",
        "    # update the metrics\n",
        "    self.compiled_metrics.update_state(labels, preds)\n",
        "\n",
        "    # return a dict mapping metrics names to current values\n",
        "    logs = {m.name : m.result() for m in self.metrics}\n",
        "    return logs\n"
      ],
      "metadata": {
        "id": "E3LLMbMvrcdZ"
      },
      "execution_count": 15,
      "outputs": []
    },
    {
      "cell_type": "code",
      "source": [
        "class EfficientNetFinetune(tf.keras.Model):\n",
        "  def __init__(\n",
        "    self, cfg : DictConfig\n",
        "  ):\n",
        "    super().__init__()\n",
        "    self.efficientnet = getattr(\n",
        "        tf.keras.applications.efficientnet,\n",
        "        cfg.efficient_net_model_name\n",
        "    )(**cfg.kwargs)\n",
        "\n",
        "    self.efficientnet.trainable = cfg.efficient_net_weight_trainable\n",
        "\n",
        "    self.resize = tf.keras.layers.Resizing(224,224) # imagenet과 size맞춤. 어떤 input이 들어올지 몰라서\n",
        "    self.avgpool = tf.keras.layers.GlobalAveragePooling2D(name = 'avg_pool')\n",
        "    self.out_dense = tf.keras.layers.Dense(units = cfg.classes)\n",
        "\n",
        "\n",
        "  def call ( self, input, training = False):\n",
        "    input = tf.expand_dims(input, -1) # [B ,28, 28, 1]\n",
        "    x = self.resize(input) # [B, 224, 224, 1]\n",
        "    x = tf.stack([x,x,x], axis = -2) # [B, 224, 224, 1]\n",
        "    x = self.efficientnet(x, training = training)\n",
        "\n",
        "    # bulid top\n",
        "    x = self.avgpool(x)\n",
        "    out = self.out_dense(x)\n",
        "    out = tf.nn.softmax(out)\n",
        "\n",
        "    return out\n",
        "\n",
        "\n",
        "  def train_step(self, data):\n",
        "    images, labels = data\n",
        "\n",
        "    with tf.GradientTape() as tape:\n",
        "      # images =[B x 28 x 28]\n",
        "      outputs = self(images, training = True) #call method를 self로 불러서 사용할 수 있다\n",
        "      preds = tf.argmax(outputs, 1)\n",
        "\n",
        "      loss = self.compiled_loss(\n",
        "          labels, outputs\n",
        "      )\n",
        "    # compute gradients\n",
        "    trainable_vars = self.trainable_variables\n",
        "    gradients = tape.gradient(loss, trainable_vars)\n",
        "\n",
        "    # update weights\n",
        "    self.optimizer.apply_gradients(zip(gradients, trainable_vars))\n",
        "\n",
        "    # update the metrics\n",
        "    self.compiled_metrics.update_state(labels, preds)\n",
        "\n",
        "    # return a dict mapping metrics names to current values\n",
        "    logs = {m.name : m.result() for m in self.metrics}\n",
        "    return logs\n",
        "\n",
        "  def test_step(self, data):\n",
        "    images, labels = data\n",
        "    outputs = self(images, training = False)\n",
        "    preds = tf.argmax(outputs, 1)\n",
        "    loss = self.compiled_loss(\n",
        "        labels, outputs\n",
        "    )\n",
        "\n",
        "    # update the metrics\n",
        "    self.compiled_metrics.update_state(labels, preds)\n",
        "\n",
        "    # return a dict mapping metrics names to current values\n",
        "    logs = {m.name : m.result() for m in self.metrics}\n",
        "    return logs\n"
      ],
      "metadata": {
        "id": "hacy3U-XlQeu"
      },
      "execution_count": 16,
      "outputs": []
    },
    {
      "cell_type": "markdown",
      "source": [
        "## configuration 정의"
      ],
      "metadata": {
        "id": "s-g63l5GdYkk"
      }
    },
    {
      "cell_type": "code",
      "source": [
        "# data configuration\n",
        "data_fashion_mnist_cfg : dict ={\n",
        "    \"n_class_\": 10,\n",
        "    \"train_val_split\" : [0.9,0.1],\n",
        "    \"train_val_shuffle\" : True,\n",
        "    \"train_val_shuffle_buffer_size\" : 1024,\n",
        "    \"test_shuffle\" : False,\n",
        "    \"test_shuffle_buffer_size\" : 1024,\n",
        "\n",
        "}\n",
        "\n",
        "# model configuration\n",
        "\n",
        "model_mnist_mlp_cfg : dict ={\n",
        "    'name' : 'MLP',\n",
        "    'data_normalize': True, #모델별로 달라서 모델안에 지정\n",
        "    'input_dim' : 28*28*1,\n",
        "    'h1_dim' : 128,\n",
        "    'h2_dim' : 64,\n",
        "    'output_dim' : 10,\n",
        "\n",
        "}\n",
        "\n",
        "model_mnist_mlp_with_dropout_cfg : dict ={\n",
        "    'name' : 'MLPWithDropout',\n",
        "    'data_normalize': True, #모델별로 달라서 모델안에 지정\n",
        "    'input_dim': 28*28*1,\n",
        "    'h1_dim': 128,\n",
        "    'h2_dim' : 64,\n",
        "    'output_dim' : 10,\n",
        "    'dropout_prob' : 0.3,\n",
        "}\n",
        "\n",
        "model_mnist_cnn_cfg : dict ={\n",
        "    \"name\" : \"CNN\",\n",
        "    \"data_normalize\": True, #모델별로 달라서 모델안에 지정\n",
        "    'layer_1' : {\n",
        "      \"conv2d_filters\" : 32, #output filter\n",
        "      \"conv2d_kernel_size\" :[3,3],\n",
        "      \"conv2d_strides\":[1,1],\n",
        "      \"conv2d_padding\": 'same',\n",
        "      \"maxpool2d_pool_size\": [2,2],\n",
        "      \"maxpool2d_strids\":[2,2],\n",
        "      \"maxpool2d_padding\":'valid'\n",
        "    },\n",
        "    'layer_2' : {\n",
        "      \"conv2d_filters\" : 64, #output filter\n",
        "      \"conv2d_kernel_size\" :[3,3],\n",
        "      \"conv2d_strides\":[1,1],\n",
        "      \"conv2d_padding\": 'valid',\n",
        "      \"maxpool2d_pool_size\": [2,2],\n",
        "      \"maxpool2d_strids\":[1,1],\n",
        "      \"maxpool2d_padding\":'valid'\n",
        "    },\n",
        "    \"fc_1\" : {'units': 512},\n",
        "    \"fc_2\" : {'units': 128},\n",
        "    \"fc_3\" : {'units': 10},\n",
        "    \"dropout_prob\": 0.25,\n",
        "}\n",
        "\n",
        "model_mnist_efficient_finetune_cfg : dict ={\n",
        "    \"name\" : \"EfficientNetFinetune\",\n",
        "    \"data_normalize\": False, #모델별로 달라서 모델안에 지정\n",
        "    \"efficient_net_model_name\" : \"EfficientNetB0\",\n",
        "    \"classes\": 10,\n",
        "    \"efficient_net_weight_trainable\": True, # False면 freeze , True면 train가능한 params가 늘어남\n",
        "    \"kwargs\" : {\n",
        "        \"include_top\" : False,\n",
        "        \"weights\":'imagenet',\n",
        "    }\n",
        "\n",
        "}\n",
        "\n",
        "# optimizer_configs\n",
        "\n",
        "adam_warmup_lr_sch_opt_cfg  ={\n",
        "    \"optimizer\" :{\n",
        "        \"name\" : \"Adam\",\n",
        "        \"other_kwargs\" :{}, # 빈값이면 기본이 들어감\n",
        "    },\n",
        "    \"lr_scheduler\":{\n",
        "        \"name\" : \"LinearWarmupLRSchedule\",\n",
        "        \"kwargs\" : {\n",
        "            \"lr_peak\" : 1e-3,\n",
        "            \"warmup_end_steps\" : 1500,\n",
        "        }\n",
        "    }\n",
        "}\n",
        "\n",
        "radam_no_lr_sch_opt_cfg  ={ # Radam은 굳이 스케줄러 필요 없음\n",
        "    \"optimizer\" :{\n",
        "        \"name\" : \"RectifiedAdam\",\n",
        "        \"learning_rate\" : 1e-3,\n",
        "        \"other_kwargs\" :{}, # 빈값이면 기본이 들어감\n",
        "    },\n",
        "    \"lr_scheduler\": None\n",
        "}\n",
        "\n",
        "# train configs\n",
        "\n",
        "train_cfg : dict ={\n",
        "    \"train_batch_size\" : 128,\n",
        "    \"val_batch_size\" : 32,\n",
        "    \"test_batch_size\" : 32,\n",
        "    \"max_epochs\" : 50,\n",
        "    \"distribute_strategy\" : \"MirroredStrategy\",\n",
        "}\n",
        "\n",
        "_merged_cfg_presets ={\n",
        "    \"cnn_fashion_mnist_radam\" :{\n",
        "        \"data\" : data_fashion_mnist_cfg,\n",
        "        \"model\" : model_mnist_cnn_cfg,\n",
        "        \"opt\" : radam_no_lr_sch_opt_cfg,\n",
        "        \"train\" : train_cfg,\n",
        "\n",
        "    },\n",
        "    \"mlp_with_dropout_fashion_mnist_adam_with_warmup_lr_scheduler\" :{\n",
        "        \"data\" : data_fashion_mnist_cfg,\n",
        "        \"model\" : model_mnist_mlp_with_dropout_cfg,\n",
        "        \"opt\" : adam_warmup_lr_sch_opt_cfg,\n",
        "        \"train\" : train_cfg,\n",
        "\n",
        "    }\n",
        "}\n",
        "\n",
        "### hydra composition ###\n",
        "# clear hydra instance.\n",
        "hydra.core.global_hydra.GlobalHydra.instance().clear()\n",
        "\n",
        "# resister preset cfgs\n",
        "register_config(_merged_cfg_presets)\n",
        "\n",
        "# initializing\n",
        "hydra.initialize(config_path =None)\n",
        "\n",
        "using_config_key = \"cnn_fashion_mnist_radam\"\n",
        "cfg = hydra.compose(using_config_key)\n",
        "\n",
        "# define & override log_cfg\n",
        "model_name = cfg.model.name\n",
        "run_dirname ='dnn-tutorial-fashion-mnist-runs-tf'\n",
        "run_name = f'{datetime.now().isoformat(timespec=\"seconds\")} -{using_config_key}-{model_name}'\n",
        "log_dir = os.path.join(drive_project_root, 'runs', run_dirname, run_name)\n",
        "\n",
        "\n",
        "\n",
        "\n",
        "log_cfg ={\n",
        "    \"run_name\" : run_name,\n",
        "    \"callbacks\" : {\n",
        "        \"TensorBoard\" :{\n",
        "          \"log_dir\" :log_dir,\n",
        "          \"update_freq\" :1,\n",
        "        },\n",
        "        \"EarlyStopping\" : {\n",
        "          \"patience\" : 3,\n",
        "          \"verbose\" : True,\n",
        "        },\n",
        "    },\n",
        "    \"wandb\" : {\n",
        "        \"project\" : \"fastcampus_fashion_mnist_tutorials_tf\",\n",
        "        \"name\" : run_name,\n",
        "        \"tags\" : [\"fastcampus_fashion_mnist_tutorials_tf\"],\n",
        "        \"reinit\" : True,\n",
        "        \"sync_tensorboard\" : True\n",
        "        }\n",
        "\n",
        "}\n",
        "\n",
        "# unlock struct of config & set log config\n",
        "OmegaConf.set_struct(cfg, False)\n",
        "cfg.log =log_cfg\n",
        "\n",
        "# relock config\n",
        "OmegaConf.set_struct(cfg, True)\n",
        "print(OmegaConf.to_yaml(cfg))\n",
        "\n",
        "# save yaml\n",
        "# with open(os.path.join(log_dir, \"config.yaml\")) as f :\n",
        "with  open(\"config.yaml\", \"w\") as f :\n",
        "  OmegaConf.save(cfg, f)"
      ],
      "metadata": {
        "colab": {
          "base_uri": "https://localhost:8080/"
        },
        "id": "etsUYWWfdXUa",
        "outputId": "0b0d5087-f95c-4493-f3b8-43fc007c027e"
      },
      "execution_count": 30,
      "outputs": [
        {
          "output_type": "stream",
          "name": "stdout",
          "text": [
            "data:\n",
            "  n_class_: 10\n",
            "  train_val_split:\n",
            "  - 0.9\n",
            "  - 0.1\n",
            "  train_val_shuffle: true\n",
            "  train_val_shuffle_buffer_size: 1024\n",
            "  test_shuffle: false\n",
            "  test_shuffle_buffer_size: 1024\n",
            "model:\n",
            "  name: CNN\n",
            "  data_normalize: true\n",
            "  layer_1:\n",
            "    conv2d_filters: 32\n",
            "    conv2d_kernel_size:\n",
            "    - 3\n",
            "    - 3\n",
            "    conv2d_strides:\n",
            "    - 1\n",
            "    - 1\n",
            "    conv2d_padding: same\n",
            "    maxpool2d_pool_size:\n",
            "    - 2\n",
            "    - 2\n",
            "    maxpool2d_strids:\n",
            "    - 2\n",
            "    - 2\n",
            "    maxpool2d_padding: valid\n",
            "  layer_2:\n",
            "    conv2d_filters: 64\n",
            "    conv2d_kernel_size:\n",
            "    - 3\n",
            "    - 3\n",
            "    conv2d_strides:\n",
            "    - 1\n",
            "    - 1\n",
            "    conv2d_padding: valid\n",
            "    maxpool2d_pool_size:\n",
            "    - 2\n",
            "    - 2\n",
            "    maxpool2d_strids:\n",
            "    - 1\n",
            "    - 1\n",
            "    maxpool2d_padding: valid\n",
            "  fc_1:\n",
            "    units: 512\n",
            "  fc_2:\n",
            "    units: 128\n",
            "  fc_3:\n",
            "    units: 10\n",
            "  dropout_prob: 0.25\n",
            "opt:\n",
            "  optimizer:\n",
            "    name: RectifiedAdam\n",
            "    learning_rate: 0.001\n",
            "    other_kwargs: {}\n",
            "  lr_scheduler: null\n",
            "train:\n",
            "  train_batch_size: 128\n",
            "  val_batch_size: 32\n",
            "  test_batch_size: 32\n",
            "  max_epochs: 50\n",
            "  distribute_strategy: MirroredStrategy\n",
            "log:\n",
            "  run_name: 2023-07-09T13:21:06 -cnn_fashion_mnist_radam-CNN\n",
            "  callbacks:\n",
            "    TensorBoard:\n",
            "      log_dir: /content/drive/MyDrive/#fastcampus/runs/dnn-tutorial-fashion-mnist-runs-tf/2023-07-09T13:21:06\n",
            "        -cnn_fashion_mnist_radam-CNN\n",
            "      update_freq: 1\n",
            "    EarlyStopping:\n",
            "      patience: 3\n",
            "      verbose: true\n",
            "  wandb:\n",
            "    project: fastcampus_fashion_mnist_tutorials_tf\n",
            "    name: 2023-07-09T13:21:06 -cnn_fashion_mnist_radam-CNN\n",
            "    tags:\n",
            "    - fastcampus_fashion_mnist_tutorials_tf\n",
            "    reinit: true\n",
            "    sync_tensorboard: true\n",
            "\n"
          ]
        }
      ]
    },
    {
      "cell_type": "code",
      "source": [
        "def get_distribute_strategy(strategy_name : str, **kwargs):\n",
        "  return getattr(tf.distribute, strategy_name)(**kwargs)\n",
        "\n",
        "distribute_strategy = get_distribute_strategy(cfg.train.distribute_strategy)"
      ],
      "metadata": {
        "colab": {
          "base_uri": "https://localhost:8080/"
        },
        "id": "yXcInY6kxYL5",
        "outputId": "ede9dd6f-fe3b-41e8-9cf1-ddc1aaff988d"
      },
      "execution_count": 29,
      "outputs": [
        {
          "output_type": "execute_result",
          "data": {
            "text/plain": [
              "<tensorflow.python.distribute.mirrored_strategy.MirroredStrategy at 0x7fe42506a110>"
            ]
          },
          "metadata": {},
          "execution_count": 29
        }
      ]
    },
    {
      "cell_type": "code",
      "source": [
        "with distribute_strategy.scope():\n",
        "  # 데이터셋 정의\n",
        "  fashion_mnist = tf.keras.datasets.fashion_mnist\n",
        "  (x_train, y_train), (x_test, y_test) = fashion_mnist.load_data()\n",
        "\n",
        "  # normalization\n",
        "  if cfg.model.data_normalize:\n",
        "      x_train =x_train/255.0\n",
        "      x_test = x_test/255.0\n",
        "\n",
        "  # train/val splits\n",
        "  assert sum(cfg.data.train_val_split) ==1.0\n",
        "  train_size = int(len(x_train)*cfg.data.train_val_split[0])\n",
        "  val_size = len(x_train) -train_size\n",
        "\n",
        "  dataset = tf.data.Dataset.from_tensor_slices((x_train, y_train))\n",
        "\n",
        "  test_dataset = tf.data.Dataset.from_tensor_slices((x_test, y_test))\n",
        "  if cfg.data.train_val_shuffle :\n",
        "    dataset = dataset.shuffle(\n",
        "        buffer_size = cfg.data.train_val_shuffle_buffer_size,\n",
        "        )\n",
        "  if cfg.data.test_shuffle :\n",
        "    test_dataset = test_dataset.shuffle(\n",
        "        buffer_size= cfg.data.test_shuffle_buffer_size,\n",
        "    )\n",
        "\n",
        "\n",
        "  train_dataset = dataset.take(train_size)\n",
        "  val_dataset = dataset.skip(train_size)\n",
        "  print(len(train_dataset), len(val_dataset), len(dataset), len(test_dataset))\n",
        "\n",
        "  # dataloader 정의\n",
        "  train_batch_size = cfg.train.train_batch_size\n",
        "  val_batch_size = cfg.train.val_batch_size\n",
        "  test_batch_size = cfg.train.test_batch_size\n",
        "\n",
        "  train_dataloader = train_dataset.batch(train_batch_size, drop_remainder=True)\n",
        "  val_dataloader = val_dataset.batch(val_batch_size, drop_remainder=True)\n",
        "  test_dataloader = test_dataset.batch(test_batch_size, drop_remainder=True)\n",
        "\n",
        "sample_example = next(iter(train_dataloader))\n",
        "print(sample_example)"
      ],
      "metadata": {
        "colab": {
          "base_uri": "https://localhost:8080/"
        },
        "id": "zEsQoSyaC_Th",
        "outputId": "d11b3563-4e11-4fd3-879e-a6590b516e5d"
      },
      "execution_count": 31,
      "outputs": [
        {
          "output_type": "stream",
          "name": "stdout",
          "text": [
            "Downloading data from https://storage.googleapis.com/tensorflow/tf-keras-datasets/train-labels-idx1-ubyte.gz\n",
            "29515/29515 [==============================] - 0s 0us/step\n",
            "Downloading data from https://storage.googleapis.com/tensorflow/tf-keras-datasets/train-images-idx3-ubyte.gz\n",
            "26421880/26421880 [==============================] - 1s 0us/step\n",
            "Downloading data from https://storage.googleapis.com/tensorflow/tf-keras-datasets/t10k-labels-idx1-ubyte.gz\n",
            "5148/5148 [==============================] - 0s 0us/step\n",
            "Downloading data from https://storage.googleapis.com/tensorflow/tf-keras-datasets/t10k-images-idx3-ubyte.gz\n",
            "4422102/4422102 [==============================] - 1s 0us/step\n",
            "54000 6000 60000 10000\n",
            "(<tf.Tensor: shape=(128, 28, 28), dtype=float64, numpy=\n",
            "array([[[0.        , 0.        , 0.        , ..., 0.        ,\n",
            "         0.        , 0.        ],\n",
            "        [0.        , 0.        , 0.00392157, ..., 0.        ,\n",
            "         0.        , 0.        ],\n",
            "        [0.        , 0.00392157, 0.        , ..., 0.        ,\n",
            "         0.        , 0.        ],\n",
            "        ...,\n",
            "        [0.        , 0.62745098, 0.85098039, ..., 0.8       ,\n",
            "         0.48627451, 0.        ],\n",
            "        [0.        , 0.62352941, 0.96078431, ..., 0.87058824,\n",
            "         0.58431373, 0.        ],\n",
            "        [0.        , 0.14509804, 0.49019608, ..., 0.36470588,\n",
            "         0.07843137, 0.        ]],\n",
            "\n",
            "       [[0.        , 0.        , 0.        , ..., 0.        ,\n",
            "         0.        , 0.        ],\n",
            "        [0.        , 0.        , 0.        , ..., 0.        ,\n",
            "         0.        , 0.        ],\n",
            "        [0.        , 0.        , 0.        , ..., 0.        ,\n",
            "         0.        , 0.        ],\n",
            "        ...,\n",
            "        [0.        , 0.        , 0.        , ..., 0.        ,\n",
            "         0.        , 0.        ],\n",
            "        [0.        , 0.        , 0.        , ..., 0.        ,\n",
            "         0.        , 0.        ],\n",
            "        [0.        , 0.        , 0.        , ..., 0.        ,\n",
            "         0.        , 0.        ]],\n",
            "\n",
            "       [[0.        , 0.        , 0.        , ..., 0.        ,\n",
            "         0.        , 0.        ],\n",
            "        [0.        , 0.        , 0.        , ..., 0.        ,\n",
            "         0.        , 0.        ],\n",
            "        [0.        , 0.        , 0.        , ..., 0.        ,\n",
            "         0.        , 0.        ],\n",
            "        ...,\n",
            "        [0.        , 0.        , 0.        , ..., 0.        ,\n",
            "         0.        , 0.        ],\n",
            "        [0.        , 0.        , 0.        , ..., 0.        ,\n",
            "         0.        , 0.        ],\n",
            "        [0.        , 0.        , 0.        , ..., 0.        ,\n",
            "         0.        , 0.        ]],\n",
            "\n",
            "       ...,\n",
            "\n",
            "       [[0.        , 0.        , 0.        , ..., 0.        ,\n",
            "         0.        , 0.        ],\n",
            "        [0.        , 0.        , 0.        , ..., 0.        ,\n",
            "         0.        , 0.        ],\n",
            "        [0.        , 0.        , 0.        , ..., 0.        ,\n",
            "         0.        , 0.        ],\n",
            "        ...,\n",
            "        [0.        , 0.        , 0.        , ..., 0.        ,\n",
            "         0.        , 0.        ],\n",
            "        [0.        , 0.        , 0.        , ..., 0.        ,\n",
            "         0.        , 0.        ],\n",
            "        [0.        , 0.        , 0.        , ..., 0.        ,\n",
            "         0.        , 0.        ]],\n",
            "\n",
            "       [[0.        , 0.        , 0.        , ..., 0.        ,\n",
            "         0.        , 0.        ],\n",
            "        [0.        , 0.        , 0.        , ..., 0.        ,\n",
            "         0.        , 0.        ],\n",
            "        [0.        , 0.        , 0.        , ..., 0.        ,\n",
            "         0.        , 0.        ],\n",
            "        ...,\n",
            "        [0.        , 0.        , 0.        , ..., 0.        ,\n",
            "         0.        , 0.        ],\n",
            "        [0.        , 0.        , 0.        , ..., 0.        ,\n",
            "         0.        , 0.        ],\n",
            "        [0.        , 0.        , 0.        , ..., 0.        ,\n",
            "         0.        , 0.        ]],\n",
            "\n",
            "       [[0.        , 0.        , 0.        , ..., 0.        ,\n",
            "         0.        , 0.        ],\n",
            "        [0.        , 0.        , 0.        , ..., 0.        ,\n",
            "         0.        , 0.        ],\n",
            "        [0.        , 0.        , 0.        , ..., 0.        ,\n",
            "         0.        , 0.        ],\n",
            "        ...,\n",
            "        [0.        , 0.        , 0.        , ..., 0.        ,\n",
            "         0.        , 0.        ],\n",
            "        [0.        , 0.        , 0.        , ..., 0.        ,\n",
            "         0.        , 0.        ],\n",
            "        [0.        , 0.        , 0.        , ..., 0.        ,\n",
            "         0.        , 0.        ]]])>, <tf.Tensor: shape=(128,), dtype=uint8, numpy=\n",
            "array([2, 0, 4, 1, 5, 0, 5, 7, 8, 1, 7, 2, 8, 3, 5, 9, 0, 6, 8, 6, 8, 5,\n",
            "       6, 1, 3, 7, 2, 9, 0, 8, 6, 0, 4, 0, 9, 6, 0, 0, 1, 2, 0, 5, 1, 9,\n",
            "       7, 0, 9, 7, 1, 7, 5, 6, 9, 3, 8, 4, 9, 4, 8, 8, 2, 6, 8, 2, 7, 4,\n",
            "       3, 5, 5, 6, 1, 6, 3, 7, 4, 9, 5, 8, 1, 5, 2, 2, 4, 4, 8, 9, 6, 7,\n",
            "       0, 1, 2, 7, 4, 6, 9, 4, 4, 8, 7, 0, 2, 4, 2, 6, 1, 7, 8, 9, 1, 4,\n",
            "       1, 7, 1, 4, 5, 4, 3, 8, 1, 6, 9, 6, 7, 9, 1, 7, 3, 1], dtype=uint8)>)\n"
          ]
        }
      ]
    },
    {
      "cell_type": "code",
      "source": [
        "# 모델정의\n",
        "def get_model(cfg : DictConfig):\n",
        "  if cfg.model.name ==\"CNN\":\n",
        "    model = CNN(cfg.model)\n",
        "  elif cfg.model.name == \"EfficientFinetune\":\n",
        "    model = EfficientNetFinetune(cfg.model)\n",
        "  elif cfg.model.name == \"MLP\":\n",
        "    model = MLP(cfg.model)\n",
        "  elif cfg.model.name == \"MLPWithDropout\":\n",
        "    model = MLPWithDropout(cfg.model)\n",
        "  else:\n",
        "    raise NotImplementedError()\n",
        "  return model\n",
        "\n",
        "\n",
        "\n",
        "with distribute_strategy.scope():\n",
        "     model = get_model(cfg)\n",
        "\n",
        "    #define loss\n",
        "     loss_function = tf.losses.SparseCategoricalCrossentropy() # from_logits = False면 prob으로 리턴, True면 softmax없이 logit값 써도 된다.\n",
        "\n",
        "    #define optimizer & scheduler\n",
        "     optimizer, scheduler = get_optimizer_element(\n",
        "        cfg.opt.optimizer, cfg.opt.lr_scheduler\n",
        "        )\n",
        "\n",
        "     model.compile(\n",
        "        loss = loss_function,\n",
        "        optimizer = optimizer,\n",
        "        metrics = [tf.keras.metrics.Accuracy()],\n",
        "     )\n",
        "\n",
        "     model.build((1, 28,28)) #디버깅할떄 좋음\n",
        "\n",
        "model.summary()\n",
        "# model.fit(train_dataloader, test_dataloader, call)"
      ],
      "metadata": {
        "id": "x_fG-SbH48Fv",
        "colab": {
          "base_uri": "https://localhost:8080/"
        },
        "outputId": "62b92111-b929-4ecb-b334-3e9d8c7c49df"
      },
      "execution_count": 32,
      "outputs": [
        {
          "output_type": "stream",
          "name": "stdout",
          "text": [
            "Model: \"cnn\"\n",
            "_________________________________________________________________\n",
            " Layer (type)                Output Shape              Param #   \n",
            "=================================================================\n",
            " conv_batch_norm_max_pool (C  multiple                 448       \n",
            " onvBatchNormMaxPool)                                            \n",
            "                                                                 \n",
            " conv_batch_norm_max_pool_1   multiple                 18752     \n",
            " (ConvBatchNormMaxPool)                                          \n",
            "                                                                 \n",
            " flatten (Flatten)           multiple                  0         \n",
            "                                                                 \n",
            " dense (Dense)               multiple                  3965440   \n",
            "                                                                 \n",
            " dense_1 (Dense)             multiple                  65664     \n",
            "                                                                 \n",
            " dense_2 (Dense)             multiple                  1290      \n",
            "                                                                 \n",
            " dropout (Dropout)           multiple                  0         \n",
            "                                                                 \n",
            "=================================================================\n",
            "Total params: 4,051,594\n",
            "Trainable params: 4,051,402\n",
            "Non-trainable params: 192\n",
            "_________________________________________________________________\n"
          ]
        }
      ]
    },
    {
      "cell_type": "code",
      "source": [
        "flatten_dict(cfg)"
      ],
      "metadata": {
        "colab": {
          "base_uri": "https://localhost:8080/"
        },
        "id": "APEiOc6Y3I-x",
        "outputId": "15e11ddb-36be-4759-ec33-d6c7aef3513c"
      },
      "execution_count": 33,
      "outputs": [
        {
          "output_type": "execute_result",
          "data": {
            "text/plain": [
              "{'data_n_class_': 10,\n",
              " 'data_train_val_split': [0.9, 0.1],\n",
              " 'data_train_val_shuffle': True,\n",
              " 'data_train_val_shuffle_buffer_size': 1024,\n",
              " 'data_test_shuffle': False,\n",
              " 'data_test_shuffle_buffer_size': 1024,\n",
              " 'model_name': 'CNN',\n",
              " 'model_data_normalize': True,\n",
              " 'model_layer_1_conv2d_filters': 32,\n",
              " 'model_layer_1_conv2d_kernel_size': [3, 3],\n",
              " 'model_layer_1_conv2d_strides': [1, 1],\n",
              " 'model_layer_1_conv2d_padding': 'same',\n",
              " 'model_layer_1_maxpool2d_pool_size': [2, 2],\n",
              " 'model_layer_1_maxpool2d_strids': [2, 2],\n",
              " 'model_layer_1_maxpool2d_padding': 'valid',\n",
              " 'model_layer_2_conv2d_filters': 64,\n",
              " 'model_layer_2_conv2d_kernel_size': [3, 3],\n",
              " 'model_layer_2_conv2d_strides': [1, 1],\n",
              " 'model_layer_2_conv2d_padding': 'valid',\n",
              " 'model_layer_2_maxpool2d_pool_size': [2, 2],\n",
              " 'model_layer_2_maxpool2d_strids': [1, 1],\n",
              " 'model_layer_2_maxpool2d_padding': 'valid',\n",
              " 'model_fc_1_units': 512,\n",
              " 'model_fc_2_units': 128,\n",
              " 'model_fc_3_units': 10,\n",
              " 'model_dropout_prob': 0.25,\n",
              " 'opt_optimizer_name': 'RectifiedAdam',\n",
              " 'opt_optimizer_learning_rate': 0.001,\n",
              " 'opt_lr_scheduler': None,\n",
              " 'train_train_batch_size': 128,\n",
              " 'train_val_batch_size': 32,\n",
              " 'train_test_batch_size': 32,\n",
              " 'train_max_epochs': 50,\n",
              " 'train_distribute_strategy': 'MirroredStrategy',\n",
              " 'log_run_name': '2023-07-09T13:21:06 -cnn_fashion_mnist_radam-CNN',\n",
              " 'log_callbacks_TensorBoard_log_dir': '/content/drive/MyDrive/#fastcampus/runs/dnn-tutorial-fashion-mnist-runs-tf/2023-07-09T13:21:06 -cnn_fashion_mnist_radam-CNN',\n",
              " 'log_callbacks_TensorBoard_update_freq': 1,\n",
              " 'log_callbacks_EarlyStopping_patience': 3,\n",
              " 'log_callbacks_EarlyStopping_verbose': True,\n",
              " 'log_wandb_project': 'fastcampus_fashion_mnist_tutorials_tf',\n",
              " 'log_wandb_name': '2023-07-09T13:21:06 -cnn_fashion_mnist_radam-CNN',\n",
              " 'log_wandb_tags': ['fastcampus_fashion_mnist_tutorials_tf'],\n",
              " 'log_wandb_reinit': True,\n",
              " 'log_wandb_sync_tensorboard': True}"
            ]
          },
          "metadata": {},
          "execution_count": 33
        }
      ]
    },
    {
      "cell_type": "code",
      "source": [
        "# get callbacks\n",
        "callbacks = get_callbacks(cfg.log)\n",
        "\n",
        "# wandb setup\n",
        "wandb.init(\n",
        "    config = flatten_dict(cfg),\n",
        "    **cfg.log.wandb\n",
        ")"
      ],
      "metadata": {
        "id": "vmswTHG1lIEJ",
        "colab": {
          "base_uri": "https://localhost:8080/",
          "height": 247
        },
        "outputId": "acaa1e9d-b807-41a5-b1e8-cd25f0231c28"
      },
      "execution_count": 35,
      "outputs": [
        {
          "output_type": "display_data",
          "data": {
            "text/plain": [
              "<IPython.core.display.HTML object>"
            ],
            "text/html": [
              "Finishing last run (ID:kc82i17f) before initializing another..."
            ]
          },
          "metadata": {}
        },
        {
          "output_type": "display_data",
          "data": {
            "text/plain": [
              "<IPython.core.display.HTML object>"
            ],
            "text/html": [
              "Waiting for W&B process to finish... <strong style=\"color:green\">(success).</strong>"
            ]
          },
          "metadata": {}
        },
        {
          "output_type": "display_data",
          "data": {
            "text/plain": [
              "<IPython.core.display.HTML object>"
            ],
            "text/html": [
              " View run <strong style=\"color:#cdcd00\">2023-07-09T13:21:06 -cnn_fashion_mnist_radam-CNN</strong> at: <a href='https://wandb.ai/hyejun12123/fastcampus_fashion_mnist_tutorials_tf/runs/kc82i17f' target=\"_blank\">https://wandb.ai/hyejun12123/fastcampus_fashion_mnist_tutorials_tf/runs/kc82i17f</a><br/>Synced 4 W&B file(s), 0 media file(s), 0 artifact file(s) and 0 other file(s)"
            ]
          },
          "metadata": {}
        },
        {
          "output_type": "display_data",
          "data": {
            "text/plain": [
              "<IPython.core.display.HTML object>"
            ],
            "text/html": [
              "Find logs at: <code>./wandb/run-20230709_133610-kc82i17f/logs</code>"
            ]
          },
          "metadata": {}
        },
        {
          "output_type": "display_data",
          "data": {
            "text/plain": [
              "<IPython.core.display.HTML object>"
            ],
            "text/html": [
              "Successfully finished last run (ID:kc82i17f). Initializing new run:<br/>"
            ]
          },
          "metadata": {}
        },
        {
          "output_type": "display_data",
          "data": {
            "text/plain": [
              "<IPython.core.display.HTML object>"
            ],
            "text/html": [
              "Tracking run with wandb version 0.15.5"
            ]
          },
          "metadata": {}
        },
        {
          "output_type": "display_data",
          "data": {
            "text/plain": [
              "<IPython.core.display.HTML object>"
            ],
            "text/html": [
              "Run data is saved locally in <code>/content/drive/MyDrive/#fastcampus/wandb/run-20230709_133706-ekq7215f</code>"
            ]
          },
          "metadata": {}
        },
        {
          "output_type": "display_data",
          "data": {
            "text/plain": [
              "<IPython.core.display.HTML object>"
            ],
            "text/html": [
              "Syncing run <strong><a href='https://wandb.ai/hyejun12123/fastcampus_fashion_mnist_tutorials_tf/runs/ekq7215f' target=\"_blank\">2023-07-09T13:21:06 -cnn_fashion_mnist_radam-CNN</a></strong> to <a href='https://wandb.ai/hyejun12123/fastcampus_fashion_mnist_tutorials_tf' target=\"_blank\">Weights & Biases</a> (<a href='https://wandb.me/run' target=\"_blank\">docs</a>)<br/>"
            ]
          },
          "metadata": {}
        },
        {
          "output_type": "display_data",
          "data": {
            "text/plain": [
              "<IPython.core.display.HTML object>"
            ],
            "text/html": [
              " View project at <a href='https://wandb.ai/hyejun12123/fastcampus_fashion_mnist_tutorials_tf' target=\"_blank\">https://wandb.ai/hyejun12123/fastcampus_fashion_mnist_tutorials_tf</a>"
            ]
          },
          "metadata": {}
        },
        {
          "output_type": "display_data",
          "data": {
            "text/plain": [
              "<IPython.core.display.HTML object>"
            ],
            "text/html": [
              " View run at <a href='https://wandb.ai/hyejun12123/fastcampus_fashion_mnist_tutorials_tf/runs/ekq7215f' target=\"_blank\">https://wandb.ai/hyejun12123/fastcampus_fashion_mnist_tutorials_tf/runs/ekq7215f</a>"
            ]
          },
          "metadata": {}
        },
        {
          "output_type": "execute_result",
          "data": {
            "text/html": [
              "<button onClick=\"this.nextSibling.style.display='block';this.style.display='none';\">Display W&B run</button><iframe src='https://wandb.ai/hyejun12123/fastcampus_fashion_mnist_tutorials_tf/runs/ekq7215f?jupyter=true' style='border:none;width:100%;height:420px;display:none;'></iframe>"
            ],
            "text/plain": [
              "<wandb.sdk.wandb_run.Run at 0x7fe3b54dfaf0>"
            ]
          },
          "metadata": {},
          "execution_count": 35
        }
      ]
    },
    {
      "cell_type": "code",
      "source": [
        "%load_ext tensorboard\n",
        "%tensorboard --logdir /content/drive/MyDrive/\\#fastcampus/runs/\n",
        "model.fit(\n",
        "    train_dataloader,\n",
        "    validation_data = val_dataloader,\n",
        "    epochs = cfg.train.max_epochs,\n",
        "    callbacks =callbacks,\n",
        ")\n"
      ],
      "metadata": {
        "colab": {
          "base_uri": "https://localhost:8080/",
          "height": 35
        },
        "id": "GqtkrBBwrE_9",
        "outputId": "53dbe873-3ce2-4661-f600-39db55ed9391"
      },
      "execution_count": null,
      "outputs": [
        {
          "output_type": "display_data",
          "data": {
            "text/plain": [
              "Launching TensorBoard..."
            ]
          },
          "metadata": {}
        }
      ]
    },
    {
      "cell_type": "markdown",
      "source": [
        "## Model testing"
      ],
      "metadata": {
        "id": "Q5evIgyt0f2k"
      }
    },
    {
      "cell_type": "code",
      "source": [
        "model.evaluate(test_dataloader)"
      ],
      "metadata": {
        "colab": {
          "base_uri": "https://localhost:8080/"
        },
        "id": "rpZZgzrd0bqY",
        "outputId": "a512b564-6dfa-4fbf-fc62-b4d54314ef5f"
      },
      "execution_count": null,
      "outputs": [
        {
          "output_type": "stream",
          "name": "stdout",
          "text": [
            "100/100 [==============================] - 1s 5ms/step - loss: 0.3435 - accuracy: 0.8992\n"
          ]
        },
        {
          "output_type": "execute_result",
          "data": {
            "text/plain": [
              "[0.34348130226135254, 0.8992000222206116]"
            ]
          },
          "metadata": {},
          "execution_count": 34
        }
      ]
    },
    {
      "cell_type": "code",
      "source": [
        "test_labels_list =[]\n",
        "test_preds_list =[]\n",
        "test_outputs_list =[]\n",
        "\n",
        "for i, (test_images, test_labels) in enumerate(tqdm(test_dataloader, position =0, leave =True, desc='testing')):\n",
        "  with mirrored_strategy.scope():\n",
        "    test_outputs = model(test_images)\n",
        "  test_preds = tf.argmax(test_outputs, 1)\n",
        "\n",
        "  final_outs = test_outputs.numpy()\n",
        "  test_outputs_list.extend(final_outs)\n",
        "  test_preds_list.extend(test_preds.numpy())\n",
        "  test_labels_list.extend(test_labels.numpy())\n",
        "\n",
        "test_preds_list =np.array(test_preds_list)\n",
        "test_labels_list = np.array(test_labels_list)\n",
        "\n",
        "test_accuracy =np.mean(test_preds_list == test_labels_list)\n",
        "print(f'\\nacc: {test_accuracy*100}%')"
      ],
      "metadata": {
        "colab": {
          "base_uri": "https://localhost:8080/"
        },
        "id": "LCLRmpER02nL",
        "outputId": "c5871470-3a64-48a8-b3ad-0ea1ca1b1fe6"
      },
      "execution_count": null,
      "outputs": [
        {
          "output_type": "stream",
          "name": "stderr",
          "text": [
            "testing: 100%|██████████| 100/100 [00:01<00:00, 54.22it/s]"
          ]
        },
        {
          "output_type": "stream",
          "name": "stdout",
          "text": [
            "\n",
            "acc: 89.92%\n"
          ]
        },
        {
          "output_type": "stream",
          "name": "stderr",
          "text": [
            "\n"
          ]
        }
      ]
    },
    {
      "cell_type": "code",
      "source": [
        "# ROC Curve\n",
        "from sklearn.metrics import roc_curve\n",
        "from sklearn.metrics import roc_auc_score\n",
        "\n",
        "fpr ={}\n",
        "tpr ={}\n",
        "thresh = {}\n",
        "n_class =10\n",
        "\n",
        "for i in range(n_class):\n",
        "  fpr[i], tpr[i], thresh[i] =roc_curve(test_labels_list, np.array(test_outputs_list)[:,i], pos_label =i) #class별로 따로따로\n",
        "\n",
        "#plot\n",
        "for i in range(n_class):\n",
        "  plt.plot(fpr[i], tpr[i], linestyle ='--', label=f'Class {i} vs Rest')\n",
        "plt.title('Multi-class ROC Curve')\n",
        "plt.xlabel('False Positive Rate')\n",
        "plt.ylabel('True Positive Rare')\n",
        "plt.legend(loc ='best')\n",
        "plt.show()\n",
        "\n",
        "auc_score = roc_auc_score(test_labels_list, test_outputs_list, multi_class ='ovo', average ='macro')\n",
        "print(f'auc_score : {auc_score}')"
      ],
      "metadata": {
        "colab": {
          "base_uri": "https://localhost:8080/",
          "height": 490
        },
        "id": "6ctg92qx_ReR",
        "outputId": "163e57b0-1027-4313-8d2a-e902e9315460"
      },
      "execution_count": null,
      "outputs": [
        {
          "output_type": "display_data",
          "data": {
            "text/plain": [
              "<Figure size 640x480 with 1 Axes>"
            ],
            "image/png": "[encoded data removed]"
          },
          "metadata": {}
        },
        {
          "output_type": "stream",
          "name": "stdout",
          "text": [
            "auc_score : 0.9931041944444445\n"
          ]
        }
      ]
    },
    {
      "cell_type": "code",
      "source": [],
      "metadata": {
        "id": "vELvwLeaFyie"
      },
      "execution_count": null,
      "outputs": []
    }
  ]
}