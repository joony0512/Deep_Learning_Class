{
  "nbformat": 4,
  "nbformat_minor": 0,
  "metadata": {
    "colab": {
      "provenance": [],
      "authorship_tag": "ABX9TyNpt8IVSb9SKjULdBG+Li+V",
      "include_colab_link": true
    },
    "kernelspec": {
      "name": "python3",
      "display_name": "Python 3"
    },
    "language_info": {
      "name": "python"
    }
  },
  "cells": [
    {
      "cell_type": "markdown",
      "metadata": {
        "id": "view-in-github",
        "colab_type": "text"
      },
      "source": [
        "<a href=\"https://colab.research.google.com/github/joony0512/Deep_Learning_Class/blob/main/Part2/P2_Ch01_CH04_04%2C05.ipynb\" target=\"_parent\"><img src=\"https://colab.research.google.com/assets/colab-badge.svg\" alt=\"Open In Colab\"/></a>"
      ]
    },
    {
      "cell_type": "markdown",
      "source": [
        "# 4-1 : Datasets\n",
        "## Toy Datasets"
      ],
      "metadata": {
        "id": "QVa-_MpAddwN"
      }
    },
    {
      "cell_type": "markdown",
      "source": [
        "### Code.4-1-1: Datasets for Regression"
      ],
      "metadata": {
        "id": "QPFnsvpHdz9r"
      }
    },
    {
      "cell_type": "code",
      "source": [
        "import tensorflow as tf\n",
        "N, n_feature = 8, 5\n",
        "t_weights = tf.constant([1,2,3,4,5], dtype = tf.float32)\n",
        "t_bias = tf.constant([10], dtype = tf.float32)\n",
        "\n",
        "# print(t_weights)\n",
        "# print(t_bias)\n",
        "\n",
        "X= tf.random.normal(mean = 0, stddev = 1, shape = (N, n_feature))\n",
        "# print(X.shape, t_weights.shape, t_bias.shape)\n",
        "\n",
        "Y = tf.reduce_sum(t_weights * X , axis = 1)+ t_bias\n",
        "print(X)\n",
        "print(Y)"
      ],
      "metadata": {
        "id": "FTzgJaWTeWEK",
        "colab": {
          "base_uri": "https://localhost:8080/"
        },
        "outputId": "f632ecfb-dae2-4a15-9246-acb376146657"
      },
      "execution_count": null,
      "outputs": [
        {
          "output_type": "stream",
          "name": "stdout",
          "text": [
            "tf.Tensor(\n",
            "[[-0.32870743 -0.57391495  0.7281316  -1.4285617   0.4729952 ]\n",
            " [-2.1072593   0.21024697  0.6909297  -0.07745247 -0.95798343]\n",
            " [ 0.23241828 -0.24938543 -0.0985309   0.84255046 -0.2633251 ]\n",
            " [ 0.10322145 -0.9409469  -0.9953553   1.6796993  -0.21659863]\n",
            " [ 1.6157908  -0.90492857  2.0580592   0.07839465  1.3198094 ]\n",
            " [-2.409762   -2.5497513  -0.3520397  -0.36058167  1.5440011 ]\n",
            " [-0.10733118 -0.526684    0.32218766 -0.02595715  1.4393383 ]\n",
            " [ 0.29012027  1.1684588   1.5244439  -0.14865912  0.5037473 ]], shape=(8, 5), dtype=float32)\n",
            "tf.Tensor(\n",
            "[ 7.358587   5.286297  11.4916315 10.871066  22.892736   7.712295\n",
            " 16.898727  19.12447  ], shape=(8,), dtype=float32)\n"
          ]
        }
      ]
    },
    {
      "cell_type": "markdown",
      "source": [
        "### Code.4-1-2:Dataset for Binary Classification"
      ],
      "metadata": {
        "id": "lHWmDTK8dwQs"
      }
    },
    {
      "cell_type": "code",
      "source": [
        "import tensorflow as tf\n",
        "\n",
        "N, n_feature = 8, 5\n",
        "t_weights = tf.constant([1,2,3,4,5], dtype = tf.float32)\n",
        "t_bias = tf.constant([10], dtype = tf.float32)\n",
        "\n",
        "X= tf.random.normal(mean = 0, stddev = 1, shape = (N, n_feature))\n",
        "Y = tf.reduce_sum(t_weights * X , axis = 1)+ t_bias\n",
        "Y = tf.cast(Y>5, tf.int32)\n",
        "print(X)\n",
        "print(Y)"
      ],
      "metadata": {
        "colab": {
          "base_uri": "https://localhost:8080/"
        },
        "id": "tvu2TZNXeqay",
        "outputId": "38ba0e15-8532-4b89-f363-5a3710b3a4ef"
      },
      "execution_count": null,
      "outputs": [
        {
          "output_type": "stream",
          "name": "stdout",
          "text": [
            "tf.Tensor(\n",
            "[[-1.5960628  -2.0353222  -0.40593868 -1.0479128   1.2741749 ]\n",
            " [ 2.2116451  -2.311994    0.52475953  0.5921957   2.6428983 ]\n",
            " [-0.6020709  -1.2558587  -1.3824848   0.50595325  0.72331274]\n",
            " [ 1.0004815   0.5329859   0.81588644 -1.272688   -1.2396255 ]\n",
            " [ 0.45345375  0.74379826  0.07628333  0.6185461   0.857999  ]\n",
            " [-0.2280728  -1.4945128  -0.47815207 -0.24276988  1.0409327 ]\n",
            " [ 0.35341728  1.9181864   1.4411198  -0.1708158  -0.06959226]\n",
            " [ 0.28684193 -1.1227175  -0.5375465   0.52432406  1.6557473 ]], shape=(8, 5), dtype=float32)\n",
            "tf.Tensor([1 1 1 0 1 1 1 1], shape=(8,), dtype=int32)\n"
          ]
        }
      ]
    },
    {
      "cell_type": "markdown",
      "source": [
        "### Code.4-1-3:Dataset for Multi-calss Classification"
      ],
      "metadata": {
        "id": "s3DGCovhev44"
      }
    },
    {
      "cell_type": "code",
      "source": [
        "import tensorflow as tf\n",
        "import matplotlib.pyplot as plt\n",
        "\n",
        "plt.style.use('seaborn')\n",
        "N, n_feature = 10, 2\n",
        "n_class = 3\n",
        "\n",
        "X= tf.zeros(shape = (0, n_feature))\n",
        "Y = tf.zeros(shape = (0, 1), dtype = tf.int32)\n",
        "\n",
        "fig, ax = plt.subplots(figsize=(5,5))\n",
        "for class_idx in range(n_class):\n",
        "  center = tf.random.uniform(minval = -15, maxval = 15, shape = (2, ))\n",
        "  # ax.scatter(center[0], center[1])\n",
        "  x1 = center[0] + tf.random.normal(shape = (N, 1))\n",
        "  x2 = center[1] + tf.random.normal(shape = (N, 1))\n",
        "  # ax.scatter(x1.numpy(), x2.numpy())\n",
        "\n",
        "  x = tf.concat((x1, x2), axis = 1)\n",
        "  y = class_idx*tf.ones(shape = (N, 1), dtype = tf.int32)\n",
        "  # print(x.shape , y.shape)\n",
        "  ax.scatter(x[:, 0].numpy(), x[:,1].numpy(), alpha = 0.3)\n",
        "\n",
        "  X = tf.concat((X, x), axis = 0)\n",
        "  Y = tf.concat((Y, y), axis = 0)\n",
        "  print(X.shape, Y.shape)\n",
        "\n",
        "\n",
        "\n",
        "print(\"X(shape/dtype/data): {} /{}\\n{}\\n\".format(X.shape, X.dtype, X.numpy()))\n",
        "print(\"Y(shape/dtype/data): {} /{}\\n{}\\n\".format(Y.shape, Y.dtype, Y.numpy()))\n"
      ],
      "metadata": {
        "colab": {
          "base_uri": "https://localhost:8080/",
          "height": 1000
        },
        "id": "dS3Ee1w6jK2l",
        "outputId": "6dbb7f43-8c34-4516-c670-923b26b423e7"
      },
      "execution_count": null,
      "outputs": [
        {
          "output_type": "stream",
          "name": "stdout",
          "text": [
            "X:  tf.Tensor([], shape=(0, 2), dtype=float32)\n",
            "(10, 2) (10, 1)\n",
            "(20, 2) (20, 1)\n",
            "(30, 2) (30, 1)\n",
            "X(shape/dtype/data): (30, 2) /<dtype: 'float32'>\n",
            "[[ 5.04898739e+00  1.53308163e+01]\n",
            " [ 4.29439402e+00  1.44320431e+01]\n",
            " [ 6.96003532e+00  1.52334337e+01]\n",
            " [ 6.68066502e+00  1.64732265e+01]\n",
            " [ 5.22806358e+00  1.53593121e+01]\n",
            " [ 5.57734299e+00  1.55318975e+01]\n",
            " [ 4.87353420e+00  1.40504456e+01]\n",
            " [ 5.37984324e+00  1.49047832e+01]\n",
            " [ 5.12388802e+00  1.48534422e+01]\n",
            " [ 6.33897734e+00  1.41820488e+01]\n",
            " [ 3.92877787e-01  7.35314703e+00]\n",
            " [-1.04390606e-01  5.91846037e+00]\n",
            " [ 4.38819528e-01  7.10232210e+00]\n",
            " [ 7.74356276e-02  6.31843185e+00]\n",
            " [-8.45879853e-01  5.66104746e+00]\n",
            " [ 3.92007202e-01  7.63008785e+00]\n",
            " [-2.17454880e-01  6.68106890e+00]\n",
            " [ 9.26177800e-01  6.47365618e+00]\n",
            " [-6.49207294e-01  6.37704039e+00]\n",
            " [-1.76375419e-01  6.33992958e+00]\n",
            " [-9.87742186e-01  9.62954521e+00]\n",
            " [-3.53970349e-01  1.15246487e+01]\n",
            " [-8.63900185e-02  9.98697186e+00]\n",
            " [-7.24498987e-01  1.13938026e+01]\n",
            " [-7.23569930e-01  1.14835501e+01]\n",
            " [-1.18899763e+00  1.10185795e+01]\n",
            " [-1.00852239e+00  1.14478083e+01]\n",
            " [-8.74978900e-02  1.39928303e+01]\n",
            " [-6.67381287e-03  1.09712610e+01]\n",
            " [-2.28760600e+00  1.12825193e+01]]\n",
            "\n",
            "Y(shape/dtype/data): (30, 1) /<dtype: 'int32'>\n",
            "[[0]\n",
            " [0]\n",
            " [0]\n",
            " [0]\n",
            " [0]\n",
            " [0]\n",
            " [0]\n",
            " [0]\n",
            " [0]\n",
            " [0]\n",
            " [1]\n",
            " [1]\n",
            " [1]\n",
            " [1]\n",
            " [1]\n",
            " [1]\n",
            " [1]\n",
            " [1]\n",
            " [1]\n",
            " [1]\n",
            " [2]\n",
            " [2]\n",
            " [2]\n",
            " [2]\n",
            " [2]\n",
            " [2]\n",
            " [2]\n",
            " [2]\n",
            " [2]\n",
            " [2]]\n",
            "\n"
          ]
        },
        {
          "output_type": "display_data",
          "data": {
            "text/plain": [
              "<Figure size 360x360 with 1 Axes>"
            ],
            "image/png": "[encoded data removed]"
          },
          "metadata": {}
        }
      ]
    },
    {
      "cell_type": "markdown",
      "source": [
        "### Code.4-1-4: Datasets for Multi-class Classification with One-hot Encoding"
      ],
      "metadata": {
        "id": "Vaa_Q6FbrHEQ"
      }
    },
    {
      "cell_type": "code",
      "source": [
        "import tensorflow as tf\n",
        "import matplotlib.pyplot as plt\n",
        "\n",
        "plt.style.use('seaborn')\n",
        "N, n_feature = 10, 2\n",
        "n_class = 3\n",
        "\n",
        "X= tf.zeros(shape = (0, n_feature))\n",
        "Y = tf.zeros(shape = (0, 1), dtype = tf.int32)\n",
        "\n",
        "fig, ax = plt.subplots(figsize=(5,5))\n",
        "for class_idx in range(n_class):\n",
        "  center = tf.random.uniform(minval = -15, maxval = 15, shape = (2, ))\n",
        "  # ax.scatter(center[0], center[1])\n",
        "  x1 = center[0] + tf.random.normal(shape = (N, 1))\n",
        "  x2 = center[1] + tf.random.normal(shape = (N, 1))\n",
        "  # ax.scatter(x1.numpy(), x2.numpy())\n",
        "\n",
        "  x = tf.concat((x1, x2), axis = 1)\n",
        "  y = class_idx*tf.ones(shape = (N, 1), dtype = tf.int32)\n",
        "  # print(x.shape , y.shape)\n",
        "  ax.scatter(x[:, 0].numpy(), x[:,1].numpy(), alpha = 0.3)\n",
        "\n",
        "  X = tf.concat((X, x), axis = 0)\n",
        "  Y = tf.concat((Y, y), axis = 0)\n",
        "  print(X.shape, Y.shape)\n",
        "\n",
        "\n",
        "Y =tf.one_hot(Y, depth = n_class, dtype = tf.int32)\n",
        "\n",
        "print(\"X(shape/dtype/data): {} /{}\\n{}\\n\".format(X.shape, X.dtype, X.numpy()))\n",
        "print(\"Y(shape/dtype/data): {} /{}\\n{}\\n\".format(Y.shape, Y.dtype, Y.numpy()))\n",
        "\n"
      ],
      "metadata": {
        "colab": {
          "base_uri": "https://localhost:8080/",
          "height": 1000
        },
        "id": "FxK75qvNmUI4",
        "outputId": "e98c8d12-ec47-4a69-b016-672f7e00730c"
      },
      "execution_count": null,
      "outputs": [
        {
          "output_type": "stream",
          "name": "stdout",
          "text": [
            "(10, 2) (10, 1)\n",
            "(20, 2) (20, 1)\n",
            "(30, 2) (30, 1)\n",
            "X(shape/dtype/data): (30, 2) /<dtype: 'float32'>\n",
            "[[-12.943749     8.994441  ]\n",
            " [-12.540255     9.289719  ]\n",
            " [-11.403856     9.850217  ]\n",
            " [-12.409414    10.589655  ]\n",
            " [-11.247906     7.695131  ]\n",
            " [-13.167128     9.533709  ]\n",
            " [-12.632903     8.966453  ]\n",
            " [-12.290233     8.731536  ]\n",
            " [-13.954066     7.855164  ]\n",
            " [-14.150682     9.8534975 ]\n",
            " [ 10.861157     1.1956921 ]\n",
            " [ 10.44835     -0.75603867]\n",
            " [  9.005823     1.7527908 ]\n",
            " [  9.878361     0.98898494]\n",
            " [  9.894931    -0.6797495 ]\n",
            " [ 11.176844     1.3513739 ]\n",
            " [ 10.996882    -0.48801303]\n",
            " [  9.393375     0.20330854]\n",
            " [ 10.099935     0.09055425]\n",
            " [ 11.341507     1.7930444 ]\n",
            " [ -1.7452106   -2.164312  ]\n",
            " [ -2.9153218   -2.5056505 ]\n",
            " [ -1.5931929   -2.1553137 ]\n",
            " [ -2.7172966   -1.1761082 ]\n",
            " [ -0.5045911   -2.577724  ]\n",
            " [ -2.8481138   -1.0758934 ]\n",
            " [ -2.4483445   -1.8810658 ]\n",
            " [ -0.7810991   -1.8028924 ]\n",
            " [ -3.914908    -2.0917974 ]\n",
            " [ -3.624044    -0.7511261 ]]\n",
            "\n",
            "Y(shape/dtype/data): (30, 1, 3) /<dtype: 'int32'>\n",
            "[[[1 0 0]]\n",
            "\n",
            " [[1 0 0]]\n",
            "\n",
            " [[1 0 0]]\n",
            "\n",
            " [[1 0 0]]\n",
            "\n",
            " [[1 0 0]]\n",
            "\n",
            " [[1 0 0]]\n",
            "\n",
            " [[1 0 0]]\n",
            "\n",
            " [[1 0 0]]\n",
            "\n",
            " [[1 0 0]]\n",
            "\n",
            " [[1 0 0]]\n",
            "\n",
            " [[0 1 0]]\n",
            "\n",
            " [[0 1 0]]\n",
            "\n",
            " [[0 1 0]]\n",
            "\n",
            " [[0 1 0]]\n",
            "\n",
            " [[0 1 0]]\n",
            "\n",
            " [[0 1 0]]\n",
            "\n",
            " [[0 1 0]]\n",
            "\n",
            " [[0 1 0]]\n",
            "\n",
            " [[0 1 0]]\n",
            "\n",
            " [[0 1 0]]\n",
            "\n",
            " [[0 0 1]]\n",
            "\n",
            " [[0 0 1]]\n",
            "\n",
            " [[0 0 1]]\n",
            "\n",
            " [[0 0 1]]\n",
            "\n",
            " [[0 0 1]]\n",
            "\n",
            " [[0 0 1]]\n",
            "\n",
            " [[0 0 1]]\n",
            "\n",
            " [[0 0 1]]\n",
            "\n",
            " [[0 0 1]]\n",
            "\n",
            " [[0 0 1]]]\n",
            "\n"
          ]
        },
        {
          "output_type": "display_data",
          "data": {
            "text/plain": [
              "<Figure size 360x360 with 1 Axes>"
            ],
            "image/png": "[encoded data removed]"
          },
          "metadata": {}
        }
      ]
    },
    {
      "cell_type": "markdown",
      "source": [
        "### Code.4-1-5: Dataset Objects\n"
      ],
      "metadata": {
        "id": "R5D6kKTPyu-A"
      }
    },
    {
      "cell_type": "code",
      "source": [
        "import tensorflow as tf\n",
        "\n",
        "N, n_feature = 100, 5\n",
        "batch_size = 32\n",
        "\n",
        "t_weights = tf.constant([1,2,3,4,5], dtype = tf.float32)\n",
        "t_bias = tf.constant([10], dtype = tf.float32)\n",
        "\n",
        "X = tf.random.normal( mean = 0, stddev = 1, shape=(N, n_feature))\n",
        "Y = tf.reduce_sum(t_weights * X , axis = 1) + t_bias\n",
        "\n",
        "for batch_idx in range(N//batch_size):\n",
        "  x =X[batch_idx * batch_size : (batch_idx + 1)* batch_size, ...]\n",
        "  y = Y[batch_idx * batch_size : (batch_idx + 1)* batch_size, ...]\n",
        "  print(x.shape, y.shape)"
      ],
      "metadata": {
        "colab": {
          "base_uri": "https://localhost:8080/"
        },
        "id": "i7eQo596y6Gx",
        "outputId": "ce8727f9-466d-4151-f0f7-317d10124ef1"
      },
      "execution_count": null,
      "outputs": [
        {
          "output_type": "stream",
          "name": "stdout",
          "text": [
            "(32, 5) (32,)\n",
            "(32, 5) (32,)\n",
            "(32, 5) (32,)\n"
          ]
        }
      ]
    },
    {
      "cell_type": "code",
      "source": [
        "import tensorflow as tf\n",
        "\n",
        "N, n_feature = 100, 5\n",
        "batch_size = 32\n",
        "\n",
        "t_weights = tf.constant([1,2,3,4,5], dtype = tf.float32)\n",
        "t_bias = tf.constant([10], dtype = tf.float32)\n",
        "\n",
        "X = tf.random.normal( mean = 0, stddev = 1, shape=(N, n_feature))\n",
        "Y = tf.reduce_sum(t_weights * X , axis = 1) + t_bias\n",
        "\n",
        "dataset = tf.data.Dataset.from_tensor_slices((X,Y))\n",
        "dataset = dataset.batch(batch_size)\n",
        "\n",
        "for x, y in dataset:\n",
        "  print(x.shape, y.shape)"
      ],
      "metadata": {
        "colab": {
          "base_uri": "https://localhost:8080/"
        },
        "id": "XWLpI_Pt0HJR",
        "outputId": "8880a000-1e2c-47a6-9e33-a758d798782d"
      },
      "execution_count": null,
      "outputs": [
        {
          "output_type": "stream",
          "name": "stdout",
          "text": [
            "(32, 5) (32,)\n",
            "(32, 5) (32,)\n",
            "(32, 5) (32,)\n",
            "(4, 5) (4,)\n"
          ]
        }
      ]
    },
    {
      "cell_type": "code",
      "source": [],
      "metadata": {
        "id": "BPjwCXDm32mf"
      },
      "execution_count": null,
      "outputs": []
    }
  ]
}