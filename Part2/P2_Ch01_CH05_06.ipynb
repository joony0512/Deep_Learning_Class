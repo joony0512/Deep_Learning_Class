{
  "nbformat": 4,
  "nbformat_minor": 0,
  "metadata": {
    "colab": {
      "provenance": [],
      "authorship_tag": "ABX9TyPJLrGIL6MQC2JZy/DzyTFX",
      "include_colab_link": true
    },
    "kernelspec": {
      "name": "python3",
      "display_name": "Python 3"
    },
    "language_info": {
      "name": "python"
    }
  },
  "cells": [
    {
      "cell_type": "markdown",
      "metadata": {
        "id": "view-in-github",
        "colab_type": "text"
      },
      "source": [
        "<a href=\"https://colab.research.google.com/github/joony0512/Deep_Learning_Class/blob/main/Part2/P2_Ch01_CH05_06.ipynb\" target=\"_parent\"><img src=\"https://colab.research.google.com/assets/colab-badge.svg\" alt=\"Open In Colab\"/></a>"
      ]
    },
    {
      "cell_type": "markdown",
      "source": [
        "# 5-4 : Models with Conv Layers"
      ],
      "metadata": {
        "id": "dciEFLYd3NMT"
      }
    },
    {
      "cell_type": "markdown",
      "source": [
        "## Code.5-4-1 : Models with Sequential Method"
      ],
      "metadata": {
        "id": "4VMQYeEr3T-B"
      }
    },
    {
      "cell_type": "code",
      "execution_count": 8,
      "metadata": {
        "colab": {
          "base_uri": "https://localhost:8080/"
        },
        "id": "lbO0zH6mx3KW",
        "outputId": "704cb084-e5d6-4c27-ef1d-b2009e9e4145"
      },
      "outputs": [
        {
          "output_type": "stream",
          "name": "stdout",
          "text": [
            "input: (32, 28, 28, 3)\n",
            "output: (32, 22, 22, 30)\n",
            "(3, 3, 3, 10) (10,)\n",
            "(3, 3, 10, 20) (20,)\n",
            "(3, 3, 20, 30) (30,)\n",
            "(3, 3, 3, 10)\n",
            "(10,)\n",
            "(3, 3, 10, 20)\n",
            "(20,)\n",
            "(3, 3, 20, 30)\n",
            "(30,)\n"
          ]
        }
      ],
      "source": [
        "from tensorflow.python.ops.variables import trainable_variables\n",
        "import tensorflow as tf\n",
        "from tensorflow.keras.models import Sequential\n",
        "from tensorflow.keras.layers import Conv2D\n",
        "\n",
        "n_neurons = [10,20,30]\n",
        "\n",
        "model = Sequential()\n",
        "model.add(Conv2D(filters = n_neurons[0],kernel_size =3, activation = 'relu'))\n",
        "model.add(Conv2D(filters = n_neurons[1],kernel_size =3,  activation = 'relu'))\n",
        "model.add(Conv2D(filters = n_neurons[2],kernel_size =3,  activation = 'relu'))\n",
        "\n",
        "x = tf.random.normal(shape=(32, 28, 28, 3))\n",
        "predictions = model(x)\n",
        "\n",
        "print(\"input: {}\".format(x.shape))\n",
        "print(\"output: {}\".format(predictions.shape))\n",
        "\n",
        "for layer in model.layers:\n",
        "  W, B = layer.get_weights()\n",
        "  print(W.shape, B.shape)\n",
        "\n",
        "trainable_variables = model.trainable_variables\n",
        "for train_var in trainable_variables:\n",
        "  print(train_var.shape)"
      ]
    },
    {
      "cell_type": "markdown",
      "source": [
        "## Code.5-4-2 : Models with Model Sub-classing"
      ],
      "metadata": {
        "id": "hP25n74U7Ni_"
      }
    },
    {
      "cell_type": "code",
      "source": [
        "import tensorflow as tf\n",
        "\n",
        "from tensorflow.keras.models import Model\n",
        "from tensorflow.keras.layers import Conv2D\n",
        "\n",
        "n_neurons = [10,20,30]\n",
        "\n",
        "class TestModel(Model):\n",
        "  def __init__(self):\n",
        "    super(TestModel, self).__init__()\n",
        "    global n_neurons\n",
        "\n",
        "    self.conv_layers =[]\n",
        "    for n_neuron in n_neurons:\n",
        "      self.conv_layers.append(Conv2D(filters = n_neuron, kernel_size = 3, activation = 'relu'))\n",
        "\n",
        "\n",
        "  def call(self, x):\n",
        "    # print(\"Input : \", x.shape)\n",
        "\n",
        "    # print(\"\\n ======Conv Layers ======\\n\")\n",
        "    for conv_layer in self.conv_layers:\n",
        "      x = conv_layer(x)\n",
        "      W, B = conv_layer.get_weights()\n",
        "      # print(\"W/B : {}/{}\".format(W.shape, B.shape))\n",
        "      # print(\"X : {}\\n\".format(x.shape))\n",
        "    return x\n",
        "\n",
        "model = TestModel()\n",
        "x = tf.random.normal(shape = (32,28,28,3))\n",
        "predictions = model(x)\n",
        "\n",
        "\n",
        "print(\"input: {}\".format(x.shape))\n",
        "print(\"output: {}\".format(predictions.shape))\n",
        "\n",
        "for layer in model.layers:\n",
        "  W, B = layer.get_weights()\n",
        "  # print(W.shape, B.shape)\n",
        "\n",
        "trainable_variables = model.trainable_variables\n",
        "for train_var in trainable_variables:\n",
        "  print(train_var.shape)"
      ],
      "metadata": {
        "colab": {
          "base_uri": "https://localhost:8080/"
        },
        "id": "JYGBYLOP41a6",
        "outputId": "e114bb6d-fc99-453f-bec0-3c15cc16aa89"
      },
      "execution_count": 21,
      "outputs": [
        {
          "output_type": "stream",
          "name": "stdout",
          "text": [
            "input: (32, 28, 28, 3)\n",
            "output: (32, 22, 22, 30)\n",
            "(3, 3, 3, 10)\n",
            "(10,)\n",
            "(3, 3, 10, 20)\n",
            "(20,)\n",
            "(3, 3, 20, 30)\n",
            "(30,)\n"
          ]
        }
      ]
    },
    {
      "cell_type": "code",
      "source": [
        "# Flexible Method\n",
        "\n",
        "class TestModel(Model):\n",
        "  def __init__(self):\n",
        "    super(TestModel, self).__init__()\n",
        "    global n_neurons\n",
        "\n",
        "    self.conv1 = Conv2D(filters = n_neurons[0], kernel_size = 3, activation = 'relu')\n",
        "    self.conv2 = Conv2D(filters = n_neurons[1], kernel_size = 3, activation = 'relu')\n",
        "    self.conv3 = Conv2D(filters = n_neurons[2], kernel_size = 3, activation = 'relu')\n",
        "    \n",
        "  def call(self, x):\n",
        "    x = self.conv1(x)\n",
        "    x = self.conv2(x)\n",
        "    x = self.conv3(x)\n",
        "    return x"
      ],
      "metadata": {
        "id": "glYfAV0-8TYL"
      },
      "execution_count": 22,
      "outputs": []
    },
    {
      "cell_type": "code",
      "source": [],
      "metadata": {
        "id": "4EkPG8n3_JAI"
      },
      "execution_count": null,
      "outputs": []
    }
  ]
}