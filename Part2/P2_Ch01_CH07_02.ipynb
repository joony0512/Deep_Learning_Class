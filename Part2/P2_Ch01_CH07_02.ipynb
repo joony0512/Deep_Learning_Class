{
  "nbformat": 4,
  "nbformat_minor": 0,
  "metadata": {
    "colab": {
      "provenance": [],
      "authorship_tag": "ABX9TyOyztsQTS4lsVt6TY5ylilH",
      "include_colab_link": true
    },
    "kernelspec": {
      "name": "python3",
      "display_name": "Python 3"
    },
    "language_info": {
      "name": "python"
    }
  },
  "cells": [
    {
      "cell_type": "markdown",
      "metadata": {
        "id": "view-in-github",
        "colab_type": "text"
      },
      "source": [
        "<a href=\"https://colab.research.google.com/github/joony0512/Deep_Learning_Class/blob/main/Part2/P2_Ch01_CH07_02.ipynb\" target=\"_parent\"><img src=\"https://colab.research.google.com/assets/colab-badge.svg\" alt=\"Open In Colab\"/></a>"
      ]
    },
    {
      "cell_type": "markdown",
      "source": [
        "# 7-1 :Shapes in CNNs"
      ],
      "metadata": {
        "id": "HzBLVmUy2eEx"
      }
    },
    {
      "cell_type": "markdown",
      "source": [
        "## Code.7-1-1 : Shapes in the Feature Extractions"
      ],
      "metadata": {
        "id": "FYG2n65J2kKt"
      }
    },
    {
      "cell_type": "code",
      "execution_count": null,
      "metadata": {
        "colab": {
          "base_uri": "https://localhost:8080/"
        },
        "id": "7znMiaL_2UJS",
        "outputId": "636e9fe5-42e5-46cf-ad77-e42bc0cd67a0"
      },
      "outputs": [
        {
          "output_type": "stream",
          "name": "stdout",
          "text": [
            "Input : (32, 28, 28, 3)\n",
            "\n",
            "W/B : (3, 3, 3, 5)/(5,)\n",
            "After conv1 : (32, 28, 28, 5)\n",
            "\n",
            "After conv1_pool : (32, 14, 14, 5)\n",
            "\n",
            "W/B : (3, 3, 5, 5)/(5,)\n",
            "After conv2 : (32, 14, 14, 5)\n",
            "\n",
            "After conv2_pool : (32, 7, 7, 5)\n",
            "\n",
            "After flatten : (32, 245)\n",
            "\n"
          ]
        }
      ],
      "source": [
        "import tensorflow as tf\n",
        "from tensorflow.keras.layers import Conv2D\n",
        "from tensorflow.keras.layers import MaxPooling2D\n",
        "from tensorflow.keras.layers import Flatten\n",
        "\n",
        "N, n_H, n_W, n_C = 32,28, 28, 3\n",
        "n_conv_filter =5\n",
        "k_size = 3\n",
        "pool_size, pool_strides = 2, 2\n",
        "batch_size = 32\n",
        "\n",
        "x = tf.random.normal(shape = (N, n_H, n_W, n_C))\n",
        "\n",
        "conv1 = Conv2D(filters = n_conv_filter, kernel_size = k_size,\n",
        "              padding = 'same', activation = 'relu')\n",
        "conv1_pool = MaxPooling2D(pool_size = pool_size , strides = pool_strides)\n",
        "\n",
        "conv2 = Conv2D(filters = n_conv_filter, kernel_size = k_size,\n",
        "              padding = 'same', activation = 'relu')\n",
        "conv2_pool = MaxPooling2D(pool_size = pool_size , strides = pool_strides)\n",
        "\n",
        "flatten = Flatten()\n",
        "\n",
        "print(\"Input : {}\\n\".format(x.shape))\n",
        "x = conv1(x)\n",
        "W, B = conv1.get_weights()\n",
        "print('W/B : {}/{}'.format(W.shape, B.shape))\n",
        "print(\"After conv1 : {}\\n\".format(x.shape))\n",
        "x = conv1_pool(x)\n",
        "print(\"After conv1_pool : {}\\n\".format(x.shape))\n",
        "\n",
        "\n",
        "x = conv2(x)\n",
        "W, B = conv2.get_weights()\n",
        "print('W/B : {}/{}'.format(W.shape, B.shape))\n",
        "print(\"After conv2 : {}\\n\".format(x.shape))\n",
        "x = conv2_pool(x)\n",
        "print(\"After conv2_pool : {}\\n\".format(x.shape))\n",
        "\n",
        "x = flatten(x)\n",
        "print(\"After flatten : {}\\n\".format(x.shape))\n"
      ]
    },
    {
      "cell_type": "markdown",
      "source": [
        "## Code.7-1-2:Shapes in the Classifier"
      ],
      "metadata": {
        "id": "c5BN7h-f2rTu"
      }
    },
    {
      "cell_type": "code",
      "source": [
        "from tensorflow.keras.layers import Dense\n",
        "\n",
        "n_neurons = [50,25,10]\n",
        "\n",
        "dense1 = Dense(units = n_neurons[0], activation = 'relu')\n",
        "dense2 = Dense(units = n_neurons[1], activation = 'relu')\n",
        "dense3 = Dense(units = n_neurons[2], activation = 'softmax')\n",
        "\n",
        "print('Input feature : {}'.format(x.shape))\n",
        "x = dense1(x)\n",
        "W, B = dense1.get_weights()\n",
        "print('W/B : {}/{}'.format(W.shape, B.shape))\n",
        "print(\"After dense1 : {}\\n\".format(x.shape))\n",
        "\n",
        "x = dense2(x)\n",
        "W, B = dense2.get_weights()\n",
        "print('W/B : {}/{}'.format(W.shape, B.shape))\n",
        "print(\"After dense2 : {}\\n\".format(x.shape))\n",
        "\n",
        "x = dense3(x)\n",
        "W, B = dense3.get_weights()\n",
        "print('W/B : {}/{}'.format(W.shape, B.shape))\n",
        "print(\"After dense3 : {}\\n\".format(x.shape))\n",
        "\n"
      ],
      "metadata": {
        "colab": {
          "base_uri": "https://localhost:8080/"
        },
        "id": "rvZ5ZQ4623o_",
        "outputId": "e281fbbf-64ad-4756-daee-3b65b72adc31"
      },
      "execution_count": null,
      "outputs": [
        {
          "output_type": "stream",
          "name": "stdout",
          "text": [
            "Input feature : (32, 245)\n",
            "W/B : (245, 50)/(50,)\n",
            "After dense1 : (32, 50)\n",
            "\n",
            "W/B : (50, 25)/(25,)\n",
            "After dense2 : (32, 25)\n",
            "\n",
            "W/B : (25, 10)/(10,)\n",
            "After dense3 : (32, 10)\n",
            "\n"
          ]
        }
      ]
    },
    {
      "cell_type": "markdown",
      "source": [
        "## Code.7-1-3:Shapes in the Loss Functions"
      ],
      "metadata": {
        "id": "dkyuKrju24IB"
      }
    },
    {
      "cell_type": "code",
      "source": [
        "from tensorflow.keras.losses import CategoricalCrossentropy\n",
        "\n",
        "y = tf.random.uniform(minval = 0, maxval =10,\n",
        "                      shape = (32,),\n",
        "                      dtype = tf.int32)\n",
        "y = tf.one_hot(y, depth = 10)\n",
        "loss_object = CategoricalCrossentropy()\n",
        "loss = loss_object(y, x)\n",
        "print(loss.shape)\n",
        "print(loss)"
      ],
      "metadata": {
        "colab": {
          "base_uri": "https://localhost:8080/"
        },
        "id": "tGBvEr7h29JJ",
        "outputId": "af19dfc1-6640-4807-b8eb-29d1ceb0dc5f"
      },
      "execution_count": null,
      "outputs": [
        {
          "output_type": "stream",
          "name": "stdout",
          "text": [
            "()\n",
            "tf.Tensor(2.396417, shape=(), dtype=float32)\n"
          ]
        }
      ]
    },
    {
      "cell_type": "code",
      "source": [],
      "metadata": {
        "id": "baEjxjaD74mi"
      },
      "execution_count": null,
      "outputs": []
    }
  ]
}