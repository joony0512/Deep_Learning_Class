{
  "nbformat": 4,
  "nbformat_minor": 0,
  "metadata": {
    "colab": {
      "provenance": [],
      "authorship_tag": "ABX9TyO7EjDvFRjHBYt1W8J0sZxP",
      "include_colab_link": true
    },
    "kernelspec": {
      "name": "python3",
      "display_name": "Python 3"
    },
    "language_info": {
      "name": "python"
    }
  },
  "cells": [
    {
      "cell_type": "markdown",
      "metadata": {
        "id": "view-in-github",
        "colab_type": "text"
      },
      "source": [
        "<a href=\"https://colab.research.google.com/github/joony0512/Deep_Learning_Class/blob/main/Part2/P2_Ch01_CH07_03.ipynb\" target=\"_parent\"><img src=\"https://colab.research.google.com/assets/colab-badge.svg\" alt=\"Open In Colab\"/></a>"
      ]
    },
    {
      "cell_type": "markdown",
      "source": [
        "# 7-1 : Implementation of CNNs\n"
      ],
      "metadata": {
        "id": "9WEHgcYHORmR"
      }
    },
    {
      "cell_type": "markdown",
      "source": [
        "### Code.7-1-1 : Implementation with Sequential Method\n"
      ],
      "metadata": {
        "id": "sQYDhmyOOR10"
      }
    },
    {
      "cell_type": "code",
      "execution_count": 3,
      "metadata": {
        "colab": {
          "base_uri": "https://localhost:8080/"
        },
        "id": "ufqRQeJKOMwq",
        "outputId": "7ad5f813-7a9e-4196-9967-49578896096d"
      },
      "outputs": [
        {
          "output_type": "stream",
          "name": "stdout",
          "text": [
            "(4, 28, 28, 3)\n",
            "(4, 10)\n"
          ]
        }
      ],
      "source": [
        "import tensorflow as tf\n",
        "from tensorflow.keras.models import Sequential\n",
        "from tensorflow.keras.layers import Conv2D\n",
        "from tensorflow.keras.layers import MaxPooling2D\n",
        "from tensorflow.keras.layers import Flatten\n",
        "from tensorflow.keras.layers import Dense\n",
        "\n",
        "N, n_H, n_W, n_C = 4,28,28,3\n",
        "n_conv_neurons = [10, 20, 30]\n",
        "n_dense_neurons =[50,30,10]\n",
        "k_size , padding = 3, 'same'\n",
        "pool_size , pool_strides = 2,2\n",
        "activation = 'relu'\n",
        "x = tf.random.normal(shape = (N, n_H, n_W, n_C))\n",
        "print(x.shape)\n",
        "model = Sequential()\n",
        "model.add(Conv2D(filters = n_conv_neurons[0], kernel_size = k_size, padding = padding,\n",
        "          activation = activation))\n",
        "model.add(MaxPooling2D(pool_size = pool_size , strides = pool_strides))\n",
        "model.add(Conv2D(filters = n_conv_neurons[1], kernel_size = k_size, padding = padding,\n",
        "          activation = activation))\n",
        "model.add(MaxPooling2D(pool_size = pool_size , strides = pool_strides))\n",
        "model.add(Conv2D(filters = n_conv_neurons[2], kernel_size = k_size, padding = padding,\n",
        "          activation = activation))\n",
        "model.add(MaxPooling2D(pool_size = pool_size , strides = pool_strides))\n",
        "model.add(Flatten())\n",
        "\n",
        "model.add(Dense(units= n_dense_neurons[0], activation = activation))\n",
        "model.add(Dense(units= n_dense_neurons[1], activation = activation))\n",
        "model.add(Dense(units= n_dense_neurons[2], activation = 'softmax')) #classfier\n",
        "\n",
        "predictions = model(x)\n",
        "print(predictions.shape)"
      ]
    },
    {
      "cell_type": "code",
      "source": [
        "model = Sequential()\n",
        "for n_conv_neuron in n_conv_neurons:\n",
        "  model.add(Conv2D(filters = n_conv_neuron, kernel_size = k_size, padding = padding,\n",
        "          activation = activation))\n",
        "  model.add(MaxPooling2D(pool_size = pool_size , strides = pool_strides))\n",
        "\n",
        "model.add(Flatten())\n",
        "\n",
        "for n_dense_neuron in n_dense_neurons:\n",
        "  model.add(Dense(units= n_dense_neuron, activation = activation))\n",
        "model.add(Dense(units= n_dense_neurons[-1], activation = 'softmax')) #classfier\n",
        "\n",
        "\n",
        "predictions = model(x)\n",
        "print(predictions.shape)"
      ],
      "metadata": {
        "colab": {
          "base_uri": "https://localhost:8080/"
        },
        "id": "ey8PL5euTSdy",
        "outputId": "df655673-b87b-4e24-d821-c86972aa4e3d"
      },
      "execution_count": 5,
      "outputs": [
        {
          "output_type": "stream",
          "name": "stdout",
          "text": [
            "(4, 10)\n"
          ]
        }
      ]
    },
    {
      "cell_type": "markdown",
      "source": [
        "### Code.7-1-2 : Implementation with Model Sub-classing"
      ],
      "metadata": {
        "id": "FNyWUh4LUuMW"
      }
    },
    {
      "cell_type": "code",
      "source": [
        "import tensorflow as tf\n",
        "from tensorflow.keras.models import Model\n",
        "\n",
        "from tensorflow.keras.layers import Conv2D\n",
        "from tensorflow.keras.layers import MaxPooling2D\n",
        "from tensorflow.keras.layers import Flatten\n",
        "from tensorflow.keras.layers import Dense\n",
        "\n",
        "\n",
        "class TestCNN(Model):\n",
        "  def __init__(self):\n",
        "    super(TestCNN, self).__init__() #global field 그대로 사용\n",
        "\n",
        "    self.conv1 = Conv2D(filters = n_conv_neurons[0], kernel_size = k_size, padding = padding,\n",
        "          activation = activation)\n",
        "    self.conv1_pool = MaxPooling2D(pool_size = pool_size, strides = pool_strides)\n",
        "    \n",
        "    self.conv2 = Conv2D(filters = n_conv_neurons[1], kernel_size = k_size, padding = padding,\n",
        "          activation = activation)\n",
        "    self.conv2_pool = MaxPooling2D(pool_size = pool_size, strides = pool_strides)\n",
        "    \n",
        "    self.conv3 = Conv2D(filters = n_conv_neurons[2], kernel_size = k_size, padding = padding,\n",
        "          activation = activation)\n",
        "    self.conv3_pool = MaxPooling2D(pool_size = pool_size, strides = pool_strides)\n",
        "    self.flatten = Flatten()\n",
        "\n",
        "    self.dense1 = Dense(units= n_dense_neurons[0], activation = activation)\n",
        "    self.dense2 = Dense(units= n_dense_neurons[1], activation = activation)\n",
        "    self.dense3 = Dense(units= n_dense_neurons[2], activation = 'softmax')\n",
        "\n",
        "  def call(self, x):\n",
        "    print(x.shape)\n",
        "    x = self.conv1(x)\n",
        "    print(x.shape)\n",
        "    x = self.conv1_pool(x)\n",
        "    print(x.shape)\n",
        "    x = self.conv2(x)\n",
        "    print(x.shape)\n",
        "    x = self.conv2_pool(x)\n",
        "    print(x.shape)\n",
        "    x = self.conv3(x)\n",
        "    print(x.shape)\n",
        "    x = self.conv3_pool(x)\n",
        "    print(x.shape)\n",
        "    x = self.flatten(x)\n",
        "    print(x.shape)\n",
        "\n",
        "    x = self.dense1(x)\n",
        "    print(x.shape)\n",
        "    x = self.dense2(x)\n",
        "    print(x.shape)\n",
        "    x = self.dense3(x)\n",
        "    print(x.shape)\n",
        "    return x\n",
        "\n",
        "\n",
        "#global field\n",
        "N, n_H, n_W, n_C = 4,28,28,3\n",
        "n_conv_neurons = [10, 20, 30]\n",
        "n_dense_neurons =[50,30,10]\n",
        "k_size , padding = 3, 'same'\n",
        "pool_size , pool_strides = 2,2\n",
        "activation = 'relu'\n",
        "x = tf.random.normal(shape = (N, n_H, n_W, n_C))\n",
        "\n",
        "model = TestCNN()\n",
        "y = model(x)\n",
        "\n",
        "\n"
      ],
      "metadata": {
        "colab": {
          "base_uri": "https://localhost:8080/"
        },
        "id": "Jr5g4qsxUQea",
        "outputId": "d2a9f571-4873-44b2-a220-dc8f8ffb42e5"
      },
      "execution_count": 16,
      "outputs": [
        {
          "output_type": "stream",
          "name": "stdout",
          "text": [
            "(4, 28, 28, 3)\n",
            "(4, 28, 28, 10)\n",
            "(4, 14, 14, 10)\n",
            "(4, 14, 14, 20)\n",
            "(4, 7, 7, 20)\n",
            "(4, 7, 7, 30)\n",
            "(4, 3, 3, 30)\n",
            "(4, 270)\n",
            "(4, 50)\n",
            "(4, 30)\n",
            "(4, 10)\n",
            "(4, 10)\n"
          ]
        }
      ]
    },
    {
      "cell_type": "markdown",
      "source": [
        "### Code.7-1-3: Implementation with Sequential + Layer Sub-classing"
      ],
      "metadata": {
        "id": "tyOhfdVmUXQh"
      }
    },
    {
      "cell_type": "code",
      "source": [
        "import tensorflow as tf\n",
        "from tensorflow.keras.models import Sequential\n",
        "from tensorflow.keras.layers import Layer\n",
        "\n",
        "from tensorflow.keras.layers import Conv2D\n",
        "from tensorflow.keras.layers import MaxPooling2D\n",
        "from tensorflow.keras.layers import Flatten\n",
        "from tensorflow.keras.layers import Dense\n",
        "\n",
        "\n",
        "\n",
        "#global field\n",
        "N, n_H, n_W, n_C = 4,28,28,3\n",
        "n_conv_neurons = [10, 20, 30]\n",
        "n_dense_neurons =[50,30,10]\n",
        "k_size , padding = 3, 'same'\n",
        "pool_size , pool_strides = 2,2\n",
        "activation = 'relu'\n",
        "x = tf.random.normal(shape = (N, n_H, n_W, n_C))\n",
        "\n",
        "# Custom Layer 만들기\n",
        "class MyConv(Layer):\n",
        "  def __init__(self, n_neuron):\n",
        "    super(MyConv, self).__init__()\n",
        "    self.conv =Conv2D(filters = n_neuron, kernel_size = k_size, padding = padding,\n",
        "          activation = activation)\n",
        "    self.conv_pool = MaxPooling2D(pool_size = pool_size, strides = pool_strides)\n",
        "\n",
        "  def call(self, x):\n",
        "    x = self.conv(x)\n",
        "    x = self.conv_pool(x)\n",
        "    return x\n",
        "\n",
        "model = Sequential()\n",
        "model.add(MyConv(n_conv_neurons[0]))\n",
        "model.add(MyConv(n_conv_neurons[1]))\n",
        "model.add(MyConv(n_conv_neurons[2]))\n",
        "model.add(Flatten())\n",
        "\n",
        "model.add(Dense(units= n_dense_neurons[0], activation = activation))\n",
        "model.add(Dense(units= n_dense_neurons[1], activation = activation))\n",
        "model.add(Dense(units= n_dense_neurons[2], activation = 'softmax')) #classfier\n",
        "\n",
        "\n",
        "y = model(x)\n",
        "print(y.shape)"
      ],
      "metadata": {
        "colab": {
          "base_uri": "https://localhost:8080/"
        },
        "id": "RnW58WHEX0pm",
        "outputId": "dd1d837b-e0d9-4e94-e76b-ae36564baefd"
      },
      "execution_count": 18,
      "outputs": [
        {
          "output_type": "stream",
          "name": "stdout",
          "text": [
            "(4, 10)\n"
          ]
        }
      ]
    },
    {
      "cell_type": "markdown",
      "source": [
        "### Code.7-1-4: Implementation with Model and Layer Sub-classing"
      ],
      "metadata": {
        "id": "td90y4XiboRd"
      }
    },
    {
      "cell_type": "code",
      "source": [
        "import tensorflow as tf\n",
        "from tensorflow.keras.models import Sequential\n",
        "from tensorflow.keras.layers import Layer\n",
        "\n",
        "from tensorflow.keras.layers import Conv2D\n",
        "from tensorflow.keras.layers import MaxPooling2D\n",
        "from tensorflow.keras.layers import Flatten\n",
        "from tensorflow.keras.layers import Dense\n",
        "\n",
        "\n",
        "class MyConv(Layer):\n",
        "  def __init__(self, n_neuron):\n",
        "    super(MyConv, self).__init__()\n",
        "    self.conv =Conv2D(filters = n_neuron, kernel_size = k_size, padding = padding,\n",
        "          activation = activation)\n",
        "    self.conv_pool = MaxPooling2D(pool_size = pool_size, strides = pool_strides)\n",
        "\n",
        "  def call(self, x):\n",
        "    x = self.conv(x)\n",
        "    x = self.conv_pool(x)\n",
        "    return x\n",
        "\n",
        "\n",
        "class TestCNN(Model):\n",
        "  def __init__(self):\n",
        "    super(TestCNN, self).__init__() #global field 그대로 사용\n",
        "\n",
        "    self.conv1 = MyConv(n_conv_neurons[0])    \n",
        "    self.conv2 = MyConv(n_conv_neurons[1])    \n",
        "    self.conv3 = MyConv(n_conv_neurons[2])    \n",
        "    self.flatten = Flatten()\n",
        "\n",
        "    self.dense1 = Dense(units= n_dense_neurons[0], activation = activation)\n",
        "    self.dense2 = Dense(units= n_dense_neurons[1], activation = activation)\n",
        "    self.dense3 = Dense(units= n_dense_neurons[2], activation = 'softmax')\n",
        "\n",
        "  def call(self, x):\n",
        "    x = self.conv1(x)\n",
        "    x = self.conv2(x)\n",
        "    x = self.conv3(x)\n",
        "    x = self.flatten(x)\n",
        "\n",
        "    x = self.dense1(x)\n",
        "    x = self.dense2(x)\n",
        "    x = self.dense3(x)\n",
        "    return x\n",
        "\n"
      ],
      "metadata": {
        "id": "ELIsjCPSZ-RI"
      },
      "execution_count": 19,
      "outputs": []
    },
    {
      "cell_type": "code",
      "source": [
        "import tensorflow as tf\n",
        "from tensorflow.keras.models import Sequential\n",
        "from tensorflow.keras.models import Model\n",
        "\n",
        "from tensorflow.keras.layers import Conv2D\n",
        "from tensorflow.keras.layers import MaxPooling2D\n",
        "from tensorflow.keras.layers import Flatten\n",
        "from tensorflow.keras.layers import Dense\n",
        "\n",
        "\n",
        "class MyConv(Layer):\n",
        "  def __init__(self, n_neuron):\n",
        "    super(MyConv, self).__init__()\n",
        "    self.conv =Conv2D(filters = n_neuron, kernel_size = k_size, padding = padding,\n",
        "          activation = activation)\n",
        "    self.conv_pool = MaxPooling2D(pool_size = pool_size, strides = pool_strides)\n",
        "\n",
        "  def call(self, x):\n",
        "    x = self.conv(x)\n",
        "    x = self.conv_pool(x)\n",
        "    return x\n",
        "\n",
        "class TestCNN(Model):\n",
        "  def __init__(self):\n",
        "    super(TestCNN, self).__init__() #global field 그대로 사용\n",
        "    self.fe = Sequential() #fe = feature extractor\n",
        "\n",
        "    self.fe.add(MyConv(n_conv_neurons[0]))\n",
        "    self.fe.add(MyConv(n_conv_neurons[1]))\n",
        "    self.fe.add(MyConv(n_conv_neurons[2]))\n",
        "    self.fe.add(Flatten()) #fully connected\n",
        "\n",
        "    self.classfier = Sequential()\n",
        "    self.classfier.add( Dense(units= n_dense_neurons[0], activation = activation))\n",
        "    self.classfier.add( Dense(units= n_dense_neurons[1], activation = activation))\n",
        "    self.classfier.add( Dense(units= n_dense_neurons[2], activation = 'softmax'))\n",
        "\n",
        "  def call(self, x):\n",
        "    # x = self.conv1(x)\n",
        "    # x = self.conv2(x)\n",
        "    # x = self.conv3(x)\n",
        "    # x = self.flatten(x)\n",
        "    x= self.fe(x)\n",
        "    \n",
        "    # x = self.dense1(x)\n",
        "    # x = self.dense2(x)\n",
        "    # x = self.dense3(x)\n",
        "    x=self.classfier(x)\n",
        "    return x\n",
        "\n"
      ],
      "metadata": {
        "id": "R8npjWE6fcnT"
      },
      "execution_count": 20,
      "outputs": []
    },
    {
      "cell_type": "code",
      "source": [],
      "metadata": {
        "id": "sg_GSR3dkXUS"
      },
      "execution_count": null,
      "outputs": []
    }
  ]
}