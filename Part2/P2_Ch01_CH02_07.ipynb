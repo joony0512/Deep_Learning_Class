{
  "nbformat": 4,
  "nbformat_minor": 0,
  "metadata": {
    "colab": {
      "provenance": [],
      "authorship_tag": "ABX9TyPDg9HnlFEISgPzVJtoS8c4",
      "include_colab_link": true
    },
    "kernelspec": {
      "name": "python3",
      "display_name": "Python 3"
    },
    "language_info": {
      "name": "python"
    }
  },
  "cells": [
    {
      "cell_type": "markdown",
      "metadata": {
        "id": "view-in-github",
        "colab_type": "text"
      },
      "source": [
        "<a href=\"https://colab.research.google.com/github/joony0512/Deep_Learning_Class/blob/main/Part2/P2_Ch01_CH02_07.ipynb\" target=\"_parent\"><img src=\"https://colab.research.google.com/assets/colab-badge.svg\" alt=\"Open In Colab\"/></a>"
      ]
    },
    {
      "cell_type": "markdown",
      "source": [
        "# 2-3:  Model Implementation\n",
        "\n"
      ],
      "metadata": {
        "id": "gFVe-AEoFRiY"
      }
    },
    {
      "cell_type": "markdown",
      "source": [
        "### Code.2-3-1 : Model Implementation with Sequential Method"
      ],
      "metadata": {
        "id": "2saROna8Fdou"
      }
    },
    {
      "cell_type": "code",
      "source": [
        "from tensorflow.keras.layers import Dense\n",
        "from tensorflow.keras.models import Sequential\n",
        "\n",
        "# n_neurons = [3,4,5,6]\n",
        "\n",
        "# model =list()\n",
        "# for n_neuron in n_neurons:\n",
        "#   model.append(Dense(units=n_neuron, activation = 'sigmoid'))\n",
        "\n",
        "# model = Sequential()\n",
        "# for n_neuron in n_neurons:\n",
        "#   model.add(Dense(units = n_neuron, activation = 'sigmoid'))\n",
        "\n",
        "model = Sequential()\n",
        "model.add(Dense(units = 10, activation = 'sigmoid'))\n",
        "model.add(Dense(units = 20, activation = 'sigmoid'))"
      ],
      "metadata": {
        "id": "xN0Hp9sWFpl5"
      },
      "execution_count": 4,
      "outputs": []
    },
    {
      "cell_type": "markdown",
      "source": [
        "### Code.2-3-2 : Model Implementation with Model-subclassing"
      ],
      "metadata": {
        "id": "9xF57IN6GI-V"
      }
    },
    {
      "cell_type": "code",
      "source": [
        "from tensorflow.keras.layers import Dense\n",
        "from tensorflow.keras.models import Model\n",
        "# model 상속\n",
        "class TestModel(Model):\n",
        "  def __init__(self):\n",
        "    super(TestModel, self).__init__()\n",
        "    self.dense1 = Dense(units = 10, activation = 'sigmoid')\n",
        "    self.dense2 = Dense(units = 20, activation = 'sigmoid')\n",
        "\n",
        "model = TestModel()\n"
      ],
      "metadata": {
        "id": "gB_UMDcvF8kl"
      },
      "execution_count": 6,
      "outputs": []
    },
    {
      "cell_type": "markdown",
      "source": [
        "### Code.2-3-3 : Forward Propagation of Models"
      ],
      "metadata": {
        "id": "OZ_xHwYqJJHr"
      }
    },
    {
      "cell_type": "code",
      "source": [
        "import tensorflow as tf\n",
        "\n",
        "from tensorflow.keras.layers import Dense\n",
        "\n",
        "from tensorflow.keras.models import Sequential\n",
        "from tensorflow.keras.models import Model\n",
        "\n",
        "X= tf.random.normal(shape = (4,10))\n",
        "\n",
        "#sequential method\n",
        "model = Sequential()\n",
        "model.add(Dense(units = 10, activation ='sigmoid'))\n",
        "model.add(Dense(units = 20, activation = 'sigmoid'))\n",
        "\n",
        "Y = model(X)\n",
        "# print(Y.numpy())\n",
        "\n",
        "#Model-subclassing\n",
        "class TestModel(Model):\n",
        "  def __init__(self):\n",
        "    super(TestModel, self).__init__()\n",
        "\n",
        "    self.dense1 = Dense(units =10, activation = 'sigmoid')\n",
        "    self.dense2 = Dense(units = 20 , activation = 'sigmoid')\n",
        "  \n",
        "  def call(self, x):\n",
        "    x= self.dense1(x)\n",
        "    x= self.dense2(x)\n",
        "    return x\n",
        "\n",
        "model = TestModel()\n",
        "Y = model(X)\n",
        "\n"
      ],
      "metadata": {
        "id": "vl9eolICJSHI"
      },
      "execution_count": 10,
      "outputs": []
    },
    {
      "cell_type": "markdown",
      "source": [
        "### Code.2-3-4: Layers in Models"
      ],
      "metadata": {
        "id": "0M0WmBtGTPo9"
      }
    },
    {
      "cell_type": "code",
      "source": [
        "import tensorflow as tf\n",
        "from tensorflow.keras.layers import Dense\n",
        "from tensorflow.keras.models import Model\n",
        "from tensorflow.keras.models import Sequential\n",
        "X= tf.random.normal(shape=(4,10))\n",
        "model = Sequential()\n",
        "model.add(Dense(units = 10, activation = 'sigmoid'))\n",
        "model.add(Dense(units = 20, activation = 'sigmoid'))\n",
        "\n",
        "Y = model(X)\n",
        "print(type(model.layers))\n",
        "print(model.layers)\n",
        "\n",
        "dense1 = model.layers[0]\n",
        "for tmp in dir(dense1):\n",
        "  print(tmp)\n",
        "\n",
        "for layer in model.layers:\n",
        "  w, b = layer.get_weights()\n",
        "  print(w.shape, b.shape)"
      ],
      "metadata": {
        "colab": {
          "base_uri": "https://localhost:8080/"
        },
        "id": "2PUJDjk6Lbrt",
        "outputId": "c9618693-527a-448f-98b8-f3f31f3a2825"
      },
      "execution_count": 14,
      "outputs": [
        {
          "output_type": "stream",
          "name": "stdout",
          "text": [
            "<class 'list'>\n",
            "[<keras.layers.core.dense.Dense object at 0x7f187f27c290>, <keras.layers.core.dense.Dense object at 0x7f187f67b250>]\n",
            "_TF_MODULE_IGNORED_PROPERTIES\n",
            "__call__\n",
            "__class__\n",
            "__delattr__\n",
            "__dict__\n",
            "__dir__\n",
            "__doc__\n",
            "__eq__\n",
            "__format__\n",
            "__ge__\n",
            "__getattribute__\n",
            "__getstate__\n",
            "__gt__\n",
            "__hash__\n",
            "__init__\n",
            "__init_subclass__\n",
            "__le__\n",
            "__lt__\n",
            "__module__\n",
            "__ne__\n",
            "__new__\n",
            "__reduce__\n",
            "__reduce_ex__\n",
            "__repr__\n",
            "__setattr__\n",
            "__setstate__\n",
            "__sizeof__\n",
            "__str__\n",
            "__subclasshook__\n",
            "__weakref__\n",
            "_activity_regularizer\n",
            "_add_trackable\n",
            "_add_trackable_child\n",
            "_add_variable_with_custom_getter\n",
            "_auto_track_sub_layers\n",
            "_autocast\n",
            "_autographed_call\n",
            "_build_input_shape\n",
            "_call_accepts_kwargs\n",
            "_call_arg_was_passed\n",
            "_call_fn_arg_defaults\n",
            "_call_fn_arg_positions\n",
            "_call_fn_args\n",
            "_call_full_argspec\n",
            "_callable_losses\n",
            "_captured_weight_regularizer\n",
            "_cast_single_input\n",
            "_checkpoint_dependencies\n",
            "_clear_losses\n",
            "_compute_dtype\n",
            "_compute_dtype_object\n",
            "_dedup_weights\n",
            "_default_training_arg\n",
            "_deferred_dependencies\n",
            "_delete_tracking\n",
            "_deserialization_dependencies\n",
            "_deserialize_from_proto\n",
            "_dtype\n",
            "_dtype_policy\n",
            "_dynamic\n",
            "_eager_losses\n",
            "_expects_mask_arg\n",
            "_expects_training_arg\n",
            "_export_to_saved_model_graph\n",
            "_flatten\n",
            "_flatten_layers\n",
            "_flatten_modules\n",
            "_functional_construction_call\n",
            "_gather_children_attribute\n",
            "_gather_saveables_for_checkpoint\n",
            "_get_call_arg_value\n",
            "_get_cell_name\n",
            "_get_existing_metric\n",
            "_get_input_masks\n",
            "_get_legacy_saved_model_children\n",
            "_get_node_attribute_at_index\n",
            "_get_save_spec\n",
            "_get_trainable_state\n",
            "_get_unnested_name_scope\n",
            "_handle_activity_regularization\n",
            "_handle_deferred_dependencies\n",
            "_handle_weight_regularization\n",
            "_inbound_nodes\n",
            "_inbound_nodes_value\n",
            "_infer_output_signature\n",
            "_init_call_fn_args\n",
            "_init_set_name\n",
            "_initial_weights\n",
            "_input_spec\n",
            "_instrument_layer_creation\n",
            "_instrumented_keras_api\n",
            "_instrumented_keras_layer_class\n",
            "_instrumented_keras_model_class\n",
            "_is_layer\n",
            "_keras_api_names\n",
            "_keras_api_names_v1\n",
            "_keras_tensor_symbolic_call\n",
            "_list_extra_dependencies_for_serialization\n",
            "_list_functions_for_serialization\n",
            "_lookup_dependency\n",
            "_losses\n",
            "_map_resources\n",
            "_maybe_build\n",
            "_maybe_cast_inputs\n",
            "_maybe_create_attribute\n",
            "_maybe_initialize_trackable\n",
            "_metrics\n",
            "_metrics_lock\n",
            "_must_restore_from_config\n",
            "_name\n",
            "_name_based_attribute_restore\n",
            "_name_based_restores\n",
            "_name_scope\n",
            "_name_scope_on_declaration\n",
            "_no_dependency\n",
            "_non_trainable_weights\n",
            "_obj_reference_counts\n",
            "_obj_reference_counts_dict\n",
            "_object_identifier\n",
            "_outbound_nodes\n",
            "_outbound_nodes_value\n",
            "_preload_simple_restoration\n",
            "_preserve_input_structure_in_config\n",
            "_restore_from_checkpoint_position\n",
            "_restore_from_tensors\n",
            "_saved_model_arg_spec\n",
            "_saved_model_inputs_spec\n",
            "_self_name_based_restores\n",
            "_self_saveable_object_factories\n",
            "_self_setattr_tracking\n",
            "_self_tracked_trackables\n",
            "_self_unconditional_checkpoint_dependencies\n",
            "_self_unconditional_deferred_dependencies\n",
            "_self_unconditional_dependency_names\n",
            "_self_update_uid\n",
            "_serialize_to_proto\n",
            "_serialize_to_tensors\n",
            "_set_call_arg_value\n",
            "_set_connectivity_metadata\n",
            "_set_dtype_policy\n",
            "_set_mask_keras_history_checked\n",
            "_set_mask_metadata\n",
            "_set_save_spec\n",
            "_set_trainable_state\n",
            "_set_training_mode\n",
            "_setattr_tracking\n",
            "_should_cast_single_input\n",
            "_single_restoration_from_checkpoint_position\n",
            "_split_out_first_arg\n",
            "_stateful\n",
            "_supports_masking\n",
            "_tf_api_names\n",
            "_tf_api_names_v1\n",
            "_thread_local\n",
            "_track_trackable\n",
            "_trackable_children\n",
            "_trackable_saved_model_saver\n",
            "_tracking_metadata\n",
            "_trainable\n",
            "_trainable_weights\n",
            "_unconditional_checkpoint_dependencies\n",
            "_unconditional_dependency_names\n",
            "_update_uid\n",
            "_updates\n",
            "_use_input_spec_as_call_signature\n",
            "activation\n",
            "activity_regularizer\n",
            "add_loss\n",
            "add_metric\n",
            "add_update\n",
            "add_variable\n",
            "add_weight\n",
            "bias\n",
            "bias_constraint\n",
            "bias_initializer\n",
            "bias_regularizer\n",
            "build\n",
            "built\n",
            "call\n",
            "compute_dtype\n",
            "compute_mask\n",
            "compute_output_shape\n",
            "compute_output_signature\n",
            "count_params\n",
            "dtype\n",
            "dtype_policy\n",
            "dynamic\n",
            "finalize_state\n",
            "from_config\n",
            "get_config\n",
            "get_input_at\n",
            "get_input_mask_at\n",
            "get_input_shape_at\n",
            "get_output_at\n",
            "get_output_mask_at\n",
            "get_output_shape_at\n",
            "get_weights\n",
            "inbound_nodes\n",
            "input\n",
            "input_mask\n",
            "input_shape\n",
            "input_spec\n",
            "kernel\n",
            "kernel_constraint\n",
            "kernel_initializer\n",
            "kernel_regularizer\n",
            "losses\n",
            "metrics\n",
            "name\n",
            "name_scope\n",
            "non_trainable_variables\n",
            "non_trainable_weights\n",
            "outbound_nodes\n",
            "output\n",
            "output_mask\n",
            "output_shape\n",
            "set_weights\n",
            "stateful\n",
            "submodules\n",
            "supports_masking\n",
            "trainable\n",
            "trainable_variables\n",
            "trainable_weights\n",
            "units\n",
            "updates\n",
            "use_bias\n",
            "variable_dtype\n",
            "variables\n",
            "weights\n",
            "with_name_scope\n",
            "(10, 10) (10,)\n",
            "(10, 20) (20,)\n"
          ]
        }
      ]
    },
    {
      "cell_type": "markdown",
      "source": [
        "### Code.2-3-5 : Traninable Variables in Models\n"
      ],
      "metadata": {
        "id": "rmOquDpNWCSs"
      }
    },
    {
      "cell_type": "code",
      "source": [
        "import tensorflow as tf\n",
        "from tensorflow.keras.layers import Dense\n",
        "from tensorflow.keras.models import Sequential \n",
        "from tensorflow.keras.models import Model\n",
        "\n",
        "X = tf.random.normal(shape = (4,10))\n",
        "model = Sequential()\n",
        "model.add(Dense(units = 10 , activation = 'sigmoid'))\n",
        "model.add(Dense(units = 20 , activation = 'sigmoid'))\n",
        "\n",
        "Y = model(X)\n",
        "\n",
        "print(type(model.trainable_variables))\n",
        "print(len(model.trainable_variables))\n",
        "for train_var in model.trainable_variables:\n",
        "  print(train_var.shape)"
      ],
      "metadata": {
        "colab": {
          "base_uri": "https://localhost:8080/"
        },
        "id": "zo-dwm9VWLfm",
        "outputId": "58b3e332-229a-41fb-f728-139ee15bd444"
      },
      "execution_count": 17,
      "outputs": [
        {
          "output_type": "stream",
          "name": "stdout",
          "text": [
            "<class 'list'>\n",
            "4\n",
            "(10, 10)\n",
            "(10,)\n",
            "(10, 20)\n",
            "(20,)\n"
          ]
        }
      ]
    },
    {
      "cell_type": "code",
      "source": [],
      "metadata": {
        "id": "1WogW2J4XueO"
      },
      "execution_count": null,
      "outputs": []
    }
  ]
}