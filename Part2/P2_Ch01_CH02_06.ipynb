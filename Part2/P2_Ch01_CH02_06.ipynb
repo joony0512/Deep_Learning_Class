{
  "nbformat": 4,
  "nbformat_minor": 0,
  "metadata": {
    "colab": {
      "provenance": [],
      "authorship_tag": "ABX9TyO/hRrotrIRpq6kB6FJ2Cfb",
      "include_colab_link": true
    },
    "kernelspec": {
      "name": "python3",
      "display_name": "Python 3"
    },
    "language_info": {
      "name": "python"
    }
  },
  "cells": [
    {
      "cell_type": "markdown",
      "metadata": {
        "id": "view-in-github",
        "colab_type": "text"
      },
      "source": [
        "<a href=\"https://colab.research.google.com/github/joony0512/Deep_Learning_Class/blob/main/Part2/P2_Ch01_CH02_06.ipynb\" target=\"_parent\"><img src=\"https://colab.research.google.com/assets/colab-badge.svg\" alt=\"Open In Colab\"/></a>"
      ]
    },
    {
      "cell_type": "markdown",
      "source": [
        "# 2-2: Cascaded Dense Layers\n"
      ],
      "metadata": {
        "id": "527M3XFQ1Iv8"
      }
    },
    {
      "cell_type": "markdown",
      "source": [
        "### Code.2-2-1:Shapes of Cacaded Dense Layers"
      ],
      "metadata": {
        "id": "QH7X7OJs1Qai"
      }
    },
    {
      "cell_type": "code",
      "source": [
        "import tensorflow as tf\n",
        "\n",
        "from tensorflow.keras.layers import Dense\n",
        "\n",
        "N, n_feature = 4, 10\n",
        "x = tf.random.normal(shape = (N, n_feature))\n",
        "\n",
        "n_neurons = [3,5]\n",
        "dense1 = Dense(units = n_neurons[0], activation = 'sigmoid')\n",
        "dense2 = Dense(units = n_neurons[1], activation = 'sigmoid')\n",
        "\n",
        "#forward propagation\n",
        "A1 = dense1(x)\n",
        "Y = dense2(A1)\n",
        "\n",
        "#get weight/bias\n",
        "W1, B1 = dense1.get_weights()\n",
        "W2, B2 = dense2.get_weights()\n",
        "\n",
        "\n",
        "print(\"X: {} \\n\".format(x.shape) )\n",
        "\n",
        "print(\"W1: {} \".format(W1.shape))\n",
        "print(\"B1: {} \".format(B1.shape))\n",
        "print(\"A1: {} \\n \".format(A1.shape))\n",
        "\n",
        "print(\"W2: {}\".format(W2.shape))\n",
        "print(\"B2: {}\".format(B2.shape))\n",
        "print(\"Y: {} \\n\".format(Y.shape))\n"
      ],
      "metadata": {
        "colab": {
          "base_uri": "https://localhost:8080/"
        },
        "id": "cpaeH8Bt1Z1x",
        "outputId": "e8959e01-dc28-4541-8682-5d66c4d3d8c9"
      },
      "execution_count": null,
      "outputs": [
        {
          "output_type": "stream",
          "name": "stdout",
          "text": [
            "X: (4, 10) \n",
            "\n",
            "W1: (10, 3) \n",
            "B1: (3,) \n",
            "A1: (4, 3) \n",
            " \n",
            "W2: (3, 5)\n",
            "B2: (5,)\n",
            "Y: (4, 5) \n",
            "\n"
          ]
        }
      ]
    },
    {
      "cell_type": "markdown",
      "source": [
        "### Code.2-2-2:Dense Layers with Python List"
      ],
      "metadata": {
        "id": "CjpmkPSe45pS"
      }
    },
    {
      "cell_type": "code",
      "source": [
        "import tensorflow as tf\n",
        "\n",
        "from tensorflow.keras.layers import Dense\n",
        "\n",
        "N, n_feature = 4, 10\n",
        "x = tf.random.normal(shape =(N, n_feature))\n",
        "n_neurons = [10, 20, 30, 40, 50, 60, 70, 80, 90, 100]\n",
        "\n",
        "dense_layers = list()\n",
        "for n_neurons in n_neurons :\n",
        "  dense = Dense( units = n_neurons, activation = 'relu')\n",
        "  dense_layers.append(dense)\n",
        "print(\"Input: \", x.shape)\n",
        "for dense_idx, dense in enumerate(dense_layers) :\n",
        "  X = dense(x)\n",
        "  print(\"After dense layer\", dense_idx +1)\n",
        "  print(X.shape,\"\\n\")"
      ],
      "metadata": {
        "colab": {
          "base_uri": "https://localhost:8080/"
        },
        "id": "Z3uhBj4b3FyJ",
        "outputId": "a8403d6f-84f5-44c0-e53c-cf6a1b45408a"
      },
      "execution_count": null,
      "outputs": [
        {
          "output_type": "stream",
          "name": "stdout",
          "text": [
            "Input:  (4, 10)\n",
            "After dense layer 1\n",
            "(4, 10) \n",
            "\n",
            "After dense layer 2\n",
            "(4, 20) \n",
            "\n",
            "After dense layer 3\n",
            "(4, 30) \n",
            "\n",
            "After dense layer 4\n",
            "(4, 40) \n",
            "\n",
            "After dense layer 5\n",
            "(4, 50) \n",
            "\n",
            "After dense layer 6\n",
            "(4, 60) \n",
            "\n",
            "After dense layer 7\n",
            "(4, 70) \n",
            "\n",
            "After dense layer 8\n",
            "(4, 80) \n",
            "\n",
            "After dense layer 9\n",
            "(4, 90) \n",
            "\n",
            "After dense layer 10\n",
            "(4, 100) \n",
            "\n"
          ]
        }
      ]
    },
    {
      "cell_type": "markdown",
      "source": [
        "### Code.2-2-3 : Output Calculations"
      ],
      "metadata": {
        "id": "R9jReE82891D"
      }
    },
    {
      "cell_type": "code",
      "source": [
        "import tensorflow as tf\n",
        "\n",
        "from tensorflow.math import exp\n",
        "from tensorflow.linalg import matmul\n",
        "\n",
        "from tensorflow.keras.layers import Dense\n",
        "\n",
        "N, n_feature = 4, 10\n",
        "X = tf.random.normal(shape = (N, n_feature))\n",
        "X_cp = tf.identity(X)\n",
        "\n",
        "\n",
        "n_neurons = [3, 4, 5]\n",
        "\n",
        "dense_layers = list()\n",
        "for n_neuron in n_neurons :\n",
        "  dense = Dense( units = n_neuron, activation = 'sigmoid')\n",
        "  dense_layers.append(dense)\n",
        "\n",
        "#forward propagation(Tensorflow)\n",
        "print(\"Input: \", X.shape)\n",
        "W, B = list(), list()\n",
        "for dense_idx, dense in enumerate(dense_layers) :\n",
        "  X =dense(X)\n",
        "  w, b = dense.get_weights()\n",
        "\n",
        "  W.append(w)\n",
        "  B.append(b)\n",
        "\n",
        "  print(\"Y(tensorflow) \\n\", X.numpy())\n",
        "\n",
        "#forward propagation(Manual)\n",
        "for layer_idx in range(len(n_neurons)):\n",
        "  w, b = W[layer_idx], B[layer_idx]\n",
        "\n",
        "  X_cp = matmul(X_cp,w) + b\n",
        "  X_cp = 1/(1 + exp(-X_cp))\n",
        "  print(\"Y(manual): \\n\", X_cp.numpy())\n",
        "\n"
      ],
      "metadata": {
        "colab": {
          "base_uri": "https://localhost:8080/"
        },
        "id": "A930StnA53nq",
        "outputId": "63e138c2-0f0f-497a-fb1c-499c0cd4bc4d"
      },
      "execution_count": null,
      "outputs": [
        {
          "output_type": "stream",
          "name": "stdout",
          "text": [
            "Input:  (4, 10)\n",
            "Y(tensorflow) \n",
            " [[0.4318757  0.45237178 0.16207325]\n",
            " [0.33129793 0.355505   0.69799554]\n",
            " [0.7023533  0.25017393 0.45995662]\n",
            " [0.47758284 0.35418278 0.3156275 ]]\n",
            "Y(tensorflow) \n",
            " [[0.43893898 0.4899411  0.49027544 0.54574066]\n",
            " [0.51935667 0.41711038 0.36297423 0.57576334]\n",
            " [0.5202905  0.38122913 0.49888617 0.5584909 ]\n",
            " [0.4774691  0.44714716 0.4758805  0.5512567 ]]\n",
            "Y(tensorflow) \n",
            " [[0.34144044 0.56210375 0.42328015 0.32073724 0.4407696 ]\n",
            " [0.3620931  0.5634023  0.41613314 0.34190756 0.4352514 ]\n",
            " [0.353517   0.5878055  0.4287543  0.33788466 0.4240204 ]\n",
            " [0.34781915 0.5703563  0.4234515  0.32903472 0.43526754]]\n",
            "Y(manual): \n",
            " [[0.43187568 0.45237175 0.16207324]\n",
            " [0.3312979  0.355505   0.6979956 ]\n",
            " [0.7023533  0.25017393 0.45995662]\n",
            " [0.47758284 0.35418278 0.31562746]]\n",
            "Y(manual): \n",
            " [[0.438939   0.48994112 0.49027544 0.54574066]\n",
            " [0.51935667 0.41711038 0.36297423 0.57576334]\n",
            " [0.52029055 0.3812291  0.4988862  0.5584909 ]\n",
            " [0.47746906 0.44714716 0.47588047 0.5512567 ]]\n",
            "Y(manual): \n",
            " [[0.3414404  0.56210375 0.42328012 0.32073724 0.4407696 ]\n",
            " [0.3620931  0.5634023  0.41613314 0.34190753 0.43525144]\n",
            " [0.353517   0.5878055  0.42875427 0.33788466 0.4240204 ]\n",
            " [0.34781912 0.5703563  0.42345148 0.32903472 0.4352675 ]]\n"
          ]
        }
      ]
    },
    {
      "cell_type": "code",
      "source": [],
      "metadata": {
        "colab": {
          "base_uri": "https://localhost:8080/"
        },
        "id": "WV5W4gSPASq6",
        "outputId": "2f942bd2-0b33-4391-f773-b0f96a5f5cc3"
      },
      "execution_count": null,
      "outputs": [
        {
          "output_type": "execute_result",
          "data": {
            "text/plain": [
              "1"
            ]
          },
          "metadata": {},
          "execution_count": 19
        }
      ]
    },
    {
      "cell_type": "code",
      "source": [],
      "metadata": {
        "id": "xiD5EEP9FEtr"
      },
      "execution_count": null,
      "outputs": []
    }
  ]
}