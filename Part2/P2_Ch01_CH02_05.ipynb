{
  "nbformat": 4,
  "nbformat_minor": 0,
  "metadata": {
    "colab": {
      "provenance": [],
      "toc_visible": true,
      "authorship_tag": "ABX9TyOu5tjh4yEqLFQOdsXO6Zl8",
      "include_colab_link": true
    },
    "kernelspec": {
      "name": "python3",
      "display_name": "Python 3"
    },
    "language_info": {
      "name": "python"
    }
  },
  "cells": [
    {
      "cell_type": "markdown",
      "metadata": {
        "id": "view-in-github",
        "colab_type": "text"
      },
      "source": [
        "<a href=\"https://colab.research.google.com/github/joony0512/Deep_Learning_Class/blob/main/Part2/P2_Ch01_CH02_05.ipynb\" target=\"_parent\"><img src=\"https://colab.research.google.com/assets/colab-badge.svg\" alt=\"Open In Colab\"/></a>"
      ]
    },
    {
      "cell_type": "markdown",
      "source": [
        "# 2-1 : Dense Layers"
      ],
      "metadata": {
        "id": "LEpD9Yt_0Bhd"
      }
    },
    {
      "cell_type": "markdown",
      "source": [
        "### Code.2-1-1 : Shape of Dense Layers"
      ],
      "metadata": {
        "id": "GGzMWNlF10F9"
      }
    },
    {
      "cell_type": "code",
      "source": [
        "import tensorflow as tf\n",
        "from tensorflow.keras.layers import Dense\n",
        "\n",
        "N, n_feature = 8,10\n",
        "X = tf.random.normal(shape =(N, n_feature))\n",
        "\n",
        "n_neuron = 3\n",
        "dense = Dense(units = n_neuron, activation = 'sigmoid')\n",
        "Y = dense(X)\n",
        "\n",
        "W, B = dense.get_weights()\n",
        "print('======Input/Weight/Bias =====')\n",
        "print(\"X: \", X.shape)\n",
        "print(\"W: \", W.shape)\n",
        "print(\"B: \", B.shape)\n",
        "print(\"Y: \", Y.shape)\n",
        "\n",
        "print(W)"
      ],
      "metadata": {
        "colab": {
          "base_uri": "https://localhost:8080/"
        },
        "id": "PyjUsJBF10v-",
        "outputId": "449b3a63-5048-4724-e6c2-606598469831"
      },
      "execution_count": null,
      "outputs": [
        {
          "output_type": "stream",
          "name": "stdout",
          "text": [
            "======Input/Weight/Bias =====\n",
            "X:  (8, 10)\n",
            "W:  (10, 3)\n",
            "B:  (3,)\n",
            "Y:  (8, 3)\n",
            "[[ 0.43057764  0.43038118 -0.5141029 ]\n",
            " [-0.1886935  -0.40849045 -0.4332217 ]\n",
            " [ 0.5033561   0.512568   -0.05504835]\n",
            " [-0.53312033  0.5127907   0.28308487]\n",
            " [-0.00306326 -0.61872643 -0.5688102 ]\n",
            " [ 0.6455296  -0.2657657  -0.55373114]\n",
            " [-0.2278749   0.67445457  0.34014523]\n",
            " [-0.5730899   0.17390889  0.1950388 ]\n",
            " [ 0.6467581  -0.11776316 -0.45947582]\n",
            " [ 0.66679823  0.44726396 -0.0206908 ]]\n"
          ]
        }
      ]
    },
    {
      "cell_type": "code",
      "source": [
        "import tensorflow as tf\n",
        "import numpy as np\n",
        "\n",
        "from tensorflow.math import exp\n",
        "from tensorflow.linalg import matmul\n",
        "\n",
        "from tensorflow.keras.layers import Dense\n",
        "\n",
        "N, n_feature = 4,10\n",
        "X = tf.random.normal(shape =(N, n_feature))\n",
        "\n",
        "n_neuron = 3\n",
        "dense = Dense(units = n_neuron, activation = 'sigmoid')\n",
        "Y_tf = dense(X)\n",
        "\n",
        "W, B = dense.get_weights()\n",
        "\n",
        "print(\"Y(tensorflow):\\n\",Y_tf.numpy() )\n",
        "\n",
        "\n",
        "#calculate with matrix multiplication \n",
        "\n",
        "Z = matmul(X, W) + B\n",
        "Y_man_matmul = 1/(1+exp(-Z))\n",
        "print(\"Y(manual): \\n\", Y_man_matmul.numpy())\n",
        "\n",
        "#calculate with dot product\n",
        "Y_man_vec = np.zeros(shape=(N, n_neuron))\n",
        "for x_idx in range(N):\n",
        "  x = X[x_idx]\n",
        "  for nu_idx in range(n_neuron):\n",
        "    w, b = W[:, nu_idx], B[nu_idx]\n",
        "\n",
        "    z= tf.reduce_sum(x * w) + b\n",
        "    a= 1/(1+np.exp(-z))\n",
        "    Y_man_vec[x_idx, nu_idx] = a\n",
        "\n",
        "print(\"Y(with dot product: \\n\", Y_man_vec)"
      ],
      "metadata": {
        "colab": {
          "base_uri": "https://localhost:8080/"
        },
        "id": "rigy4Bp-4wUm",
        "outputId": "aebea458-ba84-4e7f-e781-0725ee8d445d"
      },
      "execution_count": null,
      "outputs": [
        {
          "output_type": "stream",
          "name": "stdout",
          "text": [
            "Y(tensorflow):\n",
            " [[0.5338247  0.14816746 0.329203  ]\n",
            " [0.24188402 0.63696253 0.6066241 ]\n",
            " [0.2865253  0.10830587 0.40427065]\n",
            " [0.3568046  0.18680632 0.47813213]]\n",
            "Y(manual): \n",
            " [[0.5338247  0.14816748 0.329203  ]\n",
            " [0.24188401 0.63696253 0.6066241 ]\n",
            " [0.2865253  0.10830589 0.40427062]\n",
            " [0.3568046  0.18680632 0.47813213]]\n",
            "Y(with dot product: \n",
            " [[0.53382473 0.1481675  0.32920298]\n",
            " [0.24188402 0.63696248 0.60662415]\n",
            " [0.28652528 0.10830587 0.40427064]\n",
            " [0.35680464 0.1868063  0.47813209]]\n"
          ]
        }
      ]
    },
    {
      "cell_type": "code",
      "source": [],
      "metadata": {
        "id": "GtevOv1M31XQ"
      },
      "execution_count": null,
      "outputs": []
    }
  ]
}