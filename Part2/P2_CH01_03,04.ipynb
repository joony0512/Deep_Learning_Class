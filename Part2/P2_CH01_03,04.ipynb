{
  "nbformat": 4,
  "nbformat_minor": 0,
  "metadata": {
    "colab": {
      "provenance": [],
      "authorship_tag": "ABX9TyNPha7efz6nor39eDEa6iC7",
      "include_colab_link": true
    },
    "kernelspec": {
      "name": "python3",
      "display_name": "Python 3"
    },
    "language_info": {
      "name": "python"
    }
  },
  "cells": [
    {
      "cell_type": "markdown",
      "metadata": {
        "id": "view-in-github",
        "colab_type": "text"
      },
      "source": [
        "<a href=\"https://colab.research.google.com/github/joony0512/Deep_Learning_Class/blob/main/Part2/P2_CH01_03%2C04.ipynb\" target=\"_parent\"><img src=\"https://colab.research.google.com/assets/colab-badge.svg\" alt=\"Open In Colab\"/></a>"
      ]
    },
    {
      "cell_type": "markdown",
      "source": [
        "# 1-1 : Affine Functions with 1 Feature\n"
      ],
      "metadata": {
        "id": "zSLQABtXSyH-"
      }
    },
    {
      "cell_type": "markdown",
      "source": [
        "### Code.1-1-1 : Affine Function\n",
        "\n"
      ],
      "metadata": {
        "id": "9jZ6Lw83YLqg"
      }
    },
    {
      "cell_type": "code",
      "source": [
        "#1-1-1 : Affine Function\n",
        "\n",
        "import tensorflow as tf\n",
        "from tensorflow.keras.layers import Dense\n",
        "\n",
        "x = tf.constant([[10.]]) #input setting (Note : input ->matrix)\n",
        "print(x)\n",
        "dense = Dense(units =1, activation='linear') #imp. an affine fcn\n",
        "\n",
        "y_tf = dense(x) #forward propagation + params initialization\n",
        "print(y_tf) #output\n",
        "\n",
        "W, B = dense.get_weights()\n",
        "print(W,B)\n",
        "\n",
        "y_man = tf.linalg.matmul(x, W) + B  #forward propagation(manual)\n",
        "\n",
        "#print results\n",
        "print('=======Input/weights/Bias=========')\n",
        "print(\"x: {}\\n{}\\n\".format(x.shape, x.numpy()))\n",
        "print(\"W: {}\\n{}\\n\".format(W.shape, W))\n",
        "print(\"B: {}\\n{}\\n\".format(B.shape, B))\n",
        "\n",
        "\n",
        "#print output\n",
        "print('=======Output=======')\n",
        "print(\"y(Tensorflow): {}\\n{}\\n\".format(y_tf.shape, y_tf.numpy()))\n",
        "print(\"y(Manual): {}\\n{}\\n\".format(y_man.shape, y_man.numpy()))"
      ],
      "metadata": {
        "colab": {
          "base_uri": "https://localhost:8080/"
        },
        "id": "5NHSF_2mS1_j",
        "outputId": "8ca71df7-a2a8-43e7-c588-f0895d2d08a3"
      },
      "execution_count": null,
      "outputs": [
        {
          "output_type": "stream",
          "name": "stdout",
          "text": [
            "tf.Tensor([[10.]], shape=(1, 1), dtype=float32)\n",
            "tf.Tensor([[3.981899]], shape=(1, 1), dtype=float32)\n",
            "[[0.3981899]] [0.]\n",
            "=======Input/weights/Bias=========\n",
            "x: (1, 1)\n",
            "[[10.]]\n",
            "\n",
            "W: (1, 1)\n",
            "[[0.3981899]]\n",
            "\n",
            "B: (1,)\n",
            "[0.]\n",
            "\n",
            "=======Output=======\n",
            "y(Tensorflow): (1, 1)\n",
            "[[3.981899]]\n",
            "\n",
            "y(Manual): (1, 1)\n",
            "[[3.981899]]\n",
            "\n"
          ]
        }
      ]
    },
    {
      "cell_type": "markdown",
      "source": [
        "### Code.1-1-1 : Params Initialization"
      ],
      "metadata": {
        "id": "P7O1YgpiYSeL"
      }
    },
    {
      "cell_type": "code",
      "source": [
        "import tensorflow as tf\n",
        "from tensorflow.keras.layers import Dense\n",
        "#랜덤한값이 아니고 내가원하는값으로 initialize\n",
        "from tensorflow.keras.initializers import Constant \n",
        "\n",
        "x = tf.constant([[10.]]) #input setting (Note : input ->matrix)\n",
        "\n",
        "\n",
        "#weight / bias set\n",
        "w, b = tf.constant(10.), tf.constant(20.)\n",
        "w_init, b_init = Constant(w), Constant(b)\n",
        "\n",
        "print(w_init, b_init)\n",
        "\n",
        "#imp. an affine fcn\n",
        "dense = Dense(units=1,\n",
        "              activation= 'linear', \n",
        "              kernel_initializer = w_init,\n",
        "              bias_initializer = b_init)\n",
        "\n",
        "y_tf = dense(x)\n",
        "print(y_tf)\n",
        "W, B = dense.get_weights()\n",
        "\n",
        "#print result\n",
        "print(\"W: {}\\n{}\\n\".format(W.shape, W))\n",
        "print(\"B: {}\\n{}\\n\".format(B.shape, B))\n",
        "\n"
      ],
      "metadata": {
        "colab": {
          "base_uri": "https://localhost:8080/"
        },
        "id": "kNyfG3rIT6_u",
        "outputId": "99ac59c0-d94f-4168-da55-da11d49372d4"
      },
      "execution_count": null,
      "outputs": [
        {
          "output_type": "stream",
          "name": "stdout",
          "text": [
            "<keras.initializers.initializers_v2.Constant object at 0x7fdc85a41f50> <keras.initializers.initializers_v2.Constant object at 0x7fdc85abeb50>\n",
            "tf.Tensor([[120.]], shape=(1, 1), dtype=float32)\n",
            "W: (1, 1)\n",
            "[[10.]]\n",
            "\n",
            "B: (1,)\n",
            "[20.]\n",
            "\n",
            "=======Input/weights/Bias=========\n",
            "x: (1, 1)\n",
            "[[10.]]\n",
            "\n",
            "W: (1, 1)\n",
            "[[10.]]\n",
            "\n",
            "B: (1,)\n",
            "[20.]\n",
            "\n",
            "=======Output=======\n",
            "y(Tensorflow): (1, 1)\n",
            "[[120.]]\n",
            "\n",
            "y(Manual): (1, 1)\n",
            "[[3.981899]]\n",
            "\n"
          ]
        }
      ]
    },
    {
      "cell_type": "markdown",
      "source": [
        "# 1-2 : Affine Functions with n Features"
      ],
      "metadata": {
        "id": "ujOxcKCXddS0"
      }
    },
    {
      "cell_type": "markdown",
      "source": [
        "### Code.1-2-1:Affine Functions with n Features\n"
      ],
      "metadata": {
        "id": "EjamsvVEdtQR"
      }
    },
    {
      "cell_type": "code",
      "source": [
        "import tensorflow as tf\n",
        "from tensorflow.keras.layers import Dense\n",
        "\n",
        "x = tf.random.uniform(shape = (1,10) ,minval = 0,maxval= 10 )\n",
        "print(x.shape, '\\n', x)\n",
        "\n",
        "dense = Dense(units = 1)\n",
        "\n",
        "y_tf = dense(x)  # x가 dense를 통과할때 알아서 초기화됨->몇개의 w와 b를 만들지 알아서 정함\n",
        "\n",
        "W, B = dense.get_weights()\n",
        "\n",
        "y_man = tf.linalg.matmul(x,W) + B  # z = xT * w +b\n",
        "\n",
        "#print results\n",
        "print('=======Input/weights/Bias=========')\n",
        "print(\"x: {}\\n{}\\n\".format(x.shape, x.numpy()))\n",
        "print(\"W: {}\\n{}\\n\".format(W.shape, W))\n",
        "print(\"B: {}\\n{}\\n\".format(B.shape, B))\n",
        "\n",
        "\n",
        "#print output\n",
        "print('=======Output=======')\n",
        "print(\"y(Tensorflow): {}\\n{}\\n\".format(y_tf.shape, y_tf.numpy()))\n",
        "print(\"y(Manual): {}\\n{}\\n\".format(y_man.shape, y_man.numpy()))\n"
      ],
      "metadata": {
        "colab": {
          "base_uri": "https://localhost:8080/"
        },
        "id": "OZzVVAY4bfYk",
        "outputId": "1117cc55-57b9-4435-9251-9e627cf3a9df"
      },
      "execution_count": null,
      "outputs": [
        {
          "output_type": "stream",
          "name": "stdout",
          "text": [
            "(1, 10) \n",
            " tf.Tensor(\n",
            "[[5.073844   2.7787483  2.8729224  5.251088   6.6625595  4.8085475\n",
            "  9.028453   0.05356669 8.296251   4.915235  ]], shape=(1, 10), dtype=float32)\n",
            "=======Input/weights/Bias=========\n",
            "x: (1, 10)\n",
            "[[5.073844   2.7787483  2.8729224  5.251088   6.6625595  4.8085475\n",
            "  9.028453   0.05356669 8.296251   4.915235  ]]\n",
            "\n",
            "W: (10, 1)\n",
            "[[ 0.33480865]\n",
            " [-0.7241754 ]\n",
            " [ 0.49532312]\n",
            " [ 0.22321999]\n",
            " [-0.57915473]\n",
            " [-0.35577396]\n",
            " [-0.4991715 ]\n",
            " [-0.32246575]\n",
            " [ 0.5988472 ]\n",
            " [-0.46280596]]\n",
            "\n",
            "B: (1,)\n",
            "[0.]\n",
            "\n",
            "=======Output=======\n",
            "y(Tensorflow): (1, 1)\n",
            "[[-5.1184034]]\n",
            "\n",
            "y(Manual): (1, 1)\n",
            "[[-5.1184034]]\n",
            "\n"
          ]
        }
      ]
    },
    {
      "cell_type": "markdown",
      "source": [
        "# 1-3 : Activation Functions"
      ],
      "metadata": {
        "id": "tVChwZUKg4kv"
      }
    },
    {
      "cell_type": "markdown",
      "source": [
        "### Code. 1-3-1: Activation Layers"
      ],
      "metadata": {
        "id": "oyFhEwz9g_Ay"
      }
    },
    {
      "cell_type": "code",
      "source": [
        "import tensorflow as tf\n",
        "\n",
        "from tensorflow.math import exp, maximum\n",
        "from tensorflow.keras.layers import Activation\n",
        "\n",
        "x = tf.random.normal(shape=(1,5)) # input setting\n",
        "\n",
        "# imp. activation fcn\n",
        "sigmoid = Activation('sigmoid')\n",
        "tanh = Activation('tanh')\n",
        "relu = Activation('relu')\n",
        "\n",
        "#forward propagation(TensorFlow)\n",
        "y_sigmoid_tf = sigmoid(x)\n",
        "y_tanh_tf = tanh(x)\n",
        "y_relu_tf = relu(x)\n",
        "\n",
        "\n",
        "#forward propagation(Manual)\n",
        "y_sigmoid_man = 1 / (1 + exp(-x))\n",
        "y_tanh_man = (exp(x) - exp(-x))/ (exp(x) + exp(-x))\n",
        "y_relu_man = maximum(x,0)\n",
        "\n",
        "\n",
        "print(\"x: {}\\n{}\".format(x.shape, x.numpy()))\n",
        "print(\"Sigmaoid(tf): {}\\n{}\". format(y_sigmoid_tf.shape, y_sigmoid_tf.numpy()))\n",
        "print(\"Sigmaoid(man): {}\\n{}\\n\". format(y_sigmoid_man.shape, y_sigmoid_man.numpy()))\n",
        "\n",
        "print(\"Tanh(tf): {}\\n{}\". format(y_tanh_tf.shape, y_tanh_tf.numpy()))\n",
        "print(\"Tanh(man): {}\\n{}\\n\". format(y_tanh_man.shape, y_tanh_man.numpy()))\n",
        "\n",
        "print(\"Relu(tf): {}\\n{}\". format(y_relu_tf.shape, y_relu_tf.numpy()))\n",
        "print(\"Relu(man): {}\\n{}\". format(y_relu_man.shape, y_relu_man.numpy()))\n"
      ],
      "metadata": {
        "colab": {
          "base_uri": "https://localhost:8080/"
        },
        "id": "cZbmZogneSKH",
        "outputId": "5292edaf-49cc-4c52-b651-2c3c05859c8b"
      },
      "execution_count": null,
      "outputs": [
        {
          "output_type": "stream",
          "name": "stdout",
          "text": [
            "x: (1, 5)\n",
            "[[-0.42802435  0.08828996 -0.8264757  -0.25554204  0.28516173]]\n",
            "Sigmaoid(tf): (1, 5)\n",
            "[[0.39459822 0.5220582  0.3043908  0.4364599  0.5708112 ]]\n",
            "Sigmaoid(man): (1, 5)\n",
            "[[0.3945982 0.5220581 0.3043908 0.4364599 0.5708113]]\n",
            "\n",
            "Tanh(tf): (1, 5)\n",
            "[[-0.40366885  0.08806126 -0.67857903 -0.25012112  0.2776756 ]]\n",
            "Tanh(man): (1, 5)\n",
            "[[-0.4036689   0.08806127 -0.6785791  -0.25012118  0.27767563]]\n",
            "\n",
            "Relu(tf): (1, 5)\n",
            "[[0.         0.08828996 0.         0.         0.28516173]]\n",
            "Relu(man): (1, 5)\n",
            "[[0.         0.08828996 0.         0.         0.28516173]]\n"
          ]
        }
      ]
    },
    {
      "cell_type": "markdown",
      "source": [
        "### Code. 1-3-2: Activation in Dense Layer\n"
      ],
      "metadata": {
        "id": "36HaJBzMhpAR"
      }
    },
    {
      "cell_type": "code",
      "source": [
        "import tensorflow as tf\n",
        "from tensorflow.math import exp, maximum\n",
        "\n",
        "from tensorflow.keras.layers import Dense\n",
        "\n",
        "x = tf.random.normal(shape = (1, 5)) # input setting\n",
        "\n",
        "# imp. artificial neurons\n",
        "dense_sigmoid = Dense(units= 1, activation='sigmoid' )\n",
        "dense_tanh = Dense(units= 1, activation='tanh' )\n",
        "dense_relu = Dense(units= 1, activation='relu' )\n",
        "\n",
        "#forward propagation(TF)\n",
        "y_sigmoid = dense_sigmoid(x)\n",
        "y_tanh = dense_tanh(x)\n",
        "y_relu = dense_relu(x)\n",
        "\n",
        "print(\"AN with Sigmoid: {}\\n{}\".format(y_sigmoid.shape, y_sigmoid.numpy()))\n",
        "print(\"AN with Tanh: {}\\n{}\".format(y_tanh.shape, y_tanh.numpy()))\n",
        "print(\"AN with Relu: {}\\n{}\".format(y_relu.shape, y_relu.numpy()))\n",
        "\n",
        "\n",
        "#forward propagation(Manual)\n",
        "print(\"\\n============\\n\")\n",
        "\n",
        "W, b = dense_sigmoid.get_weights()\n",
        "z = tf.linalg.matmul(x, W) + b\n",
        "a = 1 / ( 1 + exp(-z))\n",
        "print('Activation value(TF): {}\\n{}'.format(y_sigmoid.shape, y_sigmoid.numpy()))\n",
        "print('Activation value(Manual): {}\\n{}'.format(a.shape, a.numpy()))\n",
        "\n"
      ],
      "metadata": {
        "colab": {
          "base_uri": "https://localhost:8080/"
        },
        "id": "Rv6kt3MKhtl_",
        "outputId": "37f78ee5-7cc2-445e-a560-aeaf3260ddef"
      },
      "execution_count": null,
      "outputs": [
        {
          "output_type": "stream",
          "name": "stdout",
          "text": [
            "AN with Sigmoid: (1, 1)\n",
            "[[0.51622814]]\n",
            "AN with Tanh: (1, 1)\n",
            "[[0.85200435]]\n",
            "AN with Relu: (1, 1)\n",
            "[[0.880366]]\n",
            "\n",
            "============\n",
            "\n",
            "Activation value(TF): (1, 1)\n",
            "[[0.51622814]]\n",
            "Activation value(Manual): (1, 1)\n",
            "[[0.51622814]]\n"
          ]
        }
      ]
    },
    {
      "cell_type": "markdown",
      "source": [
        "# 1-4 : Artificial Neurons"
      ],
      "metadata": {
        "id": "Xu5s-8wYhuUH"
      }
    },
    {
      "cell_type": "markdown",
      "source": [
        "### Code. 1-4-1: Artificial Neurons"
      ],
      "metadata": {
        "id": "9gnHTDsih27u"
      }
    },
    {
      "cell_type": "code",
      "source": [
        "import tensorflow as tf\n",
        "from tensorflow.keras.layers import Dense\n",
        "from tensorflow.math import exp, maximum\n",
        "\n",
        "activation = 'sigmoid'\n",
        "# activation = 'tanh'\n",
        "# activation = 'relu'\n",
        "\n",
        "x = tf.random.uniform( shape =(1,10))\n",
        "\n",
        "dense = Dense(units = 1, activation = activation)\n",
        "y_tf = dense(x)\n",
        "W, B = dense.get_weights()\n",
        "\n",
        "y_man = tf.linalg.matmul(x, W) + B\n",
        "if activation == 'sigmoid':\n",
        "  y_man = 1 / ( 1 + exp(-y_man))\n",
        "elif activation == 'tanh':\n",
        "  y_man = (exp(y_man) - exp(y_man)) / (exp(y_man) + exp(y_man))\n",
        "elif activation == 'relu':\n",
        "  y_man = maximum(y_man, 0)\n",
        "\n",
        "print(\"Activation :\", activation)\n",
        "print(\"y_tf: {}\\n{}\\n\".format(y_tf.shape, y_tf))\n",
        "print(\"y_man: {}\\n{}\\n\".format(y_man.shape, y_man))\n"
      ],
      "metadata": {
        "colab": {
          "base_uri": "https://localhost:8080/"
        },
        "id": "0S2H5OsLh1Bw",
        "outputId": "3deae917-8062-4391-f92a-bea468b683a3"
      },
      "execution_count": null,
      "outputs": [
        {
          "output_type": "stream",
          "name": "stdout",
          "text": [
            "Activation : sigmoid\n",
            "y_tf: (1, 1)\n",
            "[[0.36177117]]\n",
            "\n",
            "y_man: (1, 1)\n",
            "[[0.36177117]]\n",
            "\n"
          ]
        }
      ]
    },
    {
      "cell_type": "code",
      "source": [],
      "metadata": {
        "id": "Np5ezqyCxypC"
      },
      "execution_count": null,
      "outputs": []
    }
  ]
}