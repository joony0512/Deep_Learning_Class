{
  "nbformat": 4,
  "nbformat_minor": 0,
  "metadata": {
    "colab": {
      "provenance": [],
      "authorship_tag": "ABX9TyNTNqQ/tCF0Xo1dGWgXTxkj",
      "include_colab_link": true
    },
    "kernelspec": {
      "name": "python3",
      "display_name": "Python 3"
    },
    "language_info": {
      "name": "python"
    }
  },
  "cells": [
    {
      "cell_type": "markdown",
      "metadata": {
        "id": "view-in-github",
        "colab_type": "text"
      },
      "source": [
        "<a href=\"https://colab.research.google.com/github/joony0512/Deep_Learning_Class/blob/main/Part2/P2_Ch01_CH04_06.ipynb\" target=\"_parent\"><img src=\"https://colab.research.google.com/assets/colab-badge.svg\" alt=\"Open In Colab\"/></a>"
      ]
    },
    {
      "cell_type": "markdown",
      "source": [
        "# 4-2 : Mean Squared Error \n"
      ],
      "metadata": {
        "id": "DfK0jZ-yNuA0"
      }
    },
    {
      "cell_type": "markdown",
      "source": [
        "## Code.4-2-1 : Mean Calculation"
      ],
      "metadata": {
        "id": "eWDCslRNN2kE"
      }
    },
    {
      "cell_type": "code",
      "execution_count": null,
      "metadata": {
        "colab": {
          "base_uri": "https://localhost:8080/"
        },
        "id": "w685WYfnNhwk",
        "outputId": "cf1e65ef-93dc-49a9-c951-805c17e5c0e9"
      },
      "outputs": [
        {
          "output_type": "stream",
          "name": "stdout",
          "text": [
            "(32, 1) (32, 1)\n",
            "MSE(Tensorflow):  2.163035\n",
            "MSE(Manual):  2.163035\n"
          ]
        }
      ],
      "source": [
        "import tensorflow as tf\n",
        "from tensorflow.keras.losses import MeanSquaredError\n",
        "loss_object = MeanSquaredError()\n",
        "\n",
        "batch_size = 32\n",
        "predictions = tf.random.normal(shape = (batch_size, 1))\n",
        "labels = tf.random.normal(shape = (batch_size,1))\n",
        "\n",
        "print(predictions.shape, labels.shape)\n",
        "\n",
        "mse = loss_object(labels, predictions)\n",
        "mse_manual = tf.reduce_mean( tf.math.pow(labels -predictions, 2))\n",
        "\n",
        "print(\"MSE(Tensorflow): \", mse.numpy())\n",
        "print(\"MSE(Manual): \", mse_manual.numpy())"
      ]
    },
    {
      "cell_type": "markdown",
      "source": [
        "## Code.4-2-2: MSE with Model/Dataset"
      ],
      "metadata": {
        "id": "Qac7NGy5Qedx"
      }
    },
    {
      "cell_type": "code",
      "source": [
        "import tensorflow as tf\n",
        "from tensorflow.keras.layers import Dense\n",
        "from tensorflow.keras.losses import MeanSquaredError\n",
        "N, n_feature = 100, 5\n",
        "batch_size =32\n",
        "\n",
        "X= tf.random.normal(shape = (N, n_feature))\n",
        "Y = tf.random.normal(shape = (N, 1))\n",
        "\n",
        "dataset = tf.data.Dataset.from_tensor_slices((X, Y))\n",
        "dataset = dataset.batch(batch_size)\n",
        "\n",
        "model = Dense(units = 1, activation = 'linear')\n",
        "loss_object = MeanSquaredError()\n",
        "\n",
        "for x,y in dataset:\n",
        "  predictions = model(x)\n",
        "  loss = loss_object(y, predictions)\n",
        "  print(loss.numpy())"
      ],
      "metadata": {
        "colab": {
          "base_uri": "https://localhost:8080/"
        },
        "id": "-FMFIrumPAoJ",
        "outputId": "e008e5aa-161e-4d7c-d045-ceb9df8401db"
      },
      "execution_count": null,
      "outputs": [
        {
          "output_type": "stream",
          "name": "stdout",
          "text": [
            "1.9147189\n",
            "1.567785\n",
            "2.0991023\n",
            "2.0667315\n"
          ]
        }
      ]
    },
    {
      "cell_type": "markdown",
      "source": [
        "# 4-3: Binary Cross Entropy"
      ],
      "metadata": {
        "id": "P-eLcEypVN-N"
      }
    },
    {
      "cell_type": "markdown",
      "source": [
        "## Code.4-3-1 : BCE Calculation"
      ],
      "metadata": {
        "id": "WJlSF9HsVVh7"
      }
    },
    {
      "cell_type": "code",
      "source": [
        "import tensorflow as tf\n",
        "\n",
        "from tensorflow.keras.losses import BinaryCrossentropy\n",
        "\n",
        "batch_size = 32\n",
        "n_class =2\n",
        "predictions = tf.random.uniform(shape = (batch_size, 1), \n",
        "                                minval = 0, maxval = 1,\n",
        "                                dtype = tf.float32)\n",
        "labels = tf.random.uniform(shape = (batch_size,1),\n",
        "                           minval = 0, maxval = n_class,\n",
        "                           dtype = tf.int32 )\n",
        "#print(predictions)\n",
        "#print(labels)\n",
        "\n",
        "loss_object = BinaryCrossentropy()\n",
        "loss = loss_object(labels, predictions)\n",
        "\n",
        "labels = tf.cast(labels, tf.float32)\n",
        "bce_man = -(labels * tf.math.log(predictions) + (1- labels)*tf.math.log(1-predictions))\n",
        "bce_man = tf.reduce_mean(bce_man)\n",
        "\n",
        "print(\"BCE(Tensorflow): \", loss.numpy())\n",
        "print(\"BCE(Manual): \", bce_man.numpy())"
      ],
      "metadata": {
        "colab": {
          "base_uri": "https://localhost:8080/"
        },
        "id": "Tr3SU3gaR6fd",
        "outputId": "61521e70-78b9-4228-e075-39738b5ddf3a"
      },
      "execution_count": null,
      "outputs": [
        {
          "output_type": "stream",
          "name": "stdout",
          "text": [
            "BCE(Tensorflow):  1.0395302\n",
            "BCE(Manual):  1.0395308\n"
          ]
        }
      ]
    },
    {
      "cell_type": "markdown",
      "source": [
        "## Code.4-3-2 : BCE with Model/Dataset"
      ],
      "metadata": {
        "id": "veGNgiKSW63v"
      }
    },
    {
      "cell_type": "code",
      "source": [
        "import tensorflow as tf\n",
        "\n",
        "from tensorflow.keras.layers import Dense\n",
        "from tensorflow.keras.losses import BinaryCrossentropy\n",
        "\n",
        "N, n_feature = 100,5\n",
        "t_weights = tf.constant([1,2,3,4,5], dtype = tf.float32)\n",
        "t_bias = tf.constant([10], dtype = tf.float32)\n",
        "\n",
        "X = tf.random.normal(mean= 0, stddev = 1, shape = (N, n_feature))\n",
        "Y = tf.reduce_sum(t_weights*X, axis =1) + t_bias\n",
        "Y = tf.cast(Y > 5, tf.int32)\n",
        "\n",
        "dataset = tf.data.Dataset.from_tensor_slices((X, Y))\n",
        "dataset = dataset.batch(batch_size)\n",
        "\n",
        "model = Dense(units=1, activation = 'sigmoid')\n",
        "loss_object = BinaryCrossentropy()\n",
        "\n",
        "for x, y in dataset : \n",
        "  predictions = model(x)\n",
        "  loss = loss_object(y, predictions)\n",
        "  print(loss.numpy())"
      ],
      "metadata": {
        "colab": {
          "base_uri": "https://localhost:8080/"
        },
        "id": "keR8V8l0Wfv4",
        "outputId": "2d1de5e9-4dbe-4551-8278-bb5b65f1c253"
      },
      "execution_count": null,
      "outputs": [
        {
          "output_type": "stream",
          "name": "stdout",
          "text": [
            "1.0410538\n",
            "0.80032074\n",
            "0.94531363\n",
            "0.6372767\n"
          ]
        }
      ]
    },
    {
      "cell_type": "code",
      "source": [],
      "metadata": {
        "id": "FUfCw32Sbj9e"
      },
      "execution_count": null,
      "outputs": []
    }
  ]
}