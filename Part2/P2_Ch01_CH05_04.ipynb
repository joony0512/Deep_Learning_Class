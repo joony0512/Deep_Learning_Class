{
  "nbformat": 4,
  "nbformat_minor": 0,
  "metadata": {
    "colab": {
      "provenance": [],
      "authorship_tag": "ABX9TyNmwqrjAe0b5loIGKDx/Cfw",
      "include_colab_link": true
    },
    "kernelspec": {
      "name": "python3",
      "display_name": "Python 3"
    },
    "language_info": {
      "name": "python"
    }
  },
  "cells": [
    {
      "cell_type": "markdown",
      "metadata": {
        "id": "view-in-github",
        "colab_type": "text"
      },
      "source": [
        "<a href=\"https://colab.research.google.com/github/joony0512/Deep_Learning_Class/blob/main/Part2/P2_Ch01_CH05_04.ipynb\" target=\"_parent\"><img src=\"https://colab.research.google.com/assets/colab-badge.svg\" alt=\"Open In Colab\"/></a>"
      ]
    },
    {
      "cell_type": "markdown",
      "source": [
        "# Convolution Layers"
      ],
      "metadata": {
        "id": "Y0eVix8P_Gam"
      }
    },
    {
      "cell_type": "markdown",
      "source": [
        "## Code.5-1-1 : Shapes of Conv Layers"
      ],
      "metadata": {
        "id": "HN3sGJGI_LbH"
      }
    },
    {
      "cell_type": "code",
      "execution_count": 7,
      "metadata": {
        "colab": {
          "base_uri": "https://localhost:8080/"
        },
        "id": "TuBJXS9a5Pcg",
        "outputId": "373cc2b9-9b28-4154-e183-2b6061eecb92"
      },
      "outputs": [
        {
          "output_type": "stream",
          "name": "stdout",
          "text": [
            "(32, 28, 28, 5)\n",
            "(3, 3, 5, 10)\n",
            "(10,)\n",
            "(32, 26, 26, 10)\n"
          ]
        }
      ],
      "source": [
        "import tensorflow as tf\n",
        "\n",
        "from tensorflow.keras.layers import Conv2D\n",
        "\n",
        "N, n_H, n_W, n_C = 32, 28, 28, 5\n",
        "\n",
        "# 뉴런 수 라고 생각하자\n",
        "n_filter = 10\n",
        "\n",
        "# 윈도우 사이즈( 높이 길이)\n",
        "k_size = 3\n",
        "\n",
        "images = tf.random.uniform(minval =0, maxval = 1, \n",
        "                           shape =((N, n_H, n_W, n_C)))\n",
        "#print(images.shape)\n",
        "\n",
        "\n",
        "conv = Conv2D(filters = n_filter, kernel_size = k_size )\n",
        "\n",
        "y = conv(images)\n",
        "W, B = conv.get_weights()\n",
        "\n",
        "print(images.shape)\n",
        "print(W.shape)\n",
        "print(B.shape)\n",
        "# nH - k + 1 = 26\n",
        "print(y.shape)"
      ]
    },
    {
      "cell_type": "markdown",
      "source": [
        "## Code.5-1-2 : Correlation Caculation"
      ],
      "metadata": {
        "id": "KdwR7r6S_Qjl"
      }
    },
    {
      "cell_type": "code",
      "source": [
        "import numpy as np\n",
        "import tensorflow as tf\n",
        "\n",
        "from tensorflow.keras.layers import Conv2D\n",
        "\n",
        "N, n_H, n_W, n_C = 1, 5, 5, 1\n",
        "n_filter = 1\n",
        "k_size = 3\n",
        "images = tf.random.uniform(minval = 0, maxval = 1, \n",
        "                           shape = ((N, n_H, n_W, n_C)))\n",
        "\n",
        "conv = Conv2D(filters = n_filter, kernel_size = k_size)\n",
        "\n",
        "y = conv(images)\n",
        "print(\"Y(tensorflow) : \", y.numpy().squeeze().shape,\"\\n\", y.numpy().squeeze())\n",
        "W, B = conv.get_weights()\n",
        "\n",
        "###\n",
        "images = images.numpy().squeeze()\n",
        "W = W.squeeze()\n",
        "\n",
        "print(images.shape)\n",
        "print(W.shape)\n",
        "print(B.shape)\n",
        "\n",
        "\n",
        "#####\n",
        "y_man = np.zeros(shape = (n_H - k_size +1, n_W - k_size + 1))\n",
        "for i in range( n_H - k_size +1):\n",
        "  for j in range( n_W - k_size + 1):\n",
        "    #print(i, j)\n",
        "    window = images[i : i + k_size, j : j + k_size]\n",
        "    #print(window.shape)\n",
        "    y_man[i, j] = np.sum(window * W) + B\n",
        "\n",
        "print(\"Y(manual) : \", y_man.shape, \"\\n\",y_man)"
      ],
      "metadata": {
        "colab": {
          "base_uri": "https://localhost:8080/"
        },
        "id": "CEAhZUja9KDS",
        "outputId": "2a7cc60b-3bfa-4f29-e00e-12db2a5930ed"
      },
      "execution_count": 26,
      "outputs": [
        {
          "output_type": "stream",
          "name": "stdout",
          "text": [
            "Y(tensorflow) :  (3, 3) \n",
            " [[0.39430222 0.2896306  0.43493447]\n",
            " [0.89637583 0.7738222  0.5114556 ]\n",
            " [0.5721087  0.42440712 0.10699773]]\n",
            "(5, 5)\n",
            "(3, 3)\n",
            "(1,)\n",
            "Y(manual) :  (3, 3) \n",
            " [[0.39430222 0.28963056 0.43493447]\n",
            " [0.89637589 0.77382207 0.5114556 ]\n",
            " [0.57210869 0.42440712 0.10699771]]\n"
          ]
        }
      ]
    },
    {
      "cell_type": "markdown",
      "source": [
        "## Code.5-1-3 : Correlation with n-channel"
      ],
      "metadata": {
        "id": "xPLg1F2YDTRH"
      }
    },
    {
      "cell_type": "code",
      "source": [
        "import numpy as np\n",
        "import tensorflow as tf\n",
        "\n",
        "from tensorflow.keras.layers import Conv2D\n",
        "\n",
        "N, n_H, n_W, n_C = 1, 5, 5, 3\n",
        "n_filter = 1\n",
        "k_size = 3\n",
        "images = tf.random.uniform(minval = 0, maxval = 1, \n",
        "                           shape = ((N, n_H, n_W, n_C)))\n",
        "\n",
        "conv = Conv2D(filters = n_filter, kernel_size = k_size)\n",
        "\n",
        "y = conv(images)\n",
        "print(\"Y(tensorflow) : \", y.numpy().squeeze().shape,\"\\n\", y.numpy().squeeze())\n",
        "W, B = conv.get_weights()\n",
        "\n",
        "###\n",
        "images = images.numpy().squeeze()\n",
        "W = W.squeeze()\n",
        "\n",
        "print(images.shape)\n",
        "print(W.shape)\n",
        "print(B.shape)\n",
        "\n",
        "\n",
        "#####\n",
        "y_man = np.zeros(shape = (n_H - k_size +1, n_W - k_size + 1))\n",
        "for i in range( n_H - k_size +1):\n",
        "  for j in range( n_W - k_size + 1):\n",
        "    #print(i, j)\n",
        "    window = images[i : i + k_size, j : j + k_size, :]\n",
        "    #print(window.shape)\n",
        "    y_man[i, j] = np.sum(window * W) + B\n",
        "\n",
        "print(\"Y(manual) : \", y_man.shape, \"\\n\",y_man)"
      ],
      "metadata": {
        "colab": {
          "base_uri": "https://localhost:8080/"
        },
        "id": "qMEHJj9bAp-b",
        "outputId": "8ce0b91f-4e56-40a5-e84e-2e3d389e8348"
      },
      "execution_count": 30,
      "outputs": [
        {
          "output_type": "stream",
          "name": "stdout",
          "text": [
            "Y(tensorflow) :  (3, 3) \n",
            " [[ 0.0215397   0.04528335  0.02177662]\n",
            " [ 0.6253578  -0.23627193  0.12369653]\n",
            " [ 0.42530233 -0.07219229 -0.2239751 ]]\n",
            "(5, 5, 3)\n",
            "(3, 3, 3)\n",
            "(1,)\n",
            "Y(manual) :  (3, 3) \n",
            " [[ 0.02153972  0.04528343  0.02177659]\n",
            " [ 0.62535787 -0.23627193  0.12369654]\n",
            " [ 0.42530227 -0.07219226 -0.22397511]]\n"
          ]
        }
      ]
    },
    {
      "cell_type": "code",
      "source": [],
      "metadata": {
        "id": "bDsSy4AgETU3"
      },
      "execution_count": null,
      "outputs": []
    }
  ]
}