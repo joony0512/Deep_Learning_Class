{
  "nbformat": 4,
  "nbformat_minor": 0,
  "metadata": {
    "colab": {
      "provenance": [],
      "authorship_tag": "ABX9TyMVaJNNbf7WlVLQuBvWXxOx",
      "include_colab_link": true
    },
    "kernelspec": {
      "name": "python3",
      "display_name": "Python 3"
    },
    "language_info": {
      "name": "python"
    }
  },
  "cells": [
    {
      "cell_type": "markdown",
      "metadata": {
        "id": "view-in-github",
        "colab_type": "text"
      },
      "source": [
        "<a href=\"https://colab.research.google.com/github/joony0512/Deep_Learning_Class/blob/main/P2_Ch01_CH06_02.ipynb\" target=\"_parent\"><img src=\"https://colab.research.google.com/assets/colab-badge.svg\" alt=\"Open In Colab\"/></a>"
      ]
    },
    {
      "cell_type": "markdown",
      "source": [
        "# 6-1 : Max/Avg Pooling"
      ],
      "metadata": {
        "id": "gZvkKoY7nkFg"
      }
    },
    {
      "cell_type": "markdown",
      "source": [
        "## Code.6-1-1 : Max Pooling"
      ],
      "metadata": {
        "id": "QtPcoL-VnrUR"
      }
    },
    {
      "cell_type": "code",
      "execution_count": null,
      "metadata": {
        "colab": {
          "base_uri": "https://localhost:8080/"
        },
        "id": "jxmpNP2cnhf6",
        "outputId": "d633a74c-4139-4963-f43f-ca803e98a275"
      },
      "outputs": [
        {
          "output_type": "stream",
          "name": "stdout",
          "text": [
            "x:(1, 10, 1)\n",
            "[ 1.2447166   1.3832101  -1.2515789  -0.4829862   0.9514296  -0.08912619\n",
            "  0.00627052 -0.9235985  -0.9123558  -0.12326231]\n",
            "pooled_max(Tensorflow): (1, 9, 1)\n",
            "[ 1.3832101   1.3832101  -0.4829862   0.9514296   0.9514296   0.00627052\n",
            "  0.00627052 -0.9123558  -0.12326231]\n",
            "pooled_max(Manual) : (9,)\n",
            "[ 1.38321006  1.38321006 -0.48298621  0.95142961  0.95142961  0.00627052\n",
            "  0.00627052 -0.91235578 -0.12326231]\n"
          ]
        }
      ],
      "source": [
        "import numpy as np\n",
        "import tensorflow as tf\n",
        "\n",
        "from tensorflow.keras.layers import MaxPooling1D\n",
        "\n",
        "# L : 일차원벡터, f : \n",
        "L, f, s = 10, 2, 1\n",
        "\n",
        "# input\n",
        "x = tf.random.normal(shape=(1, L, 1))\n",
        "pool_max = MaxPooling1D(pool_size =f, strides = s)\n",
        "pooled_max = pool_max(x)\n",
        "print('x:{}\\n{}'.format(x.shape, x.numpy().flatten()))\n",
        "print('pooled_max(Tensorflow): {}\\n{}'.format(pooled_max.shape,\n",
        "                                              pooled_max.numpy().flatten()))\n",
        "\n",
        "x = x.numpy().flatten()\n",
        "pooled_max_man = np.zeros(L-f+1,)\n",
        "for i in range(L-f+1):\n",
        "  window = x[i:i+f]\n",
        "  pooled_max_man[i] =np.max(window)\n",
        "\n",
        "print('pooled_max(Manual) : {}\\n{}'.format(pooled_max_man.shape,\n",
        "                                           pooled_max_man))"
      ]
    },
    {
      "cell_type": "code",
      "source": [
        "import numpy as np\n",
        "import tensorflow as tf\n",
        "\n",
        "from tensorflow.keras.layers import AveragePooling1D\n",
        "\n",
        "# L : 일차원벡터, f : \n",
        "L, f, s = 10, 2, 1\n",
        "\n",
        "# input\n",
        "x = tf.random.normal(shape=(1, L, 1))\n",
        "pool_avg = AveragePooling1D(pool_size =f, strides = s)\n",
        "pooled_avg = pool_avg(x)\n",
        "print('x:{}\\n{}'.format(x.shape, x.numpy().flatten()))\n",
        "print('pooled_max(Tensorflow): {}\\n{}'.format(pooled_avg.shape,\n",
        "                                              pooled_avg.numpy().flatten()))\n",
        "\n",
        "x = x.numpy().flatten()\n",
        "pooled_avg_man = np.zeros(L-f+1,)\n",
        "for i in range(L-f+1):\n",
        "  window = x[i:i+f]\n",
        "  pooled_avg_man[i] =np.mean(window)\n",
        "\n",
        "print('pooled_max(Manual) : {}\\n{}'.format(pooled_avg_man.shape,\n",
        "                                           pooled_avg_man))"
      ],
      "metadata": {
        "colab": {
          "base_uri": "https://localhost:8080/"
        },
        "id": "Dy5qwVMZqRAN",
        "outputId": "aed05a57-a842-4236-e3b0-37f06eb197a0"
      },
      "execution_count": null,
      "outputs": [
        {
          "output_type": "stream",
          "name": "stdout",
          "text": [
            "x:(1, 10, 1)\n",
            "[ 1.000637    0.84759986  0.01503213  1.7470822  -1.28448     0.28558975\n",
            " -1.2283832  -1.0623399  -1.0191483   1.7212859 ]\n",
            "pooled_max(Tensorflow): (1, 9, 1)\n",
            "[ 0.92411846  0.431316    0.8810572   0.23130113 -0.4994451  -0.4713967\n",
            " -1.1453615  -1.0407441   0.3510688 ]\n",
            "pooled_max(Manual) : (9,)\n",
            "[ 0.92411846  0.43131599  0.8810572   0.23130113 -0.49944511 -0.47139671\n",
            " -1.14536154 -1.04074407  0.35106879]\n"
          ]
        }
      ]
    },
    {
      "cell_type": "markdown",
      "source": [
        "# 6-2 : 2D Max/Avg Pooling"
      ],
      "metadata": {
        "id": "WLN44IwSubio"
      }
    },
    {
      "cell_type": "markdown",
      "source": [
        "## Code.6-2-1: 2D Max Pooling"
      ],
      "metadata": {
        "id": "_wQWvgUuujRc"
      }
    },
    {
      "cell_type": "code",
      "source": [
        "import numpy as np\n",
        "import tensorflow as tf\n",
        "\n",
        "from tensorflow.keras.layers import MaxPooling2D\n",
        "\n",
        "N, n_H, n_W, n_C = 1,5,5,1\n",
        "f, s = 2,1\n",
        "\n",
        "x= tf.random.normal(shape =(N, n_H, n_W, n_C))\n",
        "pool_max = MaxPooling2D(pool_size =f, strides = s )\n",
        "pooled_max =pool_max(x)\n",
        "\n",
        "print('x : {}\\n{}'.format(x.shape, x.numpy().squeeze()))\n",
        "print('pooled_max(Tensorflow): {}\\n{}'.format(pooled_max.shape, \n",
        "                                              pooled_max.numpy().squeeze()))\n",
        "x = x.numpy().squeeze()\n",
        "pooled_max_man = np.zeros(shape=(n_H-f+1, n_W -f+1))\n",
        "for i in range(n_H - f+1):\n",
        "  for j in range(n_W - f +1):\n",
        "    window = x[i:i+f, j:j+f]\n",
        "    pooled_max_man[i, j]= np.max(window)\n",
        "print('pooled_max(Manual): {}\\n{}'.format(pooled_max_man.shape,\n",
        "                                          pooled_max_man))"
      ],
      "metadata": {
        "colab": {
          "base_uri": "https://localhost:8080/"
        },
        "id": "Lv0PpoIjuBn2",
        "outputId": "08eee458-ec14-4362-a75c-33ad74f9ee85"
      },
      "execution_count": null,
      "outputs": [
        {
          "output_type": "stream",
          "name": "stdout",
          "text": [
            "x : (1, 5, 5, 1)\n",
            "[[ 1.1603769  -0.8300858  -1.4952548  -0.48787087  1.193262  ]\n",
            " [ 0.89849615  0.72795683  1.1246506  -2.321891   -1.3592376 ]\n",
            " [-2.6366456  -0.6605461   3.3629277   0.11070692  0.18457706]\n",
            " [-0.5199297  -1.6319121  -0.9999058   0.63829446 -1.4728997 ]\n",
            " [-0.64863163 -1.4283165  -1.5529646   1.019174    0.35888112]]\n",
            "pooled_max(Tensorflow): (1, 4, 4, 1)\n",
            "[[ 1.1603769   1.1246506   1.1246506   1.193262  ]\n",
            " [ 0.89849615  3.3629277   3.3629277   0.18457706]\n",
            " [-0.5199297   3.3629277   3.3629277   0.63829446]\n",
            " [-0.5199297  -0.9999058   1.019174    1.019174  ]]\n",
            "pooled_max(Manual): (4, 4)\n",
            "[[ 1.16037691  1.1246506   1.1246506   1.19326198]\n",
            " [ 0.89849615  3.36292768  3.36292768  0.18457706]\n",
            " [-0.51992971  3.36292768  3.36292768  0.63829446]\n",
            " [-0.51992971 -0.99990582  1.01917398  1.01917398]]\n"
          ]
        }
      ]
    },
    {
      "cell_type": "markdown",
      "source": [
        "# Code.6-2-2 : 2D Average Pooling"
      ],
      "metadata": {
        "id": "VmiY33Mo1NYx"
      }
    },
    {
      "cell_type": "code",
      "source": [
        "import numpy as np\n",
        "import tensorflow as tf\n",
        "\n",
        "from tensorflow.keras.layers import AveragePooling2D\n",
        "\n",
        "N, n_H, n_W, n_C = 1,5,5,1\n",
        "f, s = 2,1\n",
        "\n",
        "x= tf.random.normal(shape =(N, n_H, n_W, n_C))\n",
        "pool_avg = AveragePooling2D(pool_size =f, strides = s )\n",
        "pooled_avg =pool_avg(x)\n",
        "\n",
        "print('x : {}\\n{}'.format(x.shape, x.numpy().squeeze()))\n",
        "print('pooled_avg(Tensorflow): {}\\n{}'.format(pooled_avg.shape, \n",
        "                                              pooled_avg.numpy().squeeze()))\n",
        "x = x.numpy().squeeze()\n",
        "pooled_avg_man = np.zeros(shape=(n_H-f+1, n_W -f+1))\n",
        "for i in range(n_H - f+1):\n",
        "  for j in range(n_W - f +1):\n",
        "    window = x[i:i+f, j:j+f]\n",
        "    pooled_avg_man[i, j]= np.mean(window)\n",
        "print('pooled_avg(Manual): {}\\n{}'.format(pooled_avg_man.shape,\n",
        "                                          pooled_avg_man))"
      ],
      "metadata": {
        "colab": {
          "base_uri": "https://localhost:8080/"
        },
        "id": "pPfG_yFAwkEF",
        "outputId": "3449cdc0-69a9-4b4b-f836-1edc609629eb"
      },
      "execution_count": null,
      "outputs": [
        {
          "output_type": "stream",
          "name": "stdout",
          "text": [
            "x : (1, 5, 5, 1)\n",
            "[[ 0.24530175 -1.2104038  -1.0850393  -0.5740698  -0.6450577 ]\n",
            " [-1.2462335   0.12407327  0.36363298 -0.5765526  -0.5624405 ]\n",
            " [-0.31247687 -0.1271624  -0.8405855  -1.2010375  -1.3926963 ]\n",
            " [ 0.13710935  1.2516989  -2.3642883   0.06136028 -1.4465034 ]\n",
            " [-0.5716074  -0.471651    1.1133924  -0.15693767  0.24213694]]\n",
            "pooled_avg(Tensorflow): (1, 4, 4, 1)\n",
            "[[-0.5218156  -0.45193422 -0.4680072  -0.5895301 ]\n",
            " [-0.39044988 -0.12001041 -0.5636357  -0.93318176]\n",
            " [ 0.23729223 -0.5200843  -1.0861378  -0.9947192 ]\n",
            " [ 0.08638746 -0.11771202 -0.33661833 -0.32498598]]\n",
            "pooled_avg(Manual): (4, 4)\n",
            "[[-0.5218156  -0.45193422 -0.46800721 -0.58953011]\n",
            " [-0.39044988 -0.12001041 -0.56363571 -0.93318176]\n",
            " [ 0.23729223 -0.52008432 -1.08613777 -0.99471921]\n",
            " [ 0.08638746 -0.11771202 -0.33661833 -0.32498598]]\n"
          ]
        }
      ]
    },
    {
      "cell_type": "code",
      "source": [],
      "metadata": {
        "id": "QD4amedp1lUg"
      },
      "execution_count": null,
      "outputs": []
    }
  ]
}
