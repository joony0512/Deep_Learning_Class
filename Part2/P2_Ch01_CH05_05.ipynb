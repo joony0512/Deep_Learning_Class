{
  "nbformat": 4,
  "nbformat_minor": 0,
  "metadata": {
    "colab": {
      "provenance": [],
      "authorship_tag": "ABX9TyMYJwF202YeNiXX8GenUT+u",
      "include_colab_link": true
    },
    "kernelspec": {
      "name": "python3",
      "display_name": "Python 3"
    },
    "language_info": {
      "name": "python"
    }
  },
  "cells": [
    {
      "cell_type": "markdown",
      "metadata": {
        "id": "view-in-github",
        "colab_type": "text"
      },
      "source": [
        "<a href=\"https://colab.research.google.com/github/joony0512/Deep_Learning_Class/blob/main/Part2/P2_Ch01_CH05_05.ipynb\" target=\"_parent\"><img src=\"https://colab.research.google.com/assets/colab-badge.svg\" alt=\"Open In Colab\"/></a>"
      ]
    },
    {
      "cell_type": "markdown",
      "source": [
        "# Conv layers with Filters"
      ],
      "metadata": {
        "id": "uzDic5ApfkS4"
      }
    },
    {
      "cell_type": "markdown",
      "source": [
        "## Code.5-2-1 : Shapes with Filters\n"
      ],
      "metadata": {
        "id": "nmEzVPXsfoqD"
      }
    },
    {
      "cell_type": "code",
      "execution_count": null,
      "metadata": {
        "colab": {
          "base_uri": "https://localhost:8080/"
        },
        "id": "qV8FkG1HeoRv",
        "outputId": "feeee750-799e-473f-fd0c-f44a9e8354c8"
      },
      "outputs": [
        {
          "output_type": "stream",
          "name": "stdout",
          "text": [
            "input images : (32, 28, 28, 3)\n",
            "W/B : (3, 3, 3, 5) /(5,)\n",
            "output Images: (32, 26, 26, 5)\n"
          ]
        }
      ],
      "source": [
        "import tensorflow as tf\n",
        "\n",
        "from tensorflow.keras.layers import Conv2D\n",
        "\n",
        "N, n_H, n_W, n_C = 32, 28, 28, 3\n",
        "n_filter = 5\n",
        "k_size = 3\n",
        "\n",
        "images = tf.random.uniform(minval = 0, maxval = 1, \n",
        "                           shape =(N, n_H, n_W, n_C) )\n",
        "conv = Conv2D(filters = n_filter, kernel_size = k_size)\n",
        "\n",
        "Y = conv(images)\n",
        "\n",
        "W, B = conv.get_weights()\n",
        "\n",
        "print(\"input images : {}\".format(images.shape))\n",
        "print(\"W/B : {} /{}\".format(W.shape, B.shape))\n",
        "print(\"output Images: {}\".format(Y.shape))"
      ]
    },
    {
      "cell_type": "markdown",
      "source": [
        "## Code.5-2-2 : Computations with Filters"
      ],
      "metadata": {
        "id": "c7FyLr9Uhhgw"
      }
    },
    {
      "cell_type": "code",
      "source": [
        "import numpy as np\n",
        "import tensorflow as tf\n",
        "\n",
        "from tensorflow.keras.layers import Conv2D\n",
        "\n",
        "N, n_H, n_W, n_C = 1, 5, 5, 3\n",
        "n_filter = 3\n",
        "k_size = 4\n",
        "\n",
        "images = tf.random.uniform( minval = 0 , maxval = 1, \n",
        "                           shape = (N, n_H, n_W, n_C))\n",
        "# Forward propagation(tensorflow)\n",
        "\n",
        "conv = Conv2D( filters = n_filter , kernel_size = k_size)\n",
        "Y = conv(images)\n",
        "Y = np.transpose(Y.numpy().squeeze(), (2,0,1))\n",
        "print(Y.shape)\n",
        "print(\"Y(tensorflow): \\n\", Y)\n",
        "\n",
        "W, B = conv.get_weights()\n",
        "\n",
        "# Forward Propagation(Manual)\n",
        "images = images.numpy().squeeze()\n",
        "\n",
        "Y_man = np.zeros(shape = (n_H - k_size + 1, n_W - k_size + 1 , n_filter))\n",
        "for c in range(n_filter):\n",
        "  c_W = W[:,:,:,c]\n",
        "  c_B = B[c]\n",
        "\n",
        "  for h in range(n_H -k_size + 1):\n",
        "    for j in range(n_W - k_size + 1):\n",
        "      window = images[h:h+k_size,j:j+k_size ]\n",
        "      conv = np.sum(window * c_W ) + c_B\n",
        "      \n",
        "      Y_man[h, j, c] = conv\n",
        "\n",
        "print(Y_man.shape)\n",
        "print('Y(Manual): \\n',np.transpose(Y_man, (2, 0, 1)))\n",
        "\n"
      ],
      "metadata": {
        "colab": {
          "base_uri": "https://localhost:8080/"
        },
        "id": "lesgebhtgp14",
        "outputId": "258043d9-bb5b-477c-f61f-a1a2f5279fd9"
      },
      "execution_count": null,
      "outputs": [
        {
          "output_type": "stream",
          "name": "stdout",
          "text": [
            "(3, 2, 2)\n",
            "Y(tensorflow): \n",
            " [[[-0.5469704  -1.4935812 ]\n",
            "  [-0.06841962 -0.9036249 ]]\n",
            "\n",
            " [[ 0.13781334  0.49202162]\n",
            "  [-0.4409072   0.36237657]]\n",
            "\n",
            " [[ 0.1924287   0.13010436]\n",
            "  [-0.01863828  0.0033572 ]]]\n",
            "(2, 2, 3)\n",
            "Y(Manual): \n",
            " [[[-0.54697037 -1.49358106]\n",
            "  [-0.06841958 -0.90362489]]\n",
            "\n",
            " [[ 0.1378134   0.49202162]\n",
            "  [-0.44090724  0.36237654]]\n",
            "\n",
            " [[ 0.19242865  0.13010432]\n",
            "  [-0.01863823  0.00335726]]]\n"
          ]
        }
      ]
    },
    {
      "cell_type": "code",
      "source": [
        "# 차원 이해하기\n",
        "\n",
        "import numpy as np\n",
        "\n",
        "images = np.random.randint(low=0, high = 10, size = (2,3,4))\n",
        "for c in range(4):\n",
        "  print(images[:, :, c])\n",
        "print(\"\\n\")\n",
        "\n",
        "print(images.shape)\n",
        "print(\"\\n\")\n",
        "\n",
        "images = np.transpose(images, (2, 0, 1))\n",
        "print(\"\\n\")\n",
        "print(images.shape)\n",
        "print(\"\\n\")\n",
        "\n",
        "for c in range(4):\n",
        "  print(images[c,:,:])"
      ],
      "metadata": {
        "id": "cotT5htZi6RM"
      },
      "execution_count": null,
      "outputs": []
    },
    {
      "cell_type": "markdown",
      "source": [
        "# 5-3 : Conv Layers with Activation Functions\n",
        "\n"
      ],
      "metadata": {
        "id": "XgY-NQZtru4l"
      }
    },
    {
      "cell_type": "markdown",
      "source": [
        "## Code.5-3-1 : Conv Layers with Activation Functions"
      ],
      "metadata": {
        "id": "ck2ukkonr3Is"
      }
    },
    {
      "cell_type": "code",
      "source": [
        "import numpy as np\n",
        "import tensorflow as tf\n",
        "\n",
        "from tensorflow.keras.layers import Conv2D\n",
        "\n",
        "N, n_H, n_W, n_C = 1, 5, 5, 3\n",
        "n_filters = 3\n",
        "k_size = 4\n",
        "\n",
        "images = tf.random.uniform(minval = 0, maxval = 1, \n",
        "                           shape = (N, n_H, n_W, n_C))\n",
        "#Forward Propagation (Tensorflow)\n",
        "conv = Conv2D(filters = n_filters, kernel_size = k_size , activation = 'sigmoid')\n",
        "Y = conv(images)\n",
        "Y = np.transpose(Y.numpy().squeeze(), (2,0,1))\n",
        "print(\"Y(tensorflow): \\n\", Y)\n",
        "\n",
        "W, B = conv.get_weights()\n",
        "\n",
        "#Forward Propagation (Manual)\n",
        "images = images.numpy().squeeze()\n",
        "\n",
        "Y_man = np.zeros(shape = (n_H -k_size + 1, n_W - k_size + 1, n_filters))\n",
        "for c in range(n_filter):\n",
        "  c_W = W[:,:,:,c]\n",
        "  c_B = B[c]\n",
        "  for h in range(n_H - k_size + 1):\n",
        "    for w in range(n_W - k_size + 1):\n",
        "      window = images[h:h+k_size, w:w+k_size]\n",
        "      conv = np.sum(window * c_W) + c_B\n",
        "      conv = 1/(1+np.exp(-conv))\n",
        "\n",
        "      Y_man[h, w, c]=conv\n",
        "print(\"Y(manual): \\n\", np.transpose(Y_man,(2,0,1)))"
      ],
      "metadata": {
        "colab": {
          "base_uri": "https://localhost:8080/"
        },
        "id": "d-u7VxLSlMy6",
        "outputId": "d25db4e9-d3c0-4b92-b4d0-1d487a6cdaf9"
      },
      "execution_count": null,
      "outputs": [
        {
          "output_type": "stream",
          "name": "stdout",
          "text": [
            "Y(tensorflow): \n",
            " [[[0.3349335  0.38311315]\n",
            "  [0.38283285 0.38970357]]\n",
            "\n",
            " [[0.47541493 0.6062699 ]\n",
            "  [0.5581051  0.5472177 ]]\n",
            "\n",
            " [[0.78086424 0.59490734]\n",
            "  [0.6617485  0.6046622 ]]]\n",
            "Y(manual): \n",
            " [[[0.33493354 0.3831132 ]\n",
            "  [0.38283281 0.38970363]]\n",
            "\n",
            " [[0.47541496 0.6062699 ]\n",
            "  [0.55810512 0.54721774]]\n",
            "\n",
            " [[0.78086424 0.59490735]\n",
            "  [0.66174851 0.60466219]]]\n"
          ]
        }
      ]
    },
    {
      "cell_type": "code",
      "source": [],
      "metadata": {
        "id": "SMo1PSJvtuNv"
      },
      "execution_count": null,
      "outputs": []
    }
  ]
}