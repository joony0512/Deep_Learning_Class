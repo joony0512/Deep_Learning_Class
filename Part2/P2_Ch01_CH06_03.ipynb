{
  "nbformat": 4,
  "nbformat_minor": 0,
  "metadata": {
    "colab": {
      "provenance": [],
      "authorship_tag": "ABX9TyMrWigKwk/wuLT8Q3YN/Fgb",
      "include_colab_link": true
    },
    "kernelspec": {
      "name": "python3",
      "display_name": "Python 3"
    },
    "language_info": {
      "name": "python"
    }
  },
  "cells": [
    {
      "cell_type": "markdown",
      "metadata": {
        "id": "view-in-github",
        "colab_type": "text"
      },
      "source": [
        "<a href=\"https://colab.research.google.com/github/joony0512/Deep_Learning_Class/blob/main/Part2/P2_Ch01_CH06_03.ipynb\" target=\"_parent\"><img src=\"https://colab.research.google.com/assets/colab-badge.svg\" alt=\"Open In Colab\"/></a>"
      ]
    },
    {
      "cell_type": "markdown",
      "source": [
        "# 6-3 : 3D Max/Avg Pooling"
      ],
      "metadata": {
        "id": "cchZgeMJ5dJE"
      }
    },
    {
      "cell_type": "markdown",
      "source": [
        "## Code.6-3-1 : 3D Max Pooling"
      ],
      "metadata": {
        "id": "dDy0z8MN5wWs"
      }
    },
    {
      "cell_type": "code",
      "execution_count": null,
      "metadata": {
        "colab": {
          "base_uri": "https://localhost:8080/"
        },
        "id": "_ab-UQ3e5W2Z",
        "outputId": "cab15a5c-49e0-4661-b473-4d9b41997684"
      },
      "outputs": [
        {
          "output_type": "stream",
          "name": "stdout",
          "text": [
            "pooled_max(Tensorflow): (1, 2, 2, 3)\n",
            "[[[ 1.1769856  -0.68595666]\n",
            "  [ 0.8137589   1.3162631 ]]\n",
            "\n",
            " [[ 1.1235462   0.8068078 ]\n",
            "  [ 1.8374122   0.42543724]]\n",
            "\n",
            " [[ 0.7435361   0.85628957]\n",
            "  [ 0.38841173  2.7729657 ]]]\n",
            "2 2\n",
            "(2, 2, 3)\n",
            "pooled_max(Man): (2, 2, 3)\n",
            "[[[ 1.17698562 -0.68595666]\n",
            "  [ 0.81375891  1.31626308]]\n",
            "\n",
            " [[ 1.12354624  0.80680782]\n",
            "  [ 1.83741224  0.42543724]]\n",
            "\n",
            " [[ 0.74353611  0.85628957]\n",
            "  [ 0.38841173  2.77296567]]]\n"
          ]
        }
      ],
      "source": [
        "import math\n",
        "import numpy as np\n",
        "import tensorflow as tf\n",
        "\n",
        "from tensorflow.keras.layers import MaxPooling2D\n",
        "\n",
        "N, n_H, n_W, n_C = 1,5,5,3\n",
        "f, s = 2,2\n",
        "x=tf.random.normal(shape = (N, n_H, n_W, n_C ))\n",
        "# print('x:{}\\n{}'.format(x.shape,\n",
        "                        # np.transpose(x.numpy().squeeze(), (2,0,1))))\n",
        "pool_max = MaxPooling2D(pool_size = f, strides = s)\n",
        "pooled_max = pool_max(x)\n",
        "\n",
        "pooled_max_t = np.transpose(pooled_max.numpy().squeeze(), (2,0,1))\n",
        "\n",
        "print('pooled_max(Tensorflow): {}\\n{}'.format(pooled_max.shape,\n",
        "                                              pooled_max_t))\n",
        "\n",
        "###\n",
        "x = x.numpy().squeeze()\n",
        "n_H_ = math.floor((n_H-f)/s + 1)\n",
        "n_W_ = math.floor((n_W-f)/s + 1)\n",
        "print(n_H_, n_W_)\n",
        "pooled_max_man = np.zeros(shape=(n_H_, n_W_, n_C))\n",
        "print(pooled_max_man.shape)\n",
        "\n",
        "for c in range(n_C):\n",
        "  c_image = x[:,:,c]\n",
        "   \n",
        "  h_ = 0\n",
        "  for h in range(0, n_H - f + 1 , s):\n",
        "    w_ = 0\n",
        "    for w in range(0, n_W -f + 1, s):\n",
        "      window = c_image[h:h+f, w:w+f]\n",
        "      pooled_max_man[h_,w_,c] =np.max(window)\n",
        "\n",
        "      w_ +=1\n",
        "    h_ +=1\n",
        "pooled_max_t = np.transpose(pooled_max_man.squeeze(), (2,0,1) )\n",
        "print('pooled_max(Man): {}\\n{}'.format(pooled_max_man.shape,\n",
        "                                       pooled_max_t           ))"
      ]
    },
    {
      "cell_type": "markdown",
      "source": [
        "# 6-4 : Padding"
      ],
      "metadata": {
        "id": "_-KB4rYC8-8m"
      }
    },
    {
      "cell_type": "markdown",
      "source": [
        "## Code.6-4-1: ZeroPadding2D Layer"
      ],
      "metadata": {
        "id": "xfkDqYLW9Cnk"
      }
    },
    {
      "cell_type": "code",
      "source": [
        "import tensorflow as tf\n",
        "from tensorflow.keras.layers import ZeroPadding2D\n",
        "\n",
        "images = tf.random.normal(shape = (1,28,28,3))\n",
        "print(images.shape)\n",
        "# print(np.transpose(images.numpy().squeeze(), (2,0,1)))\n",
        "\n",
        "zero_padding = ZeroPadding2D(padding =2)\n",
        "y = zero_padding(images)\n",
        "print(y.shape)\n",
        "# print(np.transpose(y.numpy().squeeze(), (2,0,1)))\n"
      ],
      "metadata": {
        "colab": {
          "base_uri": "https://localhost:8080/"
        },
        "id": "ooMaeDAa7KuF",
        "outputId": "3a32564f-a3a5-4667-9223-6bf12d679d48"
      },
      "execution_count": null,
      "outputs": [
        {
          "output_type": "stream",
          "name": "stdout",
          "text": [
            "(1, 28, 28, 3)\n",
            "(1, 32, 32, 3)\n"
          ]
        }
      ]
    },
    {
      "cell_type": "markdown",
      "source": [
        "## Code.6-4-2 : Zero Padding with Conv2D Layers"
      ],
      "metadata": {
        "id": "moGS5MxAcc-7"
      }
    },
    {
      "cell_type": "code",
      "source": [
        "import tensorflow as tf\n",
        "\n",
        "from tensorflow.keras.layers import Conv2D\n",
        "\n",
        "images = tf.random.normal(shape = (1,28,28,3))\n",
        "\n",
        "# padding = 'valid'이면 padding사용 안함, 'same'이면 input과 같은 사이즈로 알아서 패딩 생성 \n",
        "conv = Conv2D(filters = 1, kernel_size = 3, padding = 'same') # f-1/2 =p = 3-1/2=1 이면 output의 shape가 input과 같음\n",
        "y = conv(images)\n",
        "print(y.shape)"
      ],
      "metadata": {
        "colab": {
          "base_uri": "https://localhost:8080/"
        },
        "id": "J45oWNPoZFI1",
        "outputId": "c4e66d08-0215-45a6-c996-ae4b67522dc9"
      },
      "execution_count": null,
      "outputs": [
        {
          "output_type": "stream",
          "name": "stdout",
          "text": [
            "(1, 28, 28, 1)\n"
          ]
        }
      ]
    },
    {
      "cell_type": "markdown",
      "source": [
        "# 6-5 : Strides"
      ],
      "metadata": {
        "id": "-pdmOl8AeFr9"
      }
    },
    {
      "cell_type": "markdown",
      "source": [
        "## Code.6-5-1 : Strides in Conv2D Layers"
      ],
      "metadata": {
        "id": "9FBouvsJeLyl"
      }
    },
    {
      "cell_type": "code",
      "source": [
        "import tensorflow as tf\n",
        "from tensorflow.keras.layers import Conv2D\n",
        "\n",
        "images = tf.random.normal(shape = (1,28,28,3))\n",
        "conv = Conv2D(filters = 1, kernel_size = 3, padding = 'valid', strides = 2)\n",
        "y = conv(images)\n",
        "print(images.shape)\n",
        "print(y.shape)"
      ],
      "metadata": {
        "colab": {
          "base_uri": "https://localhost:8080/"
        },
        "id": "zOZmJM9ddv96",
        "outputId": "cd13b1dd-2caf-4602-9ac7-55d100f5e875"
      },
      "execution_count": null,
      "outputs": [
        {
          "output_type": "stream",
          "name": "stdout",
          "text": [
            "(1, 28, 28, 3)\n",
            "(1, 13, 13, 1)\n"
          ]
        }
      ]
    },
    {
      "cell_type": "markdown",
      "source": [
        "## Code.6-5-2 : Strides in Pooling Layers"
      ],
      "metadata": {
        "id": "wWp4_AHffCy1"
      }
    },
    {
      "cell_type": "code",
      "source": [
        "import tensorflow as tf\n",
        "from tensorflow.keras.layers import MaxPooling2D\n",
        "\n",
        "images = tf.random.normal(shape = (1,28,28,3))\n",
        "pool = MaxPooling2D(pool_size = 3, strides = 2)\n",
        "y = pool(images)\n",
        "print(images.shape)\n",
        "print(y.shape)"
      ],
      "metadata": {
        "colab": {
          "base_uri": "https://localhost:8080/"
        },
        "id": "7hklsftfe30g",
        "outputId": "01af4883-ff9e-4d1e-9f40-fa8954030bdc"
      },
      "execution_count": null,
      "outputs": [
        {
          "output_type": "stream",
          "name": "stdout",
          "text": [
            "(1, 28, 28, 3)\n",
            "(1, 13, 13, 3)\n"
          ]
        }
      ]
    },
    {
      "cell_type": "code",
      "source": [],
      "metadata": {
        "id": "3JJKVC0PfWGb"
      },
      "execution_count": null,
      "outputs": []
    }
  ]
}