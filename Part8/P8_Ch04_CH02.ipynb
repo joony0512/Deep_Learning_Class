{
  "nbformat": 4,
  "nbformat_minor": 0,
  "metadata": {
    "colab": {
      "provenance": [],
      "authorship_tag": "ABX9TyMeXka/lM7ViV+IWHcfx4M+",
      "include_colab_link": true
    },
    "kernelspec": {
      "name": "python3",
      "display_name": "Python 3"
    },
    "language_info": {
      "name": "python"
    }
  },
  "cells": [
    {
      "cell_type": "markdown",
      "metadata": {
        "id": "view-in-github",
        "colab_type": "text"
      },
      "source": [
        "<a href=\"https://colab.research.google.com/github/joony0512/Deep_Learning_Class/blob/main/%08Part8/P8_Ch04_CH02.ipynb\" target=\"_parent\"><img src=\"https://colab.research.google.com/assets/colab-badge.svg\" alt=\"Open In Colab\"/></a>"
      ]
    },
    {
      "cell_type": "code",
      "source": [
        "!pip install nbformat==5.8.0 nbconvert==7.3.1\n"
      ],
      "metadata": {
        "id": "tvzV9vUj80ri"
      },
      "execution_count": null,
      "outputs": []
    },
    {
      "cell_type": "markdown",
      "source": [
        "# 흑백 -> 컬러이미지 Colorization Task"
      ],
      "metadata": {
        "id": "s8ntUVNT0bBK"
      }
    },
    {
      "cell_type": "markdown",
      "source": [
        "\n",
        "  ![PFCN dataset](https://www.researchgate.net/profile/Dawei_Li49/publication/334417334/figure/fig4/AS:832930272276492@1575597460956/Sample-images-from-the-PFCN-dataset.jpg)\n",
        "\n",
        "     위의 이미지는 다음과 같은 것을 보여줍니다.  \n",
        "    - 800x600의 사람 portrait 이미지  \n",
        "     - ?????.png  \n",
        "    - 사람 영역에 대한 흑백 portrait 이미지\n",
        "     - ?????_matte.png\n",
        "    - pfcn_original\n",
        "     - 원본 800x600 이미지들\n",
        "    - pfcn_small\n",
        "     - colab용 100x75 이미지들\n",
        "\n",
        "\n",
        "\n",
        "- 데이터 출처:\n",
        " - [PFCN dataset](https://1drv.ms/u/s!ApwdOxIIFBH19Ts5EuFd9gVJrKTo)\n",
        " - [pfcn_small](https://drive.google.com/file/d/1_q37TRIFwtwhmSeLu_4h3SkFHrDSjeyl/view?usp=sharing)\n"
      ],
      "metadata": {
        "id": "kGhVPKebuO72"
      }
    },
    {
      "cell_type": "code",
      "execution_count": 1,
      "metadata": {
        "id": "qbFBN_1GsuwT"
      },
      "outputs": [],
      "source": [
        "import tensorflow as tf\n",
        "from tensorflow import keras\n",
        "from keras.layers import Dense\n",
        "from keras.models import Sequential\n",
        "\n",
        "import pandas as pd\n",
        "import numpy as np\n",
        "import matplotlib.pyplot as plt\n",
        "import seaborn as sns\n",
        "import warnings\n",
        "from IPython.display import Image\n",
        "\n",
        "warnings.filterwarnings('ignore')\n",
        "%matplotlib inline\n",
        "\n",
        "SEED = 34"
      ]
    },
    {
      "cell_type": "markdown",
      "source": [
        "# 1. EDA"
      ],
      "metadata": {
        "id": "AQGh_r89vXNd"
      }
    },
    {
      "cell_type": "code",
      "source": [
        "from google.colab import drive\n",
        "drive.mount('/gdrive', force_remount = True)"
      ],
      "metadata": {
        "colab": {
          "base_uri": "https://localhost:8080/"
        },
        "id": "DG7vrEZduaJv",
        "outputId": "1e40391b-1d4e-4283-ca85-5613d07d0dc6"
      },
      "execution_count": 3,
      "outputs": [
        {
          "output_type": "stream",
          "name": "stdout",
          "text": [
            "Mounted at /gdrive\n"
          ]
        }
      ]
    },
    {
      "cell_type": "code",
      "source": [
        "!ls -al /gdrive/MyDrive/딥러닝_정주행/P8_Ch02.인물사진에서배경없애기"
      ],
      "metadata": {
        "colab": {
          "base_uri": "https://localhost:8080/"
        },
        "id": "IIS90sTOxxO3",
        "outputId": "d6b80714-1c8f-4a11-c076-7423fde260b6"
      },
      "execution_count": 4,
      "outputs": [
        {
          "output_type": "stream",
          "name": "stdout",
          "text": [
            "total 161695\n",
            "-rw------- 1 root root  23713432 Oct 23 10:41 lecture003.h5\n",
            "-rw------- 1 root root   4572521 Oct 23 10:46 P8_Ch02_CH06,07.ipynb\n",
            "-rw------- 1 root root 137288603 Oct 12 07:20 pfcn_small.npz\n"
          ]
        }
      ]
    },
    {
      "cell_type": "code",
      "source": [
        "pfcn_small = np.load('/gdrive/MyDrive/딥러닝_정주행/P8_Ch02.인물사진에서배경없애기/pfcn_small.npz')\n"
      ],
      "metadata": {
        "id": "EpjQRHHNyx52"
      },
      "execution_count": 6,
      "outputs": []
    },
    {
      "cell_type": "code",
      "source": [
        "print(list(pfcn_small.keys()))\n",
        "\n",
        "train_images = pfcn_small['train_images']\n",
        "test_images = pfcn_small['test_images']"
      ],
      "metadata": {
        "colab": {
          "base_uri": "https://localhost:8080/"
        },
        "id": "IJTcw-W0zNz7",
        "outputId": "c8574fa2-f219-43f4-d1c3-57e55a15bba8"
      },
      "execution_count": 11,
      "outputs": [
        {
          "output_type": "stream",
          "name": "stdout",
          "text": [
            "['train_images', 'test_images', 'train_mattes', 'test_mattes']\n"
          ]
        }
      ]
    },
    {
      "cell_type": "code",
      "source": [
        "train_images[train_images !=0][:10]"
      ],
      "metadata": {
        "colab": {
          "base_uri": "https://localhost:8080/"
        },
        "id": "pMDmBcsk0O4l",
        "outputId": "bcbcd43d-0d93-4336-9992-e8b7e5de5284"
      },
      "execution_count": 14,
      "outputs": [
        {
          "output_type": "execute_result",
          "data": {
            "text/plain": [
              "array([0.23627451, 0.34803922, 0.64705882, 0.24509804, 0.35686275,\n",
              "       0.65588235, 0.25490196, 0.36470588, 0.66470588, 0.2372549 ])"
            ]
          },
          "metadata": {},
          "execution_count": 14
        }
      ]
    },
    {
      "cell_type": "code",
      "source": [
        "print(train_images.dtype)\n",
        "print(len(train_images))"
      ],
      "metadata": {
        "colab": {
          "base_uri": "https://localhost:8080/"
        },
        "id": "cN_t_gSj0uzG",
        "outputId": "6cb6bf3b-dc6e-4c13-b58b-0981e90e16c8"
      },
      "execution_count": 16,
      "outputs": [
        {
          "output_type": "stream",
          "name": "stdout",
          "text": [
            "float64\n",
            "1700\n"
          ]
        }
      ]
    },
    {
      "cell_type": "code",
      "source": [
        "print(train_images.shape, test_images.shape)\n",
        "print(len(train_images), len(test_images))\n"
      ],
      "metadata": {
        "colab": {
          "base_uri": "https://localhost:8080/"
        },
        "id": "Ph5vseqZ33nA",
        "outputId": "9570023e-6598-4f5f-cbe9-82b263f363c6"
      },
      "execution_count": 20,
      "outputs": [
        {
          "output_type": "stream",
          "name": "stdout",
          "text": [
            "(1700, 100, 75, 3) (300, 100, 75, 3)\n",
            "1700 300\n"
          ]
        }
      ]
    },
    {
      "cell_type": "code",
      "source": [
        "train_images[train_images !=0]"
      ],
      "metadata": {
        "colab": {
          "base_uri": "https://localhost:8080/"
        },
        "id": "Mxe5EJPZ4ljD",
        "outputId": "1c2c8b06-3fda-4270-9dde-ee6b8e08f422"
      },
      "execution_count": 21,
      "outputs": [
        {
          "output_type": "execute_result",
          "data": {
            "text/plain": [
              "array([0.23627451, 0.34803922, 0.64705882, ..., 0.05588235, 0.0245098 ,\n",
              "       0.01470588])"
            ]
          },
          "metadata": {},
          "execution_count": 21
        }
      ]
    },
    {
      "cell_type": "code",
      "source": [
        "train_images.dtype, test_images.dtype"
      ],
      "metadata": {
        "colab": {
          "base_uri": "https://localhost:8080/"
        },
        "id": "g_P1yFEf49VH",
        "outputId": "6bf2fe44-9161-482f-98b6-7bfb6671c9c2"
      },
      "execution_count": 22,
      "outputs": [
        {
          "output_type": "execute_result",
          "data": {
            "text/plain": [
              "(dtype('float64'), dtype('float64'))"
            ]
          },
          "metadata": {},
          "execution_count": 22
        }
      ]
    },
    {
      "cell_type": "code",
      "source": [
        "print(train_images.min())\n",
        "print(train_images.max())\n",
        "\n",
        "print('----------------')\n",
        "print(test_images.min())\n",
        "print(test_images.max())"
      ],
      "metadata": {
        "colab": {
          "base_uri": "https://localhost:8080/"
        },
        "id": "EZce1oMd1mAY",
        "outputId": "cca1ffba-379a-46db-8433-c74f7cc1c84f"
      },
      "execution_count": 23,
      "outputs": [
        {
          "output_type": "stream",
          "name": "stdout",
          "text": [
            "0.0\n",
            "1.0\n",
            "----------------\n",
            "0.0\n",
            "1.0\n"
          ]
        }
      ]
    },
    {
      "cell_type": "markdown",
      "source": [
        "# 2. 전처리"
      ],
      "metadata": {
        "id": "xkvDqoBa1-az"
      }
    },
    {
      "cell_type": "markdown",
      "source": [
        "- train_gray_images, test_gray_images 생성"
      ],
      "metadata": {
        "id": "Ws1kQNnN5Zma"
      }
    },
    {
      "cell_type": "code",
      "source": [
        "from skimage import color\n",
        "\n",
        "train_gray_images = np.array([color.rgb2gray(img).reshape((100, 75, 1)) for img in train_images])\n",
        "test_gray_images = np.array([color.rgb2gray(img).reshape((100, 75, 1)) for img in test_images])\n",
        "\n",
        "\n",
        "print(train_gray_images.shape, test_gray_images.shape)"
      ],
      "metadata": {
        "colab": {
          "base_uri": "https://localhost:8080/"
        },
        "id": "f8m0zBRC1-Fl",
        "outputId": "cf50a508-06c6-4c73-9726-d05f8d0b6fa5"
      },
      "execution_count": 25,
      "outputs": [
        {
          "output_type": "stream",
          "name": "stdout",
          "text": [
            "(1700, 100, 75, 1) (300, 100, 75, 1)\n"
          ]
        }
      ]
    },
    {
      "cell_type": "code",
      "source": [
        "plt.imshow(train_images[0])"
      ],
      "metadata": {
        "colab": {
          "base_uri": "https://localhost:8080/",
          "height": 451
        },
        "id": "E_5hKudK59zl",
        "outputId": "6deffef5-58ba-4b4f-b27e-9732ff9c2266"
      },
      "execution_count": 30,
      "outputs": [
        {
          "output_type": "execute_result",
          "data": {
            "text/plain": [
              "<matplotlib.image.AxesImage at 0x7f6bddcb1000>"
            ]
          },
          "metadata": {},
          "execution_count": 30
        },
        {
          "output_type": "display_data",
          "data": {
            "text/plain": [
              "<Figure size 640x480 with 1 Axes>"
            ],
            "image/png": "[encoded data removed]"
          },
          "metadata": {}
        }
      ]
    },
    {
      "cell_type": "code",
      "source": [
        "plt.imshow(train_gray_images[0], cmap ='gray')"
      ],
      "metadata": {
        "colab": {
          "base_uri": "https://localhost:8080/",
          "height": 451
        },
        "id": "Re6sIbz38ULC",
        "outputId": "a2a464bb-229c-4662-9089-9c2eba18ca84"
      },
      "execution_count": 31,
      "outputs": [
        {
          "output_type": "execute_result",
          "data": {
            "text/plain": [
              "<matplotlib.image.AxesImage at 0x7f6bddc4f460>"
            ]
          },
          "metadata": {},
          "execution_count": 31
        },
        {
          "output_type": "display_data",
          "data": {
            "text/plain": [
              "<Figure size 640x480 with 1 Axes>"
            ],
            "image/png": "[encoded data removed]"
          },
          "metadata": {}
        }
      ]
    },
    {
      "cell_type": "code",
      "source": [],
      "metadata": {
        "id": "Lyy8enTx8_zu"
      },
      "execution_count": null,
      "outputs": []
    }
  ]
}