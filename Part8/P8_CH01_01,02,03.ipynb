{
  "nbformat": 4,
  "nbformat_minor": 0,
  "metadata": {
    "colab": {
      "provenance": [],
      "authorship_tag": "ABX9TyN+op8C8AQfUk2UOjbXzH9W",
      "include_colab_link": true
    },
    "kernelspec": {
      "name": "python3",
      "display_name": "Python 3"
    },
    "language_info": {
      "name": "python"
    }
  },
  "cells": [
    {
      "cell_type": "markdown",
      "metadata": {
        "id": "view-in-github",
        "colab_type": "text"
      },
      "source": [
        "<a href=\"https://colab.research.google.com/github/joony0512/Deep_Learning_Class/blob/main/Part8/P8_CH01_01%2C02%2C03.ipynb\" target=\"_parent\"><img src=\"https://colab.research.google.com/assets/colab-badge.svg\" alt=\"Open In Colab\"/></a>"
      ]
    },
    {
      "cell_type": "markdown",
      "source": [
        "# 손상된 의류 이미지 화질 복구하기\n",
        "- AutoEncoder\n",
        "- FashionMNIST"
      ],
      "metadata": {
        "id": "88Xr6KKrQ7dU"
      }
    },
    {
      "cell_type": "code",
      "execution_count": 2,
      "metadata": {
        "id": "AaS8wiyAQtd9"
      },
      "outputs": [],
      "source": [
        "import tensorflow as tf\n",
        "from tensorflow import keras\n",
        "from keras.layers import Dense\n",
        "from keras.models import Sequential\n",
        "\n",
        "import pandas as pd\n",
        "import numpy as np\n",
        "import matplotlib.pyplot as plt\n",
        "import seaborn as sns\n",
        "import warnings\n",
        "from IPython.display import Image\n",
        "\n",
        "warnings.filterwarnings('ignore')\n",
        "%matplotlib inline\n",
        "\n",
        "SEED = 34"
      ]
    },
    {
      "cell_type": "markdown",
      "source": [
        "## 1. EDA"
      ],
      "metadata": {
        "id": "b10J_d26StRt"
      }
    },
    {
      "cell_type": "code",
      "source": [
        "fashion_mnist = keras.datasets.fashion_mnist\n",
        "(train_images, train_labels), (test_images, test_labels) = fashion_mnist.load_data()"
      ],
      "metadata": {
        "id": "G4sUs-exSlXC"
      },
      "execution_count": 24,
      "outputs": []
    },
    {
      "cell_type": "code",
      "source": [
        "print(train_images.shape)\n",
        "print(train_labels.shape)\n",
        "print(test_images.shape)\n",
        "print(test_labels.shape)"
      ],
      "metadata": {
        "colab": {
          "base_uri": "https://localhost:8080/"
        },
        "id": "HkqKvtkdTcXP",
        "outputId": "1f616496-1c36-4364-a16a-b3904e901ac3"
      },
      "execution_count": 25,
      "outputs": [
        {
          "output_type": "stream",
          "name": "stdout",
          "text": [
            "(60000, 28, 28)\n",
            "(60000,)\n",
            "(10000, 28, 28)\n",
            "(10000,)\n"
          ]
        }
      ]
    },
    {
      "cell_type": "code",
      "source": [
        "plt.imshow(train_images[0])\n",
        "plt.colorbar()\n",
        "plt.show()"
      ],
      "metadata": {
        "colab": {
          "base_uri": "https://localhost:8080/",
          "height": 430
        },
        "id": "Fyh7zjyATxts",
        "outputId": "6c2af3ca-a7c2-42db-97f9-ff70ab0c10c8"
      },
      "execution_count": 26,
      "outputs": [
        {
          "output_type": "display_data",
          "data": {
            "text/plain": [
              "<Figure size 640x480 with 2 Axes>"
            ],
            "image/png": "[encoded data removed]"
          },
          "metadata": {}
        }
      ]
    },
    {
      "cell_type": "code",
      "source": [
        "list(filter(lambda x : x!=0, train_images[0].reshape(-1)))[:10]"
      ],
      "metadata": {
        "colab": {
          "base_uri": "https://localhost:8080/"
        },
        "id": "7hKIIdu8T_Ng",
        "outputId": "c36afad7-67c0-4e6c-c9a1-fef113d2fac7"
      },
      "execution_count": 27,
      "outputs": [
        {
          "output_type": "execute_result",
          "data": {
            "text/plain": [
              "[1, 13, 73, 1, 4, 1, 1, 3, 36, 136]"
            ]
          },
          "metadata": {},
          "execution_count": 27
        }
      ]
    },
    {
      "cell_type": "code",
      "source": [
        "train_images.dtype"
      ],
      "metadata": {
        "colab": {
          "base_uri": "https://localhost:8080/"
        },
        "id": "4Z9xwmHMUgku",
        "outputId": "8b0a6d69-013f-4f3a-8a95-70732969f891"
      },
      "execution_count": 28,
      "outputs": [
        {
          "output_type": "execute_result",
          "data": {
            "text/plain": [
              "dtype('uint8')"
            ]
          },
          "metadata": {},
          "execution_count": 28
        }
      ]
    },
    {
      "cell_type": "markdown",
      "source": [
        "## 2. 전처리"
      ],
      "metadata": {
        "id": "eKY98g13VDyg"
      }
    },
    {
      "cell_type": "code",
      "source": [
        "print(list(filter(lambda x : x!=0, train_images[0].reshape(-1)))[:10])\n",
        "print(list(filter(lambda x : x!=0, test_images[0].reshape(-1)))[:10])"
      ],
      "metadata": {
        "colab": {
          "base_uri": "https://localhost:8080/"
        },
        "id": "gwd8WshnUmSD",
        "outputId": "36e503b5-8752-4b40-cb37-f09c833a48f5"
      },
      "execution_count": 29,
      "outputs": [
        {
          "output_type": "stream",
          "name": "stdout",
          "text": [
            "[1, 13, 73, 1, 4, 1, 1, 3, 36, 136]\n",
            "[3, 1, 7, 37, 1, 2, 27, 84, 11, 119]\n"
          ]
        }
      ]
    },
    {
      "cell_type": "code",
      "source": [
        "print(min(train_images[0].reshape(-1)), max(train_images[0].reshape(-1)))\n",
        "print(min(test_images[0].reshape(-1)), max(test_images[0].reshape(-1)))"
      ],
      "metadata": {
        "colab": {
          "base_uri": "https://localhost:8080/"
        },
        "id": "ruu0JVEYVhwC",
        "outputId": "fb96dc43-03f8-4f77-a63b-6c0db8e436ee"
      },
      "execution_count": 30,
      "outputs": [
        {
          "output_type": "stream",
          "name": "stdout",
          "text": [
            "0 255\n",
            "0 255\n"
          ]
        }
      ]
    },
    {
      "cell_type": "code",
      "source": [
        "train_images = train_images.astype(np.float64)\n",
        "test_images = test_images.astype(np.float64)\n",
        "\n",
        "print(train_images.dtype, test_images.dtype)"
      ],
      "metadata": {
        "colab": {
          "base_uri": "https://localhost:8080/"
        },
        "id": "ngFhwAl_Vvsf",
        "outputId": "4741ec55-4f17-40b1-9ebe-28626572d4fd"
      },
      "execution_count": 31,
      "outputs": [
        {
          "output_type": "stream",
          "name": "stdout",
          "text": [
            "float64 float64\n"
          ]
        }
      ]
    },
    {
      "cell_type": "code",
      "source": [
        "### 0-1 normalize\n",
        "train_images = train_images /255.0\n",
        "test_images = test_images /255.0"
      ],
      "metadata": {
        "id": "hKxf5a2IWWB6"
      },
      "execution_count": 32,
      "outputs": []
    },
    {
      "cell_type": "code",
      "source": [
        "print(min(train_images[0].reshape(-1)), max(train_images[0].reshape(-1)))\n",
        "print(min(test_images[0].reshape(-1)), max(test_images[0].reshape(-1)))"
      ],
      "metadata": {
        "colab": {
          "base_uri": "https://localhost:8080/"
        },
        "id": "ZxYyC84ZW9nh",
        "outputId": "e3be7bcc-b443-4e67-be4c-c7b50aee746d"
      },
      "execution_count": 33,
      "outputs": [
        {
          "output_type": "stream",
          "name": "stdout",
          "text": [
            "0.0 1.0\n",
            "0.0 1.0\n"
          ]
        }
      ]
    },
    {
      "cell_type": "code",
      "source": [
        "from skimage import color\n",
        "print(train_images.shape)\n",
        "print(color.gray2rgb(train_images[0]).shape) ## 컬러 이미지 형식으로 변경 (채널 확장)"
      ],
      "metadata": {
        "colab": {
          "base_uri": "https://localhost:8080/"
        },
        "id": "xrwPN3bgW_ZB",
        "outputId": "7afa71ad-9604-4177-e5ce-9b0af61a1892"
      },
      "execution_count": 34,
      "outputs": [
        {
          "output_type": "stream",
          "name": "stdout",
          "text": [
            "(60000, 28, 28)\n",
            "(28, 28, 3)\n"
          ]
        }
      ]
    },
    {
      "cell_type": "code",
      "source": [
        "train_images = np.array([color.gray2rgb(img) for img in train_images])\n",
        "test_images = np.array([color.gray2rgb(img) for img in test_images])\n",
        "\n",
        "print(train_images.shape, test_images.shape)"
      ],
      "metadata": {
        "colab": {
          "base_uri": "https://localhost:8080/"
        },
        "id": "8eDnu9dEX6bB",
        "outputId": "3a2b1ee0-917c-4a6f-ca8c-d964f08b0ec9"
      },
      "execution_count": 35,
      "outputs": [
        {
          "output_type": "stream",
          "name": "stdout",
          "text": [
            "(60000, 28, 28, 3) (10000, 28, 28, 3)\n"
          ]
        }
      ]
    },
    {
      "cell_type": "markdown",
      "source": [
        "## 3. Visualization"
      ],
      "metadata": {
        "id": "rw6HvrqxY8_R"
      }
    },
    {
      "cell_type": "code",
      "source": [
        "train_images[:5].shape"
      ],
      "metadata": {
        "colab": {
          "base_uri": "https://localhost:8080/"
        },
        "id": "hbLDB0vOYzlg",
        "outputId": "4d8593d9-bf9e-42c8-f73a-243c4dab2a5c"
      },
      "execution_count": 36,
      "outputs": [
        {
          "output_type": "execute_result",
          "data": {
            "text/plain": [
              "(5, 28, 28, 3)"
            ]
          },
          "metadata": {},
          "execution_count": 36
        }
      ]
    },
    {
      "cell_type": "code",
      "source": [
        "train_images[:5].transpose(1,0,2,3).reshape(28, 5*28, -1).shape"
      ],
      "metadata": {
        "colab": {
          "base_uri": "https://localhost:8080/"
        },
        "id": "I1_TlwjMaI4V",
        "outputId": "ffa64899-160f-428c-c7f9-986ef809c0c8"
      },
      "execution_count": 40,
      "outputs": [
        {
          "output_type": "execute_result",
          "data": {
            "text/plain": [
              "(28, 140, 3)"
            ]
          },
          "metadata": {},
          "execution_count": 40
        }
      ]
    },
    {
      "cell_type": "code",
      "source": [
        "plt.imshow(train_images[:5].transpose(1,0,2,3).reshape(28, 5*28, -1))"
      ],
      "metadata": {
        "colab": {
          "base_uri": "https://localhost:8080/",
          "height": 180
        },
        "id": "1Eapvf0AaRaT",
        "outputId": "00ab549f-f0e3-406d-8db4-26ac4349aacc"
      },
      "execution_count": 41,
      "outputs": [
        {
          "output_type": "execute_result",
          "data": {
            "text/plain": [
              "<matplotlib.image.AxesImage at 0x7c1615bd0070>"
            ]
          },
          "metadata": {},
          "execution_count": 41
        },
        {
          "output_type": "display_data",
          "data": {
            "text/plain": [
              "<Figure size 640x480 with 1 Axes>"
            ],
            "image/png": "[encoded data removed]"
          },
          "metadata": {}
        }
      ]
    },
    {
      "cell_type": "code",
      "source": [],
      "metadata": {
        "id": "B_t7eASWaltn"
      },
      "execution_count": null,
      "outputs": []
    }
  ]
}