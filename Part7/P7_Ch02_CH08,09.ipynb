{
  "nbformat": 4,
  "nbformat_minor": 0,
  "metadata": {
    "colab": {
      "provenance": [],
      "gpuType": "T4",
      "mount_file_id": "1VkKY1xcx9Sf4FaiflO3jAolTta5Xrpdx",
      "authorship_tag": "ABX9TyOfOpZWrLJjxybOLceBDJRL",
      "include_colab_link": true
    },
    "kernelspec": {
      "name": "python3",
      "display_name": "Python 3"
    },
    "language_info": {
      "name": "python"
    },
    "accelerator": "GPU"
  },
  "cells": [
    {
      "cell_type": "markdown",
      "metadata": {
        "id": "view-in-github",
        "colab_type": "text"
      },
      "source": [
        "<a href=\"https://colab.research.google.com/github/joony0512/Deep_Learning_Class/blob/main/Part7/P7_Ch02_CH08%2C09.ipynb\" target=\"_parent\"><img src=\"https://colab.research.google.com/assets/colab-badge.svg\" alt=\"Open In Colab\"/></a>"
      ]
    },
    {
      "cell_type": "markdown",
      "source": [
        "# 인물사진에서 성별과 표정분석하기"
      ],
      "metadata": {
        "id": "9zOEL_pXjAEN"
      }
    },
    {
      "cell_type": "code",
      "source": [
        "from google.colab import drive\n",
        "drive.mount('/content/drive')"
      ],
      "metadata": {
        "colab": {
          "base_uri": "https://localhost:8080/"
        },
        "id": "OCCfUur0U4gQ",
        "outputId": "a15387d8-66cd-41da-e2eb-545808424bf2"
      },
      "execution_count": 1,
      "outputs": [
        {
          "output_type": "stream",
          "name": "stdout",
          "text": [
            "Mounted at /content/drive\n"
          ]
        }
      ]
    },
    {
      "cell_type": "markdown",
      "source": [
        "## 전처리"
      ],
      "metadata": {
        "id": "naXZ0RqLlzkw"
      }
    },
    {
      "cell_type": "code",
      "execution_count": 2,
      "metadata": {
        "id": "hJ7I1CBEi-mv"
      },
      "outputs": [],
      "source": [
        "import tensorflow as tf\n",
        "from tensorflow import keras\n",
        "from keras.layers import Dense\n",
        "from keras.models import Sequential\n",
        "\n",
        "import pandas as pd\n",
        "import numpy as np\n",
        "import matplotlib.pyplot as plt\n",
        "import seaborn as sns\n",
        "import warnings\n",
        "from IPython.display import Image\n",
        "\n",
        "warnings.filterwarnings('ignore')\n",
        "%matplotlib inline\n",
        "\n",
        "SEED = 34"
      ]
    },
    {
      "cell_type": "code",
      "source": [
        "celeba_small = np.load('/content/drive/MyDrive/딥러닝_정주행/P7_Ch02.인물사진성별표정분석/celeba_small.npz')\n",
        "\n",
        "train_images = celeba_small['train_images']\n",
        "train_labels = celeba_small['train_labels']\n",
        "\n",
        "test_images = celeba_small['test_images']\n",
        "test_labels = celeba_small['test_labels']"
      ],
      "metadata": {
        "id": "F8VFrd6ol9X2"
      },
      "execution_count": 3,
      "outputs": []
    },
    {
      "cell_type": "code",
      "source": [
        "print(train_images.shape, test_images.shape)\n",
        "print(train_images.dtype, test_images.dtype)\n",
        "\n",
        "print(train_labels.shape, test_labels.shape)\n",
        "print(train_labels.dtype, test_labels.dtype)"
      ],
      "metadata": {
        "colab": {
          "base_uri": "https://localhost:8080/"
        },
        "id": "N5O4JN5mmHmE",
        "outputId": "61afd5f5-0082-4041-9c7d-330ab3593aa7"
      },
      "execution_count": 4,
      "outputs": [
        {
          "output_type": "stream",
          "name": "stdout",
          "text": [
            "(2000, 72, 59, 3) (200, 72, 59, 3)\n",
            "float64 float64\n",
            "(2000, 2) (200, 2)\n",
            "int8 int8\n"
          ]
        }
      ]
    },
    {
      "cell_type": "markdown",
      "source": [
        "### label one-hot encoding\n",
        "- (배치, 남자여부, 웃음여부) -> (배치, 여자, 남자, 안웃음, 웃음)"
      ],
      "metadata": {
        "id": "1scf0lT-rjal"
      }
    },
    {
      "cell_type": "code",
      "source": [
        "print(train_images.min(), train_images.max())\n",
        "print(train_labels.min(), train_labels.max())\n",
        "print(train_labels.shape, test_labels.shape)"
      ],
      "metadata": {
        "colab": {
          "base_uri": "https://localhost:8080/"
        },
        "id": "kl8y450KmZHS",
        "outputId": "eed78e60-06b3-4fc4-fdbc-8f54bc570926"
      },
      "execution_count": 5,
      "outputs": [
        {
          "output_type": "stream",
          "name": "stdout",
          "text": [
            "0.0 1.0\n",
            "0 1\n",
            "(2000, 2) (200, 2)\n"
          ]
        }
      ]
    },
    {
      "cell_type": "code",
      "source": [
        "from keras.utils import to_categorical\n",
        "train_male_labels , train_smile_labels = np.split(train_labels, 2, axis =1)\n",
        "test_male_labels , test_smile_labels = np.split(test_labels, 2, axis =1)\n",
        "\n",
        "print(train_male_labels.shape ,train_smile_labels.shape)\n",
        "print(train_male_labels[0] ,train_smile_labels[0], train_labels[0])"
      ],
      "metadata": {
        "colab": {
          "base_uri": "https://localhost:8080/"
        },
        "id": "Jo3SqgI7nFHQ",
        "outputId": "19226927-ded2-49e5-f2ae-400382d4ed50"
      },
      "execution_count": 6,
      "outputs": [
        {
          "output_type": "stream",
          "name": "stdout",
          "text": [
            "(2000, 1) (2000, 1)\n",
            "[0] [0] [0 0]\n"
          ]
        }
      ]
    },
    {
      "cell_type": "code",
      "source": [
        "train_male_labels = to_categorical(train_male_labels)\n",
        "train_smile_labels = to_categorical(train_smile_labels)\n",
        "test_male_labels = to_categorical(test_male_labels)\n",
        "test_smile_labels = to_categorical(test_smile_labels)\n"
      ],
      "metadata": {
        "id": "iBM92-o6njpj"
      },
      "execution_count": 7,
      "outputs": []
    },
    {
      "cell_type": "code",
      "source": [
        "print(train_male_labels.shape, train_smile_labels.shape)\n",
        "print(test_male_labels.shape, test_smile_labels.shape)\n"
      ],
      "metadata": {
        "colab": {
          "base_uri": "https://localhost:8080/"
        },
        "id": "6jrwDIPGozrl",
        "outputId": "49bb7d47-0c9e-4c5e-d68e-694bd2daf65a"
      },
      "execution_count": 8,
      "outputs": [
        {
          "output_type": "stream",
          "name": "stdout",
          "text": [
            "(2000, 2) (2000, 2)\n",
            "(200, 2) (200, 2)\n"
          ]
        }
      ]
    },
    {
      "cell_type": "code",
      "source": [
        "# (batch, male, smile) -> (batch, female, male, not smile, smile)\n",
        "\n",
        "train_labels2 = np.concatenate([train_male_labels, train_smile_labels], axis =1)\n",
        "test_labels2 = np.concatenate([test_male_labels, test_smile_labels], axis =1)"
      ],
      "metadata": {
        "id": "nYIDJAHZpjuo"
      },
      "execution_count": 9,
      "outputs": []
    },
    {
      "cell_type": "code",
      "source": [
        "train_labels2.shape, test_labels2.shape"
      ],
      "metadata": {
        "colab": {
          "base_uri": "https://localhost:8080/"
        },
        "id": "q_lDpWCNqX02",
        "outputId": "87aa0578-56ae-4f41-c6b4-b2b81fd3e3d3"
      },
      "execution_count": 10,
      "outputs": [
        {
          "output_type": "execute_result",
          "data": {
            "text/plain": [
              "((2000, 4), (200, 4))"
            ]
          },
          "metadata": {},
          "execution_count": 10
        }
      ]
    },
    {
      "cell_type": "code",
      "source": [
        "train_images[:5].shape"
      ],
      "metadata": {
        "colab": {
          "base_uri": "https://localhost:8080/"
        },
        "id": "VFLcj4h_qrz5",
        "outputId": "e7a242c8-a845-4480-fe4b-fe2772df7525"
      },
      "execution_count": 11,
      "outputs": [
        {
          "output_type": "execute_result",
          "data": {
            "text/plain": [
              "(5, 72, 59, 3)"
            ]
          },
          "metadata": {},
          "execution_count": 11
        }
      ]
    },
    {
      "cell_type": "markdown",
      "source": [
        "## 6. Multi Output Modeling"
      ],
      "metadata": {
        "id": "4APnfRk3SSSy"
      }
    },
    {
      "cell_type": "code",
      "source": [
        "# input : (batch, 72, 59, 3)\n",
        "# output : (batch, 4)\n",
        "\n",
        "from keras.models import Model\n",
        "from keras.layers import Conv2D, MaxPool2D, Dense, Input, Flatten, Concatenate\n",
        "\n",
        "def Multi_model():\n",
        "    inputs = Input((72, 59, 3))\n",
        "\n",
        "    l1 = Conv2D(32, 3, activation = 'relu')(inputs)\n",
        "    l2 = MaxPool2D(2)(l1)\n",
        "    l3 = Conv2D(64, 3, activation = 'relu')(l2)\n",
        "    l4 = MaxPool2D(2)(l3)\n",
        "    l5 = Conv2D(64, 3, activation = 'relu')(l4)\n",
        "    l6 = MaxPool2D(2)(l5)\n",
        "\n",
        "    l7 = Flatten()(l6)\n",
        "    latent_vector = Dense(64, activation = 'relu')(l7)\n",
        "\n",
        "    # latent vector sharing\n",
        "    gender_outputs = Dense(2, activation = 'softmax')(latent_vector)\n",
        "    smile_outputs = Dense(2, activation = 'softmax')(latent_vector)\n",
        "\n",
        "\n",
        "    model = Model(inputs, [gender_outputs, smile_outputs])\n",
        "    return model\n",
        "\n"
      ],
      "metadata": {
        "id": "Op7PwxvBVhZ3"
      },
      "execution_count": 15,
      "outputs": []
    },
    {
      "cell_type": "code",
      "source": [
        "model2 = Multi_model()\n",
        "model2.summary()"
      ],
      "metadata": {
        "colab": {
          "base_uri": "https://localhost:8080/"
        },
        "id": "X2ZCcfR6YRJ-",
        "outputId": "caf86af7-31d6-4246-b350-7051010523db"
      },
      "execution_count": 16,
      "outputs": [
        {
          "output_type": "stream",
          "name": "stdout",
          "text": [
            "Model: \"model_1\"\n",
            "__________________________________________________________________________________________________\n",
            " Layer (type)                Output Shape                 Param #   Connected to                  \n",
            "==================================================================================================\n",
            " input_2 (InputLayer)        [(None, 72, 59, 3)]          0         []                            \n",
            "                                                                                                  \n",
            " conv2d_3 (Conv2D)           (None, 70, 57, 32)           896       ['input_2[0][0]']             \n",
            "                                                                                                  \n",
            " max_pooling2d_3 (MaxPoolin  (None, 35, 28, 32)           0         ['conv2d_3[0][0]']            \n",
            " g2D)                                                                                             \n",
            "                                                                                                  \n",
            " conv2d_4 (Conv2D)           (None, 33, 26, 64)           18496     ['max_pooling2d_3[0][0]']     \n",
            "                                                                                                  \n",
            " max_pooling2d_4 (MaxPoolin  (None, 16, 13, 64)           0         ['conv2d_4[0][0]']            \n",
            " g2D)                                                                                             \n",
            "                                                                                                  \n",
            " conv2d_5 (Conv2D)           (None, 14, 11, 64)           36928     ['max_pooling2d_4[0][0]']     \n",
            "                                                                                                  \n",
            " max_pooling2d_5 (MaxPoolin  (None, 7, 5, 64)             0         ['conv2d_5[0][0]']            \n",
            " g2D)                                                                                             \n",
            "                                                                                                  \n",
            " flatten_1 (Flatten)         (None, 2240)                 0         ['max_pooling2d_5[0][0]']     \n",
            "                                                                                                  \n",
            " dense_3 (Dense)             (None, 64)                   143424    ['flatten_1[0][0]']           \n",
            "                                                                                                  \n",
            " dense_4 (Dense)             (None, 2)                    130       ['dense_3[0][0]']             \n",
            "                                                                                                  \n",
            " dense_5 (Dense)             (None, 2)                    130       ['dense_3[0][0]']             \n",
            "                                                                                                  \n",
            "==================================================================================================\n",
            "Total params: 200004 (781.27 KB)\n",
            "Trainable params: 200004 (781.27 KB)\n",
            "Non-trainable params: 0 (0.00 Byte)\n",
            "__________________________________________________________________________________________________\n"
          ]
        }
      ]
    },
    {
      "cell_type": "code",
      "source": [
        "model2.compile(loss = 'categorical_crossentropy', optimizer = 'adam', metrics =['accuracy'])\n"
      ],
      "metadata": {
        "id": "didZXZMnYz-Z"
      },
      "execution_count": 19,
      "outputs": []
    },
    {
      "cell_type": "code",
      "source": [
        "hist2 = model2.fit(train_images, [train_male_labels, train_smile_labels], validation_data = (test_images, [test_male_labels, test_smile_labels]), epochs = 15, verbose =1)"
      ],
      "metadata": {
        "colab": {
          "base_uri": "https://localhost:8080/"
        },
        "id": "Ieb5vFOsY_6P",
        "outputId": "5a532690-021e-4748-8e8f-b2b326ad1d61"
      },
      "execution_count": 24,
      "outputs": [
        {
          "output_type": "stream",
          "name": "stdout",
          "text": [
            "Epoch 1/15\n",
            "63/63 [==============================] - 5s 17ms/step - loss: 1.3496 - dense_4_loss: 0.6612 - dense_5_loss: 0.6884 - dense_4_accuracy: 0.6045 - dense_5_accuracy: 0.5395 - val_loss: 1.2799 - val_dense_4_loss: 0.5973 - val_dense_5_loss: 0.6826 - val_dense_4_accuracy: 0.6900 - val_dense_5_accuracy: 0.5350\n",
            "Epoch 2/15\n",
            "63/63 [==============================] - 1s 10ms/step - loss: 1.1910 - dense_4_loss: 0.5355 - dense_5_loss: 0.6555 - dense_4_accuracy: 0.7365 - dense_5_accuracy: 0.6100 - val_loss: 1.1812 - val_dense_4_loss: 0.5370 - val_dense_5_loss: 0.6442 - val_dense_4_accuracy: 0.7750 - val_dense_5_accuracy: 0.6050\n",
            "Epoch 3/15\n",
            "63/63 [==============================] - 1s 9ms/step - loss: 0.9756 - dense_4_loss: 0.4147 - dense_5_loss: 0.5609 - dense_4_accuracy: 0.8035 - dense_5_accuracy: 0.7200 - val_loss: 0.9195 - val_dense_4_loss: 0.4317 - val_dense_5_loss: 0.4877 - val_dense_4_accuracy: 0.8600 - val_dense_5_accuracy: 0.7800\n",
            "Epoch 4/15\n",
            "63/63 [==============================] - 1s 9ms/step - loss: 0.7123 - dense_4_loss: 0.2974 - dense_5_loss: 0.4149 - dense_4_accuracy: 0.8810 - dense_5_accuracy: 0.8080 - val_loss: 0.7080 - val_dense_4_loss: 0.3513 - val_dense_5_loss: 0.3567 - val_dense_4_accuracy: 0.8850 - val_dense_5_accuracy: 0.8500\n",
            "Epoch 5/15\n",
            "63/63 [==============================] - 1s 8ms/step - loss: 0.5276 - dense_4_loss: 0.2165 - dense_5_loss: 0.3111 - dense_4_accuracy: 0.9140 - dense_5_accuracy: 0.8700 - val_loss: 0.6981 - val_dense_4_loss: 0.3168 - val_dense_5_loss: 0.3812 - val_dense_4_accuracy: 0.9050 - val_dense_5_accuracy: 0.8350\n",
            "Epoch 6/15\n",
            "63/63 [==============================] - 1s 13ms/step - loss: 0.4406 - dense_4_loss: 0.1697 - dense_5_loss: 0.2709 - dense_4_accuracy: 0.9400 - dense_5_accuracy: 0.8840 - val_loss: 0.6629 - val_dense_4_loss: 0.3695 - val_dense_5_loss: 0.2935 - val_dense_4_accuracy: 0.8700 - val_dense_5_accuracy: 0.8950\n",
            "Epoch 7/15\n",
            "63/63 [==============================] - 1s 9ms/step - loss: 0.3891 - dense_4_loss: 0.1477 - dense_5_loss: 0.2414 - dense_4_accuracy: 0.9395 - dense_5_accuracy: 0.9000 - val_loss: 0.6028 - val_dense_4_loss: 0.3282 - val_dense_5_loss: 0.2746 - val_dense_4_accuracy: 0.9150 - val_dense_5_accuracy: 0.8900\n",
            "Epoch 8/15\n",
            "63/63 [==============================] - 1s 8ms/step - loss: 0.3180 - dense_4_loss: 0.1168 - dense_5_loss: 0.2013 - dense_4_accuracy: 0.9520 - dense_5_accuracy: 0.9125 - val_loss: 0.6338 - val_dense_4_loss: 0.3104 - val_dense_5_loss: 0.3234 - val_dense_4_accuracy: 0.9100 - val_dense_5_accuracy: 0.8700\n",
            "Epoch 9/15\n",
            "63/63 [==============================] - 0s 8ms/step - loss: 0.2872 - dense_4_loss: 0.0985 - dense_5_loss: 0.1887 - dense_4_accuracy: 0.9595 - dense_5_accuracy: 0.9220 - val_loss: 0.6068 - val_dense_4_loss: 0.3088 - val_dense_5_loss: 0.2979 - val_dense_4_accuracy: 0.9050 - val_dense_5_accuracy: 0.8900\n",
            "Epoch 10/15\n",
            "63/63 [==============================] - 1s 8ms/step - loss: 0.2311 - dense_4_loss: 0.0694 - dense_5_loss: 0.1617 - dense_4_accuracy: 0.9795 - dense_5_accuracy: 0.9320 - val_loss: 0.5936 - val_dense_4_loss: 0.3143 - val_dense_5_loss: 0.2793 - val_dense_4_accuracy: 0.9050 - val_dense_5_accuracy: 0.8850\n",
            "Epoch 11/15\n",
            "63/63 [==============================] - 1s 9ms/step - loss: 0.1762 - dense_4_loss: 0.0484 - dense_5_loss: 0.1278 - dense_4_accuracy: 0.9855 - dense_5_accuracy: 0.9490 - val_loss: 0.6026 - val_dense_4_loss: 0.3301 - val_dense_5_loss: 0.2725 - val_dense_4_accuracy: 0.9050 - val_dense_5_accuracy: 0.9000\n",
            "Epoch 12/15\n",
            "63/63 [==============================] - 0s 8ms/step - loss: 0.1538 - dense_4_loss: 0.0339 - dense_5_loss: 0.1199 - dense_4_accuracy: 0.9910 - dense_5_accuracy: 0.9550 - val_loss: 0.6652 - val_dense_4_loss: 0.3600 - val_dense_5_loss: 0.3052 - val_dense_4_accuracy: 0.9000 - val_dense_5_accuracy: 0.8800\n",
            "Epoch 13/15\n",
            "63/63 [==============================] - 0s 8ms/step - loss: 0.1557 - dense_4_loss: 0.0375 - dense_5_loss: 0.1182 - dense_4_accuracy: 0.9895 - dense_5_accuracy: 0.9550 - val_loss: 0.7367 - val_dense_4_loss: 0.3856 - val_dense_5_loss: 0.3511 - val_dense_4_accuracy: 0.9150 - val_dense_5_accuracy: 0.9000\n",
            "Epoch 14/15\n",
            "63/63 [==============================] - 0s 8ms/step - loss: 0.0925 - dense_4_loss: 0.0225 - dense_5_loss: 0.0701 - dense_4_accuracy: 0.9940 - dense_5_accuracy: 0.9780 - val_loss: 0.7128 - val_dense_4_loss: 0.4257 - val_dense_5_loss: 0.2871 - val_dense_4_accuracy: 0.8900 - val_dense_5_accuracy: 0.9000\n",
            "Epoch 15/15\n",
            "63/63 [==============================] - 0s 8ms/step - loss: 0.0631 - dense_4_loss: 0.0151 - dense_5_loss: 0.0481 - dense_4_accuracy: 0.9965 - dense_5_accuracy: 0.9865 - val_loss: 0.8153 - val_dense_4_loss: 0.4518 - val_dense_5_loss: 0.3634 - val_dense_4_accuracy: 0.9100 - val_dense_5_accuracy: 0.8900\n"
          ]
        }
      ]
    },
    {
      "cell_type": "code",
      "source": [
        "plt.plot(hist2.history['dense_4_accuracy'], label = 'gender_accuracy')\n",
        "plt.plot(hist2.history['dense_4_loss'], label = 'gender_loss')\n",
        "\n",
        "plt.plot(hist2.history['dense_5_accuracy'], label = 'smile_accuracy')\n",
        "plt.plot(hist2.history['dense_5_loss'], label = 'smile_loss')\n",
        "\n",
        "plt.plot(hist2.history['val_dense_4_accuracy'], label = 'val_gender_accuracy')\n",
        "plt.plot(hist2.history['val_dense_4_loss'], label = 'val_gender_loss')\n",
        "\n",
        "plt.plot(hist2.history['val_dense_5_accuracy'], label = 'val_smile_accuracy')\n",
        "plt.plot(hist2.history['val_dense_5_loss'], label = 'val_smile_loss')\n",
        "\n",
        "plt.legend(loc ='upper left')\n",
        "plt.show()"
      ],
      "metadata": {
        "colab": {
          "base_uri": "https://localhost:8080/",
          "height": 430
        },
        "id": "ppZ_7oUIcY7F",
        "outputId": "2d6f7271-11d7-447b-ce9c-9521f3fefa97"
      },
      "execution_count": 29,
      "outputs": [
        {
          "output_type": "display_data",
          "data": {
            "text/plain": [
              "<Figure size 640x480 with 1 Axes>"
            ],
            "image/png": "[encoded data removed]"
          },
          "metadata": {}
        }
      ]
    },
    {
      "cell_type": "code",
      "source": [
        "hist2.history"
      ],
      "metadata": {
        "colab": {
          "base_uri": "https://localhost:8080/"
        },
        "id": "wteSZSDIdaj2",
        "outputId": "6a589baf-42b3-440d-a7a5-922f42bf130b"
      },
      "execution_count": 27,
      "outputs": [
        {
          "output_type": "execute_result",
          "data": {
            "text/plain": [
              "{'loss': [1.349579930305481,\n",
              "  1.1910030841827393,\n",
              "  0.9756280183792114,\n",
              "  0.712311327457428,\n",
              "  0.527613639831543,\n",
              "  0.44061899185180664,\n",
              "  0.38913318514823914,\n",
              "  0.31802794337272644,\n",
              "  0.28721383213996887,\n",
              "  0.23108775913715363,\n",
              "  0.1761840581893921,\n",
              "  0.15381582081317902,\n",
              "  0.155702143907547,\n",
              "  0.09254562854766846,\n",
              "  0.06314656138420105],\n",
              " 'dense_4_loss': [0.6611643433570862,\n",
              "  0.5355278253555298,\n",
              "  0.41468581557273865,\n",
              "  0.29738473892211914,\n",
              "  0.21649612486362457,\n",
              "  0.16968344151973724,\n",
              "  0.14768806099891663,\n",
              "  0.11675439774990082,\n",
              "  0.09851377457380295,\n",
              "  0.06935437768697739,\n",
              "  0.0483514741063118,\n",
              "  0.03389737010002136,\n",
              "  0.037479620426893234,\n",
              "  0.022462163120508194,\n",
              "  0.015062854625284672],\n",
              " 'dense_5_loss': [0.6884154081344604,\n",
              "  0.6554754376411438,\n",
              "  0.5609421730041504,\n",
              "  0.41492655873298645,\n",
              "  0.3111175000667572,\n",
              "  0.270935595035553,\n",
              "  0.24144519865512848,\n",
              "  0.2012735903263092,\n",
              "  0.18870005011558533,\n",
              "  0.16173329949378967,\n",
              "  0.12783262133598328,\n",
              "  0.11991844326257706,\n",
              "  0.11822253465652466,\n",
              "  0.07008346915245056,\n",
              "  0.04808371886610985],\n",
              " 'dense_4_accuracy': [0.6044999957084656,\n",
              "  0.7365000247955322,\n",
              "  0.8034999966621399,\n",
              "  0.8809999823570251,\n",
              "  0.9139999747276306,\n",
              "  0.9399999976158142,\n",
              "  0.9394999742507935,\n",
              "  0.9520000219345093,\n",
              "  0.9595000147819519,\n",
              "  0.9794999957084656,\n",
              "  0.9854999780654907,\n",
              "  0.9909999966621399,\n",
              "  0.9894999861717224,\n",
              "  0.9940000176429749,\n",
              "  0.9965000152587891],\n",
              " 'dense_5_accuracy': [0.5394999980926514,\n",
              "  0.6100000143051147,\n",
              "  0.7200000286102295,\n",
              "  0.8080000281333923,\n",
              "  0.8700000047683716,\n",
              "  0.8840000033378601,\n",
              "  0.8999999761581421,\n",
              "  0.9125000238418579,\n",
              "  0.921999990940094,\n",
              "  0.9319999814033508,\n",
              "  0.9490000009536743,\n",
              "  0.9549999833106995,\n",
              "  0.9549999833106995,\n",
              "  0.9779999852180481,\n",
              "  0.9865000247955322],\n",
              " 'val_loss': [1.2799365520477295,\n",
              "  1.1812344789505005,\n",
              "  0.9194899201393127,\n",
              "  0.7080284953117371,\n",
              "  0.6980774402618408,\n",
              "  0.6629458665847778,\n",
              "  0.6028140187263489,\n",
              "  0.6337945461273193,\n",
              "  0.6067820191383362,\n",
              "  0.5936003923416138,\n",
              "  0.6026150584220886,\n",
              "  0.6651846170425415,\n",
              "  0.7366746664047241,\n",
              "  0.7128097414970398,\n",
              "  0.8152545094490051],\n",
              " 'val_dense_4_loss': [0.5972995162010193,\n",
              "  0.5369879603385925,\n",
              "  0.4317494332790375,\n",
              "  0.35134902596473694,\n",
              "  0.31684428453445435,\n",
              "  0.36948078870773315,\n",
              "  0.3282097280025482,\n",
              "  0.3103918731212616,\n",
              "  0.3088408410549164,\n",
              "  0.3142828643321991,\n",
              "  0.3301059603691101,\n",
              "  0.35999035835266113,\n",
              "  0.3855903148651123,\n",
              "  0.42574217915534973,\n",
              "  0.451833575963974],\n",
              " 'val_dense_5_loss': [0.6826369762420654,\n",
              "  0.6442465782165527,\n",
              "  0.4877404272556305,\n",
              "  0.3566794991493225,\n",
              "  0.3812331259250641,\n",
              "  0.2934650182723999,\n",
              "  0.27460429072380066,\n",
              "  0.3234027028083801,\n",
              "  0.2979411482810974,\n",
              "  0.2793174684047699,\n",
              "  0.2725090980529785,\n",
              "  0.30519431829452515,\n",
              "  0.35108432173728943,\n",
              "  0.2870675325393677,\n",
              "  0.36342093348503113],\n",
              " 'val_dense_4_accuracy': [0.6899999976158142,\n",
              "  0.7749999761581421,\n",
              "  0.8600000143051147,\n",
              "  0.8849999904632568,\n",
              "  0.9049999713897705,\n",
              "  0.8700000047683716,\n",
              "  0.9150000214576721,\n",
              "  0.9100000262260437,\n",
              "  0.9049999713897705,\n",
              "  0.9049999713897705,\n",
              "  0.9049999713897705,\n",
              "  0.8999999761581421,\n",
              "  0.9150000214576721,\n",
              "  0.8899999856948853,\n",
              "  0.9100000262260437],\n",
              " 'val_dense_5_accuracy': [0.5350000262260437,\n",
              "  0.6050000190734863,\n",
              "  0.7799999713897705,\n",
              "  0.8500000238418579,\n",
              "  0.8349999785423279,\n",
              "  0.8949999809265137,\n",
              "  0.8899999856948853,\n",
              "  0.8700000047683716,\n",
              "  0.8899999856948853,\n",
              "  0.8849999904632568,\n",
              "  0.8999999761581421,\n",
              "  0.8799999952316284,\n",
              "  0.8999999761581421,\n",
              "  0.8999999761581421,\n",
              "  0.8899999856948853]}"
            ]
          },
          "metadata": {},
          "execution_count": 27
        }
      ]
    },
    {
      "cell_type": "markdown",
      "source": [
        "## 7. 결과확인"
      ],
      "metadata": {
        "id": "B_MH7Y3PfFQw"
      }
    },
    {
      "cell_type": "code",
      "source": [
        "res =model2.predict(test_images[0:1])\n",
        "print(res[0][0], res[1][0])\n",
        "print(len(res))\n",
        "print(res[0].shape, res[1].shape)"
      ],
      "metadata": {
        "colab": {
          "base_uri": "https://localhost:8080/"
        },
        "id": "Hojsy6Fad1hX",
        "outputId": "4846a731-52fb-4c52-8791-490d5d473be2"
      },
      "execution_count": 45,
      "outputs": [
        {
          "output_type": "stream",
          "name": "stdout",
          "text": [
            "1/1 [==============================] - 0s 18ms/step\n",
            "[4.1441742e-04 9.9958557e-01] [1.0513933e-06 9.9999893e-01]\n",
            "2\n",
            "(1, 2) (1, 2)\n"
          ]
        }
      ]
    },
    {
      "cell_type": "code",
      "source": [
        "plt.imshow(test_images[0])\n",
        "plt.show()"
      ],
      "metadata": {
        "colab": {
          "base_uri": "https://localhost:8080/",
          "height": 433
        },
        "id": "_ugJyTlhfjVO",
        "outputId": "20212677-1e07-4fbe-8627-f71892459c6a"
      },
      "execution_count": 46,
      "outputs": [
        {
          "output_type": "display_data",
          "data": {
            "text/plain": [
              "<Figure size 640x480 with 1 Axes>"
            ],
            "image/png": "[encoded data removed]"
          },
          "metadata": {}
        }
      ]
    },
    {
      "cell_type": "code",
      "source": [
        "plt.bar(np.arange(2), res[0][0])\n",
        "plt.bar(np.arange(2)+0.3, test_male_labels[0])\n",
        "plt.show()\n",
        "print(res[0][0])"
      ],
      "metadata": {
        "colab": {
          "base_uri": "https://localhost:8080/",
          "height": 447
        },
        "id": "rXYI59GdgE1F",
        "outputId": "d7c49f4b-e349-4431-9400-5372e65edbdc"
      },
      "execution_count": 47,
      "outputs": [
        {
          "output_type": "display_data",
          "data": {
            "text/plain": [
              "<Figure size 640x480 with 1 Axes>"
            ],
            "image/png": "[encoded data removed]"
          },
          "metadata": {}
        },
        {
          "output_type": "stream",
          "name": "stdout",
          "text": [
            "[4.1441742e-04 9.9958557e-01]\n"
          ]
        }
      ]
    },
    {
      "cell_type": "code",
      "source": [
        "plt.bar(np.arange(2), res[1][0])\n",
        "plt.bar(np.arange(2)+0.3, test_smile_labels[0])\n",
        "plt.show()\n",
        "print(res[1][0])"
      ],
      "metadata": {
        "colab": {
          "base_uri": "https://localhost:8080/",
          "height": 447
        },
        "id": "sbgM-MUwgy19",
        "outputId": "3a4d9646-f28b-4468-c674-e9d9f4092937"
      },
      "execution_count": 48,
      "outputs": [
        {
          "output_type": "display_data",
          "data": {
            "text/plain": [
              "<Figure size 640x480 with 1 Axes>"
            ],
            "image/png": "[encoded data removed]"
          },
          "metadata": {}
        },
        {
          "output_type": "stream",
          "name": "stdout",
          "text": [
            "[1.0513933e-06 9.9999893e-01]\n"
          ]
        }
      ]
    },
    {
      "cell_type": "code",
      "source": [
        "res = model2.predict(test_images[1:2])\n",
        "print(res[0][0], res[1][0])\n",
        "print(len(res))\n",
        "print(res[0].shape, res[1].shape)"
      ],
      "metadata": {
        "colab": {
          "base_uri": "https://localhost:8080/"
        },
        "id": "ZUs04i8Lhf4l",
        "outputId": "62f910cd-2e16-40c0-e48d-1d6224db3c78"
      },
      "execution_count": 49,
      "outputs": [
        {
          "output_type": "stream",
          "name": "stdout",
          "text": [
            "1/1 [==============================] - 0s 17ms/step\n",
            "[9.999920e-01 7.965361e-06] [0.93068933 0.06931068]\n",
            "2\n",
            "(1, 2) (1, 2)\n"
          ]
        }
      ]
    },
    {
      "cell_type": "code",
      "source": [
        "plt.imshow(test_images[1])\n",
        "plt.show()"
      ],
      "metadata": {
        "colab": {
          "base_uri": "https://localhost:8080/",
          "height": 433
        },
        "id": "nTxNRA5ShofU",
        "outputId": "4b37386a-579d-4e86-af9f-2578050740e5"
      },
      "execution_count": 50,
      "outputs": [
        {
          "output_type": "display_data",
          "data": {
            "text/plain": [
              "<Figure size 640x480 with 1 Axes>"
            ],
            "image/png": "[encoded data removed]"
          },
          "metadata": {}
        }
      ]
    },
    {
      "cell_type": "code",
      "source": [
        "plt.bar(np.arange(2), res[0][0])\n",
        "plt.bar(np.arange(2)+0.3, test_male_labels[1])\n",
        "plt.show()\n",
        "print(res[0][0])"
      ],
      "metadata": {
        "colab": {
          "base_uri": "https://localhost:8080/",
          "height": 447
        },
        "id": "WGcOs9krhsDi",
        "outputId": "255b8df5-0c5a-436c-dd90-a4e93203b1b3"
      },
      "execution_count": 51,
      "outputs": [
        {
          "output_type": "display_data",
          "data": {
            "text/plain": [
              "<Figure size 640x480 with 1 Axes>"
            ],
            "image/png": "[encoded data removed]"
          },
          "metadata": {}
        },
        {
          "output_type": "stream",
          "name": "stdout",
          "text": [
            "[9.999920e-01 7.965361e-06]\n"
          ]
        }
      ]
    },
    {
      "cell_type": "code",
      "source": [
        "plt.bar(np.arange(2), res[1][0])\n",
        "plt.bar(np.arange(2)+0.3, test_smile_labels[1])\n",
        "plt.show()\n",
        "print(res[0][0])"
      ],
      "metadata": {
        "colab": {
          "base_uri": "https://localhost:8080/",
          "height": 447
        },
        "id": "7Z_6r4Oihy26",
        "outputId": "21a0eaaa-d104-48d3-d41c-6bc33ff3c4a7"
      },
      "execution_count": 52,
      "outputs": [
        {
          "output_type": "display_data",
          "data": {
            "text/plain": [
              "<Figure size 640x480 with 1 Axes>"
            ],
            "image/png": "[encoded data removed]"
          },
          "metadata": {}
        },
        {
          "output_type": "stream",
          "name": "stdout",
          "text": [
            "[9.999920e-01 7.965361e-06]\n"
          ]
        }
      ]
    },
    {
      "cell_type": "markdown",
      "source": [
        "## 8.모델분리"
      ],
      "metadata": {
        "id": "g1wQrIDgjpaM"
      }
    },
    {
      "cell_type": "code",
      "source": [
        "# 성별모델 분리\n",
        "\n",
        "model2.summary()"
      ],
      "metadata": {
        "colab": {
          "base_uri": "https://localhost:8080/"
        },
        "id": "nd6_dVCqjrL8",
        "outputId": "96d360aa-de23-4783-ff17-7a0e231a5ba9"
      },
      "execution_count": 53,
      "outputs": [
        {
          "output_type": "stream",
          "name": "stdout",
          "text": [
            "Model: \"model_1\"\n",
            "__________________________________________________________________________________________________\n",
            " Layer (type)                Output Shape                 Param #   Connected to                  \n",
            "==================================================================================================\n",
            " input_2 (InputLayer)        [(None, 72, 59, 3)]          0         []                            \n",
            "                                                                                                  \n",
            " conv2d_3 (Conv2D)           (None, 70, 57, 32)           896       ['input_2[0][0]']             \n",
            "                                                                                                  \n",
            " max_pooling2d_3 (MaxPoolin  (None, 35, 28, 32)           0         ['conv2d_3[0][0]']            \n",
            " g2D)                                                                                             \n",
            "                                                                                                  \n",
            " conv2d_4 (Conv2D)           (None, 33, 26, 64)           18496     ['max_pooling2d_3[0][0]']     \n",
            "                                                                                                  \n",
            " max_pooling2d_4 (MaxPoolin  (None, 16, 13, 64)           0         ['conv2d_4[0][0]']            \n",
            " g2D)                                                                                             \n",
            "                                                                                                  \n",
            " conv2d_5 (Conv2D)           (None, 14, 11, 64)           36928     ['max_pooling2d_4[0][0]']     \n",
            "                                                                                                  \n",
            " max_pooling2d_5 (MaxPoolin  (None, 7, 5, 64)             0         ['conv2d_5[0][0]']            \n",
            " g2D)                                                                                             \n",
            "                                                                                                  \n",
            " flatten_1 (Flatten)         (None, 2240)                 0         ['max_pooling2d_5[0][0]']     \n",
            "                                                                                                  \n",
            " dense_3 (Dense)             (None, 64)                   143424    ['flatten_1[0][0]']           \n",
            "                                                                                                  \n",
            " dense_4 (Dense)             (None, 2)                    130       ['dense_3[0][0]']             \n",
            "                                                                                                  \n",
            " dense_5 (Dense)             (None, 2)                    130       ['dense_3[0][0]']             \n",
            "                                                                                                  \n",
            "==================================================================================================\n",
            "Total params: 200004 (781.27 KB)\n",
            "Trainable params: 200004 (781.27 KB)\n",
            "Non-trainable params: 0 (0.00 Byte)\n",
            "__________________________________________________________________________________________________\n"
          ]
        }
      ]
    },
    {
      "cell_type": "code",
      "source": [
        "gender_model2 = Model(inputs = model2.input, outputs = model2.get_layer('dense_4').output)\n",
        "gender_model2.summary()"
      ],
      "metadata": {
        "colab": {
          "base_uri": "https://localhost:8080/"
        },
        "id": "aloMepbKkR6F",
        "outputId": "b737dd82-48c7-4a2a-cbbd-97c83ce89301"
      },
      "execution_count": 54,
      "outputs": [
        {
          "output_type": "stream",
          "name": "stdout",
          "text": [
            "Model: \"model_2\"\n",
            "_________________________________________________________________\n",
            " Layer (type)                Output Shape              Param #   \n",
            "=================================================================\n",
            " input_2 (InputLayer)        [(None, 72, 59, 3)]       0         \n",
            "                                                                 \n",
            " conv2d_3 (Conv2D)           (None, 70, 57, 32)        896       \n",
            "                                                                 \n",
            " max_pooling2d_3 (MaxPoolin  (None, 35, 28, 32)        0         \n",
            " g2D)                                                            \n",
            "                                                                 \n",
            " conv2d_4 (Conv2D)           (None, 33, 26, 64)        18496     \n",
            "                                                                 \n",
            " max_pooling2d_4 (MaxPoolin  (None, 16, 13, 64)        0         \n",
            " g2D)                                                            \n",
            "                                                                 \n",
            " conv2d_5 (Conv2D)           (None, 14, 11, 64)        36928     \n",
            "                                                                 \n",
            " max_pooling2d_5 (MaxPoolin  (None, 7, 5, 64)          0         \n",
            " g2D)                                                            \n",
            "                                                                 \n",
            " flatten_1 (Flatten)         (None, 2240)              0         \n",
            "                                                                 \n",
            " dense_3 (Dense)             (None, 64)                143424    \n",
            "                                                                 \n",
            " dense_4 (Dense)             (None, 2)                 130       \n",
            "                                                                 \n",
            "=================================================================\n",
            "Total params: 199874 (780.76 KB)\n",
            "Trainable params: 199874 (780.76 KB)\n",
            "Non-trainable params: 0 (0.00 Byte)\n",
            "_________________________________________________________________\n"
          ]
        }
      ]
    },
    {
      "cell_type": "code",
      "source": [
        "# smile 모델 분리\n",
        "smile_model2 = Model(inputs = model2.input, outputs = model2.get_layer('dense_5').output)\n",
        "smile_model2.summary()"
      ],
      "metadata": {
        "colab": {
          "base_uri": "https://localhost:8080/"
        },
        "id": "JRYp1pGdknGq",
        "outputId": "859d5ab4-a875-4b09-ffb7-a629c4255afd"
      },
      "execution_count": 55,
      "outputs": [
        {
          "output_type": "stream",
          "name": "stdout",
          "text": [
            "Model: \"model_3\"\n",
            "_________________________________________________________________\n",
            " Layer (type)                Output Shape              Param #   \n",
            "=================================================================\n",
            " input_2 (InputLayer)        [(None, 72, 59, 3)]       0         \n",
            "                                                                 \n",
            " conv2d_3 (Conv2D)           (None, 70, 57, 32)        896       \n",
            "                                                                 \n",
            " max_pooling2d_3 (MaxPoolin  (None, 35, 28, 32)        0         \n",
            " g2D)                                                            \n",
            "                                                                 \n",
            " conv2d_4 (Conv2D)           (None, 33, 26, 64)        18496     \n",
            "                                                                 \n",
            " max_pooling2d_4 (MaxPoolin  (None, 16, 13, 64)        0         \n",
            " g2D)                                                            \n",
            "                                                                 \n",
            " conv2d_5 (Conv2D)           (None, 14, 11, 64)        36928     \n",
            "                                                                 \n",
            " max_pooling2d_5 (MaxPoolin  (None, 7, 5, 64)          0         \n",
            " g2D)                                                            \n",
            "                                                                 \n",
            " flatten_1 (Flatten)         (None, 2240)              0         \n",
            "                                                                 \n",
            " dense_3 (Dense)             (None, 64)                143424    \n",
            "                                                                 \n",
            " dense_5 (Dense)             (None, 2)                 130       \n",
            "                                                                 \n",
            "=================================================================\n",
            "Total params: 199874 (780.76 KB)\n",
            "Trainable params: 199874 (780.76 KB)\n",
            "Non-trainable params: 0 (0.00 Byte)\n",
            "_________________________________________________________________\n"
          ]
        }
      ]
    },
    {
      "cell_type": "code",
      "source": [
        "gender_model2.get_weights()[0][0][0][0]"
      ],
      "metadata": {
        "colab": {
          "base_uri": "https://localhost:8080/"
        },
        "id": "5zI7I8xYk6YE",
        "outputId": "692ba2c5-048d-4ffb-d176-43f576a112ff"
      },
      "execution_count": 56,
      "outputs": [
        {
          "output_type": "execute_result",
          "data": {
            "text/plain": [
              "array([ 0.16832927, -0.13388582,  0.16900843,  0.1893335 ,  0.19603463,\n",
              "       -0.02505199,  0.11275119,  0.16087437, -0.04341914, -0.15800928,\n",
              "        0.11627558, -0.12604696,  0.06334035, -0.02964263, -0.14006759,\n",
              "       -0.10630933, -0.06713369,  0.10025921,  0.03030363,  0.14790627,\n",
              "       -0.11458742, -0.1516469 ,  0.09517787,  0.18809317,  0.1715288 ,\n",
              "        0.11631674, -0.16500185, -0.03659299, -0.07536345, -0.14769466,\n",
              "        0.15963688, -0.17851955], dtype=float32)"
            ]
          },
          "metadata": {},
          "execution_count": 56
        }
      ]
    },
    {
      "cell_type": "code",
      "source": [
        "smile_model2.get_weights()[0][0][0][0]\n"
      ],
      "metadata": {
        "colab": {
          "base_uri": "https://localhost:8080/"
        },
        "id": "BhXhknBMlHX_",
        "outputId": "9fd766a8-18f7-4472-ddcc-b85e9db4d99e"
      },
      "execution_count": 57,
      "outputs": [
        {
          "output_type": "execute_result",
          "data": {
            "text/plain": [
              "array([ 0.16832927, -0.13388582,  0.16900843,  0.1893335 ,  0.19603463,\n",
              "       -0.02505199,  0.11275119,  0.16087437, -0.04341914, -0.15800928,\n",
              "        0.11627558, -0.12604696,  0.06334035, -0.02964263, -0.14006759,\n",
              "       -0.10630933, -0.06713369,  0.10025921,  0.03030363,  0.14790627,\n",
              "       -0.11458742, -0.1516469 ,  0.09517787,  0.18809317,  0.1715288 ,\n",
              "        0.11631674, -0.16500185, -0.03659299, -0.07536345, -0.14769466,\n",
              "        0.15963688, -0.17851955], dtype=float32)"
            ]
          },
          "metadata": {},
          "execution_count": 57
        }
      ]
    },
    {
      "cell_type": "code",
      "source": [
        "x = gender_model2.predict(test_images[0:1])\n",
        "x.argmax()"
      ],
      "metadata": {
        "colab": {
          "base_uri": "https://localhost:8080/"
        },
        "id": "ApH7jG25lJDp",
        "outputId": "e66f19d2-575d-4f7d-b5df-df89c628a09b"
      },
      "execution_count": 59,
      "outputs": [
        {
          "output_type": "stream",
          "name": "stdout",
          "text": [
            "1/1 [==============================] - 0s 26ms/step\n"
          ]
        },
        {
          "output_type": "execute_result",
          "data": {
            "text/plain": [
              "1"
            ]
          },
          "metadata": {},
          "execution_count": 59
        }
      ]
    },
    {
      "cell_type": "code",
      "source": [
        "x = smile_model2.predict(test_images[0:1])\n",
        "x.argmax()"
      ],
      "metadata": {
        "colab": {
          "base_uri": "https://localhost:8080/"
        },
        "id": "lbunL5Cflat9",
        "outputId": "dac9b009-3ae9-4d11-f600-c4ac71a2fd1d"
      },
      "execution_count": 60,
      "outputs": [
        {
          "output_type": "stream",
          "name": "stdout",
          "text": [
            "1/1 [==============================] - 0s 110ms/step\n"
          ]
        },
        {
          "output_type": "execute_result",
          "data": {
            "text/plain": [
              "1"
            ]
          },
          "metadata": {},
          "execution_count": 60
        }
      ]
    },
    {
      "cell_type": "markdown",
      "source": [
        "## 9.통합 모델 저장 및 로드, 다운"
      ],
      "metadata": {
        "id": "ZmYDUvvHlvh4"
      }
    },
    {
      "cell_type": "code",
      "source": [
        "model2.save('/content/drive/MyDrive/딥러닝_정주행/P7_Ch02.인물사진성별표정분석/lecture004.h5')"
      ],
      "metadata": {
        "id": "hhBcSO6KllRA"
      },
      "execution_count": 61,
      "outputs": []
    },
    {
      "cell_type": "code",
      "source": [
        "model3 =tf.keras.models.load_model('/content/drive/MyDrive/딥러닝_정주행/P7_Ch02.인물사진성별표정분석/lecture004.h5')"
      ],
      "metadata": {
        "id": "sN5ePW2umT10"
      },
      "execution_count": 62,
      "outputs": []
    },
    {
      "cell_type": "code",
      "source": [
        "model3.summary()"
      ],
      "metadata": {
        "colab": {
          "base_uri": "https://localhost:8080/"
        },
        "id": "w90xNNO2mgGk",
        "outputId": "7da7bfad-1e22-4ebe-f23d-d66ace1f230c"
      },
      "execution_count": 63,
      "outputs": [
        {
          "output_type": "stream",
          "name": "stdout",
          "text": [
            "Model: \"model_1\"\n",
            "__________________________________________________________________________________________________\n",
            " Layer (type)                Output Shape                 Param #   Connected to                  \n",
            "==================================================================================================\n",
            " input_2 (InputLayer)        [(None, 72, 59, 3)]          0         []                            \n",
            "                                                                                                  \n",
            " conv2d_3 (Conv2D)           (None, 70, 57, 32)           896       ['input_2[0][0]']             \n",
            "                                                                                                  \n",
            " max_pooling2d_3 (MaxPoolin  (None, 35, 28, 32)           0         ['conv2d_3[0][0]']            \n",
            " g2D)                                                                                             \n",
            "                                                                                                  \n",
            " conv2d_4 (Conv2D)           (None, 33, 26, 64)           18496     ['max_pooling2d_3[0][0]']     \n",
            "                                                                                                  \n",
            " max_pooling2d_4 (MaxPoolin  (None, 16, 13, 64)           0         ['conv2d_4[0][0]']            \n",
            " g2D)                                                                                             \n",
            "                                                                                                  \n",
            " conv2d_5 (Conv2D)           (None, 14, 11, 64)           36928     ['max_pooling2d_4[0][0]']     \n",
            "                                                                                                  \n",
            " max_pooling2d_5 (MaxPoolin  (None, 7, 5, 64)             0         ['conv2d_5[0][0]']            \n",
            " g2D)                                                                                             \n",
            "                                                                                                  \n",
            " flatten_1 (Flatten)         (None, 2240)                 0         ['max_pooling2d_5[0][0]']     \n",
            "                                                                                                  \n",
            " dense_3 (Dense)             (None, 64)                   143424    ['flatten_1[0][0]']           \n",
            "                                                                                                  \n",
            " dense_4 (Dense)             (None, 2)                    130       ['dense_3[0][0]']             \n",
            "                                                                                                  \n",
            " dense_5 (Dense)             (None, 2)                    130       ['dense_3[0][0]']             \n",
            "                                                                                                  \n",
            "==================================================================================================\n",
            "Total params: 200004 (781.27 KB)\n",
            "Trainable params: 200004 (781.27 KB)\n",
            "Non-trainable params: 0 (0.00 Byte)\n",
            "__________________________________________________________________________________________________\n"
          ]
        }
      ]
    },
    {
      "cell_type": "code",
      "source": [
        "model3.get_weights()[0][0][0][0]"
      ],
      "metadata": {
        "colab": {
          "base_uri": "https://localhost:8080/"
        },
        "id": "imLEDbltmheh",
        "outputId": "5ffd7acb-2df0-4ec5-c18b-3b20d8917cae"
      },
      "execution_count": 64,
      "outputs": [
        {
          "output_type": "execute_result",
          "data": {
            "text/plain": [
              "array([ 0.16832927, -0.13388582,  0.16900843,  0.1893335 ,  0.19603463,\n",
              "       -0.02505199,  0.11275119,  0.16087437, -0.04341914, -0.15800928,\n",
              "        0.11627558, -0.12604696,  0.06334035, -0.02964263, -0.14006759,\n",
              "       -0.10630933, -0.06713369,  0.10025921,  0.03030363,  0.14790627,\n",
              "       -0.11458742, -0.1516469 ,  0.09517787,  0.18809317,  0.1715288 ,\n",
              "        0.11631674, -0.16500185, -0.03659299, -0.07536345, -0.14769466,\n",
              "        0.15963688, -0.17851955], dtype=float32)"
            ]
          },
          "metadata": {},
          "execution_count": 64
        }
      ]
    },
    {
      "cell_type": "code",
      "source": [
        "model3.evaluate(test_images, [test_male_labels, test_smile_labels])"
      ],
      "metadata": {
        "colab": {
          "base_uri": "https://localhost:8080/"
        },
        "id": "za2cEOfomoec",
        "outputId": "d8e2efa2-27a3-485a-e774-473f4fa178a7"
      },
      "execution_count": 65,
      "outputs": [
        {
          "output_type": "stream",
          "name": "stdout",
          "text": [
            "7/7 [==============================] - 0s 7ms/step - loss: 0.8153 - dense_4_loss: 0.4518 - dense_5_loss: 0.3634 - dense_4_accuracy: 0.9100 - dense_5_accuracy: 0.8900\n"
          ]
        },
        {
          "output_type": "execute_result",
          "data": {
            "text/plain": [
              "[0.8152545094490051,\n",
              " 0.451833575963974,\n",
              " 0.36342093348503113,\n",
              " 0.9100000262260437,\n",
              " 0.8899999856948853]"
            ]
          },
          "metadata": {},
          "execution_count": 65
        }
      ]
    },
    {
      "cell_type": "code",
      "source": [
        "from google.colab import files\n",
        "files.download('/content/drive/MyDrive/딥러닝_정주행/P7_Ch02.인물사진성별표정분석/lecture004.h5')"
      ],
      "metadata": {
        "colab": {
          "base_uri": "https://localhost:8080/",
          "height": 17
        },
        "id": "kFuuWM7Bm46j",
        "outputId": "597de7f2-0f1a-4015-b304-0451aa39bb14"
      },
      "execution_count": 66,
      "outputs": [
        {
          "output_type": "display_data",
          "data": {
            "text/plain": [
              "<IPython.core.display.Javascript object>"
            ],
            "application/javascript": [
              "\n",
              "    async function download(id, filename, size) {\n",
              "      if (!google.colab.kernel.accessAllowed) {\n",
              "        return;\n",
              "      }\n",
              "      const div = document.createElement('div');\n",
              "      const label = document.createElement('label');\n",
              "      label.textContent = `Downloading \"${filename}\": `;\n",
              "      div.appendChild(label);\n",
              "      const progress = document.createElement('progress');\n",
              "      progress.max = size;\n",
              "      div.appendChild(progress);\n",
              "      document.body.appendChild(div);\n",
              "\n",
              "      const buffers = [];\n",
              "      let downloaded = 0;\n",
              "\n",
              "      const channel = await google.colab.kernel.comms.open(id);\n",
              "      // Send a message to notify the kernel that we're ready.\n",
              "      channel.send({})\n",
              "\n",
              "      for await (const message of channel.messages) {\n",
              "        // Send a message to notify the kernel that we're ready.\n",
              "        channel.send({})\n",
              "        if (message.buffers) {\n",
              "          for (const buffer of message.buffers) {\n",
              "            buffers.push(buffer);\n",
              "            downloaded += buffer.byteLength;\n",
              "            progress.value = downloaded;\n",
              "          }\n",
              "        }\n",
              "      }\n",
              "      const blob = new Blob(buffers, {type: 'application/binary'});\n",
              "      const a = document.createElement('a');\n",
              "      a.href = window.URL.createObjectURL(blob);\n",
              "      a.download = filename;\n",
              "      div.appendChild(a);\n",
              "      a.click();\n",
              "      div.remove();\n",
              "    }\n",
              "  "
            ]
          },
          "metadata": {}
        },
        {
          "output_type": "display_data",
          "data": {
            "text/plain": [
              "<IPython.core.display.Javascript object>"
            ],
            "application/javascript": [
              "download(\"download_85407240-eae3-4a5d-b2b6-be73e5294e0a\", \"lecture004.h5\", 2457720)"
            ]
          },
          "metadata": {}
        }
      ]
    },
    {
      "cell_type": "code",
      "source": [],
      "metadata": {
        "id": "rNWyPrsQnSyg"
      },
      "execution_count": null,
      "outputs": []
    }
  ]
}