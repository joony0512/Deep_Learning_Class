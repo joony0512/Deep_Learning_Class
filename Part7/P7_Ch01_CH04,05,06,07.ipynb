{
  "nbformat": 4,
  "nbformat_minor": 0,
  "metadata": {
    "colab": {
      "provenance": [],
      "authorship_tag": "ABX9TyNyECkjY0A2Z+wFYkkvn3gX",
      "include_colab_link": true
    },
    "kernelspec": {
      "name": "python3",
      "display_name": "Python 3"
    },
    "language_info": {
      "name": "python"
    }
  },
  "cells": [
    {
      "cell_type": "markdown",
      "metadata": {
        "id": "view-in-github",
        "colab_type": "text"
      },
      "source": [
        "<a href=\"https://colab.research.google.com/github/joony0512/Deep_Learning_Class/blob/main/Part7/P7_Ch01_CH04%2C05%2C06%2C07.ipynb\" target=\"_parent\"><img src=\"https://colab.research.google.com/assets/colab-badge.svg\" alt=\"Open In Colab\"/></a>"
      ]
    },
    {
      "cell_type": "markdown",
      "source": [
        "# MNIST RNN Classifier"
      ],
      "metadata": {
        "id": "mWc7tdMFc5yw"
      }
    },
    {
      "cell_type": "markdown",
      "source": [
        "## 4. Data augmentation - Noise 추가 방법, one-hot encoding"
      ],
      "metadata": {
        "id": "8YeXdgE9c8q1"
      }
    },
    {
      "cell_type": "code",
      "source": [
        "import pandas as pd\n",
        "import numpy as np\n",
        "import matplotlib.pyplot as plt\n",
        "import seaborn as sns\n",
        "\n",
        "import tensorflow as tf\n",
        "from tensorflow import keras\n",
        "from keras.layers import Dense\n",
        "from keras.models import Sequential\n",
        "from IPython.display import Image\n",
        "\n",
        "mnist = keras.datasets.mnist\n",
        "(train_images, train_labels ), (test_images, test_labels) = mnist.load_data()\n",
        "train_images = train_images/255\n",
        "test_images = test_images/255\n"
      ],
      "metadata": {
        "id": "PPyrUFiddJD2"
      },
      "execution_count": 83,
      "outputs": []
    },
    {
      "cell_type": "code",
      "execution_count": 52,
      "metadata": {
        "colab": {
          "base_uri": "https://localhost:8080/"
        },
        "id": "kyi-Aqhec1Of",
        "outputId": "ae9b2a97-4097-426b-ec0e-0b887274ef69"
      },
      "outputs": [
        {
          "output_type": "stream",
          "name": "stdout",
          "text": [
            "0.14965625134095117\n",
            "0.33858893764418296\n",
            "0.9641652621410293\n"
          ]
        }
      ],
      "source": [
        "print(np.random.random())\n",
        "print(np.random.random())\n",
        "print(np.random.random())"
      ]
    },
    {
      "cell_type": "code",
      "source": [
        "print(np.random.random(size = (28,28)))"
      ],
      "metadata": {
        "colab": {
          "base_uri": "https://localhost:8080/"
        },
        "id": "V-P4SJa4dF9k",
        "outputId": "ab4d754a-557c-48e4-8603-deaa94e6ea0c"
      },
      "execution_count": 53,
      "outputs": [
        {
          "output_type": "stream",
          "name": "stdout",
          "text": [
            "[[6.84065103e-01 6.58071754e-01 1.11461080e-01 4.31603025e-01\n",
            "  8.58055384e-01 5.98489034e-01 5.70983555e-02 5.78309836e-01\n",
            "  3.11893639e-01 5.55995274e-01 7.71033120e-01 1.61877445e-01\n",
            "  2.10091704e-01 3.24084376e-01 2.93101065e-01 9.75894248e-01\n",
            "  3.97881424e-01 4.44429746e-01 4.60995862e-01 4.41133473e-01\n",
            "  8.77344694e-01 8.29238944e-01 1.48095781e-01 3.02364828e-01\n",
            "  4.94001491e-01 3.31655910e-01 2.92713488e-01 3.42298829e-01]\n",
            " [2.56896809e-01 7.64208849e-01 9.47489172e-01 7.49186834e-01\n",
            "  9.30250911e-01 2.88290628e-01 7.03379920e-01 3.06644032e-01\n",
            "  4.84219443e-01 4.99701715e-01 9.45545309e-01 6.58777632e-01\n",
            "  6.71526592e-02 5.36280821e-01 8.81407008e-01 1.94930082e-01\n",
            "  9.51232719e-01 5.68050625e-01 6.67174253e-01 6.38259709e-01\n",
            "  3.08557183e-01 6.86772855e-01 5.14026571e-01 3.94081318e-02\n",
            "  6.27587099e-01 8.60070504e-01 4.84909779e-01 4.34486760e-01]\n",
            " [2.89679399e-01 9.40089271e-02 8.21445100e-01 1.87079412e-01\n",
            "  5.68357616e-01 9.95821283e-01 2.01057569e-01 3.74233967e-01\n",
            "  5.68493637e-01 6.15581111e-01 9.65748479e-01 4.27271858e-01\n",
            "  1.00025884e-01 7.45747091e-01 4.27632631e-01 9.49928353e-01\n",
            "  1.43345917e-01 3.94197574e-01 1.29518969e-03 2.45323170e-01\n",
            "  1.23811333e-01 8.39687886e-01 9.25970223e-01 8.95816257e-01\n",
            "  8.91770858e-01 9.47225551e-01 6.26404071e-01 7.04286607e-01]\n",
            " [7.90642449e-01 1.78980442e-01 8.17101975e-01 6.18471193e-01\n",
            "  1.89283469e-01 6.88369411e-01 1.63397335e-02 1.05327512e-01\n",
            "  9.76795285e-01 5.47851239e-01 7.10334288e-01 2.46888726e-01\n",
            "  7.38365171e-01 4.63969175e-01 4.48386842e-01 5.95198403e-01\n",
            "  7.29665533e-01 8.78124511e-01 5.92688133e-01 6.86034614e-01\n",
            "  8.17924331e-01 7.59432337e-01 9.84871619e-01 7.69371453e-01\n",
            "  6.56869073e-01 3.77705584e-01 5.13911952e-01 5.34376769e-01]\n",
            " [5.31393705e-01 7.68455418e-01 5.33389591e-01 6.33096303e-01\n",
            "  6.67072323e-01 1.27937147e-01 8.85598463e-01 5.36150713e-01\n",
            "  6.71996040e-01 3.55332033e-01 5.99604885e-01 2.85000728e-01\n",
            "  8.61637030e-01 8.85421170e-01 3.70724619e-01 3.62682513e-01\n",
            "  4.49107349e-01 3.77178969e-01 7.75556160e-01 2.49145826e-01\n",
            "  9.67247339e-01 9.17438714e-02 7.42011028e-01 4.26445862e-01\n",
            "  7.02314656e-01 8.92781206e-01 4.84100021e-01 6.54036391e-01]\n",
            " [4.34648838e-01 4.11793303e-01 4.76664959e-01 8.19212556e-01\n",
            "  6.67212170e-01 3.09665445e-01 2.86834852e-01 9.95187836e-01\n",
            "  6.03983994e-01 8.00484155e-01 5.59823159e-01 9.58637298e-01\n",
            "  3.30521421e-01 9.69056381e-01 7.42279618e-01 9.82479806e-01\n",
            "  5.37840828e-01 2.23943981e-01 7.46819682e-01 9.19080676e-01\n",
            "  6.95108918e-01 4.65546348e-01 6.14109626e-01 1.94079323e-01\n",
            "  6.68138393e-02 7.69389253e-01 8.94760969e-01 7.59657215e-01]\n",
            " [1.82320305e-01 6.72178480e-01 6.91880562e-01 1.47787321e-01\n",
            "  1.54582364e-01 8.48618149e-01 1.61044985e-01 7.97593705e-01\n",
            "  1.81124976e-02 5.69866129e-01 8.19463704e-01 7.12606856e-01\n",
            "  9.20783751e-01 8.14256305e-01 8.26914324e-01 1.17443131e-01\n",
            "  6.49529006e-01 6.75414706e-01 9.68110569e-01 1.92961701e-01\n",
            "  4.55715091e-01 7.54890162e-01 8.96161733e-01 3.39492831e-01\n",
            "  6.64916018e-01 5.50025726e-03 5.68226017e-01 5.27795790e-01]\n",
            " [2.25310567e-01 7.62879629e-01 5.18424586e-01 2.82541661e-01\n",
            "  4.23352011e-01 9.83895518e-02 9.15634104e-01 3.69906221e-01\n",
            "  6.56186998e-01 3.64100693e-01 5.18639664e-02 9.43519465e-01\n",
            "  9.58058442e-01 1.65239107e-01 3.41164218e-01 3.15104529e-01\n",
            "  9.71192027e-01 5.88604567e-01 1.04775543e-01 4.14062382e-01\n",
            "  1.59545951e-01 3.99162113e-01 6.40182993e-01 1.51797255e-01\n",
            "  5.25356842e-01 2.53058607e-02 3.28385417e-01 2.63960881e-01]\n",
            " [1.71214885e-01 2.18711526e-01 1.66992801e-01 9.27573101e-02\n",
            "  8.57667187e-01 1.59741490e-01 8.38679677e-01 2.47719349e-01\n",
            "  6.33051584e-01 4.28724526e-01 4.94766900e-01 4.33447449e-01\n",
            "  1.62299042e-01 6.46600375e-01 3.65261711e-01 9.33150443e-01\n",
            "  8.12274305e-01 2.24578628e-01 2.35545772e-01 9.51136294e-01\n",
            "  9.40268263e-01 2.91296659e-01 4.79437535e-01 7.10189436e-01\n",
            "  5.14389761e-02 8.79865198e-01 2.95739202e-01 2.04897407e-01]\n",
            " [7.25343224e-01 9.99315879e-01 1.97350165e-01 2.01753253e-01\n",
            "  4.51849728e-01 9.54481221e-01 6.67593190e-01 6.95606675e-01\n",
            "  8.63916671e-01 3.62205871e-01 5.96627485e-01 6.69242588e-01\n",
            "  8.15057877e-02 4.32668765e-01 2.70846399e-01 6.45100141e-01\n",
            "  9.75284161e-01 8.53916360e-01 7.89143099e-01 3.61808922e-01\n",
            "  3.74238669e-01 3.95507273e-01 9.81060717e-01 3.48978006e-02\n",
            "  6.08253544e-01 5.01670651e-01 3.06480744e-01 8.09143769e-02]\n",
            " [8.96777755e-01 6.45230819e-01 5.28451651e-01 9.49144776e-01\n",
            "  8.84829341e-01 4.90308420e-01 9.80568868e-01 3.12641386e-02\n",
            "  3.36017972e-01 5.42509318e-01 8.07319061e-01 1.60035319e-01\n",
            "  7.43347842e-01 4.52969343e-01 1.37997610e-02 7.56348537e-01\n",
            "  8.63164749e-01 9.56994660e-02 6.41133572e-01 9.80109420e-02\n",
            "  9.06585355e-01 9.12436095e-01 8.36723192e-01 4.15560719e-01\n",
            "  2.09147956e-01 9.29191113e-01 4.22108636e-01 8.40668987e-01]\n",
            " [7.64568527e-02 2.95159299e-01 7.08098339e-01 5.59454780e-01\n",
            "  1.31662435e-01 7.66616502e-01 5.67815688e-05 3.27537172e-01\n",
            "  4.82751905e-01 6.31651486e-01 3.50902126e-01 3.60385591e-01\n",
            "  6.12905832e-01 6.41200199e-01 8.74288584e-01 8.43313484e-01\n",
            "  1.53038869e-01 1.86676385e-01 3.73494129e-01 2.78474558e-01\n",
            "  8.69004401e-01 2.79856198e-01 5.07029343e-01 1.86634732e-02\n",
            "  2.04426094e-01 4.05316175e-01 6.99190368e-01 9.44553633e-01]\n",
            " [1.29207932e-01 5.91355668e-01 8.72648727e-01 7.08999137e-01\n",
            "  3.36554015e-01 9.26181661e-01 6.10163357e-01 3.96424628e-02\n",
            "  3.54247062e-03 9.54937344e-01 9.71295038e-01 2.53491410e-01\n",
            "  4.42953649e-01 2.85706424e-01 4.19967362e-01 7.91622714e-01\n",
            "  5.79375961e-01 4.58928737e-01 4.33413918e-01 9.32140590e-01\n",
            "  6.99720480e-01 3.61320920e-01 3.53468823e-01 3.04119579e-01\n",
            "  6.52427925e-01 6.18068505e-02 9.64252421e-01 8.88428644e-01]\n",
            " [1.06948530e-02 9.63319716e-02 5.52897099e-01 6.19805279e-01\n",
            "  2.61026731e-01 6.88549719e-01 5.52673898e-01 9.56202154e-01\n",
            "  8.40018428e-01 2.75727734e-01 5.78733519e-01 3.76906839e-01\n",
            "  9.75995295e-02 1.03323327e-01 5.64325499e-02 7.90407813e-02\n",
            "  8.68378487e-02 7.12150320e-01 6.29414905e-01 2.98636621e-01\n",
            "  7.76391502e-01 8.88554239e-01 3.08060217e-02 8.38830619e-01\n",
            "  6.19988768e-01 2.91759557e-01 4.71497661e-01 7.67701833e-01]\n",
            " [6.29961179e-01 3.29635912e-01 6.15886469e-01 7.01042074e-01\n",
            "  7.25032595e-01 3.60333605e-01 6.00074967e-01 5.95059733e-01\n",
            "  8.31768524e-01 9.64279443e-01 3.17645689e-02 2.18123100e-01\n",
            "  2.79120126e-01 8.36803125e-01 9.07337548e-01 1.22584441e-01\n",
            "  7.70195034e-01 3.50835147e-01 9.65979149e-01 7.25185170e-02\n",
            "  6.24062451e-01 1.94286371e-01 5.61891253e-01 6.79736718e-03\n",
            "  7.80400688e-01 2.49096590e-01 2.92697177e-01 5.79741679e-01]\n",
            " [1.56298910e-01 7.52263185e-01 7.95904979e-01 8.45130790e-01\n",
            "  7.74048064e-01 5.53072192e-01 9.83188081e-01 7.22527429e-02\n",
            "  9.86093308e-01 4.06084005e-01 7.46091701e-01 1.69558823e-01\n",
            "  3.07607444e-01 5.66655929e-01 7.30152483e-01 2.73252769e-01\n",
            "  1.74339627e-01 6.62185556e-01 9.75560620e-01 6.59078218e-01\n",
            "  7.41386467e-01 7.85719876e-01 7.07403933e-01 7.32758727e-01\n",
            "  2.61794679e-01 8.32911416e-01 9.15018823e-01 2.67397572e-01]\n",
            " [1.30711877e-01 9.97698126e-01 3.79067017e-01 9.76044479e-01\n",
            "  7.25283469e-01 1.13050633e-01 6.55493523e-02 2.87112908e-01\n",
            "  1.71804034e-01 5.04185645e-01 5.52813076e-01 7.08018186e-01\n",
            "  4.83826096e-01 3.96752375e-01 8.59726274e-01 4.92128415e-01\n",
            "  8.38367261e-01 2.73871128e-01 4.55042349e-01 8.52419775e-01\n",
            "  7.40941667e-01 7.34641585e-01 1.42801217e-01 2.46874761e-01\n",
            "  5.30750312e-01 2.21153802e-01 2.73386233e-01 1.99356962e-01]\n",
            " [6.68233950e-02 7.94259559e-01 7.98340472e-01 7.39214278e-01\n",
            "  2.12666657e-02 1.21708545e-01 9.37010610e-02 4.28231970e-01\n",
            "  7.98993972e-01 3.34421869e-01 1.75100878e-02 7.63011950e-01\n",
            "  8.56693210e-01 9.37741693e-01 8.07785891e-01 9.02420632e-01\n",
            "  7.58004981e-01 5.48783059e-01 1.79223955e-01 9.60021417e-02\n",
            "  1.32175490e-01 1.62006094e-01 7.77225421e-02 7.81132188e-02\n",
            "  7.71222087e-01 6.95783509e-01 9.92469868e-01 3.29298339e-01]\n",
            " [6.95623900e-01 9.32163823e-01 6.15870147e-01 9.42838539e-01\n",
            "  6.62983417e-01 2.29652355e-01 2.40903982e-01 7.65294021e-01\n",
            "  7.50318717e-01 3.19533973e-01 9.79930792e-02 9.51143266e-01\n",
            "  7.18441248e-01 2.00368333e-02 6.87645983e-01 9.88686632e-01\n",
            "  6.39552874e-01 7.22899470e-01 3.19475959e-01 8.77762023e-01\n",
            "  1.01260584e-01 6.64857214e-01 2.12583188e-01 6.07774522e-01\n",
            "  1.86857905e-01 5.01225661e-01 9.41367339e-01 3.73405198e-01]\n",
            " [4.19446984e-01 8.49273095e-01 7.19130969e-01 8.61464158e-01\n",
            "  6.60683294e-01 4.80822484e-02 2.65056691e-01 7.99397037e-01\n",
            "  5.82993793e-01 4.00830085e-01 6.32208919e-01 2.95384598e-01\n",
            "  2.68310899e-01 4.37138655e-01 9.11470188e-01 9.18327711e-01\n",
            "  9.48524700e-01 6.56626459e-01 3.90115976e-01 8.49225530e-01\n",
            "  7.12487938e-01 5.28093009e-01 4.78469436e-01 9.13584818e-01\n",
            "  6.33489770e-01 6.55893567e-01 1.80308827e-01 6.36907742e-01]\n",
            " [8.80915513e-01 3.61354025e-01 5.32093260e-01 3.48967293e-01\n",
            "  6.35703047e-01 6.47592379e-01 2.65748077e-01 8.57536583e-01\n",
            "  4.86454385e-01 6.15538801e-03 3.85724593e-01 5.50170680e-01\n",
            "  2.28338497e-01 7.61387274e-01 1.27692688e-01 3.07326103e-01\n",
            "  2.46231414e-02 3.87307389e-01 3.51975068e-01 4.45067083e-01\n",
            "  1.61243280e-01 7.96942096e-01 6.02370825e-01 1.99576761e-01\n",
            "  7.98103891e-01 1.66556450e-01 4.58257308e-01 2.66750369e-01]\n",
            " [7.18440628e-01 4.15473987e-01 9.84418957e-01 4.17800663e-01\n",
            "  7.08009396e-01 4.85085413e-01 6.15955407e-01 2.72690105e-01\n",
            "  3.03621293e-01 3.85374908e-01 1.33927745e-01 5.62545214e-02\n",
            "  4.92583835e-01 8.44444777e-01 8.74910307e-01 6.01429694e-01\n",
            "  3.51550556e-01 5.33560298e-01 4.53742282e-01 7.93489110e-01\n",
            "  3.24010078e-01 2.90558919e-01 6.18631899e-01 5.61301732e-01\n",
            "  1.43789676e-01 1.39544638e-01 6.90056987e-01 4.21870268e-01]\n",
            " [8.14222085e-01 7.10577508e-01 7.23013918e-01 7.69602421e-01\n",
            "  9.06396705e-01 2.84705974e-01 8.16968051e-01 1.46792074e-01\n",
            "  5.18881680e-01 9.41063248e-02 8.12949766e-01 9.87231965e-01\n",
            "  6.31663008e-01 5.05739538e-01 3.23654005e-01 2.09522764e-02\n",
            "  2.49255931e-01 9.56871802e-01 4.03522954e-01 5.18278722e-02\n",
            "  1.15136687e-01 2.43082263e-01 6.38978470e-03 4.35021982e-01\n",
            "  4.66050330e-01 6.93232574e-01 6.51009058e-01 7.21712440e-02]\n",
            " [8.76241954e-01 3.41000632e-01 8.31220343e-01 5.91006369e-01\n",
            "  2.07827652e-01 6.56173114e-01 7.68720460e-01 8.28848950e-01\n",
            "  9.22800071e-01 5.69176102e-01 3.66650734e-01 6.81812228e-01\n",
            "  5.53367351e-01 9.54212835e-03 4.68337871e-03 4.22396915e-01\n",
            "  1.61406004e-01 1.59952837e-01 9.85659090e-01 3.36900804e-01\n",
            "  1.55183804e-01 9.76996959e-02 2.17549256e-01 8.55299455e-01\n",
            "  4.53864854e-01 9.08639700e-01 9.33111778e-01 2.09599520e-01]\n",
            " [5.66627118e-01 7.36144981e-01 4.17063348e-02 5.76858856e-01\n",
            "  7.52435389e-01 8.16218201e-01 7.41313656e-02 5.16077736e-01\n",
            "  9.48321064e-01 1.38699929e-01 1.03289993e-01 4.31632470e-01\n",
            "  8.41058685e-01 2.85468018e-01 6.73607577e-01 9.49406038e-01\n",
            "  8.56568742e-01 8.37768612e-01 6.91393703e-01 2.30614561e-01\n",
            "  3.60317328e-02 3.80587148e-01 7.95963748e-01 1.14145929e-01\n",
            "  9.30403965e-01 2.24871545e-01 4.27301677e-01 1.27439638e-01]\n",
            " [1.85507428e-01 8.34019171e-01 3.83656327e-01 1.69330963e-01\n",
            "  3.39229064e-02 5.81109715e-01 2.55338419e-01 1.57288604e-01\n",
            "  4.23293319e-01 6.61709006e-01 3.30036761e-01 4.88666997e-01\n",
            "  7.00456476e-02 8.13580746e-02 4.70326888e-01 3.88637691e-01\n",
            "  6.48978864e-01 4.31601028e-01 3.88113876e-01 2.30165495e-01\n",
            "  6.32874088e-02 7.27939491e-02 3.96059966e-01 6.21958404e-01\n",
            "  4.35982495e-02 6.69875436e-01 2.04239881e-01 6.63335690e-01]\n",
            " [6.55721623e-01 2.59194672e-01 6.00260611e-02 5.36430986e-01\n",
            "  7.71626174e-01 5.52422608e-01 8.94922691e-01 6.00442186e-01\n",
            "  1.17713135e-01 7.93529628e-01 6.26224145e-01 6.18487312e-01\n",
            "  2.89245049e-01 8.88948402e-01 9.68147761e-02 5.83923276e-01\n",
            "  8.73529339e-01 3.69529882e-01 1.99712285e-01 5.16363292e-01\n",
            "  4.62959249e-01 2.78858499e-01 7.68329468e-01 6.78073699e-01\n",
            "  7.35430262e-01 7.07760600e-01 7.57279559e-01 1.71429325e-01]\n",
            " [2.07806340e-01 3.82551109e-01 4.76688551e-01 8.15978280e-01\n",
            "  6.98830234e-02 4.40428797e-01 5.73822382e-01 9.62987078e-01\n",
            "  4.63032876e-02 9.27997702e-01 5.17007933e-01 6.54908277e-01\n",
            "  3.57026822e-01 1.24717946e-01 7.92678931e-01 3.12075953e-01\n",
            "  9.81595499e-02 9.48824104e-01 2.66554287e-01 8.16849477e-01\n",
            "  5.66847623e-01 1.21005912e-01 8.20432939e-01 8.79565539e-02\n",
            "  3.28817512e-01 3.42107165e-02 4.08064322e-01 3.58427684e-01]]\n"
          ]
        }
      ]
    },
    {
      "cell_type": "code",
      "source": [
        "plt.imshow(np.random.random(size = (28,28)), cmap = 'gray')"
      ],
      "metadata": {
        "colab": {
          "base_uri": "https://localhost:8080/",
          "height": 447
        },
        "id": "hKyvzhsadV-K",
        "outputId": "6df76041-c8f3-49a0-dfb2-4964c908e1a7"
      },
      "execution_count": 54,
      "outputs": [
        {
          "output_type": "execute_result",
          "data": {
            "text/plain": [
              "<matplotlib.image.AxesImage at 0x7a5c6bb3c490>"
            ]
          },
          "metadata": {},
          "execution_count": 54
        },
        {
          "output_type": "display_data",
          "data": {
            "text/plain": [
              "<Figure size 640x480 with 1 Axes>"
            ],
            "image/png": "[encoded data removed]"
          },
          "metadata": {}
        }
      ]
    },
    {
      "cell_type": "code",
      "source": [
        "print(np.random.normal(0,0.1,size =1))\n",
        "print(np.random.normal(0,0.1,size =1))\n",
        "print(np.random.normal(0,0.1,size =1))"
      ],
      "metadata": {
        "colab": {
          "base_uri": "https://localhost:8080/"
        },
        "id": "tEQ9PCMldlPM",
        "outputId": "6be8a249-73e8-4d3f-f0c9-60393384574e"
      },
      "execution_count": 55,
      "outputs": [
        {
          "output_type": "stream",
          "name": "stdout",
          "text": [
            "[0.05564891]\n",
            "[0.12014666]\n",
            "[-0.06934451]\n"
          ]
        }
      ]
    },
    {
      "cell_type": "code",
      "source": [
        "print(np.random.normal(3.0,0.01,size =1))\n",
        "print(np.random.normal(3.0,0.01,size =1))\n",
        "print(np.random.normal(3.0,0.01,size =1))\n"
      ],
      "metadata": {
        "colab": {
          "base_uri": "https://localhost:8080/"
        },
        "id": "IF0tgSqwd-FO",
        "outputId": "a2b40617-4e82-477d-bb4a-7c8782155ddd"
      },
      "execution_count": 56,
      "outputs": [
        {
          "output_type": "stream",
          "name": "stdout",
          "text": [
            "[3.00021346]\n",
            "[2.99773474]\n",
            "[2.98185418]\n"
          ]
        }
      ]
    },
    {
      "cell_type": "code",
      "source": [
        "plt.imshow(np.random.normal(0,0.1,size =(28,28)), cmap='gray')\n",
        "plt.colorbar()\n",
        "plt.show()"
      ],
      "metadata": {
        "colab": {
          "base_uri": "https://localhost:8080/",
          "height": 430
        },
        "id": "FgSwIEhUeQRa",
        "outputId": "8d426618-3116-4499-f38a-188292200574"
      },
      "execution_count": 57,
      "outputs": [
        {
          "output_type": "display_data",
          "data": {
            "text/plain": [
              "<Figure size 640x480 with 2 Axes>"
            ],
            "image/png": "[encoded data removed]"
          },
          "metadata": {}
        }
      ]
    },
    {
      "cell_type": "code",
      "source": [
        "noisy_image =train_images[5] + np.random.normal(0.5,0.1,size =(28,28))"
      ],
      "metadata": {
        "id": "CawccWdbehA3"
      },
      "execution_count": 58,
      "outputs": []
    },
    {
      "cell_type": "code",
      "source": [
        "plt.imshow(noisy_image, cmap ='gray')\n",
        "plt.show()"
      ],
      "metadata": {
        "colab": {
          "base_uri": "https://localhost:8080/",
          "height": 430
        },
        "id": "A7lOtk_Ze6hm",
        "outputId": "3ed7d585-ce13-4727-ccd9-169558da0fd1"
      },
      "execution_count": 59,
      "outputs": [
        {
          "output_type": "display_data",
          "data": {
            "text/plain": [
              "<Figure size 640x480 with 1 Axes>"
            ],
            "image/png": "[encoded data removed]"
          },
          "metadata": {}
        }
      ]
    },
    {
      "cell_type": "code",
      "source": [
        "noisy_image[noisy_image > 1.0] =1.0\n",
        "plt.imshow(noisy_image, cmap ='gray')"
      ],
      "metadata": {
        "colab": {
          "base_uri": "https://localhost:8080/",
          "height": 447
        },
        "id": "4Xr__3TSfX_6",
        "outputId": "68dfaa40-8dde-461e-eaba-d74341b51b58"
      },
      "execution_count": 60,
      "outputs": [
        {
          "output_type": "execute_result",
          "data": {
            "text/plain": [
              "<matplotlib.image.AxesImage at 0x7a5c9be02620>"
            ]
          },
          "metadata": {},
          "execution_count": 60
        },
        {
          "output_type": "display_data",
          "data": {
            "text/plain": [
              "<Figure size 640x480 with 1 Axes>"
            ],
            "image/png": "[encoded data removed]"
          },
          "metadata": {}
        }
      ]
    },
    {
      "cell_type": "code",
      "source": [
        "train_noisy_images = train_images + np.random.normal(0.5, 0.1, train_images.shape)\n",
        "train_noisy_images[train_noisy_images >1.0] =1.0\n",
        "\n",
        "test_noisy_images = test_images + np.random.normal(0.5, 0.1, test_images.shape)\n",
        "test_noisy_images[test_noisy_images >1.0] =1.0\n"
      ],
      "metadata": {
        "id": "-74mmsRMgVyn"
      },
      "execution_count": 61,
      "outputs": []
    },
    {
      "cell_type": "code",
      "source": [
        "plt.imshow(train_noisy_images[:10].transpose((1,0,2)).reshape(28,-1), cmap ='gray')\n",
        "plt.colorbar()\n",
        "plt.show()\n",
        "print(train_labels[:10])\n"
      ],
      "metadata": {
        "colab": {
          "base_uri": "https://localhost:8080/",
          "height": 429
        },
        "id": "CBVgncqZkmiW",
        "outputId": "a3098000-4cbd-4360-ac75-e222fb485cf6"
      },
      "execution_count": 62,
      "outputs": [
        {
          "output_type": "display_data",
          "data": {
            "text/plain": [
              "<Figure size 640x480 with 2 Axes>"
            ],
            "image/png": "[encoded data removed]"
          },
          "metadata": {}
        },
        {
          "output_type": "stream",
          "name": "stdout",
          "text": [
            "[5 0 4 1 9 2 1 3 1 4]\n"
          ]
        }
      ]
    },
    {
      "cell_type": "code",
      "source": [
        "# label -> one-hot encoding\n",
        "from keras.utils import to_categorical\n",
        "to_categorical(train_labels[0], 10)"
      ],
      "metadata": {
        "colab": {
          "base_uri": "https://localhost:8080/"
        },
        "id": "9SiKCV7UlLlg",
        "outputId": "8eacd116-f0ca-497c-ba8d-ca85078b1d37"
      },
      "execution_count": 63,
      "outputs": [
        {
          "output_type": "execute_result",
          "data": {
            "text/plain": [
              "array([0., 0., 0., 0., 0., 1., 0., 0., 0., 0.], dtype=float32)"
            ]
          },
          "metadata": {},
          "execution_count": 63
        }
      ]
    },
    {
      "cell_type": "code",
      "source": [
        "print(train_labels.shape,test_labels.shape )\n",
        "train_labels = to_categorical(train_labels, 10)\n",
        "test_labels = to_categorical(test_labels, 10)\n",
        "print(train_labels.shape,test_labels.shape )\n"
      ],
      "metadata": {
        "colab": {
          "base_uri": "https://localhost:8080/"
        },
        "id": "SkFKvOSvlsrm",
        "outputId": "bb56a730-08f7-4566-d54d-c7f4aceecdd9"
      },
      "execution_count": 98,
      "outputs": [
        {
          "output_type": "stream",
          "name": "stdout",
          "text": [
            "(60000,) (10000,)\n",
            "(60000, 10) (10000, 10)\n"
          ]
        }
      ]
    },
    {
      "cell_type": "markdown",
      "source": [
        "## 5. 모델링"
      ],
      "metadata": {
        "id": "zNtpQLYqmZxZ"
      }
    },
    {
      "cell_type": "code",
      "source": [
        "# input (28,28), 64 unit의 SimpleRNN , ouput 10unit의 fully connected 모델\n",
        "from keras.layers import SimpleRNN\n",
        "from keras.layers import Dense, Input\n",
        "from keras.models import Model\n",
        "\n",
        "inputs = Input(shape=(28,28))\n",
        "x1 = SimpleRNN(64, activation = 'tanh')(inputs)\n",
        "x2 =Dense(10, activation = 'softmax')(x1)\n",
        "\n",
        "model = Model(inputs, x2)\n"
      ],
      "metadata": {
        "id": "zSwVA1vQmdg7"
      },
      "execution_count": 65,
      "outputs": []
    },
    {
      "cell_type": "code",
      "source": [
        "model.summary()"
      ],
      "metadata": {
        "colab": {
          "base_uri": "https://localhost:8080/"
        },
        "id": "0NuVENDvnZyz",
        "outputId": "7b82d00b-b469-4e7e-998e-2dcab5526947"
      },
      "execution_count": 66,
      "outputs": [
        {
          "output_type": "stream",
          "name": "stdout",
          "text": [
            "Model: \"model_2\"\n",
            "_________________________________________________________________\n",
            " Layer (type)                Output Shape              Param #   \n",
            "=================================================================\n",
            " input_3 (InputLayer)        [(None, 28, 28)]          0         \n",
            "                                                                 \n",
            " simple_rnn_2 (SimpleRNN)    (None, 64)                5952      \n",
            "                                                                 \n",
            " dense_2 (Dense)             (None, 10)                650       \n",
            "                                                                 \n",
            "=================================================================\n",
            "Total params: 6602 (25.79 KB)\n",
            "Trainable params: 6602 (25.79 KB)\n",
            "Non-trainable params: 0 (0.00 Byte)\n",
            "_________________________________________________________________\n"
          ]
        }
      ]
    },
    {
      "cell_type": "code",
      "source": [
        "model.compile(\n",
        "    loss = 'categorical_crossentropy',\n",
        "    optimizer = 'adam',\n",
        "    metrics= ['accuracy']\n",
        ")"
      ],
      "metadata": {
        "id": "vPpCM7GqoIkF"
      },
      "execution_count": 67,
      "outputs": []
    },
    {
      "cell_type": "code",
      "source": [
        "hist = model.fit(train_noisy_images, train_labels, validation_data=(test_noisy_images, test_labels), epochs = 5, verbose =2)"
      ],
      "metadata": {
        "colab": {
          "base_uri": "https://localhost:8080/"
        },
        "id": "GBFIeoctpAYK",
        "outputId": "0931de20-7322-47ef-f3c2-9a26a86d266d"
      },
      "execution_count": 68,
      "outputs": [
        {
          "output_type": "stream",
          "name": "stdout",
          "text": [
            "Epoch 1/5\n",
            "1875/1875 - 15s - loss: 0.7089 - accuracy: 0.7755 - val_loss: 0.4369 - val_accuracy: 0.8668 - 15s/epoch - 8ms/step\n",
            "Epoch 2/5\n",
            "1875/1875 - 13s - loss: 0.3926 - accuracy: 0.8840 - val_loss: 0.3294 - val_accuracy: 0.9043 - 13s/epoch - 7ms/step\n",
            "Epoch 3/5\n",
            "1875/1875 - 15s - loss: 0.3283 - accuracy: 0.9040 - val_loss: 0.3095 - val_accuracy: 0.9088 - 15s/epoch - 8ms/step\n",
            "Epoch 4/5\n",
            "1875/1875 - 15s - loss: 0.2970 - accuracy: 0.9120 - val_loss: 0.2821 - val_accuracy: 0.9216 - 15s/epoch - 8ms/step\n",
            "Epoch 5/5\n",
            "1875/1875 - 23s - loss: 0.2746 - accuracy: 0.9192 - val_loss: 0.2591 - val_accuracy: 0.9230 - 23s/epoch - 12ms/step\n"
          ]
        }
      ]
    },
    {
      "cell_type": "code",
      "source": [
        "hist.history"
      ],
      "metadata": {
        "colab": {
          "base_uri": "https://localhost:8080/"
        },
        "id": "OSySlZAcpQO8",
        "outputId": "c19fcb4e-fa22-47b5-818c-ac53a5a8b1f8"
      },
      "execution_count": 69,
      "outputs": [
        {
          "output_type": "execute_result",
          "data": {
            "text/plain": [
              "{'loss': [0.708917498588562,\n",
              "  0.392637699842453,\n",
              "  0.32834792137145996,\n",
              "  0.2969517707824707,\n",
              "  0.2746064364910126],\n",
              " 'accuracy': [0.7755166888237,\n",
              "  0.8840000033378601,\n",
              "  0.9040166735649109,\n",
              "  0.9120333194732666,\n",
              "  0.9192333221435547],\n",
              " 'val_loss': [0.4368543326854706,\n",
              "  0.3294384181499481,\n",
              "  0.3095426559448242,\n",
              "  0.2821301817893982,\n",
              "  0.25906580686569214],\n",
              " 'val_accuracy': [0.8668000102043152,\n",
              "  0.9042999744415283,\n",
              "  0.9088000059127808,\n",
              "  0.9215999841690063,\n",
              "  0.9229999780654907]}"
            ]
          },
          "metadata": {},
          "execution_count": 69
        }
      ]
    },
    {
      "cell_type": "code",
      "source": [
        "plt.plot(hist.history['accuracy'], label = 'accuracy')\n",
        "plt.plot(hist.history['loss'], label = 'loss')\n",
        "plt.plot(hist.history['val_loss'], label = 'val_loss')\n",
        "plt.plot(hist.history['val_accuracy'], label = 'val_accuracy')\n",
        "plt.legend(loc = 'upper left')\n",
        "plt.show()"
      ],
      "metadata": {
        "colab": {
          "base_uri": "https://localhost:8080/",
          "height": 447
        },
        "id": "Am3kImSZp8Jl",
        "outputId": "dd692d45-b121-4555-f1e1-7e4889907738"
      },
      "execution_count": 70,
      "outputs": [
        {
          "output_type": "execute_result",
          "data": {
            "text/plain": [
              "<function matplotlib.pyplot.show(close=None, block=None)>"
            ]
          },
          "metadata": {},
          "execution_count": 70
        },
        {
          "output_type": "display_data",
          "data": {
            "text/plain": [
              "<Figure size 640x480 with 1 Axes>"
            ],
            "image/png": "[encoded data removed]"
          },
          "metadata": {}
        }
      ]
    },
    {
      "cell_type": "markdown",
      "source": [
        "## 6. 결과 확인"
      ],
      "metadata": {
        "id": "0IWOtdjaqfdD"
      }
    },
    {
      "cell_type": "code",
      "source": [
        "res = model.predict(test_noisy_images[0].reshape(1, 28, 28))"
      ],
      "metadata": {
        "colab": {
          "base_uri": "https://localhost:8080/"
        },
        "id": "b890Ag3oqXTd",
        "outputId": "2d1a9fdf-d138-416c-86c5-3ad33b3c6ee4"
      },
      "execution_count": 72,
      "outputs": [
        {
          "output_type": "stream",
          "name": "stdout",
          "text": [
            "1/1 [==============================] - 0s 171ms/step\n"
          ]
        }
      ]
    },
    {
      "cell_type": "code",
      "source": [
        "res.shape"
      ],
      "metadata": {
        "colab": {
          "base_uri": "https://localhost:8080/"
        },
        "id": "nKoKSNE9q2e1",
        "outputId": "87ab74e1-417e-44f2-e6d3-f7054fcb0e54"
      },
      "execution_count": 74,
      "outputs": [
        {
          "output_type": "execute_result",
          "data": {
            "text/plain": [
              "(1, 10)"
            ]
          },
          "metadata": {},
          "execution_count": 74
        }
      ]
    },
    {
      "cell_type": "code",
      "source": [
        "print(np.concatenate([test_noisy_images[0], test_images[0]], axis = 1).shape)\n",
        "plt.imshow(np.concatenate([test_noisy_images[0], test_images[0]], axis = 1))\n",
        "plt.show()"
      ],
      "metadata": {
        "colab": {
          "base_uri": "https://localhost:8080/",
          "height": 326
        },
        "id": "pehUX8WfrHaP",
        "outputId": "1949f312-01f2-4b72-ab27-3954cbbc87d3"
      },
      "execution_count": 85,
      "outputs": [
        {
          "output_type": "stream",
          "name": "stdout",
          "text": [
            "(28, 56)\n"
          ]
        },
        {
          "output_type": "display_data",
          "data": {
            "text/plain": [
              "<Figure size 640x480 with 1 Axes>"
            ],
            "image/png": "[encoded data removed]"
          },
          "metadata": {}
        }
      ]
    },
    {
      "cell_type": "code",
      "source": [
        "plt.imshow(test_noisy_images[0])"
      ],
      "metadata": {
        "colab": {
          "base_uri": "https://localhost:8080/",
          "height": 447
        },
        "id": "HYddA6YmrucV",
        "outputId": "267d9323-23e9-4803-d994-2eb22e958ece"
      },
      "execution_count": 80,
      "outputs": [
        {
          "output_type": "execute_result",
          "data": {
            "text/plain": [
              "<matplotlib.image.AxesImage at 0x7a5c9bed2890>"
            ]
          },
          "metadata": {},
          "execution_count": 80
        },
        {
          "output_type": "display_data",
          "data": {
            "text/plain": [
              "<Figure size 640x480 with 1 Axes>"
            ],
            "image/png": "[encoded data removed]"
          },
          "metadata": {}
        }
      ]
    },
    {
      "cell_type": "code",
      "source": [
        "plt.bar(range(10), res[0], color ='red')\n",
        "plt.bar(np.array(range(10)) + 0.35, test_labels[0])\n",
        "plt.show()"
      ],
      "metadata": {
        "colab": {
          "base_uri": "https://localhost:8080/",
          "height": 430
        },
        "id": "ShD0WkdcsYVI",
        "outputId": "7e2c4477-2015-4ea6-efd9-a5247d4392ad"
      },
      "execution_count": 99,
      "outputs": [
        {
          "output_type": "display_data",
          "data": {
            "text/plain": [
              "<Figure size 640x480 with 1 Axes>"
            ],
            "image/png": "[encoded data removed]"
          },
          "metadata": {}
        }
      ]
    },
    {
      "cell_type": "markdown",
      "source": [
        "## 7. 모델 저장 및 다운"
      ],
      "metadata": {
        "id": "k7oSQ7Ydx2l0"
      }
    },
    {
      "cell_type": "code",
      "source": [
        "model.save('./lecture001.h5')"
      ],
      "metadata": {
        "colab": {
          "base_uri": "https://localhost:8080/"
        },
        "id": "o3tUP639trBo",
        "outputId": "4dfa8d53-815c-4b20-eb11-f3b0aee4a6d2"
      },
      "execution_count": 100,
      "outputs": [
        {
          "output_type": "stream",
          "name": "stderr",
          "text": [
            "/usr/local/lib/python3.10/dist-packages/keras/src/engine/training.py:3000: UserWarning: You are saving your model as an HDF5 file via `model.save()`. This file format is considered legacy. We recommend using instead the native Keras format, e.g. `model.save('my_model.keras')`.\n",
            "  saving_api.save_model(\n"
          ]
        }
      ]
    },
    {
      "cell_type": "code",
      "source": [
        "new_model = tf.keras.models.load_model('./lecture001.h5')"
      ],
      "metadata": {
        "id": "TaOcT-wEyXxV"
      },
      "execution_count": 101,
      "outputs": []
    },
    {
      "cell_type": "code",
      "source": [
        "res = new_model.predict(test_noisy_images[3].reshape(1, 28, 28))\n",
        "res.shape\n",
        "\n",
        "plt.bar(range(10), res[0], color ='red')\n",
        "plt.bar(np.array(range(10)) + 0.35, test_labels[3])\n",
        "plt.show()"
      ],
      "metadata": {
        "colab": {
          "base_uri": "https://localhost:8080/",
          "height": 447
        },
        "id": "hFMJWy4zyijd",
        "outputId": "e97107c3-5609-4fd5-bd92-4eb0ee1e4e70"
      },
      "execution_count": 104,
      "outputs": [
        {
          "output_type": "stream",
          "name": "stdout",
          "text": [
            "1/1 [==============================] - 0s 37ms/step\n"
          ]
        },
        {
          "output_type": "display_data",
          "data": {
            "text/plain": [
              "<Figure size 640x480 with 1 Axes>"
            ],
            "image/png": "[encoded data removed]"
          },
          "metadata": {}
        }
      ]
    },
    {
      "cell_type": "code",
      "source": [
        "loss, acc =new_model.evaluate(test_noisy_images, test_labels, verbose =2)\n",
        "print(loss, acc)\n",
        "loss, acc =model.evaluate(test_noisy_images, test_labels, verbose =2)\n",
        "print(loss, acc)"
      ],
      "metadata": {
        "colab": {
          "base_uri": "https://localhost:8080/"
        },
        "id": "79DNTGBvyuFr",
        "outputId": "0c30a4bb-201b-4810-e9e3-dccccd79ed27"
      },
      "execution_count": 106,
      "outputs": [
        {
          "output_type": "stream",
          "name": "stdout",
          "text": [
            "313/313 - 2s - loss: 0.2591 - accuracy: 0.9230 - 2s/epoch - 6ms/step\n",
            "0.25906580686569214 0.9229999780654907\n",
            "313/313 - 1s - loss: 0.2591 - accuracy: 0.9230 - 1s/epoch - 4ms/step\n",
            "0.25906580686569214 0.9229999780654907\n"
          ]
        }
      ]
    },
    {
      "cell_type": "code",
      "source": [
        "from google.colab import files\n",
        "files.download('/content/lecture001.h5')"
      ],
      "metadata": {
        "colab": {
          "base_uri": "https://localhost:8080/",
          "height": 17
        },
        "id": "QaDw9xK_z0yW",
        "outputId": "7108a832-5196-44ac-b967-4bb9cf7aaedf"
      },
      "execution_count": 107,
      "outputs": [
        {
          "output_type": "display_data",
          "data": {
            "text/plain": [
              "<IPython.core.display.Javascript object>"
            ],
            "application/javascript": [
              "\n",
              "    async function download(id, filename, size) {\n",
              "      if (!google.colab.kernel.accessAllowed) {\n",
              "        return;\n",
              "      }\n",
              "      const div = document.createElement('div');\n",
              "      const label = document.createElement('label');\n",
              "      label.textContent = `Downloading \"${filename}\": `;\n",
              "      div.appendChild(label);\n",
              "      const progress = document.createElement('progress');\n",
              "      progress.max = size;\n",
              "      div.appendChild(progress);\n",
              "      document.body.appendChild(div);\n",
              "\n",
              "      const buffers = [];\n",
              "      let downloaded = 0;\n",
              "\n",
              "      const channel = await google.colab.kernel.comms.open(id);\n",
              "      // Send a message to notify the kernel that we're ready.\n",
              "      channel.send({})\n",
              "\n",
              "      for await (const message of channel.messages) {\n",
              "        // Send a message to notify the kernel that we're ready.\n",
              "        channel.send({})\n",
              "        if (message.buffers) {\n",
              "          for (const buffer of message.buffers) {\n",
              "            buffers.push(buffer);\n",
              "            downloaded += buffer.byteLength;\n",
              "            progress.value = downloaded;\n",
              "          }\n",
              "        }\n",
              "      }\n",
              "      const blob = new Blob(buffers, {type: 'application/binary'});\n",
              "      const a = document.createElement('a');\n",
              "      a.href = window.URL.createObjectURL(blob);\n",
              "      a.download = filename;\n",
              "      div.appendChild(a);\n",
              "      a.click();\n",
              "      div.remove();\n",
              "    }\n",
              "  "
            ]
          },
          "metadata": {}
        },
        {
          "output_type": "display_data",
          "data": {
            "text/plain": [
              "<IPython.core.display.Javascript object>"
            ],
            "application/javascript": [
              "download(\"download_17bd8916-cf60-4093-8ba6-f2c899699f0d\", \"lecture001.h5\", 109528)"
            ]
          },
          "metadata": {}
        }
      ]
    }
  ]
}