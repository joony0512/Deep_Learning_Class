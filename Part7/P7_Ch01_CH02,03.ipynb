{
  "nbformat": 4,
  "nbformat_minor": 0,
  "metadata": {
    "colab": {
      "provenance": [],
      "authorship_tag": "ABX9TyO5iBWA0OjUWoaKzOjZslfR",
      "include_colab_link": true
    },
    "kernelspec": {
      "name": "python3",
      "display_name": "Python 3"
    },
    "language_info": {
      "name": "python"
    }
  },
  "cells": [
    {
      "cell_type": "markdown",
      "metadata": {
        "id": "view-in-github",
        "colab_type": "text"
      },
      "source": [
        "<a href=\"https://colab.research.google.com/github/joony0512/Deep_Learning_Class/blob/main/Part7/P7_Ch01_CH02%2C03.ipynb\" target=\"_parent\"><img src=\"https://colab.research.google.com/assets/colab-badge.svg\" alt=\"Open In Colab\"/></a>"
      ]
    },
    {
      "cell_type": "markdown",
      "source": [
        "# MNIST RNN Classifier\n"
      ],
      "metadata": {
        "id": "1FfPCaS4Ki75"
      }
    },
    {
      "cell_type": "markdown",
      "source": [
        "## 2. Preprocessing"
      ],
      "metadata": {
        "id": "gO88HTC_Kp20"
      }
    },
    {
      "cell_type": "code",
      "execution_count": 2,
      "metadata": {
        "id": "PaQRFx1XKhSx"
      },
      "outputs": [],
      "source": [
        "import pandas as pd\n",
        "import numpy as np\n",
        "import matplotlib.pyplot as plt\n",
        "import seaborn as sns\n",
        "\n",
        "import tensorflow as tf\n",
        "from tensorflow import keras\n",
        "from keras.layers import Dense\n",
        "from keras.models import Sequential\n",
        "from IPython.display import Image"
      ]
    },
    {
      "cell_type": "code",
      "source": [
        "mnist = keras.datasets.mnist\n",
        "(train_images, train_labels ), (test_images, test_labels) = mnist.load_data()\n"
      ],
      "metadata": {
        "colab": {
          "base_uri": "https://localhost:8080/"
        },
        "id": "ve1vWdyILfSl",
        "outputId": "9969caa1-92a2-4a74-b284-1c8f97fa0c13"
      },
      "execution_count": 3,
      "outputs": [
        {
          "output_type": "stream",
          "name": "stdout",
          "text": [
            "Downloading data from https://storage.googleapis.com/tensorflow/tf-keras-datasets/mnist.npz\n",
            "11490434/11490434 [==============================] - 0s 0us/step\n"
          ]
        }
      ]
    },
    {
      "cell_type": "markdown",
      "source": [
        "### 데이터 범위 파악"
      ],
      "metadata": {
        "id": "8gToOqlSNYgm"
      }
    },
    {
      "cell_type": "code",
      "source": [
        "print(list(filter(lambda x : x!=0,train_images[0].reshape(-1)))[:10])\n",
        "print(list(filter(lambda x : x!=0,train_labels.reshape(-1)))[:10])\n",
        "print(list(filter(lambda x : x!=0,test_images[0].reshape(-1)))[:10])\n",
        "print(list(filter(lambda x : x!=0,test_labels.reshape(-1)))[:10])"
      ],
      "metadata": {
        "colab": {
          "base_uri": "https://localhost:8080/"
        },
        "id": "uml7x2eFLhcu",
        "outputId": "a6272abf-b58d-4e94-8229-7cd050e338a5"
      },
      "execution_count": 4,
      "outputs": [
        {
          "output_type": "stream",
          "name": "stdout",
          "text": [
            "[3, 18, 18, 18, 126, 136, 175, 26, 166, 255]\n",
            "[5, 4, 1, 9, 2, 1, 3, 1, 4, 3]\n",
            "[84, 185, 159, 151, 60, 36, 222, 254, 254, 254]\n",
            "[7, 2, 1, 4, 1, 4, 9, 5, 9, 6]\n"
          ]
        }
      ]
    },
    {
      "cell_type": "code",
      "source": [
        "print(max(train_images[0].reshape(-1)))\n",
        "print(min(train_images[0].reshape(-1)))\n",
        "print(max(test_images[0].reshape(-1)))\n",
        "print(min(test_images[0].reshape(-1)))"
      ],
      "metadata": {
        "colab": {
          "base_uri": "https://localhost:8080/"
        },
        "id": "4M40V18FMD74",
        "outputId": "0fa36e84-838b-473e-da3e-1171c0f43a76"
      },
      "execution_count": 5,
      "outputs": [
        {
          "output_type": "stream",
          "name": "stdout",
          "text": [
            "255\n",
            "0\n",
            "255\n",
            "0\n"
          ]
        }
      ]
    },
    {
      "cell_type": "code",
      "source": [
        "train_images = train_images.astype(np.float64)\n",
        "test_images = test_images.astype(np.float64)\n"
      ],
      "metadata": {
        "id": "oix9MbOHLsHu"
      },
      "execution_count": 6,
      "outputs": []
    },
    {
      "cell_type": "markdown",
      "source": [
        "## Normalization"
      ],
      "metadata": {
        "id": "nP40bCTWN2l4"
      }
    },
    {
      "cell_type": "code",
      "source": [
        "train_images = train_images/255\n",
        "test_images = test_images/255\n"
      ],
      "metadata": {
        "id": "9nJbCD1eNjye"
      },
      "execution_count": 7,
      "outputs": []
    },
    {
      "cell_type": "code",
      "source": [
        "print(list(filter(lambda x : x!=0,train_images[0].reshape(-1)))[:10])\n",
        "print(list(filter(lambda x : x!=0,train_labels.reshape(-1)))[:10])\n",
        "print(list(filter(lambda x : x!=0,test_images[0].reshape(-1)))[:10])\n",
        "print(list(filter(lambda x : x!=0,test_labels.reshape(-1)))[:10])"
      ],
      "metadata": {
        "colab": {
          "base_uri": "https://localhost:8080/"
        },
        "id": "sx588whcOrqG",
        "outputId": "6c1d5247-a8b4-4464-9c12-b9af66c49ad9"
      },
      "execution_count": 8,
      "outputs": [
        {
          "output_type": "stream",
          "name": "stdout",
          "text": [
            "[0.011764705882352941, 0.07058823529411765, 0.07058823529411765, 0.07058823529411765, 0.49411764705882355, 0.5333333333333333, 0.6862745098039216, 0.10196078431372549, 0.6509803921568628, 1.0]\n",
            "[5, 4, 1, 9, 2, 1, 3, 1, 4, 3]\n",
            "[0.32941176470588235, 0.7254901960784313, 0.6235294117647059, 0.592156862745098, 0.23529411764705882, 0.1411764705882353, 0.8705882352941177, 0.996078431372549, 0.996078431372549, 0.996078431372549]\n",
            "[7, 2, 1, 4, 1, 4, 9, 5, 9, 6]\n"
          ]
        }
      ]
    },
    {
      "cell_type": "code",
      "source": [
        "train_images.shape,train_labels.shape, test_images.shape, test_labels.shape"
      ],
      "metadata": {
        "colab": {
          "base_uri": "https://localhost:8080/"
        },
        "id": "2LRKup2VPRQF",
        "outputId": "4198b34e-1232-44cb-f4bc-382124074ec6"
      },
      "execution_count": 9,
      "outputs": [
        {
          "output_type": "execute_result",
          "data": {
            "text/plain": [
              "((60000, 28, 28), (60000,), (10000, 28, 28), (10000,))"
            ]
          },
          "metadata": {},
          "execution_count": 9
        }
      ]
    },
    {
      "cell_type": "code",
      "source": [
        "train_images.dtype, train_labels.dtype, test_images.dtype, test_labels.dtype"
      ],
      "metadata": {
        "colab": {
          "base_uri": "https://localhost:8080/"
        },
        "id": "d20G7kwSPUQQ",
        "outputId": "a9b247f4-c45f-418e-9fa2-4b00378cd54d"
      },
      "execution_count": 10,
      "outputs": [
        {
          "output_type": "execute_result",
          "data": {
            "text/plain": [
              "(dtype('float64'), dtype('uint8'), dtype('float64'), dtype('uint8'))"
            ]
          },
          "metadata": {},
          "execution_count": 10
        }
      ]
    },
    {
      "cell_type": "markdown",
      "source": [
        "## 3. 시각화"
      ],
      "metadata": {
        "id": "BJP1VjwAPrBn"
      }
    },
    {
      "cell_type": "code",
      "source": [
        "train_images[:5].shape"
      ],
      "metadata": {
        "colab": {
          "base_uri": "https://localhost:8080/"
        },
        "id": "fk9mUTKKPihy",
        "outputId": "ba2f8ae2-547a-450f-f2ca-17338db40b57"
      },
      "execution_count": 16,
      "outputs": [
        {
          "output_type": "execute_result",
          "data": {
            "text/plain": [
              "(5, 28, 28)"
            ]
          },
          "metadata": {},
          "execution_count": 16
        }
      ]
    },
    {
      "cell_type": "code",
      "source": [
        "print(train_images[:5].reshape(28, 28*5).shape)\n",
        "print(np.hstack(train_images[:5]).shape)"
      ],
      "metadata": {
        "colab": {
          "base_uri": "https://localhost:8080/"
        },
        "id": "R6RzUp_EYCu0",
        "outputId": "89ac090d-4162-493a-d71a-91099b54e541"
      },
      "execution_count": 24,
      "outputs": [
        {
          "output_type": "stream",
          "name": "stdout",
          "text": [
            "(28, 140)\n",
            "(28, 140)\n"
          ]
        }
      ]
    },
    {
      "cell_type": "code",
      "source": [
        "train_images[:5].transpose(( 1,0,2)).reshape(28,-1).shape"
      ],
      "metadata": {
        "colab": {
          "base_uri": "https://localhost:8080/"
        },
        "id": "Ov1ze4lXYvij",
        "outputId": "bdfc8973-d83d-4109-c3eb-aa62041a380e"
      },
      "execution_count": 23,
      "outputs": [
        {
          "output_type": "execute_result",
          "data": {
            "text/plain": [
              "(28, 140)"
            ]
          },
          "metadata": {},
          "execution_count": 23
        }
      ]
    },
    {
      "cell_type": "code",
      "source": [
        "# plt.imshow(train_images[:5].reshape(28, 28*5))\n",
        "# plt.imshow(np.hstack(train_images[:5]))\n",
        "plt.imshow(train_images[:10].transpose((1,0,2)).reshape(28,-1), cmap ='gray')\n",
        "plt.colorbar()\n",
        "plt.show()\n",
        "print(train_labels[:10])\n"
      ],
      "metadata": {
        "colab": {
          "base_uri": "https://localhost:8080/",
          "height": 437
        },
        "id": "vmFW-E7ra9wO",
        "outputId": "9f2d7b14-902b-4eeb-9e21-7042e1481ad7"
      },
      "execution_count": 35,
      "outputs": [
        {
          "output_type": "display_data",
          "data": {
            "text/plain": [
              "<Figure size 640x480 with 2 Axes>"
            ],
            "image/png": "[encoded data removed]"
          },
          "metadata": {}
        },
        {
          "output_type": "stream",
          "name": "stdout",
          "text": [
            "[5 0 4 1 9 2 1 3 1 4]\n"
          ]
        }
      ]
    }
  ]
}