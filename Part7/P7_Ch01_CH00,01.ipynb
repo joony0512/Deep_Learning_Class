{
  "nbformat": 4,
  "nbformat_minor": 0,
  "metadata": {
    "colab": {
      "provenance": [],
      "authorship_tag": "ABX9TyPzlz7Pwf/IKhI+sbFyzy6R",
      "include_colab_link": true
    },
    "kernelspec": {
      "name": "python3",
      "display_name": "Python 3"
    },
    "language_info": {
      "name": "python"
    }
  },
  "cells": [
    {
      "cell_type": "markdown",
      "metadata": {
        "id": "view-in-github",
        "colab_type": "text"
      },
      "source": [
        "<a href=\"https://colab.research.google.com/github/joony0512/Deep_Learning_Class/blob/main/Part7/P7_Ch01_CH00%2C01.ipynb\" target=\"_parent\"><img src=\"https://colab.research.google.com/assets/colab-badge.svg\" alt=\"Open In Colab\"/></a>"
      ]
    },
    {
      "cell_type": "markdown",
      "source": [
        "# RNN으로 MNIST손글씨 분류\n"
      ],
      "metadata": {
        "id": "flG2RGq5CfYW"
      }
    },
    {
      "cell_type": "code",
      "execution_count": 2,
      "metadata": {
        "id": "Zp4zWpNCCev6"
      },
      "outputs": [],
      "source": [
        "import pandas as pd\n",
        "import numpy as np\n",
        "import matplotlib.pyplot as plt\n",
        "import seaborn as sns\n",
        "\n",
        "import tensorflow as tf\n",
        "from tensorflow import keras\n",
        "from keras.layers import Dense\n",
        "from keras.models import Sequential\n",
        "from IPython.display import Image"
      ]
    },
    {
      "cell_type": "markdown",
      "source": [
        "## EDA\n"
      ],
      "metadata": {
        "id": "PeRUy0ktEnfh"
      }
    },
    {
      "cell_type": "code",
      "source": [
        "mnist = keras.datasets.mnist\n",
        "(train_images, train_labels ), (test_images, test_labels) = mnist.load_data()\n"
      ],
      "metadata": {
        "id": "28PPD3ABDMsY"
      },
      "execution_count": 7,
      "outputs": []
    },
    {
      "cell_type": "code",
      "source": [
        "print(train_images.shape)\n",
        "print(train_labels.shape)\n",
        "print(test_images.shape)\n",
        "print(test_labels.shape)"
      ],
      "metadata": {
        "colab": {
          "base_uri": "https://localhost:8080/"
        },
        "id": "CrV1iqsME3Zy",
        "outputId": "4b0fe022-1277-45d4-cc59-4418e4e9f63e"
      },
      "execution_count": 9,
      "outputs": [
        {
          "output_type": "stream",
          "name": "stdout",
          "text": [
            "(60000, 28, 28)\n",
            "(60000,)\n",
            "(10000, 28, 28)\n",
            "(10000,)\n"
          ]
        }
      ]
    },
    {
      "cell_type": "code",
      "source": [
        "plt.figure(figsize = (5,5))\n",
        "plt.imshow(train_images[10], cmap='gray')\n",
        "plt.colorbar()\n",
        "plt.grid(True)\n",
        "plt.show()\n",
        "print(train_labels[10])"
      ],
      "metadata": {
        "colab": {
          "base_uri": "https://localhost:8080/",
          "height": 447
        },
        "id": "LZUAPqy_Fu25",
        "outputId": "ebacfbb8-4d04-4142-b095-0c2dff95e426"
      },
      "execution_count": 15,
      "outputs": [
        {
          "output_type": "display_data",
          "data": {
            "text/plain": [
              "<Figure size 500x500 with 2 Axes>"
            ],
            "image/png": "[encoded data removed]"
          },
          "metadata": {}
        },
        {
          "output_type": "stream",
          "name": "stdout",
          "text": [
            "3\n"
          ]
        }
      ]
    },
    {
      "cell_type": "code",
      "source": [
        "sorted(list(filter(lambda x : x!=0,train_images[10].reshape(-1))))"
      ],
      "metadata": {
        "colab": {
          "base_uri": "https://localhost:8080/"
        },
        "id": "xX9xX5nuGV6g",
        "outputId": "9f0481f1-b3fa-4060-d82d-caeecf3904f7"
      },
      "execution_count": 29,
      "outputs": [
        {
          "output_type": "execute_result",
          "data": {
            "text/plain": [
              "[1,\n",
              " 6,\n",
              " 7,\n",
              " 7,\n",
              " 8,\n",
              " 11,\n",
              " 18,\n",
              " 19,\n",
              " 24,\n",
              " 25,\n",
              " 28,\n",
              " 31,\n",
              " 34,\n",
              " 34,\n",
              " 34,\n",
              " 36,\n",
              " 40,\n",
              " 41,\n",
              " 42,\n",
              " 50,\n",
              " 51,\n",
              " 57,\n",
              " 63,\n",
              " 66,\n",
              " 70,\n",
              " 73,\n",
              " 81,\n",
              " 84,\n",
              " 89,\n",
              " 89,\n",
              " 89,\n",
              " 90,\n",
              " 91,\n",
              " 93,\n",
              " 103,\n",
              " 104,\n",
              " 105,\n",
              " 110,\n",
              " 112,\n",
              " 116,\n",
              " 117,\n",
              " 117,\n",
              " 118,\n",
              " 118,\n",
              " 118,\n",
              " 128,\n",
              " 137,\n",
              " 138,\n",
              " 139,\n",
              " 140,\n",
              " 141,\n",
              " 146,\n",
              " 164,\n",
              " 165,\n",
              " 166,\n",
              " 171,\n",
              " 171,\n",
              " 171,\n",
              " 177,\n",
              " 180,\n",
              " 197,\n",
              " 206,\n",
              " 206,\n",
              " 207,\n",
              " 209,\n",
              " 210,\n",
              " 213,\n",
              " 214,\n",
              " 214,\n",
              " 215,\n",
              " 219,\n",
              " 219,\n",
              " 222,\n",
              " 224,\n",
              " 232,\n",
              " 236,\n",
              " 238,\n",
              " 239,\n",
              " 240,\n",
              " 240,\n",
              " 241,\n",
              " 242,\n",
              " 244,\n",
              " 246,\n",
              " 247,\n",
              " 250,\n",
              " 253,\n",
              " 253,\n",
              " 254,\n",
              " 254,\n",
              " 254,\n",
              " 254,\n",
              " 254,\n",
              " 254,\n",
              " 254,\n",
              " 254,\n",
              " 254,\n",
              " 254,\n",
              " 254,\n",
              " 254,\n",
              " 254,\n",
              " 254,\n",
              " 254,\n",
              " 254,\n",
              " 254,\n",
              " 254,\n",
              " 254,\n",
              " 254,\n",
              " 254,\n",
              " 254,\n",
              " 254,\n",
              " 254,\n",
              " 254,\n",
              " 254,\n",
              " 254,\n",
              " 254,\n",
              " 254,\n",
              " 254,\n",
              " 254,\n",
              " 254,\n",
              " 254,\n",
              " 254,\n",
              " 254,\n",
              " 254,\n",
              " 254,\n",
              " 254,\n",
              " 254,\n",
              " 254,\n",
              " 254,\n",
              " 254,\n",
              " 254,\n",
              " 254,\n",
              " 254,\n",
              " 254,\n",
              " 254,\n",
              " 254,\n",
              " 254,\n",
              " 254,\n",
              " 254,\n",
              " 254,\n",
              " 254,\n",
              " 254,\n",
              " 254,\n",
              " 254,\n",
              " 254,\n",
              " 254,\n",
              " 254,\n",
              " 254,\n",
              " 254,\n",
              " 254,\n",
              " 254,\n",
              " 254,\n",
              " 254,\n",
              " 254,\n",
              " 254]"
            ]
          },
          "metadata": {},
          "execution_count": 29
        }
      ]
    },
    {
      "cell_type": "code",
      "source": [
        "print(train_images.dtype)\n",
        "print(train_labels.dtype)\n",
        "print(test_images.dtype)\n",
        "print(test_labels.dtype)\n"
      ],
      "metadata": {
        "colab": {
          "base_uri": "https://localhost:8080/"
        },
        "id": "EaT_VNi_HUqa",
        "outputId": "8114c63b-1266-4abd-fe0f-bbe6993bb768"
      },
      "execution_count": 32,
      "outputs": [
        {
          "output_type": "stream",
          "name": "stdout",
          "text": [
            "uint8\n",
            "uint8\n",
            "uint8\n",
            "uint8\n"
          ]
        }
      ]
    },
    {
      "cell_type": "code",
      "source": [],
      "metadata": {
        "id": "zU3QhHwAIdxQ"
      },
      "execution_count": null,
      "outputs": []
    }
  ]
}