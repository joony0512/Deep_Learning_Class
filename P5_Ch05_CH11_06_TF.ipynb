{
  "nbformat": 4,
  "nbformat_minor": 0,
  "metadata": {
    "colab": {
      "provenance": [],
      "gpuType": "T4",
      "include_colab_link": true
    },
    "kernelspec": {
      "name": "python3",
      "display_name": "Python 3"
    },
    "language_info": {
      "name": "python"
    },
    "accelerator": "GPU"
  },
  "cells": [
    {
      "cell_type": "markdown",
      "metadata": {
        "id": "view-in-github",
        "colab_type": "text"
      },
      "source": [
        "<a href=\"https://colab.research.google.com/github/joony0512/Deep_Learning_Class/blob/main/P5_Ch05_CH11_06_TF.ipynb\" target=\"_parent\"><img src=\"https://colab.research.google.com/assets/colab-badge.svg\" alt=\"Open In Colab\"/></a>"
      ]
    },
    {
      "cell_type": "markdown",
      "source": [
        "# VAE_Fashion_MNIST_TF"
      ],
      "metadata": {
        "id": "PFodRp3iJIYX"
      }
    },
    {
      "cell_type": "code",
      "execution_count": 1,
      "metadata": {
        "colab": {
          "base_uri": "https://localhost:8080/"
        },
        "id": "Ta0CZFf49B_g",
        "outputId": "5f4cf734-f2c2-4095-da39-642909536032"
      },
      "outputs": [
        {
          "output_type": "stream",
          "name": "stdout",
          "text": [
            "Mounted at /content/drive\n"
          ]
        }
      ],
      "source": [
        "from google.colab import drive\n",
        "drive.mount('/content/drive')"
      ]
    },
    {
      "cell_type": "code",
      "source": [
        "%cd /content/drive/MyDrive/#fastcampus\n",
        "!pwd\n",
        "\n",
        "!ls"
      ],
      "metadata": {
        "id": "9sMzDNNgwB5A",
        "colab": {
          "base_uri": "https://localhost:8080/"
        },
        "outputId": "6d2aad01-f0ad-45ae-cb64-416f98c1d633"
      },
      "execution_count": 2,
      "outputs": [
        {
          "output_type": "stream",
          "name": "stdout",
          "text": [
            "/content/drive/MyDrive/#fastcampus\n",
            "/content/drive/MyDrive/#fastcampus\n",
            " config_utils.py      data_utils.py\t runs\n",
            " config_utils_tf.py   __init__.py\t wandb\n",
            " config.yaml\t      logs\t\t'[강의자료]-노트북-ipynb-파일'\n",
            " custom_math.py       __pycache__\n",
            " data\t\t      requirements.txt\n"
          ]
        }
      ]
    },
    {
      "cell_type": "code",
      "source": [
        "import os\n",
        "import sys\n",
        "sys.path.append('/content/drive/MyDrive/#fastcampus')\n",
        "drive_project_root = '/content/drive/MyDrive/#fastcampus'\n",
        "!pip install -r '/content/drive/MyDrive/#fastcampus/requirements.txt'"
      ],
      "metadata": {
        "id": "XfB2PJAF9Vay"
      },
      "execution_count": null,
      "outputs": []
    },
    {
      "cell_type": "code",
      "source": [
        "!pip install tensorflow-addons\n",
        "!pip install wandb\n",
        "!pip install omegaconf\n",
        "!pip install hydra-core==1.1\n"
      ],
      "metadata": {
        "id": "q66nwbt-8TWL"
      },
      "execution_count": null,
      "outputs": []
    },
    {
      "cell_type": "code",
      "source": [
        "from datetime import datetime\n",
        "import numpy as np\n",
        "from tqdm import tqdm\n",
        "import matplotlib.pyplot as plt\n",
        "from omegaconf import OmegaConf\n",
        "from omegaconf import DictConfig\n",
        "import hydra\n",
        "from hydra.core.config_store import ConfigStore\n",
        "\n",
        "import tensorflow as tf\n",
        "import tensorflow_addons as tfa\n",
        "\n",
        "import wandb\n"
      ],
      "metadata": {
        "id": "1aXyOYQ99hGj",
        "colab": {
          "base_uri": "https://localhost:8080/"
        },
        "outputId": "094eaac8-9f3b-474e-c40b-38574b6b51eb"
      },
      "execution_count": 5,
      "outputs": [
        {
          "output_type": "stream",
          "name": "stderr",
          "text": [
            "/usr/local/lib/python3.10/dist-packages/tensorflow_addons/utils/tfa_eol_msg.py:23: UserWarning: \n",
            "\n",
            "TensorFlow Addons (TFA) has ended development and introduction of new features.\n",
            "TFA has entered a minimal maintenance and release mode until a planned end of life in May 2024.\n",
            "Please modify downstream libraries to take dependencies from other repositories in our TensorFlow community (e.g. Keras, Keras-CV, and Keras-NLP). \n",
            "\n",
            "For more information see: https://github.com/tensorflow/addons/issues/2807 \n",
            "\n",
            "  warnings.warn(\n"
          ]
        }
      ]
    },
    {
      "cell_type": "code",
      "source": [
        "from data_utils import dataset_split\n",
        "from config_utils_tf import flatten_dict\n",
        "from config_utils_tf import register_config\n",
        "from config_utils_tf import get_optimizer_element\n",
        "from config_utils_tf import get_callbacks"
      ],
      "metadata": {
        "id": "xD6siBMUV9pI"
      },
      "execution_count": 6,
      "outputs": []
    },
    {
      "cell_type": "code",
      "source": [
        "tf.config.list_physical_devices()"
      ],
      "metadata": {
        "colab": {
          "base_uri": "https://localhost:8080/"
        },
        "id": "wINzoU44BXof",
        "outputId": "f40de399-8bf5-4326-90fa-b1692ac5facc"
      },
      "execution_count": 7,
      "outputs": [
        {
          "output_type": "execute_result",
          "data": {
            "text/plain": [
              "[PhysicalDevice(name='/physical_device:CPU:0', device_type='CPU'),\n",
              " PhysicalDevice(name='/physical_device:GPU:0', device_type='GPU')]"
            ]
          },
          "metadata": {},
          "execution_count": 7
        }
      ]
    },
    {
      "cell_type": "code",
      "source": [
        "!nvidia-smi"
      ],
      "metadata": {
        "colab": {
          "base_uri": "https://localhost:8080/"
        },
        "id": "t4O2LmSKBgJR",
        "outputId": "b9d6e530-0919-48b3-b654-32b100a73c59"
      },
      "execution_count": 8,
      "outputs": [
        {
          "output_type": "stream",
          "name": "stdout",
          "text": [
            "Mon Aug 14 07:17:31 2023       \n",
            "+-----------------------------------------------------------------------------+\n",
            "| NVIDIA-SMI 525.105.17   Driver Version: 525.105.17   CUDA Version: 12.0     |\n",
            "|-------------------------------+----------------------+----------------------+\n",
            "| GPU  Name        Persistence-M| Bus-Id        Disp.A | Volatile Uncorr. ECC |\n",
            "| Fan  Temp  Perf  Pwr:Usage/Cap|         Memory-Usage | GPU-Util  Compute M. |\n",
            "|                               |                      |               MIG M. |\n",
            "|===============================+======================+======================|\n",
            "|   0  Tesla T4            Off  | 00000000:00:04.0 Off |                    0 |\n",
            "| N/A   45C    P8     9W /  70W |      3MiB / 15360MiB |      0%      Default |\n",
            "|                               |                      |                  N/A |\n",
            "+-------------------------------+----------------------+----------------------+\n",
            "                                                                               \n",
            "+-----------------------------------------------------------------------------+\n",
            "| Processes:                                                                  |\n",
            "|  GPU   GI   CI        PID   Type   Process name                  GPU Memory |\n",
            "|        ID   ID                                                   Usage      |\n",
            "|=============================================================================|\n",
            "|  No running processes found                                                 |\n",
            "+-----------------------------------------------------------------------------+\n"
          ]
        }
      ]
    },
    {
      "cell_type": "markdown",
      "source": [
        "## 데이터 및 데이터로더 정의"
      ],
      "metadata": {
        "id": "VQIeiio4FCzF"
      }
    },
    {
      "cell_type": "markdown",
      "source": [
        "## 모델정의\n"
      ],
      "metadata": {
        "id": "bj3mzbUIfLv4"
      }
    },
    {
      "cell_type": "markdown",
      "source": [
        "![image.png](data:image/png;base64,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)"
      ],
      "metadata": {
        "id": "I43VXMRU-5pl"
      }
    },
    {
      "cell_type": "code",
      "source": [
        "class VAE(tf.keras.Model):\n",
        "  \"\"\"Convolutional variational autoencoder\"\"\"\n",
        "  def __init__(self, cfg : DictConfig):\n",
        "    super().__init__() # 클래스를 상속받았기 때문에 init해줘야한다\n",
        "    self.cfg = cfg\n",
        "    self.latent_dim = cfg.model.latent_dim\n",
        "    self.encoder = tf.keras.Sequential(\n",
        "        [\n",
        "            tf.keras.layers.Conv2D(**cfg.model.enc.conv1),\n",
        "            tf.keras.layers.Conv2D(**cfg.model.enc.conv1),\n",
        "            tf.keras.layers.Flatten(),\n",
        "            tf.keras.layers.Dense(cfg.model.enc.out_fc.units),\n",
        "        ]\n",
        "    )\n",
        "    self.decoder = tf.keras.Sequential(\n",
        "        [\n",
        "            tf.keras.layers.Dense(\n",
        "                units = cfg.model.dec.in_fc.units,\n",
        "                activation = tf.nn.relu\n",
        "            ),\n",
        "            tf.keras.layers.Reshape(\n",
        "                target_shape = tuple(cfg.model.dec.reshape_shape)\n",
        "            ),\n",
        "            tf.keras.layers.Conv2DTranspose(),\n",
        "            tf.keras.layers.Conv2D(**cfg.model.dec.tr_conv1),\n",
        "            tf.keras.layers.Conv2D(**cfg.model.dec.tr_conv2),\n",
        "            tf.keras.layers.Conv2D(**cfg.model.dec.tr_conv3),\n",
        "\n",
        "        ]\n",
        "    )\n",
        "    self.total_loss_tracker = tf.keras.metrics.Mean(name =\"total_loss\")\n",
        "    self.recon_loss_tracker = tf.keras.metrics.Mean(name =\"recon_loss\")\n",
        "    self.kl_loss_tracker = tf.keras.metrics.Mean(name =\"kl_loss\")\n",
        "\n",
        "  @property\n",
        "  def metrics(self):\n",
        "    return [\n",
        "        self.total_loss_tracker,\n",
        "        self.recon_loss_tracker,\n",
        "        self.kl_loss_tracker\n",
        "    ]\n",
        "\n",
        "  @tf.function\n",
        "  def sample(self, epsilon = None, sample_size = 100 ):\n",
        "    if epsilon is None :\n",
        "      eps = tf.random.normal(shape = (sample_size, self.latent_dim))\n",
        "      return self.decode(eps)\n",
        "\n",
        "  def encode(self, x, training= False):\n",
        "    mu, logvar = tf.split(\n",
        "        self.encoder(x, training = training),\n",
        "        num_or_size_splits=2,\n",
        "        axis =1)\n",
        "    return mu, logvar\n",
        "\n",
        "  def reparameterize(self, mu, logvar):\n",
        "    \"\"\"get z\"\"\"\n",
        "    epsilon = tf.random.normal(shape =(sample_size, self.latent_dim))\n",
        "    return mu + epsilon * tf.exp(logvar * .5)\n",
        "\n",
        "  def decode(self, z, training = False):\n",
        "    return tf.sigmoid(self.decoder(z, training =training))\n",
        "\n",
        "  def call(self, input, training = False):\n",
        "    mu, logvar = self.encode(input, training = training)\n",
        "    z = self.reparameterize(mu, logvar)\n",
        "    output = self.decode(self, training = training)\n",
        "    return output , z, mu, logvar\n",
        "\n",
        "  def train_step(self, data):\n",
        "    images, _ = data\n",
        "    #images =[B, 28, 28] -> [B, 28, 28, 1]\n",
        "    images = tf.expand_dims(images, -1).astype(tf.float32)\n",
        "\n",
        "    with tf.GradientTape() as tape :\n",
        "      outputs, z, z_mu, z_logvar = self(images, training = True)\n",
        "\n",
        "      # reconstruction loss\n",
        "      recon_loss = tf.reduce_mean(\n",
        "          tf.reduce_sum( # batch 별로\n",
        "            tf.keras.losses.mae(images, outputs), # image 별로\n",
        "            axis = (1,2)\n",
        "          )\n",
        "      )\n",
        "      # kld_loss\n",
        "      kl_loss = -0.5 * (1 + z_logvar - tf.square(z_mu) - tf.exp(z_logvar))\n",
        "      kl_loss = tf.reduce_mean(tf.reduce_sum(kl_loss, axis = 1))\n",
        "\n",
        "      # total_loss\n",
        "      total_loss = recon_loss + kl_loss\n",
        "\n",
        "      # compute gradients\n",
        "      trainable_vars = self.trainable_variables\n",
        "      gradients = tape.gradient(total_loss, trainable_vars)\n",
        "\n",
        "      # update the metrics\n",
        "      self.total_loss_tracker.update_state(total_loss)\n",
        "      self.recon_loss_tracker.update_state(recon_loss)\n",
        "      self.kl_loss_tracker.update_state(kl_loss)\n",
        "\n",
        "      # tensorboard image update\n",
        "      tf.summary.image(\"train_source_img\", images, max_outputs =5)\n",
        "      tf.summary.image(\"train_recon_img\", outputs, max_outputs =5)\n",
        "\n",
        "      # return a dict mapping metrics names to current values\n",
        "      logs = {m.name : m.result() for m in self.metrics}\n",
        "      return logs\n",
        "\n",
        "  def test_step(self, data):\n",
        "    images, _ = data\n",
        "    #images =[B, 28, 28] -> [B, 28, 28, 1]\n",
        "    images = tf.expand_dims(images, -1).astype(tf.float32)\n",
        "\n",
        "    outputs, z, z_mu, z_logvar = self(images, training = True)\n",
        "\n",
        "    # reconstruction loss\n",
        "    recon_loss = tf.reduce_mean(\n",
        "          tf.reduce_sum( # batch 별로\n",
        "            tf.keras.losses.mae(images, outputs), # image 별로\n",
        "            axis = (1,2)\n",
        "          )\n",
        "    )\n",
        "    # kld_loss\n",
        "    kl_loss = -0.5 * (1 + z_logvar - tf.square(z_mu) - tf.exp(z_logvar))\n",
        "    kl_loss = tf.reduce_mean(tf.reduce_sum(kl_loss, axis = 1))\n",
        "\n",
        "    # total_loss\n",
        "    total_loss = recon_loss + kl_loss\n",
        "\n",
        "    # update the metrics\n",
        "    self.total_loss_tracker.update_state(total_loss)\n",
        "    self.recon_loss_tracker.update_state(recon_loss)\n",
        "    self.kl_loss_tracker.update_state(kl_loss)\n",
        "\n",
        "    # tensorboard image update\n",
        "    tf.summary.image(\"train_source_img\", images, max_outputs =5)\n",
        "    tf.summary.image(\"train_recon_img\", outputs, max_outputs =5)\n",
        "\n",
        "    # return a dict mapping metrics names to current values\n",
        "    logs = {m.name : m.result() for m in self.metrics}\n",
        "    return logs\n",
        "\n"
      ],
      "metadata": {
        "id": "v9rzC9GleyN_"
      },
      "execution_count": 10,
      "outputs": []
    },
    {
      "cell_type": "markdown",
      "source": [
        "## configuration 정의"
      ],
      "metadata": {
        "id": "s-g63l5GdYkk"
      }
    },
    {
      "cell_type": "code",
      "source": [
        "# data configuration\n",
        "data_fashion_mnist_cfg : dict ={\n",
        "    \"n_class_\": 10,\n",
        "    \"train_val_split\" : [0.9,0.1],\n",
        "    \"train_val_shuffle\" : True,\n",
        "    \"train_val_shuffle_buffer_size\" : 1024,\n",
        "    \"test_shuffle\" : False,\n",
        "    \"test_shuffle_buffer_size\" : 1024,\n",
        "\n",
        "}\n",
        "\n",
        "# model configuration\n",
        "\n",
        "model_mnist_vae_cfg : dict ={\n",
        "    'name' : 'VAE',\n",
        "    'data_normalize': True,\n",
        "}\n",
        "\n",
        "\n",
        "# optimizer_configs\n",
        "\n",
        "adam_warmup_lr_sch_opt_cfg  ={\n",
        "    \"optimizer\" :{\n",
        "        \"name\" : \"Adam\",\n",
        "        \"other_kwargs\" :{}, # 빈값이면 기본이 들어감\n",
        "    },\n",
        "    \"lr_scheduler\":{\n",
        "        \"name\" : \"LinearWarmupLRSchedule\",\n",
        "        \"kwargs\" : {\n",
        "            \"lr_peak\" : 1e-3,\n",
        "            \"warmup_end_steps\" : 1500,\n",
        "        }\n",
        "    }\n",
        "}\n",
        "\n",
        "radam_no_lr_sch_opt_cfg  ={ # Radam은 굳이 스케줄러 필요 없음\n",
        "    \"optimizer\" :{\n",
        "        \"name\" : \"RectifiedAdam\",\n",
        "        \"learning_rate\" : 1e-3,\n",
        "        \"other_kwargs\" :{}, # 빈값이면 기본이 들어감\n",
        "    },\n",
        "    \"lr_scheduler\": None\n",
        "}\n",
        "\n",
        "# train configs\n",
        "\n",
        "train_cfg : dict ={\n",
        "    \"train_batch_size\" : 128,\n",
        "    \"val_batch_size\" : 32,\n",
        "    \"test_batch_size\" : 32,\n",
        "    \"max_epochs\" : 50,\n",
        "    \"distribute_strategy\" : \"MirroredStrategy\",\n",
        "}\n",
        "\n",
        "_merged_cfg_presets ={\n",
        "    \"vae_fashion_mnist_radam\" :{\n",
        "        \"data\" : data_fashion_mnist_cfg,\n",
        "        \"model\" : model_mnist_vae_cfg,\n",
        "        \"opt\" : radam_no_lr_sch_opt_cfg,\n",
        "        \"train\" : train_cfg,\n",
        "\n",
        "    },\n",
        "}\n",
        "\n",
        "### hydra composition ###\n",
        "# clear hydra instance.\n",
        "hydra.core.global_hydra.GlobalHydra.instance().clear()\n",
        "\n",
        "# resister preset cfgs\n",
        "register_config(_merged_cfg_presets)\n",
        "\n",
        "# initializing\n",
        "hydra.initialize(config_path =None)\n",
        "\n",
        "using_config_key = \"vae_fashion_mnist_radam\"\n",
        "cfg = hydra.compose(using_config_key)\n",
        "\n",
        "# define & override log_cfg\n",
        "model_name = cfg.model.name\n",
        "run_dirname ='fastcampus_generative_model_tutorials_tf'\n",
        "run_name = f'{datetime.now().isoformat(timespec=\"seconds\")} -{using_config_key}-{model_name}'\n",
        "log_dir = os.path.join(drive_project_root, 'runs', run_dirname, run_name)\n",
        "\n",
        "\n",
        "\n",
        "\n",
        "log_cfg ={\n",
        "    \"run_name\" : run_name,\n",
        "    \"callbacks\" : {\n",
        "        \"TensorBoard\" :{\n",
        "          \"log_dir\" :log_dir,\n",
        "          \"update_freq\" :1,\n",
        "        },\n",
        "        \"EarlyStopping\" : {\n",
        "          \"patience\" : 3,\n",
        "          \"verbose\" : True,\n",
        "        },\n",
        "    },\n",
        "    \"wandb\" : {\n",
        "        \"project\" : \"fastcampus_generative_model_tutorials_tf\",\n",
        "        \"name\" : run_name,\n",
        "        \"tags\" : [\"fastcampus_generative_model_tutorials_tf\"],\n",
        "        \"reinit\" : True,\n",
        "        \"sync_tensorboard\" : True\n",
        "        }\n",
        "\n",
        "}\n",
        "\n",
        "# unlock struct of config & set log config\n",
        "OmegaConf.set_struct(cfg, False)\n",
        "cfg.log =log_cfg\n",
        "\n",
        "# relock config\n",
        "OmegaConf.set_struct(cfg, True)\n",
        "print(OmegaConf.to_yaml(cfg))\n",
        "\n",
        "# save yaml\n",
        "# with open(os.path.join(log_dir, \"config.yaml\")) as f :\n",
        "with  open(\"config.yaml\", \"w\") as f :\n",
        "  OmegaConf.save(cfg, f)"
      ],
      "metadata": {
        "colab": {
          "base_uri": "https://localhost:8080/"
        },
        "id": "etsUYWWfdXUa",
        "outputId": "245f8386-8151-4a3f-a173-5dc416ec2a0f"
      },
      "execution_count": 9,
      "outputs": [
        {
          "output_type": "stream",
          "name": "stdout",
          "text": [
            "data:\n",
            "  n_class_: 10\n",
            "  train_val_split:\n",
            "  - 0.9\n",
            "  - 0.1\n",
            "  train_val_shuffle: true\n",
            "  train_val_shuffle_buffer_size: 1024\n",
            "  test_shuffle: false\n",
            "  test_shuffle_buffer_size: 1024\n",
            "model:\n",
            "  name: VAE\n",
            "  data_normalize: true\n",
            "opt:\n",
            "  optimizer:\n",
            "    name: RectifiedAdam\n",
            "    learning_rate: 0.001\n",
            "    other_kwargs: {}\n",
            "  lr_scheduler: null\n",
            "train:\n",
            "  train_batch_size: 128\n",
            "  val_batch_size: 32\n",
            "  test_batch_size: 32\n",
            "  max_epochs: 50\n",
            "  distribute_strategy: MirroredStrategy\n",
            "log:\n",
            "  run_name: 2023-08-14T07:27:38 -vae_fashion_mnist_radam-VAE\n",
            "  callbacks:\n",
            "    TensorBoard:\n",
            "      log_dir: /content/drive/MyDrive/#fastcampus/runs/fastcampus_generative_model_tutorials_tf/2023-08-14T07:27:38\n",
            "        -vae_fashion_mnist_radam-VAE\n",
            "      update_freq: 1\n",
            "    EarlyStopping:\n",
            "      patience: 3\n",
            "      verbose: true\n",
            "  wandb:\n",
            "    project: fastcampus_generative_model_tutorials_tf\n",
            "    name: 2023-08-14T07:27:38 -vae_fashion_mnist_radam-VAE\n",
            "    tags:\n",
            "    - fastcampus_generative_model_tutorials_tf\n",
            "    reinit: true\n",
            "    sync_tensorboard: true\n",
            "\n"
          ]
        }
      ]
    },
    {
      "cell_type": "code",
      "source": [
        "def get_distribute_strategy(strategy_name : str, **kwargs):\n",
        "  return getattr(tf.distribute, strategy_name)(**kwargs)\n",
        "\n",
        "distribute_strategy = get_distribute_strategy(cfg.train.distribute_strategy)"
      ],
      "metadata": {
        "colab": {
          "base_uri": "https://localhost:8080/"
        },
        "id": "yXcInY6kxYL5",
        "outputId": "ede9dd6f-fe3b-41e8-9cf1-ddc1aaff988d"
      },
      "execution_count": null,
      "outputs": [
        {
          "output_type": "execute_result",
          "data": {
            "text/plain": [
              "<tensorflow.python.distribute.mirrored_strategy.MirroredStrategy at 0x7fe42506a110>"
            ]
          },
          "metadata": {},
          "execution_count": 29
        }
      ]
    },
    {
      "cell_type": "code",
      "source": [
        "with distribute_strategy.scope():\n",
        "  # 데이터셋 정의\n",
        "  fashion_mnist = tf.keras.datasets.fashion_mnist\n",
        "  (x_train, y_train), (x_test, y_test) = fashion_mnist.load_data()\n",
        "\n",
        "  # normalization\n",
        "  if cfg.model.data_normalize:\n",
        "      x_train =x_train/255.0\n",
        "      x_test = x_test/255.0\n",
        "\n",
        "  # train/val splits\n",
        "  assert sum(cfg.data.train_val_split) ==1.0\n",
        "  train_size = int(len(x_train)*cfg.data.train_val_split[0])\n",
        "  val_size = len(x_train) -train_size\n",
        "\n",
        "  dataset = tf.data.Dataset.from_tensor_slices((x_train, y_train))\n",
        "\n",
        "  test_dataset = tf.data.Dataset.from_tensor_slices((x_test, y_test))\n",
        "  if cfg.data.train_val_shuffle :\n",
        "    dataset = dataset.shuffle(\n",
        "        buffer_size = cfg.data.train_val_shuffle_buffer_size,\n",
        "        )\n",
        "  if cfg.data.test_shuffle :\n",
        "    test_dataset = test_dataset.shuffle(\n",
        "        buffer_size= cfg.data.test_shuffle_buffer_size,\n",
        "    )\n",
        "\n",
        "\n",
        "  train_dataset = dataset.take(train_size)\n",
        "  val_dataset = dataset.skip(train_size)\n",
        "  print(len(train_dataset), len(val_dataset), len(dataset), len(test_dataset))\n",
        "\n",
        "  # dataloader 정의\n",
        "  train_batch_size = cfg.train.train_batch_size\n",
        "  val_batch_size = cfg.train.val_batch_size\n",
        "  test_batch_size = cfg.train.test_batch_size\n",
        "\n",
        "  train_dataloader = train_dataset.batch(train_batch_size, drop_remainder=True)\n",
        "  val_dataloader = val_dataset.batch(val_batch_size, drop_remainder=True)\n",
        "  test_dataloader = test_dataset.batch(test_batch_size, drop_remainder=True)\n",
        "\n",
        "sample_example = next(iter(train_dataloader))\n",
        "print(sample_example)"
      ],
      "metadata": {
        "colab": {
          "base_uri": "https://localhost:8080/"
        },
        "id": "zEsQoSyaC_Th",
        "outputId": "d11b3563-4e11-4fd3-879e-a6590b516e5d"
      },
      "execution_count": null,
      "outputs": [
        {
          "output_type": "stream",
          "name": "stdout",
          "text": [
            "Downloading data from https://storage.googleapis.com/tensorflow/tf-keras-datasets/train-labels-idx1-ubyte.gz\n",
            "29515/29515 [==============================] - 0s 0us/step\n",
            "Downloading data from https://storage.googleapis.com/tensorflow/tf-keras-datasets/train-images-idx3-ubyte.gz\n",
            "26421880/26421880 [==============================] - 1s 0us/step\n",
            "Downloading data from https://storage.googleapis.com/tensorflow/tf-keras-datasets/t10k-labels-idx1-ubyte.gz\n",
            "5148/5148 [==============================] - 0s 0us/step\n",
            "Downloading data from https://storage.googleapis.com/tensorflow/tf-keras-datasets/t10k-images-idx3-ubyte.gz\n",
            "4422102/4422102 [==============================] - 1s 0us/step\n",
            "54000 6000 60000 10000\n",
            "(<tf.Tensor: shape=(128, 28, 28), dtype=float64, numpy=\n",
            "array([[[0.        , 0.        , 0.        , ..., 0.        ,\n",
            "         0.        , 0.        ],\n",
            "        [0.        , 0.        , 0.00392157, ..., 0.        ,\n",
            "         0.        , 0.        ],\n",
            "        [0.        , 0.00392157, 0.        , ..., 0.        ,\n",
            "         0.        , 0.        ],\n",
            "        ...,\n",
            "        [0.        , 0.62745098, 0.85098039, ..., 0.8       ,\n",
            "         0.48627451, 0.        ],\n",
            "        [0.        , 0.62352941, 0.96078431, ..., 0.87058824,\n",
            "         0.58431373, 0.        ],\n",
            "        [0.        , 0.14509804, 0.49019608, ..., 0.36470588,\n",
            "         0.07843137, 0.        ]],\n",
            "\n",
            "       [[0.        , 0.        , 0.        , ..., 0.        ,\n",
            "         0.        , 0.        ],\n",
            "        [0.        , 0.        , 0.        , ..., 0.        ,\n",
            "         0.        , 0.        ],\n",
            "        [0.        , 0.        , 0.        , ..., 0.        ,\n",
            "         0.        , 0.        ],\n",
            "        ...,\n",
            "        [0.        , 0.        , 0.        , ..., 0.        ,\n",
            "         0.        , 0.        ],\n",
            "        [0.        , 0.        , 0.        , ..., 0.        ,\n",
            "         0.        , 0.        ],\n",
            "        [0.        , 0.        , 0.        , ..., 0.        ,\n",
            "         0.        , 0.        ]],\n",
            "\n",
            "       [[0.        , 0.        , 0.        , ..., 0.        ,\n",
            "         0.        , 0.        ],\n",
            "        [0.        , 0.        , 0.        , ..., 0.        ,\n",
            "         0.        , 0.        ],\n",
            "        [0.        , 0.        , 0.        , ..., 0.        ,\n",
            "         0.        , 0.        ],\n",
            "        ...,\n",
            "        [0.        , 0.        , 0.        , ..., 0.        ,\n",
            "         0.        , 0.        ],\n",
            "        [0.        , 0.        , 0.        , ..., 0.        ,\n",
            "         0.        , 0.        ],\n",
            "        [0.        , 0.        , 0.        , ..., 0.        ,\n",
            "         0.        , 0.        ]],\n",
            "\n",
            "       ...,\n",
            "\n",
            "       [[0.        , 0.        , 0.        , ..., 0.        ,\n",
            "         0.        , 0.        ],\n",
            "        [0.        , 0.        , 0.        , ..., 0.        ,\n",
            "         0.        , 0.        ],\n",
            "        [0.        , 0.        , 0.        , ..., 0.        ,\n",
            "         0.        , 0.        ],\n",
            "        ...,\n",
            "        [0.        , 0.        , 0.        , ..., 0.        ,\n",
            "         0.        , 0.        ],\n",
            "        [0.        , 0.        , 0.        , ..., 0.        ,\n",
            "         0.        , 0.        ],\n",
            "        [0.        , 0.        , 0.        , ..., 0.        ,\n",
            "         0.        , 0.        ]],\n",
            "\n",
            "       [[0.        , 0.        , 0.        , ..., 0.        ,\n",
            "         0.        , 0.        ],\n",
            "        [0.        , 0.        , 0.        , ..., 0.        ,\n",
            "         0.        , 0.        ],\n",
            "        [0.        , 0.        , 0.        , ..., 0.        ,\n",
            "         0.        , 0.        ],\n",
            "        ...,\n",
            "        [0.        , 0.        , 0.        , ..., 0.        ,\n",
            "         0.        , 0.        ],\n",
            "        [0.        , 0.        , 0.        , ..., 0.        ,\n",
            "         0.        , 0.        ],\n",
            "        [0.        , 0.        , 0.        , ..., 0.        ,\n",
            "         0.        , 0.        ]],\n",
            "\n",
            "       [[0.        , 0.        , 0.        , ..., 0.        ,\n",
            "         0.        , 0.        ],\n",
            "        [0.        , 0.        , 0.        , ..., 0.        ,\n",
            "         0.        , 0.        ],\n",
            "        [0.        , 0.        , 0.        , ..., 0.        ,\n",
            "         0.        , 0.        ],\n",
            "        ...,\n",
            "        [0.        , 0.        , 0.        , ..., 0.        ,\n",
            "         0.        , 0.        ],\n",
            "        [0.        , 0.        , 0.        , ..., 0.        ,\n",
            "         0.        , 0.        ],\n",
            "        [0.        , 0.        , 0.        , ..., 0.        ,\n",
            "         0.        , 0.        ]]])>, <tf.Tensor: shape=(128,), dtype=uint8, numpy=\n",
            "array([2, 0, 4, 1, 5, 0, 5, 7, 8, 1, 7, 2, 8, 3, 5, 9, 0, 6, 8, 6, 8, 5,\n",
            "       6, 1, 3, 7, 2, 9, 0, 8, 6, 0, 4, 0, 9, 6, 0, 0, 1, 2, 0, 5, 1, 9,\n",
            "       7, 0, 9, 7, 1, 7, 5, 6, 9, 3, 8, 4, 9, 4, 8, 8, 2, 6, 8, 2, 7, 4,\n",
            "       3, 5, 5, 6, 1, 6, 3, 7, 4, 9, 5, 8, 1, 5, 2, 2, 4, 4, 8, 9, 6, 7,\n",
            "       0, 1, 2, 7, 4, 6, 9, 4, 4, 8, 7, 0, 2, 4, 2, 6, 1, 7, 8, 9, 1, 4,\n",
            "       1, 7, 1, 4, 5, 4, 3, 8, 1, 6, 9, 6, 7, 9, 1, 7, 3, 1], dtype=uint8)>)\n"
          ]
        }
      ]
    },
    {
      "cell_type": "code",
      "source": [
        "# 모델정의\n",
        "def get_model(cfg : DictConfig):\n",
        "  if cfg.model.name ==\"VAE\":\n",
        "    model = VAE(cfg.model)\n",
        "\n",
        "  else:\n",
        "    raise NotImplementedError()\n",
        "  return model\n",
        "\n",
        "\n",
        "\n",
        "with distribute_strategy.scope():\n",
        "     model = get_model(cfg)\n",
        "\n",
        "    #define loss\n",
        "     loss_function = tf.losses.SparseCategoricalCrossentropy() # from_logits = False면 prob으로 리턴, True면 softmax없이 logit값 써도 된다.\n",
        "\n",
        "    #define optimizer & scheduler\n",
        "     optimizer, scheduler = get_optimizer_element(\n",
        "        cfg.opt.optimizer, cfg.opt.lr_scheduler\n",
        "        )\n",
        "\n",
        "     model.compile(\n",
        "        loss = loss_function,\n",
        "        optimizer = optimizer,\n",
        "        metrics = [tf.keras.metrics.Accuracy()],\n",
        "     )\n",
        "\n",
        "     model.build((1, 28,28)) #디버깅할떄 좋음\n",
        "\n",
        "model.summary()\n",
        "# model.fit(train_dataloader, test_dataloader, call)"
      ],
      "metadata": {
        "id": "x_fG-SbH48Fv",
        "colab": {
          "base_uri": "https://localhost:8080/"
        },
        "outputId": "62b92111-b929-4ecb-b334-3e9d8c7c49df"
      },
      "execution_count": null,
      "outputs": [
        {
          "output_type": "stream",
          "name": "stdout",
          "text": [
            "Model: \"cnn\"\n",
            "_________________________________________________________________\n",
            " Layer (type)                Output Shape              Param #   \n",
            "=================================================================\n",
            " conv_batch_norm_max_pool (C  multiple                 448       \n",
            " onvBatchNormMaxPool)                                            \n",
            "                                                                 \n",
            " conv_batch_norm_max_pool_1   multiple                 18752     \n",
            " (ConvBatchNormMaxPool)                                          \n",
            "                                                                 \n",
            " flatten (Flatten)           multiple                  0         \n",
            "                                                                 \n",
            " dense (Dense)               multiple                  3965440   \n",
            "                                                                 \n",
            " dense_1 (Dense)             multiple                  65664     \n",
            "                                                                 \n",
            " dense_2 (Dense)             multiple                  1290      \n",
            "                                                                 \n",
            " dropout (Dropout)           multiple                  0         \n",
            "                                                                 \n",
            "=================================================================\n",
            "Total params: 4,051,594\n",
            "Trainable params: 4,051,402\n",
            "Non-trainable params: 192\n",
            "_________________________________________________________________\n"
          ]
        }
      ]
    },
    {
      "cell_type": "code",
      "source": [
        "flatten_dict(cfg)"
      ],
      "metadata": {
        "colab": {
          "base_uri": "https://localhost:8080/"
        },
        "id": "APEiOc6Y3I-x",
        "outputId": "15e11ddb-36be-4759-ec33-d6c7aef3513c"
      },
      "execution_count": null,
      "outputs": [
        {
          "output_type": "execute_result",
          "data": {
            "text/plain": [
              "{'data_n_class_': 10,\n",
              " 'data_train_val_split': [0.9, 0.1],\n",
              " 'data_train_val_shuffle': True,\n",
              " 'data_train_val_shuffle_buffer_size': 1024,\n",
              " 'data_test_shuffle': False,\n",
              " 'data_test_shuffle_buffer_size': 1024,\n",
              " 'model_name': 'CNN',\n",
              " 'model_data_normalize': True,\n",
              " 'model_layer_1_conv2d_filters': 32,\n",
              " 'model_layer_1_conv2d_kernel_size': [3, 3],\n",
              " 'model_layer_1_conv2d_strides': [1, 1],\n",
              " 'model_layer_1_conv2d_padding': 'same',\n",
              " 'model_layer_1_maxpool2d_pool_size': [2, 2],\n",
              " 'model_layer_1_maxpool2d_strids': [2, 2],\n",
              " 'model_layer_1_maxpool2d_padding': 'valid',\n",
              " 'model_layer_2_conv2d_filters': 64,\n",
              " 'model_layer_2_conv2d_kernel_size': [3, 3],\n",
              " 'model_layer_2_conv2d_strides': [1, 1],\n",
              " 'model_layer_2_conv2d_padding': 'valid',\n",
              " 'model_layer_2_maxpool2d_pool_size': [2, 2],\n",
              " 'model_layer_2_maxpool2d_strids': [1, 1],\n",
              " 'model_layer_2_maxpool2d_padding': 'valid',\n",
              " 'model_fc_1_units': 512,\n",
              " 'model_fc_2_units': 128,\n",
              " 'model_fc_3_units': 10,\n",
              " 'model_dropout_prob': 0.25,\n",
              " 'opt_optimizer_name': 'RectifiedAdam',\n",
              " 'opt_optimizer_learning_rate': 0.001,\n",
              " 'opt_lr_scheduler': None,\n",
              " 'train_train_batch_size': 128,\n",
              " 'train_val_batch_size': 32,\n",
              " 'train_test_batch_size': 32,\n",
              " 'train_max_epochs': 50,\n",
              " 'train_distribute_strategy': 'MirroredStrategy',\n",
              " 'log_run_name': '2023-07-09T13:21:06 -cnn_fashion_mnist_radam-CNN',\n",
              " 'log_callbacks_TensorBoard_log_dir': '/content/drive/MyDrive/#fastcampus/runs/dnn-tutorial-fashion-mnist-runs-tf/2023-07-09T13:21:06 -cnn_fashion_mnist_radam-CNN',\n",
              " 'log_callbacks_TensorBoard_update_freq': 1,\n",
              " 'log_callbacks_EarlyStopping_patience': 3,\n",
              " 'log_callbacks_EarlyStopping_verbose': True,\n",
              " 'log_wandb_project': 'fastcampus_fashion_mnist_tutorials_tf',\n",
              " 'log_wandb_name': '2023-07-09T13:21:06 -cnn_fashion_mnist_radam-CNN',\n",
              " 'log_wandb_tags': ['fastcampus_fashion_mnist_tutorials_tf'],\n",
              " 'log_wandb_reinit': True,\n",
              " 'log_wandb_sync_tensorboard': True}"
            ]
          },
          "metadata": {},
          "execution_count": 33
        }
      ]
    },
    {
      "cell_type": "code",
      "source": [
        "# get callbacks\n",
        "callbacks = get_callbacks(cfg.log)\n",
        "\n",
        "# wandb setup\n",
        "wandb.init(\n",
        "    config = flatten_dict(cfg),\n",
        "    **cfg.log.wandb\n",
        ")"
      ],
      "metadata": {
        "id": "vmswTHG1lIEJ",
        "colab": {
          "base_uri": "https://localhost:8080/",
          "height": 247
        },
        "outputId": "acaa1e9d-b807-41a5-b1e8-cd25f0231c28"
      },
      "execution_count": null,
      "outputs": [
        {
          "output_type": "display_data",
          "data": {
            "text/plain": [
              "<IPython.core.display.HTML object>"
            ],
            "text/html": [
              "Finishing last run (ID:kc82i17f) before initializing another..."
            ]
          },
          "metadata": {}
        },
        {
          "output_type": "display_data",
          "data": {
            "text/plain": [
              "<IPython.core.display.HTML object>"
            ],
            "text/html": [
              "Waiting for W&B process to finish... <strong style=\"color:green\">(success).</strong>"
            ]
          },
          "metadata": {}
        },
        {
          "output_type": "display_data",
          "data": {
            "text/plain": [
              "<IPython.core.display.HTML object>"
            ],
            "text/html": [
              " View run <strong style=\"color:#cdcd00\">2023-07-09T13:21:06 -cnn_fashion_mnist_radam-CNN</strong> at: <a href='https://wandb.ai/hyejun12123/fastcampus_fashion_mnist_tutorials_tf/runs/kc82i17f' target=\"_blank\">https://wandb.ai/hyejun12123/fastcampus_fashion_mnist_tutorials_tf/runs/kc82i17f</a><br/>Synced 4 W&B file(s), 0 media file(s), 0 artifact file(s) and 0 other file(s)"
            ]
          },
          "metadata": {}
        },
        {
          "output_type": "display_data",
          "data": {
            "text/plain": [
              "<IPython.core.display.HTML object>"
            ],
            "text/html": [
              "Find logs at: <code>./wandb/run-20230709_133610-kc82i17f/logs</code>"
            ]
          },
          "metadata": {}
        },
        {
          "output_type": "display_data",
          "data": {
            "text/plain": [
              "<IPython.core.display.HTML object>"
            ],
            "text/html": [
              "Successfully finished last run (ID:kc82i17f). Initializing new run:<br/>"
            ]
          },
          "metadata": {}
        },
        {
          "output_type": "display_data",
          "data": {
            "text/plain": [
              "<IPython.core.display.HTML object>"
            ],
            "text/html": [
              "Tracking run with wandb version 0.15.5"
            ]
          },
          "metadata": {}
        },
        {
          "output_type": "display_data",
          "data": {
            "text/plain": [
              "<IPython.core.display.HTML object>"
            ],
            "text/html": [
              "Run data is saved locally in <code>/content/drive/MyDrive/#fastcampus/wandb/run-20230709_133706-ekq7215f</code>"
            ]
          },
          "metadata": {}
        },
        {
          "output_type": "display_data",
          "data": {
            "text/plain": [
              "<IPython.core.display.HTML object>"
            ],
            "text/html": [
              "Syncing run <strong><a href='https://wandb.ai/hyejun12123/fastcampus_fashion_mnist_tutorials_tf/runs/ekq7215f' target=\"_blank\">2023-07-09T13:21:06 -cnn_fashion_mnist_radam-CNN</a></strong> to <a href='https://wandb.ai/hyejun12123/fastcampus_fashion_mnist_tutorials_tf' target=\"_blank\">Weights & Biases</a> (<a href='https://wandb.me/run' target=\"_blank\">docs</a>)<br/>"
            ]
          },
          "metadata": {}
        },
        {
          "output_type": "display_data",
          "data": {
            "text/plain": [
              "<IPython.core.display.HTML object>"
            ],
            "text/html": [
              " View project at <a href='https://wandb.ai/hyejun12123/fastcampus_fashion_mnist_tutorials_tf' target=\"_blank\">https://wandb.ai/hyejun12123/fastcampus_fashion_mnist_tutorials_tf</a>"
            ]
          },
          "metadata": {}
        },
        {
          "output_type": "display_data",
          "data": {
            "text/plain": [
              "<IPython.core.display.HTML object>"
            ],
            "text/html": [
              " View run at <a href='https://wandb.ai/hyejun12123/fastcampus_fashion_mnist_tutorials_tf/runs/ekq7215f' target=\"_blank\">https://wandb.ai/hyejun12123/fastcampus_fashion_mnist_tutorials_tf/runs/ekq7215f</a>"
            ]
          },
          "metadata": {}
        },
        {
          "output_type": "execute_result",
          "data": {
            "text/html": [
              "<button onClick=\"this.nextSibling.style.display='block';this.style.display='none';\">Display W&B run</button><iframe src='https://wandb.ai/hyejun12123/fastcampus_fashion_mnist_tutorials_tf/runs/ekq7215f?jupyter=true' style='border:none;width:100%;height:420px;display:none;'></iframe>"
            ],
            "text/plain": [
              "<wandb.sdk.wandb_run.Run at 0x7fe3b54dfaf0>"
            ]
          },
          "metadata": {},
          "execution_count": 35
        }
      ]
    },
    {
      "cell_type": "code",
      "source": [
        "%load_ext tensorboard\n",
        "%tensorboard --logdir /content/drive/MyDrive/\\#fastcampus/runs/\n",
        "model.fit(\n",
        "    train_dataloader,\n",
        "    validation_data = val_dataloader,\n",
        "    epochs = cfg.train.max_epochs,\n",
        "    callbacks =callbacks,\n",
        ")\n"
      ],
      "metadata": {
        "colab": {
          "base_uri": "https://localhost:8080/",
          "height": 35
        },
        "id": "GqtkrBBwrE_9",
        "outputId": "53dbe873-3ce2-4661-f600-39db55ed9391"
      },
      "execution_count": null,
      "outputs": [
        {
          "output_type": "display_data",
          "data": {
            "text/plain": [
              "Launching TensorBoard..."
            ]
          },
          "metadata": {}
        }
      ]
    },
    {
      "cell_type": "markdown",
      "source": [
        "## Model testing"
      ],
      "metadata": {
        "id": "Q5evIgyt0f2k"
      }
    },
    {
      "cell_type": "code",
      "source": [
        "model.evaluate(test_dataloader)"
      ],
      "metadata": {
        "colab": {
          "base_uri": "https://localhost:8080/"
        },
        "id": "rpZZgzrd0bqY",
        "outputId": "a512b564-6dfa-4fbf-fc62-b4d54314ef5f"
      },
      "execution_count": null,
      "outputs": [
        {
          "output_type": "stream",
          "name": "stdout",
          "text": [
            "100/100 [==============================] - 1s 5ms/step - loss: 0.3435 - accuracy: 0.8992\n"
          ]
        },
        {
          "output_type": "execute_result",
          "data": {
            "text/plain": [
              "[0.34348130226135254, 0.8992000222206116]"
            ]
          },
          "metadata": {},
          "execution_count": 34
        }
      ]
    },
    {
      "cell_type": "code",
      "source": [
        "test_labels_list =[]\n",
        "test_preds_list =[]\n",
        "test_outputs_list =[]\n",
        "\n",
        "for i, (test_images, test_labels) in enumerate(tqdm(test_dataloader, position =0, leave =True, desc='testing')):\n",
        "  with mirrored_strategy.scope():\n",
        "    test_outputs = model(test_images)\n",
        "  test_preds = tf.argmax(test_outputs, 1)\n",
        "\n",
        "  final_outs = test_outputs.numpy()\n",
        "  test_outputs_list.extend(final_outs)\n",
        "  test_preds_list.extend(test_preds.numpy())\n",
        "  test_labels_list.extend(test_labels.numpy())\n",
        "\n",
        "test_preds_list =np.array(test_preds_list)\n",
        "test_labels_list = np.array(test_labels_list)\n",
        "\n",
        "test_accuracy =np.mean(test_preds_list == test_labels_list)\n",
        "print(f'\\nacc: {test_accuracy*100}%')"
      ],
      "metadata": {
        "colab": {
          "base_uri": "https://localhost:8080/"
        },
        "id": "LCLRmpER02nL",
        "outputId": "c5871470-3a64-48a8-b3ad-0ea1ca1b1fe6"
      },
      "execution_count": null,
      "outputs": [
        {
          "output_type": "stream",
          "name": "stderr",
          "text": [
            "testing: 100%|██████████| 100/100 [00:01<00:00, 54.22it/s]"
          ]
        },
        {
          "output_type": "stream",
          "name": "stdout",
          "text": [
            "\n",
            "acc: 89.92%\n"
          ]
        },
        {
          "output_type": "stream",
          "name": "stderr",
          "text": [
            "\n"
          ]
        }
      ]
    },
    {
      "cell_type": "code",
      "source": [
        "# ROC Curve\n",
        "from sklearn.metrics import roc_curve\n",
        "from sklearn.metrics import roc_auc_score\n",
        "\n",
        "fpr ={}\n",
        "tpr ={}\n",
        "thresh = {}\n",
        "n_class =10\n",
        "\n",
        "for i in range(n_class):\n",
        "  fpr[i], tpr[i], thresh[i] =roc_curve(test_labels_list, np.array(test_outputs_list)[:,i], pos_label =i) #class별로 따로따로\n",
        "\n",
        "#plot\n",
        "for i in range(n_class):\n",
        "  plt.plot(fpr[i], tpr[i], linestyle ='--', label=f'Class {i} vs Rest')\n",
        "plt.title('Multi-class ROC Curve')\n",
        "plt.xlabel('False Positive Rate')\n",
        "plt.ylabel('True Positive Rare')\n",
        "plt.legend(loc ='best')\n",
        "plt.show()\n",
        "\n",
        "auc_score = roc_auc_score(test_labels_list, test_outputs_list, multi_class ='ovo', average ='macro')\n",
        "print(f'auc_score : {auc_score}')"
      ],
      "metadata": {
        "colab": {
          "base_uri": "https://localhost:8080/",
          "height": 490
        },
        "id": "6ctg92qx_ReR",
        "outputId": "163e57b0-1027-4313-8d2a-e902e9315460"
      },
      "execution_count": null,
      "outputs": [
        {
          "output_type": "display_data",
          "data": {
            "text/plain": [
              "<Figure size 640x480 with 1 Axes>"
            ],
            "image/png": "[encoded data removed]"
          },
          "metadata": {}
        },
        {
          "output_type": "stream",
          "name": "stdout",
          "text": [
            "auc_score : 0.9931041944444445\n"
          ]
        }
      ]
    },
    {
      "cell_type": "code",
      "source": [],
      "metadata": {
        "id": "vELvwLeaFyie"
      },
      "execution_count": null,
      "outputs": []
    }
  ]
}