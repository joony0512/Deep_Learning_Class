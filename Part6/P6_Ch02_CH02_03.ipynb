{
  "nbformat": 4,
  "nbformat_minor": 0,
  "metadata": {
    "colab": {
      "provenance": [],
      "mount_file_id": "1W7haIL_-AOj8D3K-J6Eh9i_nxGvk-Y1i",
      "authorship_tag": "ABX9TyNKRqKqeIw9mbZ7pRmH0dW5",
      "include_colab_link": true
    },
    "kernelspec": {
      "name": "python3",
      "display_name": "Python 3"
    },
    "language_info": {
      "name": "python"
    }
  },
  "cells": [
    {
      "cell_type": "markdown",
      "metadata": {
        "id": "view-in-github",
        "colab_type": "text"
      },
      "source": [
        "<a href=\"https://colab.research.google.com/github/joony0512/Deep_Learning_Class/blob/main/Part6/P6_Ch02_CH02_03.ipynb\" target=\"_parent\"><img src=\"https://colab.research.google.com/assets/colab-badge.svg\" alt=\"Open In Colab\"/></a>"
      ]
    },
    {
      "cell_type": "markdown",
      "source": [
        "# Data preparation - CNN approach\n",
        "\n"
      ],
      "metadata": {
        "id": "pawLJQkM1J9L"
      }
    },
    {
      "cell_type": "code",
      "execution_count": 22,
      "metadata": {
        "id": "B0kXNdvb0j3c"
      },
      "outputs": [],
      "source": [
        "import cv2\n",
        "import os\n",
        "import random\n",
        "import numpy as np\n",
        "import pandas as pd\n",
        "from glob import glob"
      ]
    },
    {
      "cell_type": "code",
      "source": [
        "label_dirs = glob('/content/drive/MyDrive/딥러닝 정주행/UCF11_updated_mpg/*')\n",
        "label_dirs"
      ],
      "metadata": {
        "colab": {
          "base_uri": "https://localhost:8080/"
        },
        "id": "QZpFezCy1WtC",
        "outputId": "721a1012-f390-48ec-b0c0-84bacdaf074d"
      },
      "execution_count": 3,
      "outputs": [
        {
          "output_type": "execute_result",
          "data": {
            "text/plain": [
              "['/content/drive/MyDrive/딥러닝 정주행/UCF11_updated_mpg/soccer_juggling',\n",
              " '/content/drive/MyDrive/딥러닝 정주행/UCF11_updated_mpg/golf_swing',\n",
              " '/content/drive/MyDrive/딥러닝 정주행/UCF11_updated_mpg/swing',\n",
              " '/content/drive/MyDrive/딥러닝 정주행/UCF11_updated_mpg/trampoline_jumping',\n",
              " '/content/drive/MyDrive/딥러닝 정주행/UCF11_updated_mpg/walking',\n",
              " '/content/drive/MyDrive/딥러닝 정주행/UCF11_updated_mpg/diving',\n",
              " '/content/drive/MyDrive/딥러닝 정주행/UCF11_updated_mpg/biking',\n",
              " '/content/drive/MyDrive/딥러닝 정주행/UCF11_updated_mpg/tennis_swing',\n",
              " '/content/drive/MyDrive/딥러닝 정주행/UCF11_updated_mpg/basketball',\n",
              " '/content/drive/MyDrive/딥러닝 정주행/UCF11_updated_mpg/horse_riding',\n",
              " '/content/drive/MyDrive/딥러닝 정주행/UCF11_updated_mpg/volleyball_spiking']"
            ]
          },
          "metadata": {},
          "execution_count": 3
        }
      ]
    },
    {
      "cell_type": "code",
      "source": [
        "# 11개의 클래스\n",
        "## 클래스당 25개의 영상그룹\n",
        "## 1- 20 : 학습그룹\n",
        "## 20- 25 : 테스트그룹\n",
        "\n",
        "train_df = pd.DataFrame(\n",
        "    columns = ['file_path', 'label']\n",
        ")\n",
        "\n",
        "valid_df = pd.DataFrame(\n",
        "    columns = ['file_path', 'label']\n",
        ")\n",
        "label_dirs= glob('/content/drive/MyDrive/딥러닝 정주행/UCF11_updated_mpg/*')\n",
        "\n",
        "for label_dir in label_dirs :\n",
        "    file_dirs = glob( label_dir + '/v_*' )\n",
        "    random.shuffle(file_dir)\n",
        "\n",
        "    for i in range(20) :\n",
        "        train_dir = file_dirs[i]\n",
        "        label = train_dir.split('/')[-1].split('_')[1]\n",
        "\n",
        "        file_path = random.choice(\n",
        "            glob(train_dir + '/*')\n",
        "        )\n",
        "        train_df.loc[len(train_df)] = [file_path, label]\n",
        "\n",
        "    for i in range(20,25):\n",
        "        valid_dir = file_dirs[i]\n",
        "        label = valid_dir.split('/')[-1].split('_')[1]\n",
        "\n",
        "        file_path = random.choice(\n",
        "            glob(valid_dir + '/*')\n",
        "        )\n",
        "        valid_df.loc[len(valid_df)] = [file_path, label]\n"
      ],
      "metadata": {
        "id": "3N5YAElZ2Ga1"
      },
      "execution_count": 14,
      "outputs": []
    },
    {
      "cell_type": "code",
      "source": [
        "len(train_df)"
      ],
      "metadata": {
        "colab": {
          "base_uri": "https://localhost:8080/"
        },
        "id": "ND8i0Z9K23ai",
        "outputId": "9e1d26e5-99e1-4463-c527-f74c2e5abc91"
      },
      "execution_count": 18,
      "outputs": [
        {
          "output_type": "execute_result",
          "data": {
            "text/plain": [
              "220"
            ]
          },
          "metadata": {},
          "execution_count": 18
        }
      ]
    },
    {
      "cell_type": "code",
      "source": [
        "len(valid_df)"
      ],
      "metadata": {
        "colab": {
          "base_uri": "https://localhost:8080/"
        },
        "id": "__wXxyku6UWO",
        "outputId": "d1d5e599-6fb9-4b76-8c8b-32280e2e9e64"
      },
      "execution_count": 17,
      "outputs": [
        {
          "output_type": "execute_result",
          "data": {
            "text/plain": [
              "55"
            ]
          },
          "metadata": {},
          "execution_count": 17
        }
      ]
    },
    {
      "cell_type": "code",
      "source": [
        "train_df.to_csv('/content/drive/MyDrive/딥러닝 정주행/P6_Ch02.동영상처리실습/ucf11_train_vid.csv', index = True)\n",
        "valid_df.to_csv('/content/drive/MyDrive/딥러닝 정주행/P6_Ch02.동영상처리실습/ucf11_valid_vid.csv', index = True)"
      ],
      "metadata": {
        "id": "Z3gcR1ql6WBg"
      },
      "execution_count": 24,
      "outputs": []
    },
    {
      "cell_type": "code",
      "source": [
        "os.mkdir('/content/drive/MyDrive/딥러닝 정주행/P6_Ch02.동영상처리실습/UCF11_updated_png')\n",
        "os.mkdir('/content/drive/MyDrive/딥러닝 정주행/P6_Ch02.동영상처리실습/UCF11_updated_png/train')\n",
        "os.mkdir('/content/drive/MyDrive/딥러닝 정주행/P6_Ch02.동영상처리실습/UCF11_updated_png/valid')\n"
      ],
      "metadata": {
        "id": "jgYz4tak62x0"
      },
      "execution_count": 25,
      "outputs": []
    },
    {
      "cell_type": "code",
      "source": [
        "max_frame = 10\n",
        "SAVE_DIR = '/content/drive/MyDrive/딥러닝 정주행/P6_Ch02.동영상처리실습/UCF11_updated_png/'\n",
        "\n",
        "for i, elem in train_df.iterrows():\n",
        "    cap = cv2.VideoCapture(\n",
        "        elem['file_path']\n",
        "    )\n",
        "    frames = []\n",
        "    while True :\n",
        "        ret, frame = cap.read()\n",
        "        if not ret :\n",
        "            break\n",
        "        frame = cv2.resize(frame, (256, 256))\n",
        "        frames.append(frame)\n",
        "\n",
        "        if len(frames) ==max_frame:\n",
        "            break\n",
        "\n",
        "    label = elem['label']\n",
        "    for j, frame in enumerate(frames):\n",
        "        file_name = f'train/{label}_{i}_{j}.png'\n",
        "        cv2.imwrite(SAVE_DIR + file_name, frame)\n",
        "    cap.release()"
      ],
      "metadata": {
        "id": "tsewYU477bzm"
      },
      "execution_count": 26,
      "outputs": []
    },
    {
      "cell_type": "code",
      "source": [
        "print(len(glob(SAVE_DIR +'/train/*' )))"
      ],
      "metadata": {
        "colab": {
          "base_uri": "https://localhost:8080/"
        },
        "id": "nRZ_iqz59Yqi",
        "outputId": "4b26f4e7-73aa-4de3-f5e9-47d5f9a0ae53"
      },
      "execution_count": 29,
      "outputs": [
        {
          "output_type": "stream",
          "name": "stdout",
          "text": [
            "2200\n"
          ]
        }
      ]
    },
    {
      "cell_type": "code",
      "source": [
        "max_frame = 10\n",
        "SAVE_DIR = '/content/drive/MyDrive/딥러닝 정주행/P6_Ch02.동영상처리실습/UCF11_updated_png/'\n",
        "\n",
        "for i, elem in valid_df.iterrows():\n",
        "    cap = cv2.VideoCapture(\n",
        "        elem['file_path']\n",
        "    )\n",
        "    frames = []\n",
        "    while True :\n",
        "        ret, frame = cap.read()\n",
        "        if not ret :\n",
        "            break\n",
        "        frame = cv2.resize(frame, (256, 256))\n",
        "        frames.append(frame)\n",
        "\n",
        "        if len(frames) ==max_frame:\n",
        "            break\n",
        "\n",
        "    label = elem['label']\n",
        "    for j, frame in enumerate(frames):\n",
        "        file_name = f'valid/{label}_{i}_{j}.png'\n",
        "        cv2.imwrite(SAVE_DIR + file_name, frame)\n",
        "    cap.release()"
      ],
      "metadata": {
        "id": "ZtO21SjF9uXX"
      },
      "execution_count": 30,
      "outputs": []
    },
    {
      "cell_type": "code",
      "source": [
        "print(len(glob(SAVE_DIR +'/valid/*' )))"
      ],
      "metadata": {
        "colab": {
          "base_uri": "https://localhost:8080/"
        },
        "id": "BhoTxFLX-mY8",
        "outputId": "62644f95-fb23-4013-e269-0a61bc5517b2"
      },
      "execution_count": 31,
      "outputs": [
        {
          "output_type": "stream",
          "name": "stdout",
          "text": [
            "550\n"
          ]
        }
      ]
    },
    {
      "cell_type": "code",
      "source": [],
      "metadata": {
        "id": "vMxueoPM-s5r"
      },
      "execution_count": null,
      "outputs": []
    }
  ]
}