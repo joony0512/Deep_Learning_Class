{
  "cells": [
    {
      "cell_type": "markdown",
      "metadata": {
        "id": "view-in-github",
        "colab_type": "text"
      },
      "source": [
        "<a href=\"https://colab.research.google.com/github/joony0512/Deep_Learning_Class/blob/main/Part6/P6_Ch01_CH02_02.ipynb\" target=\"_parent\"><img src=\"https://colab.research.google.com/assets/colab-badge.svg\" alt=\"Open In Colab\"/></a>"
      ]
    },
    {
      "cell_type": "markdown",
      "id": "b3c79372",
      "metadata": {
        "id": "b3c79372"
      },
      "source": [
        "# DL development pipeline\n",
        "\n",
        "### Data Loader -> Model Definition -> Training Script\n",
        "## Sequential\n"
      ]
    },
    {
      "cell_type": "code",
      "execution_count": null,
      "id": "f55d38e9",
      "metadata": {
        "id": "f55d38e9"
      },
      "outputs": [],
      "source": [
        "from tensorflow import keras\n",
        "from tensorflow.keras import layers\n",
        "from tensorflow.keras import activations\n",
        "\n",
        "import os\n",
        "os.environ['CUDA_VISIBLE_DEVICES'] = '1'"
      ]
    },
    {
      "cell_type": "code",
      "execution_count": null,
      "id": "110cbf56",
      "metadata": {
        "id": "110cbf56",
        "outputId": "441caffd-550a-4db1-eaaa-3ddff2b2049b"
      },
      "outputs": [
        {
          "name": "stdout",
          "output_type": "stream",
          "text": [
            "Model: \"sequential\"\n",
            "_________________________________________________________________\n",
            " Layer (type)                Output Shape              Param #   \n",
            "=================================================================\n",
            " conv2d_4 (Conv2D)           (None, 256, 256, 64)      1792      \n",
            "                                                                 \n",
            " conv2d_5 (Conv2D)           (None, 256, 256, 64)      36928     \n",
            "                                                                 \n",
            " max_pooling2d_2 (MaxPoolin  (None, 128, 128, 64)      0         \n",
            " g2D)                                                            \n",
            "                                                                 \n",
            " batch_normalization (Batch  (None, 128, 128, 64)      256       \n",
            " Normalization)                                                  \n",
            "                                                                 \n",
            " dropout (Dropout)           (None, 128, 128, 64)      0         \n",
            "                                                                 \n",
            " conv2d_6 (Conv2D)           (None, 128, 128, 128)     73856     \n",
            "                                                                 \n",
            " conv2d_7 (Conv2D)           (None, 128, 128, 128)     147584    \n",
            "                                                                 \n",
            " max_pooling2d_3 (MaxPoolin  (None, 64, 64, 128)       0         \n",
            " g2D)                                                            \n",
            "                                                                 \n",
            " batch_normalization_1 (Bat  (None, 64, 64, 128)       512       \n",
            " chNormalization)                                                \n",
            "                                                                 \n",
            " dropout_1 (Dropout)         (None, 64, 64, 128)       0         \n",
            "                                                                 \n",
            " global_max_pooling2d (Glob  (None, 128)               0         \n",
            " alMaxPooling2D)                                                 \n",
            "                                                                 \n",
            " dense (Dense)               (None, 128)               16512     \n",
            "                                                                 \n",
            " dense_1 (Dense)             (None, 1)                 129       \n",
            "                                                                 \n",
            "=================================================================\n",
            "Total params: 277569 (1.06 MB)\n",
            "Trainable params: 277185 (1.06 MB)\n",
            "Non-trainable params: 384 (1.50 KB)\n",
            "_________________________________________________________________\n"
          ]
        }
      ],
      "source": [
        "def get_sequential_model(input_shape):\n",
        "    model = keras.Sequential(\n",
        "        [\n",
        "            # Input\n",
        "            layers.Input(input_shape),\n",
        "\n",
        "            # 1st Conv block\n",
        "            layers.Conv2D(64, 3, strides = 1, activation = 'relu', padding ='same'), # padding ='same'으로 이미지 in, out 같은사이즈로 유지\n",
        "            layers.Conv2D(64, 3, strides = 1, activation = 'relu', padding ='same'),\n",
        "            layers.MaxPool2D(),\n",
        "            layers.BatchNormalization(),\n",
        "            layers.Dropout(0.5),\n",
        "\n",
        "            # 2nd Conv block\n",
        "            layers.Conv2D(128, 3, strides = 1, activation = 'relu', padding ='same'), # 위 block의 maxpooling으로 이미지 사이즈 절반으로 줄고 heuristic하게 filter size 2배로 올림\n",
        "            layers.Conv2D(128, 3, strides = 1, activation = 'relu', padding ='same'),\n",
        "            layers.MaxPool2D(),\n",
        "            layers.BatchNormalization(),\n",
        "            layers.Dropout(0.3),\n",
        "\n",
        "            # Classfier\n",
        "            layers.GlobalMaxPool2D(), # 필터별 가장 큰값 반환 -> 필터수만큼 대표값 반환\n",
        "            layers.Dense(128, activation = \"relu\"),\n",
        "            layers.Dense(1, activation = \"sigmoid\"), # 이진분류\n",
        "\n",
        "        ]\n",
        "    )\n",
        "    return model\n",
        "\n",
        "input_shape = (256, 256, 3)\n",
        "model = get_sequential_model(input_shape)\n",
        "\n",
        "model.summary()"
      ]
    },
    {
      "cell_type": "markdown",
      "id": "125af1df",
      "metadata": {
        "id": "125af1df"
      },
      "source": [
        "## Fuctional API"
      ]
    },
    {
      "cell_type": "code",
      "execution_count": null,
      "id": "db1aa5e9",
      "metadata": {
        "id": "db1aa5e9",
        "outputId": "9316f80e-34a6-4deb-abde-ce48ab41b976"
      },
      "outputs": [
        {
          "name": "stdout",
          "output_type": "stream",
          "text": [
            "Model: \"model\"\n",
            "_________________________________________________________________\n",
            " Layer (type)                Output Shape              Param #   \n",
            "=================================================================\n",
            " input_5 (InputLayer)        [(None, 256, 256, 3)]     0         \n",
            "                                                                 \n",
            " conv2d_8 (Conv2D)           (None, 256, 256, 64)      1792      \n",
            "                                                                 \n",
            " conv2d_9 (Conv2D)           (None, 256, 256, 64)      36928     \n",
            "                                                                 \n",
            " max_pooling2d_4 (MaxPoolin  (None, 128, 128, 64)      0         \n",
            " g2D)                                                            \n",
            "                                                                 \n",
            " batch_normalization_2 (Bat  (None, 128, 128, 64)      256       \n",
            " chNormalization)                                                \n",
            "                                                                 \n",
            " dropout_2 (Dropout)         (None, 128, 128, 64)      0         \n",
            "                                                                 \n",
            " conv2d_10 (Conv2D)          (None, 128, 128, 128)     73856     \n",
            "                                                                 \n",
            " conv2d_11 (Conv2D)          (None, 128, 128, 128)     147584    \n",
            "                                                                 \n",
            " max_pooling2d_5 (MaxPoolin  (None, 64, 64, 128)       0         \n",
            " g2D)                                                            \n",
            "                                                                 \n",
            " batch_normalization_3 (Bat  (None, 64, 64, 128)       512       \n",
            " chNormalization)                                                \n",
            "                                                                 \n",
            " dropout_3 (Dropout)         (None, 64, 64, 128)       0         \n",
            "                                                                 \n",
            " global_max_pooling2d_1 (Gl  (None, 128)               0         \n",
            " obalMaxPooling2D)                                               \n",
            "                                                                 \n",
            " dense_2 (Dense)             (None, 128)               16512     \n",
            "                                                                 \n",
            " dense_3 (Dense)             (None, 1)                 129       \n",
            "                                                                 \n",
            "=================================================================\n",
            "Total params: 277569 (1.06 MB)\n",
            "Trainable params: 277185 (1.06 MB)\n",
            "Non-trainable params: 384 (1.50 KB)\n",
            "_________________________________________________________________\n"
          ]
        }
      ],
      "source": [
        "def get_functional_model(input_shape):\n",
        "    inputs = keras.Input(input_shape)\n",
        "\n",
        "    # 1st Conv block\n",
        "    x = layers.Conv2D(64, 3, strides = 1, activation = 'relu', padding ='same')(inputs)\n",
        "    x = layers.Conv2D(64, 3, strides = 1, activation = 'relu', padding ='same')(x)\n",
        "    x = layers.MaxPool2D()(x)\n",
        "    x = layers.BatchNormalization()(x)\n",
        "    x = layers.Dropout(0.5)(x)\n",
        "\n",
        "    # 2nd Conv block\n",
        "    x = layers.Conv2D(128, 3, strides = 1, activation = 'relu', padding ='same')(x)\n",
        "    x = layers.Conv2D(128, 3, strides = 1, activation = 'relu', padding ='same')(x)\n",
        "    x = layers.MaxPool2D()(x)\n",
        "    x = layers.BatchNormalization()(x)\n",
        "    x = layers.Dropout(0.3)(x)\n",
        "\n",
        "    # Classfier\n",
        "    x = layers.GlobalMaxPool2D()(x)\n",
        "    x = layers.Dense(128, activation = \"relu\")(x)\n",
        "\n",
        "    outputs = layers.Dense(1, activation = \"sigmoid\")(x)\n",
        "\n",
        "    model = keras.Model(inputs, outputs)\n",
        "\n",
        "    return model\n",
        "\n",
        "\n",
        "input_shape = (256, 256, 3)\n",
        "model = get_functional_model(input_shape)\n",
        "\n",
        "model.summary()"
      ]
    },
    {
      "cell_type": "markdown",
      "id": "77e20fa0",
      "metadata": {
        "id": "77e20fa0"
      },
      "source": [
        "## Model subclassing\n"
      ]
    },
    {
      "cell_type": "code",
      "execution_count": null,
      "id": "bd73324f",
      "metadata": {
        "id": "bd73324f"
      },
      "outputs": [],
      "source": [
        "class SimpleCNN(keras.Model):\n",
        "    def __init__(self):\n",
        "        super(SimpleCNN, self).__init__()\n",
        "\n",
        "        self.conv_block1 = keras.Sequential(\n",
        "            [\n",
        "                layers.Conv2D(64, 3, strides = 1, activation = 'relu', padding ='same'),\n",
        "                layers.Conv2D(64, 3, strides = 1, activation = 'relu', padding ='same'),\n",
        "                layers.MaxPool2D(),\n",
        "                layers.BatchNormalization(),\n",
        "                layers.Dropout(0.5),\n",
        "            ], name = 'conv_block_1'\n",
        "        )\n",
        "\n",
        "        self.conv_block2 = keras.Sequential(\n",
        "            [\n",
        "                layers.Conv2D(128, 3, strides = 1, activation = 'relu', padding ='same'),\n",
        "                layers.Conv2D(128, 3, strides = 1, activation = 'relu', padding ='same'),\n",
        "                layers.MaxPool2D(),\n",
        "                layers.BatchNormalization(),\n",
        "                layers.Dropout(0.3),\n",
        "            ], name = 'conv_block_2'\n",
        "        )\n",
        "\n",
        "        self.classfier = keras.Sequential(\n",
        "            [\n",
        "                layers.GlobalMaxPool2D(),\n",
        "                layers.Dense(128, activation = \"relu\"),\n",
        "                layers.Dense(1, activation = \"sigmoid\"),\n",
        "            ],  name = 'classfier'\n",
        "        )\n",
        "\n",
        "    def call(self, input_tensor, training = False):\n",
        "        x = self.conv_block1(input_tensor)\n",
        "        x = self.conv_block2(x)\n",
        "        x = self.classfier(x)\n",
        "\n",
        "        return x\n",
        "\n",
        "\n",
        "\n",
        ""
      ]
    },
    {
      "cell_type": "code",
      "execution_count": null,
      "id": "f5a9eee3",
      "metadata": {
        "id": "f5a9eee3",
        "outputId": "6fa28f4e-0397-4236-a6bb-c6093b5107e0"
      },
      "outputs": [
        {
          "name": "stdout",
          "output_type": "stream",
          "text": [
            "Model: \"simple_cnn_1\"\n",
            "_________________________________________________________________\n",
            " Layer (type)                Output Shape              Param #   \n",
            "=================================================================\n",
            " conv_block_1 (Sequential)   (None, 128, 128, 64)      38976     \n",
            "                                                                 \n",
            " conv_block_2 (Sequential)   (None, 64, 64, 128)       221952    \n",
            "                                                                 \n",
            " classfier (Sequential)      (None, 1)                 16641     \n",
            "                                                                 \n",
            "=================================================================\n",
            "Total params: 277569 (1.06 MB)\n",
            "Trainable params: 277185 (1.06 MB)\n",
            "Non-trainable params: 384 (1.50 KB)\n",
            "_________________________________________________________________\n"
          ]
        }
      ],
      "source": [
        "input_shape = (None, 256, 256, 3)\n",
        "model = SimpleCNN()\n",
        "model.build(input_shape)\n",
        "\n",
        "model.summary()"
      ]
    },
    {
      "cell_type": "markdown",
      "id": "734f21b8",
      "metadata": {
        "id": "734f21b8"
      },
      "source": [
        "## Model Compiling"
      ]
    },
    {
      "cell_type": "code",
      "execution_count": null,
      "id": "b102f6c2",
      "metadata": {
        "id": "b102f6c2"
      },
      "outputs": [],
      "source": [
        "model.compile(\n",
        "    optimizer = 'adam',\n",
        "    loss = 'binary_crossentropy',\n",
        "    metrics = 'accuracy'\n",
        "\n",
        ")"
      ]
    },
    {
      "cell_type": "code",
      "execution_count": null,
      "id": "640fab48",
      "metadata": {
        "id": "640fab48"
      },
      "outputs": [],
      "source": []
    }
  ],
  "metadata": {
    "kernelspec": {
      "display_name": "Python 3 (ipykernel)",
      "language": "python",
      "name": "python3"
    },
    "language_info": {
      "codemirror_mode": {
        "name": "ipython",
        "version": 3
      },
      "file_extension": ".py",
      "mimetype": "text/x-python",
      "name": "python",
      "nbconvert_exporter": "python",
      "pygments_lexer": "ipython3",
      "version": "3.10.9"
    },
    "colab": {
      "provenance": [],
      "include_colab_link": true
    }
  },
  "nbformat": 4,
  "nbformat_minor": 5
}