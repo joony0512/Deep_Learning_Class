{
  "nbformat": 4,
  "nbformat_minor": 0,
  "metadata": {
    "colab": {
      "provenance": [],
      "mount_file_id": "1xm9BLQUVoPPV1afhh7HSCYvnRbMm7cfc",
      "authorship_tag": "ABX9TyNw286m12DaT2lhbBK0jkb1",
      "include_colab_link": true
    },
    "kernelspec": {
      "name": "python3",
      "display_name": "Python 3"
    },
    "language_info": {
      "name": "python"
    }
  },
  "cells": [
    {
      "cell_type": "markdown",
      "metadata": {
        "id": "view-in-github",
        "colab_type": "text"
      },
      "source": [
        "<a href=\"https://colab.research.google.com/github/joony0512/Deep_Learning_Class/blob/main/Part6/P6_Ch01_CH02_05.ipynb\" target=\"_parent\"><img src=\"https://colab.research.google.com/assets/colab-badge.svg\" alt=\"Open In Colab\"/></a>"
      ]
    },
    {
      "cell_type": "markdown",
      "source": [
        "# Transfer Learning\n",
        "https://www.tensorflow.org/api_docs/python/tf/keras/applications/efficientnet/EfficientNetB0"
      ],
      "metadata": {
        "id": "ItW-C1P0LiiT"
      }
    },
    {
      "cell_type": "code",
      "execution_count": 1,
      "metadata": {
        "id": "tH2EFznkLg6J"
      },
      "outputs": [],
      "source": [
        "import os\n",
        "import math\n",
        "\n",
        "import cv2\n",
        "import numpy as np\n",
        "import pandas as pd\n",
        "import matplotlib.pyplot as plt\n",
        "import tensorflow as tf\n",
        "\n",
        "from tensorflow.keras.applications import EfficientNetB0\n",
        "from tensorflow import keras\n",
        "from tensorflow.keras import layers\n",
        "from tensorflow.keras import activations"
      ]
    },
    {
      "cell_type": "code",
      "source": [
        "def get_model(input_shape):\n",
        "  inputs = keras.Input(input_shape)\n",
        "  base_model = EfficientNetB0(\n",
        "      input_shape = input_shape,\n",
        "      weights = 'imagenet',\n",
        "      include_top = False,   # True : 분류까지 다 가져옴, False : 피처벡터 추출까지만 가져옴\n",
        "      pooling = 'avg',\n",
        "  )\n",
        "\n",
        "  x = base_model(inputs)\n",
        "  outputs = layers.Dense(1, activation= 'sigmoid')(x)\n",
        "  model = keras.Model(inputs, outputs)\n",
        "  return model\n",
        "\n",
        "input_shape =(256, 256, 3)\n",
        "model = get_model(input_shape)\n",
        "\n",
        "adam = keras.optimizers.Adam(learning_rate = 0.0001)\n",
        "\n",
        "model.compile(\n",
        "    optimizer = adam,\n",
        "    loss = 'binary_crossentropy',\n",
        "    metrics = 'accuracy'\n",
        ")\n",
        "\n",
        "model.summary()"
      ],
      "metadata": {
        "colab": {
          "base_uri": "https://localhost:8080/"
        },
        "id": "vO4m1eOCQ5-c",
        "outputId": "6bf41db8-492f-46b8-8477-74055ee5e276"
      },
      "execution_count": 5,
      "outputs": [
        {
          "output_type": "stream",
          "name": "stdout",
          "text": [
            "Model: \"model_2\"\n",
            "_________________________________________________________________\n",
            " Layer (type)                Output Shape              Param #   \n",
            "=================================================================\n",
            " input_7 (InputLayer)        [(None, 256, 256, 3)]     0         \n",
            "                                                                 \n",
            " efficientnetb0 (Functional  (None, 1280)              4049571   \n",
            " )                                                               \n",
            "                                                                 \n",
            " dense_2 (Dense)             (None, 1)                 1281      \n",
            "                                                                 \n",
            "=================================================================\n",
            "Total params: 4050852 (15.45 MB)\n",
            "Trainable params: 4008829 (15.29 MB)\n",
            "Non-trainable params: 42023 (164.16 KB)\n",
            "_________________________________________________________________\n"
          ]
        }
      ]
    },
    {
      "cell_type": "code",
      "source": [
        "import albumentations as A\n",
        "import cv2\n",
        "\n",
        "class Augmentation:\n",
        "  def __init__(self, size, mode ='train'):\n",
        "    if mode =='train':\n",
        "      # Declare an augmentation pipeline\n",
        "      self.transform = A.Compose([\n",
        "          A.HorizontalFlip(p=0.5), # 좌우반전, p(적용할 확률)\n",
        "          A.ShiftScaleRotate(\n",
        "              p = 0.5,\n",
        "              shift_limit = 0.05,\n",
        "              scale_limit = 0.05,\n",
        "              rotate_limit = 15,\n",
        "          ), # 이동%, 확대축소%, 회전각도 제약걸기\n",
        "          A.CoarseDropout(\n",
        "              p = 0.5,\n",
        "              max_holes =8,\n",
        "              max_height = int(0.1 * size),\n",
        "              max_width = int(0.1 * size),\n",
        "          ),\n",
        "          A.RandomBrightnessContrast(p=0.2),\n",
        "      ])\n",
        "\n",
        "  def __call__(self, **kwargs):\n",
        "    if self.transform:\n",
        "      aumented = self.transform(**kwargs)\n",
        "      img = aumented['image']\n",
        "      return img\n"
      ],
      "metadata": {
        "id": "1meA9g6fMEae"
      },
      "execution_count": 6,
      "outputs": []
    },
    {
      "cell_type": "code",
      "source": [
        "class DataGenerator(keras.utils.Sequence):\n",
        "    def __init__(\n",
        "        self,\n",
        "        batch_size,\n",
        "        csv_path,\n",
        "        fold,\n",
        "        image_size,\n",
        "        mode ='train',\n",
        "        shuffle = True):\n",
        "\n",
        "        self.batch_size = batch_size\n",
        "        self.image_size = image_size\n",
        "        self.fold = fold\n",
        "        self.mode = mode\n",
        "        self.shuffle = shuffle\n",
        "\n",
        "        self.df = pd.read_csv(csv_path)\n",
        "\n",
        "        if self.mode == 'train':\n",
        "            self.df = self.df[self.df['fold'] != self.fold]\n",
        "        elif self.mode =='val':\n",
        "            self.df = self.df[self.df['fold'] == self.fold]\n",
        "\n",
        "\n",
        "        ### Remove invalid files\n",
        "        ### https://github.com/tensorflow/models/issues/3134\n",
        "        invalid_filenames = [\n",
        "            'Egyptian_Mau_14',\n",
        "            'Egyptian_Mau_139',\n",
        "            'Egyptian_Mau_145',\n",
        "            'Egyptian_Mau_156',\n",
        "            'Egyptian_Mau_167',\n",
        "            'Egyptian_Mau_177',\n",
        "            'Egyptian_Mau_186',\n",
        "            'Egyptian_Mau_191',\n",
        "            'Abyssinian_5',\n",
        "            'Abyssinian_34',\n",
        "            'chihuahua_121',\n",
        "            'beagle_116'\n",
        "        ]\n",
        "        self.df = self.df[~self.df['filename'].isin(invalid_filenames)]\n",
        "        self.transform = Augmentation(image_size, mode)\n",
        "\n",
        "        self.on_epoch_end()\n",
        "\n",
        "\n",
        "    def __len__(self):\n",
        "        return math.ceil(len(self.df)/self.batch_size)\n",
        "\n",
        "    def __getitem__(self, idx):\n",
        "        strt = idx * self.batch_size\n",
        "        fin = (idx + 1)* self.batch_size\n",
        "        data = self.df.iloc[strt:fin]\n",
        "\n",
        "        batch_x, batch_y = self.get_data(data)\n",
        "\n",
        "        return np.array(batch_x), np.array(batch_y)\n",
        "\n",
        "    def get_data(self, data):\n",
        "        batch_x =[]\n",
        "        batch_y =[]\n",
        "\n",
        "        for _, r in data.iterrows():\n",
        "            file_name = r['filename']\n",
        "            print(file_name)\n",
        "\n",
        "            image = cv2.imread(f'/content/MyDrive/data/images/{file_name}.jpg')\n",
        "            print(f'/content/MyDrive/data/images/{file_name}.jpg')\n",
        "            image = cv2.cvtColor(image, cv2.COLOR_BGR2RGB)\n",
        "\n",
        "            # input image resize (배치로 묶기위해)\n",
        "            image = cv2.resize(image, (self.image_size, self.image_size))\n",
        "\n",
        "            if self.mode == 'train':\n",
        "              image = image.astype('uint8')\n",
        "              image = self.transform(image = image)\n",
        "\n",
        "            # rescaling\n",
        "            image = image /255.\n",
        "\n",
        "            # 고양이 1 강아지 2 -> 고양이 0 강아지 1\n",
        "            label = int(r['species']) -1\n",
        "\n",
        "            batch_x.append(image)\n",
        "            batch_y.append(label)\n",
        "        return batch_x, batch_y\n",
        "\n",
        "\n",
        "\n",
        "    def on_epoch_end(self): # callback function\n",
        "        if self.shuffle:\n",
        "            self.df = self.df.sample(frac =1).reset_index(drop=True)\n"
      ],
      "metadata": {
        "id": "uXKz9fezZZXe"
      },
      "execution_count": 7,
      "outputs": []
    },
    {
      "cell_type": "code",
      "source": [
        "csv_path = '/content/drive/MyDrive/data/kfolds.csv'\n",
        "train_generator = DataGenerator(\n",
        "    batch_size = 128,\n",
        "    csv_path =csv_path,\n",
        "    fold = 1,\n",
        "    image_size = 256,\n",
        "    mode ='train',\n",
        "    shuffle = True\n",
        ")\n",
        "\n",
        "val_generator = DataGenerator(\n",
        "    batch_size = 128,\n",
        "    csv_path =csv_path,\n",
        "    fold = 1,\n",
        "    image_size = 256,\n",
        "    mode ='val',\n",
        "    shuffle = True\n",
        ")"
      ],
      "metadata": {
        "id": "dr25vE_6Z6e7"
      },
      "execution_count": null,
      "outputs": []
    },
    {
      "cell_type": "code",
      "source": [
        "history = model.fit(\n",
        "    train_generator,\n",
        "    validation_data = val_generator,\n",
        "    epochs = 10,\n",
        "    verbose = 1\n",
        ")"
      ],
      "metadata": {
        "id": "whzyhXLFZx8H"
      },
      "execution_count": null,
      "outputs": []
    }
  ]
}