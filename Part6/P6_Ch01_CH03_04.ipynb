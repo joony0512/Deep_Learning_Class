# Unet

## Unet이란?
- Biomedical 분야에서 image segmentation을 위해 제안된 end-to-end 방식 fully convolutional network(dense layer없음)
- 성능이 의료영상뿐만 아니라 다른 이미지들에도 좋음
- u자 형태

## 구조
- fully convolutional network + max pooling
- dense layer없음 : input image의 입력사이즈 상관 없음 (16x16 이상이여야한다. max pooling 4번)
- Encoder : context 학습
- Decoder : image localization 학습

## Max Pooling 
- 피처맵의 크기를 줄여 네트워크의 파라미터 수 줄임
- 기본적으로 입력피처맵의 2x2 마다 최대만 뽑고 나머지 다 제거, 새로운 피처맵 얻음
  - Encoder
    - 각 영역마다 가장 중요한 부분만 정보 유지, 그렇지 않으면 모두 버린다
    - 이미지의 context를 가장 잘 설명하는 값
    - 이런 과정을 Downsampling이라고 한다.
    - 결과적으로 convolution과 maxpooling을 거치며 매우 압축된 정보만 남게 된다.
  - Decoder
    - 이미지 위치정보를 잃기 때문에 잃어버린 위치에 대한 학습을 decoder에서 해내게 된다.
    - 원본이미지와 같은 사이즈로 점진적으로 늘리게 되고 이 과정을 Upsampling이라고 한다. 
    - 가장 간단한 방법은 값을 복사해서 크기를 늘리는것이 있다. 
    - 가장 많이 쓰이는 방법은 Transposed convoution이 있다. 

## Transposed convolution (Deconvolution)
- 학습가능한 parameter로 upsampling
1. 2x2 를 4x1로 resize
2. 이를 16x4 와 행렬곱 -> 16x1로 새로운 행렬이 된다.
3. 이를 4x4로 resize (upsampling)

- 여기서 16x4행렬을 Transposed convolution 레이어의 학습가능한 parameter로 보면 된다.  
- 이 파라미터들을 4x1(input matrix)와 곱하는 과정이 Transposed convolution을 실행하는 것으로 보면 된다. 

## Decoder 
- Transposed convolution으로 upsampling을 하고 ResNet과 비슷한 skipconnection으로 downsampling되지 않은 정보를 받아온다.
- 결국 인풋이미지와 같은 사이즈의 output을 얻는다. -> segmentation mask출력
