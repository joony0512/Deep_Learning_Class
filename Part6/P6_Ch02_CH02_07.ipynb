{
  "nbformat": 4,
  "nbformat_minor": 0,
  "metadata": {
    "colab": {
      "provenance": [],
      "authorship_tag": "ABX9TyPk8S701gMfbNHs4rgIplwn",
      "include_colab_link": true
    },
    "kernelspec": {
      "name": "python3",
      "display_name": "Python 3"
    },
    "language_info": {
      "name": "python"
    }
  },
  "cells": [
    {
      "cell_type": "markdown",
      "metadata": {
        "id": "view-in-github",
        "colab_type": "text"
      },
      "source": [
        "<a href=\"https://colab.research.google.com/github/joony0512/Deep_Learning_Class/blob/main/Part6/P6_Ch02_CH02_07.ipynb\" target=\"_parent\"><img src=\"https://colab.research.google.com/assets/colab-badge.svg\" alt=\"Open In Colab\"/></a>"
      ]
    },
    {
      "cell_type": "code",
      "source": [
        "\n",
        "from google.colab import drive\n",
        "drive.mount('/content/drive')"
      ],
      "metadata": {
        "colab": {
          "base_uri": "https://localhost:8080/"
        },
        "id": "eDUhibS68ukD",
        "outputId": "4cb3b1f3-5aa7-4040-e15b-f64f6a53a263"
      },
      "execution_count": 2,
      "outputs": [
        {
          "output_type": "stream",
          "name": "stdout",
          "text": [
            "Mounted at /content/drive\n"
          ]
        }
      ]
    },
    {
      "cell_type": "code",
      "execution_count": 17,
      "metadata": {
        "id": "xwsleUwhoGPT"
      },
      "outputs": [],
      "source": [
        "\n",
        "import cv2\n",
        "import random\n",
        "import numpy as np\n",
        "import pandas as pd\n",
        "import matplotlib.pyplot as plt\n",
        "from pprint import pprint\n",
        "from glob import glob\n",
        "import os\n",
        "\n",
        "import tensorflow_hub as hub\n",
        "import tensorflow as tf\n",
        "from tensorflow import keras"
      ]
    },
    {
      "cell_type": "code",
      "source": [
        "LABEL_INT_DICT = np.unique(pd.read_csv('/content/drive/MyDrive/딥러닝 정주행/P6_Ch02.동영상처리실습/ucf11_train_vid.csv')['label'])\n",
        "LABEL_STR_DICT = { k:v for v, k in enumerate(LABEL_INT_DICT)}\n",
        "pprint(LABEL_INT_DICT)\n",
        "pprint(LABEL_STR_DICT)"
      ],
      "metadata": {
        "colab": {
          "base_uri": "https://localhost:8080/"
        },
        "id": "Edqezm5p8x79",
        "outputId": "41143f38-0800-465c-fb05-b16a2b03c781"
      },
      "execution_count": 18,
      "outputs": [
        {
          "output_type": "stream",
          "name": "stdout",
          "text": [
            "array(['biking', 'diving', 'golf', 'juggle', 'jumping', 'riding',\n",
            "       'shooting', 'spiking', 'swing', 'tennis', 'walk'], dtype=object)\n",
            "{'biking': 0,\n",
            " 'diving': 1,\n",
            " 'golf': 2,\n",
            " 'juggle': 3,\n",
            " 'jumping': 4,\n",
            " 'riding': 5,\n",
            " 'shooting': 6,\n",
            " 'spiking': 7,\n",
            " 'swing': 8,\n",
            " 'tennis': 9,\n",
            " 'walk': 10}\n"
          ]
        }
      ]
    },
    {
      "cell_type": "code",
      "source": [
        "MAX_FRAME = 10 # 몇개의 frame feature들이 한번에 들어오는지\n",
        "NUM_FEATURES = 1280 # feature dimension\n",
        "\n",
        "def build_model():\n",
        "    inputs = keras.Input((MAX_FRAME, NUM_FEATURES))\n",
        "    x = keras.layers.LSTM(64, return_sequences = True)(inputs) # 모든 시퀀스 반환\n",
        "    x = keras.layers.LSTM(64, return_sequences = False)(x) # 마지막 시퀀스만 반환\n",
        "    x = keras.layers.Dropout(0.3)(x)\n",
        "    output = keras.layers.Dense(len(LABEL_INT_DICT), activation = 'softmax')(x)\n",
        "\n",
        "    model = keras.Model(inputs, output)\n",
        "    return model\n",
        "\n",
        "adam = keras.optimizers.Adam(learning_rate = 0.0001)\n",
        "model = build_model()\n",
        "\n",
        "model.compile(\n",
        "    optimizer = adam,\n",
        "    loss = 'sparse_categorical_crossentropy',\n",
        "    metrics = 'accuracy'\n",
        ")\n",
        "\n",
        "model.summary()"
      ],
      "metadata": {
        "colab": {
          "base_uri": "https://localhost:8080/"
        },
        "id": "YnV4HW7s9AXp",
        "outputId": "747ebf6a-d8fa-474b-ae33-0796550579c1"
      },
      "execution_count": 19,
      "outputs": [
        {
          "output_type": "stream",
          "name": "stdout",
          "text": [
            "Model: \"model_2\"\n",
            "_________________________________________________________________\n",
            " Layer (type)                Output Shape              Param #   \n",
            "=================================================================\n",
            " input_4 (InputLayer)        [(None, 10, 1280)]        0         \n",
            "                                                                 \n",
            " lstm_4 (LSTM)               (None, 10, 64)            344320    \n",
            "                                                                 \n",
            " lstm_5 (LSTM)               (None, 64)                33024     \n",
            "                                                                 \n",
            " dropout_2 (Dropout)         (None, 64)                0         \n",
            "                                                                 \n",
            " dense_2 (Dense)             (None, 11)                715       \n",
            "                                                                 \n",
            "=================================================================\n",
            "Total params: 378059 (1.44 MB)\n",
            "Trainable params: 378059 (1.44 MB)\n",
            "Non-trainable params: 0 (0.00 Byte)\n",
            "_________________________________________________________________\n"
          ]
        }
      ]
    },
    {
      "cell_type": "code",
      "source": [
        "import albumentations as A\n",
        "import math\n",
        "import tensorflow as tf\n",
        "from tensorflow import keras\n",
        "\n",
        "\n",
        "class DataGenerator(keras.utils.Sequence):\n",
        "    def __init__(self, batch_size, mode ='train', shuffle =True):\n",
        "        assert mode in ['train', 'valid']\n",
        "\n",
        "        self.mode = mode\n",
        "        self.shuffle = shuffle\n",
        "        self.batch_size = batch_size\n",
        "\n",
        "        self.npy_paths = glob(\n",
        "            f'/content/drive/MyDrive/딥러닝 정주행/P6_Ch02.동영상처리실습/UCF11_updated_numpy/{mode}/*.npy'\n",
        "        )\n",
        "    def __len__(self):\n",
        "        return math.ceil(len(self.npy_paths)/ self.batch_size)\n",
        "\n",
        "    def __getitem__(self, idx):\n",
        "        strt = idx * self.batch_size\n",
        "        fin = (idx + 1) * self.batch_size\n",
        "        data = self.npy_paths[strt:fin]\n",
        "\n",
        "        batch_x, batch_y = self.get_data(data)\n",
        "\n",
        "        return np.array(batch_x), np.array(batch_y)\n",
        "\n",
        "    def get_data(self, data):\n",
        "        batch_x = []\n",
        "        batch_y = []\n",
        "\n",
        "        for npy_path in data:\n",
        "            npy = np.load(npy_path)\n",
        "\n",
        "            label = npy_path.split('/')[-1].split('_')[0]\n",
        "            label = LABEL_STR_DICT[label]\n",
        "\n",
        "            batch_x.append(npy)\n",
        "            batch_y.append(label)\n",
        "\n",
        "        return batch_x, batch_y\n",
        "\n",
        "    def on_epoch_end(self):\n",
        "        if self.shuffle :\n",
        "            random.shuffle(self.npy_paths)\n",
        "\n",
        "train_generator = DataGenerator(\n",
        "    mode = 'train',\n",
        "    batch_size = 128,\n",
        "    shuffle = True\n",
        ")\n",
        "valid_generator = DataGenerator(\n",
        "    mode = 'valid',\n",
        "    batch_size = 128,\n",
        "    shuffle = True\n",
        ")"
      ],
      "metadata": {
        "id": "X-jpdmuaAET4"
      },
      "execution_count": 20,
      "outputs": []
    },
    {
      "cell_type": "code",
      "source": [
        "for X, y in train_generator:\n",
        "    print(X.shape)\n",
        "    print(y.shape)\n",
        "    break"
      ],
      "metadata": {
        "colab": {
          "base_uri": "https://localhost:8080/"
        },
        "id": "IxZNxLMhEQae",
        "outputId": "34c7f510-30d8-4855-f135-40c24594afce"
      },
      "execution_count": 21,
      "outputs": [
        {
          "output_type": "stream",
          "name": "stdout",
          "text": [
            "(128, 10, 1280)\n",
            "(128,)\n"
          ]
        }
      ]
    },
    {
      "cell_type": "code",
      "source": [
        "history = model.fit(\n",
        "    train_generator,\n",
        "    validation_data= valid_generator,\n",
        "    epochs = 30,\n",
        "    verbose = 1,\n",
        ")\n"
      ],
      "metadata": {
        "colab": {
          "base_uri": "https://localhost:8080/"
        },
        "id": "wPx6TNRoEfIa",
        "outputId": "b6ff3dc8-c118-4d5a-bf0e-8424738e64e9"
      },
      "execution_count": 22,
      "outputs": [
        {
          "output_type": "stream",
          "name": "stdout",
          "text": [
            "Epoch 1/30\n",
            "2/2 [==============================] - 6s 1s/step - loss: 2.4524 - accuracy: 0.0818 - val_loss: 2.3907 - val_accuracy: 0.1273\n",
            "Epoch 2/30\n",
            "2/2 [==============================] - 1s 384ms/step - loss: 2.3828 - accuracy: 0.1727 - val_loss: 2.3551 - val_accuracy: 0.2364\n",
            "Epoch 3/30\n",
            "2/2 [==============================] - 1s 301ms/step - loss: 2.3372 - accuracy: 0.2318 - val_loss: 2.3185 - val_accuracy: 0.3273\n",
            "Epoch 4/30\n",
            "2/2 [==============================] - 1s 348ms/step - loss: 2.2657 - accuracy: 0.3045 - val_loss: 2.2819 - val_accuracy: 0.3818\n",
            "Epoch 5/30\n",
            "2/2 [==============================] - 1s 322ms/step - loss: 2.1783 - accuracy: 0.4045 - val_loss: 2.2454 - val_accuracy: 0.4364\n",
            "Epoch 6/30\n",
            "2/2 [==============================] - 1s 573ms/step - loss: 2.1553 - accuracy: 0.5000 - val_loss: 2.2091 - val_accuracy: 0.4909\n",
            "Epoch 7/30\n",
            "2/2 [==============================] - 1s 716ms/step - loss: 2.0802 - accuracy: 0.5318 - val_loss: 2.1732 - val_accuracy: 0.4909\n",
            "Epoch 8/30\n",
            "2/2 [==============================] - 1s 728ms/step - loss: 2.0227 - accuracy: 0.6182 - val_loss: 2.1378 - val_accuracy: 0.5818\n",
            "Epoch 9/30\n",
            "2/2 [==============================] - 1s 652ms/step - loss: 1.9563 - accuracy: 0.7227 - val_loss: 2.1030 - val_accuracy: 0.6182\n",
            "Epoch 10/30\n",
            "2/2 [==============================] - 1s 553ms/step - loss: 1.9240 - accuracy: 0.7364 - val_loss: 2.0686 - val_accuracy: 0.6182\n",
            "Epoch 11/30\n",
            "2/2 [==============================] - 1s 270ms/step - loss: 1.8662 - accuracy: 0.8045 - val_loss: 2.0344 - val_accuracy: 0.6727\n",
            "Epoch 12/30\n",
            "2/2 [==============================] - 1s 658ms/step - loss: 1.8138 - accuracy: 0.8455 - val_loss: 2.0005 - val_accuracy: 0.6727\n",
            "Epoch 13/30\n",
            "2/2 [==============================] - 1s 323ms/step - loss: 1.7499 - accuracy: 0.8636 - val_loss: 1.9672 - val_accuracy: 0.6909\n",
            "Epoch 14/30\n",
            "2/2 [==============================] - 1s 442ms/step - loss: 1.7062 - accuracy: 0.9318 - val_loss: 1.9343 - val_accuracy: 0.7273\n",
            "Epoch 15/30\n",
            "2/2 [==============================] - 1s 354ms/step - loss: 1.6544 - accuracy: 0.9273 - val_loss: 1.9019 - val_accuracy: 0.7273\n",
            "Epoch 16/30\n",
            "2/2 [==============================] - 1s 277ms/step - loss: 1.6056 - accuracy: 0.9500 - val_loss: 1.8700 - val_accuracy: 0.7636\n",
            "Epoch 17/30\n",
            "2/2 [==============================] - 1s 360ms/step - loss: 1.5462 - accuracy: 0.9636 - val_loss: 1.8386 - val_accuracy: 0.7636\n",
            "Epoch 18/30\n",
            "2/2 [==============================] - 1s 319ms/step - loss: 1.5177 - accuracy: 0.9682 - val_loss: 1.8079 - val_accuracy: 0.7636\n",
            "Epoch 19/30\n",
            "2/2 [==============================] - 1s 633ms/step - loss: 1.4541 - accuracy: 0.9909 - val_loss: 1.7777 - val_accuracy: 0.7636\n",
            "Epoch 20/30\n",
            "2/2 [==============================] - 1s 431ms/step - loss: 1.3979 - accuracy: 0.9818 - val_loss: 1.7480 - val_accuracy: 0.7636\n",
            "Epoch 21/30\n",
            "2/2 [==============================] - 1s 431ms/step - loss: 1.3700 - accuracy: 0.9864 - val_loss: 1.7188 - val_accuracy: 0.7818\n",
            "Epoch 22/30\n",
            "2/2 [==============================] - 1s 580ms/step - loss: 1.3346 - accuracy: 1.0000 - val_loss: 1.6901 - val_accuracy: 0.7818\n",
            "Epoch 23/30\n",
            "2/2 [==============================] - 1s 483ms/step - loss: 1.2514 - accuracy: 0.9864 - val_loss: 1.6619 - val_accuracy: 0.7818\n",
            "Epoch 24/30\n",
            "2/2 [==============================] - 1s 309ms/step - loss: 1.2450 - accuracy: 0.9955 - val_loss: 1.6344 - val_accuracy: 0.7818\n",
            "Epoch 25/30\n",
            "2/2 [==============================] - 1s 470ms/step - loss: 1.1836 - accuracy: 1.0000 - val_loss: 1.6073 - val_accuracy: 0.7818\n",
            "Epoch 26/30\n",
            "2/2 [==============================] - 1s 458ms/step - loss: 1.1579 - accuracy: 0.9955 - val_loss: 1.5808 - val_accuracy: 0.7818\n",
            "Epoch 27/30\n",
            "2/2 [==============================] - 1s 393ms/step - loss: 1.1029 - accuracy: 1.0000 - val_loss: 1.5548 - val_accuracy: 0.7818\n",
            "Epoch 28/30\n",
            "2/2 [==============================] - 1s 344ms/step - loss: 1.0674 - accuracy: 1.0000 - val_loss: 1.5295 - val_accuracy: 0.7818\n",
            "Epoch 29/30\n",
            "2/2 [==============================] - 1s 305ms/step - loss: 1.0464 - accuracy: 0.9955 - val_loss: 1.5050 - val_accuracy: 0.7818\n",
            "Epoch 30/30\n",
            "2/2 [==============================] - 1s 501ms/step - loss: 1.0110 - accuracy: 0.9955 - val_loss: 1.4812 - val_accuracy: 0.7818\n"
          ]
        }
      ]
    },
    {
      "cell_type": "code",
      "source": [
        "import matplotlib.pyplot as plt\n",
        "history = history.history\n",
        "\n",
        "plt.figure(figsize = (15,5))\n",
        "plt.subplot(1,2,1)\n",
        "plt.plot(history['loss'], label ='train')\n",
        "plt.plot(history['val_loss'], label = 'val')\n",
        "plt.legend()\n",
        "plt.xlabel('epoch')\n",
        "plt.ylabel('loss')\n",
        "plt.title('Loss')\n",
        "\n",
        "plt.subplot(1,2,2)\n",
        "plt.plot(history['accuracy'], label ='train')\n",
        "plt.plot(history['val_accuracy'], label = 'val')\n",
        "plt.legend()\n",
        "plt.xlabel('epoch')\n",
        "plt.ylabel('accuracy')\n",
        "plt.title('accuracy')\n",
        "plt.show\n"
      ],
      "metadata": {
        "colab": {
          "base_uri": "https://localhost:8080/",
          "height": 383
        },
        "id": "0nFzLILHF94i",
        "outputId": "95cbcaeb-76a4-41e7-b5c9-5db4d17129e9"
      },
      "execution_count": 23,
      "outputs": [
        {
          "output_type": "execute_result",
          "data": {
            "text/plain": [
              "<function matplotlib.pyplot.show(close=None, block=None)>"
            ]
          },
          "metadata": {},
          "execution_count": 23
        },
        {
          "output_type": "display_data",
          "data": {
            "text/plain": [
              "<Figure size 1500x500 with 2 Axes>"
            ],
            "image/png": "[encoded data removed]"
          },
          "metadata": {}
        }
      ]
    },
    {
      "cell_type": "code",
      "source": [],
      "metadata": {
        "id": "tj3euacXGRzr"
      },
      "execution_count": null,
      "outputs": []
    }
  ]
}