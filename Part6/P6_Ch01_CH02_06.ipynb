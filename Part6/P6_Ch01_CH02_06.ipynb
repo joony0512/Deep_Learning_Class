{
  "nbformat": 4,
  "nbformat_minor": 0,
  "metadata": {
    "colab": {
      "provenance": [],
      "gpuType": "T4",
      "mount_file_id": "1hk630nh03pmFChQ3ClHFf6HymskgiJPa",
      "authorship_tag": "ABX9TyNQDCxqMWdfujuVXYpES2PU",
      "include_colab_link": true
    },
    "kernelspec": {
      "name": "python3",
      "display_name": "Python 3"
    },
    "language_info": {
      "name": "python"
    },
    "accelerator": "GPU"
  },
  "cells": [
    {
      "cell_type": "markdown",
      "metadata": {
        "id": "view-in-github",
        "colab_type": "text"
      },
      "source": [
        "<a href=\"https://colab.research.google.com/github/joony0512/Deep_Learning_Class/blob/main/Part6/P6_Ch01_CH02_06.ipynb\" target=\"_parent\"><img src=\"https://colab.research.google.com/assets/colab-badge.svg\" alt=\"Open In Colab\"/></a>"
      ]
    },
    {
      "cell_type": "markdown",
      "source": [
        "# Multiclass Classification\n"
      ],
      "metadata": {
        "id": "PqVi5eqGPe83"
      }
    },
    {
      "cell_type": "code",
      "execution_count": 1,
      "metadata": {
        "id": "OYdyGeeSPbwR"
      },
      "outputs": [],
      "source": [
        "import os\n",
        "import math\n",
        "import cv2\n",
        "import numpy as np\n",
        "import pandas as pd\n",
        "import tensorflow as tf\n",
        "import matplotlib.pyplot as plt\n"
      ]
    },
    {
      "cell_type": "code",
      "source": [
        "# Image CLASS-ID SPECIES BREED ID\n",
        "# ID: 1:37 Class ids\n",
        "# SPECIES: 1:Cat 2:Dog\n",
        "# BREED ID: 1-25:Cat 1:12:Dog\n",
        "# All images with 1st letter as captial are cat images while\n",
        "# images with small first letter are dog images.\n",
        "\n",
        "csv_path = '/content/drive/MyDrive/data/kfolds.csv'\n",
        "\n",
        "df = pd.read_csv(csv_path)\n",
        "np.unique(df['id'])\n",
        "\n",
        "value_counts = df['id'].value_counts().sort_index()\n",
        "plt.figure(figsize = (10,5))\n",
        "plt.bar(range(len(value_counts)), value_counts.values, align = 'center')\n",
        "plt.xticks(range(len(value_counts)), value_counts.index.values )\n",
        "\n",
        "plt.tight_layout()\n",
        "plt.show()"
      ],
      "metadata": {
        "colab": {
          "base_uri": "https://localhost:8080/",
          "height": 507
        },
        "id": "GhD23xdXPzyM",
        "outputId": "0967ab00-3d57-4fbe-a6e2-ef5f9536f25b"
      },
      "execution_count": 2,
      "outputs": [
        {
          "output_type": "display_data",
          "data": {
            "text/plain": [
              "<Figure size 1000x500 with 1 Axes>"
            ],
            "image/png": "[encoded data removed]"
          },
          "metadata": {}
        }
      ]
    },
    {
      "cell_type": "code",
      "source": [
        "from tensorflow.keras.applications import EfficientNetB0\n",
        "from tensorflow import keras\n",
        "from tensorflow.keras import layers\n",
        "from tensorflow.keras import activations\n",
        "\n",
        "def get_model(input_shape):\n",
        "  inputs = keras.Input(input_shape)\n",
        "  base_model = EfficientNetB0(\n",
        "      input_shape = input_shape,\n",
        "      weights = 'imagenet',\n",
        "      include_top = False,   # True : 분류까지 다 가져옴, False : 피처벡터 추출까지만 가져옴\n",
        "      pooling = 'avg',\n",
        "  )\n",
        "\n",
        "  x = base_model(inputs)\n",
        "  outputs = layers.Dense(37, activation= 'softmax')(x)\n",
        "  model = keras.Model(inputs, outputs)\n",
        "  return model\n",
        "\n",
        "input_shape =(256, 256, 3)\n",
        "model = get_model(input_shape)\n",
        "\n",
        "adam = keras.optimizers.Adam(learning_rate = 0.0001)\n",
        "\n",
        "model.compile(\n",
        "    optimizer = adam,\n",
        "    loss = 'sparse_categorical_crossentropy', # label을 one-hot인코딩 하지 않아도 학습 가능\n",
        "    metrics = 'accuracy'\n",
        ")\n",
        "\n",
        "model.summary()"
      ],
      "metadata": {
        "colab": {
          "base_uri": "https://localhost:8080/"
        },
        "id": "1ZSAPHbnQMTX",
        "outputId": "64ddfe3d-8c27-487e-93b4-064bc27d34b2"
      },
      "execution_count": 3,
      "outputs": [
        {
          "output_type": "stream",
          "name": "stdout",
          "text": [
            "Downloading data from https://storage.googleapis.com/keras-applications/efficientnetb0_notop.h5\n",
            "16705208/16705208 [==============================] - 0s 0us/step\n",
            "Model: \"model\"\n",
            "_________________________________________________________________\n",
            " Layer (type)                Output Shape              Param #   \n",
            "=================================================================\n",
            " input_1 (InputLayer)        [(None, 256, 256, 3)]     0         \n",
            "                                                                 \n",
            " efficientnetb0 (Functional  (None, 1280)              4049571   \n",
            " )                                                               \n",
            "                                                                 \n",
            " dense (Dense)               (None, 37)                47397     \n",
            "                                                                 \n",
            "=================================================================\n",
            "Total params: 4096968 (15.63 MB)\n",
            "Trainable params: 4054945 (15.47 MB)\n",
            "Non-trainable params: 42023 (164.16 KB)\n",
            "_________________________________________________________________\n"
          ]
        }
      ]
    },
    {
      "cell_type": "code",
      "source": [
        "import albumentations as A\n",
        "import cv2\n",
        "\n",
        "class Augmentation:\n",
        "  def __init__(self, size, mode ='train'):\n",
        "    if mode =='train':\n",
        "      # Declare an augmentation pipeline\n",
        "      self.transform = A.Compose([\n",
        "          A.HorizontalFlip(p=0.5), # 좌우반전, p(적용할 확률)\n",
        "          A.ShiftScaleRotate(\n",
        "              p = 0.5,\n",
        "              shift_limit = 0.05,\n",
        "              scale_limit = 0.05,\n",
        "              rotate_limit = 15,\n",
        "          ), # 이동%, 확대축소%, 회전각도 제약걸기\n",
        "          A.CoarseDropout(\n",
        "              p = 0.5,\n",
        "              max_holes =8,\n",
        "              max_height = int(0.1 * size),\n",
        "              max_width = int(0.1 * size),\n",
        "          ),\n",
        "          A.RandomBrightnessContrast(p=0.2),\n",
        "      ])\n",
        "\n",
        "  def __call__(self, **kwargs):\n",
        "    if self.transform:\n",
        "      aumented = self.transform(**kwargs)\n",
        "      img = aumented['image']\n",
        "      return img\n"
      ],
      "metadata": {
        "id": "NCZBQh3kRwvI"
      },
      "execution_count": 4,
      "outputs": []
    },
    {
      "cell_type": "code",
      "source": [
        "class DataGenerator(keras.utils.Sequence):\n",
        "    def __init__(\n",
        "        self,\n",
        "        batch_size,\n",
        "        csv_path,\n",
        "        fold,\n",
        "        image_size,\n",
        "        mode ='train',\n",
        "        shuffle = True):\n",
        "\n",
        "        self.batch_size = batch_size\n",
        "        self.image_size = image_size\n",
        "        self.fold = fold\n",
        "        self.mode = mode\n",
        "        self.shuffle = shuffle\n",
        "\n",
        "        self.df = pd.read_csv(csv_path)\n",
        "\n",
        "        if self.mode == 'train':\n",
        "            self.df = self.df[self.df['fold'] != self.fold]\n",
        "        elif self.mode =='val':\n",
        "            self.df = self.df[self.df['fold'] == self.fold]\n",
        "\n",
        "\n",
        "        ### Remove invalid files\n",
        "        ### https://github.com/tensorflow/models/issues/3134\n",
        "        invalid_filenames = [\n",
        "            'Egyptian_Mau_14',\n",
        "            'Egyptian_Mau_139',\n",
        "            'Egyptian_Mau_145',\n",
        "            'Egyptian_Mau_156',\n",
        "            'Egyptian_Mau_167',\n",
        "            'Egyptian_Mau_177',\n",
        "            'Egyptian_Mau_186',\n",
        "            'Egyptian_Mau_191',\n",
        "            'Abyssinian_5',\n",
        "            'Abyssinian_34',\n",
        "            'chihuahua_121',\n",
        "            'beagle_116'\n",
        "        ]\n",
        "        self.df = self.df[~self.df['filename'].isin(invalid_filenames)]\n",
        "        self.transform = Augmentation(image_size, mode)\n",
        "\n",
        "        self.on_epoch_end()\n",
        "\n",
        "\n",
        "    def __len__(self):\n",
        "        return math.ceil(len(self.df)/self.batch_size)\n",
        "\n",
        "    def __getitem__(self, idx):\n",
        "        strt = idx * self.batch_size\n",
        "        fin = (idx + 1)* self.batch_size\n",
        "        data = self.df.iloc[strt:fin]\n",
        "\n",
        "        batch_x, batch_y = self.get_data(data)\n",
        "\n",
        "        return np.array(batch_x), np.array(batch_y)\n",
        "\n",
        "    def get_data(self, data):\n",
        "        batch_x =[]\n",
        "        batch_y =[]\n",
        "\n",
        "        for _, r in data.iterrows():\n",
        "            file_name = r['filename']\n",
        "\n",
        "            image = cv2.imread(f'/content/drive/MyDrive/data/images/{file_name}.jpg')\n",
        "            image = cv2.cvtColor(image, cv2.COLOR_BGR2RGB)\n",
        "\n",
        "            # input image resize (배치로 묶기위해)\n",
        "            image = cv2.resize(image, (self.image_size, self.image_size))\n",
        "\n",
        "            if self.mode == 'train':\n",
        "              image = image.astype('uint8')\n",
        "              image = self.transform(image = image)\n",
        "\n",
        "            # rescaling\n",
        "            image = image /255.\n",
        "\n",
        "            # id - 1을 label로 사용\n",
        "            label = int(r['id']) -1\n",
        "\n",
        "            batch_x.append(image)\n",
        "            batch_y.append(label)\n",
        "        return batch_x, batch_y\n",
        "\n",
        "\n",
        "\n",
        "    def on_epoch_end(self): # callback function\n",
        "        if self.shuffle:\n",
        "            self.df = self.df.sample(frac =1).reset_index(drop=True)\n"
      ],
      "metadata": {
        "id": "91qJ-qyzR02d"
      },
      "execution_count": 9,
      "outputs": []
    },
    {
      "cell_type": "code",
      "source": [
        "csv_path = '/content/drive/MyDrive/data/kfolds.csv'\n",
        "train_generator = DataGenerator(\n",
        "    batch_size = 64,\n",
        "    csv_path =csv_path,\n",
        "    fold = 1,\n",
        "    image_size = 256,\n",
        "    mode ='train',\n",
        "    shuffle = True\n",
        ")\n",
        "\n",
        "val_generator = DataGenerator(\n",
        "    batch_size = 64,\n",
        "    csv_path =csv_path,\n",
        "    fold = 1,\n",
        "    image_size = 256,\n",
        "    mode ='val',\n",
        "    shuffle = True\n",
        ")"
      ],
      "metadata": {
        "id": "2G3JjT0RSUrk"
      },
      "execution_count": 12,
      "outputs": []
    },
    {
      "cell_type": "code",
      "source": [
        "history = model.fit(\n",
        "    train_generator,\n",
        "    validation_data = val_generator,\n",
        "    epochs = 10,\n",
        "    verbose = 1\n",
        ")"
      ],
      "metadata": {
        "colab": {
          "base_uri": "https://localhost:8080/"
        },
        "id": "mIZG5C2HSX3o",
        "outputId": "87a845d3-b647-4173-f722-47e5c8078e21"
      },
      "execution_count": null,
      "outputs": [
        {
          "output_type": "stream",
          "name": "stdout",
          "text": [
            "Epoch 1/10\n",
            " 6/92 [>.............................] - ETA: 13:58 - loss: 3.6690 - accuracy: 0.0312"
          ]
        }
      ]
    },
    {
      "cell_type": "code",
      "source": [
        "import matplotlib.pyplot as plt\n",
        "history = history.history\n",
        "\n",
        "plt.figure(figsize = (15,5))\n",
        "plt.subplot(1,2,1)\n",
        "plt.plot(history['loss'], label ='train')\n",
        "plt.plot(history['val_loss'], label = 'val')\n",
        "plt.legend()\n",
        "plt.xlabel('epoch')\n",
        "plt.ylabel('loss')\n",
        "plt.title('Loss')\n",
        "\n",
        "plt.subplot(1,2,2)\n",
        "plt.plot(history['accuracy'], label ='train')\n",
        "plt.plot(history['val_accuracy'], label = 'val')\n",
        "plt.legend()\n",
        "plt.xlabel('epoch')\n",
        "plt.ylabel('accuracy')\n",
        "plt.title('Accuracy')\n",
        "plt.show\n"
      ],
      "metadata": {
        "id": "ZPl9Ph31S6dQ"
      },
      "execution_count": null,
      "outputs": []
    },
    {
      "cell_type": "code",
      "source": [],
      "metadata": {
        "id": "PyIh2lD9TBeH"
      },
      "execution_count": null,
      "outputs": []
    }
  ]
}