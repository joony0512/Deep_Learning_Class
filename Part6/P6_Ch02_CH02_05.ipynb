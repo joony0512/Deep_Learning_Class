{
  "nbformat": 4,
  "nbformat_minor": 0,
  "metadata": {
    "colab": {
      "provenance": [],
      "authorship_tag": "ABX9TyM1O8C8+FtQcsklPCy26Ej9",
      "include_colab_link": true
    },
    "kernelspec": {
      "name": "python3",
      "display_name": "Python 3"
    },
    "language_info": {
      "name": "python"
    }
  },
  "cells": [
    {
      "cell_type": "markdown",
      "metadata": {
        "id": "view-in-github",
        "colab_type": "text"
      },
      "source": [
        "<a href=\"https://colab.research.google.com/github/joony0512/Deep_Learning_Class/blob/main/Part6/P6_Ch02_CH02_05.ipynb\" target=\"_parent\"><img src=\"https://colab.research.google.com/assets/colab-badge.svg\" alt=\"Open In Colab\"/></a>"
      ]
    },
    {
      "cell_type": "markdown",
      "source": [
        "# Moving Average를 활용한 비디오 classification 후처리\n"
      ],
      "metadata": {
        "id": "fJpJ6iiql-mD"
      }
    },
    {
      "cell_type": "code",
      "execution_count": 1,
      "metadata": {
        "colab": {
          "base_uri": "https://localhost:8080/"
        },
        "id": "Q9XBJdBrlxxg",
        "outputId": "062a5ec9-fc78-4755-c691-b0fa6f157e61"
      },
      "outputs": [
        {
          "output_type": "stream",
          "name": "stdout",
          "text": [
            "Mounted at /content/drive\n"
          ]
        }
      ],
      "source": [
        "from google.colab import drive\n",
        "drive.mount('/content/drive')"
      ]
    },
    {
      "cell_type": "code",
      "source": [
        "import cv2\n",
        "import random\n",
        "import numpy as np\n",
        "import pandas as pd\n",
        "import matplotlib.pyplot as plt\n",
        "from pprint import pprint\n",
        "from glob import glob\n",
        "import os\n",
        "import tensorflow_hub as hub\n"
      ],
      "metadata": {
        "id": "VfwtDK9rl9a3"
      },
      "execution_count": 2,
      "outputs": []
    },
    {
      "cell_type": "code",
      "source": [
        "LABEL_INT_DICT = np.unique(pd.read_csv('/content/drive/MyDrive/딥러닝 정주행/P6_Ch02.동영상처리실습/ucf11_train_vid.csv')['label'])\n",
        "LABEL_STR_DICT = { k:v for v, k in enumerate(LABEL_INT_DICT)}\n",
        "pprint(LABEL_INT_DICT)\n",
        "pprint(LABEL_STR_DICT)\n"
      ],
      "metadata": {
        "colab": {
          "base_uri": "https://localhost:8080/"
        },
        "id": "Qb6yqVM3maa0",
        "outputId": "f820a8a4-06ef-4123-a51a-6ab5dab761fe"
      },
      "execution_count": 3,
      "outputs": [
        {
          "output_type": "stream",
          "name": "stdout",
          "text": [
            "array(['biking', 'diving', 'golf', 'juggle', 'jumping', 'riding',\n",
            "       'shooting', 'spiking', 'swing', 'tennis', 'walk'], dtype=object)\n",
            "{'biking': 0,\n",
            " 'diving': 1,\n",
            " 'golf': 2,\n",
            " 'juggle': 3,\n",
            " 'jumping': 4,\n",
            " 'riding': 5,\n",
            " 'shooting': 6,\n",
            " 'spiking': 7,\n",
            " 'swing': 8,\n",
            " 'tennis': 9,\n",
            " 'walk': 10}\n"
          ]
        }
      ]
    },
    {
      "cell_type": "code",
      "source": [
        "import os\n",
        "import tensorflow_hub as hub\n",
        "import tensorflow as tf\n",
        "from tensorflow import keras\n",
        "\n",
        "model = keras.models.load_model(\n",
        "    '/content/drive/MyDrive/딥러닝 정주행/P6_Ch02.동영상처리실습/ucf11_weights/10-0.78.hdf5',\n",
        "    custom_objects={'KerasLayer': hub.KerasLayer}\n",
        ")\n",
        "\n",
        "model.build([None, 256,256,3])"
      ],
      "metadata": {
        "id": "76Em1z1qmcaY"
      },
      "execution_count": 4,
      "outputs": []
    },
    {
      "cell_type": "code",
      "source": [
        "model.summary()"
      ],
      "metadata": {
        "colab": {
          "base_uri": "https://localhost:8080/"
        },
        "id": "arGhHqjwqm6f",
        "outputId": "25a6f7c5-1b6f-4bae-bade-f5d62ec86858"
      },
      "execution_count": 5,
      "outputs": [
        {
          "output_type": "stream",
          "name": "stdout",
          "text": [
            "Model: \"sequential\"\n",
            "_________________________________________________________________\n",
            " Layer (type)                Output Shape              Param #   \n",
            "=================================================================\n",
            " keras_layer (KerasLayer)    (None, 1280)              5919312   \n",
            "                                                                 \n",
            " dense (Dense)               (None, 11)                14091     \n",
            "                                                                 \n",
            "=================================================================\n",
            "Total params: 5933403 (22.63 MB)\n",
            "Trainable params: 5872795 (22.40 MB)\n",
            "Non-trainable params: 60608 (236.75 KB)\n",
            "_________________________________________________________________\n"
          ]
        }
      ]
    },
    {
      "cell_type": "code",
      "source": [
        "csv_path = '/content/drive/MyDrive/딥러닝 정주행/P6_Ch02.동영상처리실습/ucf11_valid_vid.csv'\n",
        "valid_df = pd.read_csv(csv_path)\n",
        "\n",
        "idx = 21\n",
        "elem = valid_df.iloc[idx]\n",
        "\n",
        "cap = cv2.VideoCapture(\n",
        "    elem['file_path']\n",
        ")\n",
        "fourcc = cv2.VideoWriter_fourcc(*'MJPG') # 비디오 인코더\n",
        "writer = cv2.VideoWriter('/content/drive/MyDrive/딥러닝 정주행/P6_Ch02.동영상처리실습/ori.avi', fourcc, 30, (256,256), True)\n",
        "\n",
        "while True :\n",
        "    ret, frame =cap.read()\n",
        "    if not ret :\n",
        "        break\n",
        "    frame_ = frame.copy()\n",
        "    frame_ = cv2.cvtColor(frame, cv2.COLOR_BGR2RGB)\n",
        "    frame_ = frame_.astype('float32')\n",
        "    frame_ = frame_ /255.\n",
        "\n",
        "    pred = model.predict(frame_[np.newaxis, ...])\n",
        "    label = LABEL_INT_DICT[np.argmax(pred)]\n",
        "\n",
        "    frame = cv2.resize(frame, (256, 256))\n",
        "    cv2.putText(frame, label, (50,45), cv2.FONT_HERSHEY_SIMPLEX, #frame에 label 덮기 위치, 폰트, 폰트사이즈, 색, 굵기\n",
        "                1.5, (0, 255, 0), 5)\n",
        "    writer.write(frame)\n",
        "\n",
        "cap.release()\n",
        "writer.release()"
      ],
      "metadata": {
        "id": "Ug4bRJHQqtTe"
      },
      "execution_count": null,
      "outputs": []
    },
    {
      "cell_type": "code",
      "source": [
        "# Moving average 를 사용해 fully connect를 막는다.\n",
        "cap = cv2.VideoCapture(\n",
        "    elem['file_path']\n",
        ")\n",
        "fourcc = cv2.VideoWriter_fourcc(*'MJPG') # 비디오 인코더\n",
        "writer = cv2.VideoWriter('/content/drive/MyDrive/딥러닝 정주행/P6_Ch02.동영상처리실습/roll.avi', fourcc, 30, (256,256), True)\n",
        "\n",
        "queue =[]\n",
        "while True :\n",
        "    ret, frame =cap.read()\n",
        "    if not ret :\n",
        "        break\n",
        "    frame_ = frame.copy()\n",
        "    frame_ = cv2.cvtColor(frame, cv2.COLOR_BGR2RGB)\n",
        "    frame_ = frame_.astype('float32')\n",
        "    frame_ = frame_ /255.\n",
        "\n",
        "    pred = model.predict(frame_[np.newaxis, ...])\n",
        "    queue.append(pred)\n",
        "\n",
        "    results = np.array(queue).mean(axis =0)\n",
        "    label = LABEL_INT_DICT[np.argmax(results)]\n",
        "\n",
        "    frame = cv2.resize(frame, (256, 256))\n",
        "    cv2.putText(frame, label, (50,45), cv2.FONT_HERSHEY_SIMPLEX, #frame에 label 덮기 위치, 폰트, 폰트사이즈, 색, 굵기\n",
        "                1.5, (0, 255, 0), 5)\n",
        "    writer.write(frame)\n",
        "\n",
        "cap.release()\n",
        "writer.release()"
      ],
      "metadata": {
        "id": "z2Os78p_y2Q-"
      },
      "execution_count": null,
      "outputs": []
    }
  ]
}