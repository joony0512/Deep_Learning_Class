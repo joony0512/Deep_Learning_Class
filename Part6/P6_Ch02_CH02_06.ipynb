{
  "nbformat": 4,
  "nbformat_minor": 0,
  "metadata": {
    "colab": {
      "provenance": [],
      "gpuType": "V100",
      "mount_file_id": "1tJoKkkFgkjEowLPxUYy6PJNfEKst9X6E",
      "authorship_tag": "ABX9TyOvM9acC50NXAvc+rzRMQEn",
      "include_colab_link": true
    },
    "kernelspec": {
      "name": "python3",
      "display_name": "Python 3"
    },
    "language_info": {
      "name": "python"
    },
    "accelerator": "GPU"
  },
  "cells": [
    {
      "cell_type": "markdown",
      "metadata": {
        "id": "view-in-github",
        "colab_type": "text"
      },
      "source": [
        "<a href=\"https://colab.research.google.com/github/joony0512/Deep_Learning_Class/blob/main/Part6/P6_Ch02_CH02_06.ipynb\" target=\"_parent\"><img src=\"https://colab.research.google.com/assets/colab-badge.svg\" alt=\"Open In Colab\"/></a>"
      ]
    },
    {
      "cell_type": "markdown",
      "source": [
        "# Data Preparation - RNN Approach\n"
      ],
      "metadata": {
        "id": "hirAGDyiQbvM"
      }
    },
    {
      "cell_type": "code",
      "execution_count": 1,
      "metadata": {
        "id": "Z43mqjOhQaXm"
      },
      "outputs": [],
      "source": [
        "import os\n",
        "import cv2\n",
        "import random\n",
        "import numpy as np\n",
        "import pandas as pd\n",
        "import matplotlib.pyplot as plt\n",
        "from tqdm import tqdm\n",
        "from glob import glob\n",
        "from pprint import pprint\n",
        "\n",
        "import tensorflow_hub as hub\n",
        "import tensorflow as tf\n",
        "from tensorflow import keras"
      ]
    },
    {
      "cell_type": "code",
      "source": [
        "model = keras.models.load_model(\n",
        "    '/content/drive/MyDrive/딥러닝 정주행/P6_Ch02.동영상처리실습/ucf11_weights/10-0.78.hdf5',\n",
        "    custom_objects={'KerasLayer' : hub.KerasLayer}\n",
        ")\n",
        "\n"
      ],
      "metadata": {
        "id": "-PwrKhCoQ8DQ"
      },
      "execution_count": 2,
      "outputs": []
    },
    {
      "cell_type": "code",
      "source": [
        "model.summary()"
      ],
      "metadata": {
        "colab": {
          "base_uri": "https://localhost:8080/"
        },
        "id": "hc5etxNBR--7",
        "outputId": "b1c6c5ef-8f1f-4b9f-c9b7-f3d8c6663095"
      },
      "execution_count": 3,
      "outputs": [
        {
          "output_type": "stream",
          "name": "stdout",
          "text": [
            "Model: \"sequential\"\n",
            "_________________________________________________________________\n",
            " Layer (type)                Output Shape              Param #   \n",
            "=================================================================\n",
            " keras_layer (KerasLayer)    (None, 1280)              5919312   \n",
            "                                                                 \n",
            " dense (Dense)               (None, 11)                14091     \n",
            "                                                                 \n",
            "=================================================================\n",
            "Total params: 5933403 (22.63 MB)\n",
            "Trainable params: 5872795 (22.40 MB)\n",
            "Non-trainable params: 60608 (236.75 KB)\n",
            "_________________________________________________________________\n"
          ]
        }
      ]
    },
    {
      "cell_type": "code",
      "source": [
        "# feature extracter 만 사용할것이기 때문에 dense를 거둬야한다\n",
        "\n",
        "feature_extractor = keras.Sequential(\n",
        "    [\n",
        "        keras.Input(shape = (256,256,3)),\n",
        "        model.layers[0]\n",
        "    ], name = 'feature_extractor'\n",
        ")\n",
        "\n",
        "feature_extractor.summary()"
      ],
      "metadata": {
        "colab": {
          "base_uri": "https://localhost:8080/"
        },
        "id": "14IvZjLhSLyV",
        "outputId": "cd0044d2-9c6f-48b7-f307-1825724406d6"
      },
      "execution_count": 4,
      "outputs": [
        {
          "output_type": "stream",
          "name": "stdout",
          "text": [
            "Model: \"feature_extractor\"\n",
            "_________________________________________________________________\n",
            " Layer (type)                Output Shape              Param #   \n",
            "=================================================================\n",
            " keras_layer (KerasLayer)    (None, 1280)              5919312   \n",
            "                                                                 \n",
            "=================================================================\n",
            "Total params: 5919312 (22.58 MB)\n",
            "Trainable params: 5858704 (22.35 MB)\n",
            "Non-trainable params: 60608 (236.75 KB)\n",
            "_________________________________________________________________\n"
          ]
        }
      ]
    },
    {
      "cell_type": "code",
      "source": [
        "# os.mkdir('/content/drive/MyDrive/딥러닝 정주행/P6_Ch02.동영상처리실습/UCF11_updated_numpy')\n",
        "# os.mkdir('/content/drive/MyDrive/딥러닝 정주행/P6_Ch02.동영상처리실습/UCF11_updated_numpy/train')\n",
        "# os.mkdir('/content/drive/MyDrive/딥러닝 정주행/P6_Ch02.동영상처리실습/UCF11_updated_numpy/valid')"
      ],
      "metadata": {
        "id": "t-BRQRAeTHB3"
      },
      "execution_count": null,
      "outputs": []
    },
    {
      "cell_type": "code",
      "source": [
        "max_frames = 10\n",
        "SAVE_DIR = '/content/drive/MyDrive/딥러닝 정주행/P6_Ch02.동영상처리실습/UCF11_updated_numpy/'\n",
        "train_df = pd.read_csv('/content/drive/MyDrive/딥러닝 정주행/P6_Ch02.동영상처리실습/ucf11_train_vid.csv')\n",
        "valid_df = pd.read_csv('/content/drive/MyDrive/딥러닝 정주행/P6_Ch02.동영상처리실습/ucf11_valid_vid.csv')"
      ],
      "metadata": {
        "id": "6Nm1W85DTZXt"
      },
      "execution_count": 13,
      "outputs": []
    },
    {
      "cell_type": "code",
      "source": [
        "for i, elem in tqdm(train_df.iterrows(), total=len(train_df)):\n",
        "    label = elem['label']\n",
        "    cap = cv2.VideoCapture(elem['file_path'])\n",
        "    frames = []\n",
        "\n",
        "    while True:\n",
        "        ret, frame = cap.read()\n",
        "        if not ret:\n",
        "            break\n",
        "\n",
        "        frame_ = frame.copy()\n",
        "        frame_ = cv2.cvtColor(frame_, cv2.COLOR_BGR2RGB)\n",
        "        frame_ = cv2.resize(frame_, (256, 256))\n",
        "        frame_ = frame_.astype('float32')\n",
        "        frame_ = frame_ / 255.\n",
        "\n",
        "        frames.append(frame_)\n",
        "\n",
        "        if len(frames) == max_frames:\n",
        "            break\n",
        "\n",
        "    cap.release()\n",
        "\n",
        "    frames = np.array(frames)\n",
        "    features = feature_extractor.predict(frames)\n",
        "\n",
        "    file_name = SAVE_DIR + f'train/{label}_{i}.npy'\n",
        "    np.save(file_name, features)\n"
      ],
      "metadata": {
        "id": "lMBJx50FTzB9"
      },
      "execution_count": null,
      "outputs": []
    },
    {
      "cell_type": "code",
      "source": [
        "print(len(glob(SAVE_DIR + 'train/*')))"
      ],
      "metadata": {
        "colab": {
          "base_uri": "https://localhost:8080/"
        },
        "id": "cSk8J7qmiVV5",
        "outputId": "fe7e47a3-0489-400e-cda2-a931ca3c08a4"
      },
      "execution_count": 14,
      "outputs": [
        {
          "output_type": "stream",
          "name": "stdout",
          "text": [
            "220\n"
          ]
        }
      ]
    },
    {
      "cell_type": "code",
      "source": [
        "for i, elem in tqdm(valid_df.iterrows(), total=len(valid_df)):\n",
        "    label = elem['label']\n",
        "    cap = cv2.VideoCapture(elem['file_path'])\n",
        "    frames = []\n",
        "\n",
        "    while True:\n",
        "        ret, frame = cap.read()\n",
        "        if not ret:\n",
        "            break\n",
        "\n",
        "        frame_ = frame.copy()\n",
        "        frame_ = cv2.cvtColor(frame_, cv2.COLOR_BGR2RGB)\n",
        "        frame_ = cv2.resize(frame_, (256, 256))\n",
        "        frame_ = frame_.astype('float32')\n",
        "        frame_ = frame_ / 255.\n",
        "\n",
        "        frames.append(frame_)\n",
        "\n",
        "        if len(frames) == max_frames:\n",
        "            break\n",
        "\n",
        "    cap.release()\n",
        "\n",
        "    frames = np.array(frames)\n",
        "    features = feature_extractor.predict(frames)\n",
        "\n",
        "    file_name = SAVE_DIR + f'valid/{label}_{i}.npy'\n",
        "    np.save(file_name, features)\n"
      ],
      "metadata": {
        "id": "ePcZBJ61mIL0"
      },
      "execution_count": null,
      "outputs": []
    },
    {
      "cell_type": "code",
      "source": [
        "print(len(glob(SAVE_DIR + 'valid/*')))"
      ],
      "metadata": {
        "colab": {
          "base_uri": "https://localhost:8080/"
        },
        "id": "a1pw87eZmTy-",
        "outputId": "bb481b7d-8451-44c5-877d-3845df333b5f"
      },
      "execution_count": 16,
      "outputs": [
        {
          "output_type": "stream",
          "name": "stdout",
          "text": [
            "55\n"
          ]
        }
      ]
    },
    {
      "cell_type": "code",
      "source": [],
      "metadata": {
        "id": "YbkmJ0vMmjMB"
      },
      "execution_count": null,
      "outputs": []
    }
  ]
}